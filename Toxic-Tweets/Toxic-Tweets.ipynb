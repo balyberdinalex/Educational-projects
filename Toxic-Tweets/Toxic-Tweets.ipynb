{
 "cells": [
  {
   "cell_type": "markdown",
   "metadata": {
    "toc": true
   },
   "source": [
    "<h1>Содержание<span class=\"tocSkip\"></span></h1>\n",
    "<div class=\"toc\"><ul class=\"toc-item\"><li><span><a href=\"#Подготовка\" data-toc-modified-id=\"Подготовка-1\"><span class=\"toc-item-num\">1&nbsp;&nbsp;</span>Подготовка</a></span></li><li><span><a href=\"#Обучение\" data-toc-modified-id=\"Обучение-2\"><span class=\"toc-item-num\">2&nbsp;&nbsp;</span>Обучение</a></span><ul class=\"toc-item\"><li><span><a href=\"#LogisticRegression\" data-toc-modified-id=\"LogisticRegression-2.1\"><span class=\"toc-item-num\">2.1&nbsp;&nbsp;</span>LogisticRegression</a></span></li><li><span><a href=\"#RandomForestClassifier\" data-toc-modified-id=\"RandomForestClassifier-2.2\"><span class=\"toc-item-num\">2.2&nbsp;&nbsp;</span>RandomForestClassifier</a></span></li></ul></li><li><span><a href=\"#Выводы\" data-toc-modified-id=\"Выводы-3\"><span class=\"toc-item-num\">3&nbsp;&nbsp;</span>Выводы</a></span></li></ul></div>"
   ]
  },
  {
   "cell_type": "markdown",
   "metadata": {},
   "source": [
    "# Проект для «Викишоп»"
   ]
  },
  {
   "cell_type": "markdown",
   "metadata": {},
   "source": [
    "Интернет-магазин «Викишоп» запускает новый сервис. Теперь пользователи могут редактировать и дополнять описания товаров, как в вики-сообществах. То есть клиенты предлагают свои правки и комментируют изменения других. Магазину нужен инструмент, который будет искать токсичные комментарии и отправлять их на модерацию. \n",
    "\n",
    "Обучите модель классифицировать комментарии на позитивные и негативные. В вашем распоряжении набор данных с разметкой о токсичности правок.\n",
    "\n",
    "Постройте модель со значением метрики качества *F1* не меньше 0.75. "
   ]
  },
  {
   "cell_type": "markdown",
   "metadata": {},
   "source": [
    "## Подготовка"
   ]
  },
  {
   "cell_type": "code",
   "execution_count": 1,
   "metadata": {},
   "outputs": [],
   "source": [
    "import pandas as pd\n",
    "import numpy as np\n",
    "import nltk\n",
    "from nltk.corpus import stopwords as nltk_stopwords\n",
    "from sklearn.feature_extraction.text import TfidfVectorizer\n",
    "from pymystem3 import Mystem\n",
    "import re\n",
    "from sklearn.model_selection import train_test_split #Функция для разделения датасета на обучающую и тестовую выборку\n",
    "from sklearn.linear_model import LogisticRegression # логистическая регрессия алгоритм классификации\n",
    "from sklearn.metrics import f1_score\n",
    "from sklearn.ensemble import RandomForestClassifier\n",
    "from sklearn.model_selection import GridSearchCV\n",
    "\n",
    "from tqdm import tqdm\n",
    "tqdm.pandas()\n",
    "\n",
    "from nltk.stem import WordNetLemmatizer \n",
    "from nltk.stem import PorterStemmer\n",
    "from nltk.tokenize import word_tokenize\n"
   ]
  },
  {
   "cell_type": "code",
   "execution_count": 2,
   "metadata": {},
   "outputs": [],
   "source": [
    "data = pd.read_csv('/datasets/toxic_comments.csv')#\n"
   ]
  },
  {
   "cell_type": "code",
   "execution_count": 3,
   "metadata": {
    "scrolled": true
   },
   "outputs": [
    {
     "data": {
      "text/html": [
       "<div>\n",
       "<style scoped>\n",
       "    .dataframe tbody tr th:only-of-type {\n",
       "        vertical-align: middle;\n",
       "    }\n",
       "\n",
       "    .dataframe tbody tr th {\n",
       "        vertical-align: top;\n",
       "    }\n",
       "\n",
       "    .dataframe thead th {\n",
       "        text-align: right;\n",
       "    }\n",
       "</style>\n",
       "<table border=\"1\" class=\"dataframe\">\n",
       "  <thead>\n",
       "    <tr style=\"text-align: right;\">\n",
       "      <th></th>\n",
       "      <th>text</th>\n",
       "      <th>toxic</th>\n",
       "    </tr>\n",
       "  </thead>\n",
       "  <tbody>\n",
       "    <tr>\n",
       "      <th>0</th>\n",
       "      <td>Explanation\\nWhy the edits made under my usern...</td>\n",
       "      <td>0</td>\n",
       "    </tr>\n",
       "    <tr>\n",
       "      <th>1</th>\n",
       "      <td>D'aww! He matches this background colour I'm s...</td>\n",
       "      <td>0</td>\n",
       "    </tr>\n",
       "    <tr>\n",
       "      <th>2</th>\n",
       "      <td>Hey man, I'm really not trying to edit war. It...</td>\n",
       "      <td>0</td>\n",
       "    </tr>\n",
       "    <tr>\n",
       "      <th>3</th>\n",
       "      <td>\"\\nMore\\nI can't make any real suggestions on ...</td>\n",
       "      <td>0</td>\n",
       "    </tr>\n",
       "    <tr>\n",
       "      <th>4</th>\n",
       "      <td>You, sir, are my hero. Any chance you remember...</td>\n",
       "      <td>0</td>\n",
       "    </tr>\n",
       "    <tr>\n",
       "      <th>...</th>\n",
       "      <td>...</td>\n",
       "      <td>...</td>\n",
       "    </tr>\n",
       "    <tr>\n",
       "      <th>159566</th>\n",
       "      <td>\":::::And for the second time of asking, when ...</td>\n",
       "      <td>0</td>\n",
       "    </tr>\n",
       "    <tr>\n",
       "      <th>159567</th>\n",
       "      <td>You should be ashamed of yourself \\n\\nThat is ...</td>\n",
       "      <td>0</td>\n",
       "    </tr>\n",
       "    <tr>\n",
       "      <th>159568</th>\n",
       "      <td>Spitzer \\n\\nUmm, theres no actual article for ...</td>\n",
       "      <td>0</td>\n",
       "    </tr>\n",
       "    <tr>\n",
       "      <th>159569</th>\n",
       "      <td>And it looks like it was actually you who put ...</td>\n",
       "      <td>0</td>\n",
       "    </tr>\n",
       "    <tr>\n",
       "      <th>159570</th>\n",
       "      <td>\"\\nAnd ... I really don't think you understand...</td>\n",
       "      <td>0</td>\n",
       "    </tr>\n",
       "  </tbody>\n",
       "</table>\n",
       "<p>159571 rows × 2 columns</p>\n",
       "</div>"
      ],
      "text/plain": [
       "                                                     text  toxic\n",
       "0       Explanation\\nWhy the edits made under my usern...      0\n",
       "1       D'aww! He matches this background colour I'm s...      0\n",
       "2       Hey man, I'm really not trying to edit war. It...      0\n",
       "3       \"\\nMore\\nI can't make any real suggestions on ...      0\n",
       "4       You, sir, are my hero. Any chance you remember...      0\n",
       "...                                                   ...    ...\n",
       "159566  \":::::And for the second time of asking, when ...      0\n",
       "159567  You should be ashamed of yourself \\n\\nThat is ...      0\n",
       "159568  Spitzer \\n\\nUmm, theres no actual article for ...      0\n",
       "159569  And it looks like it was actually you who put ...      0\n",
       "159570  \"\\nAnd ... I really don't think you understand...      0\n",
       "\n",
       "[159571 rows x 2 columns]"
      ]
     },
     "metadata": {},
     "output_type": "display_data"
    }
   ],
   "source": [
    "display(data)"
   ]
  },
  {
   "cell_type": "markdown",
   "metadata": {},
   "source": [
    "Проверка пропусков"
   ]
  },
  {
   "cell_type": "code",
   "execution_count": 4,
   "metadata": {
    "scrolled": true
   },
   "outputs": [
    {
     "name": "stdout",
     "output_type": "stream",
     "text": [
      "<class 'pandas.core.frame.DataFrame'>\n",
      "RangeIndex: 159571 entries, 0 to 159570\n",
      "Data columns (total 2 columns):\n",
      " #   Column  Non-Null Count   Dtype \n",
      "---  ------  --------------   ----- \n",
      " 0   text    159571 non-null  object\n",
      " 1   toxic   159571 non-null  int64 \n",
      "dtypes: int64(1), object(1)\n",
      "memory usage: 2.4+ MB\n"
     ]
    }
   ],
   "source": [
    "data.info()"
   ]
  },
  {
   "cell_type": "markdown",
   "metadata": {},
   "source": [
    "Считаем сколько в выборке 0 и 1."
   ]
  },
  {
   "cell_type": "code",
   "execution_count": 5,
   "metadata": {
    "scrolled": true
   },
   "outputs": [
    {
     "data": {
      "text/plain": [
       "0    143346\n",
       "1     16225\n",
       "Name: toxic, dtype: int64"
      ]
     },
     "metadata": {},
     "output_type": "display_data"
    }
   ],
   "source": [
    "display(data['toxic'].value_counts())"
   ]
  },
  {
   "cell_type": "code",
   "execution_count": 6,
   "metadata": {},
   "outputs": [],
   "source": [
    "ratio_value_counts = data['toxic'].value_counts()[0] /data['toxic'].value_counts()[1]"
   ]
  },
  {
   "cell_type": "code",
   "execution_count": 7,
   "metadata": {},
   "outputs": [
    {
     "data": {
      "text/plain": [
       "8.834884437596301"
      ]
     },
     "metadata": {},
     "output_type": "display_data"
    }
   ],
   "source": [
    "display(ratio_value_counts)"
   ]
  },
  {
   "cell_type": "markdown",
   "metadata": {},
   "source": [
    "Классы несбалансированы. Отношение 1:8.83. Поэтому в моделях заложим `class_weight='balanced'`"
   ]
  },
  {
   "cell_type": "markdown",
   "metadata": {},
   "source": [
    "Проводим лемматизацию и очистку текста"
   ]
  },
  {
   "cell_type": "code",
   "execution_count": 8,
   "metadata": {
    "scrolled": true
   },
   "outputs": [
    {
     "name": "stderr",
     "output_type": "stream",
     "text": [
      "100%|██████████| 159571/159571 [00:07<00:00, 20606.15it/s]"
     ]
    },
    {
     "name": "stdout",
     "output_type": "stream",
     "text": [
      "CPU times: user 7.44 s, sys: 176 ms, total: 7.62 s\n",
      "Wall time: 7.75 s\n"
     ]
    },
    {
     "name": "stderr",
     "output_type": "stream",
     "text": [
      "\n"
     ]
    }
   ],
   "source": [
    "%%time\n",
    "\n",
    "\n",
    "m=WordNetLemmatizer()\n",
    "\n",
    "def lemmatize_text(text):\n",
    "    text = text.lower()\n",
    "    lemm_text = \"\".join(m.lemmatize(text))\n",
    "    cleared_text = re.sub(r'[^a-zA-Z]', ' ', lemm_text) \n",
    "    return \" \".join(cleared_text.split())\n",
    "    \n",
    "\n",
    "\n",
    "data['lemm_text'] = data['text'].progress_apply(lemmatize_text)\n"
   ]
  },
  {
   "cell_type": "code",
   "execution_count": 9,
   "metadata": {},
   "outputs": [
    {
     "data": {
      "text/html": [
       "<div>\n",
       "<style scoped>\n",
       "    .dataframe tbody tr th:only-of-type {\n",
       "        vertical-align: middle;\n",
       "    }\n",
       "\n",
       "    .dataframe tbody tr th {\n",
       "        vertical-align: top;\n",
       "    }\n",
       "\n",
       "    .dataframe thead th {\n",
       "        text-align: right;\n",
       "    }\n",
       "</style>\n",
       "<table border=\"1\" class=\"dataframe\">\n",
       "  <thead>\n",
       "    <tr style=\"text-align: right;\">\n",
       "      <th></th>\n",
       "      <th>text</th>\n",
       "      <th>toxic</th>\n",
       "      <th>lemm_text</th>\n",
       "    </tr>\n",
       "  </thead>\n",
       "  <tbody>\n",
       "    <tr>\n",
       "      <th>0</th>\n",
       "      <td>Explanation\\nWhy the edits made under my usern...</td>\n",
       "      <td>0</td>\n",
       "      <td>explanation why the edits made under my userna...</td>\n",
       "    </tr>\n",
       "    <tr>\n",
       "      <th>1</th>\n",
       "      <td>D'aww! He matches this background colour I'm s...</td>\n",
       "      <td>0</td>\n",
       "      <td>d aww he matches this background colour i m se...</td>\n",
       "    </tr>\n",
       "    <tr>\n",
       "      <th>2</th>\n",
       "      <td>Hey man, I'm really not trying to edit war. It...</td>\n",
       "      <td>0</td>\n",
       "      <td>hey man i m really not trying to edit war it s...</td>\n",
       "    </tr>\n",
       "    <tr>\n",
       "      <th>3</th>\n",
       "      <td>\"\\nMore\\nI can't make any real suggestions on ...</td>\n",
       "      <td>0</td>\n",
       "      <td>more i can t make any real suggestions on impr...</td>\n",
       "    </tr>\n",
       "    <tr>\n",
       "      <th>4</th>\n",
       "      <td>You, sir, are my hero. Any chance you remember...</td>\n",
       "      <td>0</td>\n",
       "      <td>you sir are my hero any chance you remember wh...</td>\n",
       "    </tr>\n",
       "    <tr>\n",
       "      <th>...</th>\n",
       "      <td>...</td>\n",
       "      <td>...</td>\n",
       "      <td>...</td>\n",
       "    </tr>\n",
       "    <tr>\n",
       "      <th>159566</th>\n",
       "      <td>\":::::And for the second time of asking, when ...</td>\n",
       "      <td>0</td>\n",
       "      <td>and for the second time of asking when your vi...</td>\n",
       "    </tr>\n",
       "    <tr>\n",
       "      <th>159567</th>\n",
       "      <td>You should be ashamed of yourself \\n\\nThat is ...</td>\n",
       "      <td>0</td>\n",
       "      <td>you should be ashamed of yourself that is a ho...</td>\n",
       "    </tr>\n",
       "    <tr>\n",
       "      <th>159568</th>\n",
       "      <td>Spitzer \\n\\nUmm, theres no actual article for ...</td>\n",
       "      <td>0</td>\n",
       "      <td>spitzer umm theres no actual article for prost...</td>\n",
       "    </tr>\n",
       "    <tr>\n",
       "      <th>159569</th>\n",
       "      <td>And it looks like it was actually you who put ...</td>\n",
       "      <td>0</td>\n",
       "      <td>and it looks like it was actually you who put ...</td>\n",
       "    </tr>\n",
       "    <tr>\n",
       "      <th>159570</th>\n",
       "      <td>\"\\nAnd ... I really don't think you understand...</td>\n",
       "      <td>0</td>\n",
       "      <td>and i really don t think you understand i came...</td>\n",
       "    </tr>\n",
       "  </tbody>\n",
       "</table>\n",
       "<p>159571 rows × 3 columns</p>\n",
       "</div>"
      ],
      "text/plain": [
       "                                                     text  toxic  \\\n",
       "0       Explanation\\nWhy the edits made under my usern...      0   \n",
       "1       D'aww! He matches this background colour I'm s...      0   \n",
       "2       Hey man, I'm really not trying to edit war. It...      0   \n",
       "3       \"\\nMore\\nI can't make any real suggestions on ...      0   \n",
       "4       You, sir, are my hero. Any chance you remember...      0   \n",
       "...                                                   ...    ...   \n",
       "159566  \":::::And for the second time of asking, when ...      0   \n",
       "159567  You should be ashamed of yourself \\n\\nThat is ...      0   \n",
       "159568  Spitzer \\n\\nUmm, theres no actual article for ...      0   \n",
       "159569  And it looks like it was actually you who put ...      0   \n",
       "159570  \"\\nAnd ... I really don't think you understand...      0   \n",
       "\n",
       "                                                lemm_text  \n",
       "0       explanation why the edits made under my userna...  \n",
       "1       d aww he matches this background colour i m se...  \n",
       "2       hey man i m really not trying to edit war it s...  \n",
       "3       more i can t make any real suggestions on impr...  \n",
       "4       you sir are my hero any chance you remember wh...  \n",
       "...                                                   ...  \n",
       "159566  and for the second time of asking when your vi...  \n",
       "159567  you should be ashamed of yourself that is a ho...  \n",
       "159568  spitzer umm theres no actual article for prost...  \n",
       "159569  and it looks like it was actually you who put ...  \n",
       "159570  and i really don t think you understand i came...  \n",
       "\n",
       "[159571 rows x 3 columns]"
      ]
     },
     "metadata": {},
     "output_type": "display_data"
    }
   ],
   "source": [
    "display(data)"
   ]
  },
  {
   "cell_type": "code",
   "execution_count": 10,
   "metadata": {},
   "outputs": [
    {
     "name": "stdout",
     "output_type": "stream",
     "text": [
      "Исходный текст caring touching\n",
      "Токенизация ['caring', 'touching']\n",
      "\n",
      "Лемматизация ['caring', 'touching']\n",
      "\n",
      "Стемминг ['care', 'touch']\n"
     ]
    }
   ],
   "source": [
    "text='caring touching'\n",
    "print('Исходный текст',text)\n",
    "tokens=nltk.word_tokenize(text)\n",
    "print('Токенизация',tokens)\n",
    "print()\n",
    "lemmatizer=WordNetLemmatizer()\n",
    "lemm_review=[lemmatizer.lemmatize(word) for word in tokens]\n",
    "print('Лемматизация',lemm_review)\n",
    "print()\n",
    "stemmer=PorterStemmer()\n",
    "stemmer_review=[stemmer.stem(word) for word in tokens]\n",
    "print('Стемминг',stemmer_review)\n",
    "\n"
   ]
  },
  {
   "cell_type": "code",
   "execution_count": 11,
   "metadata": {},
   "outputs": [],
   "source": [
    "data= data.drop(['text'], axis=1)"
   ]
  },
  {
   "cell_type": "code",
   "execution_count": 12,
   "metadata": {},
   "outputs": [
    {
     "data": {
      "text/html": [
       "<div>\n",
       "<style scoped>\n",
       "    .dataframe tbody tr th:only-of-type {\n",
       "        vertical-align: middle;\n",
       "    }\n",
       "\n",
       "    .dataframe tbody tr th {\n",
       "        vertical-align: top;\n",
       "    }\n",
       "\n",
       "    .dataframe thead th {\n",
       "        text-align: right;\n",
       "    }\n",
       "</style>\n",
       "<table border=\"1\" class=\"dataframe\">\n",
       "  <thead>\n",
       "    <tr style=\"text-align: right;\">\n",
       "      <th></th>\n",
       "      <th>toxic</th>\n",
       "      <th>lemm_text</th>\n",
       "    </tr>\n",
       "  </thead>\n",
       "  <tbody>\n",
       "    <tr>\n",
       "      <th>0</th>\n",
       "      <td>0</td>\n",
       "      <td>explanation why the edits made under my userna...</td>\n",
       "    </tr>\n",
       "    <tr>\n",
       "      <th>1</th>\n",
       "      <td>0</td>\n",
       "      <td>d aww he matches this background colour i m se...</td>\n",
       "    </tr>\n",
       "    <tr>\n",
       "      <th>2</th>\n",
       "      <td>0</td>\n",
       "      <td>hey man i m really not trying to edit war it s...</td>\n",
       "    </tr>\n",
       "    <tr>\n",
       "      <th>3</th>\n",
       "      <td>0</td>\n",
       "      <td>more i can t make any real suggestions on impr...</td>\n",
       "    </tr>\n",
       "    <tr>\n",
       "      <th>4</th>\n",
       "      <td>0</td>\n",
       "      <td>you sir are my hero any chance you remember wh...</td>\n",
       "    </tr>\n",
       "    <tr>\n",
       "      <th>...</th>\n",
       "      <td>...</td>\n",
       "      <td>...</td>\n",
       "    </tr>\n",
       "    <tr>\n",
       "      <th>159566</th>\n",
       "      <td>0</td>\n",
       "      <td>and for the second time of asking when your vi...</td>\n",
       "    </tr>\n",
       "    <tr>\n",
       "      <th>159567</th>\n",
       "      <td>0</td>\n",
       "      <td>you should be ashamed of yourself that is a ho...</td>\n",
       "    </tr>\n",
       "    <tr>\n",
       "      <th>159568</th>\n",
       "      <td>0</td>\n",
       "      <td>spitzer umm theres no actual article for prost...</td>\n",
       "    </tr>\n",
       "    <tr>\n",
       "      <th>159569</th>\n",
       "      <td>0</td>\n",
       "      <td>and it looks like it was actually you who put ...</td>\n",
       "    </tr>\n",
       "    <tr>\n",
       "      <th>159570</th>\n",
       "      <td>0</td>\n",
       "      <td>and i really don t think you understand i came...</td>\n",
       "    </tr>\n",
       "  </tbody>\n",
       "</table>\n",
       "<p>159571 rows × 2 columns</p>\n",
       "</div>"
      ],
      "text/plain": [
       "        toxic                                          lemm_text\n",
       "0           0  explanation why the edits made under my userna...\n",
       "1           0  d aww he matches this background colour i m se...\n",
       "2           0  hey man i m really not trying to edit war it s...\n",
       "3           0  more i can t make any real suggestions on impr...\n",
       "4           0  you sir are my hero any chance you remember wh...\n",
       "...       ...                                                ...\n",
       "159566      0  and for the second time of asking when your vi...\n",
       "159567      0  you should be ashamed of yourself that is a ho...\n",
       "159568      0  spitzer umm theres no actual article for prost...\n",
       "159569      0  and it looks like it was actually you who put ...\n",
       "159570      0  and i really don t think you understand i came...\n",
       "\n",
       "[159571 rows x 2 columns]"
      ]
     },
     "metadata": {},
     "output_type": "display_data"
    }
   ],
   "source": [
    "display(data)"
   ]
  },
  {
   "cell_type": "markdown",
   "metadata": {},
   "source": [
    "Разбиваем на выборки"
   ]
  },
  {
   "cell_type": "markdown",
   "metadata": {},
   "source": [
    "Признаки"
   ]
  },
  {
   "cell_type": "code",
   "execution_count": 13,
   "metadata": {},
   "outputs": [
    {
     "data": {
      "text/plain": [
       "(159571, 1)"
      ]
     },
     "metadata": {},
     "output_type": "display_data"
    }
   ],
   "source": [
    "features = data.drop(['toxic'], axis=1)\n",
    "display(features.shape)"
   ]
  },
  {
   "cell_type": "markdown",
   "metadata": {},
   "source": [
    "Цель"
   ]
  },
  {
   "cell_type": "code",
   "execution_count": 14,
   "metadata": {},
   "outputs": [
    {
     "data": {
      "text/plain": [
       "(159571,)"
      ]
     },
     "metadata": {},
     "output_type": "display_data"
    }
   ],
   "source": [
    "target = data['toxic']\n",
    "display(target.shape)"
   ]
  },
  {
   "cell_type": "markdown",
   "metadata": {},
   "source": [
    "Делим выборку на тренировочную и тестовую 40 %"
   ]
  },
  {
   "cell_type": "code",
   "execution_count": 15,
   "metadata": {},
   "outputs": [],
   "source": [
    "features_train, features_test, target_train, target_test = train_test_split(\n",
    "    features, target, test_size=0.40, random_state=12345) # отделим 40% данных"
   ]
  },
  {
   "cell_type": "code",
   "execution_count": 16,
   "metadata": {},
   "outputs": [
    {
     "data": {
      "text/plain": [
       "(95742, 1)"
      ]
     },
     "metadata": {},
     "output_type": "display_data"
    }
   ],
   "source": [
    " display(features_train.shape)"
   ]
  },
  {
   "cell_type": "markdown",
   "metadata": {},
   "source": [
    "Удаляем стоп слова из мешка слов"
   ]
  },
  {
   "cell_type": "code",
   "execution_count": 17,
   "metadata": {},
   "outputs": [
    {
     "name": "stderr",
     "output_type": "stream",
     "text": [
      "[nltk_data] Downloading package stopwords to /home/jovyan/nltk_data...\n",
      "[nltk_data]   Package stopwords is already up-to-date!\n"
     ]
    },
    {
     "name": "stdout",
     "output_type": "stream",
     "text": [
      "(95742, 125610)\n",
      "(63829, 125610)\n"
     ]
    }
   ],
   "source": [
    "nltk.download('stopwords')\n",
    "stopwords = set(nltk_stopwords.words('english'))\n",
    "\n",
    "count_tf_idf = TfidfVectorizer(stop_words=stopwords)\n",
    "\n",
    "\n",
    "features_train = count_tf_idf.fit_transform(features_train['lemm_text'].values)\n",
    "features_test = count_tf_idf.transform(features_test['lemm_text'].values)\n",
    "print(features_train.shape)\n",
    "print(features_test.shape)\n",
    "cv_counts = 3"
   ]
  },
  {
   "cell_type": "markdown",
   "metadata": {},
   "source": [
    "## Обучение"
   ]
  },
  {
   "cell_type": "markdown",
   "metadata": {},
   "source": [
    "### LogisticRegression"
   ]
  },
  {
   "cell_type": "code",
   "execution_count": 18,
   "metadata": {},
   "outputs": [
    {
     "name": "stdout",
     "output_type": "stream",
     "text": [
      "F1-score 0.7529135921660576\n",
      "CPU times: user 12.4 s, sys: 26.2 s, total: 38.6 s\n",
      "Wall time: 38.7 s\n"
     ]
    }
   ],
   "source": [
    "%%time\n",
    "\n",
    "model_logist =LogisticRegression(class_weight='balanced',random_state=12345, max_iter=1000, n_jobs = -1)  # инициализируем модель\n",
    "model_logist.fit(features_train, target_train) # обучим модель на тренировочной выборке\n",
    "predicted_logist_test = model_logist.predict(features_test)\n",
    "f1_logist=f1_score(target_test, predicted_logist_test)\n",
    "\n",
    "print(\"F1-score\", f1_logist)"
   ]
  },
  {
   "cell_type": "markdown",
   "metadata": {},
   "source": [
    "### RandomForestClassifier"
   ]
  },
  {
   "cell_type": "code",
   "execution_count": 19,
   "metadata": {},
   "outputs": [
    {
     "name": "stdout",
     "output_type": "stream",
     "text": [
      "F1-score 0.6425956061838893\n",
      "CPU times: user 9min 9s, sys: 1.16 s, total: 9min 10s\n",
      "Wall time: 9min 10s\n"
     ]
    }
   ],
   "source": [
    "%%time\n",
    "model_RFC=RandomForestClassifier(class_weight='balanced',random_state=12345, n_jobs = -1)\n",
    "model_RFC.fit(features_train, target_train) # обучим модель на тренировочной выборке\n",
    "predicted_RFC_test = model_RFC.predict(features_test)\n",
    "\n",
    "f1_RFC=f1_score(target_test, predicted_RFC_test)\n",
    "print(\"F1-score\", f1_RFC)\n"
   ]
  },
  {
   "cell_type": "markdown",
   "metadata": {},
   "source": [
    "## Выводы"
   ]
  },
  {
   "cell_type": "markdown",
   "metadata": {},
   "source": [
    "1. Анализ данных показал, что классы несбалансированы. Отношение 1:8.83. Поэтому в моделях заложим `class_weight='balanced'`\n",
    "2. Обучили модели LogisticRegression и RandomForestClassifier\n",
    "3. Лучший результат на модели LogisticRegression F1-score=0.7528973509933775"
   ]
  }
 ],
 "metadata": {
  "ExecuteTimeLog": [
   {
    "duration": 1876,
    "start_time": "2022-05-11T16:34:58.030Z"
   },
   {
    "duration": 970,
    "start_time": "2022-05-11T16:35:00.737Z"
   },
   {
    "duration": 23,
    "start_time": "2022-05-11T16:35:25.384Z"
   },
   {
    "duration": 2873,
    "start_time": "2022-05-11T16:35:31.376Z"
   },
   {
    "duration": 5,
    "start_time": "2022-05-11T16:36:09.216Z"
   },
   {
    "duration": 361,
    "start_time": "2022-05-11T16:36:10.024Z"
   },
   {
    "duration": 214,
    "start_time": "2022-05-11T16:36:53.752Z"
   },
   {
    "duration": 4,
    "start_time": "2022-05-11T16:36:54.671Z"
   },
   {
    "duration": 1159,
    "start_time": "2022-05-11T16:36:57.824Z"
   },
   {
    "duration": 2561,
    "start_time": "2022-05-11T16:38:01.591Z"
   },
   {
    "duration": 4,
    "start_time": "2022-05-11T16:38:05.287Z"
   },
   {
    "duration": 7,
    "start_time": "2022-05-11T16:38:06.160Z"
   },
   {
    "duration": 2307,
    "start_time": "2022-05-11T16:38:15.406Z"
   },
   {
    "duration": 11393,
    "start_time": "2022-05-11T16:38:17.716Z"
   },
   {
    "duration": 35,
    "start_time": "2022-05-11T16:38:29.111Z"
   },
   {
    "duration": 3145,
    "start_time": "2022-05-11T16:38:29.150Z"
   },
   {
    "duration": 16,
    "start_time": "2022-05-11T16:38:32.298Z"
   },
   {
    "duration": 348,
    "start_time": "2022-05-11T16:38:32.317Z"
   },
   {
    "duration": 1854,
    "start_time": "2022-05-11T16:48:18.817Z"
   },
   {
    "duration": 12570,
    "start_time": "2022-05-11T16:48:20.674Z"
   },
   {
    "duration": 24,
    "start_time": "2022-05-11T16:48:33.250Z"
   },
   {
    "duration": 2476,
    "start_time": "2022-05-11T16:48:33.293Z"
   },
   {
    "duration": 6,
    "start_time": "2022-05-11T16:48:35.771Z"
   },
   {
    "duration": 1100,
    "start_time": "2022-05-11T16:48:35.793Z"
   },
   {
    "duration": 6,
    "start_time": "2022-05-11T16:49:55.563Z"
   },
   {
    "duration": 7,
    "start_time": "2022-05-11T16:50:10.100Z"
   },
   {
    "duration": 337,
    "start_time": "2022-05-11T16:53:03.866Z"
   },
   {
    "duration": 5,
    "start_time": "2022-05-11T16:54:16.338Z"
   },
   {
    "duration": 25,
    "start_time": "2022-05-11T16:55:44.372Z"
   },
   {
    "duration": 88,
    "start_time": "2022-05-11T16:56:52.787Z"
   },
   {
    "duration": 10,
    "start_time": "2022-05-11T16:57:13.146Z"
   },
   {
    "duration": 3257,
    "start_time": "2022-05-11T16:57:25.885Z"
   },
   {
    "duration": 12622,
    "start_time": "2022-05-11T16:57:29.145Z"
   },
   {
    "duration": 43,
    "start_time": "2022-05-11T16:57:41.770Z"
   },
   {
    "duration": 386,
    "start_time": "2022-05-11T16:57:41.817Z"
   },
   {
    "duration": 0,
    "start_time": "2022-05-11T16:57:42.206Z"
   },
   {
    "duration": 0,
    "start_time": "2022-05-11T16:57:42.208Z"
   },
   {
    "duration": 1,
    "start_time": "2022-05-11T16:57:42.209Z"
   },
   {
    "duration": 0,
    "start_time": "2022-05-11T16:57:42.211Z"
   },
   {
    "duration": 3,
    "start_time": "2022-05-11T16:58:19.093Z"
   },
   {
    "duration": 4,
    "start_time": "2022-05-11T16:58:21.909Z"
   },
   {
    "duration": 1451,
    "start_time": "2022-05-11T16:58:22.629Z"
   },
   {
    "duration": 6,
    "start_time": "2022-05-11T16:58:28.871Z"
   },
   {
    "duration": 38314,
    "start_time": "2022-05-11T16:58:30.044Z"
   },
   {
    "duration": 63,
    "start_time": "2022-05-11T16:59:39.788Z"
   },
   {
    "duration": 24,
    "start_time": "2022-05-11T17:00:21.214Z"
   },
   {
    "duration": 1857,
    "start_time": "2022-05-11T17:00:52.174Z"
   },
   {
    "duration": 967,
    "start_time": "2022-05-11T17:00:54.035Z"
   },
   {
    "duration": 24,
    "start_time": "2022-05-11T17:00:55.005Z"
   },
   {
    "duration": 3,
    "start_time": "2022-05-11T17:00:55.032Z"
   },
   {
    "duration": 339,
    "start_time": "2022-05-11T17:00:55.038Z"
   },
   {
    "duration": 0,
    "start_time": "2022-05-11T17:00:55.380Z"
   },
   {
    "duration": 0,
    "start_time": "2022-05-11T17:00:55.382Z"
   },
   {
    "duration": 0,
    "start_time": "2022-05-11T17:00:55.393Z"
   },
   {
    "duration": 0,
    "start_time": "2022-05-11T17:00:55.395Z"
   },
   {
    "duration": 1990,
    "start_time": "2022-05-11T17:01:10.242Z"
   },
   {
    "duration": 1069,
    "start_time": "2022-05-11T17:01:12.235Z"
   },
   {
    "duration": 24,
    "start_time": "2022-05-11T17:01:13.306Z"
   },
   {
    "duration": 4,
    "start_time": "2022-05-11T17:01:13.332Z"
   },
   {
    "duration": 10,
    "start_time": "2022-05-11T17:01:13.338Z"
   },
   {
    "duration": 8,
    "start_time": "2022-05-11T17:01:13.351Z"
   },
   {
    "duration": 945,
    "start_time": "2022-05-11T17:01:13.362Z"
   },
   {
    "duration": 5,
    "start_time": "2022-05-11T17:01:14.309Z"
   },
   {
    "duration": 31553,
    "start_time": "2022-05-11T17:01:14.317Z"
   },
   {
    "duration": 22,
    "start_time": "2022-05-11T17:01:47.276Z"
   },
   {
    "duration": 1874,
    "start_time": "2022-05-11T17:02:06.508Z"
   },
   {
    "duration": 993,
    "start_time": "2022-05-11T17:02:08.385Z"
   },
   {
    "duration": 26,
    "start_time": "2022-05-11T17:02:09.392Z"
   },
   {
    "duration": 4,
    "start_time": "2022-05-11T17:02:09.420Z"
   },
   {
    "duration": 8,
    "start_time": "2022-05-11T17:02:09.426Z"
   },
   {
    "duration": 10,
    "start_time": "2022-05-11T17:02:09.437Z"
   },
   {
    "duration": 1350,
    "start_time": "2022-05-11T17:02:09.450Z"
   },
   {
    "duration": 6,
    "start_time": "2022-05-11T17:02:10.802Z"
   },
   {
    "duration": 157871,
    "start_time": "2022-05-11T17:02:10.811Z"
   },
   {
    "duration": 55,
    "start_time": "2022-05-11T17:05:27.684Z"
   },
   {
    "duration": 29,
    "start_time": "2022-05-11T17:06:20.676Z"
   },
   {
    "duration": 25,
    "start_time": "2022-05-11T17:06:29.899Z"
   },
   {
    "duration": 6,
    "start_time": "2022-05-11T17:13:12.249Z"
   },
   {
    "duration": 2685,
    "start_time": "2022-05-11T17:13:54.359Z"
   },
   {
    "duration": 11256,
    "start_time": "2022-05-11T17:13:57.047Z"
   },
   {
    "duration": 24,
    "start_time": "2022-05-11T17:14:08.305Z"
   },
   {
    "duration": 2,
    "start_time": "2022-05-11T17:14:08.332Z"
   },
   {
    "duration": 10,
    "start_time": "2022-05-11T17:14:08.336Z"
   },
   {
    "duration": 61,
    "start_time": "2022-05-11T17:14:08.348Z"
   },
   {
    "duration": 8,
    "start_time": "2022-05-11T17:14:08.411Z"
   },
   {
    "duration": 0,
    "start_time": "2022-05-11T17:14:08.421Z"
   },
   {
    "duration": 0,
    "start_time": "2022-05-11T17:14:08.423Z"
   },
   {
    "duration": 0,
    "start_time": "2022-05-11T17:14:08.425Z"
   },
   {
    "duration": 0,
    "start_time": "2022-05-11T17:14:08.427Z"
   },
   {
    "duration": 0,
    "start_time": "2022-05-11T17:14:08.438Z"
   },
   {
    "duration": 0,
    "start_time": "2022-05-11T17:14:08.439Z"
   },
   {
    "duration": 0,
    "start_time": "2022-05-11T17:14:08.441Z"
   },
   {
    "duration": 5,
    "start_time": "2022-05-11T17:14:35.017Z"
   },
   {
    "duration": 6,
    "start_time": "2022-05-11T17:14:36.658Z"
   },
   {
    "duration": 1553,
    "start_time": "2022-05-11T17:14:37.562Z"
   },
   {
    "duration": 6,
    "start_time": "2022-05-11T17:14:43.458Z"
   },
   {
    "duration": 11253,
    "start_time": "2022-05-11T17:14:53.714Z"
   },
   {
    "duration": 2021,
    "start_time": "2022-05-11T17:29:55.122Z"
   },
   {
    "duration": 12122,
    "start_time": "2022-05-11T17:29:57.146Z"
   },
   {
    "duration": 29,
    "start_time": "2022-05-11T17:30:09.270Z"
   },
   {
    "duration": 3,
    "start_time": "2022-05-11T17:30:09.303Z"
   },
   {
    "duration": 10,
    "start_time": "2022-05-11T17:30:09.309Z"
   },
   {
    "duration": 55,
    "start_time": "2022-05-11T17:30:09.322Z"
   },
   {
    "duration": 22,
    "start_time": "2022-05-11T17:30:09.400Z"
   },
   {
    "duration": 21,
    "start_time": "2022-05-11T17:30:09.424Z"
   },
   {
    "duration": 1050,
    "start_time": "2022-05-11T17:30:09.447Z"
   },
   {
    "duration": 6,
    "start_time": "2022-05-11T17:30:10.502Z"
   },
   {
    "duration": 434448,
    "start_time": "2022-05-11T17:30:10.511Z"
   },
   {
    "duration": 0,
    "start_time": "2022-05-11T17:37:24.962Z"
   },
   {
    "duration": 0,
    "start_time": "2022-05-11T17:37:24.965Z"
   },
   {
    "duration": 0,
    "start_time": "2022-05-11T17:37:24.967Z"
   },
   {
    "duration": 15,
    "start_time": "2022-05-11T17:38:16.199Z"
   },
   {
    "duration": 4,
    "start_time": "2022-05-11T17:38:41.427Z"
   },
   {
    "duration": 51,
    "start_time": "2022-05-11T17:38:52.139Z"
   },
   {
    "duration": 5,
    "start_time": "2022-05-11T17:39:50.971Z"
   },
   {
    "duration": 6,
    "start_time": "2022-05-11T17:39:51.739Z"
   },
   {
    "duration": 1807,
    "start_time": "2022-05-11T17:44:15.378Z"
   },
   {
    "duration": 1038,
    "start_time": "2022-05-11T17:44:17.187Z"
   },
   {
    "duration": 24,
    "start_time": "2022-05-11T17:44:18.227Z"
   },
   {
    "duration": 3,
    "start_time": "2022-05-11T17:44:18.253Z"
   },
   {
    "duration": 7,
    "start_time": "2022-05-11T17:44:18.258Z"
   },
   {
    "duration": 62,
    "start_time": "2022-05-11T17:44:18.267Z"
   },
   {
    "duration": 6,
    "start_time": "2022-05-11T17:44:18.331Z"
   },
   {
    "duration": 9,
    "start_time": "2022-05-11T17:44:18.340Z"
   },
   {
    "duration": 984,
    "start_time": "2022-05-11T17:44:18.352Z"
   },
   {
    "duration": 4,
    "start_time": "2022-05-11T17:44:19.340Z"
   },
   {
    "duration": 8,
    "start_time": "2022-05-11T17:44:19.346Z"
   },
   {
    "duration": 8,
    "start_time": "2022-05-11T17:44:19.357Z"
   },
   {
    "duration": 840959,
    "start_time": "2022-05-11T17:44:19.367Z"
   },
   {
    "duration": 0,
    "start_time": "2022-05-11T17:58:20.329Z"
   },
   {
    "duration": 1,
    "start_time": "2022-05-11T17:58:20.330Z"
   },
   {
    "duration": 0,
    "start_time": "2022-05-11T17:58:20.332Z"
   },
   {
    "duration": 5,
    "start_time": "2022-05-11T18:27:20.277Z"
   },
   {
    "duration": 1906,
    "start_time": "2022-05-11T18:28:03.396Z"
   },
   {
    "duration": 1488,
    "start_time": "2022-05-11T18:28:05.305Z"
   },
   {
    "duration": 33,
    "start_time": "2022-05-11T18:28:06.796Z"
   },
   {
    "duration": 4,
    "start_time": "2022-05-11T18:28:06.833Z"
   },
   {
    "duration": 5,
    "start_time": "2022-05-11T18:28:06.840Z"
   },
   {
    "duration": 89,
    "start_time": "2022-05-11T18:28:06.848Z"
   },
   {
    "duration": 9,
    "start_time": "2022-05-11T18:28:06.940Z"
   },
   {
    "duration": 12,
    "start_time": "2022-05-11T18:28:06.951Z"
   },
   {
    "duration": 1155,
    "start_time": "2022-05-11T18:28:06.965Z"
   },
   {
    "duration": 8,
    "start_time": "2022-05-11T18:28:08.126Z"
   },
   {
    "duration": 18,
    "start_time": "2022-05-11T18:28:08.136Z"
   },
   {
    "duration": 221,
    "start_time": "2022-05-11T18:28:08.157Z"
   },
   {
    "duration": 0,
    "start_time": "2022-05-11T18:28:08.381Z"
   },
   {
    "duration": 0,
    "start_time": "2022-05-11T18:28:08.384Z"
   },
   {
    "duration": 912,
    "start_time": "2022-05-11T18:28:31.733Z"
   },
   {
    "duration": 42,
    "start_time": "2022-05-11T18:29:14.548Z"
   },
   {
    "duration": 6,
    "start_time": "2022-05-11T18:29:42.581Z"
   },
   {
    "duration": 17,
    "start_time": "2022-05-11T18:30:28.195Z"
   },
   {
    "duration": 4,
    "start_time": "2022-05-11T18:30:47.420Z"
   },
   {
    "duration": 30,
    "start_time": "2022-05-11T18:30:50.835Z"
   },
   {
    "duration": 6,
    "start_time": "2022-05-11T18:31:20.043Z"
   },
   {
    "duration": 4,
    "start_time": "2022-05-11T18:31:52.459Z"
   },
   {
    "duration": 5,
    "start_time": "2022-05-11T18:32:10.747Z"
   },
   {
    "duration": 28,
    "start_time": "2022-05-11T18:32:22.227Z"
   },
   {
    "duration": 83,
    "start_time": "2022-05-11T18:32:23.147Z"
   },
   {
    "duration": 4,
    "start_time": "2022-05-11T18:32:34.699Z"
   },
   {
    "duration": 4,
    "start_time": "2022-05-11T18:32:35.419Z"
   },
   {
    "duration": 976,
    "start_time": "2022-05-11T18:32:56.795Z"
   },
   {
    "duration": 5,
    "start_time": "2022-05-11T18:33:09.892Z"
   },
   {
    "duration": 23220,
    "start_time": "2022-05-11T18:33:20.124Z"
   },
   {
    "duration": 17268,
    "start_time": "2022-05-11T18:37:30.106Z"
   },
   {
    "duration": 6,
    "start_time": "2022-05-11T18:37:47.377Z"
   },
   {
    "duration": 1985,
    "start_time": "2022-05-11T18:38:11.672Z"
   },
   {
    "duration": 1403,
    "start_time": "2022-05-11T18:38:13.662Z"
   },
   {
    "duration": 32,
    "start_time": "2022-05-11T18:38:15.067Z"
   },
   {
    "duration": 3,
    "start_time": "2022-05-11T18:38:15.102Z"
   },
   {
    "duration": 5,
    "start_time": "2022-05-11T18:38:15.108Z"
   },
   {
    "duration": 19,
    "start_time": "2022-05-11T18:38:15.116Z"
   },
   {
    "duration": 8,
    "start_time": "2022-05-11T18:38:15.137Z"
   },
   {
    "duration": 69,
    "start_time": "2022-05-11T18:38:15.147Z"
   },
   {
    "duration": 6,
    "start_time": "2022-05-11T18:38:15.219Z"
   },
   {
    "duration": 64,
    "start_time": "2022-05-11T18:38:15.230Z"
   },
   {
    "duration": 54,
    "start_time": "2022-05-11T18:38:15.297Z"
   },
   {
    "duration": 5,
    "start_time": "2022-05-11T18:38:15.353Z"
   },
   {
    "duration": 47,
    "start_time": "2022-05-11T18:38:15.360Z"
   },
   {
    "duration": 1345,
    "start_time": "2022-05-11T18:38:15.410Z"
   },
   {
    "duration": 5,
    "start_time": "2022-05-11T18:38:16.758Z"
   },
   {
    "duration": 2387412,
    "start_time": "2022-05-11T18:38:16.766Z"
   },
   {
    "duration": 43,
    "start_time": "2022-05-11T19:18:04.181Z"
   },
   {
    "duration": 2743,
    "start_time": "2022-05-11T19:19:55.193Z"
   },
   {
    "duration": 7,
    "start_time": "2022-05-11T19:20:25.411Z"
   },
   {
    "duration": 8,
    "start_time": "2022-05-11T19:22:55.513Z"
   },
   {
    "duration": 1183,
    "start_time": "2022-05-11T19:23:32.393Z"
   },
   {
    "duration": 11,
    "start_time": "2022-05-11T19:23:47.906Z"
   },
   {
    "duration": 24,
    "start_time": "2022-05-11T19:26:26.593Z"
   },
   {
    "duration": 395657,
    "start_time": "2022-05-11T19:28:19.746Z"
   },
   {
    "duration": 0,
    "start_time": "2022-05-11T19:34:55.406Z"
   },
   {
    "duration": 0,
    "start_time": "2022-05-11T19:34:55.408Z"
   },
   {
    "duration": 0,
    "start_time": "2022-05-11T19:34:55.410Z"
   },
   {
    "duration": 6,
    "start_time": "2022-05-11T19:35:02.418Z"
   },
   {
    "duration": 10,
    "start_time": "2022-05-11T19:35:11.439Z"
   },
   {
    "duration": 3252,
    "start_time": "2022-05-11T19:35:52.438Z"
   },
   {
    "duration": 3261,
    "start_time": "2022-05-11T19:36:34.967Z"
   },
   {
    "duration": 8,
    "start_time": "2022-05-11T19:36:49.686Z"
   },
   {
    "duration": 66486,
    "start_time": "2022-05-11T19:37:20.391Z"
   },
   {
    "duration": 0,
    "start_time": "2022-05-11T19:38:26.880Z"
   },
   {
    "duration": 5,
    "start_time": "2022-05-11T19:38:31.231Z"
   },
   {
    "duration": 13,
    "start_time": "2022-05-11T19:39:00.063Z"
   },
   {
    "duration": 7,
    "start_time": "2022-05-11T19:41:16.330Z"
   },
   {
    "duration": 7,
    "start_time": "2022-05-11T19:41:17.055Z"
   },
   {
    "duration": 4,
    "start_time": "2022-05-11T19:41:58.438Z"
   },
   {
    "duration": 7,
    "start_time": "2022-05-11T19:42:24.023Z"
   },
   {
    "duration": 3714,
    "start_time": "2022-05-11T19:42:25.253Z"
   },
   {
    "duration": 15,
    "start_time": "2022-05-11T19:42:31.678Z"
   },
   {
    "duration": 3594,
    "start_time": "2022-05-11T19:43:41.987Z"
   },
   {
    "duration": 22,
    "start_time": "2022-05-11T19:43:58.923Z"
   },
   {
    "duration": 14,
    "start_time": "2022-05-11T19:44:15.931Z"
   },
   {
    "duration": 1390,
    "start_time": "2022-05-11T19:51:52.667Z"
   },
   {
    "duration": 9,
    "start_time": "2022-05-11T19:53:03.786Z"
   },
   {
    "duration": 13,
    "start_time": "2022-05-11T19:53:26.882Z"
   },
   {
    "duration": 172715,
    "start_time": "2022-05-11T19:54:31.074Z"
   },
   {
    "duration": 19,
    "start_time": "2022-05-11T19:57:38.524Z"
   },
   {
    "duration": 34,
    "start_time": "2022-05-11T20:01:14.160Z"
   },
   {
    "duration": 15,
    "start_time": "2022-05-11T20:01:21.944Z"
   },
   {
    "duration": 17,
    "start_time": "2022-05-11T20:01:41.664Z"
   },
   {
    "duration": 4,
    "start_time": "2022-05-11T20:01:44.776Z"
   },
   {
    "duration": 6,
    "start_time": "2022-05-11T20:01:49.264Z"
   },
   {
    "duration": 43,
    "start_time": "2022-05-11T20:02:02.977Z"
   },
   {
    "duration": 7,
    "start_time": "2022-05-11T20:02:08.569Z"
   },
   {
    "duration": 1998,
    "start_time": "2022-05-11T20:04:54.939Z"
   },
   {
    "duration": 1012,
    "start_time": "2022-05-11T20:04:56.940Z"
   },
   {
    "duration": 41,
    "start_time": "2022-05-11T20:04:57.955Z"
   },
   {
    "duration": 4,
    "start_time": "2022-05-11T20:04:58.000Z"
   },
   {
    "duration": 20,
    "start_time": "2022-05-11T20:04:58.006Z"
   },
   {
    "duration": 165544,
    "start_time": "2022-05-11T20:04:58.028Z"
   },
   {
    "duration": 31,
    "start_time": "2022-05-11T20:07:43.575Z"
   },
   {
    "duration": 41,
    "start_time": "2022-05-11T20:07:43.609Z"
   },
   {
    "duration": 14,
    "start_time": "2022-05-11T20:07:43.652Z"
   },
   {
    "duration": 26,
    "start_time": "2022-05-11T20:07:43.669Z"
   },
   {
    "duration": 11,
    "start_time": "2022-05-11T20:07:43.697Z"
   },
   {
    "duration": 25,
    "start_time": "2022-05-11T20:07:43.711Z"
   },
   {
    "duration": 8,
    "start_time": "2022-05-11T20:07:43.738Z"
   },
   {
    "duration": 35,
    "start_time": "2022-05-11T20:07:43.748Z"
   },
   {
    "duration": 13,
    "start_time": "2022-05-11T20:07:43.786Z"
   },
   {
    "duration": 16083,
    "start_time": "2022-05-11T20:07:43.801Z"
   },
   {
    "duration": 5,
    "start_time": "2022-05-11T20:09:04.277Z"
   },
   {
    "duration": 5,
    "start_time": "2022-05-11T20:09:52.533Z"
   },
   {
    "duration": 55276,
    "start_time": "2022-05-11T20:12:17.244Z"
   },
   {
    "duration": 54245,
    "start_time": "2022-05-11T20:13:43.554Z"
   },
   {
    "duration": 52434,
    "start_time": "2022-05-11T20:16:44.970Z"
   },
   {
    "duration": 118,
    "start_time": "2022-05-11T20:18:57.828Z"
   },
   {
    "duration": 516,
    "start_time": "2022-05-11T20:20:28.748Z"
   },
   {
    "duration": 58703,
    "start_time": "2022-05-11T20:20:45.522Z"
   },
   {
    "duration": 51835,
    "start_time": "2022-05-11T20:21:55.073Z"
   },
   {
    "duration": 57029,
    "start_time": "2022-05-11T20:22:58.289Z"
   },
   {
    "duration": 38,
    "start_time": "2022-05-11T20:24:06.553Z"
   },
   {
    "duration": 568178,
    "start_time": "2022-05-11T20:26:15.048Z"
   },
   {
    "duration": 23,
    "start_time": "2022-05-11T20:36:43.713Z"
   },
   {
    "duration": 25,
    "start_time": "2022-05-11T20:36:55.261Z"
   },
   {
    "duration": 120,
    "start_time": "2022-05-11T20:38:23.281Z"
   },
   {
    "duration": 167,
    "start_time": "2022-05-11T20:38:57.113Z"
   },
   {
    "duration": 12525,
    "start_time": "2022-05-11T20:40:56.125Z"
   },
   {
    "duration": 27,
    "start_time": "2022-05-11T20:41:52.631Z"
   },
   {
    "duration": 551842,
    "start_time": "2022-05-11T20:41:54.844Z"
   },
   {
    "duration": 256,
    "start_time": "2022-05-11T20:55:58.255Z"
   },
   {
    "duration": 6,
    "start_time": "2022-05-11T20:56:24.818Z"
   },
   {
    "duration": 141688,
    "start_time": "2022-05-11T20:56:29.729Z"
   },
   {
    "duration": 2520,
    "start_time": "2022-05-11T20:59:30.527Z"
   },
   {
    "duration": 566483,
    "start_time": "2022-05-11T21:01:40.675Z"
   },
   {
    "duration": 1377,
    "start_time": "2022-05-12T05:23:51.258Z"
   },
   {
    "duration": 820,
    "start_time": "2022-05-12T05:23:52.637Z"
   },
   {
    "duration": 17,
    "start_time": "2022-05-12T05:23:53.458Z"
   },
   {
    "duration": 33,
    "start_time": "2022-05-12T05:23:53.478Z"
   },
   {
    "duration": 32,
    "start_time": "2022-05-12T05:23:53.513Z"
   },
   {
    "duration": 7,
    "start_time": "2022-05-12T05:23:53.547Z"
   },
   {
    "duration": 4,
    "start_time": "2022-05-12T05:23:53.556Z"
   },
   {
    "duration": 100368,
    "start_time": "2022-05-12T05:23:53.562Z"
   },
   {
    "duration": 21,
    "start_time": "2022-05-12T05:25:33.932Z"
   },
   {
    "duration": 49,
    "start_time": "2022-05-12T05:25:33.956Z"
   },
   {
    "duration": 9,
    "start_time": "2022-05-12T05:25:34.007Z"
   },
   {
    "duration": 5,
    "start_time": "2022-05-12T05:25:34.018Z"
   },
   {
    "duration": 3,
    "start_time": "2022-05-12T05:25:34.043Z"
   },
   {
    "duration": 24,
    "start_time": "2022-05-12T05:25:34.047Z"
   },
   {
    "duration": 4,
    "start_time": "2022-05-12T05:25:34.073Z"
   },
   {
    "duration": 25,
    "start_time": "2022-05-12T05:25:34.079Z"
   },
   {
    "duration": 4,
    "start_time": "2022-05-12T05:25:34.106Z"
   },
   {
    "duration": 11385,
    "start_time": "2022-05-12T05:25:34.112Z"
   },
   {
    "duration": 2,
    "start_time": "2022-05-12T05:25:45.499Z"
   },
   {
    "duration": 52462,
    "start_time": "2022-05-12T05:25:45.503Z"
   },
   {
    "duration": 437866,
    "start_time": "2022-05-12T05:26:37.967Z"
   },
   {
    "duration": 1333,
    "start_time": "2022-05-12T05:38:37.192Z"
   },
   {
    "duration": 836,
    "start_time": "2022-05-12T05:38:38.527Z"
   },
   {
    "duration": 16,
    "start_time": "2022-05-12T05:38:39.365Z"
   },
   {
    "duration": 52,
    "start_time": "2022-05-12T05:38:39.383Z"
   },
   {
    "duration": 11,
    "start_time": "2022-05-12T05:38:39.437Z"
   },
   {
    "duration": 21,
    "start_time": "2022-05-12T05:38:39.449Z"
   },
   {
    "duration": 11,
    "start_time": "2022-05-12T05:38:39.471Z"
   },
   {
    "duration": 101266,
    "start_time": "2022-05-12T05:38:39.484Z"
   },
   {
    "duration": 13,
    "start_time": "2022-05-12T05:40:20.752Z"
   },
   {
    "duration": 66,
    "start_time": "2022-05-12T05:40:20.767Z"
   },
   {
    "duration": 12,
    "start_time": "2022-05-12T05:40:20.835Z"
   },
   {
    "duration": 10,
    "start_time": "2022-05-12T05:40:20.848Z"
   },
   {
    "duration": 23,
    "start_time": "2022-05-12T05:40:20.859Z"
   },
   {
    "duration": 41,
    "start_time": "2022-05-12T05:40:20.884Z"
   },
   {
    "duration": 16,
    "start_time": "2022-05-12T05:40:20.926Z"
   },
   {
    "duration": 46,
    "start_time": "2022-05-12T05:40:20.943Z"
   },
   {
    "duration": 4,
    "start_time": "2022-05-12T05:40:20.991Z"
   },
   {
    "duration": 11779,
    "start_time": "2022-05-12T05:40:20.997Z"
   },
   {
    "duration": 2,
    "start_time": "2022-05-12T05:40:32.778Z"
   },
   {
    "duration": 53082,
    "start_time": "2022-05-12T05:40:32.781Z"
   },
   {
    "duration": 451621,
    "start_time": "2022-05-12T05:41:25.865Z"
   },
   {
    "duration": 1687,
    "start_time": "2022-05-13T06:54:05.087Z"
   },
   {
    "duration": 6697,
    "start_time": "2022-05-13T06:55:09.818Z"
   },
   {
    "duration": 46,
    "start_time": "2022-05-13T06:55:20.760Z"
   },
   {
    "duration": 1013,
    "start_time": "2022-05-13T06:56:38.495Z"
   },
   {
    "duration": 19,
    "start_time": "2022-05-13T06:56:40.205Z"
   },
   {
    "duration": 39,
    "start_time": "2022-05-13T06:56:42.715Z"
   },
   {
    "duration": 7,
    "start_time": "2022-05-13T06:56:45.210Z"
   },
   {
    "duration": 10,
    "start_time": "2022-05-13T06:56:46.451Z"
   },
   {
    "duration": 5,
    "start_time": "2022-05-13T06:56:47.170Z"
   },
   {
    "duration": 127727,
    "start_time": "2022-05-13T06:56:50.667Z"
   },
   {
    "duration": 184900,
    "start_time": "2022-05-13T07:02:15.151Z"
   },
   {
    "duration": 354,
    "start_time": "2022-05-13T07:06:03.760Z"
   },
   {
    "duration": 3140,
    "start_time": "2022-05-13T07:06:36.774Z"
   },
   {
    "duration": 1568,
    "start_time": "2022-05-13T07:06:39.917Z"
   },
   {
    "duration": 1031,
    "start_time": "2022-05-13T07:06:41.487Z"
   },
   {
    "duration": 26,
    "start_time": "2022-05-13T07:06:42.520Z"
   },
   {
    "duration": 54,
    "start_time": "2022-05-13T07:06:42.549Z"
   },
   {
    "duration": 6,
    "start_time": "2022-05-13T07:06:42.605Z"
   },
   {
    "duration": 8,
    "start_time": "2022-05-13T07:06:42.613Z"
   },
   {
    "duration": 20,
    "start_time": "2022-05-13T07:06:42.622Z"
   },
   {
    "duration": 180226,
    "start_time": "2022-05-13T07:06:42.644Z"
   },
   {
    "duration": 16,
    "start_time": "2022-05-13T07:09:42.872Z"
   },
   {
    "duration": 9,
    "start_time": "2022-05-13T07:09:42.890Z"
   },
   {
    "duration": 10,
    "start_time": "2022-05-13T07:09:42.901Z"
   },
   {
    "duration": 3,
    "start_time": "2022-05-13T07:09:42.913Z"
   },
   {
    "duration": 3,
    "start_time": "2022-05-13T07:09:42.920Z"
   },
   {
    "duration": 21,
    "start_time": "2022-05-13T07:09:42.936Z"
   },
   {
    "duration": 21,
    "start_time": "2022-05-13T07:09:42.959Z"
   },
   {
    "duration": 19,
    "start_time": "2022-05-13T07:09:42.982Z"
   },
   {
    "duration": 4,
    "start_time": "2022-05-13T07:09:43.003Z"
   },
   {
    "duration": 4179,
    "start_time": "2022-05-13T07:09:43.009Z"
   },
   {
    "duration": 0,
    "start_time": "2022-05-13T07:09:47.190Z"
   },
   {
    "duration": 1,
    "start_time": "2022-05-13T07:09:47.192Z"
   },
   {
    "duration": 0,
    "start_time": "2022-05-13T07:09:47.194Z"
   },
   {
    "duration": 3666,
    "start_time": "2022-05-13T07:10:13.441Z"
   },
   {
    "duration": 3281,
    "start_time": "2022-05-13T07:10:33.442Z"
   },
   {
    "duration": 1804,
    "start_time": "2022-05-13T07:10:36.726Z"
   },
   {
    "duration": 1182,
    "start_time": "2022-05-13T07:10:38.532Z"
   },
   {
    "duration": 32,
    "start_time": "2022-05-13T07:10:39.716Z"
   },
   {
    "duration": 66,
    "start_time": "2022-05-13T07:10:39.751Z"
   },
   {
    "duration": 7,
    "start_time": "2022-05-13T07:10:39.819Z"
   },
   {
    "duration": 16,
    "start_time": "2022-05-13T07:10:39.828Z"
   },
   {
    "duration": 31,
    "start_time": "2022-05-13T07:10:39.855Z"
   },
   {
    "duration": 131705,
    "start_time": "2022-05-13T07:10:39.888Z"
   },
   {
    "duration": 14,
    "start_time": "2022-05-13T07:12:51.595Z"
   },
   {
    "duration": 82,
    "start_time": "2022-05-13T07:12:51.611Z"
   },
   {
    "duration": 10,
    "start_time": "2022-05-13T07:12:51.695Z"
   },
   {
    "duration": 7,
    "start_time": "2022-05-13T07:12:51.707Z"
   },
   {
    "duration": 25,
    "start_time": "2022-05-13T07:12:51.716Z"
   },
   {
    "duration": 33,
    "start_time": "2022-05-13T07:12:51.744Z"
   },
   {
    "duration": 5,
    "start_time": "2022-05-13T07:12:51.779Z"
   },
   {
    "duration": 31,
    "start_time": "2022-05-13T07:12:51.786Z"
   },
   {
    "duration": 5,
    "start_time": "2022-05-13T07:12:51.819Z"
   },
   {
    "duration": 13877,
    "start_time": "2022-05-13T07:12:51.826Z"
   },
   {
    "duration": 2,
    "start_time": "2022-05-13T07:13:05.705Z"
   },
   {
    "duration": 64163,
    "start_time": "2022-05-13T07:13:05.709Z"
   },
   {
    "duration": 189552,
    "start_time": "2022-05-13T07:14:09.875Z"
   },
   {
    "duration": 91,
    "start_time": "2022-05-13T07:17:19.430Z"
   },
   {
    "duration": 4,
    "start_time": "2022-05-13T07:20:07.762Z"
   },
   {
    "duration": 154,
    "start_time": "2022-05-13T07:20:15.717Z"
   },
   {
    "duration": 7,
    "start_time": "2022-05-13T07:20:40.804Z"
   },
   {
    "duration": 6,
    "start_time": "2022-05-13T07:22:11.613Z"
   },
   {
    "duration": 922,
    "start_time": "2022-05-13T07:22:13.092Z"
   },
   {
    "duration": 12,
    "start_time": "2022-05-13T07:22:16.012Z"
   },
   {
    "duration": 39,
    "start_time": "2022-05-13T07:22:19.626Z"
   },
   {
    "duration": 8,
    "start_time": "2022-05-13T07:22:20.658Z"
   },
   {
    "duration": 9,
    "start_time": "2022-05-13T07:22:21.161Z"
   },
   {
    "duration": 4,
    "start_time": "2022-05-13T07:22:21.595Z"
   },
   {
    "duration": 9157,
    "start_time": "2022-05-13T07:22:24.796Z"
   },
   {
    "duration": 13,
    "start_time": "2022-05-13T07:22:37.660Z"
   },
   {
    "duration": 1835,
    "start_time": "2022-05-13T07:28:15.473Z"
   },
   {
    "duration": 8161,
    "start_time": "2022-05-13T07:32:59.017Z"
   },
   {
    "duration": 3,
    "start_time": "2022-05-13T07:42:07.067Z"
   },
   {
    "duration": 22,
    "start_time": "2022-05-13T07:42:08.279Z"
   },
   {
    "duration": 4,
    "start_time": "2022-05-13T07:42:19.539Z"
   },
   {
    "duration": 3,
    "start_time": "2022-05-13T07:42:20.165Z"
   },
   {
    "duration": 4,
    "start_time": "2022-05-13T07:42:39.353Z"
   },
   {
    "duration": 3,
    "start_time": "2022-05-13T07:43:21.059Z"
   },
   {
    "duration": 5,
    "start_time": "2022-05-13T07:43:21.856Z"
   },
   {
    "duration": 4,
    "start_time": "2022-05-13T07:43:22.606Z"
   },
   {
    "duration": 3,
    "start_time": "2022-05-13T07:50:05.104Z"
   },
   {
    "duration": 4,
    "start_time": "2022-05-13T07:50:05.650Z"
   },
   {
    "duration": 4,
    "start_time": "2022-05-13T07:50:06.169Z"
   },
   {
    "duration": 7,
    "start_time": "2022-05-13T07:51:33.152Z"
   },
   {
    "duration": 7776,
    "start_time": "2022-05-13T07:51:41.023Z"
   },
   {
    "duration": 3,
    "start_time": "2022-05-13T07:51:53.024Z"
   },
   {
    "duration": 3,
    "start_time": "2022-05-13T07:51:53.691Z"
   },
   {
    "duration": 4,
    "start_time": "2022-05-13T07:51:54.374Z"
   },
   {
    "duration": 15,
    "start_time": "2022-05-13T07:53:19.215Z"
   },
   {
    "duration": 15,
    "start_time": "2022-05-13T07:53:40.850Z"
   },
   {
    "duration": 16,
    "start_time": "2022-05-13T07:53:51.148Z"
   },
   {
    "duration": 6,
    "start_time": "2022-05-13T07:54:29.451Z"
   },
   {
    "duration": 3,
    "start_time": "2022-05-13T07:55:42.892Z"
   },
   {
    "duration": 3,
    "start_time": "2022-05-13T07:55:43.550Z"
   },
   {
    "duration": 4,
    "start_time": "2022-05-13T07:55:44.408Z"
   },
   {
    "duration": 4,
    "start_time": "2022-05-13T07:56:52.951Z"
   },
   {
    "duration": 3,
    "start_time": "2022-05-13T07:56:53.914Z"
   },
   {
    "duration": 16,
    "start_time": "2022-05-13T07:57:27.325Z"
   },
   {
    "duration": 3,
    "start_time": "2022-05-13T07:57:34.661Z"
   },
   {
    "duration": 4,
    "start_time": "2022-05-13T07:57:49.614Z"
   },
   {
    "duration": 4,
    "start_time": "2022-05-13T07:58:03.429Z"
   },
   {
    "duration": 9,
    "start_time": "2022-05-13T07:58:06.230Z"
   },
   {
    "duration": 3,
    "start_time": "2022-05-13T07:58:06.767Z"
   },
   {
    "duration": 1360,
    "start_time": "2022-05-13T08:01:22.404Z"
   },
   {
    "duration": 9884,
    "start_time": "2022-05-13T08:02:04.661Z"
   },
   {
    "duration": 9896,
    "start_time": "2022-05-13T08:03:24.112Z"
   },
   {
    "duration": 4,
    "start_time": "2022-05-13T08:03:44.519Z"
   },
   {
    "duration": 1662,
    "start_time": "2022-05-13T08:03:44.525Z"
   },
   {
    "duration": 1065,
    "start_time": "2022-05-13T08:03:46.190Z"
   },
   {
    "duration": 19,
    "start_time": "2022-05-13T08:03:47.258Z"
   },
   {
    "duration": 34,
    "start_time": "2022-05-13T08:03:47.279Z"
   },
   {
    "duration": 29,
    "start_time": "2022-05-13T08:03:47.315Z"
   },
   {
    "duration": 22,
    "start_time": "2022-05-13T08:03:47.346Z"
   },
   {
    "duration": 5,
    "start_time": "2022-05-13T08:03:47.371Z"
   },
   {
    "duration": 8948,
    "start_time": "2022-05-13T08:03:47.380Z"
   },
   {
    "duration": 10896,
    "start_time": "2022-05-13T08:03:56.334Z"
   },
   {
    "duration": 5,
    "start_time": "2022-05-13T08:04:07.232Z"
   },
   {
    "duration": 33,
    "start_time": "2022-05-13T08:04:07.238Z"
   },
   {
    "duration": 5,
    "start_time": "2022-05-13T08:04:07.273Z"
   },
   {
    "duration": 6,
    "start_time": "2022-05-13T08:04:07.280Z"
   },
   {
    "duration": 7,
    "start_time": "2022-05-13T08:04:07.288Z"
   },
   {
    "duration": 17,
    "start_time": "2022-05-13T08:04:07.296Z"
   },
   {
    "duration": 45,
    "start_time": "2022-05-13T08:04:07.315Z"
   },
   {
    "duration": 12,
    "start_time": "2022-05-13T08:04:07.362Z"
   },
   {
    "duration": 10,
    "start_time": "2022-05-13T08:04:07.375Z"
   },
   {
    "duration": 9,
    "start_time": "2022-05-13T08:04:07.387Z"
   },
   {
    "duration": 18,
    "start_time": "2022-05-13T08:04:07.397Z"
   },
   {
    "duration": 29,
    "start_time": "2022-05-13T08:04:07.416Z"
   },
   {
    "duration": 48,
    "start_time": "2022-05-13T08:04:07.447Z"
   },
   {
    "duration": 4,
    "start_time": "2022-05-13T08:04:07.498Z"
   },
   {
    "duration": 13928,
    "start_time": "2022-05-13T08:04:07.504Z"
   },
   {
    "duration": 9,
    "start_time": "2022-05-13T08:04:21.434Z"
   },
   {
    "duration": 5,
    "start_time": "2022-05-13T08:04:49.678Z"
   },
   {
    "duration": 1582,
    "start_time": "2022-05-13T08:04:49.685Z"
   },
   {
    "duration": 1040,
    "start_time": "2022-05-13T08:04:51.270Z"
   },
   {
    "duration": 25,
    "start_time": "2022-05-13T08:04:52.311Z"
   },
   {
    "duration": 37,
    "start_time": "2022-05-13T08:04:52.340Z"
   },
   {
    "duration": 11,
    "start_time": "2022-05-13T08:04:52.379Z"
   },
   {
    "duration": 8,
    "start_time": "2022-05-13T08:04:52.391Z"
   },
   {
    "duration": 8,
    "start_time": "2022-05-13T08:04:52.401Z"
   },
   {
    "duration": 9305,
    "start_time": "2022-05-13T08:04:52.410Z"
   },
   {
    "duration": 3,
    "start_time": "2022-05-13T08:05:01.718Z"
   },
   {
    "duration": 31,
    "start_time": "2022-05-13T08:05:01.737Z"
   },
   {
    "duration": 16,
    "start_time": "2022-05-13T08:05:01.770Z"
   },
   {
    "duration": 21,
    "start_time": "2022-05-13T08:05:01.788Z"
   },
   {
    "duration": 14,
    "start_time": "2022-05-13T08:05:01.811Z"
   },
   {
    "duration": 51,
    "start_time": "2022-05-13T08:05:01.827Z"
   },
   {
    "duration": 19,
    "start_time": "2022-05-13T08:05:01.879Z"
   },
   {
    "duration": 71,
    "start_time": "2022-05-13T08:05:01.899Z"
   },
   {
    "duration": 11,
    "start_time": "2022-05-13T08:05:01.972Z"
   },
   {
    "duration": 21,
    "start_time": "2022-05-13T08:05:01.987Z"
   },
   {
    "duration": 10,
    "start_time": "2022-05-13T08:05:02.010Z"
   },
   {
    "duration": 25,
    "start_time": "2022-05-13T08:05:02.023Z"
   },
   {
    "duration": 30,
    "start_time": "2022-05-13T08:05:02.050Z"
   },
   {
    "duration": 43,
    "start_time": "2022-05-13T08:05:02.082Z"
   },
   {
    "duration": 4,
    "start_time": "2022-05-13T08:05:02.127Z"
   },
   {
    "duration": 13837,
    "start_time": "2022-05-13T08:05:02.133Z"
   },
   {
    "duration": 3,
    "start_time": "2022-05-13T08:05:15.972Z"
   },
   {
    "duration": 39090,
    "start_time": "2022-05-13T08:05:15.976Z"
   },
   {
    "duration": 589215,
    "start_time": "2022-05-13T08:05:55.068Z"
   },
   {
    "duration": 216,
    "start_time": "2022-05-13T08:24:18.060Z"
   },
   {
    "duration": 206,
    "start_time": "2022-05-13T08:25:43.823Z"
   },
   {
    "duration": 204,
    "start_time": "2022-05-13T08:26:51.360Z"
   },
   {
    "duration": 3731,
    "start_time": "2022-05-13T08:29:46.926Z"
   },
   {
    "duration": 15,
    "start_time": "2022-05-13T08:30:17.913Z"
   },
   {
    "duration": 4,
    "start_time": "2022-05-13T08:30:33.506Z"
   },
   {
    "duration": 1593,
    "start_time": "2022-05-13T08:30:33.513Z"
   },
   {
    "duration": 1082,
    "start_time": "2022-05-13T08:30:35.107Z"
   },
   {
    "duration": 19,
    "start_time": "2022-05-13T08:30:36.191Z"
   },
   {
    "duration": 57,
    "start_time": "2022-05-13T08:30:36.212Z"
   },
   {
    "duration": 7,
    "start_time": "2022-05-13T08:30:36.272Z"
   },
   {
    "duration": 13,
    "start_time": "2022-05-13T08:30:36.282Z"
   },
   {
    "duration": 4,
    "start_time": "2022-05-13T08:30:36.298Z"
   },
   {
    "duration": 9744,
    "start_time": "2022-05-13T08:30:36.304Z"
   },
   {
    "duration": 10146,
    "start_time": "2022-05-13T08:30:46.050Z"
   },
   {
    "duration": 224,
    "start_time": "2022-05-13T08:30:56.198Z"
   },
   {
    "duration": 0,
    "start_time": "2022-05-13T08:30:56.424Z"
   },
   {
    "duration": 0,
    "start_time": "2022-05-13T08:30:56.426Z"
   },
   {
    "duration": 0,
    "start_time": "2022-05-13T08:30:56.427Z"
   },
   {
    "duration": 0,
    "start_time": "2022-05-13T08:30:56.429Z"
   },
   {
    "duration": 0,
    "start_time": "2022-05-13T08:30:56.430Z"
   },
   {
    "duration": 0,
    "start_time": "2022-05-13T08:30:56.431Z"
   },
   {
    "duration": 0,
    "start_time": "2022-05-13T08:30:56.432Z"
   },
   {
    "duration": 0,
    "start_time": "2022-05-13T08:30:56.440Z"
   },
   {
    "duration": 0,
    "start_time": "2022-05-13T08:30:56.443Z"
   },
   {
    "duration": 0,
    "start_time": "2022-05-13T08:30:56.444Z"
   },
   {
    "duration": 0,
    "start_time": "2022-05-13T08:30:56.445Z"
   },
   {
    "duration": 0,
    "start_time": "2022-05-13T08:30:56.449Z"
   },
   {
    "duration": 0,
    "start_time": "2022-05-13T08:30:56.451Z"
   },
   {
    "duration": 0,
    "start_time": "2022-05-13T08:30:56.452Z"
   },
   {
    "duration": 0,
    "start_time": "2022-05-13T08:30:56.455Z"
   },
   {
    "duration": 0,
    "start_time": "2022-05-13T08:30:56.457Z"
   },
   {
    "duration": 0,
    "start_time": "2022-05-13T08:30:56.459Z"
   },
   {
    "duration": 0,
    "start_time": "2022-05-13T08:30:56.461Z"
   },
   {
    "duration": 9063,
    "start_time": "2022-05-13T08:31:24.736Z"
   },
   {
    "duration": 9558,
    "start_time": "2022-05-13T08:31:39.374Z"
   },
   {
    "duration": 11160,
    "start_time": "2022-05-13T08:32:00.807Z"
   },
   {
    "duration": 3,
    "start_time": "2022-05-13T08:57:33.330Z"
   },
   {
    "duration": 5,
    "start_time": "2022-05-13T08:57:49.406Z"
   },
   {
    "duration": 1653,
    "start_time": "2022-05-13T08:57:49.413Z"
   },
   {
    "duration": 1149,
    "start_time": "2022-05-13T08:57:51.068Z"
   },
   {
    "duration": 30,
    "start_time": "2022-05-13T08:57:52.219Z"
   },
   {
    "duration": 66,
    "start_time": "2022-05-13T08:57:52.251Z"
   },
   {
    "duration": 6,
    "start_time": "2022-05-13T08:57:52.319Z"
   },
   {
    "duration": 21,
    "start_time": "2022-05-13T08:57:52.326Z"
   },
   {
    "duration": 36,
    "start_time": "2022-05-13T08:57:52.349Z"
   },
   {
    "duration": 10478,
    "start_time": "2022-05-13T08:57:52.388Z"
   },
   {
    "duration": 7,
    "start_time": "2022-05-13T08:58:02.871Z"
   },
   {
    "duration": 7,
    "start_time": "2022-05-13T08:58:02.882Z"
   },
   {
    "duration": 8,
    "start_time": "2022-05-13T08:58:02.891Z"
   },
   {
    "duration": 12,
    "start_time": "2022-05-13T08:58:02.902Z"
   },
   {
    "duration": 14,
    "start_time": "2022-05-13T08:58:02.916Z"
   },
   {
    "duration": 53,
    "start_time": "2022-05-13T08:58:02.933Z"
   },
   {
    "duration": 20,
    "start_time": "2022-05-13T08:58:02.988Z"
   },
   {
    "duration": 74,
    "start_time": "2022-05-13T08:58:03.009Z"
   },
   {
    "duration": 24,
    "start_time": "2022-05-13T08:58:03.085Z"
   },
   {
    "duration": 70,
    "start_time": "2022-05-13T08:58:03.110Z"
   },
   {
    "duration": 13,
    "start_time": "2022-05-13T08:58:03.182Z"
   },
   {
    "duration": 24,
    "start_time": "2022-05-13T08:58:03.197Z"
   },
   {
    "duration": 11,
    "start_time": "2022-05-13T08:58:03.222Z"
   },
   {
    "duration": 77,
    "start_time": "2022-05-13T08:58:03.235Z"
   },
   {
    "duration": 5,
    "start_time": "2022-05-13T08:58:03.315Z"
   },
   {
    "duration": 9597,
    "start_time": "2022-05-13T08:58:03.321Z"
   },
   {
    "duration": 3,
    "start_time": "2022-05-13T08:58:12.920Z"
   },
   {
    "duration": 39446,
    "start_time": "2022-05-13T08:58:12.925Z"
   },
   {
    "duration": 588929,
    "start_time": "2022-05-13T08:58:52.372Z"
   },
   {
    "duration": 157,
    "start_time": "2022-05-13T09:09:27.929Z"
   },
   {
    "duration": 4,
    "start_time": "2022-05-13T09:09:39.093Z"
   },
   {
    "duration": 1633,
    "start_time": "2022-05-13T09:09:39.099Z"
   },
   {
    "duration": 1092,
    "start_time": "2022-05-13T09:09:40.736Z"
   },
   {
    "duration": 29,
    "start_time": "2022-05-13T09:09:41.830Z"
   },
   {
    "duration": 75,
    "start_time": "2022-05-13T09:09:41.861Z"
   },
   {
    "duration": 34,
    "start_time": "2022-05-13T09:09:41.938Z"
   },
   {
    "duration": 24,
    "start_time": "2022-05-13T09:09:41.974Z"
   },
   {
    "duration": 25,
    "start_time": "2022-05-13T09:09:42.000Z"
   },
   {
    "duration": 10390,
    "start_time": "2022-05-13T09:09:42.027Z"
   },
   {
    "duration": 2,
    "start_time": "2022-05-13T09:09:52.419Z"
   },
   {
    "duration": 36,
    "start_time": "2022-05-13T09:09:52.436Z"
   },
   {
    "duration": 147,
    "start_time": "2022-05-13T09:09:52.475Z"
   },
   {
    "duration": 0,
    "start_time": "2022-05-13T09:09:52.624Z"
   },
   {
    "duration": 0,
    "start_time": "2022-05-13T09:09:52.625Z"
   },
   {
    "duration": 0,
    "start_time": "2022-05-13T09:09:52.627Z"
   },
   {
    "duration": 0,
    "start_time": "2022-05-13T09:09:52.628Z"
   },
   {
    "duration": 0,
    "start_time": "2022-05-13T09:09:52.641Z"
   },
   {
    "duration": 0,
    "start_time": "2022-05-13T09:09:52.642Z"
   },
   {
    "duration": 0,
    "start_time": "2022-05-13T09:09:52.643Z"
   },
   {
    "duration": 0,
    "start_time": "2022-05-13T09:09:52.646Z"
   },
   {
    "duration": 0,
    "start_time": "2022-05-13T09:09:52.648Z"
   },
   {
    "duration": 0,
    "start_time": "2022-05-13T09:09:52.649Z"
   },
   {
    "duration": 0,
    "start_time": "2022-05-13T09:09:52.652Z"
   },
   {
    "duration": 0,
    "start_time": "2022-05-13T09:09:52.653Z"
   },
   {
    "duration": 0,
    "start_time": "2022-05-13T09:09:52.655Z"
   },
   {
    "duration": 0,
    "start_time": "2022-05-13T09:09:52.656Z"
   },
   {
    "duration": 10,
    "start_time": "2022-05-13T09:10:36.207Z"
   },
   {
    "duration": 23,
    "start_time": "2022-05-13T09:11:12.858Z"
   },
   {
    "duration": 9453,
    "start_time": "2022-05-13T09:13:16.562Z"
   },
   {
    "duration": 19,
    "start_time": "2022-05-13T09:13:36.277Z"
   },
   {
    "duration": 8,
    "start_time": "2022-05-13T09:18:17.710Z"
   },
   {
    "duration": 22,
    "start_time": "2022-05-13T09:19:27.017Z"
   },
   {
    "duration": 16,
    "start_time": "2022-05-13T09:22:59.666Z"
   },
   {
    "duration": 25,
    "start_time": "2022-05-13T09:24:03.758Z"
   },
   {
    "duration": 230,
    "start_time": "2022-05-13T09:25:16.895Z"
   },
   {
    "duration": 8,
    "start_time": "2022-05-13T09:25:37.078Z"
   },
   {
    "duration": 7,
    "start_time": "2022-05-13T09:26:08.119Z"
   },
   {
    "duration": 2844,
    "start_time": "2022-05-13T09:26:41.469Z"
   },
   {
    "duration": 16,
    "start_time": "2022-05-13T09:26:51.605Z"
   },
   {
    "duration": 6917,
    "start_time": "2022-05-13T09:27:54.058Z"
   },
   {
    "duration": 2,
    "start_time": "2022-05-13T09:29:10.599Z"
   },
   {
    "duration": 199,
    "start_time": "2022-05-13T09:29:33.324Z"
   },
   {
    "duration": 181,
    "start_time": "2022-05-13T09:29:38.068Z"
   },
   {
    "duration": 4,
    "start_time": "2022-05-13T09:41:36.248Z"
   },
   {
    "duration": 1576,
    "start_time": "2022-05-13T09:41:36.254Z"
   },
   {
    "duration": 1020,
    "start_time": "2022-05-13T09:41:37.832Z"
   },
   {
    "duration": 17,
    "start_time": "2022-05-13T09:41:38.854Z"
   },
   {
    "duration": 34,
    "start_time": "2022-05-13T09:41:38.873Z"
   },
   {
    "duration": 36,
    "start_time": "2022-05-13T09:41:38.910Z"
   },
   {
    "duration": 7,
    "start_time": "2022-05-13T09:41:38.948Z"
   },
   {
    "duration": 5,
    "start_time": "2022-05-13T09:41:38.956Z"
   },
   {
    "duration": 3809,
    "start_time": "2022-05-13T09:41:38.964Z"
   },
   {
    "duration": 13,
    "start_time": "2022-05-13T09:41:42.774Z"
   },
   {
    "duration": 5,
    "start_time": "2022-05-13T09:41:42.789Z"
   },
   {
    "duration": 44,
    "start_time": "2022-05-13T09:41:42.796Z"
   },
   {
    "duration": 13,
    "start_time": "2022-05-13T09:41:42.843Z"
   },
   {
    "duration": 77,
    "start_time": "2022-05-13T09:41:42.858Z"
   },
   {
    "duration": 13,
    "start_time": "2022-05-13T09:41:42.937Z"
   },
   {
    "duration": 4,
    "start_time": "2022-05-13T09:41:42.952Z"
   },
   {
    "duration": 7,
    "start_time": "2022-05-13T09:41:42.957Z"
   },
   {
    "duration": 17,
    "start_time": "2022-05-13T09:41:42.966Z"
   },
   {
    "duration": 6,
    "start_time": "2022-05-13T09:41:42.984Z"
   },
   {
    "duration": 69,
    "start_time": "2022-05-13T09:41:42.992Z"
   },
   {
    "duration": 5,
    "start_time": "2022-05-13T09:41:43.063Z"
   },
   {
    "duration": 9248,
    "start_time": "2022-05-13T09:41:43.070Z"
   },
   {
    "duration": 3,
    "start_time": "2022-05-13T09:41:52.321Z"
   },
   {
    "duration": 50735,
    "start_time": "2022-05-13T09:41:52.342Z"
   },
   {
    "duration": 570182,
    "start_time": "2022-05-13T09:42:43.079Z"
   },
   {
    "duration": 4,
    "start_time": "2022-05-13T09:52:42.927Z"
   },
   {
    "duration": 1518,
    "start_time": "2022-05-13T09:52:42.933Z"
   },
   {
    "duration": 1017,
    "start_time": "2022-05-13T09:52:44.453Z"
   },
   {
    "duration": 18,
    "start_time": "2022-05-13T09:52:45.472Z"
   },
   {
    "duration": 53,
    "start_time": "2022-05-13T09:52:45.492Z"
   },
   {
    "duration": 8,
    "start_time": "2022-05-13T09:52:45.547Z"
   },
   {
    "duration": 8,
    "start_time": "2022-05-13T09:52:45.557Z"
   },
   {
    "duration": 4,
    "start_time": "2022-05-13T09:52:45.567Z"
   },
   {
    "duration": 3708,
    "start_time": "2022-05-13T09:52:45.574Z"
   },
   {
    "duration": 13,
    "start_time": "2022-05-13T09:52:49.285Z"
   },
   {
    "duration": 5,
    "start_time": "2022-05-13T09:52:49.300Z"
   },
   {
    "duration": 37,
    "start_time": "2022-05-13T09:52:49.307Z"
   },
   {
    "duration": 11,
    "start_time": "2022-05-13T09:52:49.348Z"
   },
   {
    "duration": 87,
    "start_time": "2022-05-13T09:52:49.362Z"
   },
   {
    "duration": 10,
    "start_time": "2022-05-13T09:52:49.451Z"
   },
   {
    "duration": 9,
    "start_time": "2022-05-13T09:52:49.463Z"
   },
   {
    "duration": 7,
    "start_time": "2022-05-13T09:52:49.474Z"
   },
   {
    "duration": 21,
    "start_time": "2022-05-13T09:52:49.483Z"
   },
   {
    "duration": 19,
    "start_time": "2022-05-13T09:52:49.506Z"
   },
   {
    "duration": 35,
    "start_time": "2022-05-13T09:52:49.527Z"
   },
   {
    "duration": 4,
    "start_time": "2022-05-13T09:52:49.564Z"
   },
   {
    "duration": 5328,
    "start_time": "2022-05-13T09:52:49.570Z"
   },
   {
    "duration": 3,
    "start_time": "2022-05-13T09:52:54.899Z"
   },
   {
    "duration": 50366,
    "start_time": "2022-05-13T09:52:54.904Z"
   },
   {
    "duration": 4,
    "start_time": "2022-05-13T09:54:21.850Z"
   },
   {
    "duration": 1561,
    "start_time": "2022-05-13T09:54:21.856Z"
   },
   {
    "duration": 1074,
    "start_time": "2022-05-13T09:54:23.419Z"
   },
   {
    "duration": 19,
    "start_time": "2022-05-13T09:54:24.495Z"
   },
   {
    "duration": 52,
    "start_time": "2022-05-13T09:54:24.517Z"
   },
   {
    "duration": 6,
    "start_time": "2022-05-13T09:54:24.571Z"
   },
   {
    "duration": 8,
    "start_time": "2022-05-13T09:54:24.579Z"
   },
   {
    "duration": 7,
    "start_time": "2022-05-13T09:54:24.588Z"
   },
   {
    "duration": 3799,
    "start_time": "2022-05-13T09:54:24.597Z"
   },
   {
    "duration": 14,
    "start_time": "2022-05-13T09:54:28.398Z"
   },
   {
    "duration": 3,
    "start_time": "2022-05-13T09:54:28.439Z"
   },
   {
    "duration": 27,
    "start_time": "2022-05-13T09:54:28.444Z"
   },
   {
    "duration": 14,
    "start_time": "2022-05-13T09:54:28.473Z"
   },
   {
    "duration": 80,
    "start_time": "2022-05-13T09:54:28.490Z"
   },
   {
    "duration": 11,
    "start_time": "2022-05-13T09:54:28.572Z"
   },
   {
    "duration": 4,
    "start_time": "2022-05-13T09:54:28.585Z"
   },
   {
    "duration": 6,
    "start_time": "2022-05-13T09:54:28.591Z"
   },
   {
    "duration": 46,
    "start_time": "2022-05-13T09:54:28.599Z"
   },
   {
    "duration": 15,
    "start_time": "2022-05-13T09:54:28.647Z"
   },
   {
    "duration": 29,
    "start_time": "2022-05-13T09:54:28.663Z"
   },
   {
    "duration": 4,
    "start_time": "2022-05-13T09:54:28.694Z"
   },
   {
    "duration": 8700,
    "start_time": "2022-05-13T09:54:28.700Z"
   },
   {
    "duration": 3,
    "start_time": "2022-05-13T09:54:37.402Z"
   },
   {
    "duration": 45554,
    "start_time": "2022-05-13T09:54:37.406Z"
   },
   {
    "duration": 591886,
    "start_time": "2022-05-13T09:55:22.962Z"
   },
   {
    "duration": 4,
    "start_time": "2022-05-13T10:09:43.387Z"
   },
   {
    "duration": 1515,
    "start_time": "2022-05-13T10:09:43.394Z"
   },
   {
    "duration": 1035,
    "start_time": "2022-05-13T10:09:44.910Z"
   },
   {
    "duration": 17,
    "start_time": "2022-05-13T10:09:45.947Z"
   },
   {
    "duration": 37,
    "start_time": "2022-05-13T10:09:45.966Z"
   },
   {
    "duration": 7,
    "start_time": "2022-05-13T10:09:46.005Z"
   },
   {
    "duration": 9,
    "start_time": "2022-05-13T10:09:46.044Z"
   },
   {
    "duration": 7,
    "start_time": "2022-05-13T10:09:46.055Z"
   },
   {
    "duration": 10363,
    "start_time": "2022-05-13T10:09:46.065Z"
   },
   {
    "duration": 14,
    "start_time": "2022-05-13T10:09:56.439Z"
   },
   {
    "duration": 7,
    "start_time": "2022-05-13T10:09:56.454Z"
   },
   {
    "duration": 18,
    "start_time": "2022-05-13T10:09:56.462Z"
   },
   {
    "duration": 77,
    "start_time": "2022-05-13T10:09:56.481Z"
   },
   {
    "duration": 11,
    "start_time": "2022-05-13T10:09:56.560Z"
   },
   {
    "duration": 17,
    "start_time": "2022-05-13T10:09:56.573Z"
   },
   {
    "duration": 8,
    "start_time": "2022-05-13T10:09:56.592Z"
   },
   {
    "duration": 15,
    "start_time": "2022-05-13T10:09:56.602Z"
   },
   {
    "duration": 30,
    "start_time": "2022-05-13T10:09:56.620Z"
   },
   {
    "duration": 31,
    "start_time": "2022-05-13T10:09:56.652Z"
   },
   {
    "duration": 3,
    "start_time": "2022-05-13T10:09:56.685Z"
   },
   {
    "duration": 7944,
    "start_time": "2022-05-13T10:09:56.690Z"
   },
   {
    "duration": 3,
    "start_time": "2022-05-13T10:10:04.636Z"
   },
   {
    "duration": 35908,
    "start_time": "2022-05-13T10:10:04.641Z"
   },
   {
    "duration": 529828,
    "start_time": "2022-05-13T10:10:40.552Z"
   },
   {
    "duration": 1563,
    "start_time": "2022-06-18T19:36:16.414Z"
   },
   {
    "duration": 3480,
    "start_time": "2022-06-18T19:36:17.979Z"
   },
   {
    "duration": 17,
    "start_time": "2022-06-18T19:36:21.460Z"
   },
   {
    "duration": 32,
    "start_time": "2022-06-18T19:36:21.479Z"
   },
   {
    "duration": 6,
    "start_time": "2022-06-18T19:36:21.513Z"
   },
   {
    "duration": 22,
    "start_time": "2022-06-18T19:36:21.521Z"
   },
   {
    "duration": 5,
    "start_time": "2022-06-18T19:36:21.546Z"
   },
   {
    "duration": 7761,
    "start_time": "2022-06-18T19:36:21.553Z"
   },
   {
    "duration": 29,
    "start_time": "2022-06-18T19:36:29.315Z"
   },
   {
    "duration": 26,
    "start_time": "2022-06-18T19:36:29.346Z"
   },
   {
    "duration": 71,
    "start_time": "2022-06-18T19:36:29.374Z"
   },
   {
    "duration": 10,
    "start_time": "2022-06-18T19:36:29.447Z"
   },
   {
    "duration": 16,
    "start_time": "2022-06-18T19:36:29.459Z"
   },
   {
    "duration": 6,
    "start_time": "2022-06-18T19:36:29.477Z"
   },
   {
    "duration": 60,
    "start_time": "2022-06-18T19:36:29.485Z"
   },
   {
    "duration": 5,
    "start_time": "2022-06-18T19:36:29.546Z"
   },
   {
    "duration": 7688,
    "start_time": "2022-06-18T19:36:29.552Z"
   },
   {
    "duration": 38700,
    "start_time": "2022-06-18T19:36:37.243Z"
   },
   {
    "duration": 550924,
    "start_time": "2022-06-18T19:37:15.946Z"
   }
  ],
  "kernelspec": {
   "display_name": "Python 3 (ipykernel)",
   "language": "python",
   "name": "python3"
  },
  "language_info": {
   "codemirror_mode": {
    "name": "ipython",
    "version": 3
   },
   "file_extension": ".py",
   "mimetype": "text/x-python",
   "name": "python",
   "nbconvert_exporter": "python",
   "pygments_lexer": "ipython3",
   "version": "3.9.5"
  },
  "toc": {
   "base_numbering": 1,
   "nav_menu": {},
   "number_sections": true,
   "sideBar": true,
   "skip_h1_title": true,
   "title_cell": "Содержание",
   "title_sidebar": "Contents",
   "toc_cell": true,
   "toc_position": {
    "height": "calc(100% - 180px)",
    "left": "10px",
    "top": "150px",
    "width": "302.391px"
   },
   "toc_section_display": true,
   "toc_window_display": false
  }
 },
 "nbformat": 4,
 "nbformat_minor": 2
}
