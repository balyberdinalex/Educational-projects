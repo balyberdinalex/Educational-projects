{
 "cells": [
  {
   "cell_type": "markdown",
   "metadata": {
    "pycharm": {
     "name": "#%% md\n"
    }
   },
   "source": [
    "## Описание проекта"
   ]
  },
  {
   "cell_type": "markdown",
   "metadata": {
    "pycharm": {
     "name": "#%% md\n"
    }
   },
   "source": [
    "Оператор связи «Ниединогоразрыва.ком» хочет научиться прогнозировать отток клиентов. Если выяснится, что пользователь планирует уйти, ему будут предложены промокоды и специальные условия. Команда оператора собрала персональные данные о некоторых клиентах, информацию об их тарифах и договорах.\n",
    "\n",
    "Целевой признак ушел клиент - `1` , не ушел - `0` обозначим как **`loss`**"
   ]
  },
  {
   "cell_type": "markdown",
   "metadata": {
    "pycharm": {
     "name": "#%% md\n"
    }
   },
   "source": [
    "## Описание данных"
   ]
  },
  {
   "cell_type": "markdown",
   "metadata": {
    "pycharm": {
     "name": "#%% md\n"
    }
   },
   "source": [
    "Данные состоят из файлов, полученных из разных источников:\n",
    "\n",
    "    contract.csv — информация о договоре;\n",
    "    personal.csv — персональные данные клиента;\n",
    "    internet.csv — информация об интернет-услугах;\n",
    "    phone.csv — информация об услугах телефонии.\n",
    "\n"
   ]
  },
  {
   "cell_type": "code",
   "execution_count": 1,
   "metadata": {
    "pycharm": {
     "name": "#%%\n"
    }
   },
   "outputs": [],
   "source": [
    "#!pip install catboost\n",
    "\n",
    "import pandas as pd\n",
    "import numpy as np \n",
    "import re\n",
    "import matplotlib.pyplot as plt \n",
    "import os\n",
    "\n",
    "from sklearn.model_selection import train_test_split, GridSearchCV \n",
    "from sklearn.metrics import roc_auc_score, roc_curve, accuracy_score\n",
    "\n",
    "from sklearn.preprocessing import OrdinalEncoder\n",
    "\n",
    "from sklearn.tree import DecisionTreeClassifier\n",
    "from sklearn.linear_model import LogisticRegression\n",
    "from sklearn.ensemble import RandomForestClassifier\n",
    "\n",
    "from sklearn.metrics import f1_score\n",
    "\n",
    "from sklearn.metrics import confusion_matrix # матрица ошибок\n",
    "from sklearn.metrics import recall_score # Полнота -доля истинно положительных классификаций\n",
    "from sklearn.metrics import precision_score #Точностью (precision) доля правильных ответов модели в пределах клаcса\n",
    "\n",
    "from catboost import CatBoostClassifier\n",
    "\n",
    "from sklearn.utils import shuffle\n",
    "\n",
    "from sklearn.preprocessing import StandardScaler\n",
    "\n",
    "\n",
    "#Уберем предупреждения\n",
    "import warnings\n",
    "warnings.filterwarnings('ignore')"
   ]
  },
  {
   "cell_type": "code",
   "execution_count": 2,
   "metadata": {
    "pycharm": {
     "name": "#%%\n"
    }
   },
   "outputs": [],
   "source": [
    "try:\n",
    "    #локальный адрес\n",
    "    df_contract = pd.read_csv(os.path.abspath(os.path.curdir)+'\\\\final_provider\\\\contract.csv')\n",
    "    df_personal = pd.read_csv(os.path.abspath(os.path.curdir)+'\\\\final_provider\\\\personal.csv')\n",
    "    df_internet = pd.read_csv(os.path.abspath(os.path.curdir)+'\\\\final_provider\\\\internet.csv')\n",
    "    df_phone = pd.read_csv(os.path.abspath(os.path.curdir)+'\\\\final_provider\\\\phone.csv')\n",
    "except:\n",
    "    #'адрес в тренажере'\n",
    "    df_contract = pd.read_csv('/datasets/final_provider/contract.csv')\n",
    "    df_personal = pd.read_csv('/datasets/final_provider/personal.csv')\n",
    "    df_internet = pd.read_csv('/datasets/final_provider/internet.csv')\n",
    "    df_phone = pd.read_csv('/datasets/final_provider/phone.csv')"
   ]
  },
  {
   "cell_type": "code",
   "execution_count": 3,
   "metadata": {
    "pycharm": {
     "name": "#%%\n"
    }
   },
   "outputs": [],
   "source": [
    "def info_df(df):\n",
    "    \"\"\"\n",
    "    Функция предназначена для получения информации о DataFrame, которая включает в себя:\n",
    "    1. общую информацию о данных\n",
    "    2. переименовывает столбцы в соответствии со стилем\n",
    "    \"\"\"\n",
    "    \n",
    "    column=[] #список для названия столбцов\n",
    "    column.append(df.columns[0])#индекс переименовывать не будем\n",
    "    \n",
    "    for i in range(1,len(df.columns)):\n",
    "        column.append(camel_snake(df.columns[i]))\n",
    "    \n",
    "    #print (column)\n",
    "\n",
    "    rename_column=dict(zip(df.columns, column))\n",
    "    #print(rename_column)\n",
    "    df.rename(columns=rename_column, inplace=True)\n",
    "    #display(df.describe())\n",
    "    display(df.info())\n",
    "    return df"
   ]
  },
  {
   "cell_type": "code",
   "execution_count": 4,
   "metadata": {
    "pycharm": {
     "name": "#%%\n"
    }
   },
   "outputs": [],
   "source": [
    "def camel_snake (n,separator='_'):\n",
    "    \"\"\"\n",
    "    Функция для перевода названия столбцов из \"верблюжего\" в \"змеиный\"\n",
    "    для работы функции нужен модуль \"re\"\n",
    "    \"\"\"\n",
    "    \n",
    "    list_string=re.sub(r'([A-Y])',r' \\1',n).split()\n",
    "    string=separator.join(list_string)\n",
    "    \n",
    "    return string.lower()"
   ]
  },
  {
   "cell_type": "code",
   "execution_count": 5,
   "metadata": {
    "pycharm": {
     "name": "#%%\n"
    }
   },
   "outputs": [],
   "source": [
    "def value_counts_df(df):\n",
    "    \"\"\"\n",
    "    Функция предназначена для получения уникальных значений в столбцах DataFrame\n",
    "    \"\"\"\n",
    "    \n",
    "        \n",
    "    for i in range(1,len(df.columns)):\n",
    "        \n",
    "        print('Столбец',df.columns[i])\n",
    "        display(df[df.columns[i]].value_counts())\n",
    "        \n",
    "    return"
   ]
  },
  {
   "cell_type": "code",
   "execution_count": 6,
   "metadata": {
    "pycharm": {
     "name": "#%%\n"
    }
   },
   "outputs": [],
   "source": [
    "def ROC (target_test, predictions):\n",
    "    \"\"\"\n",
    "    Функция построения ROC-AUC кривой\n",
    "    \"\"\"\n",
    "    print('ROC-AUC score', roc_auc_score(target_test, predictions))\n",
    "    \n",
    "    fpr, tpr, thresholds = roc_curve(target_test, predictions)\n",
    "    plt.figure()\n",
    "    plt.plot([0, 1], [0, 1], linestyle='--') # для случайной модели\n",
    "    plt.plot(fpr, tpr)\n",
    "    plt.xlim([0.0, 1.0])\n",
    "    plt.ylim([0.0, 1.0])\n",
    "    plt.xlabel('False Positive Rate')\n",
    "    plt.ylabel('True Positive Rate')\n",
    "    plt.title('ROC-кривая')\n",
    "    plt.show()\n",
    "    return"
   ]
  },
  {
   "cell_type": "code",
   "execution_count": 7,
   "metadata": {
    "pycharm": {
     "name": "#%%\n"
    }
   },
   "outputs": [],
   "source": [
    "def upsample(features, target, repeat):\n",
    "    \"\"\"\n",
    "    Функция масштабирования признаков\n",
    "    \"\"\"\n",
    "    features_zeros = features[target == 0]\n",
    "    features_ones = features[target == 1]\n",
    "    target_zeros = target[target == 0]\n",
    "    target_ones = target[target == 1]\n",
    "\n",
    "    features_upsampled = pd.concat([features_zeros] + [features_ones] * repeat)\n",
    "    target_upsampled = pd.concat([target_zeros] + [target_ones] * repeat)\n",
    "    \n",
    "    features_upsampled, target_upsampled = shuffle(\n",
    "        features_upsampled, target_upsampled, random_state=12345)\n",
    "    \n",
    "    return features_upsampled, target_upsampled"
   ]
  },
  {
   "cell_type": "markdown",
   "metadata": {
    "pycharm": {
     "name": "#%% md\n"
    }
   },
   "source": [
    "### Информация о договоре `contract.csv`"
   ]
  },
  {
   "cell_type": "code",
   "execution_count": 8,
   "metadata": {
    "pycharm": {
     "name": "#%%\n"
    },
    "scrolled": false
   },
   "outputs": [
    {
     "name": "stdout",
     "output_type": "stream",
     "text": [
      "<class 'pandas.core.frame.DataFrame'>\n",
      "RangeIndex: 7043 entries, 0 to 7042\n",
      "Data columns (total 8 columns):\n",
      " #   Column             Non-Null Count  Dtype  \n",
      "---  ------             --------------  -----  \n",
      " 0   customerID         7043 non-null   object \n",
      " 1   begin_date         7043 non-null   object \n",
      " 2   end_date           7043 non-null   object \n",
      " 3   type               7043 non-null   object \n",
      " 4   paperless_billing  7043 non-null   object \n",
      " 5   payment_method     7043 non-null   object \n",
      " 6   monthly_charges    7043 non-null   float64\n",
      " 7   total_charges      7043 non-null   object \n",
      "dtypes: float64(1), object(7)\n",
      "memory usage: 440.3+ KB\n"
     ]
    },
    {
     "data": {
      "text/plain": [
       "None"
      ]
     },
     "metadata": {},
     "output_type": "display_data"
    },
    {
     "data": {
      "text/html": [
       "<div>\n",
       "<style scoped>\n",
       "    .dataframe tbody tr th:only-of-type {\n",
       "        vertical-align: middle;\n",
       "    }\n",
       "\n",
       "    .dataframe tbody tr th {\n",
       "        vertical-align: top;\n",
       "    }\n",
       "\n",
       "    .dataframe thead th {\n",
       "        text-align: right;\n",
       "    }\n",
       "</style>\n",
       "<table border=\"1\" class=\"dataframe\">\n",
       "  <thead>\n",
       "    <tr style=\"text-align: right;\">\n",
       "      <th></th>\n",
       "      <th>customerID</th>\n",
       "      <th>begin_date</th>\n",
       "      <th>end_date</th>\n",
       "      <th>type</th>\n",
       "      <th>paperless_billing</th>\n",
       "      <th>payment_method</th>\n",
       "      <th>monthly_charges</th>\n",
       "      <th>total_charges</th>\n",
       "    </tr>\n",
       "  </thead>\n",
       "  <tbody>\n",
       "    <tr>\n",
       "      <th>0</th>\n",
       "      <td>7590-VHVEG</td>\n",
       "      <td>2020-01-01</td>\n",
       "      <td>No</td>\n",
       "      <td>Month-to-month</td>\n",
       "      <td>Yes</td>\n",
       "      <td>Electronic check</td>\n",
       "      <td>29.85</td>\n",
       "      <td>29.85</td>\n",
       "    </tr>\n",
       "    <tr>\n",
       "      <th>1</th>\n",
       "      <td>5575-GNVDE</td>\n",
       "      <td>2017-04-01</td>\n",
       "      <td>No</td>\n",
       "      <td>One year</td>\n",
       "      <td>No</td>\n",
       "      <td>Mailed check</td>\n",
       "      <td>56.95</td>\n",
       "      <td>1889.5</td>\n",
       "    </tr>\n",
       "    <tr>\n",
       "      <th>2</th>\n",
       "      <td>3668-QPYBK</td>\n",
       "      <td>2019-10-01</td>\n",
       "      <td>2019-12-01 00:00:00</td>\n",
       "      <td>Month-to-month</td>\n",
       "      <td>Yes</td>\n",
       "      <td>Mailed check</td>\n",
       "      <td>53.85</td>\n",
       "      <td>108.15</td>\n",
       "    </tr>\n",
       "    <tr>\n",
       "      <th>3</th>\n",
       "      <td>7795-CFOCW</td>\n",
       "      <td>2016-05-01</td>\n",
       "      <td>No</td>\n",
       "      <td>One year</td>\n",
       "      <td>No</td>\n",
       "      <td>Bank transfer (automatic)</td>\n",
       "      <td>42.30</td>\n",
       "      <td>1840.75</td>\n",
       "    </tr>\n",
       "    <tr>\n",
       "      <th>4</th>\n",
       "      <td>9237-HQITU</td>\n",
       "      <td>2019-09-01</td>\n",
       "      <td>2019-11-01 00:00:00</td>\n",
       "      <td>Month-to-month</td>\n",
       "      <td>Yes</td>\n",
       "      <td>Electronic check</td>\n",
       "      <td>70.70</td>\n",
       "      <td>151.65</td>\n",
       "    </tr>\n",
       "    <tr>\n",
       "      <th>...</th>\n",
       "      <td>...</td>\n",
       "      <td>...</td>\n",
       "      <td>...</td>\n",
       "      <td>...</td>\n",
       "      <td>...</td>\n",
       "      <td>...</td>\n",
       "      <td>...</td>\n",
       "      <td>...</td>\n",
       "    </tr>\n",
       "    <tr>\n",
       "      <th>7038</th>\n",
       "      <td>6840-RESVB</td>\n",
       "      <td>2018-02-01</td>\n",
       "      <td>No</td>\n",
       "      <td>One year</td>\n",
       "      <td>Yes</td>\n",
       "      <td>Mailed check</td>\n",
       "      <td>84.80</td>\n",
       "      <td>1990.5</td>\n",
       "    </tr>\n",
       "    <tr>\n",
       "      <th>7039</th>\n",
       "      <td>2234-XADUH</td>\n",
       "      <td>2014-02-01</td>\n",
       "      <td>No</td>\n",
       "      <td>One year</td>\n",
       "      <td>Yes</td>\n",
       "      <td>Credit card (automatic)</td>\n",
       "      <td>103.20</td>\n",
       "      <td>7362.9</td>\n",
       "    </tr>\n",
       "    <tr>\n",
       "      <th>7040</th>\n",
       "      <td>4801-JZAZL</td>\n",
       "      <td>2019-03-01</td>\n",
       "      <td>No</td>\n",
       "      <td>Month-to-month</td>\n",
       "      <td>Yes</td>\n",
       "      <td>Electronic check</td>\n",
       "      <td>29.60</td>\n",
       "      <td>346.45</td>\n",
       "    </tr>\n",
       "    <tr>\n",
       "      <th>7041</th>\n",
       "      <td>8361-LTMKD</td>\n",
       "      <td>2019-07-01</td>\n",
       "      <td>2019-11-01 00:00:00</td>\n",
       "      <td>Month-to-month</td>\n",
       "      <td>Yes</td>\n",
       "      <td>Mailed check</td>\n",
       "      <td>74.40</td>\n",
       "      <td>306.6</td>\n",
       "    </tr>\n",
       "    <tr>\n",
       "      <th>7042</th>\n",
       "      <td>3186-AJIEK</td>\n",
       "      <td>2014-08-01</td>\n",
       "      <td>No</td>\n",
       "      <td>Two year</td>\n",
       "      <td>Yes</td>\n",
       "      <td>Bank transfer (automatic)</td>\n",
       "      <td>105.65</td>\n",
       "      <td>6844.5</td>\n",
       "    </tr>\n",
       "  </tbody>\n",
       "</table>\n",
       "<p>7043 rows × 8 columns</p>\n",
       "</div>"
      ],
      "text/plain": [
       "      customerID  begin_date             end_date            type  \\\n",
       "0     7590-VHVEG  2020-01-01                   No  Month-to-month   \n",
       "1     5575-GNVDE  2017-04-01                   No        One year   \n",
       "2     3668-QPYBK  2019-10-01  2019-12-01 00:00:00  Month-to-month   \n",
       "3     7795-CFOCW  2016-05-01                   No        One year   \n",
       "4     9237-HQITU  2019-09-01  2019-11-01 00:00:00  Month-to-month   \n",
       "...          ...         ...                  ...             ...   \n",
       "7038  6840-RESVB  2018-02-01                   No        One year   \n",
       "7039  2234-XADUH  2014-02-01                   No        One year   \n",
       "7040  4801-JZAZL  2019-03-01                   No  Month-to-month   \n",
       "7041  8361-LTMKD  2019-07-01  2019-11-01 00:00:00  Month-to-month   \n",
       "7042  3186-AJIEK  2014-08-01                   No        Two year   \n",
       "\n",
       "     paperless_billing             payment_method  monthly_charges  \\\n",
       "0                  Yes           Electronic check            29.85   \n",
       "1                   No               Mailed check            56.95   \n",
       "2                  Yes               Mailed check            53.85   \n",
       "3                   No  Bank transfer (automatic)            42.30   \n",
       "4                  Yes           Electronic check            70.70   \n",
       "...                ...                        ...              ...   \n",
       "7038               Yes               Mailed check            84.80   \n",
       "7039               Yes    Credit card (automatic)           103.20   \n",
       "7040               Yes           Electronic check            29.60   \n",
       "7041               Yes               Mailed check            74.40   \n",
       "7042               Yes  Bank transfer (automatic)           105.65   \n",
       "\n",
       "     total_charges  \n",
       "0            29.85  \n",
       "1           1889.5  \n",
       "2           108.15  \n",
       "3          1840.75  \n",
       "4           151.65  \n",
       "...            ...  \n",
       "7038        1990.5  \n",
       "7039        7362.9  \n",
       "7040        346.45  \n",
       "7041         306.6  \n",
       "7042        6844.5  \n",
       "\n",
       "[7043 rows x 8 columns]"
      ]
     },
     "execution_count": 8,
     "metadata": {},
     "output_type": "execute_result"
    }
   ],
   "source": [
    "info_df(df_contract)"
   ]
  },
  {
   "cell_type": "markdown",
   "metadata": {
    "pycharm": {
     "name": "#%% md\n"
    }
   },
   "source": [
    "**Характеристики таблицы `df_contract`** \n",
    "\n",
    "`customerID`- Код клиента          \n",
    "`begin_date`- Дата начала договора         \n",
    "`end_date` - Дата окончания договора         \n",
    "`type` - Тип оплаты (месячная, годовая)             \n",
    "`paperless_billing`-Безбумажное выставление счетов   \n",
    "`payment_method`- Метод оплаты      \n",
    "`monthly_charges`- Ежемесячные платежи    \n",
    "`total_charges` - Всего начислений      "
   ]
  },
  {
   "cell_type": "code",
   "execution_count": 9,
   "metadata": {
    "pycharm": {
     "name": "#%%\n"
    }
   },
   "outputs": [
    {
     "name": "stdout",
     "output_type": "stream",
     "text": [
      "Столбец begin_date\n"
     ]
    },
    {
     "data": {
      "text/plain": [
       "2014-02-01    366\n",
       "2019-10-01    237\n",
       "2019-11-01    237\n",
       "2019-09-01    237\n",
       "2020-01-01    233\n",
       "             ... \n",
       "2020-02-01     11\n",
       "2014-01-01      7\n",
       "2013-10-01      3\n",
       "2013-12-01      3\n",
       "2013-11-01      2\n",
       "Name: begin_date, Length: 77, dtype: int64"
      ]
     },
     "metadata": {},
     "output_type": "display_data"
    },
    {
     "name": "stdout",
     "output_type": "stream",
     "text": [
      "Столбец end_date\n"
     ]
    },
    {
     "data": {
      "text/plain": [
       "No                     5174\n",
       "2019-11-01 00:00:00     485\n",
       "2019-12-01 00:00:00     466\n",
       "2020-01-01 00:00:00     460\n",
       "2019-10-01 00:00:00     458\n",
       "Name: end_date, dtype: int64"
      ]
     },
     "metadata": {},
     "output_type": "display_data"
    },
    {
     "name": "stdout",
     "output_type": "stream",
     "text": [
      "Столбец type\n"
     ]
    },
    {
     "data": {
      "text/plain": [
       "Month-to-month    3875\n",
       "Two year          1695\n",
       "One year          1473\n",
       "Name: type, dtype: int64"
      ]
     },
     "metadata": {},
     "output_type": "display_data"
    },
    {
     "name": "stdout",
     "output_type": "stream",
     "text": [
      "Столбец paperless_billing\n"
     ]
    },
    {
     "data": {
      "text/plain": [
       "Yes    4171\n",
       "No     2872\n",
       "Name: paperless_billing, dtype: int64"
      ]
     },
     "metadata": {},
     "output_type": "display_data"
    },
    {
     "name": "stdout",
     "output_type": "stream",
     "text": [
      "Столбец payment_method\n"
     ]
    },
    {
     "data": {
      "text/plain": [
       "Electronic check             2365\n",
       "Mailed check                 1612\n",
       "Bank transfer (automatic)    1544\n",
       "Credit card (automatic)      1522\n",
       "Name: payment_method, dtype: int64"
      ]
     },
     "metadata": {},
     "output_type": "display_data"
    },
    {
     "name": "stdout",
     "output_type": "stream",
     "text": [
      "Столбец monthly_charges\n"
     ]
    },
    {
     "data": {
      "text/plain": [
       "20.05     61\n",
       "19.85     45\n",
       "19.95     44\n",
       "19.90     44\n",
       "20.00     43\n",
       "          ..\n",
       "23.65      1\n",
       "114.70     1\n",
       "43.65      1\n",
       "87.80      1\n",
       "78.70      1\n",
       "Name: monthly_charges, Length: 1585, dtype: int64"
      ]
     },
     "metadata": {},
     "output_type": "display_data"
    },
    {
     "name": "stdout",
     "output_type": "stream",
     "text": [
      "Столбец total_charges\n"
     ]
    },
    {
     "data": {
      "text/plain": [
       "          11\n",
       "20.2      11\n",
       "19.75      9\n",
       "20.05      8\n",
       "19.9       8\n",
       "          ..\n",
       "6849.4     1\n",
       "692.35     1\n",
       "130.15     1\n",
       "3211.9     1\n",
       "6844.5     1\n",
       "Name: total_charges, Length: 6531, dtype: int64"
      ]
     },
     "metadata": {},
     "output_type": "display_data"
    }
   ],
   "source": [
    "value_counts_df(df_contract)"
   ]
  },
  {
   "cell_type": "markdown",
   "metadata": {
    "pycharm": {
     "name": "#%% md\n"
    }
   },
   "source": [
    "### Вывод"
   ]
  },
  {
   "cell_type": "markdown",
   "metadata": {
    "pycharm": {
     "name": "#%% md\n"
    }
   },
   "source": [
    "1. В данных нет пропусков\n",
    "2. Даты начала и окончания договора нужно перевести в формат даты\n",
    "3. No в end_date означает, что пользователь продолжает пользоваться услугами можно заменить временем выгрузки т.е (01.02.2020)\n",
    "4. total_charges надо перевести в числовой тип\n",
    "5. type, paperless_billing, payment_method используем One Hot Encoding для перевода категориальных признаков \n",
    "\n"
   ]
  },
  {
   "cell_type": "code",
   "execution_count": null,
   "metadata": {
    "pycharm": {
     "name": "#%%\n"
    }
   },
   "outputs": [],
   "source": []
  },
  {
   "cell_type": "markdown",
   "metadata": {
    "pycharm": {
     "name": "#%% md\n"
    }
   },
   "source": [
    "### Персональные данные клиента `personal.csv`"
   ]
  },
  {
   "cell_type": "code",
   "execution_count": 10,
   "metadata": {
    "pycharm": {
     "name": "#%%\n"
    },
    "scrolled": false
   },
   "outputs": [
    {
     "name": "stdout",
     "output_type": "stream",
     "text": [
      "<class 'pandas.core.frame.DataFrame'>\n",
      "RangeIndex: 7043 entries, 0 to 7042\n",
      "Data columns (total 5 columns):\n",
      " #   Column          Non-Null Count  Dtype \n",
      "---  ------          --------------  ----- \n",
      " 0   customerID      7043 non-null   object\n",
      " 1   gender          7043 non-null   object\n",
      " 2   senior_citizen  7043 non-null   int64 \n",
      " 3   partner         7043 non-null   object\n",
      " 4   dependents      7043 non-null   object\n",
      "dtypes: int64(1), object(4)\n",
      "memory usage: 275.2+ KB\n"
     ]
    },
    {
     "data": {
      "text/plain": [
       "None"
      ]
     },
     "metadata": {},
     "output_type": "display_data"
    },
    {
     "data": {
      "text/html": [
       "<div>\n",
       "<style scoped>\n",
       "    .dataframe tbody tr th:only-of-type {\n",
       "        vertical-align: middle;\n",
       "    }\n",
       "\n",
       "    .dataframe tbody tr th {\n",
       "        vertical-align: top;\n",
       "    }\n",
       "\n",
       "    .dataframe thead th {\n",
       "        text-align: right;\n",
       "    }\n",
       "</style>\n",
       "<table border=\"1\" class=\"dataframe\">\n",
       "  <thead>\n",
       "    <tr style=\"text-align: right;\">\n",
       "      <th></th>\n",
       "      <th>customerID</th>\n",
       "      <th>gender</th>\n",
       "      <th>senior_citizen</th>\n",
       "      <th>partner</th>\n",
       "      <th>dependents</th>\n",
       "    </tr>\n",
       "  </thead>\n",
       "  <tbody>\n",
       "    <tr>\n",
       "      <th>0</th>\n",
       "      <td>7590-VHVEG</td>\n",
       "      <td>Female</td>\n",
       "      <td>0</td>\n",
       "      <td>Yes</td>\n",
       "      <td>No</td>\n",
       "    </tr>\n",
       "    <tr>\n",
       "      <th>1</th>\n",
       "      <td>5575-GNVDE</td>\n",
       "      <td>Male</td>\n",
       "      <td>0</td>\n",
       "      <td>No</td>\n",
       "      <td>No</td>\n",
       "    </tr>\n",
       "    <tr>\n",
       "      <th>2</th>\n",
       "      <td>3668-QPYBK</td>\n",
       "      <td>Male</td>\n",
       "      <td>0</td>\n",
       "      <td>No</td>\n",
       "      <td>No</td>\n",
       "    </tr>\n",
       "    <tr>\n",
       "      <th>3</th>\n",
       "      <td>7795-CFOCW</td>\n",
       "      <td>Male</td>\n",
       "      <td>0</td>\n",
       "      <td>No</td>\n",
       "      <td>No</td>\n",
       "    </tr>\n",
       "    <tr>\n",
       "      <th>4</th>\n",
       "      <td>9237-HQITU</td>\n",
       "      <td>Female</td>\n",
       "      <td>0</td>\n",
       "      <td>No</td>\n",
       "      <td>No</td>\n",
       "    </tr>\n",
       "    <tr>\n",
       "      <th>...</th>\n",
       "      <td>...</td>\n",
       "      <td>...</td>\n",
       "      <td>...</td>\n",
       "      <td>...</td>\n",
       "      <td>...</td>\n",
       "    </tr>\n",
       "    <tr>\n",
       "      <th>7038</th>\n",
       "      <td>6840-RESVB</td>\n",
       "      <td>Male</td>\n",
       "      <td>0</td>\n",
       "      <td>Yes</td>\n",
       "      <td>Yes</td>\n",
       "    </tr>\n",
       "    <tr>\n",
       "      <th>7039</th>\n",
       "      <td>2234-XADUH</td>\n",
       "      <td>Female</td>\n",
       "      <td>0</td>\n",
       "      <td>Yes</td>\n",
       "      <td>Yes</td>\n",
       "    </tr>\n",
       "    <tr>\n",
       "      <th>7040</th>\n",
       "      <td>4801-JZAZL</td>\n",
       "      <td>Female</td>\n",
       "      <td>0</td>\n",
       "      <td>Yes</td>\n",
       "      <td>Yes</td>\n",
       "    </tr>\n",
       "    <tr>\n",
       "      <th>7041</th>\n",
       "      <td>8361-LTMKD</td>\n",
       "      <td>Male</td>\n",
       "      <td>1</td>\n",
       "      <td>Yes</td>\n",
       "      <td>No</td>\n",
       "    </tr>\n",
       "    <tr>\n",
       "      <th>7042</th>\n",
       "      <td>3186-AJIEK</td>\n",
       "      <td>Male</td>\n",
       "      <td>0</td>\n",
       "      <td>No</td>\n",
       "      <td>No</td>\n",
       "    </tr>\n",
       "  </tbody>\n",
       "</table>\n",
       "<p>7043 rows × 5 columns</p>\n",
       "</div>"
      ],
      "text/plain": [
       "      customerID  gender  senior_citizen partner dependents\n",
       "0     7590-VHVEG  Female               0     Yes         No\n",
       "1     5575-GNVDE    Male               0      No         No\n",
       "2     3668-QPYBK    Male               0      No         No\n",
       "3     7795-CFOCW    Male               0      No         No\n",
       "4     9237-HQITU  Female               0      No         No\n",
       "...          ...     ...             ...     ...        ...\n",
       "7038  6840-RESVB    Male               0     Yes        Yes\n",
       "7039  2234-XADUH  Female               0     Yes        Yes\n",
       "7040  4801-JZAZL  Female               0     Yes        Yes\n",
       "7041  8361-LTMKD    Male               1     Yes         No\n",
       "7042  3186-AJIEK    Male               0      No         No\n",
       "\n",
       "[7043 rows x 5 columns]"
      ]
     },
     "execution_count": 10,
     "metadata": {},
     "output_type": "execute_result"
    }
   ],
   "source": [
    "info_df(df_personal)"
   ]
  },
  {
   "cell_type": "markdown",
   "metadata": {
    "pycharm": {
     "name": "#%% md\n"
    }
   },
   "source": [
    "**Характеристики таблицы `df_personal`** \n",
    "\n",
    "`customerID`     - Код клиента    \n",
    "`gender`         - Пол (муж, жен)     \n",
    "`senior_citizen` - Пенсионер    \n",
    "`partner`        - Партнер       \n",
    "`dependents`     - Иждивенцы  \n"
   ]
  },
  {
   "cell_type": "code",
   "execution_count": 11,
   "metadata": {
    "pycharm": {
     "name": "#%%\n"
    },
    "scrolled": false
   },
   "outputs": [
    {
     "name": "stdout",
     "output_type": "stream",
     "text": [
      "Столбец gender\n"
     ]
    },
    {
     "data": {
      "text/plain": [
       "Male      3555\n",
       "Female    3488\n",
       "Name: gender, dtype: int64"
      ]
     },
     "metadata": {},
     "output_type": "display_data"
    },
    {
     "name": "stdout",
     "output_type": "stream",
     "text": [
      "Столбец senior_citizen\n"
     ]
    },
    {
     "data": {
      "text/plain": [
       "0    5901\n",
       "1    1142\n",
       "Name: senior_citizen, dtype: int64"
      ]
     },
     "metadata": {},
     "output_type": "display_data"
    },
    {
     "name": "stdout",
     "output_type": "stream",
     "text": [
      "Столбец partner\n"
     ]
    },
    {
     "data": {
      "text/plain": [
       "No     3641\n",
       "Yes    3402\n",
       "Name: partner, dtype: int64"
      ]
     },
     "metadata": {},
     "output_type": "display_data"
    },
    {
     "name": "stdout",
     "output_type": "stream",
     "text": [
      "Столбец dependents\n"
     ]
    },
    {
     "data": {
      "text/plain": [
       "No     4933\n",
       "Yes    2110\n",
       "Name: dependents, dtype: int64"
      ]
     },
     "metadata": {},
     "output_type": "display_data"
    }
   ],
   "source": [
    "value_counts_df(df_personal)"
   ]
  },
  {
   "cell_type": "markdown",
   "metadata": {
    "pycharm": {
     "name": "#%% md\n"
    }
   },
   "source": [
    "### Вывод"
   ]
  },
  {
   "cell_type": "markdown",
   "metadata": {
    "pycharm": {
     "name": "#%% md\n"
    }
   },
   "source": [
    "1. В данных нет пропусков\n",
    "2. gender, partner, dependents используем One Hot Encoding для перевода категориальных признаков \n",
    "\n"
   ]
  },
  {
   "cell_type": "code",
   "execution_count": null,
   "metadata": {
    "pycharm": {
     "name": "#%%\n"
    }
   },
   "outputs": [],
   "source": []
  },
  {
   "cell_type": "markdown",
   "metadata": {
    "pycharm": {
     "name": "#%% md\n"
    }
   },
   "source": [
    "### Информация об интернет-услугах `internet.csv`"
   ]
  },
  {
   "cell_type": "code",
   "execution_count": 12,
   "metadata": {
    "pycharm": {
     "name": "#%%\n"
    },
    "scrolled": false
   },
   "outputs": [
    {
     "name": "stdout",
     "output_type": "stream",
     "text": [
      "<class 'pandas.core.frame.DataFrame'>\n",
      "RangeIndex: 5517 entries, 0 to 5516\n",
      "Data columns (total 8 columns):\n",
      " #   Column             Non-Null Count  Dtype \n",
      "---  ------             --------------  ----- \n",
      " 0   customerID         5517 non-null   object\n",
      " 1   internet_service   5517 non-null   object\n",
      " 2   online_security    5517 non-null   object\n",
      " 3   online_backup      5517 non-null   object\n",
      " 4   device_protection  5517 non-null   object\n",
      " 5   tech_support       5517 non-null   object\n",
      " 6   streaming_t_v      5517 non-null   object\n",
      " 7   streaming_movies   5517 non-null   object\n",
      "dtypes: object(8)\n",
      "memory usage: 344.9+ KB\n"
     ]
    },
    {
     "data": {
      "text/plain": [
       "None"
      ]
     },
     "metadata": {},
     "output_type": "display_data"
    },
    {
     "data": {
      "text/html": [
       "<div>\n",
       "<style scoped>\n",
       "    .dataframe tbody tr th:only-of-type {\n",
       "        vertical-align: middle;\n",
       "    }\n",
       "\n",
       "    .dataframe tbody tr th {\n",
       "        vertical-align: top;\n",
       "    }\n",
       "\n",
       "    .dataframe thead th {\n",
       "        text-align: right;\n",
       "    }\n",
       "</style>\n",
       "<table border=\"1\" class=\"dataframe\">\n",
       "  <thead>\n",
       "    <tr style=\"text-align: right;\">\n",
       "      <th></th>\n",
       "      <th>customerID</th>\n",
       "      <th>internet_service</th>\n",
       "      <th>online_security</th>\n",
       "      <th>online_backup</th>\n",
       "      <th>device_protection</th>\n",
       "      <th>tech_support</th>\n",
       "      <th>streaming_t_v</th>\n",
       "      <th>streaming_movies</th>\n",
       "    </tr>\n",
       "  </thead>\n",
       "  <tbody>\n",
       "    <tr>\n",
       "      <th>0</th>\n",
       "      <td>7590-VHVEG</td>\n",
       "      <td>DSL</td>\n",
       "      <td>No</td>\n",
       "      <td>Yes</td>\n",
       "      <td>No</td>\n",
       "      <td>No</td>\n",
       "      <td>No</td>\n",
       "      <td>No</td>\n",
       "    </tr>\n",
       "    <tr>\n",
       "      <th>1</th>\n",
       "      <td>5575-GNVDE</td>\n",
       "      <td>DSL</td>\n",
       "      <td>Yes</td>\n",
       "      <td>No</td>\n",
       "      <td>Yes</td>\n",
       "      <td>No</td>\n",
       "      <td>No</td>\n",
       "      <td>No</td>\n",
       "    </tr>\n",
       "    <tr>\n",
       "      <th>2</th>\n",
       "      <td>3668-QPYBK</td>\n",
       "      <td>DSL</td>\n",
       "      <td>Yes</td>\n",
       "      <td>Yes</td>\n",
       "      <td>No</td>\n",
       "      <td>No</td>\n",
       "      <td>No</td>\n",
       "      <td>No</td>\n",
       "    </tr>\n",
       "    <tr>\n",
       "      <th>3</th>\n",
       "      <td>7795-CFOCW</td>\n",
       "      <td>DSL</td>\n",
       "      <td>Yes</td>\n",
       "      <td>No</td>\n",
       "      <td>Yes</td>\n",
       "      <td>Yes</td>\n",
       "      <td>No</td>\n",
       "      <td>No</td>\n",
       "    </tr>\n",
       "    <tr>\n",
       "      <th>4</th>\n",
       "      <td>9237-HQITU</td>\n",
       "      <td>Fiber optic</td>\n",
       "      <td>No</td>\n",
       "      <td>No</td>\n",
       "      <td>No</td>\n",
       "      <td>No</td>\n",
       "      <td>No</td>\n",
       "      <td>No</td>\n",
       "    </tr>\n",
       "    <tr>\n",
       "      <th>...</th>\n",
       "      <td>...</td>\n",
       "      <td>...</td>\n",
       "      <td>...</td>\n",
       "      <td>...</td>\n",
       "      <td>...</td>\n",
       "      <td>...</td>\n",
       "      <td>...</td>\n",
       "      <td>...</td>\n",
       "    </tr>\n",
       "    <tr>\n",
       "      <th>5512</th>\n",
       "      <td>6840-RESVB</td>\n",
       "      <td>DSL</td>\n",
       "      <td>Yes</td>\n",
       "      <td>No</td>\n",
       "      <td>Yes</td>\n",
       "      <td>Yes</td>\n",
       "      <td>Yes</td>\n",
       "      <td>Yes</td>\n",
       "    </tr>\n",
       "    <tr>\n",
       "      <th>5513</th>\n",
       "      <td>2234-XADUH</td>\n",
       "      <td>Fiber optic</td>\n",
       "      <td>No</td>\n",
       "      <td>Yes</td>\n",
       "      <td>Yes</td>\n",
       "      <td>No</td>\n",
       "      <td>Yes</td>\n",
       "      <td>Yes</td>\n",
       "    </tr>\n",
       "    <tr>\n",
       "      <th>5514</th>\n",
       "      <td>4801-JZAZL</td>\n",
       "      <td>DSL</td>\n",
       "      <td>Yes</td>\n",
       "      <td>No</td>\n",
       "      <td>No</td>\n",
       "      <td>No</td>\n",
       "      <td>No</td>\n",
       "      <td>No</td>\n",
       "    </tr>\n",
       "    <tr>\n",
       "      <th>5515</th>\n",
       "      <td>8361-LTMKD</td>\n",
       "      <td>Fiber optic</td>\n",
       "      <td>No</td>\n",
       "      <td>No</td>\n",
       "      <td>No</td>\n",
       "      <td>No</td>\n",
       "      <td>No</td>\n",
       "      <td>No</td>\n",
       "    </tr>\n",
       "    <tr>\n",
       "      <th>5516</th>\n",
       "      <td>3186-AJIEK</td>\n",
       "      <td>Fiber optic</td>\n",
       "      <td>Yes</td>\n",
       "      <td>No</td>\n",
       "      <td>Yes</td>\n",
       "      <td>Yes</td>\n",
       "      <td>Yes</td>\n",
       "      <td>Yes</td>\n",
       "    </tr>\n",
       "  </tbody>\n",
       "</table>\n",
       "<p>5517 rows × 8 columns</p>\n",
       "</div>"
      ],
      "text/plain": [
       "      customerID internet_service online_security online_backup  \\\n",
       "0     7590-VHVEG              DSL              No           Yes   \n",
       "1     5575-GNVDE              DSL             Yes            No   \n",
       "2     3668-QPYBK              DSL             Yes           Yes   \n",
       "3     7795-CFOCW              DSL             Yes            No   \n",
       "4     9237-HQITU      Fiber optic              No            No   \n",
       "...          ...              ...             ...           ...   \n",
       "5512  6840-RESVB              DSL             Yes            No   \n",
       "5513  2234-XADUH      Fiber optic              No           Yes   \n",
       "5514  4801-JZAZL              DSL             Yes            No   \n",
       "5515  8361-LTMKD      Fiber optic              No            No   \n",
       "5516  3186-AJIEK      Fiber optic             Yes            No   \n",
       "\n",
       "     device_protection tech_support streaming_t_v streaming_movies  \n",
       "0                   No           No            No               No  \n",
       "1                  Yes           No            No               No  \n",
       "2                   No           No            No               No  \n",
       "3                  Yes          Yes            No               No  \n",
       "4                   No           No            No               No  \n",
       "...                ...          ...           ...              ...  \n",
       "5512               Yes          Yes           Yes              Yes  \n",
       "5513               Yes           No           Yes              Yes  \n",
       "5514                No           No            No               No  \n",
       "5515                No           No            No               No  \n",
       "5516               Yes          Yes           Yes              Yes  \n",
       "\n",
       "[5517 rows x 8 columns]"
      ]
     },
     "execution_count": 12,
     "metadata": {},
     "output_type": "execute_result"
    }
   ],
   "source": [
    "info_df(df_internet)"
   ]
  },
  {
   "cell_type": "markdown",
   "metadata": {
    "pycharm": {
     "name": "#%% md\n"
    }
   },
   "source": [
    "**Характеристики таблицы `df_internet`** \n",
    "\n",
    "`customerID`       - Код клиента    \n",
    "`internet_service` - Интернет-сервис  \n",
    "`online_security`  - Блокировка небезопасных сайтов  \n",
    "`online_backup`    - Облачное хранилище файлов для резервного копирования данных  \n",
    "`device_protection`- Антивирус   \n",
    "`tech_support`     - Выделенная линия технической поддержки  \n",
    "`streaming_t_v`    - Стриминговое телевидение  \n",
    "`streaming_movies` - Каталог фильмов  \n"
   ]
  },
  {
   "cell_type": "code",
   "execution_count": null,
   "metadata": {
    "pycharm": {
     "name": "#%%\n"
    }
   },
   "outputs": [],
   "source": []
  },
  {
   "cell_type": "code",
   "execution_count": 13,
   "metadata": {
    "pycharm": {
     "name": "#%%\n"
    },
    "scrolled": false
   },
   "outputs": [
    {
     "name": "stdout",
     "output_type": "stream",
     "text": [
      "Столбец internet_service\n"
     ]
    },
    {
     "data": {
      "text/plain": [
       "Fiber optic    3096\n",
       "DSL            2421\n",
       "Name: internet_service, dtype: int64"
      ]
     },
     "metadata": {},
     "output_type": "display_data"
    },
    {
     "name": "stdout",
     "output_type": "stream",
     "text": [
      "Столбец online_security\n"
     ]
    },
    {
     "data": {
      "text/plain": [
       "No     3498\n",
       "Yes    2019\n",
       "Name: online_security, dtype: int64"
      ]
     },
     "metadata": {},
     "output_type": "display_data"
    },
    {
     "name": "stdout",
     "output_type": "stream",
     "text": [
      "Столбец online_backup\n"
     ]
    },
    {
     "data": {
      "text/plain": [
       "No     3088\n",
       "Yes    2429\n",
       "Name: online_backup, dtype: int64"
      ]
     },
     "metadata": {},
     "output_type": "display_data"
    },
    {
     "name": "stdout",
     "output_type": "stream",
     "text": [
      "Столбец device_protection\n"
     ]
    },
    {
     "data": {
      "text/plain": [
       "No     3095\n",
       "Yes    2422\n",
       "Name: device_protection, dtype: int64"
      ]
     },
     "metadata": {},
     "output_type": "display_data"
    },
    {
     "name": "stdout",
     "output_type": "stream",
     "text": [
      "Столбец tech_support\n"
     ]
    },
    {
     "data": {
      "text/plain": [
       "No     3473\n",
       "Yes    2044\n",
       "Name: tech_support, dtype: int64"
      ]
     },
     "metadata": {},
     "output_type": "display_data"
    },
    {
     "name": "stdout",
     "output_type": "stream",
     "text": [
      "Столбец streaming_t_v\n"
     ]
    },
    {
     "data": {
      "text/plain": [
       "No     2810\n",
       "Yes    2707\n",
       "Name: streaming_t_v, dtype: int64"
      ]
     },
     "metadata": {},
     "output_type": "display_data"
    },
    {
     "name": "stdout",
     "output_type": "stream",
     "text": [
      "Столбец streaming_movies\n"
     ]
    },
    {
     "data": {
      "text/plain": [
       "No     2785\n",
       "Yes    2732\n",
       "Name: streaming_movies, dtype: int64"
      ]
     },
     "metadata": {},
     "output_type": "display_data"
    }
   ],
   "source": [
    "value_counts_df(df_internet)"
   ]
  },
  {
   "cell_type": "markdown",
   "metadata": {
    "pycharm": {
     "name": "#%% md\n"
    }
   },
   "source": [
    "### Вывод"
   ]
  },
  {
   "cell_type": "markdown",
   "metadata": {
    "pycharm": {
     "name": "#%% md\n"
    }
   },
   "source": [
    "1. В данных нет пропусков\n",
    "2. Все столбцы, кроме `customerID` кодируем используя One Hot Encoding для перевода категориальных признаков \n",
    "3. Количестов строк составляет 5517, что меньше чем в остальных таблицах\n",
    "\n"
   ]
  },
  {
   "cell_type": "code",
   "execution_count": null,
   "metadata": {
    "pycharm": {
     "name": "#%%\n"
    }
   },
   "outputs": [],
   "source": []
  },
  {
   "cell_type": "markdown",
   "metadata": {
    "pycharm": {
     "name": "#%% md\n"
    }
   },
   "source": [
    "### Информация об услугах телефонии `phone.csv`"
   ]
  },
  {
   "cell_type": "code",
   "execution_count": 14,
   "metadata": {
    "pycharm": {
     "name": "#%%\n"
    },
    "scrolled": false
   },
   "outputs": [
    {
     "name": "stdout",
     "output_type": "stream",
     "text": [
      "<class 'pandas.core.frame.DataFrame'>\n",
      "RangeIndex: 6361 entries, 0 to 6360\n",
      "Data columns (total 2 columns):\n",
      " #   Column          Non-Null Count  Dtype \n",
      "---  ------          --------------  ----- \n",
      " 0   customerID      6361 non-null   object\n",
      " 1   multiple_lines  6361 non-null   object\n",
      "dtypes: object(2)\n",
      "memory usage: 99.5+ KB\n"
     ]
    },
    {
     "data": {
      "text/plain": [
       "None"
      ]
     },
     "metadata": {},
     "output_type": "display_data"
    },
    {
     "data": {
      "text/html": [
       "<div>\n",
       "<style scoped>\n",
       "    .dataframe tbody tr th:only-of-type {\n",
       "        vertical-align: middle;\n",
       "    }\n",
       "\n",
       "    .dataframe tbody tr th {\n",
       "        vertical-align: top;\n",
       "    }\n",
       "\n",
       "    .dataframe thead th {\n",
       "        text-align: right;\n",
       "    }\n",
       "</style>\n",
       "<table border=\"1\" class=\"dataframe\">\n",
       "  <thead>\n",
       "    <tr style=\"text-align: right;\">\n",
       "      <th></th>\n",
       "      <th>customerID</th>\n",
       "      <th>multiple_lines</th>\n",
       "    </tr>\n",
       "  </thead>\n",
       "  <tbody>\n",
       "    <tr>\n",
       "      <th>0</th>\n",
       "      <td>5575-GNVDE</td>\n",
       "      <td>No</td>\n",
       "    </tr>\n",
       "    <tr>\n",
       "      <th>1</th>\n",
       "      <td>3668-QPYBK</td>\n",
       "      <td>No</td>\n",
       "    </tr>\n",
       "    <tr>\n",
       "      <th>2</th>\n",
       "      <td>9237-HQITU</td>\n",
       "      <td>No</td>\n",
       "    </tr>\n",
       "    <tr>\n",
       "      <th>3</th>\n",
       "      <td>9305-CDSKC</td>\n",
       "      <td>Yes</td>\n",
       "    </tr>\n",
       "    <tr>\n",
       "      <th>4</th>\n",
       "      <td>1452-KIOVK</td>\n",
       "      <td>Yes</td>\n",
       "    </tr>\n",
       "    <tr>\n",
       "      <th>...</th>\n",
       "      <td>...</td>\n",
       "      <td>...</td>\n",
       "    </tr>\n",
       "    <tr>\n",
       "      <th>6356</th>\n",
       "      <td>2569-WGERO</td>\n",
       "      <td>No</td>\n",
       "    </tr>\n",
       "    <tr>\n",
       "      <th>6357</th>\n",
       "      <td>6840-RESVB</td>\n",
       "      <td>Yes</td>\n",
       "    </tr>\n",
       "    <tr>\n",
       "      <th>6358</th>\n",
       "      <td>2234-XADUH</td>\n",
       "      <td>Yes</td>\n",
       "    </tr>\n",
       "    <tr>\n",
       "      <th>6359</th>\n",
       "      <td>8361-LTMKD</td>\n",
       "      <td>Yes</td>\n",
       "    </tr>\n",
       "    <tr>\n",
       "      <th>6360</th>\n",
       "      <td>3186-AJIEK</td>\n",
       "      <td>No</td>\n",
       "    </tr>\n",
       "  </tbody>\n",
       "</table>\n",
       "<p>6361 rows × 2 columns</p>\n",
       "</div>"
      ],
      "text/plain": [
       "      customerID multiple_lines\n",
       "0     5575-GNVDE             No\n",
       "1     3668-QPYBK             No\n",
       "2     9237-HQITU             No\n",
       "3     9305-CDSKC            Yes\n",
       "4     1452-KIOVK            Yes\n",
       "...          ...            ...\n",
       "6356  2569-WGERO             No\n",
       "6357  6840-RESVB            Yes\n",
       "6358  2234-XADUH            Yes\n",
       "6359  8361-LTMKD            Yes\n",
       "6360  3186-AJIEK             No\n",
       "\n",
       "[6361 rows x 2 columns]"
      ]
     },
     "execution_count": 14,
     "metadata": {},
     "output_type": "execute_result"
    }
   ],
   "source": [
    "info_df(df_phone)"
   ]
  },
  {
   "cell_type": "markdown",
   "metadata": {
    "pycharm": {
     "name": "#%% md\n"
    }
   },
   "source": [
    "**Характеристики таблицы `df_phone`** \n",
    "\n",
    "`customerID`       - Код клиента    \n",
    "`multiple_lines` - Несколько линий  \n"
   ]
  },
  {
   "cell_type": "code",
   "execution_count": null,
   "metadata": {
    "pycharm": {
     "name": "#%%\n"
    }
   },
   "outputs": [],
   "source": []
  },
  {
   "cell_type": "code",
   "execution_count": 15,
   "metadata": {
    "pycharm": {
     "name": "#%%\n"
    },
    "scrolled": false
   },
   "outputs": [
    {
     "name": "stdout",
     "output_type": "stream",
     "text": [
      "Столбец multiple_lines\n"
     ]
    },
    {
     "data": {
      "text/plain": [
       "No     3390\n",
       "Yes    2971\n",
       "Name: multiple_lines, dtype: int64"
      ]
     },
     "metadata": {},
     "output_type": "display_data"
    }
   ],
   "source": [
    "value_counts_df(df_phone)"
   ]
  },
  {
   "cell_type": "markdown",
   "metadata": {
    "pycharm": {
     "name": "#%% md\n"
    }
   },
   "source": [
    "### Вывод"
   ]
  },
  {
   "cell_type": "markdown",
   "metadata": {
    "pycharm": {
     "name": "#%% md\n"
    }
   },
   "source": [
    "1. В данных нет пропусков\n",
    "2. `multiple_lines` кодируем используя One Hot Encoding для перевода категориальных признаков \n",
    "3. Количестов строк составляет 6361, что меньше чем в остальных таблицах\n",
    "\n"
   ]
  },
  {
   "cell_type": "code",
   "execution_count": 16,
   "metadata": {
    "pycharm": {
     "name": "#%%\n"
    },
    "scrolled": false
   },
   "outputs": [
    {
     "name": "stdout",
     "output_type": "stream",
     "text": [
      "Таблица= 1\n"
     ]
    },
    {
     "data": {
      "text/html": [
       "<div>\n",
       "<style scoped>\n",
       "    .dataframe tbody tr th:only-of-type {\n",
       "        vertical-align: middle;\n",
       "    }\n",
       "\n",
       "    .dataframe tbody tr th {\n",
       "        vertical-align: top;\n",
       "    }\n",
       "\n",
       "    .dataframe thead th {\n",
       "        text-align: right;\n",
       "    }\n",
       "</style>\n",
       "<table border=\"1\" class=\"dataframe\">\n",
       "  <thead>\n",
       "    <tr style=\"text-align: right;\">\n",
       "      <th></th>\n",
       "      <th>customerID</th>\n",
       "      <th>begin_date</th>\n",
       "      <th>end_date</th>\n",
       "      <th>type</th>\n",
       "      <th>paperless_billing</th>\n",
       "      <th>payment_method</th>\n",
       "      <th>monthly_charges</th>\n",
       "      <th>total_charges</th>\n",
       "    </tr>\n",
       "  </thead>\n",
       "  <tbody>\n",
       "    <tr>\n",
       "      <th>7037</th>\n",
       "      <td>2569-WGERO</td>\n",
       "      <td>2014-02-01</td>\n",
       "      <td>No</td>\n",
       "      <td>Two year</td>\n",
       "      <td>Yes</td>\n",
       "      <td>Bank transfer (automatic)</td>\n",
       "      <td>21.15</td>\n",
       "      <td>1419.4</td>\n",
       "    </tr>\n",
       "  </tbody>\n",
       "</table>\n",
       "</div>"
      ],
      "text/plain": [
       "      customerID  begin_date end_date      type paperless_billing  \\\n",
       "7037  2569-WGERO  2014-02-01       No  Two year               Yes   \n",
       "\n",
       "                 payment_method  monthly_charges total_charges  \n",
       "7037  Bank transfer (automatic)            21.15        1419.4  "
      ]
     },
     "metadata": {},
     "output_type": "display_data"
    },
    {
     "data": {
      "text/html": [
       "<div>\n",
       "<style scoped>\n",
       "    .dataframe tbody tr th:only-of-type {\n",
       "        vertical-align: middle;\n",
       "    }\n",
       "\n",
       "    .dataframe tbody tr th {\n",
       "        vertical-align: top;\n",
       "    }\n",
       "\n",
       "    .dataframe thead th {\n",
       "        text-align: right;\n",
       "    }\n",
       "</style>\n",
       "<table border=\"1\" class=\"dataframe\">\n",
       "  <thead>\n",
       "    <tr style=\"text-align: right;\">\n",
       "      <th></th>\n",
       "      <th>customerID</th>\n",
       "      <th>begin_date</th>\n",
       "      <th>end_date</th>\n",
       "      <th>type</th>\n",
       "      <th>paperless_billing</th>\n",
       "      <th>payment_method</th>\n",
       "      <th>monthly_charges</th>\n",
       "      <th>total_charges</th>\n",
       "    </tr>\n",
       "  </thead>\n",
       "  <tbody>\n",
       "    <tr>\n",
       "      <th>5</th>\n",
       "      <td>9305-CDSKC</td>\n",
       "      <td>2019-03-01</td>\n",
       "      <td>2019-11-01 00:00:00</td>\n",
       "      <td>Month-to-month</td>\n",
       "      <td>Yes</td>\n",
       "      <td>Electronic check</td>\n",
       "      <td>99.65</td>\n",
       "      <td>820.5</td>\n",
       "    </tr>\n",
       "  </tbody>\n",
       "</table>\n",
       "</div>"
      ],
      "text/plain": [
       "   customerID  begin_date             end_date            type  \\\n",
       "5  9305-CDSKC  2019-03-01  2019-11-01 00:00:00  Month-to-month   \n",
       "\n",
       "  paperless_billing    payment_method  monthly_charges total_charges  \n",
       "5               Yes  Electronic check            99.65         820.5  "
      ]
     },
     "metadata": {},
     "output_type": "display_data"
    },
    {
     "name": "stdout",
     "output_type": "stream",
     "text": [
      "Таблица= 2\n"
     ]
    },
    {
     "data": {
      "text/html": [
       "<div>\n",
       "<style scoped>\n",
       "    .dataframe tbody tr th:only-of-type {\n",
       "        vertical-align: middle;\n",
       "    }\n",
       "\n",
       "    .dataframe tbody tr th {\n",
       "        vertical-align: top;\n",
       "    }\n",
       "\n",
       "    .dataframe thead th {\n",
       "        text-align: right;\n",
       "    }\n",
       "</style>\n",
       "<table border=\"1\" class=\"dataframe\">\n",
       "  <thead>\n",
       "    <tr style=\"text-align: right;\">\n",
       "      <th></th>\n",
       "      <th>customerID</th>\n",
       "      <th>gender</th>\n",
       "      <th>senior_citizen</th>\n",
       "      <th>partner</th>\n",
       "      <th>dependents</th>\n",
       "    </tr>\n",
       "  </thead>\n",
       "  <tbody>\n",
       "    <tr>\n",
       "      <th>7037</th>\n",
       "      <td>2569-WGERO</td>\n",
       "      <td>Female</td>\n",
       "      <td>0</td>\n",
       "      <td>No</td>\n",
       "      <td>No</td>\n",
       "    </tr>\n",
       "  </tbody>\n",
       "</table>\n",
       "</div>"
      ],
      "text/plain": [
       "      customerID  gender  senior_citizen partner dependents\n",
       "7037  2569-WGERO  Female               0      No         No"
      ]
     },
     "metadata": {},
     "output_type": "display_data"
    },
    {
     "data": {
      "text/html": [
       "<div>\n",
       "<style scoped>\n",
       "    .dataframe tbody tr th:only-of-type {\n",
       "        vertical-align: middle;\n",
       "    }\n",
       "\n",
       "    .dataframe tbody tr th {\n",
       "        vertical-align: top;\n",
       "    }\n",
       "\n",
       "    .dataframe thead th {\n",
       "        text-align: right;\n",
       "    }\n",
       "</style>\n",
       "<table border=\"1\" class=\"dataframe\">\n",
       "  <thead>\n",
       "    <tr style=\"text-align: right;\">\n",
       "      <th></th>\n",
       "      <th>customerID</th>\n",
       "      <th>gender</th>\n",
       "      <th>senior_citizen</th>\n",
       "      <th>partner</th>\n",
       "      <th>dependents</th>\n",
       "    </tr>\n",
       "  </thead>\n",
       "  <tbody>\n",
       "    <tr>\n",
       "      <th>5</th>\n",
       "      <td>9305-CDSKC</td>\n",
       "      <td>Female</td>\n",
       "      <td>0</td>\n",
       "      <td>No</td>\n",
       "      <td>No</td>\n",
       "    </tr>\n",
       "  </tbody>\n",
       "</table>\n",
       "</div>"
      ],
      "text/plain": [
       "   customerID  gender  senior_citizen partner dependents\n",
       "5  9305-CDSKC  Female               0      No         No"
      ]
     },
     "metadata": {},
     "output_type": "display_data"
    },
    {
     "name": "stdout",
     "output_type": "stream",
     "text": [
      "Таблица= 3\n"
     ]
    },
    {
     "data": {
      "text/html": [
       "<div>\n",
       "<style scoped>\n",
       "    .dataframe tbody tr th:only-of-type {\n",
       "        vertical-align: middle;\n",
       "    }\n",
       "\n",
       "    .dataframe tbody tr th {\n",
       "        vertical-align: top;\n",
       "    }\n",
       "\n",
       "    .dataframe thead th {\n",
       "        text-align: right;\n",
       "    }\n",
       "</style>\n",
       "<table border=\"1\" class=\"dataframe\">\n",
       "  <thead>\n",
       "    <tr style=\"text-align: right;\">\n",
       "      <th></th>\n",
       "      <th>customerID</th>\n",
       "      <th>internet_service</th>\n",
       "      <th>online_security</th>\n",
       "      <th>online_backup</th>\n",
       "      <th>device_protection</th>\n",
       "      <th>tech_support</th>\n",
       "      <th>streaming_t_v</th>\n",
       "      <th>streaming_movies</th>\n",
       "    </tr>\n",
       "  </thead>\n",
       "  <tbody>\n",
       "  </tbody>\n",
       "</table>\n",
       "</div>"
      ],
      "text/plain": [
       "Empty DataFrame\n",
       "Columns: [customerID, internet_service, online_security, online_backup, device_protection, tech_support, streaming_t_v, streaming_movies]\n",
       "Index: []"
      ]
     },
     "metadata": {},
     "output_type": "display_data"
    },
    {
     "data": {
      "text/html": [
       "<div>\n",
       "<style scoped>\n",
       "    .dataframe tbody tr th:only-of-type {\n",
       "        vertical-align: middle;\n",
       "    }\n",
       "\n",
       "    .dataframe tbody tr th {\n",
       "        vertical-align: top;\n",
       "    }\n",
       "\n",
       "    .dataframe thead th {\n",
       "        text-align: right;\n",
       "    }\n",
       "</style>\n",
       "<table border=\"1\" class=\"dataframe\">\n",
       "  <thead>\n",
       "    <tr style=\"text-align: right;\">\n",
       "      <th></th>\n",
       "      <th>customerID</th>\n",
       "      <th>internet_service</th>\n",
       "      <th>online_security</th>\n",
       "      <th>online_backup</th>\n",
       "      <th>device_protection</th>\n",
       "      <th>tech_support</th>\n",
       "      <th>streaming_t_v</th>\n",
       "      <th>streaming_movies</th>\n",
       "    </tr>\n",
       "  </thead>\n",
       "  <tbody>\n",
       "    <tr>\n",
       "      <th>5</th>\n",
       "      <td>9305-CDSKC</td>\n",
       "      <td>Fiber optic</td>\n",
       "      <td>No</td>\n",
       "      <td>No</td>\n",
       "      <td>Yes</td>\n",
       "      <td>No</td>\n",
       "      <td>Yes</td>\n",
       "      <td>Yes</td>\n",
       "    </tr>\n",
       "  </tbody>\n",
       "</table>\n",
       "</div>"
      ],
      "text/plain": [
       "   customerID internet_service online_security online_backup  \\\n",
       "5  9305-CDSKC      Fiber optic              No            No   \n",
       "\n",
       "  device_protection tech_support streaming_t_v streaming_movies  \n",
       "5               Yes           No           Yes              Yes  "
      ]
     },
     "metadata": {},
     "output_type": "display_data"
    },
    {
     "name": "stdout",
     "output_type": "stream",
     "text": [
      "Таблица= 4\n"
     ]
    },
    {
     "data": {
      "text/html": [
       "<div>\n",
       "<style scoped>\n",
       "    .dataframe tbody tr th:only-of-type {\n",
       "        vertical-align: middle;\n",
       "    }\n",
       "\n",
       "    .dataframe tbody tr th {\n",
       "        vertical-align: top;\n",
       "    }\n",
       "\n",
       "    .dataframe thead th {\n",
       "        text-align: right;\n",
       "    }\n",
       "</style>\n",
       "<table border=\"1\" class=\"dataframe\">\n",
       "  <thead>\n",
       "    <tr style=\"text-align: right;\">\n",
       "      <th></th>\n",
       "      <th>customerID</th>\n",
       "      <th>multiple_lines</th>\n",
       "    </tr>\n",
       "  </thead>\n",
       "  <tbody>\n",
       "    <tr>\n",
       "      <th>6356</th>\n",
       "      <td>2569-WGERO</td>\n",
       "      <td>No</td>\n",
       "    </tr>\n",
       "  </tbody>\n",
       "</table>\n",
       "</div>"
      ],
      "text/plain": [
       "      customerID multiple_lines\n",
       "6356  2569-WGERO             No"
      ]
     },
     "metadata": {},
     "output_type": "display_data"
    },
    {
     "data": {
      "text/html": [
       "<div>\n",
       "<style scoped>\n",
       "    .dataframe tbody tr th:only-of-type {\n",
       "        vertical-align: middle;\n",
       "    }\n",
       "\n",
       "    .dataframe tbody tr th {\n",
       "        vertical-align: top;\n",
       "    }\n",
       "\n",
       "    .dataframe thead th {\n",
       "        text-align: right;\n",
       "    }\n",
       "</style>\n",
       "<table border=\"1\" class=\"dataframe\">\n",
       "  <thead>\n",
       "    <tr style=\"text-align: right;\">\n",
       "      <th></th>\n",
       "      <th>customerID</th>\n",
       "      <th>multiple_lines</th>\n",
       "    </tr>\n",
       "  </thead>\n",
       "  <tbody>\n",
       "    <tr>\n",
       "      <th>3</th>\n",
       "      <td>9305-CDSKC</td>\n",
       "      <td>Yes</td>\n",
       "    </tr>\n",
       "  </tbody>\n",
       "</table>\n",
       "</div>"
      ],
      "text/plain": [
       "   customerID multiple_lines\n",
       "3  9305-CDSKC            Yes"
      ]
     },
     "metadata": {},
     "output_type": "display_data"
    }
   ],
   "source": [
    "data=[df_contract,df_personal,df_internet,df_phone]\n",
    "j=1\n",
    "for df in data:\n",
    "    print('Таблица=',j)\n",
    "    display(df[df['customerID']=='2569-WGERO'])\n",
    "    #print('Таблица=',j, 'customerID=9305-CDSKC')\n",
    "    display(df[df['customerID']=='9305-CDSKC'])\n",
    "    j+=1"
   ]
  },
  {
   "cell_type": "markdown",
   "metadata": {
    "pycharm": {
     "name": "#%% md\n"
    }
   },
   "source": [
    "## Вопросы"
   ]
  },
  {
   "cell_type": "markdown",
   "metadata": {
    "pycharm": {
     "name": "#%% md\n"
    }
   },
   "source": [
    "1. Целевой признак - если end_date равен No, можно ли заменить временем выгрузки?\n",
    "2. Какую метрику надо использовать?\n",
    "3. На какие значения метрики надо ориентироваться?\n",
    "4. Какой способ кодирования лучше примениить One-Hot Encoding или Ordinal Encoding ?\n"
   ]
  },
  {
   "cell_type": "markdown",
   "metadata": {
    "pycharm": {
     "name": "#%% md\n"
    }
   },
   "source": [
    "## План"
   ]
  },
  {
   "cell_type": "markdown",
   "metadata": {
    "pycharm": {
     "name": "#%% md\n"
    }
   },
   "source": [
    "1. Изучить данные в файлах - проверить типы, есть ли пропуски, надо ли преобразовывать данные\n",
    "2. Подготовить данных на основе выводов, полученных на предыдущем шаге\n",
    "3. Провести исследовательский анализ данных - собрать все в единую таблицу провести вузализацию данных, убрать выбросы\n",
    "4. Рассмотреть модели классификации и подбрать их параметры\n",
    "5. Вывод по итогам работы\n",
    "\n"
   ]
  },
  {
   "cell_type": "markdown",
   "metadata": {
    "pycharm": {
     "name": "#%% md\n"
    }
   },
   "source": [
    "## Предобработка данных"
   ]
  },
  {
   "cell_type": "code",
   "execution_count": 17,
   "metadata": {
    "pycharm": {
     "name": "#%%\n"
    }
   },
   "outputs": [],
   "source": [
    "# Объеденим все в одну таблицу через merge how='outer' или how='left' по столбцу 'customerID'"
   ]
  },
  {
   "cell_type": "code",
   "execution_count": 18,
   "metadata": {
    "pycharm": {
     "name": "#%%\n"
    }
   },
   "outputs": [],
   "source": [
    "df_data=df_contract.merge(df_personal,how='left', on='customerID').merge(df_internet,how='left',on='customerID').merge(df_phone,how='left',on='customerID')"
   ]
  },
  {
   "cell_type": "code",
   "execution_count": 19,
   "metadata": {
    "pycharm": {
     "name": "#%%\n"
    },
    "scrolled": true
   },
   "outputs": [
    {
     "name": "stdout",
     "output_type": "stream",
     "text": [
      "<class 'pandas.core.frame.DataFrame'>\n",
      "Int64Index: 7043 entries, 0 to 7042\n",
      "Data columns (total 20 columns):\n",
      " #   Column             Non-Null Count  Dtype  \n",
      "---  ------             --------------  -----  \n",
      " 0   customerID         7043 non-null   object \n",
      " 1   begin_date         7043 non-null   object \n",
      " 2   end_date           7043 non-null   object \n",
      " 3   type               7043 non-null   object \n",
      " 4   paperless_billing  7043 non-null   object \n",
      " 5   payment_method     7043 non-null   object \n",
      " 6   monthly_charges    7043 non-null   float64\n",
      " 7   total_charges      7043 non-null   object \n",
      " 8   gender             7043 non-null   object \n",
      " 9   senior_citizen     7043 non-null   int64  \n",
      " 10  partner            7043 non-null   object \n",
      " 11  dependents         7043 non-null   object \n",
      " 12  internet_service   5517 non-null   object \n",
      " 13  online_security    5517 non-null   object \n",
      " 14  online_backup      5517 non-null   object \n",
      " 15  device_protection  5517 non-null   object \n",
      " 16  tech_support       5517 non-null   object \n",
      " 17  streaming_t_v      5517 non-null   object \n",
      " 18  streaming_movies   5517 non-null   object \n",
      " 19  multiple_lines     6361 non-null   object \n",
      "dtypes: float64(1), int64(1), object(18)\n",
      "memory usage: 1.1+ MB\n"
     ]
    }
   ],
   "source": [
    "df_data.info()"
   ]
  },
  {
   "cell_type": "code",
   "execution_count": 20,
   "metadata": {
    "pycharm": {
     "name": "#%%\n"
    },
    "scrolled": false
   },
   "outputs": [
    {
     "data": {
      "text/html": [
       "<div>\n",
       "<style scoped>\n",
       "    .dataframe tbody tr th:only-of-type {\n",
       "        vertical-align: middle;\n",
       "    }\n",
       "\n",
       "    .dataframe tbody tr th {\n",
       "        vertical-align: top;\n",
       "    }\n",
       "\n",
       "    .dataframe thead th {\n",
       "        text-align: right;\n",
       "    }\n",
       "</style>\n",
       "<table border=\"1\" class=\"dataframe\">\n",
       "  <thead>\n",
       "    <tr style=\"text-align: right;\">\n",
       "      <th></th>\n",
       "      <th>customerID</th>\n",
       "      <th>begin_date</th>\n",
       "      <th>end_date</th>\n",
       "      <th>type</th>\n",
       "      <th>paperless_billing</th>\n",
       "      <th>payment_method</th>\n",
       "      <th>monthly_charges</th>\n",
       "      <th>total_charges</th>\n",
       "      <th>gender</th>\n",
       "      <th>senior_citizen</th>\n",
       "      <th>partner</th>\n",
       "      <th>dependents</th>\n",
       "      <th>internet_service</th>\n",
       "      <th>online_security</th>\n",
       "      <th>online_backup</th>\n",
       "      <th>device_protection</th>\n",
       "      <th>tech_support</th>\n",
       "      <th>streaming_t_v</th>\n",
       "      <th>streaming_movies</th>\n",
       "      <th>multiple_lines</th>\n",
       "    </tr>\n",
       "  </thead>\n",
       "  <tbody>\n",
       "    <tr>\n",
       "      <th>0</th>\n",
       "      <td>7590-VHVEG</td>\n",
       "      <td>2020-01-01</td>\n",
       "      <td>No</td>\n",
       "      <td>Month-to-month</td>\n",
       "      <td>Yes</td>\n",
       "      <td>Electronic check</td>\n",
       "      <td>29.85</td>\n",
       "      <td>29.85</td>\n",
       "      <td>Female</td>\n",
       "      <td>0</td>\n",
       "      <td>Yes</td>\n",
       "      <td>No</td>\n",
       "      <td>DSL</td>\n",
       "      <td>No</td>\n",
       "      <td>Yes</td>\n",
       "      <td>No</td>\n",
       "      <td>No</td>\n",
       "      <td>No</td>\n",
       "      <td>No</td>\n",
       "      <td>NaN</td>\n",
       "    </tr>\n",
       "    <tr>\n",
       "      <th>1</th>\n",
       "      <td>5575-GNVDE</td>\n",
       "      <td>2017-04-01</td>\n",
       "      <td>No</td>\n",
       "      <td>One year</td>\n",
       "      <td>No</td>\n",
       "      <td>Mailed check</td>\n",
       "      <td>56.95</td>\n",
       "      <td>1889.5</td>\n",
       "      <td>Male</td>\n",
       "      <td>0</td>\n",
       "      <td>No</td>\n",
       "      <td>No</td>\n",
       "      <td>DSL</td>\n",
       "      <td>Yes</td>\n",
       "      <td>No</td>\n",
       "      <td>Yes</td>\n",
       "      <td>No</td>\n",
       "      <td>No</td>\n",
       "      <td>No</td>\n",
       "      <td>No</td>\n",
       "    </tr>\n",
       "    <tr>\n",
       "      <th>2</th>\n",
       "      <td>3668-QPYBK</td>\n",
       "      <td>2019-10-01</td>\n",
       "      <td>2019-12-01 00:00:00</td>\n",
       "      <td>Month-to-month</td>\n",
       "      <td>Yes</td>\n",
       "      <td>Mailed check</td>\n",
       "      <td>53.85</td>\n",
       "      <td>108.15</td>\n",
       "      <td>Male</td>\n",
       "      <td>0</td>\n",
       "      <td>No</td>\n",
       "      <td>No</td>\n",
       "      <td>DSL</td>\n",
       "      <td>Yes</td>\n",
       "      <td>Yes</td>\n",
       "      <td>No</td>\n",
       "      <td>No</td>\n",
       "      <td>No</td>\n",
       "      <td>No</td>\n",
       "      <td>No</td>\n",
       "    </tr>\n",
       "    <tr>\n",
       "      <th>3</th>\n",
       "      <td>7795-CFOCW</td>\n",
       "      <td>2016-05-01</td>\n",
       "      <td>No</td>\n",
       "      <td>One year</td>\n",
       "      <td>No</td>\n",
       "      <td>Bank transfer (automatic)</td>\n",
       "      <td>42.30</td>\n",
       "      <td>1840.75</td>\n",
       "      <td>Male</td>\n",
       "      <td>0</td>\n",
       "      <td>No</td>\n",
       "      <td>No</td>\n",
       "      <td>DSL</td>\n",
       "      <td>Yes</td>\n",
       "      <td>No</td>\n",
       "      <td>Yes</td>\n",
       "      <td>Yes</td>\n",
       "      <td>No</td>\n",
       "      <td>No</td>\n",
       "      <td>NaN</td>\n",
       "    </tr>\n",
       "    <tr>\n",
       "      <th>4</th>\n",
       "      <td>9237-HQITU</td>\n",
       "      <td>2019-09-01</td>\n",
       "      <td>2019-11-01 00:00:00</td>\n",
       "      <td>Month-to-month</td>\n",
       "      <td>Yes</td>\n",
       "      <td>Electronic check</td>\n",
       "      <td>70.70</td>\n",
       "      <td>151.65</td>\n",
       "      <td>Female</td>\n",
       "      <td>0</td>\n",
       "      <td>No</td>\n",
       "      <td>No</td>\n",
       "      <td>Fiber optic</td>\n",
       "      <td>No</td>\n",
       "      <td>No</td>\n",
       "      <td>No</td>\n",
       "      <td>No</td>\n",
       "      <td>No</td>\n",
       "      <td>No</td>\n",
       "      <td>No</td>\n",
       "    </tr>\n",
       "    <tr>\n",
       "      <th>...</th>\n",
       "      <td>...</td>\n",
       "      <td>...</td>\n",
       "      <td>...</td>\n",
       "      <td>...</td>\n",
       "      <td>...</td>\n",
       "      <td>...</td>\n",
       "      <td>...</td>\n",
       "      <td>...</td>\n",
       "      <td>...</td>\n",
       "      <td>...</td>\n",
       "      <td>...</td>\n",
       "      <td>...</td>\n",
       "      <td>...</td>\n",
       "      <td>...</td>\n",
       "      <td>...</td>\n",
       "      <td>...</td>\n",
       "      <td>...</td>\n",
       "      <td>...</td>\n",
       "      <td>...</td>\n",
       "      <td>...</td>\n",
       "    </tr>\n",
       "    <tr>\n",
       "      <th>7038</th>\n",
       "      <td>6840-RESVB</td>\n",
       "      <td>2018-02-01</td>\n",
       "      <td>No</td>\n",
       "      <td>One year</td>\n",
       "      <td>Yes</td>\n",
       "      <td>Mailed check</td>\n",
       "      <td>84.80</td>\n",
       "      <td>1990.5</td>\n",
       "      <td>Male</td>\n",
       "      <td>0</td>\n",
       "      <td>Yes</td>\n",
       "      <td>Yes</td>\n",
       "      <td>DSL</td>\n",
       "      <td>Yes</td>\n",
       "      <td>No</td>\n",
       "      <td>Yes</td>\n",
       "      <td>Yes</td>\n",
       "      <td>Yes</td>\n",
       "      <td>Yes</td>\n",
       "      <td>Yes</td>\n",
       "    </tr>\n",
       "    <tr>\n",
       "      <th>7039</th>\n",
       "      <td>2234-XADUH</td>\n",
       "      <td>2014-02-01</td>\n",
       "      <td>No</td>\n",
       "      <td>One year</td>\n",
       "      <td>Yes</td>\n",
       "      <td>Credit card (automatic)</td>\n",
       "      <td>103.20</td>\n",
       "      <td>7362.9</td>\n",
       "      <td>Female</td>\n",
       "      <td>0</td>\n",
       "      <td>Yes</td>\n",
       "      <td>Yes</td>\n",
       "      <td>Fiber optic</td>\n",
       "      <td>No</td>\n",
       "      <td>Yes</td>\n",
       "      <td>Yes</td>\n",
       "      <td>No</td>\n",
       "      <td>Yes</td>\n",
       "      <td>Yes</td>\n",
       "      <td>Yes</td>\n",
       "    </tr>\n",
       "    <tr>\n",
       "      <th>7040</th>\n",
       "      <td>4801-JZAZL</td>\n",
       "      <td>2019-03-01</td>\n",
       "      <td>No</td>\n",
       "      <td>Month-to-month</td>\n",
       "      <td>Yes</td>\n",
       "      <td>Electronic check</td>\n",
       "      <td>29.60</td>\n",
       "      <td>346.45</td>\n",
       "      <td>Female</td>\n",
       "      <td>0</td>\n",
       "      <td>Yes</td>\n",
       "      <td>Yes</td>\n",
       "      <td>DSL</td>\n",
       "      <td>Yes</td>\n",
       "      <td>No</td>\n",
       "      <td>No</td>\n",
       "      <td>No</td>\n",
       "      <td>No</td>\n",
       "      <td>No</td>\n",
       "      <td>NaN</td>\n",
       "    </tr>\n",
       "    <tr>\n",
       "      <th>7041</th>\n",
       "      <td>8361-LTMKD</td>\n",
       "      <td>2019-07-01</td>\n",
       "      <td>2019-11-01 00:00:00</td>\n",
       "      <td>Month-to-month</td>\n",
       "      <td>Yes</td>\n",
       "      <td>Mailed check</td>\n",
       "      <td>74.40</td>\n",
       "      <td>306.6</td>\n",
       "      <td>Male</td>\n",
       "      <td>1</td>\n",
       "      <td>Yes</td>\n",
       "      <td>No</td>\n",
       "      <td>Fiber optic</td>\n",
       "      <td>No</td>\n",
       "      <td>No</td>\n",
       "      <td>No</td>\n",
       "      <td>No</td>\n",
       "      <td>No</td>\n",
       "      <td>No</td>\n",
       "      <td>Yes</td>\n",
       "    </tr>\n",
       "    <tr>\n",
       "      <th>7042</th>\n",
       "      <td>3186-AJIEK</td>\n",
       "      <td>2014-08-01</td>\n",
       "      <td>No</td>\n",
       "      <td>Two year</td>\n",
       "      <td>Yes</td>\n",
       "      <td>Bank transfer (automatic)</td>\n",
       "      <td>105.65</td>\n",
       "      <td>6844.5</td>\n",
       "      <td>Male</td>\n",
       "      <td>0</td>\n",
       "      <td>No</td>\n",
       "      <td>No</td>\n",
       "      <td>Fiber optic</td>\n",
       "      <td>Yes</td>\n",
       "      <td>No</td>\n",
       "      <td>Yes</td>\n",
       "      <td>Yes</td>\n",
       "      <td>Yes</td>\n",
       "      <td>Yes</td>\n",
       "      <td>No</td>\n",
       "    </tr>\n",
       "  </tbody>\n",
       "</table>\n",
       "<p>7043 rows × 20 columns</p>\n",
       "</div>"
      ],
      "text/plain": [
       "      customerID  begin_date             end_date            type  \\\n",
       "0     7590-VHVEG  2020-01-01                   No  Month-to-month   \n",
       "1     5575-GNVDE  2017-04-01                   No        One year   \n",
       "2     3668-QPYBK  2019-10-01  2019-12-01 00:00:00  Month-to-month   \n",
       "3     7795-CFOCW  2016-05-01                   No        One year   \n",
       "4     9237-HQITU  2019-09-01  2019-11-01 00:00:00  Month-to-month   \n",
       "...          ...         ...                  ...             ...   \n",
       "7038  6840-RESVB  2018-02-01                   No        One year   \n",
       "7039  2234-XADUH  2014-02-01                   No        One year   \n",
       "7040  4801-JZAZL  2019-03-01                   No  Month-to-month   \n",
       "7041  8361-LTMKD  2019-07-01  2019-11-01 00:00:00  Month-to-month   \n",
       "7042  3186-AJIEK  2014-08-01                   No        Two year   \n",
       "\n",
       "     paperless_billing             payment_method  monthly_charges  \\\n",
       "0                  Yes           Electronic check            29.85   \n",
       "1                   No               Mailed check            56.95   \n",
       "2                  Yes               Mailed check            53.85   \n",
       "3                   No  Bank transfer (automatic)            42.30   \n",
       "4                  Yes           Electronic check            70.70   \n",
       "...                ...                        ...              ...   \n",
       "7038               Yes               Mailed check            84.80   \n",
       "7039               Yes    Credit card (automatic)           103.20   \n",
       "7040               Yes           Electronic check            29.60   \n",
       "7041               Yes               Mailed check            74.40   \n",
       "7042               Yes  Bank transfer (automatic)           105.65   \n",
       "\n",
       "     total_charges  gender  senior_citizen partner dependents  \\\n",
       "0            29.85  Female               0     Yes         No   \n",
       "1           1889.5    Male               0      No         No   \n",
       "2           108.15    Male               0      No         No   \n",
       "3          1840.75    Male               0      No         No   \n",
       "4           151.65  Female               0      No         No   \n",
       "...            ...     ...             ...     ...        ...   \n",
       "7038        1990.5    Male               0     Yes        Yes   \n",
       "7039        7362.9  Female               0     Yes        Yes   \n",
       "7040        346.45  Female               0     Yes        Yes   \n",
       "7041         306.6    Male               1     Yes         No   \n",
       "7042        6844.5    Male               0      No         No   \n",
       "\n",
       "     internet_service online_security online_backup device_protection  \\\n",
       "0                 DSL              No           Yes                No   \n",
       "1                 DSL             Yes            No               Yes   \n",
       "2                 DSL             Yes           Yes                No   \n",
       "3                 DSL             Yes            No               Yes   \n",
       "4         Fiber optic              No            No                No   \n",
       "...               ...             ...           ...               ...   \n",
       "7038              DSL             Yes            No               Yes   \n",
       "7039      Fiber optic              No           Yes               Yes   \n",
       "7040              DSL             Yes            No                No   \n",
       "7041      Fiber optic              No            No                No   \n",
       "7042      Fiber optic             Yes            No               Yes   \n",
       "\n",
       "     tech_support streaming_t_v streaming_movies multiple_lines  \n",
       "0              No            No               No            NaN  \n",
       "1              No            No               No             No  \n",
       "2              No            No               No             No  \n",
       "3             Yes            No               No            NaN  \n",
       "4              No            No               No             No  \n",
       "...           ...           ...              ...            ...  \n",
       "7038          Yes           Yes              Yes            Yes  \n",
       "7039           No           Yes              Yes            Yes  \n",
       "7040           No            No               No            NaN  \n",
       "7041           No            No               No            Yes  \n",
       "7042          Yes           Yes              Yes             No  \n",
       "\n",
       "[7043 rows x 20 columns]"
      ]
     },
     "metadata": {},
     "output_type": "display_data"
    }
   ],
   "source": [
    "display(df_data)"
   ]
  },
  {
   "cell_type": "markdown",
   "metadata": {
    "pycharm": {
     "name": "#%% md\n"
    }
   },
   "source": [
    "Проверка уникальных индексов пользователя"
   ]
  },
  {
   "cell_type": "code",
   "execution_count": 21,
   "metadata": {
    "pycharm": {
     "name": "#%%\n"
    }
   },
   "outputs": [
    {
     "data": {
      "text/plain": [
       "True"
      ]
     },
     "execution_count": 21,
     "metadata": {},
     "output_type": "execute_result"
    }
   ],
   "source": [
    "df_data['customerID'].is_unique"
   ]
  },
  {
   "cell_type": "code",
   "execution_count": 22,
   "metadata": {
    "pycharm": {
     "name": "#%%\n"
    }
   },
   "outputs": [
    {
     "data": {
      "text/plain": [
       "customerID              0\n",
       "begin_date              0\n",
       "end_date                0\n",
       "type                    0\n",
       "paperless_billing       0\n",
       "payment_method          0\n",
       "monthly_charges         0\n",
       "total_charges           0\n",
       "gender                  0\n",
       "senior_citizen          0\n",
       "partner                 0\n",
       "dependents              0\n",
       "internet_service     1526\n",
       "online_security      1526\n",
       "online_backup        1526\n",
       "device_protection    1526\n",
       "tech_support         1526\n",
       "streaming_t_v        1526\n",
       "streaming_movies     1526\n",
       "multiple_lines        682\n",
       "dtype: int64"
      ]
     },
     "metadata": {},
     "output_type": "display_data"
    }
   ],
   "source": [
    "display(df_data.isna().sum()) # подсчёт пропусков"
   ]
  },
  {
   "cell_type": "markdown",
   "metadata": {
    "pycharm": {
     "name": "#%% md\n"
    }
   },
   "source": [
    "Добавим целевой признак loss, который будет означать отказался клиент от услуг или нет.\n",
    "Если значение в столбце end_date равно \"No\", то значит клиент не ушел и целевой признак равен 0.\n",
    "Если дата ухода есть, то целевой признак равен 1."
   ]
  },
  {
   "cell_type": "code",
   "execution_count": 23,
   "metadata": {
    "pycharm": {
     "name": "#%%\n"
    }
   },
   "outputs": [
    {
     "data": {
      "text/html": [
       "<div>\n",
       "<style scoped>\n",
       "    .dataframe tbody tr th:only-of-type {\n",
       "        vertical-align: middle;\n",
       "    }\n",
       "\n",
       "    .dataframe tbody tr th {\n",
       "        vertical-align: top;\n",
       "    }\n",
       "\n",
       "    .dataframe thead th {\n",
       "        text-align: right;\n",
       "    }\n",
       "</style>\n",
       "<table border=\"1\" class=\"dataframe\">\n",
       "  <thead>\n",
       "    <tr style=\"text-align: right;\">\n",
       "      <th></th>\n",
       "      <th>customerID</th>\n",
       "      <th>begin_date</th>\n",
       "      <th>end_date</th>\n",
       "      <th>type</th>\n",
       "      <th>paperless_billing</th>\n",
       "      <th>payment_method</th>\n",
       "      <th>monthly_charges</th>\n",
       "      <th>total_charges</th>\n",
       "      <th>gender</th>\n",
       "      <th>senior_citizen</th>\n",
       "      <th>...</th>\n",
       "      <th>dependents</th>\n",
       "      <th>internet_service</th>\n",
       "      <th>online_security</th>\n",
       "      <th>online_backup</th>\n",
       "      <th>device_protection</th>\n",
       "      <th>tech_support</th>\n",
       "      <th>streaming_t_v</th>\n",
       "      <th>streaming_movies</th>\n",
       "      <th>multiple_lines</th>\n",
       "      <th>loss</th>\n",
       "    </tr>\n",
       "  </thead>\n",
       "  <tbody>\n",
       "    <tr>\n",
       "      <th>0</th>\n",
       "      <td>7590-VHVEG</td>\n",
       "      <td>2020-01-01</td>\n",
       "      <td>No</td>\n",
       "      <td>Month-to-month</td>\n",
       "      <td>Yes</td>\n",
       "      <td>Electronic check</td>\n",
       "      <td>29.85</td>\n",
       "      <td>29.85</td>\n",
       "      <td>Female</td>\n",
       "      <td>0</td>\n",
       "      <td>...</td>\n",
       "      <td>No</td>\n",
       "      <td>DSL</td>\n",
       "      <td>No</td>\n",
       "      <td>Yes</td>\n",
       "      <td>No</td>\n",
       "      <td>No</td>\n",
       "      <td>No</td>\n",
       "      <td>No</td>\n",
       "      <td>NaN</td>\n",
       "      <td>0</td>\n",
       "    </tr>\n",
       "    <tr>\n",
       "      <th>1</th>\n",
       "      <td>5575-GNVDE</td>\n",
       "      <td>2017-04-01</td>\n",
       "      <td>No</td>\n",
       "      <td>One year</td>\n",
       "      <td>No</td>\n",
       "      <td>Mailed check</td>\n",
       "      <td>56.95</td>\n",
       "      <td>1889.5</td>\n",
       "      <td>Male</td>\n",
       "      <td>0</td>\n",
       "      <td>...</td>\n",
       "      <td>No</td>\n",
       "      <td>DSL</td>\n",
       "      <td>Yes</td>\n",
       "      <td>No</td>\n",
       "      <td>Yes</td>\n",
       "      <td>No</td>\n",
       "      <td>No</td>\n",
       "      <td>No</td>\n",
       "      <td>No</td>\n",
       "      <td>0</td>\n",
       "    </tr>\n",
       "    <tr>\n",
       "      <th>2</th>\n",
       "      <td>3668-QPYBK</td>\n",
       "      <td>2019-10-01</td>\n",
       "      <td>2019-12-01 00:00:00</td>\n",
       "      <td>Month-to-month</td>\n",
       "      <td>Yes</td>\n",
       "      <td>Mailed check</td>\n",
       "      <td>53.85</td>\n",
       "      <td>108.15</td>\n",
       "      <td>Male</td>\n",
       "      <td>0</td>\n",
       "      <td>...</td>\n",
       "      <td>No</td>\n",
       "      <td>DSL</td>\n",
       "      <td>Yes</td>\n",
       "      <td>Yes</td>\n",
       "      <td>No</td>\n",
       "      <td>No</td>\n",
       "      <td>No</td>\n",
       "      <td>No</td>\n",
       "      <td>No</td>\n",
       "      <td>1</td>\n",
       "    </tr>\n",
       "    <tr>\n",
       "      <th>3</th>\n",
       "      <td>7795-CFOCW</td>\n",
       "      <td>2016-05-01</td>\n",
       "      <td>No</td>\n",
       "      <td>One year</td>\n",
       "      <td>No</td>\n",
       "      <td>Bank transfer (automatic)</td>\n",
       "      <td>42.30</td>\n",
       "      <td>1840.75</td>\n",
       "      <td>Male</td>\n",
       "      <td>0</td>\n",
       "      <td>...</td>\n",
       "      <td>No</td>\n",
       "      <td>DSL</td>\n",
       "      <td>Yes</td>\n",
       "      <td>No</td>\n",
       "      <td>Yes</td>\n",
       "      <td>Yes</td>\n",
       "      <td>No</td>\n",
       "      <td>No</td>\n",
       "      <td>NaN</td>\n",
       "      <td>0</td>\n",
       "    </tr>\n",
       "    <tr>\n",
       "      <th>4</th>\n",
       "      <td>9237-HQITU</td>\n",
       "      <td>2019-09-01</td>\n",
       "      <td>2019-11-01 00:00:00</td>\n",
       "      <td>Month-to-month</td>\n",
       "      <td>Yes</td>\n",
       "      <td>Electronic check</td>\n",
       "      <td>70.70</td>\n",
       "      <td>151.65</td>\n",
       "      <td>Female</td>\n",
       "      <td>0</td>\n",
       "      <td>...</td>\n",
       "      <td>No</td>\n",
       "      <td>Fiber optic</td>\n",
       "      <td>No</td>\n",
       "      <td>No</td>\n",
       "      <td>No</td>\n",
       "      <td>No</td>\n",
       "      <td>No</td>\n",
       "      <td>No</td>\n",
       "      <td>No</td>\n",
       "      <td>1</td>\n",
       "    </tr>\n",
       "  </tbody>\n",
       "</table>\n",
       "<p>5 rows × 21 columns</p>\n",
       "</div>"
      ],
      "text/plain": [
       "   customerID  begin_date             end_date            type  \\\n",
       "0  7590-VHVEG  2020-01-01                   No  Month-to-month   \n",
       "1  5575-GNVDE  2017-04-01                   No        One year   \n",
       "2  3668-QPYBK  2019-10-01  2019-12-01 00:00:00  Month-to-month   \n",
       "3  7795-CFOCW  2016-05-01                   No        One year   \n",
       "4  9237-HQITU  2019-09-01  2019-11-01 00:00:00  Month-to-month   \n",
       "\n",
       "  paperless_billing             payment_method  monthly_charges total_charges  \\\n",
       "0               Yes           Electronic check            29.85         29.85   \n",
       "1                No               Mailed check            56.95        1889.5   \n",
       "2               Yes               Mailed check            53.85        108.15   \n",
       "3                No  Bank transfer (automatic)            42.30       1840.75   \n",
       "4               Yes           Electronic check            70.70        151.65   \n",
       "\n",
       "   gender  senior_citizen  ... dependents internet_service online_security  \\\n",
       "0  Female               0  ...         No              DSL              No   \n",
       "1    Male               0  ...         No              DSL             Yes   \n",
       "2    Male               0  ...         No              DSL             Yes   \n",
       "3    Male               0  ...         No              DSL             Yes   \n",
       "4  Female               0  ...         No      Fiber optic              No   \n",
       "\n",
       "  online_backup device_protection tech_support streaming_t_v streaming_movies  \\\n",
       "0           Yes                No           No            No               No   \n",
       "1            No               Yes           No            No               No   \n",
       "2           Yes                No           No            No               No   \n",
       "3            No               Yes          Yes            No               No   \n",
       "4            No                No           No            No               No   \n",
       "\n",
       "  multiple_lines loss  \n",
       "0            NaN    0  \n",
       "1             No    0  \n",
       "2             No    1  \n",
       "3            NaN    0  \n",
       "4             No    1  \n",
       "\n",
       "[5 rows x 21 columns]"
      ]
     },
     "execution_count": 23,
     "metadata": {},
     "output_type": "execute_result"
    }
   ],
   "source": [
    "df_data['loss'] = (df_data['end_date'] != 'No').astype(int)\n",
    "df_data.head()"
   ]
  },
  {
   "cell_type": "markdown",
   "metadata": {
    "pycharm": {
     "name": "#%% md\n"
    }
   },
   "source": [
    "Заменим все значения \"No\" в end_date на дату выгрузки датасета (01.02.2020)"
   ]
  },
  {
   "cell_type": "code",
   "execution_count": 24,
   "metadata": {
    "pycharm": {
     "name": "#%%\n"
    }
   },
   "outputs": [
    {
     "data": {
      "text/html": [
       "<div>\n",
       "<style scoped>\n",
       "    .dataframe tbody tr th:only-of-type {\n",
       "        vertical-align: middle;\n",
       "    }\n",
       "\n",
       "    .dataframe tbody tr th {\n",
       "        vertical-align: top;\n",
       "    }\n",
       "\n",
       "    .dataframe thead th {\n",
       "        text-align: right;\n",
       "    }\n",
       "</style>\n",
       "<table border=\"1\" class=\"dataframe\">\n",
       "  <thead>\n",
       "    <tr style=\"text-align: right;\">\n",
       "      <th></th>\n",
       "      <th>customerID</th>\n",
       "      <th>begin_date</th>\n",
       "      <th>end_date</th>\n",
       "      <th>type</th>\n",
       "      <th>paperless_billing</th>\n",
       "      <th>payment_method</th>\n",
       "      <th>monthly_charges</th>\n",
       "      <th>total_charges</th>\n",
       "      <th>gender</th>\n",
       "      <th>senior_citizen</th>\n",
       "      <th>...</th>\n",
       "      <th>dependents</th>\n",
       "      <th>internet_service</th>\n",
       "      <th>online_security</th>\n",
       "      <th>online_backup</th>\n",
       "      <th>device_protection</th>\n",
       "      <th>tech_support</th>\n",
       "      <th>streaming_t_v</th>\n",
       "      <th>streaming_movies</th>\n",
       "      <th>multiple_lines</th>\n",
       "      <th>loss</th>\n",
       "    </tr>\n",
       "  </thead>\n",
       "  <tbody>\n",
       "  </tbody>\n",
       "</table>\n",
       "<p>0 rows × 21 columns</p>\n",
       "</div>"
      ],
      "text/plain": [
       "Empty DataFrame\n",
       "Columns: [customerID, begin_date, end_date, type, paperless_billing, payment_method, monthly_charges, total_charges, gender, senior_citizen, partner, dependents, internet_service, online_security, online_backup, device_protection, tech_support, streaming_t_v, streaming_movies, multiple_lines, loss]\n",
       "Index: []\n",
       "\n",
       "[0 rows x 21 columns]"
      ]
     },
     "metadata": {},
     "output_type": "display_data"
    }
   ],
   "source": [
    "df_data['end_date'] = df_data['end_date'].replace(['No'], ['2020-02-01'])\n",
    "display(df_data[df_data['end_date'] == 'No'])"
   ]
  },
  {
   "cell_type": "markdown",
   "metadata": {
    "pycharm": {
     "name": "#%% md\n"
    }
   },
   "source": [
    "Переведем end_date и begin_date в формат даты"
   ]
  },
  {
   "cell_type": "code",
   "execution_count": 25,
   "metadata": {
    "pycharm": {
     "name": "#%%\n"
    },
    "scrolled": true
   },
   "outputs": [
    {
     "name": "stdout",
     "output_type": "stream",
     "text": [
      "<class 'pandas.core.frame.DataFrame'>\n",
      "Int64Index: 7043 entries, 0 to 7042\n",
      "Data columns (total 21 columns):\n",
      " #   Column             Non-Null Count  Dtype         \n",
      "---  ------             --------------  -----         \n",
      " 0   customerID         7043 non-null   object        \n",
      " 1   begin_date         7043 non-null   datetime64[ns]\n",
      " 2   end_date           7043 non-null   datetime64[ns]\n",
      " 3   type               7043 non-null   object        \n",
      " 4   paperless_billing  7043 non-null   object        \n",
      " 5   payment_method     7043 non-null   object        \n",
      " 6   monthly_charges    7043 non-null   float64       \n",
      " 7   total_charges      7043 non-null   object        \n",
      " 8   gender             7043 non-null   object        \n",
      " 9   senior_citizen     7043 non-null   int64         \n",
      " 10  partner            7043 non-null   object        \n",
      " 11  dependents         7043 non-null   object        \n",
      " 12  internet_service   5517 non-null   object        \n",
      " 13  online_security    5517 non-null   object        \n",
      " 14  online_backup      5517 non-null   object        \n",
      " 15  device_protection  5517 non-null   object        \n",
      " 16  tech_support       5517 non-null   object        \n",
      " 17  streaming_t_v      5517 non-null   object        \n",
      " 18  streaming_movies   5517 non-null   object        \n",
      " 19  multiple_lines     6361 non-null   object        \n",
      " 20  loss               7043 non-null   int32         \n",
      "dtypes: datetime64[ns](2), float64(1), int32(1), int64(1), object(16)\n",
      "memory usage: 1.2+ MB\n"
     ]
    }
   ],
   "source": [
    "df_data['begin_date'] = pd.to_datetime(df_data['begin_date'], format='%Y-%m-%d')\n",
    "df_data['end_date'] = pd.to_datetime(df_data['end_date'], format='%Y-%m-%d')\n",
    "\n",
    "df_data.info()"
   ]
  },
  {
   "cell_type": "code",
   "execution_count": 26,
   "metadata": {
    "pycharm": {
     "name": "#%%\n"
    }
   },
   "outputs": [
    {
     "data": {
      "text/plain": [
       "0         31\n",
       "1       1036\n",
       "2         61\n",
       "3       1371\n",
       "4         61\n",
       "        ... \n",
       "7038     730\n",
       "7039    2191\n",
       "7040     337\n",
       "7041     123\n",
       "7042    2010\n",
       "Length: 7043, dtype: int64"
      ]
     },
     "metadata": {},
     "output_type": "display_data"
    },
    {
     "data": {
      "text/plain": [
       "0         31\n",
       "1       1036\n",
       "2         61\n",
       "3       1371\n",
       "4         61\n",
       "        ... \n",
       "7038     730\n",
       "7039    2191\n",
       "7040     337\n",
       "7041     123\n",
       "7042    2010\n",
       "Name: total_date, Length: 7043, dtype: int64"
      ]
     },
     "metadata": {},
     "output_type": "display_data"
    }
   ],
   "source": [
    "# Добавляем метрику время пользования услугами организации\n",
    "# df_data['total_date']=(df_data.end_date.subtract(df_data.begin_date))\n",
    "display((df_data.end_date.subtract(df_data.begin_date)).dt.days)\n",
    "# display((df_data['end_date']-df_data['begin_date']).dt.days)\n",
    "df_data['total_date']=(df_data['end_date']-df_data['begin_date']).dt.days\n",
    "display(df_data['total_date'])\n"
   ]
  },
  {
   "cell_type": "markdown",
   "metadata": {
    "pycharm": {
     "name": "#%% md\n"
    }
   },
   "source": [
    "Переведем total_charges в числовой тип"
   ]
  },
  {
   "cell_type": "code",
   "execution_count": 27,
   "metadata": {
    "pycharm": {
     "name": "#%%\n"
    }
   },
   "outputs": [
    {
     "name": "stdout",
     "output_type": "stream",
     "text": [
      "<class 'pandas.core.frame.DataFrame'>\n",
      "Int64Index: 7043 entries, 0 to 7042\n",
      "Data columns (total 22 columns):\n",
      " #   Column             Non-Null Count  Dtype         \n",
      "---  ------             --------------  -----         \n",
      " 0   customerID         7043 non-null   object        \n",
      " 1   begin_date         7043 non-null   datetime64[ns]\n",
      " 2   end_date           7043 non-null   datetime64[ns]\n",
      " 3   type               7043 non-null   object        \n",
      " 4   paperless_billing  7043 non-null   object        \n",
      " 5   payment_method     7043 non-null   object        \n",
      " 6   monthly_charges    7043 non-null   float64       \n",
      " 7   total_charges      7032 non-null   float64       \n",
      " 8   gender             7043 non-null   object        \n",
      " 9   senior_citizen     7043 non-null   int64         \n",
      " 10  partner            7043 non-null   object        \n",
      " 11  dependents         7043 non-null   object        \n",
      " 12  internet_service   5517 non-null   object        \n",
      " 13  online_security    5517 non-null   object        \n",
      " 14  online_backup      5517 non-null   object        \n",
      " 15  device_protection  5517 non-null   object        \n",
      " 16  tech_support       5517 non-null   object        \n",
      " 17  streaming_t_v      5517 non-null   object        \n",
      " 18  streaming_movies   5517 non-null   object        \n",
      " 19  multiple_lines     6361 non-null   object        \n",
      " 20  loss               7043 non-null   int32         \n",
      " 21  total_date         7043 non-null   int64         \n",
      "dtypes: datetime64[ns](2), float64(2), int32(1), int64(2), object(15)\n",
      "memory usage: 1.2+ MB\n"
     ]
    }
   ],
   "source": [
    "df_data['total_charges'] = pd.to_numeric(df_data['total_charges'], errors ='coerce')\n",
    "#df_data['total_charges']=df_data['total_charges'].astype('float')\n",
    "df_data.info()\n"
   ]
  },
  {
   "cell_type": "code",
   "execution_count": 28,
   "metadata": {
    "pycharm": {
     "name": "#%%\n"
    },
    "scrolled": true
   },
   "outputs": [
    {
     "data": {
      "text/plain": [
       "customerID              0\n",
       "begin_date              0\n",
       "end_date                0\n",
       "type                    0\n",
       "paperless_billing       0\n",
       "payment_method          0\n",
       "monthly_charges         0\n",
       "total_charges          11\n",
       "gender                  0\n",
       "senior_citizen          0\n",
       "partner                 0\n",
       "dependents              0\n",
       "internet_service     1526\n",
       "online_security      1526\n",
       "online_backup        1526\n",
       "device_protection    1526\n",
       "tech_support         1526\n",
       "streaming_t_v        1526\n",
       "streaming_movies     1526\n",
       "multiple_lines        682\n",
       "loss                    0\n",
       "total_date              0\n",
       "dtype: int64"
      ]
     },
     "metadata": {},
     "output_type": "display_data"
    }
   ],
   "source": [
    "display(df_data.isna().sum()) # подсчёт пропусков"
   ]
  },
  {
   "cell_type": "code",
   "execution_count": 29,
   "metadata": {
    "pycharm": {
     "name": "#%%\n"
    },
    "scrolled": true
   },
   "outputs": [
    {
     "data": {
      "text/html": [
       "<div>\n",
       "<style scoped>\n",
       "    .dataframe tbody tr th:only-of-type {\n",
       "        vertical-align: middle;\n",
       "    }\n",
       "\n",
       "    .dataframe tbody tr th {\n",
       "        vertical-align: top;\n",
       "    }\n",
       "\n",
       "    .dataframe thead th {\n",
       "        text-align: right;\n",
       "    }\n",
       "</style>\n",
       "<table border=\"1\" class=\"dataframe\">\n",
       "  <thead>\n",
       "    <tr style=\"text-align: right;\">\n",
       "      <th></th>\n",
       "      <th>customerID</th>\n",
       "      <th>begin_date</th>\n",
       "      <th>end_date</th>\n",
       "      <th>type</th>\n",
       "      <th>paperless_billing</th>\n",
       "      <th>payment_method</th>\n",
       "      <th>monthly_charges</th>\n",
       "      <th>total_charges</th>\n",
       "      <th>gender</th>\n",
       "      <th>senior_citizen</th>\n",
       "      <th>...</th>\n",
       "      <th>internet_service</th>\n",
       "      <th>online_security</th>\n",
       "      <th>online_backup</th>\n",
       "      <th>device_protection</th>\n",
       "      <th>tech_support</th>\n",
       "      <th>streaming_t_v</th>\n",
       "      <th>streaming_movies</th>\n",
       "      <th>multiple_lines</th>\n",
       "      <th>loss</th>\n",
       "      <th>total_date</th>\n",
       "    </tr>\n",
       "  </thead>\n",
       "  <tbody>\n",
       "    <tr>\n",
       "      <th>488</th>\n",
       "      <td>4472-LVYGI</td>\n",
       "      <td>2020-02-01</td>\n",
       "      <td>2020-02-01</td>\n",
       "      <td>Two year</td>\n",
       "      <td>Yes</td>\n",
       "      <td>Bank transfer (automatic)</td>\n",
       "      <td>52.55</td>\n",
       "      <td>NaN</td>\n",
       "      <td>Female</td>\n",
       "      <td>0</td>\n",
       "      <td>...</td>\n",
       "      <td>DSL</td>\n",
       "      <td>Yes</td>\n",
       "      <td>No</td>\n",
       "      <td>Yes</td>\n",
       "      <td>Yes</td>\n",
       "      <td>Yes</td>\n",
       "      <td>No</td>\n",
       "      <td>NaN</td>\n",
       "      <td>0</td>\n",
       "      <td>0</td>\n",
       "    </tr>\n",
       "    <tr>\n",
       "      <th>753</th>\n",
       "      <td>3115-CZMZD</td>\n",
       "      <td>2020-02-01</td>\n",
       "      <td>2020-02-01</td>\n",
       "      <td>Two year</td>\n",
       "      <td>No</td>\n",
       "      <td>Mailed check</td>\n",
       "      <td>20.25</td>\n",
       "      <td>NaN</td>\n",
       "      <td>Male</td>\n",
       "      <td>0</td>\n",
       "      <td>...</td>\n",
       "      <td>NaN</td>\n",
       "      <td>NaN</td>\n",
       "      <td>NaN</td>\n",
       "      <td>NaN</td>\n",
       "      <td>NaN</td>\n",
       "      <td>NaN</td>\n",
       "      <td>NaN</td>\n",
       "      <td>No</td>\n",
       "      <td>0</td>\n",
       "      <td>0</td>\n",
       "    </tr>\n",
       "    <tr>\n",
       "      <th>936</th>\n",
       "      <td>5709-LVOEQ</td>\n",
       "      <td>2020-02-01</td>\n",
       "      <td>2020-02-01</td>\n",
       "      <td>Two year</td>\n",
       "      <td>No</td>\n",
       "      <td>Mailed check</td>\n",
       "      <td>80.85</td>\n",
       "      <td>NaN</td>\n",
       "      <td>Female</td>\n",
       "      <td>0</td>\n",
       "      <td>...</td>\n",
       "      <td>DSL</td>\n",
       "      <td>Yes</td>\n",
       "      <td>Yes</td>\n",
       "      <td>Yes</td>\n",
       "      <td>No</td>\n",
       "      <td>Yes</td>\n",
       "      <td>Yes</td>\n",
       "      <td>No</td>\n",
       "      <td>0</td>\n",
       "      <td>0</td>\n",
       "    </tr>\n",
       "    <tr>\n",
       "      <th>1082</th>\n",
       "      <td>4367-NUYAO</td>\n",
       "      <td>2020-02-01</td>\n",
       "      <td>2020-02-01</td>\n",
       "      <td>Two year</td>\n",
       "      <td>No</td>\n",
       "      <td>Mailed check</td>\n",
       "      <td>25.75</td>\n",
       "      <td>NaN</td>\n",
       "      <td>Male</td>\n",
       "      <td>0</td>\n",
       "      <td>...</td>\n",
       "      <td>NaN</td>\n",
       "      <td>NaN</td>\n",
       "      <td>NaN</td>\n",
       "      <td>NaN</td>\n",
       "      <td>NaN</td>\n",
       "      <td>NaN</td>\n",
       "      <td>NaN</td>\n",
       "      <td>Yes</td>\n",
       "      <td>0</td>\n",
       "      <td>0</td>\n",
       "    </tr>\n",
       "    <tr>\n",
       "      <th>1340</th>\n",
       "      <td>1371-DWPAZ</td>\n",
       "      <td>2020-02-01</td>\n",
       "      <td>2020-02-01</td>\n",
       "      <td>Two year</td>\n",
       "      <td>No</td>\n",
       "      <td>Credit card (automatic)</td>\n",
       "      <td>56.05</td>\n",
       "      <td>NaN</td>\n",
       "      <td>Female</td>\n",
       "      <td>0</td>\n",
       "      <td>...</td>\n",
       "      <td>DSL</td>\n",
       "      <td>Yes</td>\n",
       "      <td>Yes</td>\n",
       "      <td>Yes</td>\n",
       "      <td>Yes</td>\n",
       "      <td>Yes</td>\n",
       "      <td>No</td>\n",
       "      <td>NaN</td>\n",
       "      <td>0</td>\n",
       "      <td>0</td>\n",
       "    </tr>\n",
       "    <tr>\n",
       "      <th>3331</th>\n",
       "      <td>7644-OMVMY</td>\n",
       "      <td>2020-02-01</td>\n",
       "      <td>2020-02-01</td>\n",
       "      <td>Two year</td>\n",
       "      <td>No</td>\n",
       "      <td>Mailed check</td>\n",
       "      <td>19.85</td>\n",
       "      <td>NaN</td>\n",
       "      <td>Male</td>\n",
       "      <td>0</td>\n",
       "      <td>...</td>\n",
       "      <td>NaN</td>\n",
       "      <td>NaN</td>\n",
       "      <td>NaN</td>\n",
       "      <td>NaN</td>\n",
       "      <td>NaN</td>\n",
       "      <td>NaN</td>\n",
       "      <td>NaN</td>\n",
       "      <td>No</td>\n",
       "      <td>0</td>\n",
       "      <td>0</td>\n",
       "    </tr>\n",
       "    <tr>\n",
       "      <th>3826</th>\n",
       "      <td>3213-VVOLG</td>\n",
       "      <td>2020-02-01</td>\n",
       "      <td>2020-02-01</td>\n",
       "      <td>Two year</td>\n",
       "      <td>No</td>\n",
       "      <td>Mailed check</td>\n",
       "      <td>25.35</td>\n",
       "      <td>NaN</td>\n",
       "      <td>Male</td>\n",
       "      <td>0</td>\n",
       "      <td>...</td>\n",
       "      <td>NaN</td>\n",
       "      <td>NaN</td>\n",
       "      <td>NaN</td>\n",
       "      <td>NaN</td>\n",
       "      <td>NaN</td>\n",
       "      <td>NaN</td>\n",
       "      <td>NaN</td>\n",
       "      <td>Yes</td>\n",
       "      <td>0</td>\n",
       "      <td>0</td>\n",
       "    </tr>\n",
       "    <tr>\n",
       "      <th>4380</th>\n",
       "      <td>2520-SGTTA</td>\n",
       "      <td>2020-02-01</td>\n",
       "      <td>2020-02-01</td>\n",
       "      <td>Two year</td>\n",
       "      <td>No</td>\n",
       "      <td>Mailed check</td>\n",
       "      <td>20.00</td>\n",
       "      <td>NaN</td>\n",
       "      <td>Female</td>\n",
       "      <td>0</td>\n",
       "      <td>...</td>\n",
       "      <td>NaN</td>\n",
       "      <td>NaN</td>\n",
       "      <td>NaN</td>\n",
       "      <td>NaN</td>\n",
       "      <td>NaN</td>\n",
       "      <td>NaN</td>\n",
       "      <td>NaN</td>\n",
       "      <td>No</td>\n",
       "      <td>0</td>\n",
       "      <td>0</td>\n",
       "    </tr>\n",
       "    <tr>\n",
       "      <th>5218</th>\n",
       "      <td>2923-ARZLG</td>\n",
       "      <td>2020-02-01</td>\n",
       "      <td>2020-02-01</td>\n",
       "      <td>One year</td>\n",
       "      <td>Yes</td>\n",
       "      <td>Mailed check</td>\n",
       "      <td>19.70</td>\n",
       "      <td>NaN</td>\n",
       "      <td>Male</td>\n",
       "      <td>0</td>\n",
       "      <td>...</td>\n",
       "      <td>NaN</td>\n",
       "      <td>NaN</td>\n",
       "      <td>NaN</td>\n",
       "      <td>NaN</td>\n",
       "      <td>NaN</td>\n",
       "      <td>NaN</td>\n",
       "      <td>NaN</td>\n",
       "      <td>No</td>\n",
       "      <td>0</td>\n",
       "      <td>0</td>\n",
       "    </tr>\n",
       "    <tr>\n",
       "      <th>6670</th>\n",
       "      <td>4075-WKNIU</td>\n",
       "      <td>2020-02-01</td>\n",
       "      <td>2020-02-01</td>\n",
       "      <td>Two year</td>\n",
       "      <td>No</td>\n",
       "      <td>Mailed check</td>\n",
       "      <td>73.35</td>\n",
       "      <td>NaN</td>\n",
       "      <td>Female</td>\n",
       "      <td>0</td>\n",
       "      <td>...</td>\n",
       "      <td>DSL</td>\n",
       "      <td>No</td>\n",
       "      <td>Yes</td>\n",
       "      <td>Yes</td>\n",
       "      <td>Yes</td>\n",
       "      <td>Yes</td>\n",
       "      <td>No</td>\n",
       "      <td>Yes</td>\n",
       "      <td>0</td>\n",
       "      <td>0</td>\n",
       "    </tr>\n",
       "    <tr>\n",
       "      <th>6754</th>\n",
       "      <td>2775-SEFEE</td>\n",
       "      <td>2020-02-01</td>\n",
       "      <td>2020-02-01</td>\n",
       "      <td>Two year</td>\n",
       "      <td>Yes</td>\n",
       "      <td>Bank transfer (automatic)</td>\n",
       "      <td>61.90</td>\n",
       "      <td>NaN</td>\n",
       "      <td>Male</td>\n",
       "      <td>0</td>\n",
       "      <td>...</td>\n",
       "      <td>DSL</td>\n",
       "      <td>Yes</td>\n",
       "      <td>Yes</td>\n",
       "      <td>No</td>\n",
       "      <td>Yes</td>\n",
       "      <td>No</td>\n",
       "      <td>No</td>\n",
       "      <td>Yes</td>\n",
       "      <td>0</td>\n",
       "      <td>0</td>\n",
       "    </tr>\n",
       "  </tbody>\n",
       "</table>\n",
       "<p>11 rows × 22 columns</p>\n",
       "</div>"
      ],
      "text/plain": [
       "      customerID begin_date   end_date      type paperless_billing  \\\n",
       "488   4472-LVYGI 2020-02-01 2020-02-01  Two year               Yes   \n",
       "753   3115-CZMZD 2020-02-01 2020-02-01  Two year                No   \n",
       "936   5709-LVOEQ 2020-02-01 2020-02-01  Two year                No   \n",
       "1082  4367-NUYAO 2020-02-01 2020-02-01  Two year                No   \n",
       "1340  1371-DWPAZ 2020-02-01 2020-02-01  Two year                No   \n",
       "3331  7644-OMVMY 2020-02-01 2020-02-01  Two year                No   \n",
       "3826  3213-VVOLG 2020-02-01 2020-02-01  Two year                No   \n",
       "4380  2520-SGTTA 2020-02-01 2020-02-01  Two year                No   \n",
       "5218  2923-ARZLG 2020-02-01 2020-02-01  One year               Yes   \n",
       "6670  4075-WKNIU 2020-02-01 2020-02-01  Two year                No   \n",
       "6754  2775-SEFEE 2020-02-01 2020-02-01  Two year               Yes   \n",
       "\n",
       "                 payment_method  monthly_charges  total_charges  gender  \\\n",
       "488   Bank transfer (automatic)            52.55            NaN  Female   \n",
       "753                Mailed check            20.25            NaN    Male   \n",
       "936                Mailed check            80.85            NaN  Female   \n",
       "1082               Mailed check            25.75            NaN    Male   \n",
       "1340    Credit card (automatic)            56.05            NaN  Female   \n",
       "3331               Mailed check            19.85            NaN    Male   \n",
       "3826               Mailed check            25.35            NaN    Male   \n",
       "4380               Mailed check            20.00            NaN  Female   \n",
       "5218               Mailed check            19.70            NaN    Male   \n",
       "6670               Mailed check            73.35            NaN  Female   \n",
       "6754  Bank transfer (automatic)            61.90            NaN    Male   \n",
       "\n",
       "      senior_citizen  ... internet_service online_security online_backup  \\\n",
       "488                0  ...              DSL             Yes            No   \n",
       "753                0  ...              NaN             NaN           NaN   \n",
       "936                0  ...              DSL             Yes           Yes   \n",
       "1082               0  ...              NaN             NaN           NaN   \n",
       "1340               0  ...              DSL             Yes           Yes   \n",
       "3331               0  ...              NaN             NaN           NaN   \n",
       "3826               0  ...              NaN             NaN           NaN   \n",
       "4380               0  ...              NaN             NaN           NaN   \n",
       "5218               0  ...              NaN             NaN           NaN   \n",
       "6670               0  ...              DSL              No           Yes   \n",
       "6754               0  ...              DSL             Yes           Yes   \n",
       "\n",
       "     device_protection tech_support streaming_t_v streaming_movies  \\\n",
       "488                Yes          Yes           Yes               No   \n",
       "753                NaN          NaN           NaN              NaN   \n",
       "936                Yes           No           Yes              Yes   \n",
       "1082               NaN          NaN           NaN              NaN   \n",
       "1340               Yes          Yes           Yes               No   \n",
       "3331               NaN          NaN           NaN              NaN   \n",
       "3826               NaN          NaN           NaN              NaN   \n",
       "4380               NaN          NaN           NaN              NaN   \n",
       "5218               NaN          NaN           NaN              NaN   \n",
       "6670               Yes          Yes           Yes               No   \n",
       "6754                No          Yes            No               No   \n",
       "\n",
       "     multiple_lines loss total_date  \n",
       "488             NaN    0          0  \n",
       "753              No    0          0  \n",
       "936              No    0          0  \n",
       "1082            Yes    0          0  \n",
       "1340            NaN    0          0  \n",
       "3331             No    0          0  \n",
       "3826            Yes    0          0  \n",
       "4380             No    0          0  \n",
       "5218             No    0          0  \n",
       "6670            Yes    0          0  \n",
       "6754            Yes    0          0  \n",
       "\n",
       "[11 rows x 22 columns]"
      ]
     },
     "execution_count": 29,
     "metadata": {},
     "output_type": "execute_result"
    }
   ],
   "source": [
    "df_data[df_data['total_charges'].isnull()]"
   ]
  },
  {
   "cell_type": "markdown",
   "metadata": {
    "pycharm": {
     "name": "#%% md\n"
    }
   },
   "source": [
    "Заполним пропуски 0 т.к подключились в один день"
   ]
  },
  {
   "cell_type": "code",
   "execution_count": 30,
   "metadata": {
    "pycharm": {
     "name": "#%%\n"
    }
   },
   "outputs": [],
   "source": [
    "df_data['total_charges']=df_data['total_charges'].fillna(0)"
   ]
  },
  {
   "cell_type": "code",
   "execution_count": 31,
   "metadata": {
    "pycharm": {
     "name": "#%%\n"
    }
   },
   "outputs": [
    {
     "data": {
      "text/plain": [
       "customerID              0\n",
       "begin_date              0\n",
       "end_date                0\n",
       "type                    0\n",
       "paperless_billing       0\n",
       "payment_method          0\n",
       "monthly_charges         0\n",
       "total_charges           0\n",
       "gender                  0\n",
       "senior_citizen          0\n",
       "partner                 0\n",
       "dependents              0\n",
       "internet_service     1526\n",
       "online_security      1526\n",
       "online_backup        1526\n",
       "device_protection    1526\n",
       "tech_support         1526\n",
       "streaming_t_v        1526\n",
       "streaming_movies     1526\n",
       "multiple_lines        682\n",
       "loss                    0\n",
       "total_date              0\n",
       "dtype: int64"
      ]
     },
     "metadata": {},
     "output_type": "display_data"
    }
   ],
   "source": [
    "display(df_data.isna().sum()) # подсчёт пропусков"
   ]
  },
  {
   "cell_type": "markdown",
   "metadata": {
    "pycharm": {
     "name": "#%% md\n"
    }
   },
   "source": [
    "Установим customerID в качестве индекса"
   ]
  },
  {
   "cell_type": "code",
   "execution_count": 32,
   "metadata": {
    "pycharm": {
     "name": "#%%\n"
    }
   },
   "outputs": [],
   "source": [
    "df_data = df_data.set_index('customerID')"
   ]
  },
  {
   "cell_type": "code",
   "execution_count": 33,
   "metadata": {
    "pycharm": {
     "name": "#%%\n"
    },
    "scrolled": true
   },
   "outputs": [
    {
     "name": "stdout",
     "output_type": "stream",
     "text": [
      "<class 'pandas.core.frame.DataFrame'>\n",
      "Index: 7043 entries, 7590-VHVEG to 3186-AJIEK\n",
      "Data columns (total 21 columns):\n",
      " #   Column             Non-Null Count  Dtype         \n",
      "---  ------             --------------  -----         \n",
      " 0   begin_date         7043 non-null   datetime64[ns]\n",
      " 1   end_date           7043 non-null   datetime64[ns]\n",
      " 2   type               7043 non-null   object        \n",
      " 3   paperless_billing  7043 non-null   object        \n",
      " 4   payment_method     7043 non-null   object        \n",
      " 5   monthly_charges    7043 non-null   float64       \n",
      " 6   total_charges      7043 non-null   float64       \n",
      " 7   gender             7043 non-null   object        \n",
      " 8   senior_citizen     7043 non-null   int64         \n",
      " 9   partner            7043 non-null   object        \n",
      " 10  dependents         7043 non-null   object        \n",
      " 11  internet_service   5517 non-null   object        \n",
      " 12  online_security    5517 non-null   object        \n",
      " 13  online_backup      5517 non-null   object        \n",
      " 14  device_protection  5517 non-null   object        \n",
      " 15  tech_support       5517 non-null   object        \n",
      " 16  streaming_t_v      5517 non-null   object        \n",
      " 17  streaming_movies   5517 non-null   object        \n",
      " 18  multiple_lines     6361 non-null   object        \n",
      " 19  loss               7043 non-null   int32         \n",
      " 20  total_date         7043 non-null   int64         \n",
      "dtypes: datetime64[ns](2), float64(2), int32(1), int64(2), object(14)\n",
      "memory usage: 1.2+ MB\n"
     ]
    },
    {
     "data": {
      "text/plain": [
       "None"
      ]
     },
     "metadata": {},
     "output_type": "display_data"
    },
    {
     "data": {
      "text/html": [
       "<div>\n",
       "<style scoped>\n",
       "    .dataframe tbody tr th:only-of-type {\n",
       "        vertical-align: middle;\n",
       "    }\n",
       "\n",
       "    .dataframe tbody tr th {\n",
       "        vertical-align: top;\n",
       "    }\n",
       "\n",
       "    .dataframe thead th {\n",
       "        text-align: right;\n",
       "    }\n",
       "</style>\n",
       "<table border=\"1\" class=\"dataframe\">\n",
       "  <thead>\n",
       "    <tr style=\"text-align: right;\">\n",
       "      <th></th>\n",
       "      <th>begin_date</th>\n",
       "      <th>end_date</th>\n",
       "      <th>type</th>\n",
       "      <th>paperless_billing</th>\n",
       "      <th>payment_method</th>\n",
       "      <th>monthly_charges</th>\n",
       "      <th>total_charges</th>\n",
       "      <th>gender</th>\n",
       "      <th>senior_citizen</th>\n",
       "      <th>partner</th>\n",
       "      <th>...</th>\n",
       "      <th>internet_service</th>\n",
       "      <th>online_security</th>\n",
       "      <th>online_backup</th>\n",
       "      <th>device_protection</th>\n",
       "      <th>tech_support</th>\n",
       "      <th>streaming_t_v</th>\n",
       "      <th>streaming_movies</th>\n",
       "      <th>multiple_lines</th>\n",
       "      <th>loss</th>\n",
       "      <th>total_date</th>\n",
       "    </tr>\n",
       "    <tr>\n",
       "      <th>customerID</th>\n",
       "      <th></th>\n",
       "      <th></th>\n",
       "      <th></th>\n",
       "      <th></th>\n",
       "      <th></th>\n",
       "      <th></th>\n",
       "      <th></th>\n",
       "      <th></th>\n",
       "      <th></th>\n",
       "      <th></th>\n",
       "      <th></th>\n",
       "      <th></th>\n",
       "      <th></th>\n",
       "      <th></th>\n",
       "      <th></th>\n",
       "      <th></th>\n",
       "      <th></th>\n",
       "      <th></th>\n",
       "      <th></th>\n",
       "      <th></th>\n",
       "      <th></th>\n",
       "    </tr>\n",
       "  </thead>\n",
       "  <tbody>\n",
       "    <tr>\n",
       "      <th>7590-VHVEG</th>\n",
       "      <td>2020-01-01</td>\n",
       "      <td>2020-02-01</td>\n",
       "      <td>Month-to-month</td>\n",
       "      <td>Yes</td>\n",
       "      <td>Electronic check</td>\n",
       "      <td>29.85</td>\n",
       "      <td>29.85</td>\n",
       "      <td>Female</td>\n",
       "      <td>0</td>\n",
       "      <td>Yes</td>\n",
       "      <td>...</td>\n",
       "      <td>DSL</td>\n",
       "      <td>No</td>\n",
       "      <td>Yes</td>\n",
       "      <td>No</td>\n",
       "      <td>No</td>\n",
       "      <td>No</td>\n",
       "      <td>No</td>\n",
       "      <td>NaN</td>\n",
       "      <td>0</td>\n",
       "      <td>31</td>\n",
       "    </tr>\n",
       "    <tr>\n",
       "      <th>5575-GNVDE</th>\n",
       "      <td>2017-04-01</td>\n",
       "      <td>2020-02-01</td>\n",
       "      <td>One year</td>\n",
       "      <td>No</td>\n",
       "      <td>Mailed check</td>\n",
       "      <td>56.95</td>\n",
       "      <td>1889.50</td>\n",
       "      <td>Male</td>\n",
       "      <td>0</td>\n",
       "      <td>No</td>\n",
       "      <td>...</td>\n",
       "      <td>DSL</td>\n",
       "      <td>Yes</td>\n",
       "      <td>No</td>\n",
       "      <td>Yes</td>\n",
       "      <td>No</td>\n",
       "      <td>No</td>\n",
       "      <td>No</td>\n",
       "      <td>No</td>\n",
       "      <td>0</td>\n",
       "      <td>1036</td>\n",
       "    </tr>\n",
       "    <tr>\n",
       "      <th>3668-QPYBK</th>\n",
       "      <td>2019-10-01</td>\n",
       "      <td>2019-12-01</td>\n",
       "      <td>Month-to-month</td>\n",
       "      <td>Yes</td>\n",
       "      <td>Mailed check</td>\n",
       "      <td>53.85</td>\n",
       "      <td>108.15</td>\n",
       "      <td>Male</td>\n",
       "      <td>0</td>\n",
       "      <td>No</td>\n",
       "      <td>...</td>\n",
       "      <td>DSL</td>\n",
       "      <td>Yes</td>\n",
       "      <td>Yes</td>\n",
       "      <td>No</td>\n",
       "      <td>No</td>\n",
       "      <td>No</td>\n",
       "      <td>No</td>\n",
       "      <td>No</td>\n",
       "      <td>1</td>\n",
       "      <td>61</td>\n",
       "    </tr>\n",
       "    <tr>\n",
       "      <th>7795-CFOCW</th>\n",
       "      <td>2016-05-01</td>\n",
       "      <td>2020-02-01</td>\n",
       "      <td>One year</td>\n",
       "      <td>No</td>\n",
       "      <td>Bank transfer (automatic)</td>\n",
       "      <td>42.30</td>\n",
       "      <td>1840.75</td>\n",
       "      <td>Male</td>\n",
       "      <td>0</td>\n",
       "      <td>No</td>\n",
       "      <td>...</td>\n",
       "      <td>DSL</td>\n",
       "      <td>Yes</td>\n",
       "      <td>No</td>\n",
       "      <td>Yes</td>\n",
       "      <td>Yes</td>\n",
       "      <td>No</td>\n",
       "      <td>No</td>\n",
       "      <td>NaN</td>\n",
       "      <td>0</td>\n",
       "      <td>1371</td>\n",
       "    </tr>\n",
       "    <tr>\n",
       "      <th>9237-HQITU</th>\n",
       "      <td>2019-09-01</td>\n",
       "      <td>2019-11-01</td>\n",
       "      <td>Month-to-month</td>\n",
       "      <td>Yes</td>\n",
       "      <td>Electronic check</td>\n",
       "      <td>70.70</td>\n",
       "      <td>151.65</td>\n",
       "      <td>Female</td>\n",
       "      <td>0</td>\n",
       "      <td>No</td>\n",
       "      <td>...</td>\n",
       "      <td>Fiber optic</td>\n",
       "      <td>No</td>\n",
       "      <td>No</td>\n",
       "      <td>No</td>\n",
       "      <td>No</td>\n",
       "      <td>No</td>\n",
       "      <td>No</td>\n",
       "      <td>No</td>\n",
       "      <td>1</td>\n",
       "      <td>61</td>\n",
       "    </tr>\n",
       "    <tr>\n",
       "      <th>...</th>\n",
       "      <td>...</td>\n",
       "      <td>...</td>\n",
       "      <td>...</td>\n",
       "      <td>...</td>\n",
       "      <td>...</td>\n",
       "      <td>...</td>\n",
       "      <td>...</td>\n",
       "      <td>...</td>\n",
       "      <td>...</td>\n",
       "      <td>...</td>\n",
       "      <td>...</td>\n",
       "      <td>...</td>\n",
       "      <td>...</td>\n",
       "      <td>...</td>\n",
       "      <td>...</td>\n",
       "      <td>...</td>\n",
       "      <td>...</td>\n",
       "      <td>...</td>\n",
       "      <td>...</td>\n",
       "      <td>...</td>\n",
       "      <td>...</td>\n",
       "    </tr>\n",
       "    <tr>\n",
       "      <th>6840-RESVB</th>\n",
       "      <td>2018-02-01</td>\n",
       "      <td>2020-02-01</td>\n",
       "      <td>One year</td>\n",
       "      <td>Yes</td>\n",
       "      <td>Mailed check</td>\n",
       "      <td>84.80</td>\n",
       "      <td>1990.50</td>\n",
       "      <td>Male</td>\n",
       "      <td>0</td>\n",
       "      <td>Yes</td>\n",
       "      <td>...</td>\n",
       "      <td>DSL</td>\n",
       "      <td>Yes</td>\n",
       "      <td>No</td>\n",
       "      <td>Yes</td>\n",
       "      <td>Yes</td>\n",
       "      <td>Yes</td>\n",
       "      <td>Yes</td>\n",
       "      <td>Yes</td>\n",
       "      <td>0</td>\n",
       "      <td>730</td>\n",
       "    </tr>\n",
       "    <tr>\n",
       "      <th>2234-XADUH</th>\n",
       "      <td>2014-02-01</td>\n",
       "      <td>2020-02-01</td>\n",
       "      <td>One year</td>\n",
       "      <td>Yes</td>\n",
       "      <td>Credit card (automatic)</td>\n",
       "      <td>103.20</td>\n",
       "      <td>7362.90</td>\n",
       "      <td>Female</td>\n",
       "      <td>0</td>\n",
       "      <td>Yes</td>\n",
       "      <td>...</td>\n",
       "      <td>Fiber optic</td>\n",
       "      <td>No</td>\n",
       "      <td>Yes</td>\n",
       "      <td>Yes</td>\n",
       "      <td>No</td>\n",
       "      <td>Yes</td>\n",
       "      <td>Yes</td>\n",
       "      <td>Yes</td>\n",
       "      <td>0</td>\n",
       "      <td>2191</td>\n",
       "    </tr>\n",
       "    <tr>\n",
       "      <th>4801-JZAZL</th>\n",
       "      <td>2019-03-01</td>\n",
       "      <td>2020-02-01</td>\n",
       "      <td>Month-to-month</td>\n",
       "      <td>Yes</td>\n",
       "      <td>Electronic check</td>\n",
       "      <td>29.60</td>\n",
       "      <td>346.45</td>\n",
       "      <td>Female</td>\n",
       "      <td>0</td>\n",
       "      <td>Yes</td>\n",
       "      <td>...</td>\n",
       "      <td>DSL</td>\n",
       "      <td>Yes</td>\n",
       "      <td>No</td>\n",
       "      <td>No</td>\n",
       "      <td>No</td>\n",
       "      <td>No</td>\n",
       "      <td>No</td>\n",
       "      <td>NaN</td>\n",
       "      <td>0</td>\n",
       "      <td>337</td>\n",
       "    </tr>\n",
       "    <tr>\n",
       "      <th>8361-LTMKD</th>\n",
       "      <td>2019-07-01</td>\n",
       "      <td>2019-11-01</td>\n",
       "      <td>Month-to-month</td>\n",
       "      <td>Yes</td>\n",
       "      <td>Mailed check</td>\n",
       "      <td>74.40</td>\n",
       "      <td>306.60</td>\n",
       "      <td>Male</td>\n",
       "      <td>1</td>\n",
       "      <td>Yes</td>\n",
       "      <td>...</td>\n",
       "      <td>Fiber optic</td>\n",
       "      <td>No</td>\n",
       "      <td>No</td>\n",
       "      <td>No</td>\n",
       "      <td>No</td>\n",
       "      <td>No</td>\n",
       "      <td>No</td>\n",
       "      <td>Yes</td>\n",
       "      <td>1</td>\n",
       "      <td>123</td>\n",
       "    </tr>\n",
       "    <tr>\n",
       "      <th>3186-AJIEK</th>\n",
       "      <td>2014-08-01</td>\n",
       "      <td>2020-02-01</td>\n",
       "      <td>Two year</td>\n",
       "      <td>Yes</td>\n",
       "      <td>Bank transfer (automatic)</td>\n",
       "      <td>105.65</td>\n",
       "      <td>6844.50</td>\n",
       "      <td>Male</td>\n",
       "      <td>0</td>\n",
       "      <td>No</td>\n",
       "      <td>...</td>\n",
       "      <td>Fiber optic</td>\n",
       "      <td>Yes</td>\n",
       "      <td>No</td>\n",
       "      <td>Yes</td>\n",
       "      <td>Yes</td>\n",
       "      <td>Yes</td>\n",
       "      <td>Yes</td>\n",
       "      <td>No</td>\n",
       "      <td>0</td>\n",
       "      <td>2010</td>\n",
       "    </tr>\n",
       "  </tbody>\n",
       "</table>\n",
       "<p>7043 rows × 21 columns</p>\n",
       "</div>"
      ],
      "text/plain": [
       "           begin_date   end_date            type paperless_billing  \\\n",
       "customerID                                                           \n",
       "7590-VHVEG 2020-01-01 2020-02-01  Month-to-month               Yes   \n",
       "5575-GNVDE 2017-04-01 2020-02-01        One year                No   \n",
       "3668-QPYBK 2019-10-01 2019-12-01  Month-to-month               Yes   \n",
       "7795-CFOCW 2016-05-01 2020-02-01        One year                No   \n",
       "9237-HQITU 2019-09-01 2019-11-01  Month-to-month               Yes   \n",
       "...               ...        ...             ...               ...   \n",
       "6840-RESVB 2018-02-01 2020-02-01        One year               Yes   \n",
       "2234-XADUH 2014-02-01 2020-02-01        One year               Yes   \n",
       "4801-JZAZL 2019-03-01 2020-02-01  Month-to-month               Yes   \n",
       "8361-LTMKD 2019-07-01 2019-11-01  Month-to-month               Yes   \n",
       "3186-AJIEK 2014-08-01 2020-02-01        Two year               Yes   \n",
       "\n",
       "                       payment_method  monthly_charges  total_charges  gender  \\\n",
       "customerID                                                                      \n",
       "7590-VHVEG           Electronic check            29.85          29.85  Female   \n",
       "5575-GNVDE               Mailed check            56.95        1889.50    Male   \n",
       "3668-QPYBK               Mailed check            53.85         108.15    Male   \n",
       "7795-CFOCW  Bank transfer (automatic)            42.30        1840.75    Male   \n",
       "9237-HQITU           Electronic check            70.70         151.65  Female   \n",
       "...                               ...              ...            ...     ...   \n",
       "6840-RESVB               Mailed check            84.80        1990.50    Male   \n",
       "2234-XADUH    Credit card (automatic)           103.20        7362.90  Female   \n",
       "4801-JZAZL           Electronic check            29.60         346.45  Female   \n",
       "8361-LTMKD               Mailed check            74.40         306.60    Male   \n",
       "3186-AJIEK  Bank transfer (automatic)           105.65        6844.50    Male   \n",
       "\n",
       "            senior_citizen partner  ... internet_service online_security  \\\n",
       "customerID                          ...                                    \n",
       "7590-VHVEG               0     Yes  ...              DSL              No   \n",
       "5575-GNVDE               0      No  ...              DSL             Yes   \n",
       "3668-QPYBK               0      No  ...              DSL             Yes   \n",
       "7795-CFOCW               0      No  ...              DSL             Yes   \n",
       "9237-HQITU               0      No  ...      Fiber optic              No   \n",
       "...                    ...     ...  ...              ...             ...   \n",
       "6840-RESVB               0     Yes  ...              DSL             Yes   \n",
       "2234-XADUH               0     Yes  ...      Fiber optic              No   \n",
       "4801-JZAZL               0     Yes  ...              DSL             Yes   \n",
       "8361-LTMKD               1     Yes  ...      Fiber optic              No   \n",
       "3186-AJIEK               0      No  ...      Fiber optic             Yes   \n",
       "\n",
       "           online_backup device_protection tech_support streaming_t_v  \\\n",
       "customerID                                                              \n",
       "7590-VHVEG           Yes                No           No            No   \n",
       "5575-GNVDE            No               Yes           No            No   \n",
       "3668-QPYBK           Yes                No           No            No   \n",
       "7795-CFOCW            No               Yes          Yes            No   \n",
       "9237-HQITU            No                No           No            No   \n",
       "...                  ...               ...          ...           ...   \n",
       "6840-RESVB            No               Yes          Yes           Yes   \n",
       "2234-XADUH           Yes               Yes           No           Yes   \n",
       "4801-JZAZL            No                No           No            No   \n",
       "8361-LTMKD            No                No           No            No   \n",
       "3186-AJIEK            No               Yes          Yes           Yes   \n",
       "\n",
       "           streaming_movies multiple_lines loss  total_date  \n",
       "customerID                                                   \n",
       "7590-VHVEG               No            NaN    0          31  \n",
       "5575-GNVDE               No             No    0        1036  \n",
       "3668-QPYBK               No             No    1          61  \n",
       "7795-CFOCW               No            NaN    0        1371  \n",
       "9237-HQITU               No             No    1          61  \n",
       "...                     ...            ...  ...         ...  \n",
       "6840-RESVB              Yes            Yes    0         730  \n",
       "2234-XADUH              Yes            Yes    0        2191  \n",
       "4801-JZAZL               No            NaN    0         337  \n",
       "8361-LTMKD               No            Yes    1         123  \n",
       "3186-AJIEK              Yes             No    0        2010  \n",
       "\n",
       "[7043 rows x 21 columns]"
      ]
     },
     "execution_count": 33,
     "metadata": {},
     "output_type": "execute_result"
    }
   ],
   "source": [
    "info_df(df_data)"
   ]
  },
  {
   "cell_type": "markdown",
   "metadata": {
    "pycharm": {
     "name": "#%% md\n"
    }
   },
   "source": [
    "Пропуски в остальных категориальных столбцах скорее всего означают отсутсвие услуги, заменим на **No**"
   ]
  },
  {
   "cell_type": "code",
   "execution_count": 34,
   "metadata": {
    "pycharm": {
     "name": "#%%\n"
    }
   },
   "outputs": [],
   "source": [
    "data_columns=['internet_service','online_security',\n",
    "              'online_backup','device_protection',\n",
    "              'tech_support','streaming_t_v',\n",
    "              'streaming_movies','multiple_lines']"
   ]
  },
  {
   "cell_type": "code",
   "execution_count": 35,
   "metadata": {
    "pycharm": {
     "name": "#%%\n"
    }
   },
   "outputs": [],
   "source": [
    "for i in data_columns:\n",
    "    df_data[i]=df_data[i].fillna('No')\n",
    "    "
   ]
  },
  {
   "cell_type": "code",
   "execution_count": 36,
   "metadata": {
    "pycharm": {
     "name": "#%%\n"
    }
   },
   "outputs": [
    {
     "data": {
      "text/plain": [
       "begin_date           0\n",
       "end_date             0\n",
       "type                 0\n",
       "paperless_billing    0\n",
       "payment_method       0\n",
       "monthly_charges      0\n",
       "total_charges        0\n",
       "gender               0\n",
       "senior_citizen       0\n",
       "partner              0\n",
       "dependents           0\n",
       "internet_service     0\n",
       "online_security      0\n",
       "online_backup        0\n",
       "device_protection    0\n",
       "tech_support         0\n",
       "streaming_t_v        0\n",
       "streaming_movies     0\n",
       "multiple_lines       0\n",
       "loss                 0\n",
       "total_date           0\n",
       "dtype: int64"
      ]
     },
     "metadata": {},
     "output_type": "display_data"
    }
   ],
   "source": [
    "display(df_data.isna().sum()) # подсчёт пропусков"
   ]
  },
  {
   "cell_type": "code",
   "execution_count": 37,
   "metadata": {
    "pycharm": {
     "name": "#%%\n"
    },
    "scrolled": true
   },
   "outputs": [
    {
     "name": "stdout",
     "output_type": "stream",
     "text": [
      "<class 'pandas.core.frame.DataFrame'>\n",
      "Index: 7043 entries, 7590-VHVEG to 3186-AJIEK\n",
      "Data columns (total 21 columns):\n",
      " #   Column             Non-Null Count  Dtype         \n",
      "---  ------             --------------  -----         \n",
      " 0   begin_date         7043 non-null   datetime64[ns]\n",
      " 1   end_date           7043 non-null   datetime64[ns]\n",
      " 2   type               7043 non-null   object        \n",
      " 3   paperless_billing  7043 non-null   object        \n",
      " 4   payment_method     7043 non-null   object        \n",
      " 5   monthly_charges    7043 non-null   float64       \n",
      " 6   total_charges      7043 non-null   float64       \n",
      " 7   gender             7043 non-null   object        \n",
      " 8   senior_citizen     7043 non-null   int64         \n",
      " 9   partner            7043 non-null   object        \n",
      " 10  dependents         7043 non-null   object        \n",
      " 11  internet_service   7043 non-null   object        \n",
      " 12  online_security    7043 non-null   object        \n",
      " 13  online_backup      7043 non-null   object        \n",
      " 14  device_protection  7043 non-null   object        \n",
      " 15  tech_support       7043 non-null   object        \n",
      " 16  streaming_t_v      7043 non-null   object        \n",
      " 17  streaming_movies   7043 non-null   object        \n",
      " 18  multiple_lines     7043 non-null   object        \n",
      " 19  loss               7043 non-null   int32         \n",
      " 20  total_date         7043 non-null   int64         \n",
      "dtypes: datetime64[ns](2), float64(2), int32(1), int64(2), object(14)\n",
      "memory usage: 1.2+ MB\n"
     ]
    },
    {
     "data": {
      "text/plain": [
       "None"
      ]
     },
     "metadata": {},
     "output_type": "display_data"
    },
    {
     "data": {
      "text/html": [
       "<div>\n",
       "<style scoped>\n",
       "    .dataframe tbody tr th:only-of-type {\n",
       "        vertical-align: middle;\n",
       "    }\n",
       "\n",
       "    .dataframe tbody tr th {\n",
       "        vertical-align: top;\n",
       "    }\n",
       "\n",
       "    .dataframe thead th {\n",
       "        text-align: right;\n",
       "    }\n",
       "</style>\n",
       "<table border=\"1\" class=\"dataframe\">\n",
       "  <thead>\n",
       "    <tr style=\"text-align: right;\">\n",
       "      <th></th>\n",
       "      <th>begin_date</th>\n",
       "      <th>end_date</th>\n",
       "      <th>type</th>\n",
       "      <th>paperless_billing</th>\n",
       "      <th>payment_method</th>\n",
       "      <th>monthly_charges</th>\n",
       "      <th>total_charges</th>\n",
       "      <th>gender</th>\n",
       "      <th>senior_citizen</th>\n",
       "      <th>partner</th>\n",
       "      <th>...</th>\n",
       "      <th>internet_service</th>\n",
       "      <th>online_security</th>\n",
       "      <th>online_backup</th>\n",
       "      <th>device_protection</th>\n",
       "      <th>tech_support</th>\n",
       "      <th>streaming_t_v</th>\n",
       "      <th>streaming_movies</th>\n",
       "      <th>multiple_lines</th>\n",
       "      <th>loss</th>\n",
       "      <th>total_date</th>\n",
       "    </tr>\n",
       "    <tr>\n",
       "      <th>customerID</th>\n",
       "      <th></th>\n",
       "      <th></th>\n",
       "      <th></th>\n",
       "      <th></th>\n",
       "      <th></th>\n",
       "      <th></th>\n",
       "      <th></th>\n",
       "      <th></th>\n",
       "      <th></th>\n",
       "      <th></th>\n",
       "      <th></th>\n",
       "      <th></th>\n",
       "      <th></th>\n",
       "      <th></th>\n",
       "      <th></th>\n",
       "      <th></th>\n",
       "      <th></th>\n",
       "      <th></th>\n",
       "      <th></th>\n",
       "      <th></th>\n",
       "      <th></th>\n",
       "    </tr>\n",
       "  </thead>\n",
       "  <tbody>\n",
       "    <tr>\n",
       "      <th>7590-VHVEG</th>\n",
       "      <td>2020-01-01</td>\n",
       "      <td>2020-02-01</td>\n",
       "      <td>Month-to-month</td>\n",
       "      <td>Yes</td>\n",
       "      <td>Electronic check</td>\n",
       "      <td>29.85</td>\n",
       "      <td>29.85</td>\n",
       "      <td>Female</td>\n",
       "      <td>0</td>\n",
       "      <td>Yes</td>\n",
       "      <td>...</td>\n",
       "      <td>DSL</td>\n",
       "      <td>No</td>\n",
       "      <td>Yes</td>\n",
       "      <td>No</td>\n",
       "      <td>No</td>\n",
       "      <td>No</td>\n",
       "      <td>No</td>\n",
       "      <td>No</td>\n",
       "      <td>0</td>\n",
       "      <td>31</td>\n",
       "    </tr>\n",
       "    <tr>\n",
       "      <th>5575-GNVDE</th>\n",
       "      <td>2017-04-01</td>\n",
       "      <td>2020-02-01</td>\n",
       "      <td>One year</td>\n",
       "      <td>No</td>\n",
       "      <td>Mailed check</td>\n",
       "      <td>56.95</td>\n",
       "      <td>1889.50</td>\n",
       "      <td>Male</td>\n",
       "      <td>0</td>\n",
       "      <td>No</td>\n",
       "      <td>...</td>\n",
       "      <td>DSL</td>\n",
       "      <td>Yes</td>\n",
       "      <td>No</td>\n",
       "      <td>Yes</td>\n",
       "      <td>No</td>\n",
       "      <td>No</td>\n",
       "      <td>No</td>\n",
       "      <td>No</td>\n",
       "      <td>0</td>\n",
       "      <td>1036</td>\n",
       "    </tr>\n",
       "    <tr>\n",
       "      <th>3668-QPYBK</th>\n",
       "      <td>2019-10-01</td>\n",
       "      <td>2019-12-01</td>\n",
       "      <td>Month-to-month</td>\n",
       "      <td>Yes</td>\n",
       "      <td>Mailed check</td>\n",
       "      <td>53.85</td>\n",
       "      <td>108.15</td>\n",
       "      <td>Male</td>\n",
       "      <td>0</td>\n",
       "      <td>No</td>\n",
       "      <td>...</td>\n",
       "      <td>DSL</td>\n",
       "      <td>Yes</td>\n",
       "      <td>Yes</td>\n",
       "      <td>No</td>\n",
       "      <td>No</td>\n",
       "      <td>No</td>\n",
       "      <td>No</td>\n",
       "      <td>No</td>\n",
       "      <td>1</td>\n",
       "      <td>61</td>\n",
       "    </tr>\n",
       "    <tr>\n",
       "      <th>7795-CFOCW</th>\n",
       "      <td>2016-05-01</td>\n",
       "      <td>2020-02-01</td>\n",
       "      <td>One year</td>\n",
       "      <td>No</td>\n",
       "      <td>Bank transfer (automatic)</td>\n",
       "      <td>42.30</td>\n",
       "      <td>1840.75</td>\n",
       "      <td>Male</td>\n",
       "      <td>0</td>\n",
       "      <td>No</td>\n",
       "      <td>...</td>\n",
       "      <td>DSL</td>\n",
       "      <td>Yes</td>\n",
       "      <td>No</td>\n",
       "      <td>Yes</td>\n",
       "      <td>Yes</td>\n",
       "      <td>No</td>\n",
       "      <td>No</td>\n",
       "      <td>No</td>\n",
       "      <td>0</td>\n",
       "      <td>1371</td>\n",
       "    </tr>\n",
       "    <tr>\n",
       "      <th>9237-HQITU</th>\n",
       "      <td>2019-09-01</td>\n",
       "      <td>2019-11-01</td>\n",
       "      <td>Month-to-month</td>\n",
       "      <td>Yes</td>\n",
       "      <td>Electronic check</td>\n",
       "      <td>70.70</td>\n",
       "      <td>151.65</td>\n",
       "      <td>Female</td>\n",
       "      <td>0</td>\n",
       "      <td>No</td>\n",
       "      <td>...</td>\n",
       "      <td>Fiber optic</td>\n",
       "      <td>No</td>\n",
       "      <td>No</td>\n",
       "      <td>No</td>\n",
       "      <td>No</td>\n",
       "      <td>No</td>\n",
       "      <td>No</td>\n",
       "      <td>No</td>\n",
       "      <td>1</td>\n",
       "      <td>61</td>\n",
       "    </tr>\n",
       "    <tr>\n",
       "      <th>...</th>\n",
       "      <td>...</td>\n",
       "      <td>...</td>\n",
       "      <td>...</td>\n",
       "      <td>...</td>\n",
       "      <td>...</td>\n",
       "      <td>...</td>\n",
       "      <td>...</td>\n",
       "      <td>...</td>\n",
       "      <td>...</td>\n",
       "      <td>...</td>\n",
       "      <td>...</td>\n",
       "      <td>...</td>\n",
       "      <td>...</td>\n",
       "      <td>...</td>\n",
       "      <td>...</td>\n",
       "      <td>...</td>\n",
       "      <td>...</td>\n",
       "      <td>...</td>\n",
       "      <td>...</td>\n",
       "      <td>...</td>\n",
       "      <td>...</td>\n",
       "    </tr>\n",
       "    <tr>\n",
       "      <th>6840-RESVB</th>\n",
       "      <td>2018-02-01</td>\n",
       "      <td>2020-02-01</td>\n",
       "      <td>One year</td>\n",
       "      <td>Yes</td>\n",
       "      <td>Mailed check</td>\n",
       "      <td>84.80</td>\n",
       "      <td>1990.50</td>\n",
       "      <td>Male</td>\n",
       "      <td>0</td>\n",
       "      <td>Yes</td>\n",
       "      <td>...</td>\n",
       "      <td>DSL</td>\n",
       "      <td>Yes</td>\n",
       "      <td>No</td>\n",
       "      <td>Yes</td>\n",
       "      <td>Yes</td>\n",
       "      <td>Yes</td>\n",
       "      <td>Yes</td>\n",
       "      <td>Yes</td>\n",
       "      <td>0</td>\n",
       "      <td>730</td>\n",
       "    </tr>\n",
       "    <tr>\n",
       "      <th>2234-XADUH</th>\n",
       "      <td>2014-02-01</td>\n",
       "      <td>2020-02-01</td>\n",
       "      <td>One year</td>\n",
       "      <td>Yes</td>\n",
       "      <td>Credit card (automatic)</td>\n",
       "      <td>103.20</td>\n",
       "      <td>7362.90</td>\n",
       "      <td>Female</td>\n",
       "      <td>0</td>\n",
       "      <td>Yes</td>\n",
       "      <td>...</td>\n",
       "      <td>Fiber optic</td>\n",
       "      <td>No</td>\n",
       "      <td>Yes</td>\n",
       "      <td>Yes</td>\n",
       "      <td>No</td>\n",
       "      <td>Yes</td>\n",
       "      <td>Yes</td>\n",
       "      <td>Yes</td>\n",
       "      <td>0</td>\n",
       "      <td>2191</td>\n",
       "    </tr>\n",
       "    <tr>\n",
       "      <th>4801-JZAZL</th>\n",
       "      <td>2019-03-01</td>\n",
       "      <td>2020-02-01</td>\n",
       "      <td>Month-to-month</td>\n",
       "      <td>Yes</td>\n",
       "      <td>Electronic check</td>\n",
       "      <td>29.60</td>\n",
       "      <td>346.45</td>\n",
       "      <td>Female</td>\n",
       "      <td>0</td>\n",
       "      <td>Yes</td>\n",
       "      <td>...</td>\n",
       "      <td>DSL</td>\n",
       "      <td>Yes</td>\n",
       "      <td>No</td>\n",
       "      <td>No</td>\n",
       "      <td>No</td>\n",
       "      <td>No</td>\n",
       "      <td>No</td>\n",
       "      <td>No</td>\n",
       "      <td>0</td>\n",
       "      <td>337</td>\n",
       "    </tr>\n",
       "    <tr>\n",
       "      <th>8361-LTMKD</th>\n",
       "      <td>2019-07-01</td>\n",
       "      <td>2019-11-01</td>\n",
       "      <td>Month-to-month</td>\n",
       "      <td>Yes</td>\n",
       "      <td>Mailed check</td>\n",
       "      <td>74.40</td>\n",
       "      <td>306.60</td>\n",
       "      <td>Male</td>\n",
       "      <td>1</td>\n",
       "      <td>Yes</td>\n",
       "      <td>...</td>\n",
       "      <td>Fiber optic</td>\n",
       "      <td>No</td>\n",
       "      <td>No</td>\n",
       "      <td>No</td>\n",
       "      <td>No</td>\n",
       "      <td>No</td>\n",
       "      <td>No</td>\n",
       "      <td>Yes</td>\n",
       "      <td>1</td>\n",
       "      <td>123</td>\n",
       "    </tr>\n",
       "    <tr>\n",
       "      <th>3186-AJIEK</th>\n",
       "      <td>2014-08-01</td>\n",
       "      <td>2020-02-01</td>\n",
       "      <td>Two year</td>\n",
       "      <td>Yes</td>\n",
       "      <td>Bank transfer (automatic)</td>\n",
       "      <td>105.65</td>\n",
       "      <td>6844.50</td>\n",
       "      <td>Male</td>\n",
       "      <td>0</td>\n",
       "      <td>No</td>\n",
       "      <td>...</td>\n",
       "      <td>Fiber optic</td>\n",
       "      <td>Yes</td>\n",
       "      <td>No</td>\n",
       "      <td>Yes</td>\n",
       "      <td>Yes</td>\n",
       "      <td>Yes</td>\n",
       "      <td>Yes</td>\n",
       "      <td>No</td>\n",
       "      <td>0</td>\n",
       "      <td>2010</td>\n",
       "    </tr>\n",
       "  </tbody>\n",
       "</table>\n",
       "<p>7043 rows × 21 columns</p>\n",
       "</div>"
      ],
      "text/plain": [
       "           begin_date   end_date            type paperless_billing  \\\n",
       "customerID                                                           \n",
       "7590-VHVEG 2020-01-01 2020-02-01  Month-to-month               Yes   \n",
       "5575-GNVDE 2017-04-01 2020-02-01        One year                No   \n",
       "3668-QPYBK 2019-10-01 2019-12-01  Month-to-month               Yes   \n",
       "7795-CFOCW 2016-05-01 2020-02-01        One year                No   \n",
       "9237-HQITU 2019-09-01 2019-11-01  Month-to-month               Yes   \n",
       "...               ...        ...             ...               ...   \n",
       "6840-RESVB 2018-02-01 2020-02-01        One year               Yes   \n",
       "2234-XADUH 2014-02-01 2020-02-01        One year               Yes   \n",
       "4801-JZAZL 2019-03-01 2020-02-01  Month-to-month               Yes   \n",
       "8361-LTMKD 2019-07-01 2019-11-01  Month-to-month               Yes   \n",
       "3186-AJIEK 2014-08-01 2020-02-01        Two year               Yes   \n",
       "\n",
       "                       payment_method  monthly_charges  total_charges  gender  \\\n",
       "customerID                                                                      \n",
       "7590-VHVEG           Electronic check            29.85          29.85  Female   \n",
       "5575-GNVDE               Mailed check            56.95        1889.50    Male   \n",
       "3668-QPYBK               Mailed check            53.85         108.15    Male   \n",
       "7795-CFOCW  Bank transfer (automatic)            42.30        1840.75    Male   \n",
       "9237-HQITU           Electronic check            70.70         151.65  Female   \n",
       "...                               ...              ...            ...     ...   \n",
       "6840-RESVB               Mailed check            84.80        1990.50    Male   \n",
       "2234-XADUH    Credit card (automatic)           103.20        7362.90  Female   \n",
       "4801-JZAZL           Electronic check            29.60         346.45  Female   \n",
       "8361-LTMKD               Mailed check            74.40         306.60    Male   \n",
       "3186-AJIEK  Bank transfer (automatic)           105.65        6844.50    Male   \n",
       "\n",
       "            senior_citizen partner  ... internet_service online_security  \\\n",
       "customerID                          ...                                    \n",
       "7590-VHVEG               0     Yes  ...              DSL              No   \n",
       "5575-GNVDE               0      No  ...              DSL             Yes   \n",
       "3668-QPYBK               0      No  ...              DSL             Yes   \n",
       "7795-CFOCW               0      No  ...              DSL             Yes   \n",
       "9237-HQITU               0      No  ...      Fiber optic              No   \n",
       "...                    ...     ...  ...              ...             ...   \n",
       "6840-RESVB               0     Yes  ...              DSL             Yes   \n",
       "2234-XADUH               0     Yes  ...      Fiber optic              No   \n",
       "4801-JZAZL               0     Yes  ...              DSL             Yes   \n",
       "8361-LTMKD               1     Yes  ...      Fiber optic              No   \n",
       "3186-AJIEK               0      No  ...      Fiber optic             Yes   \n",
       "\n",
       "           online_backup device_protection tech_support streaming_t_v  \\\n",
       "customerID                                                              \n",
       "7590-VHVEG           Yes                No           No            No   \n",
       "5575-GNVDE            No               Yes           No            No   \n",
       "3668-QPYBK           Yes                No           No            No   \n",
       "7795-CFOCW            No               Yes          Yes            No   \n",
       "9237-HQITU            No                No           No            No   \n",
       "...                  ...               ...          ...           ...   \n",
       "6840-RESVB            No               Yes          Yes           Yes   \n",
       "2234-XADUH           Yes               Yes           No           Yes   \n",
       "4801-JZAZL            No                No           No            No   \n",
       "8361-LTMKD            No                No           No            No   \n",
       "3186-AJIEK            No               Yes          Yes           Yes   \n",
       "\n",
       "           streaming_movies multiple_lines loss  total_date  \n",
       "customerID                                                   \n",
       "7590-VHVEG               No             No    0          31  \n",
       "5575-GNVDE               No             No    0        1036  \n",
       "3668-QPYBK               No             No    1          61  \n",
       "7795-CFOCW               No             No    0        1371  \n",
       "9237-HQITU               No             No    1          61  \n",
       "...                     ...            ...  ...         ...  \n",
       "6840-RESVB              Yes            Yes    0         730  \n",
       "2234-XADUH              Yes            Yes    0        2191  \n",
       "4801-JZAZL               No             No    0         337  \n",
       "8361-LTMKD               No            Yes    1         123  \n",
       "3186-AJIEK              Yes             No    0        2010  \n",
       "\n",
       "[7043 rows x 21 columns]"
      ]
     },
     "execution_count": 37,
     "metadata": {},
     "output_type": "execute_result"
    }
   ],
   "source": [
    "info_df(df_data)"
   ]
  },
  {
   "cell_type": "markdown",
   "metadata": {
    "pycharm": {
     "name": "#%% md\n"
    }
   },
   "source": [
    "### Вывод"
   ]
  },
  {
   "cell_type": "markdown",
   "metadata": {
    "pycharm": {
     "name": "#%% md\n"
    }
   },
   "source": [
    "1. Добавили целевой признак loss, который означает отказался клиент от услуг или нет. Если значение в столбце end_date равно \"No\", то значит клиент не ушел и целевой признак равен 0. Если дата ухода есть, то целевой признак равен 1.\n",
    "2. Перевели end_date и begin_date в формат даты \n",
    "3. Заполнили пропуски 0 в столбце 'total_charges' т.к подключились в один день\n",
    "4. Пропуски в остальных категориальных столбцах скорее всего означают отсутсвие услуги, заменили на No\n",
    "5. Установили customerID в качестве индекса\n",
    "6. После предварительных расчетов добавили столбец с временем пользования услугами организации т.к. это важный параметр для точности расчета"
   ]
  },
  {
   "cell_type": "markdown",
   "metadata": {
    "pycharm": {
     "name": "#%% md\n"
    }
   },
   "source": [
    "## Предварительные расчеты"
   ]
  },
  {
   "cell_type": "markdown",
   "metadata": {
    "pycharm": {
     "name": "#%% md\n"
    }
   },
   "source": [
    "Предварительные расчеты показали, \n",
    "1. Применение в обучении моделей времени начала и конца договора отрицательно сказывается на модель,  метрика ROC-AUC score 0.9999999999999999\n",
    "2. Удаление столбцов как и предполагалась изначально приводит к максимальному росту метрики в диапазоне от 0,77 до 0,846 в зависимости от модели\n",
    "3. Использование различных видов кодирования не меняет в принципе изменение метрики, она так и находится от 0,77 до 0,846 в зависимости от модели\n",
    "4. Использование масштабирования и балансировка классов не дает существенного прироста в метрике\n",
    "5. Учитывая, что мы удаляем столбцы со временем начала и конца договоров, а время пользования услугами существенно для организации введем метрику связанную с разностью начала и конца договора, например месяц или количество дней т.к. минимальное количество пользования услугами месяц."
   ]
  },
  {
   "cell_type": "markdown",
   "metadata": {
    "pycharm": {
     "name": "#%% md\n"
    }
   },
   "source": [
    "## Анализ данных"
   ]
  },
  {
   "cell_type": "markdown",
   "metadata": {
    "pycharm": {
     "name": "#%% md\n"
    }
   },
   "source": [
    "### Категориальные данные"
   ]
  },
  {
   "cell_type": "code",
   "execution_count": 38,
   "metadata": {
    "pycharm": {
     "name": "#%%\n"
    }
   },
   "outputs": [
    {
     "data": {
      "text/plain": [
       "14"
      ]
     },
     "metadata": {},
     "output_type": "display_data"
    },
    {
     "data": {
      "image/png": "[encoded data removed]",
      "text/plain": [
       "<Figure size 1440x2520 with 14 Axes>"
      ]
     },
     "metadata": {
      "needs_background": "light"
     },
     "output_type": "display_data"
    }
   ],
   "source": [
    "category_columns=data_columns+['type','paperless_billing','payment_method','gender','partner','dependents']\n",
    "display(len(category_columns))\n",
    "cols = 2\n",
    "rows = int((len(category_columns) / cols))\n",
    "j=1\n",
    "plt.figure(figsize=(20, 35))\n",
    "\n",
    "for i in category_columns:\n",
    "    ax = plt.subplot(rows, cols,j)\n",
    "    df_data[i].value_counts().plot(kind='bar',rot=0,grid=True, title=i, ax=ax)\n",
    "    j+=1\n",
    "    \n",
    "plt.show()\n"
   ]
  },
  {
   "cell_type": "markdown",
   "metadata": {
    "pycharm": {
     "name": "#%% md\n"
    }
   },
   "source": [
    "### Вывод"
   ]
  },
  {
   "cell_type": "markdown",
   "metadata": {
    "pycharm": {
     "name": "#%% md\n"
    }
   },
   "source": [
    "1. Самый популярный способ оплаты - помесячный\n",
    "2. Люди чаще предпочитают получать счета в электронном виде и оплачивать их при помощи электронного чека\n",
    "3. Самый частый способ подключения - оптоволокно\n",
    "4. Дополнительные услуги не пользуются популярностью у пользователей\n",
    "5. У пользователей в основном нет иждивенцев\n",
    "\n"
   ]
  },
  {
   "cell_type": "markdown",
   "metadata": {
    "pycharm": {
     "name": "#%% md\n"
    }
   },
   "source": [
    "### Числовые данные"
   ]
  },
  {
   "cell_type": "code",
   "execution_count": 39,
   "metadata": {
    "pycharm": {
     "name": "#%%\n"
    }
   },
   "outputs": [
    {
     "data": {
      "image/png": "[encoded data removed]",
      "text/plain": [
       "<Figure size 432x288 with 1 Axes>"
      ]
     },
     "metadata": {
      "needs_background": "light"
     },
     "output_type": "display_data"
    },
    {
     "data": {
      "text/plain": [
       "count    7043.000000\n",
       "mean       64.761692\n",
       "std        30.090047\n",
       "min        18.250000\n",
       "25%        35.500000\n",
       "50%        70.350000\n",
       "75%        89.850000\n",
       "max       118.750000\n",
       "Name: monthly_charges, dtype: float64"
      ]
     },
     "metadata": {},
     "output_type": "display_data"
    },
    {
     "data": {
      "image/png": "[encoded data removed]",
      "text/plain": [
       "<Figure size 432x288 with 1 Axes>"
      ]
     },
     "metadata": {
      "needs_background": "light"
     },
     "output_type": "display_data"
    },
    {
     "data": {
      "text/plain": [
       "count    7043.000000\n",
       "mean     2279.734304\n",
       "std      2266.794470\n",
       "min         0.000000\n",
       "25%       398.550000\n",
       "50%      1394.550000\n",
       "75%      3786.600000\n",
       "max      8684.800000\n",
       "Name: total_charges, dtype: float64"
      ]
     },
     "metadata": {},
     "output_type": "display_data"
    },
    {
     "data": {
      "image/png": "[encoded data removed]",
      "text/plain": [
       "<Figure size 432x288 with 1 Axes>"
      ]
     },
     "metadata": {
      "needs_background": "light"
     },
     "output_type": "display_data"
    },
    {
     "data": {
      "text/plain": [
       "count    7043.000000\n",
       "mean      985.996166\n",
       "std       747.587844\n",
       "min         0.000000\n",
       "25%       273.000000\n",
       "50%       883.000000\n",
       "75%      1676.000000\n",
       "max      2191.000000\n",
       "Name: total_date, dtype: float64"
      ]
     },
     "metadata": {},
     "output_type": "display_data"
    }
   ],
   "source": [
    "numeric_columns=['monthly_charges','total_charges','total_date']\n",
    "for i in numeric_columns:\n",
    "    df_data[i].hist(bins=20)\n",
    "    plt.title(i)\n",
    "    plt.show()\n",
    "    display(df_data[i].describe())\n"
   ]
  },
  {
   "cell_type": "code",
   "execution_count": null,
   "metadata": {
    "pycharm": {
     "name": "#%%\n"
    }
   },
   "outputs": [],
   "source": []
  },
  {
   "cell_type": "markdown",
   "metadata": {
    "pycharm": {
     "name": "#%% md\n"
    }
   },
   "source": [
    " ### Корреляция числовых данных"
   ]
  },
  {
   "cell_type": "code",
   "execution_count": 40,
   "metadata": {
    "pycharm": {
     "name": "#%%\n"
    },
    "scrolled": true
   },
   "outputs": [
    {
     "data": {
      "text/html": [
       "<div>\n",
       "<style scoped>\n",
       "    .dataframe tbody tr th:only-of-type {\n",
       "        vertical-align: middle;\n",
       "    }\n",
       "\n",
       "    .dataframe tbody tr th {\n",
       "        vertical-align: top;\n",
       "    }\n",
       "\n",
       "    .dataframe thead th {\n",
       "        text-align: right;\n",
       "    }\n",
       "</style>\n",
       "<table border=\"1\" class=\"dataframe\">\n",
       "  <thead>\n",
       "    <tr style=\"text-align: right;\">\n",
       "      <th></th>\n",
       "      <th>monthly_charges</th>\n",
       "      <th>total_charges</th>\n",
       "      <th>total_date</th>\n",
       "    </tr>\n",
       "  </thead>\n",
       "  <tbody>\n",
       "    <tr>\n",
       "      <th>monthly_charges</th>\n",
       "      <td>1.000000</td>\n",
       "      <td>0.651174</td>\n",
       "      <td>0.247754</td>\n",
       "    </tr>\n",
       "    <tr>\n",
       "      <th>total_charges</th>\n",
       "      <td>0.651174</td>\n",
       "      <td>1.000000</td>\n",
       "      <td>0.826109</td>\n",
       "    </tr>\n",
       "    <tr>\n",
       "      <th>total_date</th>\n",
       "      <td>0.247754</td>\n",
       "      <td>0.826109</td>\n",
       "      <td>1.000000</td>\n",
       "    </tr>\n",
       "  </tbody>\n",
       "</table>\n",
       "</div>"
      ],
      "text/plain": [
       "                 monthly_charges  total_charges  total_date\n",
       "monthly_charges         1.000000       0.651174    0.247754\n",
       "total_charges           0.651174       1.000000    0.826109\n",
       "total_date              0.247754       0.826109    1.000000"
      ]
     },
     "execution_count": 40,
     "metadata": {},
     "output_type": "execute_result"
    }
   ],
   "source": [
    "df_data[numeric_columns].corr()"
   ]
  },
  {
   "cell_type": "markdown",
   "metadata": {
    "pycharm": {
     "name": "#%% md\n"
    }
   },
   "source": [
    "так как корреляция между столбцами `total_charges` и `total_date` больше 0.82 один из столбцов можно удалить. Удалим `total_charges`"
   ]
  },
  {
   "cell_type": "code",
   "execution_count": 41,
   "metadata": {
    "pycharm": {
     "name": "#%%\n"
    }
   },
   "outputs": [
    {
     "data": {
      "text/plain": [
       "['monthly_charges', 'total_charges', 'total_date']"
      ]
     },
     "execution_count": 41,
     "metadata": {},
     "output_type": "execute_result"
    }
   ],
   "source": [
    "numeric_columns"
   ]
  },
  {
   "cell_type": "code",
   "execution_count": null,
   "metadata": {
    "pycharm": {
     "name": "#%%\n"
    }
   },
   "outputs": [],
   "source": []
  },
  {
   "cell_type": "code",
   "execution_count": 42,
   "metadata": {
    "pycharm": {
     "name": "#%%\n"
    }
   },
   "outputs": [],
   "source": [
    "del df_data['total_charges']\n",
    "numeric_columns.remove('total_charges')"
   ]
  },
  {
   "cell_type": "markdown",
   "metadata": {
    "pycharm": {
     "name": "#%% md\n"
    }
   },
   "source": [
    "### Вывод"
   ]
  },
  {
   "cell_type": "markdown",
   "metadata": {
    "pycharm": {
     "name": "#%% md\n"
    }
   },
   "source": [
    "1. Значения в столбце total_charges убывают, в то же время в столбце mnthly_charges виден пик в райне 85 - это значит, что пользователи, которые платят за тариф много на долго не остаются\n",
    "2. Также у monthly_charges виден пик в районе 20, что является минимальным значением\n",
    "3. Аномальных выбросов не видно\n",
    "4. На графике total_date есть два пика. Первый пользователи которые пользовались услугами малое количество времени, и второй- большое количество времени\n",
    "5. Найдена корреляция между столбцами `total_charges` и `total_date` которая составляет больше 0.82 один из столбцов можно удалить. Удалим `total_charges`\n"
   ]
  },
  {
   "cell_type": "markdown",
   "metadata": {
    "pycharm": {
     "name": "#%% md\n"
    }
   },
   "source": [
    "## Подготовка данных для моделей"
   ]
  },
  {
   "cell_type": "markdown",
   "metadata": {
    "pycharm": {
     "name": "#%% md\n"
    }
   },
   "source": [
    "Удалим ненужные для обучения столбцы связанные с временем т.к не работаем с числовым рядом, а также столбцы со временем начала и конца договора отрицательно сказываются на обучении моделей"
   ]
  },
  {
   "cell_type": "code",
   "execution_count": 43,
   "metadata": {
    "pycharm": {
     "name": "#%%\n"
    }
   },
   "outputs": [],
   "source": [
    "df_data_model=df_data.copy()"
   ]
  },
  {
   "cell_type": "code",
   "execution_count": 44,
   "metadata": {
    "pycharm": {
     "name": "#%%\n"
    }
   },
   "outputs": [],
   "source": [
    " del df_data_model['begin_date'], df_data_model['end_date']"
   ]
  },
  {
   "cell_type": "code",
   "execution_count": 45,
   "metadata": {
    "pycharm": {
     "name": "#%%\n"
    },
    "scrolled": true
   },
   "outputs": [
    {
     "data": {
      "text/html": [
       "<div>\n",
       "<style scoped>\n",
       "    .dataframe tbody tr th:only-of-type {\n",
       "        vertical-align: middle;\n",
       "    }\n",
       "\n",
       "    .dataframe tbody tr th {\n",
       "        vertical-align: top;\n",
       "    }\n",
       "\n",
       "    .dataframe thead th {\n",
       "        text-align: right;\n",
       "    }\n",
       "</style>\n",
       "<table border=\"1\" class=\"dataframe\">\n",
       "  <thead>\n",
       "    <tr style=\"text-align: right;\">\n",
       "      <th></th>\n",
       "      <th>type</th>\n",
       "      <th>paperless_billing</th>\n",
       "      <th>payment_method</th>\n",
       "      <th>monthly_charges</th>\n",
       "      <th>gender</th>\n",
       "      <th>senior_citizen</th>\n",
       "      <th>partner</th>\n",
       "      <th>dependents</th>\n",
       "      <th>internet_service</th>\n",
       "      <th>online_security</th>\n",
       "      <th>online_backup</th>\n",
       "      <th>device_protection</th>\n",
       "      <th>tech_support</th>\n",
       "      <th>streaming_t_v</th>\n",
       "      <th>streaming_movies</th>\n",
       "      <th>multiple_lines</th>\n",
       "      <th>loss</th>\n",
       "      <th>total_date</th>\n",
       "    </tr>\n",
       "    <tr>\n",
       "      <th>customerID</th>\n",
       "      <th></th>\n",
       "      <th></th>\n",
       "      <th></th>\n",
       "      <th></th>\n",
       "      <th></th>\n",
       "      <th></th>\n",
       "      <th></th>\n",
       "      <th></th>\n",
       "      <th></th>\n",
       "      <th></th>\n",
       "      <th></th>\n",
       "      <th></th>\n",
       "      <th></th>\n",
       "      <th></th>\n",
       "      <th></th>\n",
       "      <th></th>\n",
       "      <th></th>\n",
       "      <th></th>\n",
       "    </tr>\n",
       "  </thead>\n",
       "  <tbody>\n",
       "    <tr>\n",
       "      <th>7590-VHVEG</th>\n",
       "      <td>Month-to-month</td>\n",
       "      <td>Yes</td>\n",
       "      <td>Electronic check</td>\n",
       "      <td>29.85</td>\n",
       "      <td>Female</td>\n",
       "      <td>0</td>\n",
       "      <td>Yes</td>\n",
       "      <td>No</td>\n",
       "      <td>DSL</td>\n",
       "      <td>No</td>\n",
       "      <td>Yes</td>\n",
       "      <td>No</td>\n",
       "      <td>No</td>\n",
       "      <td>No</td>\n",
       "      <td>No</td>\n",
       "      <td>No</td>\n",
       "      <td>0</td>\n",
       "      <td>31</td>\n",
       "    </tr>\n",
       "    <tr>\n",
       "      <th>5575-GNVDE</th>\n",
       "      <td>One year</td>\n",
       "      <td>No</td>\n",
       "      <td>Mailed check</td>\n",
       "      <td>56.95</td>\n",
       "      <td>Male</td>\n",
       "      <td>0</td>\n",
       "      <td>No</td>\n",
       "      <td>No</td>\n",
       "      <td>DSL</td>\n",
       "      <td>Yes</td>\n",
       "      <td>No</td>\n",
       "      <td>Yes</td>\n",
       "      <td>No</td>\n",
       "      <td>No</td>\n",
       "      <td>No</td>\n",
       "      <td>No</td>\n",
       "      <td>0</td>\n",
       "      <td>1036</td>\n",
       "    </tr>\n",
       "    <tr>\n",
       "      <th>3668-QPYBK</th>\n",
       "      <td>Month-to-month</td>\n",
       "      <td>Yes</td>\n",
       "      <td>Mailed check</td>\n",
       "      <td>53.85</td>\n",
       "      <td>Male</td>\n",
       "      <td>0</td>\n",
       "      <td>No</td>\n",
       "      <td>No</td>\n",
       "      <td>DSL</td>\n",
       "      <td>Yes</td>\n",
       "      <td>Yes</td>\n",
       "      <td>No</td>\n",
       "      <td>No</td>\n",
       "      <td>No</td>\n",
       "      <td>No</td>\n",
       "      <td>No</td>\n",
       "      <td>1</td>\n",
       "      <td>61</td>\n",
       "    </tr>\n",
       "    <tr>\n",
       "      <th>7795-CFOCW</th>\n",
       "      <td>One year</td>\n",
       "      <td>No</td>\n",
       "      <td>Bank transfer (automatic)</td>\n",
       "      <td>42.30</td>\n",
       "      <td>Male</td>\n",
       "      <td>0</td>\n",
       "      <td>No</td>\n",
       "      <td>No</td>\n",
       "      <td>DSL</td>\n",
       "      <td>Yes</td>\n",
       "      <td>No</td>\n",
       "      <td>Yes</td>\n",
       "      <td>Yes</td>\n",
       "      <td>No</td>\n",
       "      <td>No</td>\n",
       "      <td>No</td>\n",
       "      <td>0</td>\n",
       "      <td>1371</td>\n",
       "    </tr>\n",
       "    <tr>\n",
       "      <th>9237-HQITU</th>\n",
       "      <td>Month-to-month</td>\n",
       "      <td>Yes</td>\n",
       "      <td>Electronic check</td>\n",
       "      <td>70.70</td>\n",
       "      <td>Female</td>\n",
       "      <td>0</td>\n",
       "      <td>No</td>\n",
       "      <td>No</td>\n",
       "      <td>Fiber optic</td>\n",
       "      <td>No</td>\n",
       "      <td>No</td>\n",
       "      <td>No</td>\n",
       "      <td>No</td>\n",
       "      <td>No</td>\n",
       "      <td>No</td>\n",
       "      <td>No</td>\n",
       "      <td>1</td>\n",
       "      <td>61</td>\n",
       "    </tr>\n",
       "    <tr>\n",
       "      <th>...</th>\n",
       "      <td>...</td>\n",
       "      <td>...</td>\n",
       "      <td>...</td>\n",
       "      <td>...</td>\n",
       "      <td>...</td>\n",
       "      <td>...</td>\n",
       "      <td>...</td>\n",
       "      <td>...</td>\n",
       "      <td>...</td>\n",
       "      <td>...</td>\n",
       "      <td>...</td>\n",
       "      <td>...</td>\n",
       "      <td>...</td>\n",
       "      <td>...</td>\n",
       "      <td>...</td>\n",
       "      <td>...</td>\n",
       "      <td>...</td>\n",
       "      <td>...</td>\n",
       "    </tr>\n",
       "    <tr>\n",
       "      <th>6840-RESVB</th>\n",
       "      <td>One year</td>\n",
       "      <td>Yes</td>\n",
       "      <td>Mailed check</td>\n",
       "      <td>84.80</td>\n",
       "      <td>Male</td>\n",
       "      <td>0</td>\n",
       "      <td>Yes</td>\n",
       "      <td>Yes</td>\n",
       "      <td>DSL</td>\n",
       "      <td>Yes</td>\n",
       "      <td>No</td>\n",
       "      <td>Yes</td>\n",
       "      <td>Yes</td>\n",
       "      <td>Yes</td>\n",
       "      <td>Yes</td>\n",
       "      <td>Yes</td>\n",
       "      <td>0</td>\n",
       "      <td>730</td>\n",
       "    </tr>\n",
       "    <tr>\n",
       "      <th>2234-XADUH</th>\n",
       "      <td>One year</td>\n",
       "      <td>Yes</td>\n",
       "      <td>Credit card (automatic)</td>\n",
       "      <td>103.20</td>\n",
       "      <td>Female</td>\n",
       "      <td>0</td>\n",
       "      <td>Yes</td>\n",
       "      <td>Yes</td>\n",
       "      <td>Fiber optic</td>\n",
       "      <td>No</td>\n",
       "      <td>Yes</td>\n",
       "      <td>Yes</td>\n",
       "      <td>No</td>\n",
       "      <td>Yes</td>\n",
       "      <td>Yes</td>\n",
       "      <td>Yes</td>\n",
       "      <td>0</td>\n",
       "      <td>2191</td>\n",
       "    </tr>\n",
       "    <tr>\n",
       "      <th>4801-JZAZL</th>\n",
       "      <td>Month-to-month</td>\n",
       "      <td>Yes</td>\n",
       "      <td>Electronic check</td>\n",
       "      <td>29.60</td>\n",
       "      <td>Female</td>\n",
       "      <td>0</td>\n",
       "      <td>Yes</td>\n",
       "      <td>Yes</td>\n",
       "      <td>DSL</td>\n",
       "      <td>Yes</td>\n",
       "      <td>No</td>\n",
       "      <td>No</td>\n",
       "      <td>No</td>\n",
       "      <td>No</td>\n",
       "      <td>No</td>\n",
       "      <td>No</td>\n",
       "      <td>0</td>\n",
       "      <td>337</td>\n",
       "    </tr>\n",
       "    <tr>\n",
       "      <th>8361-LTMKD</th>\n",
       "      <td>Month-to-month</td>\n",
       "      <td>Yes</td>\n",
       "      <td>Mailed check</td>\n",
       "      <td>74.40</td>\n",
       "      <td>Male</td>\n",
       "      <td>1</td>\n",
       "      <td>Yes</td>\n",
       "      <td>No</td>\n",
       "      <td>Fiber optic</td>\n",
       "      <td>No</td>\n",
       "      <td>No</td>\n",
       "      <td>No</td>\n",
       "      <td>No</td>\n",
       "      <td>No</td>\n",
       "      <td>No</td>\n",
       "      <td>Yes</td>\n",
       "      <td>1</td>\n",
       "      <td>123</td>\n",
       "    </tr>\n",
       "    <tr>\n",
       "      <th>3186-AJIEK</th>\n",
       "      <td>Two year</td>\n",
       "      <td>Yes</td>\n",
       "      <td>Bank transfer (automatic)</td>\n",
       "      <td>105.65</td>\n",
       "      <td>Male</td>\n",
       "      <td>0</td>\n",
       "      <td>No</td>\n",
       "      <td>No</td>\n",
       "      <td>Fiber optic</td>\n",
       "      <td>Yes</td>\n",
       "      <td>No</td>\n",
       "      <td>Yes</td>\n",
       "      <td>Yes</td>\n",
       "      <td>Yes</td>\n",
       "      <td>Yes</td>\n",
       "      <td>No</td>\n",
       "      <td>0</td>\n",
       "      <td>2010</td>\n",
       "    </tr>\n",
       "  </tbody>\n",
       "</table>\n",
       "<p>7043 rows × 18 columns</p>\n",
       "</div>"
      ],
      "text/plain": [
       "                      type paperless_billing             payment_method  \\\n",
       "customerID                                                                \n",
       "7590-VHVEG  Month-to-month               Yes           Electronic check   \n",
       "5575-GNVDE        One year                No               Mailed check   \n",
       "3668-QPYBK  Month-to-month               Yes               Mailed check   \n",
       "7795-CFOCW        One year                No  Bank transfer (automatic)   \n",
       "9237-HQITU  Month-to-month               Yes           Electronic check   \n",
       "...                    ...               ...                        ...   \n",
       "6840-RESVB        One year               Yes               Mailed check   \n",
       "2234-XADUH        One year               Yes    Credit card (automatic)   \n",
       "4801-JZAZL  Month-to-month               Yes           Electronic check   \n",
       "8361-LTMKD  Month-to-month               Yes               Mailed check   \n",
       "3186-AJIEK        Two year               Yes  Bank transfer (automatic)   \n",
       "\n",
       "            monthly_charges  gender  senior_citizen partner dependents  \\\n",
       "customerID                                                               \n",
       "7590-VHVEG            29.85  Female               0     Yes         No   \n",
       "5575-GNVDE            56.95    Male               0      No         No   \n",
       "3668-QPYBK            53.85    Male               0      No         No   \n",
       "7795-CFOCW            42.30    Male               0      No         No   \n",
       "9237-HQITU            70.70  Female               0      No         No   \n",
       "...                     ...     ...             ...     ...        ...   \n",
       "6840-RESVB            84.80    Male               0     Yes        Yes   \n",
       "2234-XADUH           103.20  Female               0     Yes        Yes   \n",
       "4801-JZAZL            29.60  Female               0     Yes        Yes   \n",
       "8361-LTMKD            74.40    Male               1     Yes         No   \n",
       "3186-AJIEK           105.65    Male               0      No         No   \n",
       "\n",
       "           internet_service online_security online_backup device_protection  \\\n",
       "customerID                                                                    \n",
       "7590-VHVEG              DSL              No           Yes                No   \n",
       "5575-GNVDE              DSL             Yes            No               Yes   \n",
       "3668-QPYBK              DSL             Yes           Yes                No   \n",
       "7795-CFOCW              DSL             Yes            No               Yes   \n",
       "9237-HQITU      Fiber optic              No            No                No   \n",
       "...                     ...             ...           ...               ...   \n",
       "6840-RESVB              DSL             Yes            No               Yes   \n",
       "2234-XADUH      Fiber optic              No           Yes               Yes   \n",
       "4801-JZAZL              DSL             Yes            No                No   \n",
       "8361-LTMKD      Fiber optic              No            No                No   \n",
       "3186-AJIEK      Fiber optic             Yes            No               Yes   \n",
       "\n",
       "           tech_support streaming_t_v streaming_movies multiple_lines  loss  \\\n",
       "customerID                                                                    \n",
       "7590-VHVEG           No            No               No             No     0   \n",
       "5575-GNVDE           No            No               No             No     0   \n",
       "3668-QPYBK           No            No               No             No     1   \n",
       "7795-CFOCW          Yes            No               No             No     0   \n",
       "9237-HQITU           No            No               No             No     1   \n",
       "...                 ...           ...              ...            ...   ...   \n",
       "6840-RESVB          Yes           Yes              Yes            Yes     0   \n",
       "2234-XADUH           No           Yes              Yes            Yes     0   \n",
       "4801-JZAZL           No            No               No             No     0   \n",
       "8361-LTMKD           No            No               No            Yes     1   \n",
       "3186-AJIEK          Yes           Yes              Yes             No     0   \n",
       "\n",
       "            total_date  \n",
       "customerID              \n",
       "7590-VHVEG          31  \n",
       "5575-GNVDE        1036  \n",
       "3668-QPYBK          61  \n",
       "7795-CFOCW        1371  \n",
       "9237-HQITU          61  \n",
       "...                ...  \n",
       "6840-RESVB         730  \n",
       "2234-XADUH        2191  \n",
       "4801-JZAZL         337  \n",
       "8361-LTMKD         123  \n",
       "3186-AJIEK        2010  \n",
       "\n",
       "[7043 rows x 18 columns]"
      ]
     },
     "execution_count": 45,
     "metadata": {},
     "output_type": "execute_result"
    }
   ],
   "source": [
    "df_data_model"
   ]
  },
  {
   "cell_type": "code",
   "execution_count": 46,
   "metadata": {
    "pycharm": {
     "name": "#%%\n"
    }
   },
   "outputs": [],
   "source": [
    "# df_data_model_CB=df_data_model.copy()"
   ]
  },
  {
   "cell_type": "code",
   "execution_count": 47,
   "metadata": {
    "pycharm": {
     "name": "#%%\n"
    }
   },
   "outputs": [],
   "source": [
    "# df_data_model_CB"
   ]
  },
  {
   "cell_type": "markdown",
   "metadata": {
    "pycharm": {
     "name": "#%% md\n"
    }
   },
   "source": [
    "Проведем OHE (One-Hot Encoding) кодирование для того, чтобы преобразовать категоральные признаки в числовые"
   ]
  },
  {
   "cell_type": "code",
   "execution_count": 48,
   "metadata": {
    "pycharm": {
     "name": "#%%\n"
    }
   },
   "outputs": [],
   "source": [
    "df_data_model= pd.get_dummies(df_data_model, drop_first=True)"
   ]
  },
  {
   "cell_type": "code",
   "execution_count": 49,
   "metadata": {
    "pycharm": {
     "name": "#%%\n"
    }
   },
   "outputs": [
    {
     "data": {
      "text/html": [
       "<div>\n",
       "<style scoped>\n",
       "    .dataframe tbody tr th:only-of-type {\n",
       "        vertical-align: middle;\n",
       "    }\n",
       "\n",
       "    .dataframe tbody tr th {\n",
       "        vertical-align: top;\n",
       "    }\n",
       "\n",
       "    .dataframe thead th {\n",
       "        text-align: right;\n",
       "    }\n",
       "</style>\n",
       "<table border=\"1\" class=\"dataframe\">\n",
       "  <thead>\n",
       "    <tr style=\"text-align: right;\">\n",
       "      <th></th>\n",
       "      <th>monthly_charges</th>\n",
       "      <th>senior_citizen</th>\n",
       "      <th>loss</th>\n",
       "      <th>total_date</th>\n",
       "      <th>type_One year</th>\n",
       "      <th>type_Two year</th>\n",
       "      <th>paperless_billing_Yes</th>\n",
       "      <th>payment_method_Credit card (automatic)</th>\n",
       "      <th>payment_method_Electronic check</th>\n",
       "      <th>payment_method_Mailed check</th>\n",
       "      <th>...</th>\n",
       "      <th>dependents_Yes</th>\n",
       "      <th>internet_service_Fiber optic</th>\n",
       "      <th>internet_service_No</th>\n",
       "      <th>online_security_Yes</th>\n",
       "      <th>online_backup_Yes</th>\n",
       "      <th>device_protection_Yes</th>\n",
       "      <th>tech_support_Yes</th>\n",
       "      <th>streaming_t_v_Yes</th>\n",
       "      <th>streaming_movies_Yes</th>\n",
       "      <th>multiple_lines_Yes</th>\n",
       "    </tr>\n",
       "    <tr>\n",
       "      <th>customerID</th>\n",
       "      <th></th>\n",
       "      <th></th>\n",
       "      <th></th>\n",
       "      <th></th>\n",
       "      <th></th>\n",
       "      <th></th>\n",
       "      <th></th>\n",
       "      <th></th>\n",
       "      <th></th>\n",
       "      <th></th>\n",
       "      <th></th>\n",
       "      <th></th>\n",
       "      <th></th>\n",
       "      <th></th>\n",
       "      <th></th>\n",
       "      <th></th>\n",
       "      <th></th>\n",
       "      <th></th>\n",
       "      <th></th>\n",
       "      <th></th>\n",
       "      <th></th>\n",
       "    </tr>\n",
       "  </thead>\n",
       "  <tbody>\n",
       "    <tr>\n",
       "      <th>7590-VHVEG</th>\n",
       "      <td>29.85</td>\n",
       "      <td>0</td>\n",
       "      <td>0</td>\n",
       "      <td>31</td>\n",
       "      <td>0</td>\n",
       "      <td>0</td>\n",
       "      <td>1</td>\n",
       "      <td>0</td>\n",
       "      <td>1</td>\n",
       "      <td>0</td>\n",
       "      <td>...</td>\n",
       "      <td>0</td>\n",
       "      <td>0</td>\n",
       "      <td>0</td>\n",
       "      <td>0</td>\n",
       "      <td>1</td>\n",
       "      <td>0</td>\n",
       "      <td>0</td>\n",
       "      <td>0</td>\n",
       "      <td>0</td>\n",
       "      <td>0</td>\n",
       "    </tr>\n",
       "    <tr>\n",
       "      <th>5575-GNVDE</th>\n",
       "      <td>56.95</td>\n",
       "      <td>0</td>\n",
       "      <td>0</td>\n",
       "      <td>1036</td>\n",
       "      <td>1</td>\n",
       "      <td>0</td>\n",
       "      <td>0</td>\n",
       "      <td>0</td>\n",
       "      <td>0</td>\n",
       "      <td>1</td>\n",
       "      <td>...</td>\n",
       "      <td>0</td>\n",
       "      <td>0</td>\n",
       "      <td>0</td>\n",
       "      <td>1</td>\n",
       "      <td>0</td>\n",
       "      <td>1</td>\n",
       "      <td>0</td>\n",
       "      <td>0</td>\n",
       "      <td>0</td>\n",
       "      <td>0</td>\n",
       "    </tr>\n",
       "    <tr>\n",
       "      <th>3668-QPYBK</th>\n",
       "      <td>53.85</td>\n",
       "      <td>0</td>\n",
       "      <td>1</td>\n",
       "      <td>61</td>\n",
       "      <td>0</td>\n",
       "      <td>0</td>\n",
       "      <td>1</td>\n",
       "      <td>0</td>\n",
       "      <td>0</td>\n",
       "      <td>1</td>\n",
       "      <td>...</td>\n",
       "      <td>0</td>\n",
       "      <td>0</td>\n",
       "      <td>0</td>\n",
       "      <td>1</td>\n",
       "      <td>1</td>\n",
       "      <td>0</td>\n",
       "      <td>0</td>\n",
       "      <td>0</td>\n",
       "      <td>0</td>\n",
       "      <td>0</td>\n",
       "    </tr>\n",
       "    <tr>\n",
       "      <th>7795-CFOCW</th>\n",
       "      <td>42.30</td>\n",
       "      <td>0</td>\n",
       "      <td>0</td>\n",
       "      <td>1371</td>\n",
       "      <td>1</td>\n",
       "      <td>0</td>\n",
       "      <td>0</td>\n",
       "      <td>0</td>\n",
       "      <td>0</td>\n",
       "      <td>0</td>\n",
       "      <td>...</td>\n",
       "      <td>0</td>\n",
       "      <td>0</td>\n",
       "      <td>0</td>\n",
       "      <td>1</td>\n",
       "      <td>0</td>\n",
       "      <td>1</td>\n",
       "      <td>1</td>\n",
       "      <td>0</td>\n",
       "      <td>0</td>\n",
       "      <td>0</td>\n",
       "    </tr>\n",
       "    <tr>\n",
       "      <th>9237-HQITU</th>\n",
       "      <td>70.70</td>\n",
       "      <td>0</td>\n",
       "      <td>1</td>\n",
       "      <td>61</td>\n",
       "      <td>0</td>\n",
       "      <td>0</td>\n",
       "      <td>1</td>\n",
       "      <td>0</td>\n",
       "      <td>1</td>\n",
       "      <td>0</td>\n",
       "      <td>...</td>\n",
       "      <td>0</td>\n",
       "      <td>1</td>\n",
       "      <td>0</td>\n",
       "      <td>0</td>\n",
       "      <td>0</td>\n",
       "      <td>0</td>\n",
       "      <td>0</td>\n",
       "      <td>0</td>\n",
       "      <td>0</td>\n",
       "      <td>0</td>\n",
       "    </tr>\n",
       "  </tbody>\n",
       "</table>\n",
       "<p>5 rows × 22 columns</p>\n",
       "</div>"
      ],
      "text/plain": [
       "            monthly_charges  senior_citizen  loss  total_date  type_One year  \\\n",
       "customerID                                                                     \n",
       "7590-VHVEG            29.85               0     0          31              0   \n",
       "5575-GNVDE            56.95               0     0        1036              1   \n",
       "3668-QPYBK            53.85               0     1          61              0   \n",
       "7795-CFOCW            42.30               0     0        1371              1   \n",
       "9237-HQITU            70.70               0     1          61              0   \n",
       "\n",
       "            type_Two year  paperless_billing_Yes  \\\n",
       "customerID                                         \n",
       "7590-VHVEG              0                      1   \n",
       "5575-GNVDE              0                      0   \n",
       "3668-QPYBK              0                      1   \n",
       "7795-CFOCW              0                      0   \n",
       "9237-HQITU              0                      1   \n",
       "\n",
       "            payment_method_Credit card (automatic)  \\\n",
       "customerID                                           \n",
       "7590-VHVEG                                       0   \n",
       "5575-GNVDE                                       0   \n",
       "3668-QPYBK                                       0   \n",
       "7795-CFOCW                                       0   \n",
       "9237-HQITU                                       0   \n",
       "\n",
       "            payment_method_Electronic check  payment_method_Mailed check  ...  \\\n",
       "customerID                                                                ...   \n",
       "7590-VHVEG                                1                            0  ...   \n",
       "5575-GNVDE                                0                            1  ...   \n",
       "3668-QPYBK                                0                            1  ...   \n",
       "7795-CFOCW                                0                            0  ...   \n",
       "9237-HQITU                                1                            0  ...   \n",
       "\n",
       "            dependents_Yes  internet_service_Fiber optic  internet_service_No  \\\n",
       "customerID                                                                      \n",
       "7590-VHVEG               0                             0                    0   \n",
       "5575-GNVDE               0                             0                    0   \n",
       "3668-QPYBK               0                             0                    0   \n",
       "7795-CFOCW               0                             0                    0   \n",
       "9237-HQITU               0                             1                    0   \n",
       "\n",
       "            online_security_Yes  online_backup_Yes  device_protection_Yes  \\\n",
       "customerID                                                                  \n",
       "7590-VHVEG                    0                  1                      0   \n",
       "5575-GNVDE                    1                  0                      1   \n",
       "3668-QPYBK                    1                  1                      0   \n",
       "7795-CFOCW                    1                  0                      1   \n",
       "9237-HQITU                    0                  0                      0   \n",
       "\n",
       "            tech_support_Yes  streaming_t_v_Yes  streaming_movies_Yes  \\\n",
       "customerID                                                              \n",
       "7590-VHVEG                 0                  0                     0   \n",
       "5575-GNVDE                 0                  0                     0   \n",
       "3668-QPYBK                 0                  0                     0   \n",
       "7795-CFOCW                 1                  0                     0   \n",
       "9237-HQITU                 0                  0                     0   \n",
       "\n",
       "            multiple_lines_Yes  \n",
       "customerID                      \n",
       "7590-VHVEG                   0  \n",
       "5575-GNVDE                   0  \n",
       "3668-QPYBK                   0  \n",
       "7795-CFOCW                   0  \n",
       "9237-HQITU                   0  \n",
       "\n",
       "[5 rows x 22 columns]"
      ]
     },
     "execution_count": 49,
     "metadata": {},
     "output_type": "execute_result"
    }
   ],
   "source": [
    "df_data_model.head()"
   ]
  },
  {
   "cell_type": "code",
   "execution_count": 50,
   "metadata": {
    "pycharm": {
     "name": "#%%\n"
    }
   },
   "outputs": [],
   "source": [
    "# encoder = OrdinalEncoder()\n",
    "# data_ordinal = pd.DataFrame(encoder.fit_transform(df_data_model_CB),\n",
    "#                             columns=df_data_model_CB.columns)"
   ]
  },
  {
   "cell_type": "markdown",
   "metadata": {
    "pycharm": {
     "name": "#%% md\n"
    }
   },
   "source": [
    "Признаки и целевой показатель"
   ]
  },
  {
   "cell_type": "code",
   "execution_count": 51,
   "metadata": {
    "pycharm": {
     "name": "#%%\n"
    }
   },
   "outputs": [
    {
     "data": {
      "text/plain": [
       "(7043,)"
      ]
     },
     "metadata": {},
     "output_type": "display_data"
    }
   ],
   "source": [
    "target = df_data_model['loss'] # Цель\n",
    "display(target.shape)\n"
   ]
  },
  {
   "cell_type": "code",
   "execution_count": 52,
   "metadata": {
    "pycharm": {
     "name": "#%%\n"
    }
   },
   "outputs": [],
   "source": [
    "# target = data_ordinal['loss'] # Цель\n",
    "# display(target.shape)"
   ]
  },
  {
   "cell_type": "code",
   "execution_count": 53,
   "metadata": {
    "pycharm": {
     "name": "#%%\n"
    }
   },
   "outputs": [
    {
     "data": {
      "text/plain": [
       "(7043, 21)"
      ]
     },
     "metadata": {},
     "output_type": "display_data"
    }
   ],
   "source": [
    "features = df_data_model.drop(columns=['loss'], axis=1) #признаки\n",
    "display(features.shape)"
   ]
  },
  {
   "cell_type": "code",
   "execution_count": 54,
   "metadata": {
    "pycharm": {
     "name": "#%%\n"
    }
   },
   "outputs": [],
   "source": [
    "# features = data_ordinal.drop(columns=['loss'], axis=1) #признаки\n",
    "# display(features.shape)"
   ]
  },
  {
   "cell_type": "markdown",
   "metadata": {
    "pycharm": {
     "name": "#%% md\n"
    }
   },
   "source": [
    "Считаем сколько в выборке 0 и 1."
   ]
  },
  {
   "cell_type": "code",
   "execution_count": 55,
   "metadata": {
    "pycharm": {
     "name": "#%%\n"
    }
   },
   "outputs": [
    {
     "data": {
      "text/plain": [
       "0    5174\n",
       "1    1869\n",
       "Name: loss, dtype: int64"
      ]
     },
     "metadata": {},
     "output_type": "display_data"
    }
   ],
   "source": [
    "display(df_data['loss'].value_counts())"
   ]
  },
  {
   "cell_type": "code",
   "execution_count": 56,
   "metadata": {
    "pycharm": {
     "name": "#%%\n"
    }
   },
   "outputs": [],
   "source": [
    "ratio_value_counts = df_data['loss'].value_counts()[0] /df_data['loss'].value_counts()[1]"
   ]
  },
  {
   "cell_type": "code",
   "execution_count": 57,
   "metadata": {
    "pycharm": {
     "name": "#%%\n"
    }
   },
   "outputs": [
    {
     "data": {
      "text/plain": [
       "2.7683253076511503"
      ]
     },
     "metadata": {},
     "output_type": "display_data"
    }
   ],
   "source": [
    "display(ratio_value_counts)"
   ]
  },
  {
   "cell_type": "markdown",
   "metadata": {
    "pycharm": {
     "name": "#%% md\n"
    }
   },
   "source": [
    "Классы несбалансированы. Отношение 1:2.77. Поэтому в моделях заложим class_weight='balanced' или проведем upsampling, т.е увеличить число объектов меньшего класса путём их многократного копирования."
   ]
  },
  {
   "cell_type": "markdown",
   "metadata": {
    "pycharm": {
     "name": "#%% md\n"
    }
   },
   "source": [
    "Делим выборку на тренировочную и тестовую 20 %"
   ]
  },
  {
   "cell_type": "code",
   "execution_count": 58,
   "metadata": {
    "pycharm": {
     "name": "#%%\n"
    },
    "scrolled": true
   },
   "outputs": [],
   "source": [
    "features_train, features_test, target_train, target_test = train_test_split(\n",
    "    features, target, test_size=0.20, random_state=12345) # отделим 20% данных"
   ]
  },
  {
   "cell_type": "code",
   "execution_count": 59,
   "metadata": {
    "pycharm": {
     "name": "#%%\n"
    }
   },
   "outputs": [
    {
     "data": {
      "text/plain": [
       "(5634, 21)"
      ]
     },
     "metadata": {},
     "output_type": "display_data"
    }
   ],
   "source": [
    "display(features_train.shape)"
   ]
  },
  {
   "cell_type": "code",
   "execution_count": 60,
   "metadata": {
    "pycharm": {
     "name": "#%%\n"
    },
    "scrolled": true
   },
   "outputs": [],
   "source": [
    "#features_train, target_train = upsample(features_train, target_train, 3)"
   ]
  },
  {
   "cell_type": "code",
   "execution_count": 61,
   "metadata": {
    "pycharm": {
     "name": "#%%\n"
    }
   },
   "outputs": [],
   "source": [
    "# ratio = target_train[target_train == 1].count() / target_train[target_train == 0].count()\n",
    "# display(ratio)"
   ]
  },
  {
   "cell_type": "markdown",
   "metadata": {
    "pycharm": {
     "name": "#%% md\n"
    }
   },
   "source": [
    "Проводим масштабирование числовых признаков"
   ]
  },
  {
   "cell_type": "code",
   "execution_count": 62,
   "metadata": {
    "pycharm": {
     "name": "#%%\n"
    }
   },
   "outputs": [],
   "source": [
    "# scaler = StandardScaler()\n",
    "# scaler.fit(features_train[numeric_columns]) \n",
    "# features_train[numeric_columns] = scaler.transform(features_train[numeric_columns])\n",
    "# features_test[numeric_columns] = scaler.transform(features_test[numeric_columns])"
   ]
  },
  {
   "cell_type": "markdown",
   "metadata": {
    "pycharm": {
     "name": "#%% md\n"
    }
   },
   "source": [
    "### Вывод"
   ]
  },
  {
   "cell_type": "markdown",
   "metadata": {
    "pycharm": {
     "name": "#%% md\n"
    }
   },
   "source": [
    "1. Удалили ненужные для обучения столбцы связанные с временем т.к не работаем с числовым рядом, а также столбцы со временем начала и конца договора отрицательно сказываются на обучении моделей\n",
    "2. Провели OHE (One-Hot Encoding) кодирование для того, чтобы преобразовать категоральные признаки в числовые\n",
    "3. Оценили несбалансированность классов. Отношение 1:2.77. Поэтому в моделях заложим class_weight='balanced' или проведем upsampling, для увеличения числа объектов меньшего класса путём их многократного копирования.\n",
    "4. Оценили влияния масштабирования на обучения моделей"
   ]
  },
  {
   "cell_type": "markdown",
   "metadata": {
    "pycharm": {
     "name": "#%% md\n"
    }
   },
   "source": [
    "## Обучение моделей"
   ]
  },
  {
   "cell_type": "markdown",
   "metadata": {
    "pycharm": {
     "name": "#%% md\n"
    }
   },
   "source": [
    "### LogisticRegression"
   ]
  },
  {
   "cell_type": "code",
   "execution_count": 63,
   "metadata": {
    "pycharm": {
     "name": "#%%\n"
    }
   },
   "outputs": [
    {
     "name": "stdout",
     "output_type": "stream",
     "text": [
      "{'C': 1000.0}\n"
     ]
    }
   ],
   "source": [
    "#param_grid = {'C': [0.001, 0.01, 0.1, 1, 10, 100, 1000]}\n",
    "param_grid={'C':np.logspace(-4, 3, 8)}\n",
    "\n",
    "model = LogisticRegression(class_weight='balanced',random_state=12345, n_jobs=-1)\n",
    "\n",
    "search = GridSearchCV(model, param_grid, cv=5, scoring='roc_auc')\n",
    "search.fit(features_train, target_train)\n",
    "\n",
    "print(search.best_params_)\n",
    "\n",
    "predicted_probalities = search.best_estimator_.predict_proba(features_test)[:, 1]"
   ]
  },
  {
   "cell_type": "code",
   "execution_count": 64,
   "metadata": {
    "pycharm": {
     "name": "#%%\n"
    },
    "scrolled": false
   },
   "outputs": [
    {
     "name": "stdout",
     "output_type": "stream",
     "text": [
      "ROC-AUC score 0.8426620898122295\n"
     ]
    },
    {
     "data": {
      "image/png": "[encoded data removed]",
      "text/plain": [
       "<Figure size 432x288 with 1 Axes>"
      ]
     },
     "metadata": {
      "needs_background": "light"
     },
     "output_type": "display_data"
    }
   ],
   "source": [
    "ROC(target_test, predicted_probalities)"
   ]
  },
  {
   "cell_type": "markdown",
   "metadata": {
    "pycharm": {
     "name": "#%% md\n"
    }
   },
   "source": [
    "### DecisionTreeClassifier"
   ]
  },
  {
   "cell_type": "code",
   "execution_count": 65,
   "metadata": {
    "pycharm": {
     "name": "#%%\n"
    }
   },
   "outputs": [
    {
     "name": "stdout",
     "output_type": "stream",
     "text": [
      "{'max_depth': 5, 'min_samples_leaf': 2, 'min_samples_split': 2}\n"
     ]
    }
   ],
   "source": [
    "param_grid = {\n",
    "    'max_depth': [5, 10, 20],\n",
    "    'min_samples_split': [2, 10],\n",
    "    'min_samples_leaf': [2, 10],\n",
    "    \n",
    "}\n",
    "\n",
    "model_tree = DecisionTreeClassifier(random_state=12345,class_weight='balanced')\n",
    "\n",
    "search = GridSearchCV(model_tree, param_grid, cv=5, scoring='roc_auc')\n",
    "search.fit(features_train, target_train)\n",
    "\n",
    "print(search.best_params_)\n",
    "\n",
    "predicted_probalities = search.best_estimator_.predict_proba(features_test)[:, 1]"
   ]
  },
  {
   "cell_type": "code",
   "execution_count": 66,
   "metadata": {
    "pycharm": {
     "name": "#%%\n"
    },
    "scrolled": true
   },
   "outputs": [
    {
     "name": "stdout",
     "output_type": "stream",
     "text": [
      "ROC-AUC score 0.8352229935702027\n"
     ]
    },
    {
     "data": {
      "image/png": "[encoded data removed]",
      "text/plain": [
       "<Figure size 432x288 with 1 Axes>"
      ]
     },
     "metadata": {
      "needs_background": "light"
     },
     "output_type": "display_data"
    }
   ],
   "source": [
    "ROC(target_test, predicted_probalities)"
   ]
  },
  {
   "cell_type": "markdown",
   "metadata": {
    "pycharm": {
     "name": "#%% md\n"
    }
   },
   "source": [
    "### RandomForestClassifier"
   ]
  },
  {
   "cell_type": "code",
   "execution_count": 67,
   "metadata": {
    "pycharm": {
     "name": "#%%\n"
    }
   },
   "outputs": [
    {
     "name": "stdout",
     "output_type": "stream",
     "text": [
      "{'max_depth': 10, 'min_samples_leaf': 2, 'min_samples_split': 10, 'n_estimators': 50}\n"
     ]
    }
   ],
   "source": [
    "param_grid = {\n",
    "    'max_depth': [5, 10, 20],\n",
    "    'min_samples_split': [2, 10],\n",
    "    'min_samples_leaf': [2, 10],\n",
    "    'n_estimators': [10, 50, 100], \n",
    "}\n",
    "\n",
    "model = RandomForestClassifier(random_state=12345,n_jobs = -1,class_weight='balanced' )\n",
    "\n",
    "search = GridSearchCV(model, param_grid, cv=5, scoring='roc_auc')\n",
    "search.fit(features_train, target_train)\n",
    "\n",
    "print(search.best_params_)\n",
    "\n",
    "predicted_probalities = search.best_estimator_.predict_proba(features_test)[:, 1]\n"
   ]
  },
  {
   "cell_type": "code",
   "execution_count": 68,
   "metadata": {
    "pycharm": {
     "name": "#%%\n"
    },
    "scrolled": true
   },
   "outputs": [
    {
     "name": "stdout",
     "output_type": "stream",
     "text": [
      "ROC-AUC score 0.8582242487896098\n"
     ]
    },
    {
     "data": {
      "image/png": "[encoded data removed]",
      "text/plain": [
       "<Figure size 432x288 with 1 Axes>"
      ]
     },
     "metadata": {
      "needs_background": "light"
     },
     "output_type": "display_data"
    }
   ],
   "source": [
    "ROC(target_test, predicted_probalities)"
   ]
  },
  {
   "cell_type": "markdown",
   "metadata": {
    "pycharm": {
     "name": "#%% md\n"
    }
   },
   "source": [
    "### CatBoostClassifier"
   ]
  },
  {
   "cell_type": "code",
   "execution_count": 69,
   "metadata": {
    "pycharm": {
     "name": "#%%\n"
    }
   },
   "outputs": [
    {
     "name": "stdout",
     "output_type": "stream",
     "text": [
      "{'iterations': 500, 'l2_leaf_reg': 3, 'learning_rate': 0.1}\n"
     ]
    }
   ],
   "source": [
    "param_grid = {\n",
    "    'learning_rate': [0.001, 0.1, 0.3],\n",
    "    'iterations': [50, 100,200,500],\n",
    "    'l2_leaf_reg': [3, 9]\n",
    "    \n",
    "}\n",
    "\n",
    "model = CatBoostClassifier(random_state=12345, verbose=0, thread_count = -1)\n",
    "\n",
    "search = GridSearchCV(model, param_grid, cv=5, scoring='roc_auc')\n",
    "search.fit(features_train, target_train)\n",
    "\n",
    "print(search.best_params_)\n",
    "\n",
    "predicted_probalities = search.best_estimator_.predict_proba(features_test)[:, 1]"
   ]
  },
  {
   "cell_type": "code",
   "execution_count": 70,
   "metadata": {
    "pycharm": {
     "name": "#%%\n"
    }
   },
   "outputs": [
    {
     "name": "stdout",
     "output_type": "stream",
     "text": [
      "ROC-AUC score 0.9219983605297537\n"
     ]
    },
    {
     "data": {
      "image/png": "[encoded data removed]",
      "text/plain": [
       "<Figure size 432x288 with 1 Axes>"
      ]
     },
     "metadata": {
      "needs_background": "light"
     },
     "output_type": "display_data"
    }
   ],
   "source": [
    "ROC(target_test, predicted_probalities)"
   ]
  },
  {
   "cell_type": "code",
   "execution_count": 71,
   "metadata": {
    "pycharm": {
     "name": "#%%\n"
    },
    "scrolled": true
   },
   "outputs": [
    {
     "data": {
      "text/html": [
       "<div>\n",
       "<style scoped>\n",
       "    .dataframe tbody tr th:only-of-type {\n",
       "        vertical-align: middle;\n",
       "    }\n",
       "\n",
       "    .dataframe tbody tr th {\n",
       "        vertical-align: top;\n",
       "    }\n",
       "\n",
       "    .dataframe thead th {\n",
       "        text-align: right;\n",
       "    }\n",
       "</style>\n",
       "<table border=\"1\" class=\"dataframe\">\n",
       "  <thead>\n",
       "    <tr style=\"text-align: right;\">\n",
       "      <th></th>\n",
       "      <th>importances</th>\n",
       "    </tr>\n",
       "  </thead>\n",
       "  <tbody>\n",
       "    <tr>\n",
       "      <th>total_date</th>\n",
       "      <td>52.084113</td>\n",
       "    </tr>\n",
       "    <tr>\n",
       "      <th>monthly_charges</th>\n",
       "      <td>13.264457</td>\n",
       "    </tr>\n",
       "    <tr>\n",
       "      <th>type_Two year</th>\n",
       "      <td>4.247110</td>\n",
       "    </tr>\n",
       "    <tr>\n",
       "      <th>internet_service_Fiber optic</th>\n",
       "      <td>2.655889</td>\n",
       "    </tr>\n",
       "    <tr>\n",
       "      <th>paperless_billing_Yes</th>\n",
       "      <td>2.318436</td>\n",
       "    </tr>\n",
       "    <tr>\n",
       "      <th>type_One year</th>\n",
       "      <td>2.061696</td>\n",
       "    </tr>\n",
       "    <tr>\n",
       "      <th>gender_Male</th>\n",
       "      <td>2.052101</td>\n",
       "    </tr>\n",
       "    <tr>\n",
       "      <th>payment_method_Electronic check</th>\n",
       "      <td>2.030662</td>\n",
       "    </tr>\n",
       "    <tr>\n",
       "      <th>dependents_Yes</th>\n",
       "      <td>1.930512</td>\n",
       "    </tr>\n",
       "    <tr>\n",
       "      <th>multiple_lines_Yes</th>\n",
       "      <td>1.838709</td>\n",
       "    </tr>\n",
       "    <tr>\n",
       "      <th>tech_support_Yes</th>\n",
       "      <td>1.723398</td>\n",
       "    </tr>\n",
       "    <tr>\n",
       "      <th>senior_citizen</th>\n",
       "      <td>1.669599</td>\n",
       "    </tr>\n",
       "    <tr>\n",
       "      <th>partner_Yes</th>\n",
       "      <td>1.566966</td>\n",
       "    </tr>\n",
       "    <tr>\n",
       "      <th>streaming_t_v_Yes</th>\n",
       "      <td>1.461172</td>\n",
       "    </tr>\n",
       "    <tr>\n",
       "      <th>streaming_movies_Yes</th>\n",
       "      <td>1.452346</td>\n",
       "    </tr>\n",
       "    <tr>\n",
       "      <th>device_protection_Yes</th>\n",
       "      <td>1.417856</td>\n",
       "    </tr>\n",
       "    <tr>\n",
       "      <th>online_security_Yes</th>\n",
       "      <td>1.399253</td>\n",
       "    </tr>\n",
       "    <tr>\n",
       "      <th>payment_method_Mailed check</th>\n",
       "      <td>1.391675</td>\n",
       "    </tr>\n",
       "    <tr>\n",
       "      <th>internet_service_No</th>\n",
       "      <td>1.363389</td>\n",
       "    </tr>\n",
       "    <tr>\n",
       "      <th>online_backup_Yes</th>\n",
       "      <td>1.147974</td>\n",
       "    </tr>\n",
       "    <tr>\n",
       "      <th>payment_method_Credit card (automatic)</th>\n",
       "      <td>0.922687</td>\n",
       "    </tr>\n",
       "  </tbody>\n",
       "</table>\n",
       "</div>"
      ],
      "text/plain": [
       "                                        importances\n",
       "total_date                                52.084113\n",
       "monthly_charges                           13.264457\n",
       "type_Two year                              4.247110\n",
       "internet_service_Fiber optic               2.655889\n",
       "paperless_billing_Yes                      2.318436\n",
       "type_One year                              2.061696\n",
       "gender_Male                                2.052101\n",
       "payment_method_Electronic check            2.030662\n",
       "dependents_Yes                             1.930512\n",
       "multiple_lines_Yes                         1.838709\n",
       "tech_support_Yes                           1.723398\n",
       "senior_citizen                             1.669599\n",
       "partner_Yes                                1.566966\n",
       "streaming_t_v_Yes                          1.461172\n",
       "streaming_movies_Yes                       1.452346\n",
       "device_protection_Yes                      1.417856\n",
       "online_security_Yes                        1.399253\n",
       "payment_method_Mailed check                1.391675\n",
       "internet_service_No                        1.363389\n",
       "online_backup_Yes                          1.147974\n",
       "payment_method_Credit card (automatic)     0.922687"
      ]
     },
     "execution_count": 71,
     "metadata": {},
     "output_type": "execute_result"
    }
   ],
   "source": [
    "importances = pd.DataFrame(search.best_estimator_.feature_importances_, index = features_test.columns, columns=['importances'])\n",
    "importances = importances.sort_values(by='importances', ascending=False)\n",
    "importances"
   ]
  },
  {
   "cell_type": "code",
   "execution_count": 72,
   "metadata": {
    "pycharm": {
     "name": "#%%\n"
    }
   },
   "outputs": [
    {
     "data": {
      "image/png": "[encoded data removed]",
      "text/plain": [
       "<Figure size 720x360 with 1 Axes>"
      ]
     },
     "metadata": {
      "needs_background": "light"
     },
     "output_type": "display_data"
    }
   ],
   "source": [
    "importances.plot(kind='bar', figsize=(10, 5), title='Важность факторов',grid=True)\n",
    "plt.show()"
   ]
  },
  {
   "cell_type": "code",
   "execution_count": null,
   "metadata": {
    "pycharm": {
     "name": "#%%\n"
    }
   },
   "outputs": [],
   "source": []
  },
  {
   "cell_type": "markdown",
   "metadata": {
    "pycharm": {
     "name": "#%% md\n"
    }
   },
   "source": [
    "## Выводы"
   ]
  },
  {
   "cell_type": "markdown",
   "metadata": {
    "pycharm": {
     "name": "#%% md\n"
    }
   },
   "source": [
    "Целью данной работы является оценка вероятности ухода клиента от оператора связи. Для этого провели следующие манипуляции с представленными данными:\n",
    "\n",
    "1. Преобработка данных показала:\n",
    "   1. Добавили целевой признак loss, который означает отказался клиент от услуг или нет. Если значение в столбце end_date равно \"No\", то значит клиент не ушел и целевой признак равен 0. Если дата ухода есть, то целевой признак равен 1.\n",
    "   2. Перевели end_date и begin_date в формат даты \n",
    "   3. Заполнили пропуски 0 в столбце 'total_charges' т.к подключились в один день\n",
    "   4. Пропуски в остальных категориальных столбцах скорее всего означают отсутсвие услуги, заменили на No\n",
    "   5. Установили customerID в качестве индекса\n",
    "   6. После предварительных расчетов добавили столбец с временем пользования услугами организации т.к. это важный параметр для точности расчета\n",
    "2. Предварительные расчеты показали: \n",
    "   1. Применение в обучении моделей времени начала и конца договора отрицательно сказывается на модель,  метрика ROC-AUC score 0.9999999999999999\n",
    "   2. Удаление столбцов как и предполагалась изначально приводит к максимальному росту метрики в диапазоне от 0,77 до 0,846 в зависимости от модели\n",
    "   3. Использование различных видов кодирования не меняет в принципе изменение метрики, она так и находится от 0,77 до 0,846 в зависимости от модели\n",
    "   4. Использование масштабирования и балансировка классов не дает существенного прироста в метрике\n",
    "   5. Учитывая, что мы удаляем столбцы со временем начала и конца договоров, а время пользования услугами существенно для организации введем метрику связанную с разностью начала и конца договора, например месяц или количество дней т.к. минимальное количество пользования услугами-месяц.\n",
    "3. Анализ категориальных данных показал:\n",
    "   1. Самый популярный способ оплаты - помесячный\n",
    "   2. Люди чаще предпочитают получать счета в электронном виде и оплачивать их при помощи электронного чека\n",
    "   3. Самый частый способ подключения - оптоволокно\n",
    "   4. Дополнительные услуги не пользуются популярностью у пользователей\n",
    "   5. У пользователей в основном нет иждивенцев\n",
    "4. Анализ числовых данных показал:\n",
    "   1. Значения в столбце total_charges убывают, в то же время в столбце mnthly_charges виден пик в райне 85 - это значит, что пользователи, которые платят за тариф много на долго не остаются\n",
    "   2. Также у monthly_charges виден пик в районе 20, что является минимальным значением\n",
    "   3. Аномальных выбросов не видно\n",
    "   4. На графике total_date есть два пика. Первый- пользователи которые пользовались услугами малое количество времени, и второй- большое количество времени\n",
    "   5. Найдена корреляция между столбцами `total_charges` и `total_date` которая составляет больше 0.82 один из столбцов можно удалить. Удалим `total_charges`\n",
    "5. Подготовка данных для моделей:\n",
    "   1. Удалили ненужные для обучения столбцы связанные с временем т.к не работаем с числовым рядом, а также столбцы со временем начала и конца договора отрицательно сказываются на обучении моделей\n",
    "   2. Провели OHE (One-Hot Encoding) кодирование для того, чтобы преобразовать категоральные признаки в числовые\n",
    "   3. Оценили несбалансированность классов. Отношение 1:2.77. Поэтому в моделях заложим class_weight='balanced' или проведем upsampling, для увеличения числа объектов меньшего класса путём их многократного копирования.\n",
    "   4. Оценили влияния масштабирования на обучения моделей\n",
    "6. Обучение моделей:\n",
    "   1. Обучили 4 модели LogisticRegression, DecisionTreeClassifier, RandomForestClassifier и CatBoostClassifier\n",
    "   2. Лучший результат показала модель CatBoostClassifier со значением метрики ROC-AUC в 0.92\n",
    "   \n",
    "     \n",
    "\n"
   ]
  },
  {
   "cell_type": "code",
   "execution_count": null,
   "metadata": {
    "pycharm": {
     "name": "#%%\n"
    }
   },
   "outputs": [],
   "source": []
  }
 ],
 "metadata": {
  "ExecuteTimeLog": [
   {
    "duration": 440,
    "start_time": "2022-07-11T08:33:18.717Z"
   },
   {
    "duration": 177,
    "start_time": "2022-07-11T08:33:20.573Z"
   },
   {
    "duration": 16,
    "start_time": "2022-07-11T08:33:44.863Z"
   },
   {
    "duration": 11,
    "start_time": "2022-07-11T08:34:07.267Z"
   },
   {
    "duration": 11,
    "start_time": "2022-07-11T08:34:35.398Z"
   },
   {
    "duration": 10,
    "start_time": "2022-07-11T08:34:59.379Z"
   },
   {
    "duration": 27,
    "start_time": "2022-07-11T08:35:31.598Z"
   },
   {
    "duration": 11,
    "start_time": "2022-07-11T08:36:05.661Z"
   },
   {
    "duration": 20,
    "start_time": "2022-07-11T08:36:31.837Z"
   },
   {
    "duration": 11,
    "start_time": "2022-07-11T08:36:53.840Z"
   },
   {
    "duration": 55,
    "start_time": "2022-07-11T08:53:26.583Z"
   },
   {
    "duration": 3,
    "start_time": "2022-07-11T08:53:32.643Z"
   },
   {
    "duration": 10,
    "start_time": "2022-07-11T08:53:34.108Z"
   },
   {
    "duration": 2,
    "start_time": "2022-07-11T08:54:50.011Z"
   },
   {
    "duration": 21,
    "start_time": "2022-07-11T08:54:51.353Z"
   },
   {
    "duration": 3,
    "start_time": "2022-07-11T08:56:51.652Z"
   },
   {
    "duration": 22,
    "start_time": "2022-07-11T08:56:52.556Z"
   },
   {
    "duration": 3,
    "start_time": "2022-07-11T08:57:27.381Z"
   },
   {
    "duration": 23,
    "start_time": "2022-07-11T08:57:28.819Z"
   },
   {
    "duration": 18,
    "start_time": "2022-07-11T08:59:10.634Z"
   },
   {
    "duration": 19,
    "start_time": "2022-07-11T08:59:32.327Z"
   },
   {
    "duration": 16,
    "start_time": "2022-07-11T08:59:55.319Z"
   },
   {
    "duration": 2,
    "start_time": "2022-07-11T09:27:06.928Z"
   },
   {
    "duration": 3,
    "start_time": "2022-07-11T09:28:13.039Z"
   },
   {
    "duration": 22,
    "start_time": "2022-07-11T09:28:15.657Z"
   },
   {
    "duration": 7,
    "start_time": "2022-07-11T09:29:06.538Z"
   },
   {
    "duration": 3,
    "start_time": "2022-07-11T09:29:38.533Z"
   },
   {
    "duration": 3,
    "start_time": "2022-07-11T09:29:39.565Z"
   },
   {
    "duration": 23,
    "start_time": "2022-07-11T09:29:40.175Z"
   },
   {
    "duration": 6,
    "start_time": "2022-07-11T09:29:44.102Z"
   },
   {
    "duration": 9,
    "start_time": "2022-07-11T09:31:06.758Z"
   },
   {
    "duration": 7,
    "start_time": "2022-07-11T09:31:21.026Z"
   },
   {
    "duration": 2,
    "start_time": "2022-07-11T09:31:41.322Z"
   },
   {
    "duration": 4,
    "start_time": "2022-07-11T09:31:57.779Z"
   },
   {
    "duration": 9,
    "start_time": "2022-07-11T09:32:20.669Z"
   },
   {
    "duration": 3,
    "start_time": "2022-07-11T09:32:27.443Z"
   },
   {
    "duration": 4,
    "start_time": "2022-07-11T09:32:30.857Z"
   },
   {
    "duration": 11,
    "start_time": "2022-07-11T09:32:35.415Z"
   },
   {
    "duration": 3,
    "start_time": "2022-07-11T09:32:49.404Z"
   },
   {
    "duration": 10,
    "start_time": "2022-07-11T09:32:52.956Z"
   },
   {
    "duration": 2,
    "start_time": "2022-07-11T09:35:22.622Z"
   },
   {
    "duration": 3,
    "start_time": "2022-07-11T09:36:33.779Z"
   },
   {
    "duration": 8,
    "start_time": "2022-07-11T09:36:34.446Z"
   },
   {
    "duration": 3,
    "start_time": "2022-07-11T09:36:40.733Z"
   },
   {
    "duration": 4,
    "start_time": "2022-07-11T09:36:52.381Z"
   },
   {
    "duration": 7,
    "start_time": "2022-07-11T09:39:08.357Z"
   },
   {
    "duration": 4,
    "start_time": "2022-07-11T09:39:19.805Z"
   },
   {
    "duration": 27,
    "start_time": "2022-07-11T09:39:54.682Z"
   },
   {
    "duration": 3,
    "start_time": "2022-07-11T09:40:05.793Z"
   },
   {
    "duration": 3,
    "start_time": "2022-07-11T09:40:39.189Z"
   },
   {
    "duration": 3,
    "start_time": "2022-07-11T09:43:57.285Z"
   },
   {
    "duration": 4,
    "start_time": "2022-07-11T09:44:11.724Z"
   },
   {
    "duration": 9,
    "start_time": "2022-07-11T09:44:34.988Z"
   },
   {
    "duration": 5,
    "start_time": "2022-07-11T09:44:40.981Z"
   },
   {
    "duration": 5,
    "start_time": "2022-07-11T09:44:48.134Z"
   },
   {
    "duration": 4,
    "start_time": "2022-07-11T09:45:10.795Z"
   },
   {
    "duration": 5,
    "start_time": "2022-07-11T09:45:24.301Z"
   },
   {
    "duration": 5,
    "start_time": "2022-07-11T09:45:28.573Z"
   },
   {
    "duration": 5,
    "start_time": "2022-07-11T09:45:39.157Z"
   },
   {
    "duration": 53,
    "start_time": "2022-07-11T09:49:47.925Z"
   },
   {
    "duration": 11,
    "start_time": "2022-07-11T09:49:55.350Z"
   },
   {
    "duration": 4,
    "start_time": "2022-07-11T09:50:00.373Z"
   },
   {
    "duration": 46,
    "start_time": "2022-07-11T09:50:14.161Z"
   },
   {
    "duration": 5,
    "start_time": "2022-07-11T09:50:42.935Z"
   },
   {
    "duration": 5,
    "start_time": "2022-07-11T09:51:20.387Z"
   },
   {
    "duration": 8,
    "start_time": "2022-07-11T09:55:20.443Z"
   },
   {
    "duration": 5,
    "start_time": "2022-07-11T09:55:33.624Z"
   },
   {
    "duration": 3,
    "start_time": "2022-07-11T09:56:01.850Z"
   },
   {
    "duration": 5,
    "start_time": "2022-07-11T09:56:12.928Z"
   },
   {
    "duration": 3,
    "start_time": "2022-07-11T10:04:53.477Z"
   },
   {
    "duration": 4,
    "start_time": "2022-07-11T10:06:06.983Z"
   },
   {
    "duration": 9,
    "start_time": "2022-07-11T10:08:15.855Z"
   },
   {
    "duration": 4,
    "start_time": "2022-07-11T10:09:37.843Z"
   },
   {
    "duration": 7,
    "start_time": "2022-07-11T10:09:40.167Z"
   },
   {
    "duration": 10,
    "start_time": "2022-07-11T10:10:00.232Z"
   },
   {
    "duration": 7,
    "start_time": "2022-07-11T10:10:18.281Z"
   },
   {
    "duration": 6,
    "start_time": "2022-07-11T10:11:02.262Z"
   },
   {
    "duration": 7,
    "start_time": "2022-07-11T10:11:06.782Z"
   },
   {
    "duration": 3,
    "start_time": "2022-07-11T10:11:45.242Z"
   },
   {
    "duration": 18,
    "start_time": "2022-07-11T10:11:56.094Z"
   },
   {
    "duration": 4,
    "start_time": "2022-07-11T10:20:02.618Z"
   },
   {
    "duration": 1054,
    "start_time": "2022-07-11T10:20:07.751Z"
   },
   {
    "duration": 4,
    "start_time": "2022-07-11T10:21:03.470Z"
   },
   {
    "duration": 1230,
    "start_time": "2022-07-11T10:21:07.006Z"
   },
   {
    "duration": 5,
    "start_time": "2022-07-11T10:21:44.767Z"
   },
   {
    "duration": 16,
    "start_time": "2022-07-11T10:21:48.029Z"
   },
   {
    "duration": 19,
    "start_time": "2022-07-11T10:22:40.999Z"
   },
   {
    "duration": 326,
    "start_time": "2022-07-11T10:22:58.497Z"
   },
   {
    "duration": 63,
    "start_time": "2022-07-11T10:22:58.825Z"
   },
   {
    "duration": 4,
    "start_time": "2022-07-11T10:22:58.890Z"
   },
   {
    "duration": 7,
    "start_time": "2022-07-11T10:22:58.896Z"
   },
   {
    "duration": 62,
    "start_time": "2022-07-11T10:22:58.905Z"
   },
   {
    "duration": 0,
    "start_time": "2022-07-11T10:22:58.969Z"
   },
   {
    "duration": 0,
    "start_time": "2022-07-11T10:22:58.971Z"
   },
   {
    "duration": 0,
    "start_time": "2022-07-11T10:22:58.973Z"
   },
   {
    "duration": 0,
    "start_time": "2022-07-11T10:22:58.974Z"
   },
   {
    "duration": 0,
    "start_time": "2022-07-11T10:22:58.975Z"
   },
   {
    "duration": 0,
    "start_time": "2022-07-11T10:22:58.976Z"
   },
   {
    "duration": 0,
    "start_time": "2022-07-11T10:22:58.978Z"
   },
   {
    "duration": 0,
    "start_time": "2022-07-11T10:22:58.979Z"
   },
   {
    "duration": 0,
    "start_time": "2022-07-11T10:22:58.980Z"
   },
   {
    "duration": 0,
    "start_time": "2022-07-11T10:22:58.981Z"
   },
   {
    "duration": 0,
    "start_time": "2022-07-11T10:22:58.983Z"
   },
   {
    "duration": 0,
    "start_time": "2022-07-11T10:22:58.985Z"
   },
   {
    "duration": 0,
    "start_time": "2022-07-11T10:22:58.986Z"
   },
   {
    "duration": 4,
    "start_time": "2022-07-11T10:23:51.772Z"
   },
   {
    "duration": 20,
    "start_time": "2022-07-11T10:23:56.162Z"
   },
   {
    "duration": 16,
    "start_time": "2022-07-11T10:24:01.190Z"
   },
   {
    "duration": 339,
    "start_time": "2022-07-11T10:28:23.804Z"
   },
   {
    "duration": 64,
    "start_time": "2022-07-11T10:28:24.145Z"
   },
   {
    "duration": 4,
    "start_time": "2022-07-11T10:28:24.211Z"
   },
   {
    "duration": 8,
    "start_time": "2022-07-11T10:28:24.216Z"
   },
   {
    "duration": 22,
    "start_time": "2022-07-11T10:28:24.226Z"
   },
   {
    "duration": 14,
    "start_time": "2022-07-11T10:28:24.249Z"
   },
   {
    "duration": 18,
    "start_time": "2022-07-11T10:28:24.264Z"
   },
   {
    "duration": 6,
    "start_time": "2022-07-11T10:28:24.283Z"
   },
   {
    "duration": 5,
    "start_time": "2022-07-11T10:28:24.291Z"
   },
   {
    "duration": 6,
    "start_time": "2022-07-11T10:28:24.298Z"
   },
   {
    "duration": 16,
    "start_time": "2022-07-11T10:28:24.305Z"
   },
   {
    "duration": 6,
    "start_time": "2022-07-11T10:28:24.322Z"
   },
   {
    "duration": 13,
    "start_time": "2022-07-11T10:28:24.329Z"
   },
   {
    "duration": 7,
    "start_time": "2022-07-11T10:28:24.345Z"
   },
   {
    "duration": 7,
    "start_time": "2022-07-11T10:28:24.353Z"
   },
   {
    "duration": 17,
    "start_time": "2022-07-11T10:28:24.362Z"
   },
   {
    "duration": 18,
    "start_time": "2022-07-11T10:28:24.380Z"
   },
   {
    "duration": 17,
    "start_time": "2022-07-11T10:28:24.400Z"
   },
   {
    "duration": 5,
    "start_time": "2022-07-11T10:33:17.371Z"
   },
   {
    "duration": 392,
    "start_time": "2022-07-11T15:33:41.784Z"
   },
   {
    "duration": 211,
    "start_time": "2022-07-11T15:33:42.178Z"
   },
   {
    "duration": 4,
    "start_time": "2022-07-11T15:33:42.391Z"
   },
   {
    "duration": 50,
    "start_time": "2022-07-11T15:33:42.397Z"
   },
   {
    "duration": 52,
    "start_time": "2022-07-11T15:33:42.449Z"
   },
   {
    "duration": 15,
    "start_time": "2022-07-11T15:33:42.503Z"
   },
   {
    "duration": 90,
    "start_time": "2022-07-11T15:33:42.520Z"
   },
   {
    "duration": 0,
    "start_time": "2022-07-11T15:33:42.613Z"
   },
   {
    "duration": 0,
    "start_time": "2022-07-11T15:33:42.614Z"
   },
   {
    "duration": 0,
    "start_time": "2022-07-11T15:33:42.615Z"
   },
   {
    "duration": 0,
    "start_time": "2022-07-11T15:33:42.617Z"
   },
   {
    "duration": 0,
    "start_time": "2022-07-11T15:33:42.618Z"
   },
   {
    "duration": 0,
    "start_time": "2022-07-11T15:33:42.619Z"
   },
   {
    "duration": 0,
    "start_time": "2022-07-11T15:33:42.621Z"
   },
   {
    "duration": 0,
    "start_time": "2022-07-11T15:33:42.622Z"
   },
   {
    "duration": 0,
    "start_time": "2022-07-11T15:33:42.624Z"
   },
   {
    "duration": 0,
    "start_time": "2022-07-11T15:33:42.625Z"
   },
   {
    "duration": 0,
    "start_time": "2022-07-11T15:33:42.626Z"
   },
   {
    "duration": 5,
    "start_time": "2022-07-11T15:34:39.674Z"
   },
   {
    "duration": 3,
    "start_time": "2022-07-11T15:34:41.929Z"
   },
   {
    "duration": 44,
    "start_time": "2022-07-11T15:34:42.610Z"
   },
   {
    "duration": 7,
    "start_time": "2022-07-11T15:35:50.393Z"
   },
   {
    "duration": 4,
    "start_time": "2022-07-11T15:35:59.113Z"
   },
   {
    "duration": 3,
    "start_time": "2022-07-11T15:36:00.538Z"
   },
   {
    "duration": 34,
    "start_time": "2022-07-11T15:36:06.106Z"
   },
   {
    "duration": 7,
    "start_time": "2022-07-11T15:36:44.480Z"
   },
   {
    "duration": 4,
    "start_time": "2022-07-11T15:36:56.289Z"
   },
   {
    "duration": 38,
    "start_time": "2022-07-11T15:45:48.217Z"
   },
   {
    "duration": 11,
    "start_time": "2022-07-11T15:49:54.079Z"
   },
   {
    "duration": 12,
    "start_time": "2022-07-11T15:49:56.974Z"
   },
   {
    "duration": 13,
    "start_time": "2022-07-11T15:50:02.814Z"
   },
   {
    "duration": 10,
    "start_time": "2022-07-11T15:50:06.070Z"
   },
   {
    "duration": 402,
    "start_time": "2022-07-11T15:50:11.840Z"
   },
   {
    "duration": 68,
    "start_time": "2022-07-11T15:50:12.244Z"
   },
   {
    "duration": 16,
    "start_time": "2022-07-11T15:50:12.314Z"
   },
   {
    "duration": 11,
    "start_time": "2022-07-11T15:50:12.332Z"
   },
   {
    "duration": 15,
    "start_time": "2022-07-11T15:50:12.344Z"
   },
   {
    "duration": 14,
    "start_time": "2022-07-11T15:50:12.361Z"
   },
   {
    "duration": 6,
    "start_time": "2022-07-11T15:50:12.377Z"
   },
   {
    "duration": 11,
    "start_time": "2022-07-11T15:50:12.384Z"
   },
   {
    "duration": 61,
    "start_time": "2022-07-11T15:50:12.396Z"
   },
   {
    "duration": 79,
    "start_time": "2022-07-11T15:50:12.459Z"
   },
   {
    "duration": 0,
    "start_time": "2022-07-11T15:50:12.539Z"
   },
   {
    "duration": 0,
    "start_time": "2022-07-11T15:50:12.541Z"
   },
   {
    "duration": 0,
    "start_time": "2022-07-11T15:50:12.542Z"
   },
   {
    "duration": 0,
    "start_time": "2022-07-11T15:50:12.543Z"
   },
   {
    "duration": 0,
    "start_time": "2022-07-11T15:50:12.544Z"
   },
   {
    "duration": 0,
    "start_time": "2022-07-11T15:50:12.545Z"
   },
   {
    "duration": 0,
    "start_time": "2022-07-11T15:50:12.546Z"
   },
   {
    "duration": 0,
    "start_time": "2022-07-11T15:50:12.547Z"
   },
   {
    "duration": 0,
    "start_time": "2022-07-11T15:50:12.548Z"
   },
   {
    "duration": 46,
    "start_time": "2022-07-11T15:58:43.961Z"
   },
   {
    "duration": 10,
    "start_time": "2022-07-11T15:59:20.361Z"
   },
   {
    "duration": 6,
    "start_time": "2022-07-11T15:59:41.961Z"
   },
   {
    "duration": 6,
    "start_time": "2022-07-11T16:00:06.888Z"
   },
   {
    "duration": 10,
    "start_time": "2022-07-11T16:06:56.424Z"
   },
   {
    "duration": 4,
    "start_time": "2022-07-11T16:07:02.425Z"
   },
   {
    "duration": 4,
    "start_time": "2022-07-11T16:07:03.745Z"
   },
   {
    "duration": 4,
    "start_time": "2022-07-11T16:07:20.287Z"
   },
   {
    "duration": 1919,
    "start_time": "2022-07-11T16:07:21.073Z"
   },
   {
    "duration": 2652,
    "start_time": "2022-07-11T16:07:55.616Z"
   },
   {
    "duration": 5,
    "start_time": "2022-07-11T16:09:52.455Z"
   },
   {
    "duration": 4,
    "start_time": "2022-07-11T16:10:29.816Z"
   },
   {
    "duration": 10,
    "start_time": "2022-07-11T16:11:54.423Z"
   },
   {
    "duration": 9,
    "start_time": "2022-07-11T16:13:06.985Z"
   },
   {
    "duration": 3,
    "start_time": "2022-07-11T16:13:29.319Z"
   },
   {
    "duration": 18,
    "start_time": "2022-07-11T16:13:31.783Z"
   },
   {
    "duration": 4,
    "start_time": "2022-07-11T16:13:49.046Z"
   },
   {
    "duration": 7,
    "start_time": "2022-07-11T16:13:50.814Z"
   },
   {
    "duration": 28,
    "start_time": "2022-07-11T16:13:51.382Z"
   },
   {
    "duration": 5,
    "start_time": "2022-07-11T16:14:06.319Z"
   },
   {
    "duration": 6,
    "start_time": "2022-07-11T16:14:07.088Z"
   },
   {
    "duration": 30,
    "start_time": "2022-07-11T16:14:07.785Z"
   },
   {
    "duration": 4,
    "start_time": "2022-07-11T16:15:08.399Z"
   },
   {
    "duration": 7,
    "start_time": "2022-07-11T16:15:09.076Z"
   },
   {
    "duration": 51,
    "start_time": "2022-07-11T16:15:09.947Z"
   },
   {
    "duration": 4,
    "start_time": "2022-07-11T16:16:56.214Z"
   },
   {
    "duration": 36,
    "start_time": "2022-07-11T16:16:58.902Z"
   },
   {
    "duration": 31,
    "start_time": "2022-07-11T17:45:20.005Z"
   },
   {
    "duration": 16,
    "start_time": "2022-07-11T17:45:53.764Z"
   },
   {
    "duration": 55,
    "start_time": "2022-07-11T17:58:47.183Z"
   },
   {
    "duration": 25,
    "start_time": "2022-07-11T18:00:08.557Z"
   },
   {
    "duration": 5,
    "start_time": "2022-07-11T18:20:32.836Z"
   },
   {
    "duration": 415,
    "start_time": "2022-07-11T18:28:07.609Z"
   },
   {
    "duration": 71,
    "start_time": "2022-07-11T18:28:08.026Z"
   },
   {
    "duration": 14,
    "start_time": "2022-07-11T18:28:08.099Z"
   },
   {
    "duration": 17,
    "start_time": "2022-07-11T18:28:08.115Z"
   },
   {
    "duration": 15,
    "start_time": "2022-07-11T18:28:08.135Z"
   },
   {
    "duration": 13,
    "start_time": "2022-07-11T18:28:08.151Z"
   },
   {
    "duration": 9,
    "start_time": "2022-07-11T18:28:08.166Z"
   },
   {
    "duration": 11,
    "start_time": "2022-07-11T18:28:08.176Z"
   },
   {
    "duration": 8,
    "start_time": "2022-07-11T18:28:08.188Z"
   },
   {
    "duration": 52,
    "start_time": "2022-07-11T18:28:08.198Z"
   },
   {
    "duration": 74,
    "start_time": "2022-07-11T18:28:08.251Z"
   },
   {
    "duration": 33,
    "start_time": "2022-07-11T18:28:08.328Z"
   },
   {
    "duration": 18,
    "start_time": "2022-07-11T18:28:08.363Z"
   },
   {
    "duration": 60,
    "start_time": "2022-07-11T18:28:08.383Z"
   },
   {
    "duration": 28,
    "start_time": "2022-07-11T18:28:08.445Z"
   },
   {
    "duration": 21,
    "start_time": "2022-07-11T18:30:21.505Z"
   },
   {
    "duration": 6,
    "start_time": "2022-07-11T18:30:42.901Z"
   },
   {
    "duration": 853,
    "start_time": "2022-07-11T18:35:09.188Z"
   },
   {
    "duration": 6,
    "start_time": "2022-07-11T18:35:20.700Z"
   },
   {
    "duration": 896,
    "start_time": "2022-07-11T18:35:39.009Z"
   },
   {
    "duration": 52,
    "start_time": "2022-07-11T18:36:18.137Z"
   },
   {
    "duration": 6,
    "start_time": "2022-07-11T18:36:23.899Z"
   },
   {
    "duration": 22,
    "start_time": "2022-07-11T18:41:11.742Z"
   },
   {
    "duration": 15,
    "start_time": "2022-07-11T18:41:33.082Z"
   },
   {
    "duration": 16,
    "start_time": "2022-07-11T18:42:07.756Z"
   },
   {
    "duration": 19,
    "start_time": "2022-07-11T18:42:31.209Z"
   },
   {
    "duration": 51,
    "start_time": "2022-07-11T18:48:55.552Z"
   },
   {
    "duration": 10,
    "start_time": "2022-07-11T19:03:06.984Z"
   },
   {
    "duration": 10,
    "start_time": "2022-07-11T19:03:46.877Z"
   },
   {
    "duration": 8,
    "start_time": "2022-07-11T19:05:46.340Z"
   },
   {
    "duration": 8,
    "start_time": "2022-07-11T19:06:00.717Z"
   },
   {
    "duration": 7,
    "start_time": "2022-07-11T19:11:04.980Z"
   },
   {
    "duration": 944,
    "start_time": "2022-07-11T19:11:14.944Z"
   },
   {
    "duration": 7,
    "start_time": "2022-07-11T19:11:28.205Z"
   },
   {
    "duration": 65,
    "start_time": "2022-07-11T19:12:43.041Z"
   },
   {
    "duration": 62,
    "start_time": "2022-07-11T19:13:15.184Z"
   },
   {
    "duration": 47,
    "start_time": "2022-07-11T19:13:28.296Z"
   },
   {
    "duration": 80,
    "start_time": "2022-07-11T19:13:39.502Z"
   },
   {
    "duration": 72,
    "start_time": "2022-07-11T19:14:35.059Z"
   },
   {
    "duration": 24,
    "start_time": "2022-07-11T19:15:01.171Z"
   },
   {
    "duration": 12,
    "start_time": "2022-07-11T19:17:53.046Z"
   },
   {
    "duration": 26,
    "start_time": "2022-07-11T19:22:49.879Z"
   },
   {
    "duration": 61,
    "start_time": "2022-07-11T19:24:53.418Z"
   },
   {
    "duration": 12,
    "start_time": "2022-07-11T19:25:01.857Z"
   },
   {
    "duration": 76,
    "start_time": "2022-07-11T19:25:25.601Z"
   },
   {
    "duration": 12,
    "start_time": "2022-07-11T19:25:39.450Z"
   },
   {
    "duration": 17,
    "start_time": "2022-07-11T19:27:25.363Z"
   },
   {
    "duration": 6,
    "start_time": "2022-07-11T19:27:33.943Z"
   },
   {
    "duration": 57,
    "start_time": "2022-07-11T19:28:25.553Z"
   },
   {
    "duration": 50,
    "start_time": "2022-07-11T19:28:32.496Z"
   },
   {
    "duration": 46,
    "start_time": "2022-07-11T19:28:59.367Z"
   },
   {
    "duration": 117,
    "start_time": "2022-07-11T19:29:40.916Z"
   },
   {
    "duration": 82,
    "start_time": "2022-07-11T19:29:50.457Z"
   },
   {
    "duration": 71,
    "start_time": "2022-07-11T19:30:10.960Z"
   },
   {
    "duration": 15,
    "start_time": "2022-07-11T19:43:34.087Z"
   },
   {
    "duration": 20,
    "start_time": "2022-07-11T19:43:47.964Z"
   },
   {
    "duration": 32,
    "start_time": "2022-07-11T19:45:01.673Z"
   },
   {
    "duration": 33,
    "start_time": "2022-07-11T19:45:02.464Z"
   },
   {
    "duration": 15,
    "start_time": "2022-07-11T19:46:07.569Z"
   },
   {
    "duration": 3,
    "start_time": "2022-07-11T19:52:05.709Z"
   },
   {
    "duration": 18,
    "start_time": "2022-07-11T19:52:27.159Z"
   },
   {
    "duration": 5,
    "start_time": "2022-07-11T19:53:39.739Z"
   },
   {
    "duration": 33,
    "start_time": "2022-07-11T19:54:27.588Z"
   },
   {
    "duration": 17,
    "start_time": "2022-07-11T19:54:47.285Z"
   },
   {
    "duration": 5,
    "start_time": "2022-07-11T19:55:38.980Z"
   },
   {
    "duration": 38,
    "start_time": "2022-07-11T19:56:33.301Z"
   },
   {
    "duration": 13,
    "start_time": "2022-07-11T19:56:36.265Z"
   },
   {
    "duration": 30,
    "start_time": "2022-07-11T19:56:38.848Z"
   },
   {
    "duration": 12,
    "start_time": "2022-07-11T19:56:39.901Z"
   },
   {
    "duration": 38,
    "start_time": "2022-07-11T19:57:39.117Z"
   },
   {
    "duration": 17,
    "start_time": "2022-07-11T19:57:52.717Z"
   },
   {
    "duration": 16,
    "start_time": "2022-07-11T19:58:02.212Z"
   },
   {
    "duration": 50,
    "start_time": "2022-07-11T20:01:58.746Z"
   },
   {
    "duration": 21,
    "start_time": "2022-07-11T20:02:54.246Z"
   },
   {
    "duration": 19,
    "start_time": "2022-07-11T20:03:08.117Z"
   },
   {
    "duration": 22,
    "start_time": "2022-07-11T20:13:00.476Z"
   },
   {
    "duration": 17,
    "start_time": "2022-07-11T20:13:01.603Z"
   },
   {
    "duration": 22,
    "start_time": "2022-07-11T20:13:19.779Z"
   },
   {
    "duration": 405,
    "start_time": "2022-07-11T20:13:50.217Z"
   },
   {
    "duration": 72,
    "start_time": "2022-07-11T20:13:50.624Z"
   },
   {
    "duration": 4,
    "start_time": "2022-07-11T20:13:50.697Z"
   },
   {
    "duration": 6,
    "start_time": "2022-07-11T20:13:50.704Z"
   },
   {
    "duration": 8,
    "start_time": "2022-07-11T20:13:50.711Z"
   },
   {
    "duration": 46,
    "start_time": "2022-07-11T20:13:50.720Z"
   },
   {
    "duration": 27,
    "start_time": "2022-07-11T20:13:50.767Z"
   },
   {
    "duration": 51,
    "start_time": "2022-07-11T20:13:50.796Z"
   },
   {
    "duration": 16,
    "start_time": "2022-07-11T20:13:50.849Z"
   },
   {
    "duration": 23,
    "start_time": "2022-07-11T20:13:50.867Z"
   },
   {
    "duration": 56,
    "start_time": "2022-07-11T20:13:50.892Z"
   },
   {
    "duration": 17,
    "start_time": "2022-07-11T20:13:50.949Z"
   },
   {
    "duration": 6,
    "start_time": "2022-07-11T20:13:50.967Z"
   },
   {
    "duration": 99,
    "start_time": "2022-07-11T20:13:50.974Z"
   },
   {
    "duration": 24,
    "start_time": "2022-07-11T20:13:51.075Z"
   },
   {
    "duration": 41,
    "start_time": "2022-07-11T20:13:51.100Z"
   },
   {
    "duration": 25,
    "start_time": "2022-07-11T20:13:51.143Z"
   },
   {
    "duration": 6,
    "start_time": "2022-07-11T20:15:14.344Z"
   },
   {
    "duration": 1768,
    "start_time": "2022-07-12T18:42:44.670Z"
   },
   {
    "duration": 433,
    "start_time": "2022-07-12T18:42:46.440Z"
   },
   {
    "duration": 3,
    "start_time": "2022-07-12T18:42:46.875Z"
   },
   {
    "duration": 9,
    "start_time": "2022-07-12T18:42:46.880Z"
   },
   {
    "duration": 39,
    "start_time": "2022-07-12T18:42:46.892Z"
   },
   {
    "duration": 9,
    "start_time": "2022-07-12T18:42:46.933Z"
   },
   {
    "duration": 10,
    "start_time": "2022-07-12T18:42:46.943Z"
   },
   {
    "duration": 14,
    "start_time": "2022-07-12T18:42:46.955Z"
   },
   {
    "duration": 35,
    "start_time": "2022-07-12T18:42:46.971Z"
   },
   {
    "duration": 35,
    "start_time": "2022-07-12T18:42:47.009Z"
   },
   {
    "duration": 68,
    "start_time": "2022-07-12T18:42:47.046Z"
   },
   {
    "duration": 21,
    "start_time": "2022-07-12T18:42:47.116Z"
   },
   {
    "duration": 23,
    "start_time": "2022-07-12T18:42:47.138Z"
   },
   {
    "duration": 30,
    "start_time": "2022-07-12T18:42:47.204Z"
   },
   {
    "duration": 18,
    "start_time": "2022-07-12T18:42:47.236Z"
   },
   {
    "duration": 51,
    "start_time": "2022-07-12T18:42:47.256Z"
   },
   {
    "duration": 105,
    "start_time": "2022-07-12T18:42:47.310Z"
   },
   {
    "duration": 4,
    "start_time": "2022-07-12T18:42:47.418Z"
   },
   {
    "duration": 64,
    "start_time": "2022-07-12T18:42:47.425Z"
   },
   {
    "duration": 22,
    "start_time": "2022-07-12T18:42:47.491Z"
   },
   {
    "duration": 32,
    "start_time": "2022-07-12T18:42:47.516Z"
   },
   {
    "duration": 6,
    "start_time": "2022-07-12T18:42:47.550Z"
   },
   {
    "duration": 18,
    "start_time": "2022-07-12T18:42:47.557Z"
   },
   {
    "duration": 53,
    "start_time": "2022-07-12T18:42:47.577Z"
   },
   {
    "duration": 19,
    "start_time": "2022-07-12T18:42:47.632Z"
   },
   {
    "duration": 21,
    "start_time": "2022-07-12T18:42:47.653Z"
   },
   {
    "duration": 40,
    "start_time": "2022-07-12T18:42:47.676Z"
   },
   {
    "duration": 24,
    "start_time": "2022-07-12T18:42:47.719Z"
   },
   {
    "duration": 13,
    "start_time": "2022-07-12T18:42:47.745Z"
   },
   {
    "duration": 61,
    "start_time": "2022-07-12T18:42:47.760Z"
   },
   {
    "duration": 5,
    "start_time": "2022-07-12T18:42:47.823Z"
   },
   {
    "duration": 16,
    "start_time": "2022-07-12T18:42:47.830Z"
   },
   {
    "duration": 7,
    "start_time": "2022-07-12T18:42:47.848Z"
   },
   {
    "duration": 66,
    "start_time": "2022-07-12T18:42:47.857Z"
   },
   {
    "duration": 3,
    "start_time": "2022-07-12T18:42:47.925Z"
   },
   {
    "duration": 10,
    "start_time": "2022-07-12T18:42:47.930Z"
   },
   {
    "duration": 8,
    "start_time": "2022-07-12T18:42:47.942Z"
   },
   {
    "duration": 73,
    "start_time": "2022-07-12T18:42:47.952Z"
   },
   {
    "duration": 1736,
    "start_time": "2022-07-12T18:42:48.026Z"
   },
   {
    "duration": 579,
    "start_time": "2022-07-12T18:42:49.764Z"
   },
   {
    "duration": 13,
    "start_time": "2022-07-12T18:42:50.349Z"
   },
   {
    "duration": 5,
    "start_time": "2022-07-12T18:42:50.364Z"
   },
   {
    "duration": 34,
    "start_time": "2022-07-12T18:42:50.371Z"
   },
   {
    "duration": 7,
    "start_time": "2022-07-12T18:42:50.408Z"
   },
   {
    "duration": 20,
    "start_time": "2022-07-12T18:42:50.419Z"
   },
   {
    "duration": 32,
    "start_time": "2022-07-12T18:42:50.441Z"
   },
   {
    "duration": 7,
    "start_time": "2022-07-12T18:42:50.475Z"
   },
   {
    "duration": 19,
    "start_time": "2022-07-12T18:42:50.485Z"
   },
   {
    "duration": 42,
    "start_time": "2022-07-12T18:42:50.508Z"
   },
   {
    "duration": 20,
    "start_time": "2022-07-12T18:42:50.553Z"
   },
   {
    "duration": 2,
    "start_time": "2022-07-12T18:42:50.576Z"
   },
   {
    "duration": 9,
    "start_time": "2022-07-12T18:42:50.604Z"
   },
   {
    "duration": 16,
    "start_time": "2022-07-12T18:42:50.616Z"
   },
   {
    "duration": 10,
    "start_time": "2022-07-12T18:42:50.636Z"
   },
   {
    "duration": 3,
    "start_time": "2022-07-12T18:42:50.649Z"
   },
   {
    "duration": 12,
    "start_time": "2022-07-12T18:42:50.653Z"
   },
   {
    "duration": 39,
    "start_time": "2022-07-12T18:42:50.666Z"
   },
   {
    "duration": 26,
    "start_time": "2022-07-12T18:42:50.710Z"
   },
   {
    "duration": 12,
    "start_time": "2022-07-12T18:42:50.741Z"
   },
   {
    "duration": 14,
    "start_time": "2022-07-12T18:42:50.756Z"
   },
   {
    "duration": 12,
    "start_time": "2022-07-12T18:42:50.773Z"
   },
   {
    "duration": 21,
    "start_time": "2022-07-12T18:42:50.788Z"
   },
   {
    "duration": 11,
    "start_time": "2022-07-12T18:42:50.811Z"
   },
   {
    "duration": 9,
    "start_time": "2022-07-12T18:42:50.825Z"
   },
   {
    "duration": 10,
    "start_time": "2022-07-12T18:42:50.836Z"
   },
   {
    "duration": 56358,
    "start_time": "2022-07-12T18:42:50.849Z"
   },
   {
    "duration": 316,
    "start_time": "2022-07-12T18:43:47.209Z"
   },
   {
    "duration": 146,
    "start_time": "2022-07-12T18:43:47.526Z"
   },
   {
    "duration": 138,
    "start_time": "2022-07-12T18:43:47.673Z"
   },
   {
    "duration": 4,
    "start_time": "2022-07-12T18:43:47.813Z"
   },
   {
    "duration": 9,
    "start_time": "2022-07-12T18:43:47.818Z"
   },
   {
    "duration": 34003,
    "start_time": "2022-07-12T18:43:47.828Z"
   },
   {
    "duration": 132,
    "start_time": "2022-07-12T18:44:21.833Z"
   },
   {
    "duration": 147432,
    "start_time": "2022-07-12T18:44:21.967Z"
   },
   {
    "duration": 121,
    "start_time": "2022-07-12T18:46:49.401Z"
   },
   {
    "duration": 1919,
    "start_time": "2022-07-12T18:48:39.444Z"
   },
   {
    "duration": 104,
    "start_time": "2022-07-12T18:48:41.365Z"
   },
   {
    "duration": 3,
    "start_time": "2022-07-12T18:48:41.470Z"
   },
   {
    "duration": 11,
    "start_time": "2022-07-12T18:48:41.475Z"
   },
   {
    "duration": 11,
    "start_time": "2022-07-12T18:48:41.488Z"
   },
   {
    "duration": 8,
    "start_time": "2022-07-12T18:48:41.500Z"
   },
   {
    "duration": 10,
    "start_time": "2022-07-12T18:48:41.509Z"
   },
   {
    "duration": 9,
    "start_time": "2022-07-12T18:48:41.521Z"
   },
   {
    "duration": 34,
    "start_time": "2022-07-12T18:48:41.532Z"
   },
   {
    "duration": 50,
    "start_time": "2022-07-12T18:48:41.567Z"
   },
   {
    "duration": 23,
    "start_time": "2022-07-12T18:48:41.619Z"
   },
   {
    "duration": 60,
    "start_time": "2022-07-12T18:48:41.644Z"
   },
   {
    "duration": 23,
    "start_time": "2022-07-12T18:48:41.706Z"
   },
   {
    "duration": 26,
    "start_time": "2022-07-12T18:48:41.732Z"
   },
   {
    "duration": 60,
    "start_time": "2022-07-12T18:48:41.760Z"
   },
   {
    "duration": 7,
    "start_time": "2022-07-12T18:48:41.821Z"
   },
   {
    "duration": 93,
    "start_time": "2022-07-12T18:48:41.831Z"
   },
   {
    "duration": 2,
    "start_time": "2022-07-12T18:48:41.926Z"
   },
   {
    "duration": 31,
    "start_time": "2022-07-12T18:48:41.930Z"
   },
   {
    "duration": 42,
    "start_time": "2022-07-12T18:48:41.962Z"
   },
   {
    "duration": 27,
    "start_time": "2022-07-12T18:48:42.006Z"
   },
   {
    "duration": 5,
    "start_time": "2022-07-12T18:48:42.036Z"
   },
   {
    "duration": 13,
    "start_time": "2022-07-12T18:48:42.043Z"
   },
   {
    "duration": 54,
    "start_time": "2022-07-12T18:48:42.058Z"
   },
   {
    "duration": 17,
    "start_time": "2022-07-12T18:48:42.114Z"
   },
   {
    "duration": 26,
    "start_time": "2022-07-12T18:48:42.133Z"
   },
   {
    "duration": 11,
    "start_time": "2022-07-12T18:48:42.161Z"
   },
   {
    "duration": 19,
    "start_time": "2022-07-12T18:48:42.205Z"
   },
   {
    "duration": 11,
    "start_time": "2022-07-12T18:48:42.225Z"
   },
   {
    "duration": 27,
    "start_time": "2022-07-12T18:48:42.237Z"
   },
   {
    "duration": 4,
    "start_time": "2022-07-12T18:48:42.266Z"
   },
   {
    "duration": 41,
    "start_time": "2022-07-12T18:48:42.271Z"
   },
   {
    "duration": 6,
    "start_time": "2022-07-12T18:48:42.314Z"
   },
   {
    "duration": 49,
    "start_time": "2022-07-12T18:48:42.321Z"
   },
   {
    "duration": 3,
    "start_time": "2022-07-12T18:48:42.372Z"
   },
   {
    "duration": 9,
    "start_time": "2022-07-12T18:48:42.404Z"
   },
   {
    "duration": 17,
    "start_time": "2022-07-12T18:48:42.415Z"
   },
   {
    "duration": 45,
    "start_time": "2022-07-12T18:48:42.434Z"
   },
   {
    "duration": 1608,
    "start_time": "2022-07-12T18:48:42.481Z"
   },
   {
    "duration": 469,
    "start_time": "2022-07-12T18:48:44.091Z"
   },
   {
    "duration": 10,
    "start_time": "2022-07-12T18:48:44.566Z"
   },
   {
    "duration": 4,
    "start_time": "2022-07-12T18:48:44.578Z"
   },
   {
    "duration": 11,
    "start_time": "2022-07-12T18:48:44.603Z"
   },
   {
    "duration": 10,
    "start_time": "2022-07-12T18:48:44.615Z"
   },
   {
    "duration": 17,
    "start_time": "2022-07-12T18:48:44.627Z"
   },
   {
    "duration": 29,
    "start_time": "2022-07-12T18:48:44.646Z"
   },
   {
    "duration": 8,
    "start_time": "2022-07-12T18:48:44.677Z"
   },
   {
    "duration": 5,
    "start_time": "2022-07-12T18:48:44.686Z"
   },
   {
    "duration": 34,
    "start_time": "2022-07-12T18:48:44.693Z"
   },
   {
    "duration": 19,
    "start_time": "2022-07-12T18:48:44.729Z"
   },
   {
    "duration": 3,
    "start_time": "2022-07-12T18:48:44.750Z"
   },
   {
    "duration": 17,
    "start_time": "2022-07-12T18:48:44.755Z"
   },
   {
    "duration": 4,
    "start_time": "2022-07-12T18:48:44.774Z"
   },
   {
    "duration": 26,
    "start_time": "2022-07-12T18:48:44.779Z"
   },
   {
    "duration": 3,
    "start_time": "2022-07-12T18:48:44.807Z"
   },
   {
    "duration": 7,
    "start_time": "2022-07-12T18:48:44.811Z"
   },
   {
    "duration": 20,
    "start_time": "2022-07-12T18:48:44.820Z"
   },
   {
    "duration": 10,
    "start_time": "2022-07-12T18:48:44.842Z"
   },
   {
    "duration": 10,
    "start_time": "2022-07-12T18:48:44.854Z"
   },
   {
    "duration": 13,
    "start_time": "2022-07-12T18:48:44.866Z"
   },
   {
    "duration": 10,
    "start_time": "2022-07-12T18:48:44.880Z"
   },
   {
    "duration": 19,
    "start_time": "2022-07-12T18:48:44.892Z"
   },
   {
    "duration": 26,
    "start_time": "2022-07-12T18:48:44.913Z"
   },
   {
    "duration": 6,
    "start_time": "2022-07-12T18:48:44.941Z"
   },
   {
    "duration": 11,
    "start_time": "2022-07-12T18:48:44.949Z"
   },
   {
    "duration": 31144,
    "start_time": "2022-07-12T18:48:44.962Z"
   },
   {
    "duration": 239,
    "start_time": "2022-07-12T18:49:16.112Z"
   },
   {
    "duration": 174,
    "start_time": "2022-07-12T18:49:16.354Z"
   },
   {
    "duration": 194,
    "start_time": "2022-07-12T18:49:16.530Z"
   },
   {
    "duration": 5,
    "start_time": "2022-07-12T18:49:16.728Z"
   },
   {
    "duration": 28,
    "start_time": "2022-07-12T18:49:16.736Z"
   },
   {
    "duration": 34178,
    "start_time": "2022-07-12T18:49:16.766Z"
   },
   {
    "duration": 129,
    "start_time": "2022-07-12T18:49:50.946Z"
   },
   {
    "duration": 154858,
    "start_time": "2022-07-12T18:49:51.077Z"
   },
   {
    "duration": 128,
    "start_time": "2022-07-12T18:52:25.937Z"
   },
   {
    "duration": 1582,
    "start_time": "2022-07-12T18:53:55.907Z"
   },
   {
    "duration": 107,
    "start_time": "2022-07-12T18:53:57.492Z"
   },
   {
    "duration": 2,
    "start_time": "2022-07-12T18:53:57.604Z"
   },
   {
    "duration": 7,
    "start_time": "2022-07-12T18:53:57.608Z"
   },
   {
    "duration": 9,
    "start_time": "2022-07-12T18:53:57.616Z"
   },
   {
    "duration": 5,
    "start_time": "2022-07-12T18:53:57.627Z"
   },
   {
    "duration": 5,
    "start_time": "2022-07-12T18:53:57.634Z"
   },
   {
    "duration": 10,
    "start_time": "2022-07-12T18:53:57.641Z"
   },
   {
    "duration": 62,
    "start_time": "2022-07-12T18:53:57.652Z"
   },
   {
    "duration": 35,
    "start_time": "2022-07-12T18:53:57.717Z"
   },
   {
    "duration": 75,
    "start_time": "2022-07-12T18:53:57.754Z"
   },
   {
    "duration": 21,
    "start_time": "2022-07-12T18:53:57.831Z"
   },
   {
    "duration": 60,
    "start_time": "2022-07-12T18:53:57.853Z"
   },
   {
    "duration": 32,
    "start_time": "2022-07-12T18:53:57.915Z"
   },
   {
    "duration": 77,
    "start_time": "2022-07-12T18:53:57.949Z"
   },
   {
    "duration": 8,
    "start_time": "2022-07-12T18:53:58.029Z"
   },
   {
    "duration": 108,
    "start_time": "2022-07-12T18:53:58.039Z"
   },
   {
    "duration": 7,
    "start_time": "2022-07-12T18:53:58.149Z"
   },
   {
    "duration": 66,
    "start_time": "2022-07-12T18:53:58.159Z"
   },
   {
    "duration": 20,
    "start_time": "2022-07-12T18:53:58.227Z"
   },
   {
    "duration": 35,
    "start_time": "2022-07-12T18:53:58.249Z"
   },
   {
    "duration": 6,
    "start_time": "2022-07-12T18:53:58.304Z"
   },
   {
    "duration": 26,
    "start_time": "2022-07-12T18:53:58.313Z"
   },
   {
    "duration": 34,
    "start_time": "2022-07-12T18:53:58.342Z"
   },
   {
    "duration": 45,
    "start_time": "2022-07-12T18:53:58.378Z"
   },
   {
    "duration": 29,
    "start_time": "2022-07-12T18:53:58.425Z"
   },
   {
    "duration": 14,
    "start_time": "2022-07-12T18:53:58.456Z"
   },
   {
    "duration": 67,
    "start_time": "2022-07-12T18:53:58.471Z"
   },
   {
    "duration": 19,
    "start_time": "2022-07-12T18:53:58.541Z"
   },
   {
    "duration": 58,
    "start_time": "2022-07-12T18:53:58.562Z"
   },
   {
    "duration": 5,
    "start_time": "2022-07-12T18:53:58.625Z"
   },
   {
    "duration": 14,
    "start_time": "2022-07-12T18:53:58.632Z"
   },
   {
    "duration": 7,
    "start_time": "2022-07-12T18:53:58.648Z"
   },
   {
    "duration": 82,
    "start_time": "2022-07-12T18:53:58.657Z"
   },
   {
    "duration": 4,
    "start_time": "2022-07-12T18:53:58.741Z"
   },
   {
    "duration": 15,
    "start_time": "2022-07-12T18:53:58.747Z"
   },
   {
    "duration": 16,
    "start_time": "2022-07-12T18:53:58.765Z"
   },
   {
    "duration": 54,
    "start_time": "2022-07-12T18:53:58.804Z"
   },
   {
    "duration": 1753,
    "start_time": "2022-07-12T18:53:58.860Z"
   },
   {
    "duration": 503,
    "start_time": "2022-07-12T18:54:00.615Z"
   },
   {
    "duration": 9,
    "start_time": "2022-07-12T18:54:01.120Z"
   },
   {
    "duration": 54,
    "start_time": "2022-07-12T18:54:01.131Z"
   },
   {
    "duration": 44,
    "start_time": "2022-07-12T18:54:01.187Z"
   },
   {
    "duration": 33,
    "start_time": "2022-07-12T18:54:01.233Z"
   },
   {
    "duration": 25,
    "start_time": "2022-07-12T18:54:01.268Z"
   },
   {
    "duration": 63,
    "start_time": "2022-07-12T18:54:01.295Z"
   },
   {
    "duration": 19,
    "start_time": "2022-07-12T18:54:01.360Z"
   },
   {
    "duration": 31,
    "start_time": "2022-07-12T18:54:01.381Z"
   },
   {
    "duration": 48,
    "start_time": "2022-07-12T18:54:01.414Z"
   },
   {
    "duration": 18,
    "start_time": "2022-07-12T18:54:01.464Z"
   },
   {
    "duration": 3,
    "start_time": "2022-07-12T18:54:01.483Z"
   },
   {
    "duration": 38,
    "start_time": "2022-07-12T18:54:01.489Z"
   },
   {
    "duration": 17,
    "start_time": "2022-07-12T18:54:01.530Z"
   },
   {
    "duration": 16,
    "start_time": "2022-07-12T18:54:01.549Z"
   },
   {
    "duration": 23,
    "start_time": "2022-07-12T18:54:01.567Z"
   },
   {
    "duration": 13,
    "start_time": "2022-07-12T18:54:01.592Z"
   },
   {
    "duration": 7,
    "start_time": "2022-07-12T18:54:01.607Z"
   },
   {
    "duration": 11,
    "start_time": "2022-07-12T18:54:01.616Z"
   },
   {
    "duration": 9,
    "start_time": "2022-07-12T18:54:01.629Z"
   },
   {
    "duration": 13,
    "start_time": "2022-07-12T18:54:01.639Z"
   },
   {
    "duration": 7,
    "start_time": "2022-07-12T18:54:01.654Z"
   },
   {
    "duration": 8,
    "start_time": "2022-07-12T18:54:01.662Z"
   },
   {
    "duration": 10,
    "start_time": "2022-07-12T18:54:01.672Z"
   },
   {
    "duration": 8,
    "start_time": "2022-07-12T18:54:01.684Z"
   },
   {
    "duration": 11,
    "start_time": "2022-07-12T18:54:01.693Z"
   },
   {
    "duration": 31704,
    "start_time": "2022-07-12T18:54:01.706Z"
   },
   {
    "duration": 315,
    "start_time": "2022-07-12T18:54:33.412Z"
   },
   {
    "duration": 145,
    "start_time": "2022-07-12T18:54:33.729Z"
   },
   {
    "duration": 156,
    "start_time": "2022-07-12T18:54:33.876Z"
   },
   {
    "duration": 4,
    "start_time": "2022-07-12T18:54:34.034Z"
   },
   {
    "duration": 9,
    "start_time": "2022-07-12T18:54:34.040Z"
   },
   {
    "duration": 34847,
    "start_time": "2022-07-12T18:54:34.051Z"
   },
   {
    "duration": 195,
    "start_time": "2022-07-12T18:55:08.900Z"
   },
   {
    "duration": 155036,
    "start_time": "2022-07-12T18:55:09.104Z"
   },
   {
    "duration": 132,
    "start_time": "2022-07-12T18:57:44.142Z"
   },
   {
    "duration": 30,
    "start_time": "2022-07-13T08:31:21.978Z"
   },
   {
    "duration": 1560,
    "start_time": "2022-07-13T11:32:33.181Z"
   },
   {
    "duration": 178,
    "start_time": "2022-07-13T11:32:34.743Z"
   },
   {
    "duration": 3,
    "start_time": "2022-07-13T11:32:34.924Z"
   },
   {
    "duration": 6,
    "start_time": "2022-07-13T11:32:34.929Z"
   },
   {
    "duration": 8,
    "start_time": "2022-07-13T11:32:34.938Z"
   },
   {
    "duration": 6,
    "start_time": "2022-07-13T11:32:34.948Z"
   },
   {
    "duration": 6,
    "start_time": "2022-07-13T11:32:34.956Z"
   },
   {
    "duration": 11,
    "start_time": "2022-07-13T11:32:34.964Z"
   },
   {
    "duration": 52,
    "start_time": "2022-07-13T11:32:34.976Z"
   },
   {
    "duration": 35,
    "start_time": "2022-07-13T11:32:35.030Z"
   },
   {
    "duration": 62,
    "start_time": "2022-07-13T11:32:35.067Z"
   },
   {
    "duration": 15,
    "start_time": "2022-07-13T11:32:35.130Z"
   },
   {
    "duration": 26,
    "start_time": "2022-07-13T11:32:35.147Z"
   },
   {
    "duration": 62,
    "start_time": "2022-07-13T11:32:35.177Z"
   },
   {
    "duration": 25,
    "start_time": "2022-07-13T11:32:35.241Z"
   },
   {
    "duration": 8,
    "start_time": "2022-07-13T11:32:35.268Z"
   },
   {
    "duration": 93,
    "start_time": "2022-07-13T11:32:35.278Z"
   },
   {
    "duration": 2,
    "start_time": "2022-07-13T11:32:35.373Z"
   },
   {
    "duration": 61,
    "start_time": "2022-07-13T11:32:35.377Z"
   },
   {
    "duration": 17,
    "start_time": "2022-07-13T11:32:35.439Z"
   },
   {
    "duration": 22,
    "start_time": "2022-07-13T11:32:35.457Z"
   },
   {
    "duration": 5,
    "start_time": "2022-07-13T11:32:35.480Z"
   },
   {
    "duration": 42,
    "start_time": "2022-07-13T11:32:35.486Z"
   },
   {
    "duration": 35,
    "start_time": "2022-07-13T11:32:35.531Z"
   },
   {
    "duration": 54,
    "start_time": "2022-07-13T11:32:35.569Z"
   },
   {
    "duration": 22,
    "start_time": "2022-07-13T11:32:35.624Z"
   },
   {
    "duration": 9,
    "start_time": "2022-07-13T11:32:35.647Z"
   },
   {
    "duration": 18,
    "start_time": "2022-07-13T11:32:35.657Z"
   },
   {
    "duration": 10,
    "start_time": "2022-07-13T11:32:35.676Z"
   },
   {
    "duration": 64,
    "start_time": "2022-07-13T11:32:35.688Z"
   },
   {
    "duration": 3,
    "start_time": "2022-07-13T11:32:35.754Z"
   },
   {
    "duration": 12,
    "start_time": "2022-07-13T11:32:35.759Z"
   },
   {
    "duration": 7,
    "start_time": "2022-07-13T11:32:35.772Z"
   },
   {
    "duration": 56,
    "start_time": "2022-07-13T11:32:35.780Z"
   },
   {
    "duration": 2,
    "start_time": "2022-07-13T11:32:35.838Z"
   },
   {
    "duration": 11,
    "start_time": "2022-07-13T11:32:35.842Z"
   },
   {
    "duration": 17,
    "start_time": "2022-07-13T11:32:35.854Z"
   },
   {
    "duration": 68,
    "start_time": "2022-07-13T11:32:35.872Z"
   },
   {
    "duration": 1462,
    "start_time": "2022-07-13T11:32:35.942Z"
   },
   {
    "duration": 435,
    "start_time": "2022-07-13T11:32:37.406Z"
   },
   {
    "duration": 9,
    "start_time": "2022-07-13T11:32:37.845Z"
   },
   {
    "duration": 4,
    "start_time": "2022-07-13T11:32:37.856Z"
   },
   {
    "duration": 6,
    "start_time": "2022-07-13T11:32:37.861Z"
   },
   {
    "duration": 6,
    "start_time": "2022-07-13T11:32:37.868Z"
   },
   {
    "duration": 6,
    "start_time": "2022-07-13T11:32:37.876Z"
   },
   {
    "duration": 53,
    "start_time": "2022-07-13T11:32:37.883Z"
   },
   {
    "duration": 6,
    "start_time": "2022-07-13T11:32:37.938Z"
   },
   {
    "duration": 6,
    "start_time": "2022-07-13T11:32:37.946Z"
   },
   {
    "duration": 29,
    "start_time": "2022-07-13T11:32:37.954Z"
   },
   {
    "duration": 16,
    "start_time": "2022-07-13T11:32:37.984Z"
   },
   {
    "duration": 3,
    "start_time": "2022-07-13T11:32:38.009Z"
   },
   {
    "duration": 18,
    "start_time": "2022-07-13T11:32:38.014Z"
   },
   {
    "duration": 6,
    "start_time": "2022-07-13T11:32:38.035Z"
   },
   {
    "duration": 9,
    "start_time": "2022-07-13T11:32:38.043Z"
   },
   {
    "duration": 4,
    "start_time": "2022-07-13T11:32:38.054Z"
   },
   {
    "duration": 8,
    "start_time": "2022-07-13T11:32:38.060Z"
   },
   {
    "duration": 5,
    "start_time": "2022-07-13T11:32:38.070Z"
   },
   {
    "duration": 6,
    "start_time": "2022-07-13T11:32:38.077Z"
   },
   {
    "duration": 14,
    "start_time": "2022-07-13T11:32:38.085Z"
   },
   {
    "duration": 21,
    "start_time": "2022-07-13T11:32:38.122Z"
   },
   {
    "duration": 14,
    "start_time": "2022-07-13T11:32:38.145Z"
   },
   {
    "duration": 8,
    "start_time": "2022-07-13T11:32:38.161Z"
   },
   {
    "duration": 16,
    "start_time": "2022-07-13T11:32:38.171Z"
   },
   {
    "duration": 13,
    "start_time": "2022-07-13T11:32:38.189Z"
   },
   {
    "duration": 26,
    "start_time": "2022-07-13T11:32:38.203Z"
   },
   {
    "duration": 82095,
    "start_time": "2022-07-13T11:32:38.231Z"
   },
   {
    "duration": 295,
    "start_time": "2022-07-13T11:34:00.334Z"
   },
   {
    "duration": 3,
    "start_time": "2022-07-13T11:34:00.631Z"
   },
   {
    "duration": 129,
    "start_time": "2022-07-13T11:34:00.636Z"
   },
   {
    "duration": 0,
    "start_time": "2022-07-13T11:34:00.767Z"
   },
   {
    "duration": 0,
    "start_time": "2022-07-13T11:34:00.768Z"
   },
   {
    "duration": 0,
    "start_time": "2022-07-13T11:34:00.769Z"
   },
   {
    "duration": 0,
    "start_time": "2022-07-13T11:34:00.770Z"
   },
   {
    "duration": 0,
    "start_time": "2022-07-13T11:34:00.771Z"
   },
   {
    "duration": 0,
    "start_time": "2022-07-13T11:34:00.772Z"
   },
   {
    "duration": 0,
    "start_time": "2022-07-13T11:34:00.772Z"
   },
   {
    "duration": 28,
    "start_time": "2022-07-13T11:35:37.755Z"
   },
   {
    "duration": 24,
    "start_time": "2022-07-13T11:37:30.482Z"
   },
   {
    "duration": 21,
    "start_time": "2022-07-13T11:38:18.863Z"
   },
   {
    "duration": 1133,
    "start_time": "2022-07-13T11:38:31.084Z"
   },
   {
    "duration": 12,
    "start_time": "2022-07-13T11:38:37.687Z"
   },
   {
    "duration": 123,
    "start_time": "2022-07-13T11:40:09.667Z"
   },
   {
    "duration": 1039,
    "start_time": "2022-07-13T11:40:41.641Z"
   },
   {
    "duration": 119,
    "start_time": "2022-07-13T11:40:46.486Z"
   },
   {
    "duration": 4,
    "start_time": "2022-07-13T11:41:00.377Z"
   },
   {
    "duration": 3,
    "start_time": "2022-07-13T11:41:01.379Z"
   },
   {
    "duration": 31882,
    "start_time": "2022-07-13T11:41:02.443Z"
   },
   {
    "duration": 149,
    "start_time": "2022-07-13T11:42:16.104Z"
   },
   {
    "duration": 144360,
    "start_time": "2022-07-13T11:42:19.890Z"
   },
   {
    "duration": 119,
    "start_time": "2022-07-13T11:44:46.971Z"
   },
   {
    "duration": 9,
    "start_time": "2022-07-13T11:46:29.285Z"
   },
   {
    "duration": 10,
    "start_time": "2022-07-13T11:47:24.068Z"
   },
   {
    "duration": 20,
    "start_time": "2022-07-13T11:48:58.892Z"
   },
   {
    "duration": 105,
    "start_time": "2022-07-13T11:49:52.385Z"
   },
   {
    "duration": 97,
    "start_time": "2022-07-13T11:50:04.579Z"
   },
   {
    "duration": 111,
    "start_time": "2022-07-13T11:50:25.968Z"
   },
   {
    "duration": 12,
    "start_time": "2022-07-13T11:54:26.120Z"
   },
   {
    "duration": 302,
    "start_time": "2022-07-13T11:55:01.659Z"
   },
   {
    "duration": 396,
    "start_time": "2022-07-13T11:55:16.958Z"
   },
   {
    "duration": 965,
    "start_time": "2022-07-13T12:18:17.502Z"
   },
   {
    "duration": 109,
    "start_time": "2022-07-13T12:18:21.974Z"
   },
   {
    "duration": 29460,
    "start_time": "2022-07-13T12:18:35.684Z"
   },
   {
    "duration": 137,
    "start_time": "2022-07-13T12:19:31.393Z"
   },
   {
    "duration": 51,
    "start_time": "2022-07-13T12:24:49.056Z"
   },
   {
    "duration": 68,
    "start_time": "2022-07-13T12:24:54.913Z"
   },
   {
    "duration": 10,
    "start_time": "2022-07-13T12:29:47.847Z"
   },
   {
    "duration": 140162,
    "start_time": "2022-07-13T12:30:21.104Z"
   },
   {
    "duration": 41636,
    "start_time": "2022-07-13T12:36:16.978Z"
   },
   {
    "duration": 110,
    "start_time": "2022-07-13T12:37:29.948Z"
   },
   {
    "duration": 53097,
    "start_time": "2022-07-13T12:39:36.123Z"
   },
   {
    "duration": 115,
    "start_time": "2022-07-13T12:40:38.219Z"
   },
   {
    "duration": 42955,
    "start_time": "2022-07-13T12:40:55.456Z"
   },
   {
    "duration": 4,
    "start_time": "2022-07-13T12:45:37.361Z"
   },
   {
    "duration": 9,
    "start_time": "2022-07-13T12:45:45.514Z"
   },
   {
    "duration": 5,
    "start_time": "2022-07-13T12:45:53.708Z"
   },
   {
    "duration": 3,
    "start_time": "2022-07-13T12:46:27.277Z"
   },
   {
    "duration": 5,
    "start_time": "2022-07-13T12:46:28.192Z"
   },
   {
    "duration": 3,
    "start_time": "2022-07-13T12:46:49.555Z"
   },
   {
    "duration": 4,
    "start_time": "2022-07-13T12:46:50.676Z"
   },
   {
    "duration": 3,
    "start_time": "2022-07-13T12:47:08.119Z"
   },
   {
    "duration": 5,
    "start_time": "2022-07-13T12:47:09.180Z"
   },
   {
    "duration": 2,
    "start_time": "2022-07-13T12:47:38.651Z"
   },
   {
    "duration": 50,
    "start_time": "2022-07-13T16:08:58.073Z"
   },
   {
    "duration": 1648,
    "start_time": "2022-07-13T16:09:03.848Z"
   },
   {
    "duration": 260,
    "start_time": "2022-07-13T16:09:11.265Z"
   },
   {
    "duration": 1590,
    "start_time": "2022-07-13T18:13:49.936Z"
   },
   {
    "duration": 106,
    "start_time": "2022-07-13T18:13:51.529Z"
   },
   {
    "duration": 2,
    "start_time": "2022-07-13T18:13:51.637Z"
   },
   {
    "duration": 24,
    "start_time": "2022-07-13T18:13:51.641Z"
   },
   {
    "duration": 10,
    "start_time": "2022-07-13T18:13:51.668Z"
   },
   {
    "duration": 6,
    "start_time": "2022-07-13T18:13:51.680Z"
   },
   {
    "duration": 5,
    "start_time": "2022-07-13T18:13:51.688Z"
   },
   {
    "duration": 8,
    "start_time": "2022-07-13T18:13:51.695Z"
   },
   {
    "duration": 6,
    "start_time": "2022-07-13T18:13:51.704Z"
   },
   {
    "duration": 50,
    "start_time": "2022-07-13T18:13:51.713Z"
   },
   {
    "duration": 28,
    "start_time": "2022-07-13T18:13:51.765Z"
   },
   {
    "duration": 66,
    "start_time": "2022-07-13T18:13:51.795Z"
   },
   {
    "duration": 16,
    "start_time": "2022-07-13T18:13:51.864Z"
   },
   {
    "duration": 81,
    "start_time": "2022-07-13T18:13:51.881Z"
   },
   {
    "duration": 35,
    "start_time": "2022-07-13T18:13:51.964Z"
   },
   {
    "duration": 59,
    "start_time": "2022-07-13T18:13:52.001Z"
   },
   {
    "duration": 7,
    "start_time": "2022-07-13T18:13:52.063Z"
   },
   {
    "duration": 103,
    "start_time": "2022-07-13T18:13:52.073Z"
   },
   {
    "duration": 4,
    "start_time": "2022-07-13T18:13:52.180Z"
   },
   {
    "duration": 38,
    "start_time": "2022-07-13T18:13:52.186Z"
   },
   {
    "duration": 38,
    "start_time": "2022-07-13T18:13:52.226Z"
   },
   {
    "duration": 27,
    "start_time": "2022-07-13T18:13:52.266Z"
   },
   {
    "duration": 11,
    "start_time": "2022-07-13T18:13:52.294Z"
   },
   {
    "duration": 15,
    "start_time": "2022-07-13T18:13:52.307Z"
   },
   {
    "duration": 27,
    "start_time": "2022-07-13T18:13:52.346Z"
   },
   {
    "duration": 24,
    "start_time": "2022-07-13T18:13:52.376Z"
   },
   {
    "duration": 56,
    "start_time": "2022-07-13T18:13:52.403Z"
   },
   {
    "duration": 12,
    "start_time": "2022-07-13T18:13:52.464Z"
   },
   {
    "duration": 22,
    "start_time": "2022-07-13T18:13:52.478Z"
   },
   {
    "duration": 11,
    "start_time": "2022-07-13T18:13:52.502Z"
   },
   {
    "duration": 56,
    "start_time": "2022-07-13T18:13:52.514Z"
   },
   {
    "duration": 4,
    "start_time": "2022-07-13T18:13:52.571Z"
   },
   {
    "duration": 18,
    "start_time": "2022-07-13T18:13:52.577Z"
   },
   {
    "duration": 7,
    "start_time": "2022-07-13T18:13:52.596Z"
   },
   {
    "duration": 88,
    "start_time": "2022-07-13T18:13:52.604Z"
   },
   {
    "duration": 4,
    "start_time": "2022-07-13T18:13:52.693Z"
   },
   {
    "duration": 17,
    "start_time": "2022-07-13T18:13:52.698Z"
   },
   {
    "duration": 16,
    "start_time": "2022-07-13T18:13:52.717Z"
   },
   {
    "duration": 49,
    "start_time": "2022-07-13T18:13:52.748Z"
   },
   {
    "duration": 1778,
    "start_time": "2022-07-13T18:13:52.799Z"
   },
   {
    "duration": 506,
    "start_time": "2022-07-13T18:13:54.580Z"
   },
   {
    "duration": 14,
    "start_time": "2022-07-13T18:13:55.088Z"
   },
   {
    "duration": 17,
    "start_time": "2022-07-13T18:13:55.104Z"
   },
   {
    "duration": 11,
    "start_time": "2022-07-13T18:13:55.122Z"
   },
   {
    "duration": 43,
    "start_time": "2022-07-13T18:13:55.148Z"
   },
   {
    "duration": 19,
    "start_time": "2022-07-13T18:13:55.194Z"
   },
   {
    "duration": 41,
    "start_time": "2022-07-13T18:13:55.214Z"
   },
   {
    "duration": 24,
    "start_time": "2022-07-13T18:13:55.258Z"
   },
   {
    "duration": 23,
    "start_time": "2022-07-13T18:13:55.284Z"
   },
   {
    "duration": 61,
    "start_time": "2022-07-13T18:13:55.309Z"
   },
   {
    "duration": 26,
    "start_time": "2022-07-13T18:13:55.372Z"
   },
   {
    "duration": 6,
    "start_time": "2022-07-13T18:13:55.401Z"
   },
   {
    "duration": 31,
    "start_time": "2022-07-13T18:13:55.409Z"
   },
   {
    "duration": 52,
    "start_time": "2022-07-13T18:13:55.442Z"
   },
   {
    "duration": 26,
    "start_time": "2022-07-13T18:13:55.496Z"
   },
   {
    "duration": 17,
    "start_time": "2022-07-13T18:13:55.524Z"
   },
   {
    "duration": 30,
    "start_time": "2022-07-13T18:13:55.543Z"
   },
   {
    "duration": 22,
    "start_time": "2022-07-13T18:13:55.575Z"
   },
   {
    "duration": 17,
    "start_time": "2022-07-13T18:13:55.599Z"
   },
   {
    "duration": 22,
    "start_time": "2022-07-13T18:13:55.618Z"
   },
   {
    "duration": 24,
    "start_time": "2022-07-13T18:13:55.642Z"
   },
   {
    "duration": 13,
    "start_time": "2022-07-13T18:13:55.668Z"
   },
   {
    "duration": 10,
    "start_time": "2022-07-13T18:13:55.683Z"
   },
   {
    "duration": 8,
    "start_time": "2022-07-13T18:13:55.695Z"
   },
   {
    "duration": 15,
    "start_time": "2022-07-13T18:13:55.705Z"
   },
   {
    "duration": 6,
    "start_time": "2022-07-13T18:13:55.721Z"
   },
   {
    "duration": 95537,
    "start_time": "2022-07-13T18:13:55.728Z"
   },
   {
    "duration": 7,
    "start_time": "2022-07-13T18:15:31.349Z"
   },
   {
    "duration": 45,
    "start_time": "2022-07-13T18:15:31.358Z"
   },
   {
    "duration": 201,
    "start_time": "2022-07-13T18:15:31.405Z"
   },
   {
    "duration": 3,
    "start_time": "2022-07-13T18:15:31.608Z"
   },
   {
    "duration": 1350,
    "start_time": "2022-07-13T18:15:31.613Z"
   },
   {
    "duration": 155,
    "start_time": "2022-07-13T18:15:32.964Z"
   },
   {
    "duration": 5,
    "start_time": "2022-07-13T18:15:33.121Z"
   },
   {
    "duration": 38,
    "start_time": "2022-07-13T18:15:33.128Z"
   },
   {
    "duration": 32764,
    "start_time": "2022-07-13T18:15:33.169Z"
   },
   {
    "duration": 167,
    "start_time": "2022-07-13T18:16:05.936Z"
   },
   {
    "duration": 139679,
    "start_time": "2022-07-13T18:16:06.105Z"
   },
   {
    "duration": 132,
    "start_time": "2022-07-13T18:18:25.786Z"
   },
   {
    "duration": 11,
    "start_time": "2022-07-13T18:18:25.919Z"
   },
   {
    "duration": 308,
    "start_time": "2022-07-13T18:18:25.945Z"
   }
  ],
  "kernelspec": {
   "display_name": "Python 3 (ipykernel)",
   "language": "python",
   "name": "python3"
  },
  "language_info": {
   "codemirror_mode": {
    "name": "ipython",
    "version": 3
   },
   "file_extension": ".py",
   "mimetype": "text/x-python",
   "name": "python",
   "nbconvert_exporter": "python",
   "pygments_lexer": "ipython3",
   "version": "3.7.8"
  },
  "toc": {
   "base_numbering": 1,
   "nav_menu": {},
   "number_sections": true,
   "sideBar": true,
   "skip_h1_title": true,
   "title_cell": "Table of Contents",
   "title_sidebar": "Contents",
   "toc_cell": false,
   "toc_position": {
    "height": "calc(100% - 180px)",
    "left": "10px",
    "top": "150px",
    "width": "212.767px"
   },
   "toc_section_display": true,
   "toc_window_display": true
  }
 },
 "nbformat": 4,
 "nbformat_minor": 2
}
