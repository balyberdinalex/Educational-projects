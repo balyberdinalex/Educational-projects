{
 "cells": [
  {
   "cell_type": "markdown",
   "id": "0ac503be",
   "metadata": {},
   "source": [
    "# Определение перспективного тарифа для телеком-компании\n",
    "\n",
    "Клиентам предлагают два тарифных плана: «Смарт» и «Ультра». Чтобы скорректировать рекламный бюджет, коммерческий департамент хочет понять, какой тариф приносит больше денег.\n",
    "\n",
    "Необходимо сделать предварительный анализ тарифов на небольшой выборке клиентов. В распоряжении данные 500 пользователей «Мегалайна»: кто они, откуда, каким тарифом пользуются, сколько звонков и сообщений каждый отправил за 2018 год. Нужно проанализировать поведение клиентов и сделать вывод — какой тариф лучше.\n"
   ]
  },
  {
   "cell_type": "markdown",
   "id": "b07982a4",
   "metadata": {},
   "source": [
    "##  Изучение данных из файлов "
   ]
  },
  {
   "cell_type": "code",
   "execution_count": 1,
   "id": "ac84f49d",
   "metadata": {
    "scrolled": true
   },
   "outputs": [],
   "source": [
    "import pandas as pd# импорт библиотеки pandas\n",
    "import numpy as np\n",
    "import math\n",
    "import matplotlib.pyplot as plt\n",
    "from scipy import stats as st\n",
    "import random\n",
    "pd.set_option('display.max_columns', None)"
   ]
  },
  {
   "cell_type": "markdown",
   "id": "0c4b96d2",
   "metadata": {},
   "source": [
    "**Описание таблиц**\n",
    "\n",
    "* `users` — информация о пользователях;\n",
    "* `calls` - информация о звонках;\n",
    "* `messages` - информация о сообщениях;\n",
    "* `internet` — информация об интернет-сессиях;\n",
    "* `tariffs` — информация о тарифах;\n"
   ]
  },
  {
   "cell_type": "markdown",
   "id": "31090406",
   "metadata": {},
   "source": [
    "**Информация по таблице users**"
   ]
  },
  {
   "cell_type": "code",
   "execution_count": 2,
   "id": "82440d10",
   "metadata": {
    "scrolled": true
   },
   "outputs": [
    {
     "data": {
      "text/html": [
       "<div>\n",
       "<style scoped>\n",
       "    .dataframe tbody tr th:only-of-type {\n",
       "        vertical-align: middle;\n",
       "    }\n",
       "\n",
       "    .dataframe tbody tr th {\n",
       "        vertical-align: top;\n",
       "    }\n",
       "\n",
       "    .dataframe thead th {\n",
       "        text-align: right;\n",
       "    }\n",
       "</style>\n",
       "<table border=\"1\" class=\"dataframe\">\n",
       "  <thead>\n",
       "    <tr style=\"text-align: right;\">\n",
       "      <th></th>\n",
       "      <th>user_id</th>\n",
       "      <th>age</th>\n",
       "      <th>churn_date</th>\n",
       "      <th>city</th>\n",
       "      <th>first_name</th>\n",
       "      <th>last_name</th>\n",
       "      <th>reg_date</th>\n",
       "      <th>tariff</th>\n",
       "    </tr>\n",
       "  </thead>\n",
       "  <tbody>\n",
       "    <tr>\n",
       "      <th>0</th>\n",
       "      <td>1000</td>\n",
       "      <td>52</td>\n",
       "      <td>NaN</td>\n",
       "      <td>Краснодар</td>\n",
       "      <td>Рафаил</td>\n",
       "      <td>Верещагин</td>\n",
       "      <td>2018-05-25</td>\n",
       "      <td>ultra</td>\n",
       "    </tr>\n",
       "    <tr>\n",
       "      <th>1</th>\n",
       "      <td>1001</td>\n",
       "      <td>41</td>\n",
       "      <td>NaN</td>\n",
       "      <td>Москва</td>\n",
       "      <td>Иван</td>\n",
       "      <td>Ежов</td>\n",
       "      <td>2018-11-01</td>\n",
       "      <td>smart</td>\n",
       "    </tr>\n",
       "    <tr>\n",
       "      <th>2</th>\n",
       "      <td>1002</td>\n",
       "      <td>59</td>\n",
       "      <td>NaN</td>\n",
       "      <td>Стерлитамак</td>\n",
       "      <td>Евгений</td>\n",
       "      <td>Абрамович</td>\n",
       "      <td>2018-06-17</td>\n",
       "      <td>smart</td>\n",
       "    </tr>\n",
       "    <tr>\n",
       "      <th>3</th>\n",
       "      <td>1003</td>\n",
       "      <td>23</td>\n",
       "      <td>NaN</td>\n",
       "      <td>Москва</td>\n",
       "      <td>Белла</td>\n",
       "      <td>Белякова</td>\n",
       "      <td>2018-08-17</td>\n",
       "      <td>ultra</td>\n",
       "    </tr>\n",
       "    <tr>\n",
       "      <th>4</th>\n",
       "      <td>1004</td>\n",
       "      <td>68</td>\n",
       "      <td>NaN</td>\n",
       "      <td>Новокузнецк</td>\n",
       "      <td>Татьяна</td>\n",
       "      <td>Авдеенко</td>\n",
       "      <td>2018-05-14</td>\n",
       "      <td>ultra</td>\n",
       "    </tr>\n",
       "    <tr>\n",
       "      <th>5</th>\n",
       "      <td>1005</td>\n",
       "      <td>67</td>\n",
       "      <td>NaN</td>\n",
       "      <td>Набережные Челны</td>\n",
       "      <td>Афанасий</td>\n",
       "      <td>Горлов</td>\n",
       "      <td>2018-01-25</td>\n",
       "      <td>smart</td>\n",
       "    </tr>\n",
       "    <tr>\n",
       "      <th>6</th>\n",
       "      <td>1006</td>\n",
       "      <td>21</td>\n",
       "      <td>NaN</td>\n",
       "      <td>Ульяновск</td>\n",
       "      <td>Леонид</td>\n",
       "      <td>Ермолаев</td>\n",
       "      <td>2018-02-26</td>\n",
       "      <td>smart</td>\n",
       "    </tr>\n",
       "    <tr>\n",
       "      <th>7</th>\n",
       "      <td>1007</td>\n",
       "      <td>65</td>\n",
       "      <td>NaN</td>\n",
       "      <td>Москва</td>\n",
       "      <td>Юна</td>\n",
       "      <td>Березина</td>\n",
       "      <td>2018-04-19</td>\n",
       "      <td>smart</td>\n",
       "    </tr>\n",
       "    <tr>\n",
       "      <th>8</th>\n",
       "      <td>1008</td>\n",
       "      <td>63</td>\n",
       "      <td>NaN</td>\n",
       "      <td>Челябинск</td>\n",
       "      <td>Рустэм</td>\n",
       "      <td>Пономарёв</td>\n",
       "      <td>2018-12-19</td>\n",
       "      <td>smart</td>\n",
       "    </tr>\n",
       "    <tr>\n",
       "      <th>9</th>\n",
       "      <td>1009</td>\n",
       "      <td>24</td>\n",
       "      <td>NaN</td>\n",
       "      <td>Пермь</td>\n",
       "      <td>Василиса</td>\n",
       "      <td>Блинова</td>\n",
       "      <td>2018-03-22</td>\n",
       "      <td>smart</td>\n",
       "    </tr>\n",
       "  </tbody>\n",
       "</table>\n",
       "</div>"
      ],
      "text/plain": [
       "   user_id  age churn_date              city first_name  last_name  \\\n",
       "0     1000   52        NaN         Краснодар     Рафаил  Верещагин   \n",
       "1     1001   41        NaN            Москва       Иван       Ежов   \n",
       "2     1002   59        NaN       Стерлитамак    Евгений  Абрамович   \n",
       "3     1003   23        NaN            Москва      Белла   Белякова   \n",
       "4     1004   68        NaN       Новокузнецк    Татьяна   Авдеенко   \n",
       "5     1005   67        NaN  Набережные Челны   Афанасий     Горлов   \n",
       "6     1006   21        NaN         Ульяновск     Леонид   Ермолаев   \n",
       "7     1007   65        NaN            Москва        Юна   Березина   \n",
       "8     1008   63        NaN         Челябинск     Рустэм  Пономарёв   \n",
       "9     1009   24        NaN             Пермь   Василиса    Блинова   \n",
       "\n",
       "     reg_date tariff  \n",
       "0  2018-05-25  ultra  \n",
       "1  2018-11-01  smart  \n",
       "2  2018-06-17  smart  \n",
       "3  2018-08-17  ultra  \n",
       "4  2018-05-14  ultra  \n",
       "5  2018-01-25  smart  \n",
       "6  2018-02-26  smart  \n",
       "7  2018-04-19  smart  \n",
       "8  2018-12-19  smart  \n",
       "9  2018-03-22  smart  "
      ]
     },
     "execution_count": 2,
     "metadata": {},
     "output_type": "execute_result"
    }
   ],
   "source": [
    "#информация по таблице users\n",
    "users=pd.read_csv('/datasets/users.csv')# чтение файла с данными и сохранение в user\n",
    "users.head(10)# получение первых 10 строк таблицы "
   ]
  },
  {
   "cell_type": "code",
   "execution_count": 3,
   "id": "b8fdb19c",
   "metadata": {
    "scrolled": false
   },
   "outputs": [
    {
     "name": "stdout",
     "output_type": "stream",
     "text": [
      "<class 'pandas.core.frame.DataFrame'>\n",
      "RangeIndex: 500 entries, 0 to 499\n",
      "Data columns (total 8 columns):\n",
      " #   Column      Non-Null Count  Dtype \n",
      "---  ------      --------------  ----- \n",
      " 0   user_id     500 non-null    int64 \n",
      " 1   age         500 non-null    int64 \n",
      " 2   churn_date  38 non-null     object\n",
      " 3   city        500 non-null    object\n",
      " 4   first_name  500 non-null    object\n",
      " 5   last_name   500 non-null    object\n",
      " 6   reg_date    500 non-null    object\n",
      " 7   tariff      500 non-null    object\n",
      "dtypes: int64(2), object(6)\n",
      "memory usage: 31.4+ KB\n"
     ]
    }
   ],
   "source": [
    "users.info()# получение общей информации о данных в таблице"
   ]
  },
  {
   "cell_type": "markdown",
   "id": "bf5351ff",
   "metadata": {},
   "source": [
    "**Описание данных**\n",
    "\n",
    "В таблице восемь столбцов\n",
    "\n",
    "* `user_id` — уникальный идентификатор пользователя;\n",
    "* `first_name` - имя пользователя;\n",
    "* `last_name` - фамилия пользователя;\n",
    "* `age` — возраст пользователя (годы);\n",
    "* `reg_date` — дата подключения тарифа (день, месяц, год);\n",
    "* `churn_date` — дата прекращения пользования тарифом (если значение пропущено, то тариф ещё действовал на момент выгрузки данных);\n",
    "* `city` — город проживания пользователя;\n",
    "* `tarif` — название тарифного плана;\n",
    "\n",
    "Количество значений в столбцах различается. Значит, в данных есть пропущенные значения."
   ]
  },
  {
   "cell_type": "code",
   "execution_count": 4,
   "id": "12723cbf",
   "metadata": {
    "scrolled": true
   },
   "outputs": [
    {
     "data": {
      "text/plain": [
       "array([nan, '2018-10-05', '2018-12-18', '2018-11-21', '2018-10-03',\n",
       "       '2018-10-14', '2018-12-09', '2018-12-11', '2018-12-26',\n",
       "       '2018-08-31', '2018-12-03', '2018-12-23', '2018-11-07',\n",
       "       '2018-12-16', '2018-12-20', '2018-11-30', '2018-12-21',\n",
       "       '2018-08-17', '2018-09-02', '2018-10-04', '2018-11-13',\n",
       "       '2018-11-22', '2018-10-28', '2018-11-26', '2018-11-27',\n",
       "       '2018-11-16', '2018-10-27', '2018-12-30', '2018-09-27',\n",
       "       '2018-12-25', '2018-12-14', '2018-12-24', '2018-09-26',\n",
       "       '2018-10-25'], dtype=object)"
      ]
     },
     "metadata": {},
     "output_type": "display_data"
    },
    {
     "data": {
      "text/plain": [
       "2018-12-21    2\n",
       "2018-12-09    2\n",
       "2018-10-03    2\n",
       "2018-10-14    2\n",
       "2018-12-03    2\n",
       "2018-12-14    1\n",
       "2018-08-31    1\n",
       "2018-12-11    1\n",
       "2018-11-27    1\n",
       "2018-12-18    1\n",
       "2018-11-13    1\n",
       "2018-11-21    1\n",
       "2018-10-05    1\n",
       "2018-09-27    1\n",
       "2018-09-26    1\n",
       "2018-12-16    1\n",
       "2018-10-25    1\n",
       "2018-12-20    1\n",
       "2018-11-07    1\n",
       "2018-12-23    1\n",
       "2018-10-27    1\n",
       "2018-11-16    1\n",
       "2018-12-25    1\n",
       "2018-12-26    1\n",
       "2018-10-04    1\n",
       "2018-08-17    1\n",
       "2018-11-30    1\n",
       "2018-09-02    1\n",
       "2018-11-26    1\n",
       "2018-12-30    1\n",
       "2018-10-28    1\n",
       "2018-12-24    1\n",
       "2018-11-22    1\n",
       "Name: churn_date, dtype: int64"
      ]
     },
     "metadata": {},
     "output_type": "display_data"
    }
   ],
   "source": [
    "display(users['churn_date'].unique())# проверка даты прекращения использования тарифа\n",
    "display(users['churn_date'].value_counts())# подсчет количества даты прекращения использования тарифа"
   ]
  },
  {
   "cell_type": "code",
   "execution_count": 5,
   "id": "149e42fe",
   "metadata": {},
   "outputs": [
    {
     "data": {
      "text/html": [
       "<div>\n",
       "<style scoped>\n",
       "    .dataframe tbody tr th:only-of-type {\n",
       "        vertical-align: middle;\n",
       "    }\n",
       "\n",
       "    .dataframe tbody tr th {\n",
       "        vertical-align: top;\n",
       "    }\n",
       "\n",
       "    .dataframe thead th {\n",
       "        text-align: right;\n",
       "    }\n",
       "</style>\n",
       "<table border=\"1\" class=\"dataframe\">\n",
       "  <thead>\n",
       "    <tr style=\"text-align: right;\">\n",
       "      <th></th>\n",
       "      <th>user_id</th>\n",
       "      <th>age</th>\n",
       "      <th>churn_date</th>\n",
       "      <th>city</th>\n",
       "      <th>first_name</th>\n",
       "      <th>last_name</th>\n",
       "      <th>reg_date</th>\n",
       "      <th>tariff</th>\n",
       "    </tr>\n",
       "  </thead>\n",
       "  <tbody>\n",
       "  </tbody>\n",
       "</table>\n",
       "</div>"
      ],
      "text/plain": [
       "Empty DataFrame\n",
       "Columns: [user_id, age, churn_date, city, first_name, last_name, reg_date, tariff]\n",
       "Index: []"
      ]
     },
     "metadata": {},
     "output_type": "display_data"
    }
   ],
   "source": [
    "display (users.loc[users['churn_date']=='2018-12-31'].head())"
   ]
  },
  {
   "cell_type": "markdown",
   "id": "fd00d0e9",
   "metadata": {},
   "source": [
    "**Информация по таблице calls**"
   ]
  },
  {
   "cell_type": "code",
   "execution_count": 6,
   "id": "24a79258",
   "metadata": {},
   "outputs": [
    {
     "data": {
      "text/html": [
       "<div>\n",
       "<style scoped>\n",
       "    .dataframe tbody tr th:only-of-type {\n",
       "        vertical-align: middle;\n",
       "    }\n",
       "\n",
       "    .dataframe tbody tr th {\n",
       "        vertical-align: top;\n",
       "    }\n",
       "\n",
       "    .dataframe thead th {\n",
       "        text-align: right;\n",
       "    }\n",
       "</style>\n",
       "<table border=\"1\" class=\"dataframe\">\n",
       "  <thead>\n",
       "    <tr style=\"text-align: right;\">\n",
       "      <th></th>\n",
       "      <th>id</th>\n",
       "      <th>call_date</th>\n",
       "      <th>duration</th>\n",
       "      <th>user_id</th>\n",
       "    </tr>\n",
       "  </thead>\n",
       "  <tbody>\n",
       "    <tr>\n",
       "      <th>0</th>\n",
       "      <td>1000_0</td>\n",
       "      <td>2018-07-25</td>\n",
       "      <td>0.00</td>\n",
       "      <td>1000</td>\n",
       "    </tr>\n",
       "    <tr>\n",
       "      <th>1</th>\n",
       "      <td>1000_1</td>\n",
       "      <td>2018-08-17</td>\n",
       "      <td>0.00</td>\n",
       "      <td>1000</td>\n",
       "    </tr>\n",
       "    <tr>\n",
       "      <th>2</th>\n",
       "      <td>1000_2</td>\n",
       "      <td>2018-06-11</td>\n",
       "      <td>2.85</td>\n",
       "      <td>1000</td>\n",
       "    </tr>\n",
       "    <tr>\n",
       "      <th>3</th>\n",
       "      <td>1000_3</td>\n",
       "      <td>2018-09-21</td>\n",
       "      <td>13.80</td>\n",
       "      <td>1000</td>\n",
       "    </tr>\n",
       "    <tr>\n",
       "      <th>4</th>\n",
       "      <td>1000_4</td>\n",
       "      <td>2018-12-15</td>\n",
       "      <td>5.18</td>\n",
       "      <td>1000</td>\n",
       "    </tr>\n",
       "    <tr>\n",
       "      <th>5</th>\n",
       "      <td>1000_5</td>\n",
       "      <td>2018-11-02</td>\n",
       "      <td>0.00</td>\n",
       "      <td>1000</td>\n",
       "    </tr>\n",
       "    <tr>\n",
       "      <th>6</th>\n",
       "      <td>1000_6</td>\n",
       "      <td>2018-10-18</td>\n",
       "      <td>0.00</td>\n",
       "      <td>1000</td>\n",
       "    </tr>\n",
       "    <tr>\n",
       "      <th>7</th>\n",
       "      <td>1000_7</td>\n",
       "      <td>2018-08-22</td>\n",
       "      <td>18.31</td>\n",
       "      <td>1000</td>\n",
       "    </tr>\n",
       "    <tr>\n",
       "      <th>8</th>\n",
       "      <td>1000_8</td>\n",
       "      <td>2018-09-15</td>\n",
       "      <td>18.44</td>\n",
       "      <td>1000</td>\n",
       "    </tr>\n",
       "    <tr>\n",
       "      <th>9</th>\n",
       "      <td>1000_9</td>\n",
       "      <td>2018-08-15</td>\n",
       "      <td>0.00</td>\n",
       "      <td>1000</td>\n",
       "    </tr>\n",
       "  </tbody>\n",
       "</table>\n",
       "</div>"
      ],
      "text/plain": [
       "       id   call_date  duration  user_id\n",
       "0  1000_0  2018-07-25      0.00     1000\n",
       "1  1000_1  2018-08-17      0.00     1000\n",
       "2  1000_2  2018-06-11      2.85     1000\n",
       "3  1000_3  2018-09-21     13.80     1000\n",
       "4  1000_4  2018-12-15      5.18     1000\n",
       "5  1000_5  2018-11-02      0.00     1000\n",
       "6  1000_6  2018-10-18      0.00     1000\n",
       "7  1000_7  2018-08-22     18.31     1000\n",
       "8  1000_8  2018-09-15     18.44     1000\n",
       "9  1000_9  2018-08-15      0.00     1000"
      ]
     },
     "execution_count": 6,
     "metadata": {},
     "output_type": "execute_result"
    }
   ],
   "source": [
    "calls=pd.read_csv('/datasets/calls.csv')# чтение файла с данными и сохранение в calls\n",
    "calls.head(10)# получение первых 10 строк таблицы "
   ]
  },
  {
   "cell_type": "code",
   "execution_count": 7,
   "id": "2c584102",
   "metadata": {
    "scrolled": false
   },
   "outputs": [
    {
     "name": "stdout",
     "output_type": "stream",
     "text": [
      "<class 'pandas.core.frame.DataFrame'>\n",
      "RangeIndex: 202607 entries, 0 to 202606\n",
      "Data columns (total 4 columns):\n",
      " #   Column     Non-Null Count   Dtype  \n",
      "---  ------     --------------   -----  \n",
      " 0   id         202607 non-null  object \n",
      " 1   call_date  202607 non-null  object \n",
      " 2   duration   202607 non-null  float64\n",
      " 3   user_id    202607 non-null  int64  \n",
      "dtypes: float64(1), int64(1), object(2)\n",
      "memory usage: 6.2+ MB\n"
     ]
    }
   ],
   "source": [
    "calls.info()# получение общей информации о данных в таблице"
   ]
  },
  {
   "cell_type": "markdown",
   "id": "a0bc1e5a",
   "metadata": {},
   "source": [
    "**Описание данных**\n",
    "\n",
    "В таблице четыре столбца\n",
    "\n",
    "* `id` — уникальный номер звонка;\n",
    "* `call_date` - дата звонка;\n",
    "* `duration` - длительность звонка в минутах;\n",
    "* `user_id` — идентификатор пользователя, сделавшего звонок;\n",
    "\n",
    "Количество значений в столбцах совпадают. Значит, в данных нет пропущенные значения."
   ]
  },
  {
   "cell_type": "markdown",
   "id": "76825f98",
   "metadata": {},
   "source": [
    "**Информация по таблице messages**"
   ]
  },
  {
   "cell_type": "code",
   "execution_count": 8,
   "id": "1d1569ea",
   "metadata": {
    "scrolled": true
   },
   "outputs": [
    {
     "data": {
      "text/html": [
       "<div>\n",
       "<style scoped>\n",
       "    .dataframe tbody tr th:only-of-type {\n",
       "        vertical-align: middle;\n",
       "    }\n",
       "\n",
       "    .dataframe tbody tr th {\n",
       "        vertical-align: top;\n",
       "    }\n",
       "\n",
       "    .dataframe thead th {\n",
       "        text-align: right;\n",
       "    }\n",
       "</style>\n",
       "<table border=\"1\" class=\"dataframe\">\n",
       "  <thead>\n",
       "    <tr style=\"text-align: right;\">\n",
       "      <th></th>\n",
       "      <th>id</th>\n",
       "      <th>message_date</th>\n",
       "      <th>user_id</th>\n",
       "    </tr>\n",
       "  </thead>\n",
       "  <tbody>\n",
       "    <tr>\n",
       "      <th>0</th>\n",
       "      <td>1000_0</td>\n",
       "      <td>2018-06-27</td>\n",
       "      <td>1000</td>\n",
       "    </tr>\n",
       "    <tr>\n",
       "      <th>1</th>\n",
       "      <td>1000_1</td>\n",
       "      <td>2018-10-08</td>\n",
       "      <td>1000</td>\n",
       "    </tr>\n",
       "    <tr>\n",
       "      <th>2</th>\n",
       "      <td>1000_2</td>\n",
       "      <td>2018-08-04</td>\n",
       "      <td>1000</td>\n",
       "    </tr>\n",
       "    <tr>\n",
       "      <th>3</th>\n",
       "      <td>1000_3</td>\n",
       "      <td>2018-06-16</td>\n",
       "      <td>1000</td>\n",
       "    </tr>\n",
       "    <tr>\n",
       "      <th>4</th>\n",
       "      <td>1000_4</td>\n",
       "      <td>2018-12-05</td>\n",
       "      <td>1000</td>\n",
       "    </tr>\n",
       "    <tr>\n",
       "      <th>5</th>\n",
       "      <td>1000_5</td>\n",
       "      <td>2018-06-20</td>\n",
       "      <td>1000</td>\n",
       "    </tr>\n",
       "    <tr>\n",
       "      <th>6</th>\n",
       "      <td>1000_6</td>\n",
       "      <td>2018-11-19</td>\n",
       "      <td>1000</td>\n",
       "    </tr>\n",
       "    <tr>\n",
       "      <th>7</th>\n",
       "      <td>1000_7</td>\n",
       "      <td>2018-10-29</td>\n",
       "      <td>1000</td>\n",
       "    </tr>\n",
       "    <tr>\n",
       "      <th>8</th>\n",
       "      <td>1000_8</td>\n",
       "      <td>2018-06-25</td>\n",
       "      <td>1000</td>\n",
       "    </tr>\n",
       "    <tr>\n",
       "      <th>9</th>\n",
       "      <td>1000_9</td>\n",
       "      <td>2018-12-18</td>\n",
       "      <td>1000</td>\n",
       "    </tr>\n",
       "  </tbody>\n",
       "</table>\n",
       "</div>"
      ],
      "text/plain": [
       "       id message_date  user_id\n",
       "0  1000_0   2018-06-27     1000\n",
       "1  1000_1   2018-10-08     1000\n",
       "2  1000_2   2018-08-04     1000\n",
       "3  1000_3   2018-06-16     1000\n",
       "4  1000_4   2018-12-05     1000\n",
       "5  1000_5   2018-06-20     1000\n",
       "6  1000_6   2018-11-19     1000\n",
       "7  1000_7   2018-10-29     1000\n",
       "8  1000_8   2018-06-25     1000\n",
       "9  1000_9   2018-12-18     1000"
      ]
     },
     "execution_count": 8,
     "metadata": {},
     "output_type": "execute_result"
    }
   ],
   "source": [
    "#информация по таблице messages\n",
    "messages=pd.read_csv('/datasets/messages.csv')# чтение файла с данными и сохранение в messages\n",
    "messages.head(10)# получение первых 10 строк таблицы "
   ]
  },
  {
   "cell_type": "code",
   "execution_count": 9,
   "id": "ddd38c34",
   "metadata": {
    "scrolled": false
   },
   "outputs": [
    {
     "name": "stdout",
     "output_type": "stream",
     "text": [
      "<class 'pandas.core.frame.DataFrame'>\n",
      "RangeIndex: 123036 entries, 0 to 123035\n",
      "Data columns (total 3 columns):\n",
      " #   Column        Non-Null Count   Dtype \n",
      "---  ------        --------------   ----- \n",
      " 0   id            123036 non-null  object\n",
      " 1   message_date  123036 non-null  object\n",
      " 2   user_id       123036 non-null  int64 \n",
      "dtypes: int64(1), object(2)\n",
      "memory usage: 2.8+ MB\n"
     ]
    }
   ],
   "source": [
    "messages.info()# получение общей информации о данных в таблице"
   ]
  },
  {
   "cell_type": "markdown",
   "id": "a427a6f0",
   "metadata": {},
   "source": [
    "**Описание данных**\n",
    "\n",
    "В таблице четыре столбца\n",
    "\n",
    "* `id` — уникальный номер сообщения;\n",
    "* `message_date` - дата сообщения;\n",
    "* `user_id` — идентификатор пользователя;\n",
    "\n",
    "Количество значений в столбцах совпадают. Значит, в данных нет пропущенные значения."
   ]
  },
  {
   "cell_type": "markdown",
   "id": "0e5790bb",
   "metadata": {},
   "source": [
    "**Информация по таблице internet**"
   ]
  },
  {
   "cell_type": "code",
   "execution_count": 10,
   "id": "8dcbe8af",
   "metadata": {
    "scrolled": true
   },
   "outputs": [
    {
     "data": {
      "text/html": [
       "<div>\n",
       "<style scoped>\n",
       "    .dataframe tbody tr th:only-of-type {\n",
       "        vertical-align: middle;\n",
       "    }\n",
       "\n",
       "    .dataframe tbody tr th {\n",
       "        vertical-align: top;\n",
       "    }\n",
       "\n",
       "    .dataframe thead th {\n",
       "        text-align: right;\n",
       "    }\n",
       "</style>\n",
       "<table border=\"1\" class=\"dataframe\">\n",
       "  <thead>\n",
       "    <tr style=\"text-align: right;\">\n",
       "      <th></th>\n",
       "      <th>Unnamed: 0</th>\n",
       "      <th>id</th>\n",
       "      <th>mb_used</th>\n",
       "      <th>session_date</th>\n",
       "      <th>user_id</th>\n",
       "    </tr>\n",
       "  </thead>\n",
       "  <tbody>\n",
       "    <tr>\n",
       "      <th>0</th>\n",
       "      <td>0</td>\n",
       "      <td>1000_0</td>\n",
       "      <td>112.95</td>\n",
       "      <td>2018-11-25</td>\n",
       "      <td>1000</td>\n",
       "    </tr>\n",
       "    <tr>\n",
       "      <th>1</th>\n",
       "      <td>1</td>\n",
       "      <td>1000_1</td>\n",
       "      <td>1052.81</td>\n",
       "      <td>2018-09-07</td>\n",
       "      <td>1000</td>\n",
       "    </tr>\n",
       "    <tr>\n",
       "      <th>2</th>\n",
       "      <td>2</td>\n",
       "      <td>1000_2</td>\n",
       "      <td>1197.26</td>\n",
       "      <td>2018-06-25</td>\n",
       "      <td>1000</td>\n",
       "    </tr>\n",
       "    <tr>\n",
       "      <th>3</th>\n",
       "      <td>3</td>\n",
       "      <td>1000_3</td>\n",
       "      <td>550.27</td>\n",
       "      <td>2018-08-22</td>\n",
       "      <td>1000</td>\n",
       "    </tr>\n",
       "    <tr>\n",
       "      <th>4</th>\n",
       "      <td>4</td>\n",
       "      <td>1000_4</td>\n",
       "      <td>302.56</td>\n",
       "      <td>2018-09-24</td>\n",
       "      <td>1000</td>\n",
       "    </tr>\n",
       "    <tr>\n",
       "      <th>5</th>\n",
       "      <td>5</td>\n",
       "      <td>1000_5</td>\n",
       "      <td>399.97</td>\n",
       "      <td>2018-10-02</td>\n",
       "      <td>1000</td>\n",
       "    </tr>\n",
       "    <tr>\n",
       "      <th>6</th>\n",
       "      <td>6</td>\n",
       "      <td>1000_6</td>\n",
       "      <td>540.08</td>\n",
       "      <td>2018-09-07</td>\n",
       "      <td>1000</td>\n",
       "    </tr>\n",
       "    <tr>\n",
       "      <th>7</th>\n",
       "      <td>7</td>\n",
       "      <td>1000_7</td>\n",
       "      <td>415.70</td>\n",
       "      <td>2018-07-11</td>\n",
       "      <td>1000</td>\n",
       "    </tr>\n",
       "    <tr>\n",
       "      <th>8</th>\n",
       "      <td>8</td>\n",
       "      <td>1000_8</td>\n",
       "      <td>505.40</td>\n",
       "      <td>2018-10-08</td>\n",
       "      <td>1000</td>\n",
       "    </tr>\n",
       "    <tr>\n",
       "      <th>9</th>\n",
       "      <td>9</td>\n",
       "      <td>1000_9</td>\n",
       "      <td>345.54</td>\n",
       "      <td>2018-09-03</td>\n",
       "      <td>1000</td>\n",
       "    </tr>\n",
       "  </tbody>\n",
       "</table>\n",
       "</div>"
      ],
      "text/plain": [
       "   Unnamed: 0      id  mb_used session_date  user_id\n",
       "0           0  1000_0   112.95   2018-11-25     1000\n",
       "1           1  1000_1  1052.81   2018-09-07     1000\n",
       "2           2  1000_2  1197.26   2018-06-25     1000\n",
       "3           3  1000_3   550.27   2018-08-22     1000\n",
       "4           4  1000_4   302.56   2018-09-24     1000\n",
       "5           5  1000_5   399.97   2018-10-02     1000\n",
       "6           6  1000_6   540.08   2018-09-07     1000\n",
       "7           7  1000_7   415.70   2018-07-11     1000\n",
       "8           8  1000_8   505.40   2018-10-08     1000\n",
       "9           9  1000_9   345.54   2018-09-03     1000"
      ]
     },
     "execution_count": 10,
     "metadata": {},
     "output_type": "execute_result"
    }
   ],
   "source": [
    "#информация по таблице internet\n",
    "internet=pd.read_csv('/datasets/internet.csv')# чтение файла с данными и сохранение в internet\n",
    "internet.head(10)# получение первых 10 строк таблицы \n"
   ]
  },
  {
   "cell_type": "code",
   "execution_count": 11,
   "id": "f8cefef6",
   "metadata": {
    "scrolled": false
   },
   "outputs": [
    {
     "name": "stdout",
     "output_type": "stream",
     "text": [
      "<class 'pandas.core.frame.DataFrame'>\n",
      "RangeIndex: 149396 entries, 0 to 149395\n",
      "Data columns (total 5 columns):\n",
      " #   Column        Non-Null Count   Dtype  \n",
      "---  ------        --------------   -----  \n",
      " 0   Unnamed: 0    149396 non-null  int64  \n",
      " 1   id            149396 non-null  object \n",
      " 2   mb_used       149396 non-null  float64\n",
      " 3   session_date  149396 non-null  object \n",
      " 4   user_id       149396 non-null  int64  \n",
      "dtypes: float64(1), int64(2), object(2)\n",
      "memory usage: 5.7+ MB\n"
     ]
    }
   ],
   "source": [
    "internet.info()# получение общей информации о данных в таблице"
   ]
  },
  {
   "cell_type": "markdown",
   "id": "248a128c",
   "metadata": {},
   "source": [
    "**Описание данных**\n",
    "\n",
    "В таблице пять столбцов\n",
    "\n",
    "* `Unnamed: 0` - столбец без имени;\n",
    "* `id` — уникальный номер сессии;\n",
    "* `mb_used` - объём потраченного за сессию интернет-трафика (в мегабайтах);\n",
    "* `session_date` — дата интернет-сессии;\n",
    "* `user_id` — идентификатор пользователя;\n",
    "\n",
    "Количество значений в столбцах совпадают. Значит, в данных нет пропущенные значения."
   ]
  },
  {
   "cell_type": "markdown",
   "id": "e6b83402",
   "metadata": {},
   "source": [
    "**Информация по таблице tariffs**"
   ]
  },
  {
   "cell_type": "code",
   "execution_count": 12,
   "id": "73a5d31b",
   "metadata": {
    "scrolled": true
   },
   "outputs": [
    {
     "data": {
      "text/html": [
       "<div>\n",
       "<style scoped>\n",
       "    .dataframe tbody tr th:only-of-type {\n",
       "        vertical-align: middle;\n",
       "    }\n",
       "\n",
       "    .dataframe tbody tr th {\n",
       "        vertical-align: top;\n",
       "    }\n",
       "\n",
       "    .dataframe thead th {\n",
       "        text-align: right;\n",
       "    }\n",
       "</style>\n",
       "<table border=\"1\" class=\"dataframe\">\n",
       "  <thead>\n",
       "    <tr style=\"text-align: right;\">\n",
       "      <th></th>\n",
       "      <th>messages_included</th>\n",
       "      <th>mb_per_month_included</th>\n",
       "      <th>minutes_included</th>\n",
       "      <th>rub_monthly_fee</th>\n",
       "      <th>rub_per_gb</th>\n",
       "      <th>rub_per_message</th>\n",
       "      <th>rub_per_minute</th>\n",
       "      <th>tariff_name</th>\n",
       "    </tr>\n",
       "  </thead>\n",
       "  <tbody>\n",
       "    <tr>\n",
       "      <th>0</th>\n",
       "      <td>50</td>\n",
       "      <td>15360</td>\n",
       "      <td>500</td>\n",
       "      <td>550</td>\n",
       "      <td>200</td>\n",
       "      <td>3</td>\n",
       "      <td>3</td>\n",
       "      <td>smart</td>\n",
       "    </tr>\n",
       "    <tr>\n",
       "      <th>1</th>\n",
       "      <td>1000</td>\n",
       "      <td>30720</td>\n",
       "      <td>3000</td>\n",
       "      <td>1950</td>\n",
       "      <td>150</td>\n",
       "      <td>1</td>\n",
       "      <td>1</td>\n",
       "      <td>ultra</td>\n",
       "    </tr>\n",
       "  </tbody>\n",
       "</table>\n",
       "</div>"
      ],
      "text/plain": [
       "   messages_included  mb_per_month_included  minutes_included  \\\n",
       "0                 50                  15360               500   \n",
       "1               1000                  30720              3000   \n",
       "\n",
       "   rub_monthly_fee  rub_per_gb  rub_per_message  rub_per_minute tariff_name  \n",
       "0              550         200                3               3       smart  \n",
       "1             1950         150                1               1       ultra  "
      ]
     },
     "execution_count": 12,
     "metadata": {},
     "output_type": "execute_result"
    }
   ],
   "source": [
    "#информация по таблице tariffs\n",
    "tariffs=pd.read_csv('/datasets/tariffs.csv')# чтение файла с данными и сохранение в tariffs\n",
    "tariffs.head(10)# получение первых 10 строк таблицы "
   ]
  },
  {
   "cell_type": "code",
   "execution_count": 13,
   "id": "b6b7f669",
   "metadata": {
    "scrolled": false
   },
   "outputs": [
    {
     "name": "stdout",
     "output_type": "stream",
     "text": [
      "<class 'pandas.core.frame.DataFrame'>\n",
      "RangeIndex: 2 entries, 0 to 1\n",
      "Data columns (total 8 columns):\n",
      " #   Column                 Non-Null Count  Dtype \n",
      "---  ------                 --------------  ----- \n",
      " 0   messages_included      2 non-null      int64 \n",
      " 1   mb_per_month_included  2 non-null      int64 \n",
      " 2   minutes_included       2 non-null      int64 \n",
      " 3   rub_monthly_fee        2 non-null      int64 \n",
      " 4   rub_per_gb             2 non-null      int64 \n",
      " 5   rub_per_message        2 non-null      int64 \n",
      " 6   rub_per_minute         2 non-null      int64 \n",
      " 7   tariff_name            2 non-null      object\n",
      "dtypes: int64(7), object(1)\n",
      "memory usage: 256.0+ bytes\n"
     ]
    }
   ],
   "source": [
    "tariffs.info()# получение общей информации о данных в таблице"
   ]
  },
  {
   "cell_type": "markdown",
   "id": "84070e90",
   "metadata": {},
   "source": [
    "**Описание данных**\n",
    "\n",
    "В таблице восемь столбцов\n",
    "\n",
    "* `tariff_name` - название тарифа;\n",
    "* `rub_monthly_fee` — ежемесячная абонентская плата в рублях;\n",
    "* `minutes_included` - количество минут разговора в месяц, включённых в абонентскую плату;\n",
    "* `messages_included` — количество сообщений в месяц, включённых в абонентскую плату;\n",
    "* `mb_per_month_included` — объём интернет-трафика, включённого в абонентскую плату (в мегабайтах);\n",
    "* `rub_per_minute` — стоимость минуты разговора сверх тарифного пакета;\n",
    "* `rub_per_message` — стоимость отправки сообщения сверх тарифного пакета\n",
    "* `rub_per_gb` — стоимость дополнительного гигабайта интернет-трафика сверх тарифного пакета (1 гигабайт = 1024 мегабайта)\n",
    "\n",
    "Количество значений в столбцах совпадают. Значит, в данных нет пропущенные значения."
   ]
  },
  {
   "cell_type": "markdown",
   "id": "a6aabcb5",
   "metadata": {},
   "source": [
    "### Вывод"
   ]
  },
  {
   "cell_type": "markdown",
   "id": "6861d0cf",
   "metadata": {},
   "source": [
    "1. Количество значений в столбцах различается в таблице `users`. Значит, в данных есть пропущенные значения. В качестве замены пропусков можно использовать послений день года т.е. 2018-12-31 т.к рассматриваем диапазон времени в рамках 2018 года и такой даты прекращения пользования тарифом нет.\n",
    "2. Названия некоторых столбцов не соответствуют правилам написания\n",
    "3. Тип некоторых столбцов не соответсвует описанию, в частности столбцы связанные с датой звонка, сообщения, окончание пользования тарифом\n",
    "\n",
    "\n",
    "\n",
    "\n",
    "Предварительно можно утверждать, что, данных достаточно для проверки гипотез. Но встречаются пропуски в данных.\n"
   ]
  },
  {
   "cell_type": "markdown",
   "id": "beb6b54c",
   "metadata": {},
   "source": [
    "## Предобработка данных"
   ]
  },
  {
   "cell_type": "code",
   "execution_count": 14,
   "id": "ab1e799e",
   "metadata": {},
   "outputs": [
    {
     "data": {
      "text/plain": [
       "462"
      ]
     },
     "metadata": {},
     "output_type": "display_data"
    }
   ],
   "source": [
    "#Количество пропущенных значений в 'churn_date'\n",
    "display(len(users[users['churn_date'].isna()]))\n"
   ]
  },
  {
   "cell_type": "code",
   "execution_count": 15,
   "id": "e397cba5",
   "metadata": {},
   "outputs": [
    {
     "data": {
      "text/html": [
       "<div>\n",
       "<style scoped>\n",
       "    .dataframe tbody tr th:only-of-type {\n",
       "        vertical-align: middle;\n",
       "    }\n",
       "\n",
       "    .dataframe tbody tr th {\n",
       "        vertical-align: top;\n",
       "    }\n",
       "\n",
       "    .dataframe thead th {\n",
       "        text-align: right;\n",
       "    }\n",
       "</style>\n",
       "<table border=\"1\" class=\"dataframe\">\n",
       "  <thead>\n",
       "    <tr style=\"text-align: right;\">\n",
       "      <th></th>\n",
       "      <th>user_id</th>\n",
       "      <th>age</th>\n",
       "      <th>churn_date</th>\n",
       "      <th>city</th>\n",
       "      <th>first_name</th>\n",
       "      <th>last_name</th>\n",
       "      <th>reg_date</th>\n",
       "      <th>tariff</th>\n",
       "    </tr>\n",
       "  </thead>\n",
       "  <tbody>\n",
       "    <tr>\n",
       "      <th>0</th>\n",
       "      <td>1000</td>\n",
       "      <td>52</td>\n",
       "      <td>2018-12-31</td>\n",
       "      <td>Краснодар</td>\n",
       "      <td>Рафаил</td>\n",
       "      <td>Верещагин</td>\n",
       "      <td>2018-05-25</td>\n",
       "      <td>ultra</td>\n",
       "    </tr>\n",
       "    <tr>\n",
       "      <th>1</th>\n",
       "      <td>1001</td>\n",
       "      <td>41</td>\n",
       "      <td>2018-12-31</td>\n",
       "      <td>Москва</td>\n",
       "      <td>Иван</td>\n",
       "      <td>Ежов</td>\n",
       "      <td>2018-11-01</td>\n",
       "      <td>smart</td>\n",
       "    </tr>\n",
       "    <tr>\n",
       "      <th>2</th>\n",
       "      <td>1002</td>\n",
       "      <td>59</td>\n",
       "      <td>2018-12-31</td>\n",
       "      <td>Стерлитамак</td>\n",
       "      <td>Евгений</td>\n",
       "      <td>Абрамович</td>\n",
       "      <td>2018-06-17</td>\n",
       "      <td>smart</td>\n",
       "    </tr>\n",
       "    <tr>\n",
       "      <th>3</th>\n",
       "      <td>1003</td>\n",
       "      <td>23</td>\n",
       "      <td>2018-12-31</td>\n",
       "      <td>Москва</td>\n",
       "      <td>Белла</td>\n",
       "      <td>Белякова</td>\n",
       "      <td>2018-08-17</td>\n",
       "      <td>ultra</td>\n",
       "    </tr>\n",
       "    <tr>\n",
       "      <th>4</th>\n",
       "      <td>1004</td>\n",
       "      <td>68</td>\n",
       "      <td>2018-12-31</td>\n",
       "      <td>Новокузнецк</td>\n",
       "      <td>Татьяна</td>\n",
       "      <td>Авдеенко</td>\n",
       "      <td>2018-05-14</td>\n",
       "      <td>ultra</td>\n",
       "    </tr>\n",
       "    <tr>\n",
       "      <th>5</th>\n",
       "      <td>1005</td>\n",
       "      <td>67</td>\n",
       "      <td>2018-12-31</td>\n",
       "      <td>Набережные Челны</td>\n",
       "      <td>Афанасий</td>\n",
       "      <td>Горлов</td>\n",
       "      <td>2018-01-25</td>\n",
       "      <td>smart</td>\n",
       "    </tr>\n",
       "    <tr>\n",
       "      <th>6</th>\n",
       "      <td>1006</td>\n",
       "      <td>21</td>\n",
       "      <td>2018-12-31</td>\n",
       "      <td>Ульяновск</td>\n",
       "      <td>Леонид</td>\n",
       "      <td>Ермолаев</td>\n",
       "      <td>2018-02-26</td>\n",
       "      <td>smart</td>\n",
       "    </tr>\n",
       "    <tr>\n",
       "      <th>7</th>\n",
       "      <td>1007</td>\n",
       "      <td>65</td>\n",
       "      <td>2018-12-31</td>\n",
       "      <td>Москва</td>\n",
       "      <td>Юна</td>\n",
       "      <td>Березина</td>\n",
       "      <td>2018-04-19</td>\n",
       "      <td>smart</td>\n",
       "    </tr>\n",
       "    <tr>\n",
       "      <th>8</th>\n",
       "      <td>1008</td>\n",
       "      <td>63</td>\n",
       "      <td>2018-12-31</td>\n",
       "      <td>Челябинск</td>\n",
       "      <td>Рустэм</td>\n",
       "      <td>Пономарёв</td>\n",
       "      <td>2018-12-19</td>\n",
       "      <td>smart</td>\n",
       "    </tr>\n",
       "    <tr>\n",
       "      <th>9</th>\n",
       "      <td>1009</td>\n",
       "      <td>24</td>\n",
       "      <td>2018-12-31</td>\n",
       "      <td>Пермь</td>\n",
       "      <td>Василиса</td>\n",
       "      <td>Блинова</td>\n",
       "      <td>2018-03-22</td>\n",
       "      <td>smart</td>\n",
       "    </tr>\n",
       "  </tbody>\n",
       "</table>\n",
       "</div>"
      ],
      "text/plain": [
       "   user_id  age  churn_date              city first_name  last_name  \\\n",
       "0     1000   52  2018-12-31         Краснодар     Рафаил  Верещагин   \n",
       "1     1001   41  2018-12-31            Москва       Иван       Ежов   \n",
       "2     1002   59  2018-12-31       Стерлитамак    Евгений  Абрамович   \n",
       "3     1003   23  2018-12-31            Москва      Белла   Белякова   \n",
       "4     1004   68  2018-12-31       Новокузнецк    Татьяна   Авдеенко   \n",
       "5     1005   67  2018-12-31  Набережные Челны   Афанасий     Горлов   \n",
       "6     1006   21  2018-12-31         Ульяновск     Леонид   Ермолаев   \n",
       "7     1007   65  2018-12-31            Москва        Юна   Березина   \n",
       "8     1008   63  2018-12-31         Челябинск     Рустэм  Пономарёв   \n",
       "9     1009   24  2018-12-31             Пермь   Василиса    Блинова   \n",
       "\n",
       "     reg_date tariff  \n",
       "0  2018-05-25  ultra  \n",
       "1  2018-11-01  smart  \n",
       "2  2018-06-17  smart  \n",
       "3  2018-08-17  ultra  \n",
       "4  2018-05-14  ultra  \n",
       "5  2018-01-25  smart  \n",
       "6  2018-02-26  smart  \n",
       "7  2018-04-19  smart  \n",
       "8  2018-12-19  smart  \n",
       "9  2018-03-22  smart  "
      ]
     },
     "metadata": {},
     "output_type": "display_data"
    },
    {
     "data": {
      "text/plain": [
       "0"
      ]
     },
     "metadata": {},
     "output_type": "display_data"
    }
   ],
   "source": [
    "#Имеется 462 значения заменим на 2018-12-31\n",
    "users['churn_date'] = users['churn_date'].fillna('2018-12-31')\n",
    "display (users.head(10))# получение первых 10 строк таблицы \n",
    "#проверка замены \n",
    "display(len(users[users['churn_date'].isna()]))"
   ]
  },
  {
   "cell_type": "code",
   "execution_count": 16,
   "id": "93d74585",
   "metadata": {
    "scrolled": false
   },
   "outputs": [
    {
     "name": "stdout",
     "output_type": "stream",
     "text": [
      "<class 'pandas.core.frame.DataFrame'>\n",
      "RangeIndex: 500 entries, 0 to 499\n",
      "Data columns (total 8 columns):\n",
      " #   Column      Non-Null Count  Dtype         \n",
      "---  ------      --------------  -----         \n",
      " 0   user_id     500 non-null    int64         \n",
      " 1   age         500 non-null    int64         \n",
      " 2   churn_date  500 non-null    datetime64[ns]\n",
      " 3   city        500 non-null    object        \n",
      " 4   first_name  500 non-null    object        \n",
      " 5   last_name   500 non-null    object        \n",
      " 6   reg_date    500 non-null    datetime64[ns]\n",
      " 7   tariff      500 non-null    object        \n",
      "dtypes: datetime64[ns](2), int64(2), object(4)\n",
      "memory usage: 31.4+ KB\n"
     ]
    }
   ],
   "source": [
    "#переводим столбцы 'churn_date' и 'reg_date' таблицы users в даты \n",
    "users['churn_date'] = pd.to_datetime(users['churn_date'], format='%Y-%m-%d')\n",
    "users['reg_date'] = pd.to_datetime(users['reg_date'], format='%Y-%m-%d')\n",
    "users.info()\n",
    "#display (users.head(10))# получение первых 10 строк таблицы "
   ]
  },
  {
   "cell_type": "code",
   "execution_count": 17,
   "id": "b50cb5a1",
   "metadata": {
    "scrolled": false
   },
   "outputs": [
    {
     "name": "stdout",
     "output_type": "stream",
     "text": [
      "<class 'pandas.core.frame.DataFrame'>\n",
      "RangeIndex: 202607 entries, 0 to 202606\n",
      "Data columns (total 4 columns):\n",
      " #   Column     Non-Null Count   Dtype         \n",
      "---  ------     --------------   -----         \n",
      " 0   id         202607 non-null  object        \n",
      " 1   call_date  202607 non-null  datetime64[ns]\n",
      " 2   duration   202607 non-null  float64       \n",
      " 3   user_id    202607 non-null  int64         \n",
      "dtypes: datetime64[ns](1), float64(1), int64(1), object(1)\n",
      "memory usage: 6.2+ MB\n"
     ]
    }
   ],
   "source": [
    "#переводим столбцы 'call_date' таблицы 'calls' в даты\n",
    "calls['call_date'] = pd.to_datetime(calls['call_date'], format='%Y-%m-%d')\n",
    "calls.info()"
   ]
  },
  {
   "cell_type": "code",
   "execution_count": 18,
   "id": "04a8b174",
   "metadata": {
    "scrolled": false
   },
   "outputs": [
    {
     "name": "stdout",
     "output_type": "stream",
     "text": [
      "<class 'pandas.core.frame.DataFrame'>\n",
      "RangeIndex: 123036 entries, 0 to 123035\n",
      "Data columns (total 3 columns):\n",
      " #   Column        Non-Null Count   Dtype         \n",
      "---  ------        --------------   -----         \n",
      " 0   id            123036 non-null  object        \n",
      " 1   message_date  123036 non-null  datetime64[ns]\n",
      " 2   user_id       123036 non-null  int64         \n",
      "dtypes: datetime64[ns](1), int64(1), object(1)\n",
      "memory usage: 2.8+ MB\n"
     ]
    }
   ],
   "source": [
    "#переводим столбцы 'message_date' таблицы 'messages' в даты\n",
    "messages['message_date'] = pd.to_datetime(messages['message_date'], format='%Y-%m-%d')\n",
    "messages.info()"
   ]
  },
  {
   "cell_type": "code",
   "execution_count": 19,
   "id": "f03e0d2b",
   "metadata": {
    "scrolled": false
   },
   "outputs": [
    {
     "name": "stdout",
     "output_type": "stream",
     "text": [
      "<class 'pandas.core.frame.DataFrame'>\n",
      "RangeIndex: 149396 entries, 0 to 149395\n",
      "Data columns (total 5 columns):\n",
      " #   Column        Non-Null Count   Dtype         \n",
      "---  ------        --------------   -----         \n",
      " 0   Unnamed: 0    149396 non-null  int64         \n",
      " 1   id            149396 non-null  object        \n",
      " 2   mb_used       149396 non-null  float64       \n",
      " 3   session_date  149396 non-null  datetime64[ns]\n",
      " 4   user_id       149396 non-null  int64         \n",
      "dtypes: datetime64[ns](1), float64(1), int64(2), object(1)\n",
      "memory usage: 5.7+ MB\n"
     ]
    },
    {
     "data": {
      "text/html": [
       "<div>\n",
       "<style scoped>\n",
       "    .dataframe tbody tr th:only-of-type {\n",
       "        vertical-align: middle;\n",
       "    }\n",
       "\n",
       "    .dataframe tbody tr th {\n",
       "        vertical-align: top;\n",
       "    }\n",
       "\n",
       "    .dataframe thead th {\n",
       "        text-align: right;\n",
       "    }\n",
       "</style>\n",
       "<table border=\"1\" class=\"dataframe\">\n",
       "  <thead>\n",
       "    <tr style=\"text-align: right;\">\n",
       "      <th></th>\n",
       "      <th>Unnamed: 0</th>\n",
       "      <th>id</th>\n",
       "      <th>mb_used</th>\n",
       "      <th>session_date</th>\n",
       "      <th>user_id</th>\n",
       "    </tr>\n",
       "  </thead>\n",
       "  <tbody>\n",
       "    <tr>\n",
       "      <th>0</th>\n",
       "      <td>0</td>\n",
       "      <td>1000_0</td>\n",
       "      <td>112.95</td>\n",
       "      <td>2018-11-25</td>\n",
       "      <td>1000</td>\n",
       "    </tr>\n",
       "    <tr>\n",
       "      <th>1</th>\n",
       "      <td>1</td>\n",
       "      <td>1000_1</td>\n",
       "      <td>1052.81</td>\n",
       "      <td>2018-09-07</td>\n",
       "      <td>1000</td>\n",
       "    </tr>\n",
       "    <tr>\n",
       "      <th>2</th>\n",
       "      <td>2</td>\n",
       "      <td>1000_2</td>\n",
       "      <td>1197.26</td>\n",
       "      <td>2018-06-25</td>\n",
       "      <td>1000</td>\n",
       "    </tr>\n",
       "    <tr>\n",
       "      <th>3</th>\n",
       "      <td>3</td>\n",
       "      <td>1000_3</td>\n",
       "      <td>550.27</td>\n",
       "      <td>2018-08-22</td>\n",
       "      <td>1000</td>\n",
       "    </tr>\n",
       "    <tr>\n",
       "      <th>4</th>\n",
       "      <td>4</td>\n",
       "      <td>1000_4</td>\n",
       "      <td>302.56</td>\n",
       "      <td>2018-09-24</td>\n",
       "      <td>1000</td>\n",
       "    </tr>\n",
       "  </tbody>\n",
       "</table>\n",
       "</div>"
      ],
      "text/plain": [
       "   Unnamed: 0      id  mb_used session_date  user_id\n",
       "0           0  1000_0   112.95   2018-11-25     1000\n",
       "1           1  1000_1  1052.81   2018-09-07     1000\n",
       "2           2  1000_2  1197.26   2018-06-25     1000\n",
       "3           3  1000_3   550.27   2018-08-22     1000\n",
       "4           4  1000_4   302.56   2018-09-24     1000"
      ]
     },
     "metadata": {},
     "output_type": "display_data"
    }
   ],
   "source": [
    "#переводим столбцы 'session_date' таблицы 'internet' в даты\n",
    "internet['session_date'] = pd.to_datetime(internet['session_date'], format='%Y-%m-%d')\n",
    "internet.info()\n",
    "display(internet.head())"
   ]
  },
  {
   "cell_type": "code",
   "execution_count": 20,
   "id": "1c7f9f89",
   "metadata": {
    "scrolled": false
   },
   "outputs": [
    {
     "data": {
      "text/html": [
       "<div>\n",
       "<style scoped>\n",
       "    .dataframe tbody tr th:only-of-type {\n",
       "        vertical-align: middle;\n",
       "    }\n",
       "\n",
       "    .dataframe tbody tr th {\n",
       "        vertical-align: top;\n",
       "    }\n",
       "\n",
       "    .dataframe thead th {\n",
       "        text-align: right;\n",
       "    }\n",
       "</style>\n",
       "<table border=\"1\" class=\"dataframe\">\n",
       "  <thead>\n",
       "    <tr style=\"text-align: right;\">\n",
       "      <th></th>\n",
       "      <th>id</th>\n",
       "      <th>call_date</th>\n",
       "      <th>duration</th>\n",
       "      <th>user_id</th>\n",
       "      <th>month</th>\n",
       "    </tr>\n",
       "  </thead>\n",
       "  <tbody>\n",
       "    <tr>\n",
       "      <th>0</th>\n",
       "      <td>1000_0</td>\n",
       "      <td>2018-07-25</td>\n",
       "      <td>0.00</td>\n",
       "      <td>1000</td>\n",
       "      <td>07</td>\n",
       "    </tr>\n",
       "    <tr>\n",
       "      <th>1</th>\n",
       "      <td>1000_1</td>\n",
       "      <td>2018-08-17</td>\n",
       "      <td>0.00</td>\n",
       "      <td>1000</td>\n",
       "      <td>08</td>\n",
       "    </tr>\n",
       "    <tr>\n",
       "      <th>2</th>\n",
       "      <td>1000_2</td>\n",
       "      <td>2018-06-11</td>\n",
       "      <td>2.85</td>\n",
       "      <td>1000</td>\n",
       "      <td>06</td>\n",
       "    </tr>\n",
       "    <tr>\n",
       "      <th>3</th>\n",
       "      <td>1000_3</td>\n",
       "      <td>2018-09-21</td>\n",
       "      <td>13.80</td>\n",
       "      <td>1000</td>\n",
       "      <td>09</td>\n",
       "    </tr>\n",
       "    <tr>\n",
       "      <th>4</th>\n",
       "      <td>1000_4</td>\n",
       "      <td>2018-12-15</td>\n",
       "      <td>5.18</td>\n",
       "      <td>1000</td>\n",
       "      <td>12</td>\n",
       "    </tr>\n",
       "  </tbody>\n",
       "</table>\n",
       "</div>"
      ],
      "text/plain": [
       "       id  call_date  duration  user_id month\n",
       "0  1000_0 2018-07-25      0.00     1000    07\n",
       "1  1000_1 2018-08-17      0.00     1000    08\n",
       "2  1000_2 2018-06-11      2.85     1000    06\n",
       "3  1000_3 2018-09-21     13.80     1000    09\n",
       "4  1000_4 2018-12-15      5.18     1000    12"
      ]
     },
     "metadata": {},
     "output_type": "display_data"
    },
    {
     "name": "stdout",
     "output_type": "stream",
     "text": [
      "<class 'pandas.core.frame.DataFrame'>\n",
      "RangeIndex: 202607 entries, 0 to 202606\n",
      "Data columns (total 5 columns):\n",
      " #   Column     Non-Null Count   Dtype         \n",
      "---  ------     --------------   -----         \n",
      " 0   id         202607 non-null  object        \n",
      " 1   call_date  202607 non-null  datetime64[ns]\n",
      " 2   duration   202607 non-null  float64       \n",
      " 3   user_id    202607 non-null  int64         \n",
      " 4   month      202607 non-null  object        \n",
      "dtypes: datetime64[ns](1), float64(1), int64(1), object(2)\n",
      "memory usage: 7.7+ MB\n"
     ]
    },
    {
     "data": {
      "text/html": [
       "<div>\n",
       "<style scoped>\n",
       "    .dataframe tbody tr th:only-of-type {\n",
       "        vertical-align: middle;\n",
       "    }\n",
       "\n",
       "    .dataframe tbody tr th {\n",
       "        vertical-align: top;\n",
       "    }\n",
       "\n",
       "    .dataframe thead th {\n",
       "        text-align: right;\n",
       "    }\n",
       "</style>\n",
       "<table border=\"1\" class=\"dataframe\">\n",
       "  <thead>\n",
       "    <tr style=\"text-align: right;\">\n",
       "      <th></th>\n",
       "      <th>id</th>\n",
       "      <th>call_date</th>\n",
       "      <th>duration</th>\n",
       "      <th>user_id</th>\n",
       "      <th>month</th>\n",
       "    </tr>\n",
       "  </thead>\n",
       "  <tbody>\n",
       "    <tr>\n",
       "      <th>0</th>\n",
       "      <td>1000_0</td>\n",
       "      <td>2018-07-25</td>\n",
       "      <td>0.0</td>\n",
       "      <td>1000</td>\n",
       "      <td>07</td>\n",
       "    </tr>\n",
       "    <tr>\n",
       "      <th>1</th>\n",
       "      <td>1000_1</td>\n",
       "      <td>2018-08-17</td>\n",
       "      <td>0.0</td>\n",
       "      <td>1000</td>\n",
       "      <td>08</td>\n",
       "    </tr>\n",
       "    <tr>\n",
       "      <th>2</th>\n",
       "      <td>1000_2</td>\n",
       "      <td>2018-06-11</td>\n",
       "      <td>3.0</td>\n",
       "      <td>1000</td>\n",
       "      <td>06</td>\n",
       "    </tr>\n",
       "    <tr>\n",
       "      <th>3</th>\n",
       "      <td>1000_3</td>\n",
       "      <td>2018-09-21</td>\n",
       "      <td>14.0</td>\n",
       "      <td>1000</td>\n",
       "      <td>09</td>\n",
       "    </tr>\n",
       "    <tr>\n",
       "      <th>4</th>\n",
       "      <td>1000_4</td>\n",
       "      <td>2018-12-15</td>\n",
       "      <td>6.0</td>\n",
       "      <td>1000</td>\n",
       "      <td>12</td>\n",
       "    </tr>\n",
       "  </tbody>\n",
       "</table>\n",
       "</div>"
      ],
      "text/plain": [
       "       id  call_date  duration  user_id month\n",
       "0  1000_0 2018-07-25       0.0     1000    07\n",
       "1  1000_1 2018-08-17       0.0     1000    08\n",
       "2  1000_2 2018-06-11       3.0     1000    06\n",
       "3  1000_3 2018-09-21      14.0     1000    09\n",
       "4  1000_4 2018-12-15       6.0     1000    12"
      ]
     },
     "metadata": {},
     "output_type": "display_data"
    }
   ],
   "source": [
    "#добавляем в талицу столбец с месяцами\n",
    "calls['month']=calls['call_date'].dt.strftime('%m')\n",
    "display(calls.head())\n",
    "calls.info()\n",
    "calls['duration']=(calls['duration'].apply(np.ceil))\n",
    "display(calls.head())"
   ]
  },
  {
   "cell_type": "code",
   "execution_count": 21,
   "id": "726cfbfa",
   "metadata": {},
   "outputs": [
    {
     "data": {
      "text/html": [
       "<div>\n",
       "<style scoped>\n",
       "    .dataframe tbody tr th:only-of-type {\n",
       "        vertical-align: middle;\n",
       "    }\n",
       "\n",
       "    .dataframe tbody tr th {\n",
       "        vertical-align: top;\n",
       "    }\n",
       "\n",
       "    .dataframe thead th {\n",
       "        text-align: right;\n",
       "    }\n",
       "</style>\n",
       "<table border=\"1\" class=\"dataframe\">\n",
       "  <thead>\n",
       "    <tr style=\"text-align: right;\">\n",
       "      <th></th>\n",
       "      <th></th>\n",
       "      <th>calls_sum</th>\n",
       "    </tr>\n",
       "    <tr>\n",
       "      <th>user_id</th>\n",
       "      <th>month</th>\n",
       "      <th></th>\n",
       "    </tr>\n",
       "  </thead>\n",
       "  <tbody>\n",
       "    <tr>\n",
       "      <th rowspan=\"5\" valign=\"top\">1000</th>\n",
       "      <th>05</th>\n",
       "      <td>22</td>\n",
       "    </tr>\n",
       "    <tr>\n",
       "      <th>06</th>\n",
       "      <td>43</td>\n",
       "    </tr>\n",
       "    <tr>\n",
       "      <th>07</th>\n",
       "      <td>47</td>\n",
       "    </tr>\n",
       "    <tr>\n",
       "      <th>08</th>\n",
       "      <td>52</td>\n",
       "    </tr>\n",
       "    <tr>\n",
       "      <th>09</th>\n",
       "      <td>58</td>\n",
       "    </tr>\n",
       "    <tr>\n",
       "      <th>...</th>\n",
       "      <th>...</th>\n",
       "      <td>...</td>\n",
       "    </tr>\n",
       "    <tr>\n",
       "      <th>1498</th>\n",
       "      <th>10</th>\n",
       "      <td>41</td>\n",
       "    </tr>\n",
       "    <tr>\n",
       "      <th rowspan=\"4\" valign=\"top\">1499</th>\n",
       "      <th>09</th>\n",
       "      <td>9</td>\n",
       "    </tr>\n",
       "    <tr>\n",
       "      <th>10</th>\n",
       "      <td>68</td>\n",
       "    </tr>\n",
       "    <tr>\n",
       "      <th>11</th>\n",
       "      <td>74</td>\n",
       "    </tr>\n",
       "    <tr>\n",
       "      <th>12</th>\n",
       "      <td>69</td>\n",
       "    </tr>\n",
       "  </tbody>\n",
       "</table>\n",
       "<p>3174 rows × 1 columns</p>\n",
       "</div>"
      ],
      "text/plain": [
       "               calls_sum\n",
       "user_id month           \n",
       "1000    05            22\n",
       "        06            43\n",
       "        07            47\n",
       "        08            52\n",
       "        09            58\n",
       "...                  ...\n",
       "1498    10            41\n",
       "1499    09             9\n",
       "        10            68\n",
       "        11            74\n",
       "        12            69\n",
       "\n",
       "[3174 rows x 1 columns]"
      ]
     },
     "metadata": {},
     "output_type": "display_data"
    },
    {
     "data": {
      "text/html": [
       "<div>\n",
       "<style scoped>\n",
       "    .dataframe tbody tr th:only-of-type {\n",
       "        vertical-align: middle;\n",
       "    }\n",
       "\n",
       "    .dataframe tbody tr th {\n",
       "        vertical-align: top;\n",
       "    }\n",
       "\n",
       "    .dataframe thead th {\n",
       "        text-align: right;\n",
       "    }\n",
       "</style>\n",
       "<table border=\"1\" class=\"dataframe\">\n",
       "  <thead>\n",
       "    <tr style=\"text-align: right;\">\n",
       "      <th></th>\n",
       "      <th></th>\n",
       "      <th>duration_sum</th>\n",
       "    </tr>\n",
       "    <tr>\n",
       "      <th>user_id</th>\n",
       "      <th>month</th>\n",
       "      <th></th>\n",
       "    </tr>\n",
       "  </thead>\n",
       "  <tbody>\n",
       "    <tr>\n",
       "      <th rowspan=\"5\" valign=\"top\">1000</th>\n",
       "      <th>05</th>\n",
       "      <td>159.0</td>\n",
       "    </tr>\n",
       "    <tr>\n",
       "      <th>06</th>\n",
       "      <td>172.0</td>\n",
       "    </tr>\n",
       "    <tr>\n",
       "      <th>07</th>\n",
       "      <td>340.0</td>\n",
       "    </tr>\n",
       "    <tr>\n",
       "      <th>08</th>\n",
       "      <td>408.0</td>\n",
       "    </tr>\n",
       "    <tr>\n",
       "      <th>09</th>\n",
       "      <td>466.0</td>\n",
       "    </tr>\n",
       "    <tr>\n",
       "      <th>...</th>\n",
       "      <th>...</th>\n",
       "      <td>...</td>\n",
       "    </tr>\n",
       "    <tr>\n",
       "      <th>1498</th>\n",
       "      <th>10</th>\n",
       "      <td>247.0</td>\n",
       "    </tr>\n",
       "    <tr>\n",
       "      <th rowspan=\"4\" valign=\"top\">1499</th>\n",
       "      <th>09</th>\n",
       "      <td>70.0</td>\n",
       "    </tr>\n",
       "    <tr>\n",
       "      <th>10</th>\n",
       "      <td>449.0</td>\n",
       "    </tr>\n",
       "    <tr>\n",
       "      <th>11</th>\n",
       "      <td>612.0</td>\n",
       "    </tr>\n",
       "    <tr>\n",
       "      <th>12</th>\n",
       "      <td>492.0</td>\n",
       "    </tr>\n",
       "  </tbody>\n",
       "</table>\n",
       "<p>3174 rows × 1 columns</p>\n",
       "</div>"
      ],
      "text/plain": [
       "               duration_sum\n",
       "user_id month              \n",
       "1000    05            159.0\n",
       "        06            172.0\n",
       "        07            340.0\n",
       "        08            408.0\n",
       "        09            466.0\n",
       "...                     ...\n",
       "1498    10            247.0\n",
       "1499    09             70.0\n",
       "        10            449.0\n",
       "        11            612.0\n",
       "        12            492.0\n",
       "\n",
       "[3174 rows x 1 columns]"
      ]
     },
     "metadata": {},
     "output_type": "display_data"
    }
   ],
   "source": [
    "#считаем количество звонков по месяцам для каждого клиента\n",
    "calls_month_pivot = calls.pivot_table(index=['user_id','month'], values='id', aggfunc='count')\n",
    "#переименовываем  столбец\n",
    "calls_month_pivot.columns = ['calls_sum']\n",
    "display(calls_month_pivot)\n",
    "#считаем количество израсходованных минут по месяцам для каждого клиента\n",
    "calls_duration_pivot = calls.pivot_table(index=['user_id','month'], values='duration', aggfunc='sum')\n",
    "#переименовываем  столбец\n",
    "calls_duration_pivot.columns = ['duration_sum']\n",
    "display(calls_duration_pivot)\n"
   ]
  },
  {
   "cell_type": "code",
   "execution_count": 22,
   "id": "10a81d55",
   "metadata": {},
   "outputs": [
    {
     "data": {
      "text/html": [
       "<div>\n",
       "<style scoped>\n",
       "    .dataframe tbody tr th:only-of-type {\n",
       "        vertical-align: middle;\n",
       "    }\n",
       "\n",
       "    .dataframe tbody tr th {\n",
       "        vertical-align: top;\n",
       "    }\n",
       "\n",
       "    .dataframe thead th {\n",
       "        text-align: right;\n",
       "    }\n",
       "</style>\n",
       "<table border=\"1\" class=\"dataframe\">\n",
       "  <thead>\n",
       "    <tr style=\"text-align: right;\">\n",
       "      <th></th>\n",
       "      <th></th>\n",
       "      <th>calls_sum</th>\n",
       "      <th>duration_sum</th>\n",
       "    </tr>\n",
       "    <tr>\n",
       "      <th>user_id</th>\n",
       "      <th>month</th>\n",
       "      <th></th>\n",
       "      <th></th>\n",
       "    </tr>\n",
       "  </thead>\n",
       "  <tbody>\n",
       "    <tr>\n",
       "      <th rowspan=\"5\" valign=\"top\">1000</th>\n",
       "      <th>05</th>\n",
       "      <td>22</td>\n",
       "      <td>159.0</td>\n",
       "    </tr>\n",
       "    <tr>\n",
       "      <th>06</th>\n",
       "      <td>43</td>\n",
       "      <td>172.0</td>\n",
       "    </tr>\n",
       "    <tr>\n",
       "      <th>07</th>\n",
       "      <td>47</td>\n",
       "      <td>340.0</td>\n",
       "    </tr>\n",
       "    <tr>\n",
       "      <th>08</th>\n",
       "      <td>52</td>\n",
       "      <td>408.0</td>\n",
       "    </tr>\n",
       "    <tr>\n",
       "      <th>09</th>\n",
       "      <td>58</td>\n",
       "      <td>466.0</td>\n",
       "    </tr>\n",
       "    <tr>\n",
       "      <th>...</th>\n",
       "      <th>...</th>\n",
       "      <td>...</td>\n",
       "      <td>...</td>\n",
       "    </tr>\n",
       "    <tr>\n",
       "      <th>1498</th>\n",
       "      <th>10</th>\n",
       "      <td>41</td>\n",
       "      <td>247.0</td>\n",
       "    </tr>\n",
       "    <tr>\n",
       "      <th rowspan=\"4\" valign=\"top\">1499</th>\n",
       "      <th>09</th>\n",
       "      <td>9</td>\n",
       "      <td>70.0</td>\n",
       "    </tr>\n",
       "    <tr>\n",
       "      <th>10</th>\n",
       "      <td>68</td>\n",
       "      <td>449.0</td>\n",
       "    </tr>\n",
       "    <tr>\n",
       "      <th>11</th>\n",
       "      <td>74</td>\n",
       "      <td>612.0</td>\n",
       "    </tr>\n",
       "    <tr>\n",
       "      <th>12</th>\n",
       "      <td>69</td>\n",
       "      <td>492.0</td>\n",
       "    </tr>\n",
       "  </tbody>\n",
       "</table>\n",
       "<p>3174 rows × 2 columns</p>\n",
       "</div>"
      ],
      "text/plain": [
       "               calls_sum  duration_sum\n",
       "user_id month                         \n",
       "1000    05            22         159.0\n",
       "        06            43         172.0\n",
       "        07            47         340.0\n",
       "        08            52         408.0\n",
       "        09            58         466.0\n",
       "...                  ...           ...\n",
       "1498    10            41         247.0\n",
       "1499    09             9          70.0\n",
       "        10            68         449.0\n",
       "        11            74         612.0\n",
       "        12            69         492.0\n",
       "\n",
       "[3174 rows x 2 columns]"
      ]
     },
     "metadata": {},
     "output_type": "display_data"
    }
   ],
   "source": [
    "#объединяем две таблицы по индексам\n",
    "calls_pivot_table=pd.merge(calls_month_pivot,calls_duration_pivot,right_index=True, left_index=True)\n",
    "display(calls_pivot_table)\n"
   ]
  },
  {
   "cell_type": "code",
   "execution_count": 23,
   "id": "043f7f05",
   "metadata": {
    "scrolled": false
   },
   "outputs": [
    {
     "name": "stdout",
     "output_type": "stream",
     "text": [
      "<class 'pandas.core.frame.DataFrame'>\n",
      "MultiIndex: 3174 entries, (1000, '05') to (1499, '12')\n",
      "Data columns (total 2 columns):\n",
      " #   Column        Non-Null Count  Dtype  \n",
      "---  ------        --------------  -----  \n",
      " 0   calls_sum     3174 non-null   int64  \n",
      " 1   duration_sum  3174 non-null   float64\n",
      "dtypes: float64(1), int64(1)\n",
      "memory usage: 192.0+ KB\n"
     ]
    }
   ],
   "source": [
    "calls_pivot_table.info()"
   ]
  },
  {
   "cell_type": "code",
   "execution_count": 24,
   "id": "07269b64",
   "metadata": {
    "scrolled": false
   },
   "outputs": [
    {
     "data": {
      "text/html": [
       "<div>\n",
       "<style scoped>\n",
       "    .dataframe tbody tr th:only-of-type {\n",
       "        vertical-align: middle;\n",
       "    }\n",
       "\n",
       "    .dataframe tbody tr th {\n",
       "        vertical-align: top;\n",
       "    }\n",
       "\n",
       "    .dataframe thead th {\n",
       "        text-align: right;\n",
       "    }\n",
       "</style>\n",
       "<table border=\"1\" class=\"dataframe\">\n",
       "  <thead>\n",
       "    <tr style=\"text-align: right;\">\n",
       "      <th></th>\n",
       "      <th>id</th>\n",
       "      <th>message_date</th>\n",
       "      <th>user_id</th>\n",
       "      <th>month</th>\n",
       "    </tr>\n",
       "  </thead>\n",
       "  <tbody>\n",
       "    <tr>\n",
       "      <th>0</th>\n",
       "      <td>1000_0</td>\n",
       "      <td>2018-06-27</td>\n",
       "      <td>1000</td>\n",
       "      <td>06</td>\n",
       "    </tr>\n",
       "    <tr>\n",
       "      <th>1</th>\n",
       "      <td>1000_1</td>\n",
       "      <td>2018-10-08</td>\n",
       "      <td>1000</td>\n",
       "      <td>10</td>\n",
       "    </tr>\n",
       "    <tr>\n",
       "      <th>2</th>\n",
       "      <td>1000_2</td>\n",
       "      <td>2018-08-04</td>\n",
       "      <td>1000</td>\n",
       "      <td>08</td>\n",
       "    </tr>\n",
       "    <tr>\n",
       "      <th>3</th>\n",
       "      <td>1000_3</td>\n",
       "      <td>2018-06-16</td>\n",
       "      <td>1000</td>\n",
       "      <td>06</td>\n",
       "    </tr>\n",
       "    <tr>\n",
       "      <th>4</th>\n",
       "      <td>1000_4</td>\n",
       "      <td>2018-12-05</td>\n",
       "      <td>1000</td>\n",
       "      <td>12</td>\n",
       "    </tr>\n",
       "  </tbody>\n",
       "</table>\n",
       "</div>"
      ],
      "text/plain": [
       "       id message_date  user_id month\n",
       "0  1000_0   2018-06-27     1000    06\n",
       "1  1000_1   2018-10-08     1000    10\n",
       "2  1000_2   2018-08-04     1000    08\n",
       "3  1000_3   2018-06-16     1000    06\n",
       "4  1000_4   2018-12-05     1000    12"
      ]
     },
     "metadata": {},
     "output_type": "display_data"
    },
    {
     "name": "stdout",
     "output_type": "stream",
     "text": [
      "<class 'pandas.core.frame.DataFrame'>\n",
      "RangeIndex: 123036 entries, 0 to 123035\n",
      "Data columns (total 4 columns):\n",
      " #   Column        Non-Null Count   Dtype         \n",
      "---  ------        --------------   -----         \n",
      " 0   id            123036 non-null  object        \n",
      " 1   message_date  123036 non-null  datetime64[ns]\n",
      " 2   user_id       123036 non-null  int64         \n",
      " 3   month         123036 non-null  object        \n",
      "dtypes: datetime64[ns](1), int64(1), object(2)\n",
      "memory usage: 3.8+ MB\n"
     ]
    }
   ],
   "source": [
    "#добавляем в талицу столбец с месяцами\n",
    "messages['month']=messages['message_date'].dt.strftime('%m')\n",
    "display(messages.head())\n",
    "messages.info()"
   ]
  },
  {
   "cell_type": "code",
   "execution_count": 25,
   "id": "b4afdf3f",
   "metadata": {},
   "outputs": [
    {
     "data": {
      "text/html": [
       "<div>\n",
       "<style scoped>\n",
       "    .dataframe tbody tr th:only-of-type {\n",
       "        vertical-align: middle;\n",
       "    }\n",
       "\n",
       "    .dataframe tbody tr th {\n",
       "        vertical-align: top;\n",
       "    }\n",
       "\n",
       "    .dataframe thead th {\n",
       "        text-align: right;\n",
       "    }\n",
       "</style>\n",
       "<table border=\"1\" class=\"dataframe\">\n",
       "  <thead>\n",
       "    <tr style=\"text-align: right;\">\n",
       "      <th></th>\n",
       "      <th></th>\n",
       "      <th>messages_sum</th>\n",
       "    </tr>\n",
       "    <tr>\n",
       "      <th>user_id</th>\n",
       "      <th>month</th>\n",
       "      <th></th>\n",
       "    </tr>\n",
       "  </thead>\n",
       "  <tbody>\n",
       "    <tr>\n",
       "      <th rowspan=\"5\" valign=\"top\">1000</th>\n",
       "      <th>05</th>\n",
       "      <td>22</td>\n",
       "    </tr>\n",
       "    <tr>\n",
       "      <th>06</th>\n",
       "      <td>60</td>\n",
       "    </tr>\n",
       "    <tr>\n",
       "      <th>07</th>\n",
       "      <td>75</td>\n",
       "    </tr>\n",
       "    <tr>\n",
       "      <th>08</th>\n",
       "      <td>81</td>\n",
       "    </tr>\n",
       "    <tr>\n",
       "      <th>09</th>\n",
       "      <td>57</td>\n",
       "    </tr>\n",
       "    <tr>\n",
       "      <th>...</th>\n",
       "      <th>...</th>\n",
       "      <td>...</td>\n",
       "    </tr>\n",
       "    <tr>\n",
       "      <th>1498</th>\n",
       "      <th>10</th>\n",
       "      <td>42</td>\n",
       "    </tr>\n",
       "    <tr>\n",
       "      <th rowspan=\"4\" valign=\"top\">1499</th>\n",
       "      <th>09</th>\n",
       "      <td>11</td>\n",
       "    </tr>\n",
       "    <tr>\n",
       "      <th>10</th>\n",
       "      <td>48</td>\n",
       "    </tr>\n",
       "    <tr>\n",
       "      <th>11</th>\n",
       "      <td>59</td>\n",
       "    </tr>\n",
       "    <tr>\n",
       "      <th>12</th>\n",
       "      <td>66</td>\n",
       "    </tr>\n",
       "  </tbody>\n",
       "</table>\n",
       "<p>2717 rows × 1 columns</p>\n",
       "</div>"
      ],
      "text/plain": [
       "               messages_sum\n",
       "user_id month              \n",
       "1000    05               22\n",
       "        06               60\n",
       "        07               75\n",
       "        08               81\n",
       "        09               57\n",
       "...                     ...\n",
       "1498    10               42\n",
       "1499    09               11\n",
       "        10               48\n",
       "        11               59\n",
       "        12               66\n",
       "\n",
       "[2717 rows x 1 columns]"
      ]
     },
     "metadata": {},
     "output_type": "display_data"
    }
   ],
   "source": [
    "#считаем количество сообщений по месяцам для каждого клиента\n",
    "messages_month_pivot = messages.pivot_table(index=['user_id','month'], values='id', aggfunc='count')\n",
    "#переименовываем  столбец\n",
    "messages_month_pivot.columns = ['messages_sum']\n",
    "display(messages_month_pivot)\n"
   ]
  },
  {
   "cell_type": "code",
   "execution_count": 26,
   "id": "ab3a2699",
   "metadata": {},
   "outputs": [
    {
     "data": {
      "text/html": [
       "<div>\n",
       "<style scoped>\n",
       "    .dataframe tbody tr th:only-of-type {\n",
       "        vertical-align: middle;\n",
       "    }\n",
       "\n",
       "    .dataframe tbody tr th {\n",
       "        vertical-align: top;\n",
       "    }\n",
       "\n",
       "    .dataframe thead th {\n",
       "        text-align: right;\n",
       "    }\n",
       "</style>\n",
       "<table border=\"1\" class=\"dataframe\">\n",
       "  <thead>\n",
       "    <tr style=\"text-align: right;\">\n",
       "      <th></th>\n",
       "      <th>Unnamed: 0</th>\n",
       "      <th>id</th>\n",
       "      <th>mb_used</th>\n",
       "      <th>session_date</th>\n",
       "      <th>user_id</th>\n",
       "      <th>month</th>\n",
       "    </tr>\n",
       "  </thead>\n",
       "  <tbody>\n",
       "    <tr>\n",
       "      <th>0</th>\n",
       "      <td>0</td>\n",
       "      <td>1000_0</td>\n",
       "      <td>112.95</td>\n",
       "      <td>2018-11-25</td>\n",
       "      <td>1000</td>\n",
       "      <td>11</td>\n",
       "    </tr>\n",
       "    <tr>\n",
       "      <th>1</th>\n",
       "      <td>1</td>\n",
       "      <td>1000_1</td>\n",
       "      <td>1052.81</td>\n",
       "      <td>2018-09-07</td>\n",
       "      <td>1000</td>\n",
       "      <td>09</td>\n",
       "    </tr>\n",
       "    <tr>\n",
       "      <th>2</th>\n",
       "      <td>2</td>\n",
       "      <td>1000_2</td>\n",
       "      <td>1197.26</td>\n",
       "      <td>2018-06-25</td>\n",
       "      <td>1000</td>\n",
       "      <td>06</td>\n",
       "    </tr>\n",
       "    <tr>\n",
       "      <th>3</th>\n",
       "      <td>3</td>\n",
       "      <td>1000_3</td>\n",
       "      <td>550.27</td>\n",
       "      <td>2018-08-22</td>\n",
       "      <td>1000</td>\n",
       "      <td>08</td>\n",
       "    </tr>\n",
       "    <tr>\n",
       "      <th>4</th>\n",
       "      <td>4</td>\n",
       "      <td>1000_4</td>\n",
       "      <td>302.56</td>\n",
       "      <td>2018-09-24</td>\n",
       "      <td>1000</td>\n",
       "      <td>09</td>\n",
       "    </tr>\n",
       "  </tbody>\n",
       "</table>\n",
       "</div>"
      ],
      "text/plain": [
       "   Unnamed: 0      id  mb_used session_date  user_id month\n",
       "0           0  1000_0   112.95   2018-11-25     1000    11\n",
       "1           1  1000_1  1052.81   2018-09-07     1000    09\n",
       "2           2  1000_2  1197.26   2018-06-25     1000    06\n",
       "3           3  1000_3   550.27   2018-08-22     1000    08\n",
       "4           4  1000_4   302.56   2018-09-24     1000    09"
      ]
     },
     "metadata": {},
     "output_type": "display_data"
    },
    {
     "name": "stdout",
     "output_type": "stream",
     "text": [
      "<class 'pandas.core.frame.DataFrame'>\n",
      "RangeIndex: 149396 entries, 0 to 149395\n",
      "Data columns (total 6 columns):\n",
      " #   Column        Non-Null Count   Dtype         \n",
      "---  ------        --------------   -----         \n",
      " 0   Unnamed: 0    149396 non-null  int64         \n",
      " 1   id            149396 non-null  object        \n",
      " 2   mb_used       149396 non-null  float64       \n",
      " 3   session_date  149396 non-null  datetime64[ns]\n",
      " 4   user_id       149396 non-null  int64         \n",
      " 5   month         149396 non-null  object        \n",
      "dtypes: datetime64[ns](1), float64(1), int64(2), object(2)\n",
      "memory usage: 6.8+ MB\n"
     ]
    }
   ],
   "source": [
    "#добавляем в талицу столбец с месяцами\n",
    "internet['month']=internet['session_date'].dt.strftime('%m')\n",
    "display(internet.head())\n",
    "internet.info()"
   ]
  },
  {
   "cell_type": "code",
   "execution_count": 27,
   "id": "d4d4d629",
   "metadata": {},
   "outputs": [
    {
     "data": {
      "text/html": [
       "<div>\n",
       "<style scoped>\n",
       "    .dataframe tbody tr th:only-of-type {\n",
       "        vertical-align: middle;\n",
       "    }\n",
       "\n",
       "    .dataframe tbody tr th {\n",
       "        vertical-align: top;\n",
       "    }\n",
       "\n",
       "    .dataframe thead th {\n",
       "        text-align: right;\n",
       "    }\n",
       "</style>\n",
       "<table border=\"1\" class=\"dataframe\">\n",
       "  <thead>\n",
       "    <tr style=\"text-align: right;\">\n",
       "      <th></th>\n",
       "      <th></th>\n",
       "      <th>internet_sum</th>\n",
       "    </tr>\n",
       "    <tr>\n",
       "      <th>user_id</th>\n",
       "      <th>month</th>\n",
       "      <th></th>\n",
       "    </tr>\n",
       "  </thead>\n",
       "  <tbody>\n",
       "    <tr>\n",
       "      <th rowspan=\"5\" valign=\"top\">1000</th>\n",
       "      <th>05</th>\n",
       "      <td>2253.49</td>\n",
       "    </tr>\n",
       "    <tr>\n",
       "      <th>06</th>\n",
       "      <td>23233.77</td>\n",
       "    </tr>\n",
       "    <tr>\n",
       "      <th>07</th>\n",
       "      <td>14003.64</td>\n",
       "    </tr>\n",
       "    <tr>\n",
       "      <th>08</th>\n",
       "      <td>14055.93</td>\n",
       "    </tr>\n",
       "    <tr>\n",
       "      <th>09</th>\n",
       "      <td>14568.91</td>\n",
       "    </tr>\n",
       "    <tr>\n",
       "      <th>...</th>\n",
       "      <th>...</th>\n",
       "      <td>...</td>\n",
       "    </tr>\n",
       "    <tr>\n",
       "      <th>1498</th>\n",
       "      <th>10</th>\n",
       "      <td>20579.36</td>\n",
       "    </tr>\n",
       "    <tr>\n",
       "      <th rowspan=\"4\" valign=\"top\">1499</th>\n",
       "      <th>09</th>\n",
       "      <td>1845.75</td>\n",
       "    </tr>\n",
       "    <tr>\n",
       "      <th>10</th>\n",
       "      <td>17788.51</td>\n",
       "    </tr>\n",
       "    <tr>\n",
       "      <th>11</th>\n",
       "      <td>17963.31</td>\n",
       "    </tr>\n",
       "    <tr>\n",
       "      <th>12</th>\n",
       "      <td>13055.58</td>\n",
       "    </tr>\n",
       "  </tbody>\n",
       "</table>\n",
       "<p>3203 rows × 1 columns</p>\n",
       "</div>"
      ],
      "text/plain": [
       "               internet_sum\n",
       "user_id month              \n",
       "1000    05          2253.49\n",
       "        06         23233.77\n",
       "        07         14003.64\n",
       "        08         14055.93\n",
       "        09         14568.91\n",
       "...                     ...\n",
       "1498    10         20579.36\n",
       "1499    09          1845.75\n",
       "        10         17788.51\n",
       "        11         17963.31\n",
       "        12         13055.58\n",
       "\n",
       "[3203 rows x 1 columns]"
      ]
     },
     "metadata": {},
     "output_type": "display_data"
    }
   ],
   "source": [
    "#считаем количество трафика по месяцам для каждого клиента\n",
    "internet_month_pivot = internet.pivot_table(index=['user_id','month'], values='mb_used', aggfunc='sum')\n",
    "#переименовываем  столбец\n",
    "internet_month_pivot.columns = ['internet_sum']\n",
    "display(internet_month_pivot)"
   ]
  },
  {
   "cell_type": "code",
   "execution_count": 28,
   "id": "082b8d2f",
   "metadata": {
    "scrolled": true
   },
   "outputs": [
    {
     "data": {
      "text/html": [
       "<div>\n",
       "<style scoped>\n",
       "    .dataframe tbody tr th:only-of-type {\n",
       "        vertical-align: middle;\n",
       "    }\n",
       "\n",
       "    .dataframe tbody tr th {\n",
       "        vertical-align: top;\n",
       "    }\n",
       "\n",
       "    .dataframe thead th {\n",
       "        text-align: right;\n",
       "    }\n",
       "</style>\n",
       "<table border=\"1\" class=\"dataframe\">\n",
       "  <thead>\n",
       "    <tr style=\"text-align: right;\">\n",
       "      <th></th>\n",
       "      <th></th>\n",
       "      <th>internet_sum</th>\n",
       "      <th>internet_sum_gb</th>\n",
       "      <th>internet_sum_gb_round</th>\n",
       "    </tr>\n",
       "    <tr>\n",
       "      <th>user_id</th>\n",
       "      <th>month</th>\n",
       "      <th></th>\n",
       "      <th></th>\n",
       "      <th></th>\n",
       "    </tr>\n",
       "  </thead>\n",
       "  <tbody>\n",
       "    <tr>\n",
       "      <th rowspan=\"5\" valign=\"top\">1000</th>\n",
       "      <th>05</th>\n",
       "      <td>2253.49</td>\n",
       "      <td>2.200674</td>\n",
       "      <td>3.0</td>\n",
       "    </tr>\n",
       "    <tr>\n",
       "      <th>06</th>\n",
       "      <td>23233.77</td>\n",
       "      <td>22.689229</td>\n",
       "      <td>23.0</td>\n",
       "    </tr>\n",
       "    <tr>\n",
       "      <th>07</th>\n",
       "      <td>14003.64</td>\n",
       "      <td>13.675430</td>\n",
       "      <td>14.0</td>\n",
       "    </tr>\n",
       "    <tr>\n",
       "      <th>08</th>\n",
       "      <td>14055.93</td>\n",
       "      <td>13.726494</td>\n",
       "      <td>14.0</td>\n",
       "    </tr>\n",
       "    <tr>\n",
       "      <th>09</th>\n",
       "      <td>14568.91</td>\n",
       "      <td>14.227451</td>\n",
       "      <td>15.0</td>\n",
       "    </tr>\n",
       "    <tr>\n",
       "      <th>...</th>\n",
       "      <th>...</th>\n",
       "      <td>...</td>\n",
       "      <td>...</td>\n",
       "      <td>...</td>\n",
       "    </tr>\n",
       "    <tr>\n",
       "      <th>1498</th>\n",
       "      <th>10</th>\n",
       "      <td>20579.36</td>\n",
       "      <td>20.097031</td>\n",
       "      <td>21.0</td>\n",
       "    </tr>\n",
       "    <tr>\n",
       "      <th rowspan=\"4\" valign=\"top\">1499</th>\n",
       "      <th>09</th>\n",
       "      <td>1845.75</td>\n",
       "      <td>1.802490</td>\n",
       "      <td>2.0</td>\n",
       "    </tr>\n",
       "    <tr>\n",
       "      <th>10</th>\n",
       "      <td>17788.51</td>\n",
       "      <td>17.371592</td>\n",
       "      <td>18.0</td>\n",
       "    </tr>\n",
       "    <tr>\n",
       "      <th>11</th>\n",
       "      <td>17963.31</td>\n",
       "      <td>17.542295</td>\n",
       "      <td>18.0</td>\n",
       "    </tr>\n",
       "    <tr>\n",
       "      <th>12</th>\n",
       "      <td>13055.58</td>\n",
       "      <td>12.749590</td>\n",
       "      <td>13.0</td>\n",
       "    </tr>\n",
       "  </tbody>\n",
       "</table>\n",
       "<p>3203 rows × 3 columns</p>\n",
       "</div>"
      ],
      "text/plain": [
       "               internet_sum  internet_sum_gb  internet_sum_gb_round\n",
       "user_id month                                                      \n",
       "1000    05          2253.49         2.200674                    3.0\n",
       "        06         23233.77        22.689229                   23.0\n",
       "        07         14003.64        13.675430                   14.0\n",
       "        08         14055.93        13.726494                   14.0\n",
       "        09         14568.91        14.227451                   15.0\n",
       "...                     ...              ...                    ...\n",
       "1498    10         20579.36        20.097031                   21.0\n",
       "1499    09          1845.75         1.802490                    2.0\n",
       "        10         17788.51        17.371592                   18.0\n",
       "        11         17963.31        17.542295                   18.0\n",
       "        12         13055.58        12.749590                   13.0\n",
       "\n",
       "[3203 rows x 3 columns]"
      ]
     },
     "metadata": {},
     "output_type": "display_data"
    }
   ],
   "source": [
    "internet_month_pivot['internet_sum_gb']=((internet_month_pivot['internet_sum']/1024))\n",
    "internet_month_pivot['internet_sum_gb_round']=((internet_month_pivot['internet_sum_gb']).apply(np.ceil))\n",
    "\n",
    "\n",
    "display(internet_month_pivot)"
   ]
  },
  {
   "cell_type": "code",
   "execution_count": 29,
   "id": "dbe6ca2f",
   "metadata": {},
   "outputs": [
    {
     "data": {
      "text/html": [
       "<div>\n",
       "<style scoped>\n",
       "    .dataframe tbody tr th:only-of-type {\n",
       "        vertical-align: middle;\n",
       "    }\n",
       "\n",
       "    .dataframe tbody tr th {\n",
       "        vertical-align: top;\n",
       "    }\n",
       "\n",
       "    .dataframe thead th {\n",
       "        text-align: right;\n",
       "    }\n",
       "</style>\n",
       "<table border=\"1\" class=\"dataframe\">\n",
       "  <thead>\n",
       "    <tr style=\"text-align: right;\">\n",
       "      <th></th>\n",
       "      <th>user_id</th>\n",
       "      <th>age</th>\n",
       "      <th>churn_date</th>\n",
       "      <th>city</th>\n",
       "      <th>first_name</th>\n",
       "      <th>last_name</th>\n",
       "      <th>reg_date</th>\n",
       "      <th>tariff</th>\n",
       "      <th>tariff_id</th>\n",
       "    </tr>\n",
       "  </thead>\n",
       "  <tbody>\n",
       "    <tr>\n",
       "      <th>0</th>\n",
       "      <td>1000</td>\n",
       "      <td>52</td>\n",
       "      <td>2018-12-31</td>\n",
       "      <td>Краснодар</td>\n",
       "      <td>Рафаил</td>\n",
       "      <td>Верещагин</td>\n",
       "      <td>2018-05-25</td>\n",
       "      <td>ultra</td>\n",
       "      <td>0</td>\n",
       "    </tr>\n",
       "    <tr>\n",
       "      <th>1</th>\n",
       "      <td>1001</td>\n",
       "      <td>41</td>\n",
       "      <td>2018-12-31</td>\n",
       "      <td>Москва</td>\n",
       "      <td>Иван</td>\n",
       "      <td>Ежов</td>\n",
       "      <td>2018-11-01</td>\n",
       "      <td>smart</td>\n",
       "      <td>1</td>\n",
       "    </tr>\n",
       "    <tr>\n",
       "      <th>2</th>\n",
       "      <td>1002</td>\n",
       "      <td>59</td>\n",
       "      <td>2018-12-31</td>\n",
       "      <td>Стерлитамак</td>\n",
       "      <td>Евгений</td>\n",
       "      <td>Абрамович</td>\n",
       "      <td>2018-06-17</td>\n",
       "      <td>smart</td>\n",
       "      <td>1</td>\n",
       "    </tr>\n",
       "    <tr>\n",
       "      <th>3</th>\n",
       "      <td>1003</td>\n",
       "      <td>23</td>\n",
       "      <td>2018-12-31</td>\n",
       "      <td>Москва</td>\n",
       "      <td>Белла</td>\n",
       "      <td>Белякова</td>\n",
       "      <td>2018-08-17</td>\n",
       "      <td>ultra</td>\n",
       "      <td>0</td>\n",
       "    </tr>\n",
       "    <tr>\n",
       "      <th>4</th>\n",
       "      <td>1004</td>\n",
       "      <td>68</td>\n",
       "      <td>2018-12-31</td>\n",
       "      <td>Новокузнецк</td>\n",
       "      <td>Татьяна</td>\n",
       "      <td>Авдеенко</td>\n",
       "      <td>2018-05-14</td>\n",
       "      <td>ultra</td>\n",
       "      <td>0</td>\n",
       "    </tr>\n",
       "    <tr>\n",
       "      <th>...</th>\n",
       "      <td>...</td>\n",
       "      <td>...</td>\n",
       "      <td>...</td>\n",
       "      <td>...</td>\n",
       "      <td>...</td>\n",
       "      <td>...</td>\n",
       "      <td>...</td>\n",
       "      <td>...</td>\n",
       "      <td>...</td>\n",
       "    </tr>\n",
       "    <tr>\n",
       "      <th>495</th>\n",
       "      <td>1495</td>\n",
       "      <td>65</td>\n",
       "      <td>2018-12-31</td>\n",
       "      <td>Иркутск</td>\n",
       "      <td>Авксентий</td>\n",
       "      <td>Фокин</td>\n",
       "      <td>2018-08-28</td>\n",
       "      <td>ultra</td>\n",
       "      <td>0</td>\n",
       "    </tr>\n",
       "    <tr>\n",
       "      <th>496</th>\n",
       "      <td>1496</td>\n",
       "      <td>36</td>\n",
       "      <td>2018-12-31</td>\n",
       "      <td>Вологда</td>\n",
       "      <td>Трифон</td>\n",
       "      <td>Блохин</td>\n",
       "      <td>2018-01-27</td>\n",
       "      <td>smart</td>\n",
       "      <td>1</td>\n",
       "    </tr>\n",
       "    <tr>\n",
       "      <th>497</th>\n",
       "      <td>1497</td>\n",
       "      <td>32</td>\n",
       "      <td>2018-12-31</td>\n",
       "      <td>Челябинск</td>\n",
       "      <td>Каролина</td>\n",
       "      <td>Агеева</td>\n",
       "      <td>2018-10-09</td>\n",
       "      <td>smart</td>\n",
       "      <td>1</td>\n",
       "    </tr>\n",
       "    <tr>\n",
       "      <th>498</th>\n",
       "      <td>1498</td>\n",
       "      <td>68</td>\n",
       "      <td>2018-10-25</td>\n",
       "      <td>Владикавказ</td>\n",
       "      <td>Всеволод</td>\n",
       "      <td>Акимчин</td>\n",
       "      <td>2018-07-19</td>\n",
       "      <td>smart</td>\n",
       "      <td>1</td>\n",
       "    </tr>\n",
       "    <tr>\n",
       "      <th>499</th>\n",
       "      <td>1499</td>\n",
       "      <td>35</td>\n",
       "      <td>2018-12-31</td>\n",
       "      <td>Пермь</td>\n",
       "      <td>Гектор</td>\n",
       "      <td>Корнилов</td>\n",
       "      <td>2018-09-27</td>\n",
       "      <td>smart</td>\n",
       "      <td>1</td>\n",
       "    </tr>\n",
       "  </tbody>\n",
       "</table>\n",
       "<p>500 rows × 9 columns</p>\n",
       "</div>"
      ],
      "text/plain": [
       "     user_id  age churn_date         city first_name  last_name   reg_date  \\\n",
       "0       1000   52 2018-12-31    Краснодар     Рафаил  Верещагин 2018-05-25   \n",
       "1       1001   41 2018-12-31       Москва       Иван       Ежов 2018-11-01   \n",
       "2       1002   59 2018-12-31  Стерлитамак    Евгений  Абрамович 2018-06-17   \n",
       "3       1003   23 2018-12-31       Москва      Белла   Белякова 2018-08-17   \n",
       "4       1004   68 2018-12-31  Новокузнецк    Татьяна   Авдеенко 2018-05-14   \n",
       "..       ...  ...        ...          ...        ...        ...        ...   \n",
       "495     1495   65 2018-12-31      Иркутск  Авксентий      Фокин 2018-08-28   \n",
       "496     1496   36 2018-12-31      Вологда     Трифон     Блохин 2018-01-27   \n",
       "497     1497   32 2018-12-31    Челябинск   Каролина     Агеева 2018-10-09   \n",
       "498     1498   68 2018-10-25  Владикавказ   Всеволод    Акимчин 2018-07-19   \n",
       "499     1499   35 2018-12-31        Пермь     Гектор   Корнилов 2018-09-27   \n",
       "\n",
       "    tariff  tariff_id  \n",
       "0    ultra          0  \n",
       "1    smart          1  \n",
       "2    smart          1  \n",
       "3    ultra          0  \n",
       "4    ultra          0  \n",
       "..     ...        ...  \n",
       "495  ultra          0  \n",
       "496  smart          1  \n",
       "497  smart          1  \n",
       "498  smart          1  \n",
       "499  smart          1  \n",
       "\n",
       "[500 rows x 9 columns]"
      ]
     },
     "metadata": {},
     "output_type": "display_data"
    },
    {
     "data": {
      "text/html": [
       "<div>\n",
       "<style scoped>\n",
       "    .dataframe tbody tr th:only-of-type {\n",
       "        vertical-align: middle;\n",
       "    }\n",
       "\n",
       "    .dataframe tbody tr th {\n",
       "        vertical-align: top;\n",
       "    }\n",
       "\n",
       "    .dataframe thead th {\n",
       "        text-align: right;\n",
       "    }\n",
       "</style>\n",
       "<table border=\"1\" class=\"dataframe\">\n",
       "  <thead>\n",
       "    <tr style=\"text-align: right;\">\n",
       "      <th></th>\n",
       "      <th></th>\n",
       "      <th></th>\n",
       "      <th>tariff_id</th>\n",
       "    </tr>\n",
       "    <tr>\n",
       "      <th>user_id</th>\n",
       "      <th>tariff</th>\n",
       "      <th>city</th>\n",
       "      <th></th>\n",
       "    </tr>\n",
       "  </thead>\n",
       "  <tbody>\n",
       "    <tr>\n",
       "      <th>1000</th>\n",
       "      <th>ultra</th>\n",
       "      <th>Краснодар</th>\n",
       "      <td>0</td>\n",
       "    </tr>\n",
       "    <tr>\n",
       "      <th>1001</th>\n",
       "      <th>smart</th>\n",
       "      <th>Москва</th>\n",
       "      <td>1</td>\n",
       "    </tr>\n",
       "    <tr>\n",
       "      <th>1002</th>\n",
       "      <th>smart</th>\n",
       "      <th>Стерлитамак</th>\n",
       "      <td>1</td>\n",
       "    </tr>\n",
       "    <tr>\n",
       "      <th>1003</th>\n",
       "      <th>ultra</th>\n",
       "      <th>Москва</th>\n",
       "      <td>0</td>\n",
       "    </tr>\n",
       "    <tr>\n",
       "      <th>1004</th>\n",
       "      <th>ultra</th>\n",
       "      <th>Новокузнецк</th>\n",
       "      <td>0</td>\n",
       "    </tr>\n",
       "    <tr>\n",
       "      <th>...</th>\n",
       "      <th>...</th>\n",
       "      <th>...</th>\n",
       "      <td>...</td>\n",
       "    </tr>\n",
       "    <tr>\n",
       "      <th>1495</th>\n",
       "      <th>ultra</th>\n",
       "      <th>Иркутск</th>\n",
       "      <td>0</td>\n",
       "    </tr>\n",
       "    <tr>\n",
       "      <th>1496</th>\n",
       "      <th>smart</th>\n",
       "      <th>Вологда</th>\n",
       "      <td>1</td>\n",
       "    </tr>\n",
       "    <tr>\n",
       "      <th>1497</th>\n",
       "      <th>smart</th>\n",
       "      <th>Челябинск</th>\n",
       "      <td>1</td>\n",
       "    </tr>\n",
       "    <tr>\n",
       "      <th>1498</th>\n",
       "      <th>smart</th>\n",
       "      <th>Владикавказ</th>\n",
       "      <td>1</td>\n",
       "    </tr>\n",
       "    <tr>\n",
       "      <th>1499</th>\n",
       "      <th>smart</th>\n",
       "      <th>Пермь</th>\n",
       "      <td>1</td>\n",
       "    </tr>\n",
       "  </tbody>\n",
       "</table>\n",
       "<p>500 rows × 1 columns</p>\n",
       "</div>"
      ],
      "text/plain": [
       "                            tariff_id\n",
       "user_id tariff city                  \n",
       "1000    ultra  Краснодар            0\n",
       "1001    smart  Москва               1\n",
       "1002    smart  Стерлитамак          1\n",
       "1003    ultra  Москва               0\n",
       "1004    ultra  Новокузнецк          0\n",
       "...                               ...\n",
       "1495    ultra  Иркутск              0\n",
       "1496    smart  Вологда              1\n",
       "1497    smart  Челябинск            1\n",
       "1498    smart  Владикавказ          1\n",
       "1499    smart  Пермь                1\n",
       "\n",
       "[500 rows x 1 columns]"
      ]
     },
     "metadata": {},
     "output_type": "display_data"
    }
   ],
   "source": [
    "#добавляем столбец tariff_id в users\n",
    "tariff_id=[]\n",
    "tariff=0\n",
    "for i in range(len(users)):\n",
    "    if users.loc[i,'tariff']=='ultra':\n",
    "        tariff=0\n",
    "        tariff_id.append(tariff)\n",
    "    else:\n",
    "        tariff=1\n",
    "        tariff_id.append(tariff)\n",
    "   \n",
    "users['tariff_id']=tariff_id\n",
    "display(users)\n",
    "\n",
    "users_tariff_pivot=users.pivot_table(index=['user_id','tariff','city'], values='tariff_id')\n",
    "display(users_tariff_pivot)\n"
   ]
  },
  {
   "cell_type": "code",
   "execution_count": 30,
   "id": "4fcc0595",
   "metadata": {},
   "outputs": [
    {
     "data": {
      "text/html": [
       "<div>\n",
       "<style scoped>\n",
       "    .dataframe tbody tr th:only-of-type {\n",
       "        vertical-align: middle;\n",
       "    }\n",
       "\n",
       "    .dataframe tbody tr th {\n",
       "        vertical-align: top;\n",
       "    }\n",
       "\n",
       "    .dataframe thead th {\n",
       "        text-align: right;\n",
       "    }\n",
       "</style>\n",
       "<table border=\"1\" class=\"dataframe\">\n",
       "  <thead>\n",
       "    <tr style=\"text-align: right;\">\n",
       "      <th></th>\n",
       "      <th></th>\n",
       "      <th>calls_sum</th>\n",
       "      <th>duration_sum</th>\n",
       "      <th>messages_sum</th>\n",
       "    </tr>\n",
       "    <tr>\n",
       "      <th>user_id</th>\n",
       "      <th>month</th>\n",
       "      <th></th>\n",
       "      <th></th>\n",
       "      <th></th>\n",
       "    </tr>\n",
       "  </thead>\n",
       "  <tbody>\n",
       "    <tr>\n",
       "      <th rowspan=\"5\" valign=\"top\">1000</th>\n",
       "      <th>05</th>\n",
       "      <td>22</td>\n",
       "      <td>159.0</td>\n",
       "      <td>22.0</td>\n",
       "    </tr>\n",
       "    <tr>\n",
       "      <th>06</th>\n",
       "      <td>43</td>\n",
       "      <td>172.0</td>\n",
       "      <td>60.0</td>\n",
       "    </tr>\n",
       "    <tr>\n",
       "      <th>07</th>\n",
       "      <td>47</td>\n",
       "      <td>340.0</td>\n",
       "      <td>75.0</td>\n",
       "    </tr>\n",
       "    <tr>\n",
       "      <th>08</th>\n",
       "      <td>52</td>\n",
       "      <td>408.0</td>\n",
       "      <td>81.0</td>\n",
       "    </tr>\n",
       "    <tr>\n",
       "      <th>09</th>\n",
       "      <td>58</td>\n",
       "      <td>466.0</td>\n",
       "      <td>57.0</td>\n",
       "    </tr>\n",
       "    <tr>\n",
       "      <th>...</th>\n",
       "      <th>...</th>\n",
       "      <td>...</td>\n",
       "      <td>...</td>\n",
       "      <td>...</td>\n",
       "    </tr>\n",
       "    <tr>\n",
       "      <th>1498</th>\n",
       "      <th>10</th>\n",
       "      <td>41</td>\n",
       "      <td>247.0</td>\n",
       "      <td>42.0</td>\n",
       "    </tr>\n",
       "    <tr>\n",
       "      <th rowspan=\"4\" valign=\"top\">1499</th>\n",
       "      <th>09</th>\n",
       "      <td>9</td>\n",
       "      <td>70.0</td>\n",
       "      <td>11.0</td>\n",
       "    </tr>\n",
       "    <tr>\n",
       "      <th>10</th>\n",
       "      <td>68</td>\n",
       "      <td>449.0</td>\n",
       "      <td>48.0</td>\n",
       "    </tr>\n",
       "    <tr>\n",
       "      <th>11</th>\n",
       "      <td>74</td>\n",
       "      <td>612.0</td>\n",
       "      <td>59.0</td>\n",
       "    </tr>\n",
       "    <tr>\n",
       "      <th>12</th>\n",
       "      <td>69</td>\n",
       "      <td>492.0</td>\n",
       "      <td>66.0</td>\n",
       "    </tr>\n",
       "  </tbody>\n",
       "</table>\n",
       "<p>3174 rows × 3 columns</p>\n",
       "</div>"
      ],
      "text/plain": [
       "               calls_sum  duration_sum  messages_sum\n",
       "user_id month                                       \n",
       "1000    05            22         159.0          22.0\n",
       "        06            43         172.0          60.0\n",
       "        07            47         340.0          75.0\n",
       "        08            52         408.0          81.0\n",
       "        09            58         466.0          57.0\n",
       "...                  ...           ...           ...\n",
       "1498    10            41         247.0          42.0\n",
       "1499    09             9          70.0          11.0\n",
       "        10            68         449.0          48.0\n",
       "        11            74         612.0          59.0\n",
       "        12            69         492.0          66.0\n",
       "\n",
       "[3174 rows x 3 columns]"
      ]
     },
     "metadata": {},
     "output_type": "display_data"
    },
    {
     "name": "stdout",
     "output_type": "stream",
     "text": [
      "<class 'pandas.core.frame.DataFrame'>\n",
      "MultiIndex: 3174 entries, (1000, '05') to (1499, '12')\n",
      "Data columns (total 3 columns):\n",
      " #   Column        Non-Null Count  Dtype  \n",
      "---  ------        --------------  -----  \n",
      " 0   calls_sum     3174 non-null   int64  \n",
      " 1   duration_sum  3174 non-null   float64\n",
      " 2   messages_sum  2678 non-null   float64\n",
      "dtypes: float64(2), int64(1)\n",
      "memory usage: 216.8+ KB\n"
     ]
    },
    {
     "data": {
      "text/html": [
       "<div>\n",
       "<style scoped>\n",
       "    .dataframe tbody tr th:only-of-type {\n",
       "        vertical-align: middle;\n",
       "    }\n",
       "\n",
       "    .dataframe tbody tr th {\n",
       "        vertical-align: top;\n",
       "    }\n",
       "\n",
       "    .dataframe thead th {\n",
       "        text-align: right;\n",
       "    }\n",
       "</style>\n",
       "<table border=\"1\" class=\"dataframe\">\n",
       "  <thead>\n",
       "    <tr style=\"text-align: right;\">\n",
       "      <th></th>\n",
       "      <th></th>\n",
       "      <th>calls_sum</th>\n",
       "      <th>duration_sum</th>\n",
       "      <th>messages_sum</th>\n",
       "      <th>internet_sum</th>\n",
       "      <th>internet_sum_gb</th>\n",
       "      <th>internet_sum_gb_round</th>\n",
       "    </tr>\n",
       "    <tr>\n",
       "      <th>user_id</th>\n",
       "      <th>month</th>\n",
       "      <th></th>\n",
       "      <th></th>\n",
       "      <th></th>\n",
       "      <th></th>\n",
       "      <th></th>\n",
       "      <th></th>\n",
       "    </tr>\n",
       "  </thead>\n",
       "  <tbody>\n",
       "    <tr>\n",
       "      <th rowspan=\"5\" valign=\"top\">1000</th>\n",
       "      <th>05</th>\n",
       "      <td>22.0</td>\n",
       "      <td>159.0</td>\n",
       "      <td>22.0</td>\n",
       "      <td>2253.49</td>\n",
       "      <td>2.200674</td>\n",
       "      <td>3.0</td>\n",
       "    </tr>\n",
       "    <tr>\n",
       "      <th>06</th>\n",
       "      <td>43.0</td>\n",
       "      <td>172.0</td>\n",
       "      <td>60.0</td>\n",
       "      <td>23233.77</td>\n",
       "      <td>22.689229</td>\n",
       "      <td>23.0</td>\n",
       "    </tr>\n",
       "    <tr>\n",
       "      <th>07</th>\n",
       "      <td>47.0</td>\n",
       "      <td>340.0</td>\n",
       "      <td>75.0</td>\n",
       "      <td>14003.64</td>\n",
       "      <td>13.675430</td>\n",
       "      <td>14.0</td>\n",
       "    </tr>\n",
       "    <tr>\n",
       "      <th>08</th>\n",
       "      <td>52.0</td>\n",
       "      <td>408.0</td>\n",
       "      <td>81.0</td>\n",
       "      <td>14055.93</td>\n",
       "      <td>13.726494</td>\n",
       "      <td>14.0</td>\n",
       "    </tr>\n",
       "    <tr>\n",
       "      <th>09</th>\n",
       "      <td>58.0</td>\n",
       "      <td>466.0</td>\n",
       "      <td>57.0</td>\n",
       "      <td>14568.91</td>\n",
       "      <td>14.227451</td>\n",
       "      <td>15.0</td>\n",
       "    </tr>\n",
       "    <tr>\n",
       "      <th>...</th>\n",
       "      <th>...</th>\n",
       "      <td>...</td>\n",
       "      <td>...</td>\n",
       "      <td>...</td>\n",
       "      <td>...</td>\n",
       "      <td>...</td>\n",
       "      <td>...</td>\n",
       "    </tr>\n",
       "    <tr>\n",
       "      <th>1498</th>\n",
       "      <th>10</th>\n",
       "      <td>41.0</td>\n",
       "      <td>247.0</td>\n",
       "      <td>42.0</td>\n",
       "      <td>20579.36</td>\n",
       "      <td>20.097031</td>\n",
       "      <td>21.0</td>\n",
       "    </tr>\n",
       "    <tr>\n",
       "      <th rowspan=\"4\" valign=\"top\">1499</th>\n",
       "      <th>09</th>\n",
       "      <td>9.0</td>\n",
       "      <td>70.0</td>\n",
       "      <td>11.0</td>\n",
       "      <td>1845.75</td>\n",
       "      <td>1.802490</td>\n",
       "      <td>2.0</td>\n",
       "    </tr>\n",
       "    <tr>\n",
       "      <th>10</th>\n",
       "      <td>68.0</td>\n",
       "      <td>449.0</td>\n",
       "      <td>48.0</td>\n",
       "      <td>17788.51</td>\n",
       "      <td>17.371592</td>\n",
       "      <td>18.0</td>\n",
       "    </tr>\n",
       "    <tr>\n",
       "      <th>11</th>\n",
       "      <td>74.0</td>\n",
       "      <td>612.0</td>\n",
       "      <td>59.0</td>\n",
       "      <td>17963.31</td>\n",
       "      <td>17.542295</td>\n",
       "      <td>18.0</td>\n",
       "    </tr>\n",
       "    <tr>\n",
       "      <th>12</th>\n",
       "      <td>69.0</td>\n",
       "      <td>492.0</td>\n",
       "      <td>66.0</td>\n",
       "      <td>13055.58</td>\n",
       "      <td>12.749590</td>\n",
       "      <td>13.0</td>\n",
       "    </tr>\n",
       "  </tbody>\n",
       "</table>\n",
       "<p>3203 rows × 6 columns</p>\n",
       "</div>"
      ],
      "text/plain": [
       "               calls_sum  duration_sum  messages_sum  internet_sum  \\\n",
       "user_id month                                                        \n",
       "1000    05          22.0         159.0          22.0       2253.49   \n",
       "        06          43.0         172.0          60.0      23233.77   \n",
       "        07          47.0         340.0          75.0      14003.64   \n",
       "        08          52.0         408.0          81.0      14055.93   \n",
       "        09          58.0         466.0          57.0      14568.91   \n",
       "...                  ...           ...           ...           ...   \n",
       "1498    10          41.0         247.0          42.0      20579.36   \n",
       "1499    09           9.0          70.0          11.0       1845.75   \n",
       "        10          68.0         449.0          48.0      17788.51   \n",
       "        11          74.0         612.0          59.0      17963.31   \n",
       "        12          69.0         492.0          66.0      13055.58   \n",
       "\n",
       "               internet_sum_gb  internet_sum_gb_round  \n",
       "user_id month                                          \n",
       "1000    05            2.200674                    3.0  \n",
       "        06           22.689229                   23.0  \n",
       "        07           13.675430                   14.0  \n",
       "        08           13.726494                   14.0  \n",
       "        09           14.227451                   15.0  \n",
       "...                        ...                    ...  \n",
       "1498    10           20.097031                   21.0  \n",
       "1499    09            1.802490                    2.0  \n",
       "        10           17.371592                   18.0  \n",
       "        11           17.542295                   18.0  \n",
       "        12           12.749590                   13.0  \n",
       "\n",
       "[3203 rows x 6 columns]"
      ]
     },
     "metadata": {},
     "output_type": "display_data"
    },
    {
     "data": {
      "text/html": [
       "<div>\n",
       "<style scoped>\n",
       "    .dataframe tbody tr th:only-of-type {\n",
       "        vertical-align: middle;\n",
       "    }\n",
       "\n",
       "    .dataframe tbody tr th {\n",
       "        vertical-align: top;\n",
       "    }\n",
       "\n",
       "    .dataframe thead th {\n",
       "        text-align: right;\n",
       "    }\n",
       "</style>\n",
       "<table border=\"1\" class=\"dataframe\">\n",
       "  <thead>\n",
       "    <tr style=\"text-align: right;\">\n",
       "      <th></th>\n",
       "      <th></th>\n",
       "      <th></th>\n",
       "      <th></th>\n",
       "      <th>calls_sum</th>\n",
       "      <th>duration_sum</th>\n",
       "      <th>messages_sum</th>\n",
       "      <th>internet_sum</th>\n",
       "      <th>internet_sum_gb</th>\n",
       "      <th>internet_sum_gb_round</th>\n",
       "      <th>tariff_id</th>\n",
       "    </tr>\n",
       "    <tr>\n",
       "      <th>user_id</th>\n",
       "      <th>month</th>\n",
       "      <th>tariff</th>\n",
       "      <th>city</th>\n",
       "      <th></th>\n",
       "      <th></th>\n",
       "      <th></th>\n",
       "      <th></th>\n",
       "      <th></th>\n",
       "      <th></th>\n",
       "      <th></th>\n",
       "    </tr>\n",
       "  </thead>\n",
       "  <tbody>\n",
       "    <tr>\n",
       "      <th rowspan=\"5\" valign=\"top\">1000</th>\n",
       "      <th>05</th>\n",
       "      <th>ultra</th>\n",
       "      <th>Краснодар</th>\n",
       "      <td>22.0</td>\n",
       "      <td>159.0</td>\n",
       "      <td>22.0</td>\n",
       "      <td>2253.49</td>\n",
       "      <td>2.200674</td>\n",
       "      <td>3.0</td>\n",
       "      <td>0</td>\n",
       "    </tr>\n",
       "    <tr>\n",
       "      <th>06</th>\n",
       "      <th>ultra</th>\n",
       "      <th>Краснодар</th>\n",
       "      <td>43.0</td>\n",
       "      <td>172.0</td>\n",
       "      <td>60.0</td>\n",
       "      <td>23233.77</td>\n",
       "      <td>22.689229</td>\n",
       "      <td>23.0</td>\n",
       "      <td>0</td>\n",
       "    </tr>\n",
       "    <tr>\n",
       "      <th>07</th>\n",
       "      <th>ultra</th>\n",
       "      <th>Краснодар</th>\n",
       "      <td>47.0</td>\n",
       "      <td>340.0</td>\n",
       "      <td>75.0</td>\n",
       "      <td>14003.64</td>\n",
       "      <td>13.675430</td>\n",
       "      <td>14.0</td>\n",
       "      <td>0</td>\n",
       "    </tr>\n",
       "    <tr>\n",
       "      <th>08</th>\n",
       "      <th>ultra</th>\n",
       "      <th>Краснодар</th>\n",
       "      <td>52.0</td>\n",
       "      <td>408.0</td>\n",
       "      <td>81.0</td>\n",
       "      <td>14055.93</td>\n",
       "      <td>13.726494</td>\n",
       "      <td>14.0</td>\n",
       "      <td>0</td>\n",
       "    </tr>\n",
       "    <tr>\n",
       "      <th>09</th>\n",
       "      <th>ultra</th>\n",
       "      <th>Краснодар</th>\n",
       "      <td>58.0</td>\n",
       "      <td>466.0</td>\n",
       "      <td>57.0</td>\n",
       "      <td>14568.91</td>\n",
       "      <td>14.227451</td>\n",
       "      <td>15.0</td>\n",
       "      <td>0</td>\n",
       "    </tr>\n",
       "    <tr>\n",
       "      <th>...</th>\n",
       "      <th>...</th>\n",
       "      <th>...</th>\n",
       "      <th>...</th>\n",
       "      <td>...</td>\n",
       "      <td>...</td>\n",
       "      <td>...</td>\n",
       "      <td>...</td>\n",
       "      <td>...</td>\n",
       "      <td>...</td>\n",
       "      <td>...</td>\n",
       "    </tr>\n",
       "    <tr>\n",
       "      <th>1498</th>\n",
       "      <th>10</th>\n",
       "      <th>smart</th>\n",
       "      <th>Владикавказ</th>\n",
       "      <td>41.0</td>\n",
       "      <td>247.0</td>\n",
       "      <td>42.0</td>\n",
       "      <td>20579.36</td>\n",
       "      <td>20.097031</td>\n",
       "      <td>21.0</td>\n",
       "      <td>1</td>\n",
       "    </tr>\n",
       "    <tr>\n",
       "      <th rowspan=\"4\" valign=\"top\">1499</th>\n",
       "      <th>09</th>\n",
       "      <th>smart</th>\n",
       "      <th>Пермь</th>\n",
       "      <td>9.0</td>\n",
       "      <td>70.0</td>\n",
       "      <td>11.0</td>\n",
       "      <td>1845.75</td>\n",
       "      <td>1.802490</td>\n",
       "      <td>2.0</td>\n",
       "      <td>1</td>\n",
       "    </tr>\n",
       "    <tr>\n",
       "      <th>10</th>\n",
       "      <th>smart</th>\n",
       "      <th>Пермь</th>\n",
       "      <td>68.0</td>\n",
       "      <td>449.0</td>\n",
       "      <td>48.0</td>\n",
       "      <td>17788.51</td>\n",
       "      <td>17.371592</td>\n",
       "      <td>18.0</td>\n",
       "      <td>1</td>\n",
       "    </tr>\n",
       "    <tr>\n",
       "      <th>11</th>\n",
       "      <th>smart</th>\n",
       "      <th>Пермь</th>\n",
       "      <td>74.0</td>\n",
       "      <td>612.0</td>\n",
       "      <td>59.0</td>\n",
       "      <td>17963.31</td>\n",
       "      <td>17.542295</td>\n",
       "      <td>18.0</td>\n",
       "      <td>1</td>\n",
       "    </tr>\n",
       "    <tr>\n",
       "      <th>12</th>\n",
       "      <th>smart</th>\n",
       "      <th>Пермь</th>\n",
       "      <td>69.0</td>\n",
       "      <td>492.0</td>\n",
       "      <td>66.0</td>\n",
       "      <td>13055.58</td>\n",
       "      <td>12.749590</td>\n",
       "      <td>13.0</td>\n",
       "      <td>1</td>\n",
       "    </tr>\n",
       "  </tbody>\n",
       "</table>\n",
       "<p>3203 rows × 7 columns</p>\n",
       "</div>"
      ],
      "text/plain": [
       "                                  calls_sum  duration_sum  messages_sum  \\\n",
       "user_id month tariff city                                                 \n",
       "1000    05    ultra  Краснодар         22.0         159.0          22.0   \n",
       "        06    ultra  Краснодар         43.0         172.0          60.0   \n",
       "        07    ultra  Краснодар         47.0         340.0          75.0   \n",
       "        08    ultra  Краснодар         52.0         408.0          81.0   \n",
       "        09    ultra  Краснодар         58.0         466.0          57.0   \n",
       "...                                     ...           ...           ...   \n",
       "1498    10    smart  Владикавказ       41.0         247.0          42.0   \n",
       "1499    09    smart  Пермь              9.0          70.0          11.0   \n",
       "        10    smart  Пермь             68.0         449.0          48.0   \n",
       "        11    smart  Пермь             74.0         612.0          59.0   \n",
       "        12    smart  Пермь             69.0         492.0          66.0   \n",
       "\n",
       "                                  internet_sum  internet_sum_gb  \\\n",
       "user_id month tariff city                                         \n",
       "1000    05    ultra  Краснодар         2253.49         2.200674   \n",
       "        06    ultra  Краснодар        23233.77        22.689229   \n",
       "        07    ultra  Краснодар        14003.64        13.675430   \n",
       "        08    ultra  Краснодар        14055.93        13.726494   \n",
       "        09    ultra  Краснодар        14568.91        14.227451   \n",
       "...                                        ...              ...   \n",
       "1498    10    smart  Владикавказ      20579.36        20.097031   \n",
       "1499    09    smart  Пермь             1845.75         1.802490   \n",
       "        10    smart  Пермь            17788.51        17.371592   \n",
       "        11    smart  Пермь            17963.31        17.542295   \n",
       "        12    smart  Пермь            13055.58        12.749590   \n",
       "\n",
       "                                  internet_sum_gb_round  tariff_id  \n",
       "user_id month tariff city                                           \n",
       "1000    05    ultra  Краснодар                      3.0          0  \n",
       "        06    ultra  Краснодар                     23.0          0  \n",
       "        07    ultra  Краснодар                     14.0          0  \n",
       "        08    ultra  Краснодар                     14.0          0  \n",
       "        09    ultra  Краснодар                     15.0          0  \n",
       "...                                                 ...        ...  \n",
       "1498    10    smart  Владикавказ                   21.0          1  \n",
       "1499    09    smart  Пермь                          2.0          1  \n",
       "        10    smart  Пермь                         18.0          1  \n",
       "        11    smart  Пермь                         18.0          1  \n",
       "        12    smart  Пермь                         13.0          1  \n",
       "\n",
       "[3203 rows x 7 columns]"
      ]
     },
     "metadata": {},
     "output_type": "display_data"
    }
   ],
   "source": [
    "\n",
    "users_table1=pd.merge(calls_pivot_table,messages_month_pivot,how='left', right_index=True, left_index=True)\n",
    "display(users_table1)\n",
    "users_table1.info()\n",
    "\n",
    "users_table2=pd.merge(users_table1,internet_month_pivot,how='right',right_index=True, left_index=True)\n",
    "display(users_table2)\n",
    "users_table=pd.merge(users_table2,users_tariff_pivot,right_index=True, left_index=True)\n",
    "display(users_table)"
   ]
  },
  {
   "cell_type": "code",
   "execution_count": 31,
   "id": "c1623e3a",
   "metadata": {
    "scrolled": false
   },
   "outputs": [
    {
     "data": {
      "text/plain": [
       "3203"
      ]
     },
     "metadata": {},
     "output_type": "display_data"
    },
    {
     "name": "stdout",
     "output_type": "stream",
     "text": [
      "<class 'pandas.core.frame.DataFrame'>\n",
      "MultiIndex: 3203 entries, (1000, '05', 'ultra', 'Краснодар') to (1499, '12', 'smart', 'Пермь')\n",
      "Data columns (total 7 columns):\n",
      " #   Column                 Non-Null Count  Dtype  \n",
      "---  ------                 --------------  -----  \n",
      " 0   calls_sum              3163 non-null   float64\n",
      " 1   duration_sum           3163 non-null   float64\n",
      " 2   messages_sum           2667 non-null   float64\n",
      " 3   internet_sum           3203 non-null   float64\n",
      " 4   internet_sum_gb        3203 non-null   float64\n",
      " 5   internet_sum_gb_round  3203 non-null   float64\n",
      " 6   tariff_id              3203 non-null   int64  \n",
      "dtypes: float64(6), int64(1)\n",
      "memory usage: 211.8+ KB\n"
     ]
    }
   ],
   "source": [
    "display(len(users_table['tariff_id']))\n",
    "users_table.info()"
   ]
  },
  {
   "cell_type": "code",
   "execution_count": 32,
   "id": "d9fd44d9",
   "metadata": {},
   "outputs": [
    {
     "data": {
      "text/plain": [
       "40"
      ]
     },
     "metadata": {},
     "output_type": "display_data"
    },
    {
     "data": {
      "text/plain": [
       "536"
      ]
     },
     "metadata": {},
     "output_type": "display_data"
    }
   ],
   "source": [
    "#Количество пропущенных значений в 'calls_sum'\n",
    "display(len(users_table[users_table['calls_sum'].isna()]))\n",
    "#Количество пропущенных значений в 'messages_sum'\n",
    "display(len(users_table[users_table['messages_sum'].isna()]))"
   ]
  },
  {
   "cell_type": "code",
   "execution_count": 33,
   "id": "e21779e6",
   "metadata": {},
   "outputs": [
    {
     "data": {
      "text/plain": [
       "0"
      ]
     },
     "metadata": {},
     "output_type": "display_data"
    },
    {
     "data": {
      "text/plain": [
       "0"
      ]
     },
     "metadata": {},
     "output_type": "display_data"
    },
    {
     "data": {
      "text/plain": [
       "0"
      ]
     },
     "metadata": {},
     "output_type": "display_data"
    },
    {
     "name": "stdout",
     "output_type": "stream",
     "text": [
      "<class 'pandas.core.frame.DataFrame'>\n",
      "MultiIndex: 3203 entries, (1000, '05', 'ultra', 'Краснодар') to (1499, '12', 'smart', 'Пермь')\n",
      "Data columns (total 7 columns):\n",
      " #   Column                 Non-Null Count  Dtype  \n",
      "---  ------                 --------------  -----  \n",
      " 0   calls_sum              3203 non-null   float64\n",
      " 1   duration_sum           3203 non-null   float64\n",
      " 2   messages_sum           3203 non-null   float64\n",
      " 3   internet_sum           3203 non-null   float64\n",
      " 4   internet_sum_gb        3203 non-null   float64\n",
      " 5   internet_sum_gb_round  3203 non-null   float64\n",
      " 6   tariff_id              3203 non-null   int64  \n",
      "dtypes: float64(6), int64(1)\n",
      "memory usage: 211.8+ KB\n"
     ]
    }
   ],
   "source": [
    "# 40 значений 'calls_sum'  заменим на 0\n",
    "# 40 значений 'duration_sum '  заменим на 0\n",
    "# 539 значений 'messages_sum'  заменим на 0\n",
    "users_table['calls_sum'] = users_table['calls_sum'].fillna(0)\n",
    "users_table['duration_sum'] = users_table['duration_sum'].fillna(0)\n",
    "users_table['messages_sum'] = users_table['messages_sum'].fillna(0) \n",
    "#проверка замены \n",
    "display(len(users_table[users_table['calls_sum'].isna()]))\n",
    "display(len(users_table[users_table['duration_sum'].isna()]))\n",
    "display(len(users_table[users_table['messages_sum'].isna()]))\n",
    "users_table.info()"
   ]
  },
  {
   "cell_type": "code",
   "execution_count": 34,
   "id": "13e03d5a",
   "metadata": {},
   "outputs": [],
   "source": [
    "users_table_work=users_table.reset_index()"
   ]
  },
  {
   "cell_type": "code",
   "execution_count": 35,
   "id": "b79ade18",
   "metadata": {},
   "outputs": [
    {
     "data": {
      "text/html": [
       "<div>\n",
       "<style scoped>\n",
       "    .dataframe tbody tr th:only-of-type {\n",
       "        vertical-align: middle;\n",
       "    }\n",
       "\n",
       "    .dataframe tbody tr th {\n",
       "        vertical-align: top;\n",
       "    }\n",
       "\n",
       "    .dataframe thead th {\n",
       "        text-align: right;\n",
       "    }\n",
       "</style>\n",
       "<table border=\"1\" class=\"dataframe\">\n",
       "  <thead>\n",
       "    <tr style=\"text-align: right;\">\n",
       "      <th></th>\n",
       "      <th>user_id</th>\n",
       "      <th>month</th>\n",
       "      <th>tariff</th>\n",
       "      <th>city</th>\n",
       "      <th>calls_sum</th>\n",
       "      <th>duration_sum</th>\n",
       "      <th>messages_sum</th>\n",
       "      <th>internet_sum</th>\n",
       "      <th>internet_sum_gb</th>\n",
       "      <th>internet_sum_gb_round</th>\n",
       "      <th>tariff_id</th>\n",
       "    </tr>\n",
       "  </thead>\n",
       "  <tbody>\n",
       "    <tr>\n",
       "      <th>0</th>\n",
       "      <td>1000</td>\n",
       "      <td>05</td>\n",
       "      <td>ultra</td>\n",
       "      <td>Краснодар</td>\n",
       "      <td>22.0</td>\n",
       "      <td>159.0</td>\n",
       "      <td>22.0</td>\n",
       "      <td>2253.49</td>\n",
       "      <td>2.200674</td>\n",
       "      <td>3.0</td>\n",
       "      <td>0</td>\n",
       "    </tr>\n",
       "    <tr>\n",
       "      <th>1</th>\n",
       "      <td>1000</td>\n",
       "      <td>06</td>\n",
       "      <td>ultra</td>\n",
       "      <td>Краснодар</td>\n",
       "      <td>43.0</td>\n",
       "      <td>172.0</td>\n",
       "      <td>60.0</td>\n",
       "      <td>23233.77</td>\n",
       "      <td>22.689229</td>\n",
       "      <td>23.0</td>\n",
       "      <td>0</td>\n",
       "    </tr>\n",
       "    <tr>\n",
       "      <th>2</th>\n",
       "      <td>1000</td>\n",
       "      <td>07</td>\n",
       "      <td>ultra</td>\n",
       "      <td>Краснодар</td>\n",
       "      <td>47.0</td>\n",
       "      <td>340.0</td>\n",
       "      <td>75.0</td>\n",
       "      <td>14003.64</td>\n",
       "      <td>13.675430</td>\n",
       "      <td>14.0</td>\n",
       "      <td>0</td>\n",
       "    </tr>\n",
       "    <tr>\n",
       "      <th>3</th>\n",
       "      <td>1000</td>\n",
       "      <td>08</td>\n",
       "      <td>ultra</td>\n",
       "      <td>Краснодар</td>\n",
       "      <td>52.0</td>\n",
       "      <td>408.0</td>\n",
       "      <td>81.0</td>\n",
       "      <td>14055.93</td>\n",
       "      <td>13.726494</td>\n",
       "      <td>14.0</td>\n",
       "      <td>0</td>\n",
       "    </tr>\n",
       "    <tr>\n",
       "      <th>4</th>\n",
       "      <td>1000</td>\n",
       "      <td>09</td>\n",
       "      <td>ultra</td>\n",
       "      <td>Краснодар</td>\n",
       "      <td>58.0</td>\n",
       "      <td>466.0</td>\n",
       "      <td>57.0</td>\n",
       "      <td>14568.91</td>\n",
       "      <td>14.227451</td>\n",
       "      <td>15.0</td>\n",
       "      <td>0</td>\n",
       "    </tr>\n",
       "    <tr>\n",
       "      <th>...</th>\n",
       "      <td>...</td>\n",
       "      <td>...</td>\n",
       "      <td>...</td>\n",
       "      <td>...</td>\n",
       "      <td>...</td>\n",
       "      <td>...</td>\n",
       "      <td>...</td>\n",
       "      <td>...</td>\n",
       "      <td>...</td>\n",
       "      <td>...</td>\n",
       "      <td>...</td>\n",
       "    </tr>\n",
       "    <tr>\n",
       "      <th>3198</th>\n",
       "      <td>1498</td>\n",
       "      <td>10</td>\n",
       "      <td>smart</td>\n",
       "      <td>Владикавказ</td>\n",
       "      <td>41.0</td>\n",
       "      <td>247.0</td>\n",
       "      <td>42.0</td>\n",
       "      <td>20579.36</td>\n",
       "      <td>20.097031</td>\n",
       "      <td>21.0</td>\n",
       "      <td>1</td>\n",
       "    </tr>\n",
       "    <tr>\n",
       "      <th>3199</th>\n",
       "      <td>1499</td>\n",
       "      <td>09</td>\n",
       "      <td>smart</td>\n",
       "      <td>Пермь</td>\n",
       "      <td>9.0</td>\n",
       "      <td>70.0</td>\n",
       "      <td>11.0</td>\n",
       "      <td>1845.75</td>\n",
       "      <td>1.802490</td>\n",
       "      <td>2.0</td>\n",
       "      <td>1</td>\n",
       "    </tr>\n",
       "    <tr>\n",
       "      <th>3200</th>\n",
       "      <td>1499</td>\n",
       "      <td>10</td>\n",
       "      <td>smart</td>\n",
       "      <td>Пермь</td>\n",
       "      <td>68.0</td>\n",
       "      <td>449.0</td>\n",
       "      <td>48.0</td>\n",
       "      <td>17788.51</td>\n",
       "      <td>17.371592</td>\n",
       "      <td>18.0</td>\n",
       "      <td>1</td>\n",
       "    </tr>\n",
       "    <tr>\n",
       "      <th>3201</th>\n",
       "      <td>1499</td>\n",
       "      <td>11</td>\n",
       "      <td>smart</td>\n",
       "      <td>Пермь</td>\n",
       "      <td>74.0</td>\n",
       "      <td>612.0</td>\n",
       "      <td>59.0</td>\n",
       "      <td>17963.31</td>\n",
       "      <td>17.542295</td>\n",
       "      <td>18.0</td>\n",
       "      <td>1</td>\n",
       "    </tr>\n",
       "    <tr>\n",
       "      <th>3202</th>\n",
       "      <td>1499</td>\n",
       "      <td>12</td>\n",
       "      <td>smart</td>\n",
       "      <td>Пермь</td>\n",
       "      <td>69.0</td>\n",
       "      <td>492.0</td>\n",
       "      <td>66.0</td>\n",
       "      <td>13055.58</td>\n",
       "      <td>12.749590</td>\n",
       "      <td>13.0</td>\n",
       "      <td>1</td>\n",
       "    </tr>\n",
       "  </tbody>\n",
       "</table>\n",
       "<p>3203 rows × 11 columns</p>\n",
       "</div>"
      ],
      "text/plain": [
       "      user_id month tariff         city  calls_sum  duration_sum  \\\n",
       "0        1000    05  ultra    Краснодар       22.0         159.0   \n",
       "1        1000    06  ultra    Краснодар       43.0         172.0   \n",
       "2        1000    07  ultra    Краснодар       47.0         340.0   \n",
       "3        1000    08  ultra    Краснодар       52.0         408.0   \n",
       "4        1000    09  ultra    Краснодар       58.0         466.0   \n",
       "...       ...   ...    ...          ...        ...           ...   \n",
       "3198     1498    10  smart  Владикавказ       41.0         247.0   \n",
       "3199     1499    09  smart        Пермь        9.0          70.0   \n",
       "3200     1499    10  smart        Пермь       68.0         449.0   \n",
       "3201     1499    11  smart        Пермь       74.0         612.0   \n",
       "3202     1499    12  smart        Пермь       69.0         492.0   \n",
       "\n",
       "      messages_sum  internet_sum  internet_sum_gb  internet_sum_gb_round  \\\n",
       "0             22.0       2253.49         2.200674                    3.0   \n",
       "1             60.0      23233.77        22.689229                   23.0   \n",
       "2             75.0      14003.64        13.675430                   14.0   \n",
       "3             81.0      14055.93        13.726494                   14.0   \n",
       "4             57.0      14568.91        14.227451                   15.0   \n",
       "...            ...           ...              ...                    ...   \n",
       "3198          42.0      20579.36        20.097031                   21.0   \n",
       "3199          11.0       1845.75         1.802490                    2.0   \n",
       "3200          48.0      17788.51        17.371592                   18.0   \n",
       "3201          59.0      17963.31        17.542295                   18.0   \n",
       "3202          66.0      13055.58        12.749590                   13.0   \n",
       "\n",
       "      tariff_id  \n",
       "0             0  \n",
       "1             0  \n",
       "2             0  \n",
       "3             0  \n",
       "4             0  \n",
       "...         ...  \n",
       "3198          1  \n",
       "3199          1  \n",
       "3200          1  \n",
       "3201          1  \n",
       "3202          1  \n",
       "\n",
       "[3203 rows x 11 columns]"
      ]
     },
     "metadata": {},
     "output_type": "display_data"
    }
   ],
   "source": [
    "display(users_table_work)"
   ]
  },
  {
   "cell_type": "code",
   "execution_count": 36,
   "id": "590f7fa2",
   "metadata": {},
   "outputs": [
    {
     "data": {
      "text/html": [
       "<div>\n",
       "<style scoped>\n",
       "    .dataframe tbody tr th:only-of-type {\n",
       "        vertical-align: middle;\n",
       "    }\n",
       "\n",
       "    .dataframe tbody tr th {\n",
       "        vertical-align: top;\n",
       "    }\n",
       "\n",
       "    .dataframe thead th {\n",
       "        text-align: right;\n",
       "    }\n",
       "</style>\n",
       "<table border=\"1\" class=\"dataframe\">\n",
       "  <thead>\n",
       "    <tr style=\"text-align: right;\">\n",
       "      <th></th>\n",
       "      <th>user_id</th>\n",
       "      <th>month</th>\n",
       "      <th>tariff</th>\n",
       "      <th>city</th>\n",
       "      <th>calls_sum</th>\n",
       "      <th>duration_sum</th>\n",
       "      <th>messages_sum</th>\n",
       "      <th>internet_sum</th>\n",
       "      <th>internet_sum_gb</th>\n",
       "      <th>internet_sum_gb_round</th>\n",
       "      <th>tariff_id</th>\n",
       "      <th>profit_calls</th>\n",
       "      <th>profit_messages</th>\n",
       "      <th>profit_internet</th>\n",
       "      <th>profit_tariff</th>\n",
       "    </tr>\n",
       "  </thead>\n",
       "  <tbody>\n",
       "    <tr>\n",
       "      <th>0</th>\n",
       "      <td>1000</td>\n",
       "      <td>05</td>\n",
       "      <td>ultra</td>\n",
       "      <td>Краснодар</td>\n",
       "      <td>22.0</td>\n",
       "      <td>159.0</td>\n",
       "      <td>22.0</td>\n",
       "      <td>2253.49</td>\n",
       "      <td>2.200674</td>\n",
       "      <td>3.0</td>\n",
       "      <td>0</td>\n",
       "      <td>0.0</td>\n",
       "      <td>0.0</td>\n",
       "      <td>0.0</td>\n",
       "      <td>1950.0</td>\n",
       "    </tr>\n",
       "    <tr>\n",
       "      <th>1</th>\n",
       "      <td>1000</td>\n",
       "      <td>06</td>\n",
       "      <td>ultra</td>\n",
       "      <td>Краснодар</td>\n",
       "      <td>43.0</td>\n",
       "      <td>172.0</td>\n",
       "      <td>60.0</td>\n",
       "      <td>23233.77</td>\n",
       "      <td>22.689229</td>\n",
       "      <td>23.0</td>\n",
       "      <td>0</td>\n",
       "      <td>0.0</td>\n",
       "      <td>0.0</td>\n",
       "      <td>0.0</td>\n",
       "      <td>1950.0</td>\n",
       "    </tr>\n",
       "    <tr>\n",
       "      <th>2</th>\n",
       "      <td>1000</td>\n",
       "      <td>07</td>\n",
       "      <td>ultra</td>\n",
       "      <td>Краснодар</td>\n",
       "      <td>47.0</td>\n",
       "      <td>340.0</td>\n",
       "      <td>75.0</td>\n",
       "      <td>14003.64</td>\n",
       "      <td>13.675430</td>\n",
       "      <td>14.0</td>\n",
       "      <td>0</td>\n",
       "      <td>0.0</td>\n",
       "      <td>0.0</td>\n",
       "      <td>0.0</td>\n",
       "      <td>1950.0</td>\n",
       "    </tr>\n",
       "    <tr>\n",
       "      <th>3</th>\n",
       "      <td>1000</td>\n",
       "      <td>08</td>\n",
       "      <td>ultra</td>\n",
       "      <td>Краснодар</td>\n",
       "      <td>52.0</td>\n",
       "      <td>408.0</td>\n",
       "      <td>81.0</td>\n",
       "      <td>14055.93</td>\n",
       "      <td>13.726494</td>\n",
       "      <td>14.0</td>\n",
       "      <td>0</td>\n",
       "      <td>0.0</td>\n",
       "      <td>0.0</td>\n",
       "      <td>0.0</td>\n",
       "      <td>1950.0</td>\n",
       "    </tr>\n",
       "    <tr>\n",
       "      <th>4</th>\n",
       "      <td>1000</td>\n",
       "      <td>09</td>\n",
       "      <td>ultra</td>\n",
       "      <td>Краснодар</td>\n",
       "      <td>58.0</td>\n",
       "      <td>466.0</td>\n",
       "      <td>57.0</td>\n",
       "      <td>14568.91</td>\n",
       "      <td>14.227451</td>\n",
       "      <td>15.0</td>\n",
       "      <td>0</td>\n",
       "      <td>0.0</td>\n",
       "      <td>0.0</td>\n",
       "      <td>0.0</td>\n",
       "      <td>1950.0</td>\n",
       "    </tr>\n",
       "    <tr>\n",
       "      <th>...</th>\n",
       "      <td>...</td>\n",
       "      <td>...</td>\n",
       "      <td>...</td>\n",
       "      <td>...</td>\n",
       "      <td>...</td>\n",
       "      <td>...</td>\n",
       "      <td>...</td>\n",
       "      <td>...</td>\n",
       "      <td>...</td>\n",
       "      <td>...</td>\n",
       "      <td>...</td>\n",
       "      <td>...</td>\n",
       "      <td>...</td>\n",
       "      <td>...</td>\n",
       "      <td>...</td>\n",
       "    </tr>\n",
       "    <tr>\n",
       "      <th>3198</th>\n",
       "      <td>1498</td>\n",
       "      <td>10</td>\n",
       "      <td>smart</td>\n",
       "      <td>Владикавказ</td>\n",
       "      <td>41.0</td>\n",
       "      <td>247.0</td>\n",
       "      <td>42.0</td>\n",
       "      <td>20579.36</td>\n",
       "      <td>20.097031</td>\n",
       "      <td>21.0</td>\n",
       "      <td>1</td>\n",
       "      <td>0.0</td>\n",
       "      <td>0.0</td>\n",
       "      <td>1200.0</td>\n",
       "      <td>1750.0</td>\n",
       "    </tr>\n",
       "    <tr>\n",
       "      <th>3199</th>\n",
       "      <td>1499</td>\n",
       "      <td>09</td>\n",
       "      <td>smart</td>\n",
       "      <td>Пермь</td>\n",
       "      <td>9.0</td>\n",
       "      <td>70.0</td>\n",
       "      <td>11.0</td>\n",
       "      <td>1845.75</td>\n",
       "      <td>1.802490</td>\n",
       "      <td>2.0</td>\n",
       "      <td>1</td>\n",
       "      <td>0.0</td>\n",
       "      <td>0.0</td>\n",
       "      <td>0.0</td>\n",
       "      <td>550.0</td>\n",
       "    </tr>\n",
       "    <tr>\n",
       "      <th>3200</th>\n",
       "      <td>1499</td>\n",
       "      <td>10</td>\n",
       "      <td>smart</td>\n",
       "      <td>Пермь</td>\n",
       "      <td>68.0</td>\n",
       "      <td>449.0</td>\n",
       "      <td>48.0</td>\n",
       "      <td>17788.51</td>\n",
       "      <td>17.371592</td>\n",
       "      <td>18.0</td>\n",
       "      <td>1</td>\n",
       "      <td>0.0</td>\n",
       "      <td>0.0</td>\n",
       "      <td>600.0</td>\n",
       "      <td>1150.0</td>\n",
       "    </tr>\n",
       "    <tr>\n",
       "      <th>3201</th>\n",
       "      <td>1499</td>\n",
       "      <td>11</td>\n",
       "      <td>smart</td>\n",
       "      <td>Пермь</td>\n",
       "      <td>74.0</td>\n",
       "      <td>612.0</td>\n",
       "      <td>59.0</td>\n",
       "      <td>17963.31</td>\n",
       "      <td>17.542295</td>\n",
       "      <td>18.0</td>\n",
       "      <td>1</td>\n",
       "      <td>336.0</td>\n",
       "      <td>27.0</td>\n",
       "      <td>600.0</td>\n",
       "      <td>1513.0</td>\n",
       "    </tr>\n",
       "    <tr>\n",
       "      <th>3202</th>\n",
       "      <td>1499</td>\n",
       "      <td>12</td>\n",
       "      <td>smart</td>\n",
       "      <td>Пермь</td>\n",
       "      <td>69.0</td>\n",
       "      <td>492.0</td>\n",
       "      <td>66.0</td>\n",
       "      <td>13055.58</td>\n",
       "      <td>12.749590</td>\n",
       "      <td>13.0</td>\n",
       "      <td>1</td>\n",
       "      <td>0.0</td>\n",
       "      <td>48.0</td>\n",
       "      <td>0.0</td>\n",
       "      <td>598.0</td>\n",
       "    </tr>\n",
       "  </tbody>\n",
       "</table>\n",
       "<p>3203 rows × 15 columns</p>\n",
       "</div>"
      ],
      "text/plain": [
       "      user_id month tariff         city  calls_sum  duration_sum  \\\n",
       "0        1000    05  ultra    Краснодар       22.0         159.0   \n",
       "1        1000    06  ultra    Краснодар       43.0         172.0   \n",
       "2        1000    07  ultra    Краснодар       47.0         340.0   \n",
       "3        1000    08  ultra    Краснодар       52.0         408.0   \n",
       "4        1000    09  ultra    Краснодар       58.0         466.0   \n",
       "...       ...   ...    ...          ...        ...           ...   \n",
       "3198     1498    10  smart  Владикавказ       41.0         247.0   \n",
       "3199     1499    09  smart        Пермь        9.0          70.0   \n",
       "3200     1499    10  smart        Пермь       68.0         449.0   \n",
       "3201     1499    11  smart        Пермь       74.0         612.0   \n",
       "3202     1499    12  smart        Пермь       69.0         492.0   \n",
       "\n",
       "      messages_sum  internet_sum  internet_sum_gb  internet_sum_gb_round  \\\n",
       "0             22.0       2253.49         2.200674                    3.0   \n",
       "1             60.0      23233.77        22.689229                   23.0   \n",
       "2             75.0      14003.64        13.675430                   14.0   \n",
       "3             81.0      14055.93        13.726494                   14.0   \n",
       "4             57.0      14568.91        14.227451                   15.0   \n",
       "...            ...           ...              ...                    ...   \n",
       "3198          42.0      20579.36        20.097031                   21.0   \n",
       "3199          11.0       1845.75         1.802490                    2.0   \n",
       "3200          48.0      17788.51        17.371592                   18.0   \n",
       "3201          59.0      17963.31        17.542295                   18.0   \n",
       "3202          66.0      13055.58        12.749590                   13.0   \n",
       "\n",
       "      tariff_id  profit_calls  profit_messages  profit_internet  profit_tariff  \n",
       "0             0           0.0              0.0              0.0         1950.0  \n",
       "1             0           0.0              0.0              0.0         1950.0  \n",
       "2             0           0.0              0.0              0.0         1950.0  \n",
       "3             0           0.0              0.0              0.0         1950.0  \n",
       "4             0           0.0              0.0              0.0         1950.0  \n",
       "...         ...           ...              ...              ...            ...  \n",
       "3198          1           0.0              0.0           1200.0         1750.0  \n",
       "3199          1           0.0              0.0              0.0          550.0  \n",
       "3200          1           0.0              0.0            600.0         1150.0  \n",
       "3201          1         336.0             27.0            600.0         1513.0  \n",
       "3202          1           0.0             48.0              0.0          598.0  \n",
       "\n",
       "[3203 rows x 15 columns]"
      ]
     },
     "metadata": {},
     "output_type": "display_data"
    }
   ],
   "source": [
    "#Забиваем столбцы profit 0 из предположения, что выгоды нет. \n",
    "#Если по срезам получится что что-то изменилось, то заменим значение\n",
    "users_table_work.loc[:,'profit_calls']=0\n",
    "users_table_work.loc[:,'profit_messages']=0\n",
    "users_table_work.loc[:,'profit_internet']=0\n",
    "\n",
    "\n",
    "profit_calls=0\n",
    "profit_messages=0\n",
    "profit_internet=0\n",
    "for i in range(len(users_table_work)):\n",
    "    if (users_table_work.loc[i,'tariff']=='ultra')& (users_table_work.loc[i,'duration_sum']>3000):\n",
    "        profit_calls+=(users_table_work.loc[i,'duration_sum']-3000)*1\n",
    "        #profit_calls_ultra.append(profit_calls)\n",
    "        users_table_work.loc[i,'profit_calls']=profit_calls\n",
    "        profit_calls=0\n",
    "    if (users_table_work.loc[i,'tariff']=='ultra')& (users_table_work.loc[i,'messages_sum']>1000):\n",
    "        profit_messages+=(users_table_work.loc[i,'messages_sum']-1000)*1\n",
    "        #profit_messages_ultra.append(profit_messages)\n",
    "        users_table_work.loc[i,'profit_messages']=profit_messages\n",
    "        profit_messages=0\n",
    "    if (users_table_work.loc[i,'tariff']=='ultra')& (users_table_work.loc[i,'internet_sum_gb_round']>30):\n",
    "        profit_internet+=(users_table_work.loc[i,'internet_sum_gb_round']-30)*150\n",
    "        users_table_work.loc[i,'profit_internet']=profit_internet\n",
    "        profit_internet=0\n",
    "\n",
    "profit_calls=0\n",
    "profit_messages=0\n",
    "profit_internet=0\n",
    "for i in range(len(users_table_work)):\n",
    "    if (users_table_work.loc[i,'tariff']=='smart')& (users_table_work.loc[i,'duration_sum']>500):\n",
    "        profit_calls+=(users_table_work.loc[i,'duration_sum']-500)*3\n",
    "        \n",
    "        users_table_work.loc[i,'profit_calls']=profit_calls\n",
    "        profit_calls=0\n",
    "    if (users_table_work.loc[i,'tariff']=='smart')& (users_table_work.loc[i,'messages_sum']>50):\n",
    "        profit_messages+=(users_table_work.loc[i,'messages_sum']-50)*3\n",
    "        \n",
    "        users_table_work.loc[i,'profit_messages']=profit_messages\n",
    "        profit_messages=0\n",
    "    if (users_table_work.loc[i,'tariff']=='smart')& (users_table_work.loc[i,'internet_sum_gb_round']>15):\n",
    "        profit_internet+=(users_table_work.loc[i,'internet_sum_gb_round']-15)*200\n",
    "        users_table_work.loc[i,'profit_internet']=profit_internet\n",
    "        profit_internet=0\n",
    "\n",
    "for i in range(len(users_table_work)):\n",
    "    if (users_table_work.loc[i,'tariff']=='ultra'):\n",
    "        users_table_work.loc[i,'profit_tariff']=users_table_work.loc[i,'profit_calls']+users_table_work.loc[i,'profit_messages']+users_table_work.loc[i,'profit_internet']+1950\n",
    "    else:\n",
    "         if (users_table_work.loc[i,'tariff']=='smart'):\n",
    "                users_table_work.loc[i,'profit_tariff']=users_table_work.loc[i,'profit_calls']+users_table_work.loc[i,'profit_messages']+users_table_work.loc[i,'profit_internet']+550\n",
    "   \n",
    "        \n",
    "display(users_table_work)"
   ]
  },
  {
   "cell_type": "markdown",
   "id": "6708b319",
   "metadata": {},
   "source": [
    "### Вывод"
   ]
  },
  {
   "cell_type": "markdown",
   "id": "29234b22",
   "metadata": {},
   "source": [
    "1. Заменили в таблице `users` пропуски на `2018-12-31`\n",
    "2. Поменяли тип столбцов связанных со временем во всех таблицах\n",
    "3. Добавили столбец с месяцем для каждой таблицы\n",
    "4. Все собрали с помощь pivot_table  в одну таблицу\n",
    "5. Рассчитали сколько тратит каждый пользователь по тарифам и какой доход по тарифу у компании\n",
    "\n"
   ]
  },
  {
   "cell_type": "markdown",
   "id": "9e335893",
   "metadata": {},
   "source": [
    "## Анализ данных"
   ]
  },
  {
   "cell_type": "markdown",
   "id": "a21ea17d",
   "metadata": {},
   "source": [
    "#### Работаем с тарифом smart"
   ]
  },
  {
   "cell_type": "code",
   "execution_count": 37,
   "id": "87aa65c6",
   "metadata": {},
   "outputs": [
    {
     "data": {
      "text/html": [
       "<div>\n",
       "<style scoped>\n",
       "    .dataframe tbody tr th:only-of-type {\n",
       "        vertical-align: middle;\n",
       "    }\n",
       "\n",
       "    .dataframe tbody tr th {\n",
       "        vertical-align: top;\n",
       "    }\n",
       "\n",
       "    .dataframe thead th {\n",
       "        text-align: right;\n",
       "    }\n",
       "</style>\n",
       "<table border=\"1\" class=\"dataframe\">\n",
       "  <thead>\n",
       "    <tr style=\"text-align: right;\">\n",
       "      <th></th>\n",
       "      <th>user_id</th>\n",
       "      <th>month</th>\n",
       "      <th>tariff</th>\n",
       "      <th>city</th>\n",
       "      <th>calls_sum</th>\n",
       "      <th>duration_sum</th>\n",
       "      <th>messages_sum</th>\n",
       "      <th>internet_sum</th>\n",
       "      <th>internet_sum_gb</th>\n",
       "      <th>internet_sum_gb_round</th>\n",
       "      <th>tariff_id</th>\n",
       "      <th>profit_calls</th>\n",
       "      <th>profit_messages</th>\n",
       "      <th>profit_internet</th>\n",
       "      <th>profit_tariff</th>\n",
       "    </tr>\n",
       "  </thead>\n",
       "  <tbody>\n",
       "    <tr>\n",
       "      <th>0</th>\n",
       "      <td>1001</td>\n",
       "      <td>11</td>\n",
       "      <td>smart</td>\n",
       "      <td>Москва</td>\n",
       "      <td>59.0</td>\n",
       "      <td>430.0</td>\n",
       "      <td>0.0</td>\n",
       "      <td>18429.34</td>\n",
       "      <td>17.997402</td>\n",
       "      <td>18.0</td>\n",
       "      <td>1</td>\n",
       "      <td>0.0</td>\n",
       "      <td>0.0</td>\n",
       "      <td>600.0</td>\n",
       "      <td>1150.0</td>\n",
       "    </tr>\n",
       "    <tr>\n",
       "      <th>1</th>\n",
       "      <td>1001</td>\n",
       "      <td>12</td>\n",
       "      <td>smart</td>\n",
       "      <td>Москва</td>\n",
       "      <td>63.0</td>\n",
       "      <td>414.0</td>\n",
       "      <td>0.0</td>\n",
       "      <td>14036.66</td>\n",
       "      <td>13.707676</td>\n",
       "      <td>14.0</td>\n",
       "      <td>1</td>\n",
       "      <td>0.0</td>\n",
       "      <td>0.0</td>\n",
       "      <td>0.0</td>\n",
       "      <td>550.0</td>\n",
       "    </tr>\n",
       "    <tr>\n",
       "      <th>2</th>\n",
       "      <td>1002</td>\n",
       "      <td>06</td>\n",
       "      <td>smart</td>\n",
       "      <td>Стерлитамак</td>\n",
       "      <td>15.0</td>\n",
       "      <td>117.0</td>\n",
       "      <td>4.0</td>\n",
       "      <td>10856.82</td>\n",
       "      <td>10.602363</td>\n",
       "      <td>11.0</td>\n",
       "      <td>1</td>\n",
       "      <td>0.0</td>\n",
       "      <td>0.0</td>\n",
       "      <td>0.0</td>\n",
       "      <td>550.0</td>\n",
       "    </tr>\n",
       "    <tr>\n",
       "      <th>3</th>\n",
       "      <td>1002</td>\n",
       "      <td>07</td>\n",
       "      <td>smart</td>\n",
       "      <td>Стерлитамак</td>\n",
       "      <td>26.0</td>\n",
       "      <td>214.0</td>\n",
       "      <td>11.0</td>\n",
       "      <td>17580.10</td>\n",
       "      <td>17.168066</td>\n",
       "      <td>18.0</td>\n",
       "      <td>1</td>\n",
       "      <td>0.0</td>\n",
       "      <td>0.0</td>\n",
       "      <td>600.0</td>\n",
       "      <td>1150.0</td>\n",
       "    </tr>\n",
       "    <tr>\n",
       "      <th>4</th>\n",
       "      <td>1002</td>\n",
       "      <td>08</td>\n",
       "      <td>smart</td>\n",
       "      <td>Стерлитамак</td>\n",
       "      <td>42.0</td>\n",
       "      <td>289.0</td>\n",
       "      <td>13.0</td>\n",
       "      <td>20319.26</td>\n",
       "      <td>19.843027</td>\n",
       "      <td>20.0</td>\n",
       "      <td>1</td>\n",
       "      <td>0.0</td>\n",
       "      <td>0.0</td>\n",
       "      <td>1000.0</td>\n",
       "      <td>1550.0</td>\n",
       "    </tr>\n",
       "    <tr>\n",
       "      <th>...</th>\n",
       "      <td>...</td>\n",
       "      <td>...</td>\n",
       "      <td>...</td>\n",
       "      <td>...</td>\n",
       "      <td>...</td>\n",
       "      <td>...</td>\n",
       "      <td>...</td>\n",
       "      <td>...</td>\n",
       "      <td>...</td>\n",
       "      <td>...</td>\n",
       "      <td>...</td>\n",
       "      <td>...</td>\n",
       "      <td>...</td>\n",
       "      <td>...</td>\n",
       "      <td>...</td>\n",
       "    </tr>\n",
       "    <tr>\n",
       "      <th>2223</th>\n",
       "      <td>1498</td>\n",
       "      <td>10</td>\n",
       "      <td>smart</td>\n",
       "      <td>Владикавказ</td>\n",
       "      <td>41.0</td>\n",
       "      <td>247.0</td>\n",
       "      <td>42.0</td>\n",
       "      <td>20579.36</td>\n",
       "      <td>20.097031</td>\n",
       "      <td>21.0</td>\n",
       "      <td>1</td>\n",
       "      <td>0.0</td>\n",
       "      <td>0.0</td>\n",
       "      <td>1200.0</td>\n",
       "      <td>1750.0</td>\n",
       "    </tr>\n",
       "    <tr>\n",
       "      <th>2224</th>\n",
       "      <td>1499</td>\n",
       "      <td>09</td>\n",
       "      <td>smart</td>\n",
       "      <td>Пермь</td>\n",
       "      <td>9.0</td>\n",
       "      <td>70.0</td>\n",
       "      <td>11.0</td>\n",
       "      <td>1845.75</td>\n",
       "      <td>1.802490</td>\n",
       "      <td>2.0</td>\n",
       "      <td>1</td>\n",
       "      <td>0.0</td>\n",
       "      <td>0.0</td>\n",
       "      <td>0.0</td>\n",
       "      <td>550.0</td>\n",
       "    </tr>\n",
       "    <tr>\n",
       "      <th>2225</th>\n",
       "      <td>1499</td>\n",
       "      <td>10</td>\n",
       "      <td>smart</td>\n",
       "      <td>Пермь</td>\n",
       "      <td>68.0</td>\n",
       "      <td>449.0</td>\n",
       "      <td>48.0</td>\n",
       "      <td>17788.51</td>\n",
       "      <td>17.371592</td>\n",
       "      <td>18.0</td>\n",
       "      <td>1</td>\n",
       "      <td>0.0</td>\n",
       "      <td>0.0</td>\n",
       "      <td>600.0</td>\n",
       "      <td>1150.0</td>\n",
       "    </tr>\n",
       "    <tr>\n",
       "      <th>2226</th>\n",
       "      <td>1499</td>\n",
       "      <td>11</td>\n",
       "      <td>smart</td>\n",
       "      <td>Пермь</td>\n",
       "      <td>74.0</td>\n",
       "      <td>612.0</td>\n",
       "      <td>59.0</td>\n",
       "      <td>17963.31</td>\n",
       "      <td>17.542295</td>\n",
       "      <td>18.0</td>\n",
       "      <td>1</td>\n",
       "      <td>336.0</td>\n",
       "      <td>27.0</td>\n",
       "      <td>600.0</td>\n",
       "      <td>1513.0</td>\n",
       "    </tr>\n",
       "    <tr>\n",
       "      <th>2227</th>\n",
       "      <td>1499</td>\n",
       "      <td>12</td>\n",
       "      <td>smart</td>\n",
       "      <td>Пермь</td>\n",
       "      <td>69.0</td>\n",
       "      <td>492.0</td>\n",
       "      <td>66.0</td>\n",
       "      <td>13055.58</td>\n",
       "      <td>12.749590</td>\n",
       "      <td>13.0</td>\n",
       "      <td>1</td>\n",
       "      <td>0.0</td>\n",
       "      <td>48.0</td>\n",
       "      <td>0.0</td>\n",
       "      <td>598.0</td>\n",
       "    </tr>\n",
       "  </tbody>\n",
       "</table>\n",
       "<p>2228 rows × 15 columns</p>\n",
       "</div>"
      ],
      "text/plain": [
       "      user_id month tariff         city  calls_sum  duration_sum  \\\n",
       "0        1001    11  smart       Москва       59.0         430.0   \n",
       "1        1001    12  smart       Москва       63.0         414.0   \n",
       "2        1002    06  smart  Стерлитамак       15.0         117.0   \n",
       "3        1002    07  smart  Стерлитамак       26.0         214.0   \n",
       "4        1002    08  smart  Стерлитамак       42.0         289.0   \n",
       "...       ...   ...    ...          ...        ...           ...   \n",
       "2223     1498    10  smart  Владикавказ       41.0         247.0   \n",
       "2224     1499    09  smart        Пермь        9.0          70.0   \n",
       "2225     1499    10  smart        Пермь       68.0         449.0   \n",
       "2226     1499    11  smart        Пермь       74.0         612.0   \n",
       "2227     1499    12  smart        Пермь       69.0         492.0   \n",
       "\n",
       "      messages_sum  internet_sum  internet_sum_gb  internet_sum_gb_round  \\\n",
       "0              0.0      18429.34        17.997402                   18.0   \n",
       "1              0.0      14036.66        13.707676                   14.0   \n",
       "2              4.0      10856.82        10.602363                   11.0   \n",
       "3             11.0      17580.10        17.168066                   18.0   \n",
       "4             13.0      20319.26        19.843027                   20.0   \n",
       "...            ...           ...              ...                    ...   \n",
       "2223          42.0      20579.36        20.097031                   21.0   \n",
       "2224          11.0       1845.75         1.802490                    2.0   \n",
       "2225          48.0      17788.51        17.371592                   18.0   \n",
       "2226          59.0      17963.31        17.542295                   18.0   \n",
       "2227          66.0      13055.58        12.749590                   13.0   \n",
       "\n",
       "      tariff_id  profit_calls  profit_messages  profit_internet  profit_tariff  \n",
       "0             1           0.0              0.0            600.0         1150.0  \n",
       "1             1           0.0              0.0              0.0          550.0  \n",
       "2             1           0.0              0.0              0.0          550.0  \n",
       "3             1           0.0              0.0            600.0         1150.0  \n",
       "4             1           0.0              0.0           1000.0         1550.0  \n",
       "...         ...           ...              ...              ...            ...  \n",
       "2223          1           0.0              0.0           1200.0         1750.0  \n",
       "2224          1           0.0              0.0              0.0          550.0  \n",
       "2225          1           0.0              0.0            600.0         1150.0  \n",
       "2226          1         336.0             27.0            600.0         1513.0  \n",
       "2227          1           0.0             48.0              0.0          598.0  \n",
       "\n",
       "[2228 rows x 15 columns]"
      ]
     },
     "metadata": {},
     "output_type": "display_data"
    },
    {
     "data": {
      "text/html": [
       "<div>\n",
       "<style scoped>\n",
       "    .dataframe tbody tr th:only-of-type {\n",
       "        vertical-align: middle;\n",
       "    }\n",
       "\n",
       "    .dataframe tbody tr th {\n",
       "        vertical-align: top;\n",
       "    }\n",
       "\n",
       "    .dataframe thead th {\n",
       "        text-align: right;\n",
       "    }\n",
       "</style>\n",
       "<table border=\"1\" class=\"dataframe\">\n",
       "  <thead>\n",
       "    <tr style=\"text-align: right;\">\n",
       "      <th></th>\n",
       "      <th>user_id</th>\n",
       "      <th>month</th>\n",
       "      <th>tariff</th>\n",
       "      <th>city</th>\n",
       "      <th>calls_sum</th>\n",
       "      <th>duration_sum</th>\n",
       "      <th>messages_sum</th>\n",
       "      <th>internet_sum</th>\n",
       "      <th>internet_sum_gb</th>\n",
       "      <th>internet_sum_gb_round</th>\n",
       "      <th>tariff_id</th>\n",
       "      <th>profit_calls</th>\n",
       "      <th>profit_messages</th>\n",
       "      <th>profit_internet</th>\n",
       "      <th>profit_tariff</th>\n",
       "    </tr>\n",
       "  </thead>\n",
       "  <tbody>\n",
       "    <tr>\n",
       "      <th>0</th>\n",
       "      <td>1001</td>\n",
       "      <td>11</td>\n",
       "      <td>smart</td>\n",
       "      <td>Москва</td>\n",
       "      <td>59.0</td>\n",
       "      <td>430.0</td>\n",
       "      <td>0.0</td>\n",
       "      <td>18429.34</td>\n",
       "      <td>17.997402</td>\n",
       "      <td>18.0</td>\n",
       "      <td>1</td>\n",
       "      <td>0.0</td>\n",
       "      <td>0.0</td>\n",
       "      <td>600.0</td>\n",
       "      <td>1150.0</td>\n",
       "    </tr>\n",
       "    <tr>\n",
       "      <th>1</th>\n",
       "      <td>1001</td>\n",
       "      <td>12</td>\n",
       "      <td>smart</td>\n",
       "      <td>Москва</td>\n",
       "      <td>63.0</td>\n",
       "      <td>414.0</td>\n",
       "      <td>0.0</td>\n",
       "      <td>14036.66</td>\n",
       "      <td>13.707676</td>\n",
       "      <td>14.0</td>\n",
       "      <td>1</td>\n",
       "      <td>0.0</td>\n",
       "      <td>0.0</td>\n",
       "      <td>0.0</td>\n",
       "      <td>550.0</td>\n",
       "    </tr>\n",
       "    <tr>\n",
       "      <th>2</th>\n",
       "      <td>1002</td>\n",
       "      <td>6</td>\n",
       "      <td>smart</td>\n",
       "      <td>Стерлитамак</td>\n",
       "      <td>15.0</td>\n",
       "      <td>117.0</td>\n",
       "      <td>4.0</td>\n",
       "      <td>10856.82</td>\n",
       "      <td>10.602363</td>\n",
       "      <td>11.0</td>\n",
       "      <td>1</td>\n",
       "      <td>0.0</td>\n",
       "      <td>0.0</td>\n",
       "      <td>0.0</td>\n",
       "      <td>550.0</td>\n",
       "    </tr>\n",
       "    <tr>\n",
       "      <th>3</th>\n",
       "      <td>1002</td>\n",
       "      <td>7</td>\n",
       "      <td>smart</td>\n",
       "      <td>Стерлитамак</td>\n",
       "      <td>26.0</td>\n",
       "      <td>214.0</td>\n",
       "      <td>11.0</td>\n",
       "      <td>17580.10</td>\n",
       "      <td>17.168066</td>\n",
       "      <td>18.0</td>\n",
       "      <td>1</td>\n",
       "      <td>0.0</td>\n",
       "      <td>0.0</td>\n",
       "      <td>600.0</td>\n",
       "      <td>1150.0</td>\n",
       "    </tr>\n",
       "    <tr>\n",
       "      <th>4</th>\n",
       "      <td>1002</td>\n",
       "      <td>8</td>\n",
       "      <td>smart</td>\n",
       "      <td>Стерлитамак</td>\n",
       "      <td>42.0</td>\n",
       "      <td>289.0</td>\n",
       "      <td>13.0</td>\n",
       "      <td>20319.26</td>\n",
       "      <td>19.843027</td>\n",
       "      <td>20.0</td>\n",
       "      <td>1</td>\n",
       "      <td>0.0</td>\n",
       "      <td>0.0</td>\n",
       "      <td>1000.0</td>\n",
       "      <td>1550.0</td>\n",
       "    </tr>\n",
       "    <tr>\n",
       "      <th>...</th>\n",
       "      <td>...</td>\n",
       "      <td>...</td>\n",
       "      <td>...</td>\n",
       "      <td>...</td>\n",
       "      <td>...</td>\n",
       "      <td>...</td>\n",
       "      <td>...</td>\n",
       "      <td>...</td>\n",
       "      <td>...</td>\n",
       "      <td>...</td>\n",
       "      <td>...</td>\n",
       "      <td>...</td>\n",
       "      <td>...</td>\n",
       "      <td>...</td>\n",
       "      <td>...</td>\n",
       "    </tr>\n",
       "    <tr>\n",
       "      <th>2223</th>\n",
       "      <td>1498</td>\n",
       "      <td>10</td>\n",
       "      <td>smart</td>\n",
       "      <td>Владикавказ</td>\n",
       "      <td>41.0</td>\n",
       "      <td>247.0</td>\n",
       "      <td>42.0</td>\n",
       "      <td>20579.36</td>\n",
       "      <td>20.097031</td>\n",
       "      <td>21.0</td>\n",
       "      <td>1</td>\n",
       "      <td>0.0</td>\n",
       "      <td>0.0</td>\n",
       "      <td>1200.0</td>\n",
       "      <td>1750.0</td>\n",
       "    </tr>\n",
       "    <tr>\n",
       "      <th>2224</th>\n",
       "      <td>1499</td>\n",
       "      <td>9</td>\n",
       "      <td>smart</td>\n",
       "      <td>Пермь</td>\n",
       "      <td>9.0</td>\n",
       "      <td>70.0</td>\n",
       "      <td>11.0</td>\n",
       "      <td>1845.75</td>\n",
       "      <td>1.802490</td>\n",
       "      <td>2.0</td>\n",
       "      <td>1</td>\n",
       "      <td>0.0</td>\n",
       "      <td>0.0</td>\n",
       "      <td>0.0</td>\n",
       "      <td>550.0</td>\n",
       "    </tr>\n",
       "    <tr>\n",
       "      <th>2225</th>\n",
       "      <td>1499</td>\n",
       "      <td>10</td>\n",
       "      <td>smart</td>\n",
       "      <td>Пермь</td>\n",
       "      <td>68.0</td>\n",
       "      <td>449.0</td>\n",
       "      <td>48.0</td>\n",
       "      <td>17788.51</td>\n",
       "      <td>17.371592</td>\n",
       "      <td>18.0</td>\n",
       "      <td>1</td>\n",
       "      <td>0.0</td>\n",
       "      <td>0.0</td>\n",
       "      <td>600.0</td>\n",
       "      <td>1150.0</td>\n",
       "    </tr>\n",
       "    <tr>\n",
       "      <th>2226</th>\n",
       "      <td>1499</td>\n",
       "      <td>11</td>\n",
       "      <td>smart</td>\n",
       "      <td>Пермь</td>\n",
       "      <td>74.0</td>\n",
       "      <td>612.0</td>\n",
       "      <td>59.0</td>\n",
       "      <td>17963.31</td>\n",
       "      <td>17.542295</td>\n",
       "      <td>18.0</td>\n",
       "      <td>1</td>\n",
       "      <td>336.0</td>\n",
       "      <td>27.0</td>\n",
       "      <td>600.0</td>\n",
       "      <td>1513.0</td>\n",
       "    </tr>\n",
       "    <tr>\n",
       "      <th>2227</th>\n",
       "      <td>1499</td>\n",
       "      <td>12</td>\n",
       "      <td>smart</td>\n",
       "      <td>Пермь</td>\n",
       "      <td>69.0</td>\n",
       "      <td>492.0</td>\n",
       "      <td>66.0</td>\n",
       "      <td>13055.58</td>\n",
       "      <td>12.749590</td>\n",
       "      <td>13.0</td>\n",
       "      <td>1</td>\n",
       "      <td>0.0</td>\n",
       "      <td>48.0</td>\n",
       "      <td>0.0</td>\n",
       "      <td>598.0</td>\n",
       "    </tr>\n",
       "  </tbody>\n",
       "</table>\n",
       "<p>2228 rows × 15 columns</p>\n",
       "</div>"
      ],
      "text/plain": [
       "      user_id  month tariff         city  calls_sum  duration_sum  \\\n",
       "0        1001     11  smart       Москва       59.0         430.0   \n",
       "1        1001     12  smart       Москва       63.0         414.0   \n",
       "2        1002      6  smart  Стерлитамак       15.0         117.0   \n",
       "3        1002      7  smart  Стерлитамак       26.0         214.0   \n",
       "4        1002      8  smart  Стерлитамак       42.0         289.0   \n",
       "...       ...    ...    ...          ...        ...           ...   \n",
       "2223     1498     10  smart  Владикавказ       41.0         247.0   \n",
       "2224     1499      9  smart        Пермь        9.0          70.0   \n",
       "2225     1499     10  smart        Пермь       68.0         449.0   \n",
       "2226     1499     11  smart        Пермь       74.0         612.0   \n",
       "2227     1499     12  smart        Пермь       69.0         492.0   \n",
       "\n",
       "      messages_sum  internet_sum  internet_sum_gb  internet_sum_gb_round  \\\n",
       "0              0.0      18429.34        17.997402                   18.0   \n",
       "1              0.0      14036.66        13.707676                   14.0   \n",
       "2              4.0      10856.82        10.602363                   11.0   \n",
       "3             11.0      17580.10        17.168066                   18.0   \n",
       "4             13.0      20319.26        19.843027                   20.0   \n",
       "...            ...           ...              ...                    ...   \n",
       "2223          42.0      20579.36        20.097031                   21.0   \n",
       "2224          11.0       1845.75         1.802490                    2.0   \n",
       "2225          48.0      17788.51        17.371592                   18.0   \n",
       "2226          59.0      17963.31        17.542295                   18.0   \n",
       "2227          66.0      13055.58        12.749590                   13.0   \n",
       "\n",
       "      tariff_id  profit_calls  profit_messages  profit_internet  profit_tariff  \n",
       "0             1           0.0              0.0            600.0         1150.0  \n",
       "1             1           0.0              0.0              0.0          550.0  \n",
       "2             1           0.0              0.0              0.0          550.0  \n",
       "3             1           0.0              0.0            600.0         1150.0  \n",
       "4             1           0.0              0.0           1000.0         1550.0  \n",
       "...         ...           ...              ...              ...            ...  \n",
       "2223          1           0.0              0.0           1200.0         1750.0  \n",
       "2224          1           0.0              0.0              0.0          550.0  \n",
       "2225          1           0.0              0.0            600.0         1150.0  \n",
       "2226          1         336.0             27.0            600.0         1513.0  \n",
       "2227          1           0.0             48.0              0.0          598.0  \n",
       "\n",
       "[2228 rows x 15 columns]"
      ]
     },
     "metadata": {},
     "output_type": "display_data"
    }
   ],
   "source": [
    "calls_group_smart=users_table_work.query('tariff==\"smart\"').reset_index(drop=True)\n",
    "\n",
    "display(calls_group_smart)\n",
    "calls_group_smart['month']=calls_group_smart['month'].astype('int')\n",
    "display(calls_group_smart)"
   ]
  },
  {
   "cell_type": "code",
   "execution_count": 38,
   "id": "a9d40b61",
   "metadata": {},
   "outputs": [
    {
     "data": {
      "text/plain": [
       "2228"
      ]
     },
     "metadata": {},
     "output_type": "display_data"
    }
   ],
   "source": [
    "display(len(calls_group_smart))"
   ]
  },
  {
   "cell_type": "code",
   "execution_count": 39,
   "id": "f5fb5005",
   "metadata": {
    "scrolled": true
   },
   "outputs": [
    {
     "data": {
      "image/png": "[encoded data removed]",
      "text/plain": [
       "<Figure size 432x288 with 1 Axes>"
      ]
     },
     "metadata": {
      "needs_background": "light"
     },
     "output_type": "display_data"
    },
    {
     "data": {
      "image/png": "[encoded data removed]",
      "text/plain": [
       "<Figure size 432x288 with 1 Axes>"
      ]
     },
     "metadata": {
      "needs_background": "light"
     },
     "output_type": "display_data"
    }
   ],
   "source": [
    "#зависимость количества звонков от месяца\n",
    "\n",
    "calls_group_smart['duration_sum'].hist(density=True)\n",
    "plt.title('Гистограмма плотности звонков по месяцам')\n",
    "plt.xlabel('Сумма звонков')\n",
    "plt.ylabel('Плотность частоты')\n",
    "plt.show()\n",
    "calls_group_smart.plot(x='month', y='duration_sum', kind='scatter',grid=True)\n",
    "plt.title('График количество звонков по месяцам')\n",
    "plt.show()"
   ]
  },
  {
   "cell_type": "code",
   "execution_count": 40,
   "id": "19f9a569",
   "metadata": {
    "scrolled": true
   },
   "outputs": [
    {
     "data": {
      "image/png": "[encoded data removed]",
      "text/plain": [
       "<Figure size 432x288 with 1 Axes>"
      ]
     },
     "metadata": {
      "needs_background": "light"
     },
     "output_type": "display_data"
    },
    {
     "data": {
      "image/png": "[encoded data removed]",
      "text/plain": [
       "<Figure size 432x288 with 1 Axes>"
      ]
     },
     "metadata": {
      "needs_background": "light"
     },
     "output_type": "display_data"
    }
   ],
   "source": [
    "#зависимость количества сообщений от месяца\n",
    "calls_group_smart['messages_sum'].hist(density=True)\n",
    "plt.title('Гистограмма плотности сообщений по месяцам')\n",
    "plt.xlabel('Сумма сообщений')\n",
    "plt.ylabel('Плотность частоты')\n",
    "plt.show()\n",
    "calls_group_smart.plot(x='month', y='messages_sum', kind='scatter',grid=True)\n",
    "plt.title('График количество сообщений по месяцам')\n",
    "plt.show()"
   ]
  },
  {
   "cell_type": "code",
   "execution_count": 41,
   "id": "f596269b",
   "metadata": {},
   "outputs": [
    {
     "data": {
      "image/png": "[encoded data removed]",
      "text/plain": [
       "<Figure size 432x288 with 1 Axes>"
      ]
     },
     "metadata": {
      "needs_background": "light"
     },
     "output_type": "display_data"
    },
    {
     "data": {
      "image/png": "[encoded data removed]",
      "text/plain": [
       "<Figure size 432x288 with 1 Axes>"
      ]
     },
     "metadata": {
      "needs_background": "light"
     },
     "output_type": "display_data"
    }
   ],
   "source": [
    "#зависимость количества трафика от месяца\n",
    "calls_group_smart['internet_sum_gb_round'].hist(density=True)\n",
    "plt.title('Гистограмма плотности трафика по месяцам')\n",
    "plt.xlabel('Сумма трафика')\n",
    "plt.ylabel('Плотность частоты')\n",
    "plt.show()\n",
    "calls_group_smart.plot(x='month', y='internet_sum_gb_round', kind='scatter',grid=True)\n",
    "plt.title('График количество трафика по месяцам')\n",
    "plt.show()"
   ]
  },
  {
   "cell_type": "code",
   "execution_count": 42,
   "id": "9db945f0",
   "metadata": {},
   "outputs": [
    {
     "data": {
      "image/png": "[encoded data removed]",
      "text/plain": [
       "<Figure size 432x288 with 1 Axes>"
      ]
     },
     "metadata": {
      "needs_background": "light"
     },
     "output_type": "display_data"
    },
    {
     "data": {
      "image/png": "[encoded data removed]",
      "text/plain": [
       "<Figure size 432x288 with 1 Axes>"
      ]
     },
     "metadata": {
      "needs_background": "light"
     },
     "output_type": "display_data"
    }
   ],
   "source": [
    "#зависимость прибыли от месяца\n",
    "calls_group_smart['profit_tariff'].hist(density=True)\n",
    "plt.title('Гистограмма плотности прибыли по месяцам')\n",
    "plt.xlabel('Сумма прибыли')\n",
    "plt.ylabel('Плотность частоты')\n",
    "plt.show()\n",
    "calls_group_smart.plot(x='month', y='profit_tariff', kind='scatter',grid=True)\n",
    "plt.title('График количество прибыли по месяцам')\n",
    "plt.show()"
   ]
  },
  {
   "cell_type": "code",
   "execution_count": 43,
   "id": "3e5a31f8",
   "metadata": {
    "scrolled": false
   },
   "outputs": [
    {
     "data": {
      "text/plain": [
       "count    2228.000000\n",
       "mean     1290.305655\n",
       "std       818.437830\n",
       "min       550.000000\n",
       "25%       550.000000\n",
       "50%      1026.500000\n",
       "75%      1750.000000\n",
       "max      6770.000000\n",
       "Name: profit_tariff, dtype: float64"
      ]
     },
     "execution_count": 43,
     "metadata": {},
     "output_type": "execute_result"
    },
    {
     "data": {
      "image/png": "[encoded data removed]",
      "text/plain": [
       "<Figure size 432x288 with 1 Axes>"
      ]
     },
     "metadata": {
      "needs_background": "light"
     },
     "output_type": "display_data"
    }
   ],
   "source": [
    "calls_group_smart.boxplot(column=['profit_tariff'])\n",
    "plt.ylim(0, 3550)\n",
    "calls_group_smart['profit_tariff'].describe()"
   ]
  },
  {
   "cell_type": "code",
   "execution_count": 44,
   "id": "d8c028b6",
   "metadata": {},
   "outputs": [
    {
     "data": {
      "text/html": [
       "<div>\n",
       "<style scoped>\n",
       "    .dataframe tbody tr th:only-of-type {\n",
       "        vertical-align: middle;\n",
       "    }\n",
       "\n",
       "    .dataframe tbody tr th {\n",
       "        vertical-align: top;\n",
       "    }\n",
       "\n",
       "    .dataframe thead th {\n",
       "        text-align: right;\n",
       "    }\n",
       "</style>\n",
       "<table border=\"1\" class=\"dataframe\">\n",
       "  <thead>\n",
       "    <tr style=\"text-align: right;\">\n",
       "      <th></th>\n",
       "      <th>duration_sum</th>\n",
       "    </tr>\n",
       "    <tr>\n",
       "      <th>month</th>\n",
       "      <th></th>\n",
       "    </tr>\n",
       "  </thead>\n",
       "  <tbody>\n",
       "    <tr>\n",
       "      <th>1</th>\n",
       "      <td>203.852941</td>\n",
       "    </tr>\n",
       "    <tr>\n",
       "      <th>2</th>\n",
       "      <td>298.689655</td>\n",
       "    </tr>\n",
       "    <tr>\n",
       "      <th>3</th>\n",
       "      <td>390.051948</td>\n",
       "    </tr>\n",
       "    <tr>\n",
       "      <th>4</th>\n",
       "      <td>367.133929</td>\n",
       "    </tr>\n",
       "    <tr>\n",
       "      <th>5</th>\n",
       "      <td>387.361702</td>\n",
       "    </tr>\n",
       "    <tr>\n",
       "      <th>6</th>\n",
       "      <td>395.640244</td>\n",
       "    </tr>\n",
       "    <tr>\n",
       "      <th>7</th>\n",
       "      <td>408.353234</td>\n",
       "    </tr>\n",
       "    <tr>\n",
       "      <th>8</th>\n",
       "      <td>423.055556</td>\n",
       "    </tr>\n",
       "    <tr>\n",
       "      <th>9</th>\n",
       "      <td>428.611538</td>\n",
       "    </tr>\n",
       "    <tr>\n",
       "      <th>10</th>\n",
       "      <td>426.136054</td>\n",
       "    </tr>\n",
       "    <tr>\n",
       "      <th>11</th>\n",
       "      <td>435.265823</td>\n",
       "    </tr>\n",
       "    <tr>\n",
       "      <th>12</th>\n",
       "      <td>478.560831</td>\n",
       "    </tr>\n",
       "  </tbody>\n",
       "</table>\n",
       "</div>"
      ],
      "text/plain": [
       "       duration_sum\n",
       "month              \n",
       "1        203.852941\n",
       "2        298.689655\n",
       "3        390.051948\n",
       "4        367.133929\n",
       "5        387.361702\n",
       "6        395.640244\n",
       "7        408.353234\n",
       "8        423.055556\n",
       "9        428.611538\n",
       "10       426.136054\n",
       "11       435.265823\n",
       "12       478.560831"
      ]
     },
     "metadata": {},
     "output_type": "display_data"
    },
    {
     "data": {
      "text/plain": [
       "duration_sum    386.892788\n",
       "dtype: float64"
      ]
     },
     "metadata": {},
     "output_type": "display_data"
    },
    {
     "data": {
      "image/png": "[encoded data removed]",
      "text/plain": [
       "<Figure size 432x288 with 1 Axes>"
      ]
     },
     "metadata": {
      "needs_background": "light"
     },
     "output_type": "display_data"
    }
   ],
   "source": [
    "# Среднее значение звонков по месяцам\n",
    "calls_smart_mean=calls_group_smart.pivot_table(index=['month'], values='duration_sum', aggfunc='mean')\n",
    "display(calls_smart_mean)\n",
    "calls_smart_mean.plot(y='duration_sum',kind='bar',grid=True)\n",
    "# Среднее значение звонков всех месяцев\n",
    "calls_smart_mean_all=calls_smart_mean.mean()\n",
    "display(calls_smart_mean_all)"
   ]
  },
  {
   "cell_type": "code",
   "execution_count": 45,
   "id": "3aac2449",
   "metadata": {},
   "outputs": [
    {
     "data": {
      "text/html": [
       "<div>\n",
       "<style scoped>\n",
       "    .dataframe tbody tr th:only-of-type {\n",
       "        vertical-align: middle;\n",
       "    }\n",
       "\n",
       "    .dataframe tbody tr th {\n",
       "        vertical-align: top;\n",
       "    }\n",
       "\n",
       "    .dataframe thead th {\n",
       "        text-align: right;\n",
       "    }\n",
       "</style>\n",
       "<table border=\"1\" class=\"dataframe\">\n",
       "  <thead>\n",
       "    <tr style=\"text-align: right;\">\n",
       "      <th></th>\n",
       "      <th>messages_sum</th>\n",
       "    </tr>\n",
       "    <tr>\n",
       "      <th>month</th>\n",
       "      <th></th>\n",
       "    </tr>\n",
       "  </thead>\n",
       "  <tbody>\n",
       "    <tr>\n",
       "      <th>1</th>\n",
       "      <td>18.235294</td>\n",
       "    </tr>\n",
       "    <tr>\n",
       "      <th>2</th>\n",
       "      <td>24.086207</td>\n",
       "    </tr>\n",
       "    <tr>\n",
       "      <th>3</th>\n",
       "      <td>31.857143</td>\n",
       "    </tr>\n",
       "    <tr>\n",
       "      <th>4</th>\n",
       "      <td>30.741071</td>\n",
       "    </tr>\n",
       "    <tr>\n",
       "      <th>5</th>\n",
       "      <td>33.773050</td>\n",
       "    </tr>\n",
       "    <tr>\n",
       "      <th>6</th>\n",
       "      <td>33.109756</td>\n",
       "    </tr>\n",
       "    <tr>\n",
       "      <th>7</th>\n",
       "      <td>33.751244</td>\n",
       "    </tr>\n",
       "    <tr>\n",
       "      <th>8</th>\n",
       "      <td>33.705128</td>\n",
       "    </tr>\n",
       "    <tr>\n",
       "      <th>9</th>\n",
       "      <td>33.515385</td>\n",
       "    </tr>\n",
       "    <tr>\n",
       "      <th>10</th>\n",
       "      <td>33.693878</td>\n",
       "    </tr>\n",
       "    <tr>\n",
       "      <th>11</th>\n",
       "      <td>34.012658</td>\n",
       "    </tr>\n",
       "    <tr>\n",
       "      <th>12</th>\n",
       "      <td>35.890208</td>\n",
       "    </tr>\n",
       "  </tbody>\n",
       "</table>\n",
       "</div>"
      ],
      "text/plain": [
       "       messages_sum\n",
       "month              \n",
       "1         18.235294\n",
       "2         24.086207\n",
       "3         31.857143\n",
       "4         30.741071\n",
       "5         33.773050\n",
       "6         33.109756\n",
       "7         33.751244\n",
       "8         33.705128\n",
       "9         33.515385\n",
       "10        33.693878\n",
       "11        34.012658\n",
       "12        35.890208"
      ]
     },
     "metadata": {},
     "output_type": "display_data"
    },
    {
     "data": {
      "text/plain": [
       "messages_sum    31.364252\n",
       "dtype: float64"
      ]
     },
     "metadata": {},
     "output_type": "display_data"
    },
    {
     "data": {
      "image/png": "[encoded data removed]",
      "text/plain": [
       "<Figure size 432x288 with 1 Axes>"
      ]
     },
     "metadata": {
      "needs_background": "light"
     },
     "output_type": "display_data"
    }
   ],
   "source": [
    "# Среднее значение сообщений по месяцам\n",
    "messages_smart_mean=calls_group_smart.pivot_table(index=['month'], values='messages_sum', aggfunc='mean')\n",
    "display(messages_smart_mean)\n",
    "messages_smart_mean.plot(y='messages_sum',kind='bar',grid=True)\n",
    "# Среднее значение сообщений всех месяцев\n",
    "messages_smart_mean_all=messages_smart_mean.mean()\n",
    "display(messages_smart_mean_all)"
   ]
  },
  {
   "cell_type": "code",
   "execution_count": 46,
   "id": "1e4c8187",
   "metadata": {},
   "outputs": [
    {
     "data": {
      "text/html": [
       "<div>\n",
       "<style scoped>\n",
       "    .dataframe tbody tr th:only-of-type {\n",
       "        vertical-align: middle;\n",
       "    }\n",
       "\n",
       "    .dataframe tbody tr th {\n",
       "        vertical-align: top;\n",
       "    }\n",
       "\n",
       "    .dataframe thead th {\n",
       "        text-align: right;\n",
       "    }\n",
       "</style>\n",
       "<table border=\"1\" class=\"dataframe\">\n",
       "  <thead>\n",
       "    <tr style=\"text-align: right;\">\n",
       "      <th></th>\n",
       "      <th>internet_sum_gb_round</th>\n",
       "    </tr>\n",
       "    <tr>\n",
       "      <th>month</th>\n",
       "      <th></th>\n",
       "    </tr>\n",
       "  </thead>\n",
       "  <tbody>\n",
       "    <tr>\n",
       "      <th>1</th>\n",
       "      <td>8.735294</td>\n",
       "    </tr>\n",
       "    <tr>\n",
       "      <th>2</th>\n",
       "      <td>11.844828</td>\n",
       "    </tr>\n",
       "    <tr>\n",
       "      <th>3</th>\n",
       "      <td>15.233766</td>\n",
       "    </tr>\n",
       "    <tr>\n",
       "      <th>4</th>\n",
       "      <td>13.625000</td>\n",
       "    </tr>\n",
       "    <tr>\n",
       "      <th>5</th>\n",
       "      <td>15.907801</td>\n",
       "    </tr>\n",
       "    <tr>\n",
       "      <th>6</th>\n",
       "      <td>15.951220</td>\n",
       "    </tr>\n",
       "    <tr>\n",
       "      <th>7</th>\n",
       "      <td>15.875622</td>\n",
       "    </tr>\n",
       "    <tr>\n",
       "      <th>8</th>\n",
       "      <td>16.807692</td>\n",
       "    </tr>\n",
       "    <tr>\n",
       "      <th>9</th>\n",
       "      <td>16.392308</td>\n",
       "    </tr>\n",
       "    <tr>\n",
       "      <th>10</th>\n",
       "      <td>16.880952</td>\n",
       "    </tr>\n",
       "    <tr>\n",
       "      <th>11</th>\n",
       "      <td>17.000000</td>\n",
       "    </tr>\n",
       "    <tr>\n",
       "      <th>12</th>\n",
       "      <td>18.201780</td>\n",
       "    </tr>\n",
       "  </tbody>\n",
       "</table>\n",
       "</div>"
      ],
      "text/plain": [
       "       internet_sum_gb_round\n",
       "month                       \n",
       "1                   8.735294\n",
       "2                  11.844828\n",
       "3                  15.233766\n",
       "4                  13.625000\n",
       "5                  15.907801\n",
       "6                  15.951220\n",
       "7                  15.875622\n",
       "8                  16.807692\n",
       "9                  16.392308\n",
       "10                 16.880952\n",
       "11                 17.000000\n",
       "12                 18.201780"
      ]
     },
     "metadata": {},
     "output_type": "display_data"
    },
    {
     "data": {
      "text/plain": [
       "internet_sum_gb_round    15.204689\n",
       "dtype: float64"
      ]
     },
     "metadata": {},
     "output_type": "display_data"
    },
    {
     "data": {
      "image/png": "[encoded data removed]",
      "text/plain": [
       "<Figure size 432x288 with 1 Axes>"
      ]
     },
     "metadata": {
      "needs_background": "light"
     },
     "output_type": "display_data"
    }
   ],
   "source": [
    "# Среднее значение трафика по месяцам\n",
    "internet_smart_mean=calls_group_smart.pivot_table(index=['month'], values='internet_sum_gb_round', aggfunc='mean')\n",
    "display(internet_smart_mean)\n",
    "internet_smart_mean.plot(y='internet_sum_gb_round',kind='bar',grid=True)\n",
    "# Среднее значение трафика всех месяцев\n",
    "internet_smart_mean_all=internet_smart_mean.mean()\n",
    "display(internet_smart_mean_all)"
   ]
  },
  {
   "cell_type": "code",
   "execution_count": 47,
   "id": "03293c97",
   "metadata": {},
   "outputs": [
    {
     "data": {
      "text/html": [
       "<div>\n",
       "<style scoped>\n",
       "    .dataframe tbody tr th:only-of-type {\n",
       "        vertical-align: middle;\n",
       "    }\n",
       "\n",
       "    .dataframe tbody tr th {\n",
       "        vertical-align: top;\n",
       "    }\n",
       "\n",
       "    .dataframe thead th {\n",
       "        text-align: right;\n",
       "    }\n",
       "</style>\n",
       "<table border=\"1\" class=\"dataframe\">\n",
       "  <thead>\n",
       "    <tr style=\"text-align: right;\">\n",
       "      <th></th>\n",
       "      <th>profit_tariff</th>\n",
       "    </tr>\n",
       "    <tr>\n",
       "      <th>month</th>\n",
       "      <th></th>\n",
       "    </tr>\n",
       "  </thead>\n",
       "  <tbody>\n",
       "    <tr>\n",
       "      <th>1</th>\n",
       "      <td>721.323529</td>\n",
       "    </tr>\n",
       "    <tr>\n",
       "      <th>2</th>\n",
       "      <td>827.603448</td>\n",
       "    </tr>\n",
       "    <tr>\n",
       "      <th>3</th>\n",
       "      <td>1164.623377</td>\n",
       "    </tr>\n",
       "    <tr>\n",
       "      <th>4</th>\n",
       "      <td>963.089286</td>\n",
       "    </tr>\n",
       "    <tr>\n",
       "      <th>5</th>\n",
       "      <td>1197.510638</td>\n",
       "    </tr>\n",
       "    <tr>\n",
       "      <th>6</th>\n",
       "      <td>1204.018293</td>\n",
       "    </tr>\n",
       "    <tr>\n",
       "      <th>7</th>\n",
       "      <td>1223.950249</td>\n",
       "    </tr>\n",
       "    <tr>\n",
       "      <th>8</th>\n",
       "      <td>1323.888889</td>\n",
       "    </tr>\n",
       "    <tr>\n",
       "      <th>9</th>\n",
       "      <td>1249.946154</td>\n",
       "    </tr>\n",
       "    <tr>\n",
       "      <th>10</th>\n",
       "      <td>1364.853741</td>\n",
       "    </tr>\n",
       "    <tr>\n",
       "      <th>11</th>\n",
       "      <td>1343.047468</td>\n",
       "    </tr>\n",
       "    <tr>\n",
       "      <th>12</th>\n",
       "      <td>1578.531157</td>\n",
       "    </tr>\n",
       "  </tbody>\n",
       "</table>\n",
       "</div>"
      ],
      "text/plain": [
       "       profit_tariff\n",
       "month               \n",
       "1         721.323529\n",
       "2         827.603448\n",
       "3        1164.623377\n",
       "4         963.089286\n",
       "5        1197.510638\n",
       "6        1204.018293\n",
       "7        1223.950249\n",
       "8        1323.888889\n",
       "9        1249.946154\n",
       "10       1364.853741\n",
       "11       1343.047468\n",
       "12       1578.531157"
      ]
     },
     "metadata": {},
     "output_type": "display_data"
    },
    {
     "data": {
      "text/plain": [
       "profit_tariff    1180.198852\n",
       "dtype: float64"
      ]
     },
     "metadata": {},
     "output_type": "display_data"
    },
    {
     "data": {
      "image/png": "[encoded data removed]",
      "text/plain": [
       "<Figure size 432x288 with 1 Axes>"
      ]
     },
     "metadata": {
      "needs_background": "light"
     },
     "output_type": "display_data"
    }
   ],
   "source": [
    "# Среднее значение прибыли по месяцам\n",
    "profit_smart_mean=calls_group_smart.pivot_table(index=['month'], values='profit_tariff', aggfunc='mean')\n",
    "display(profit_smart_mean)\n",
    "profit_smart_mean.plot(y='profit_tariff',kind='bar',grid=True)\n",
    "# Среднее значение прибыли всех месяцев\n",
    "profit_smart_mean_all=profit_smart_mean.mean()\n",
    "display(profit_smart_mean_all)"
   ]
  },
  {
   "cell_type": "code",
   "execution_count": 48,
   "id": "166eecf9",
   "metadata": {
    "scrolled": true
   },
   "outputs": [
    {
     "data": {
      "text/html": [
       "<div>\n",
       "<style scoped>\n",
       "    .dataframe tbody tr th:only-of-type {\n",
       "        vertical-align: middle;\n",
       "    }\n",
       "\n",
       "    .dataframe tbody tr th {\n",
       "        vertical-align: top;\n",
       "    }\n",
       "\n",
       "    .dataframe thead th {\n",
       "        text-align: right;\n",
       "    }\n",
       "</style>\n",
       "<table border=\"1\" class=\"dataframe\">\n",
       "  <thead>\n",
       "    <tr style=\"text-align: right;\">\n",
       "      <th></th>\n",
       "      <th>duration</th>\n",
       "      <th>messages</th>\n",
       "      <th>internet</th>\n",
       "    </tr>\n",
       "  </thead>\n",
       "  <tbody>\n",
       "    <tr>\n",
       "      <th>1</th>\n",
       "      <td>23087.713668</td>\n",
       "      <td>254.650519</td>\n",
       "      <td>38.253460</td>\n",
       "    </tr>\n",
       "    <tr>\n",
       "      <th>2</th>\n",
       "      <td>35784.489893</td>\n",
       "      <td>464.940844</td>\n",
       "      <td>36.510404</td>\n",
       "    </tr>\n",
       "    <tr>\n",
       "      <th>3</th>\n",
       "      <td>36344.932366</td>\n",
       "      <td>709.161410</td>\n",
       "      <td>32.127172</td>\n",
       "    </tr>\n",
       "    <tr>\n",
       "      <th>4</th>\n",
       "      <td>34467.687420</td>\n",
       "      <td>596.763313</td>\n",
       "      <td>31.020089</td>\n",
       "    </tr>\n",
       "    <tr>\n",
       "      <th>5</th>\n",
       "      <td>34573.110306</td>\n",
       "      <td>725.806650</td>\n",
       "      <td>34.126251</td>\n",
       "    </tr>\n",
       "    <tr>\n",
       "      <th>6</th>\n",
       "      <td>30555.462039</td>\n",
       "      <td>807.305027</td>\n",
       "      <td>31.717133</td>\n",
       "    </tr>\n",
       "    <tr>\n",
       "      <th>7</th>\n",
       "      <td>32089.820499</td>\n",
       "      <td>795.908270</td>\n",
       "      <td>33.253187</td>\n",
       "    </tr>\n",
       "    <tr>\n",
       "      <th>8</th>\n",
       "      <td>34201.368708</td>\n",
       "      <td>837.353222</td>\n",
       "      <td>28.839086</td>\n",
       "    </tr>\n",
       "    <tr>\n",
       "      <th>9</th>\n",
       "      <td>33406.360636</td>\n",
       "      <td>791.903609</td>\n",
       "      <td>25.784556</td>\n",
       "    </tr>\n",
       "    <tr>\n",
       "      <th>10</th>\n",
       "      <td>35271.954278</td>\n",
       "      <td>816.654588</td>\n",
       "      <td>32.785147</td>\n",
       "    </tr>\n",
       "    <tr>\n",
       "      <th>11</th>\n",
       "      <td>31505.220477</td>\n",
       "      <td>806.430220</td>\n",
       "      <td>27.094937</td>\n",
       "    </tr>\n",
       "    <tr>\n",
       "      <th>12</th>\n",
       "      <td>39580.821967</td>\n",
       "      <td>936.008717</td>\n",
       "      <td>29.698157</td>\n",
       "    </tr>\n",
       "  </tbody>\n",
       "</table>\n",
       "</div>"
      ],
      "text/plain": [
       "        duration    messages   internet\n",
       "1   23087.713668  254.650519  38.253460\n",
       "2   35784.489893  464.940844  36.510404\n",
       "3   36344.932366  709.161410  32.127172\n",
       "4   34467.687420  596.763313  31.020089\n",
       "5   34573.110306  725.806650  34.126251\n",
       "6   30555.462039  807.305027  31.717133\n",
       "7   32089.820499  795.908270  33.253187\n",
       "8   34201.368708  837.353222  28.839086\n",
       "9   33406.360636  791.903609  25.784556\n",
       "10  35271.954278  816.654588  32.785147\n",
       "11  31505.220477  806.430220  27.094937\n",
       "12  39580.821967  936.008717  29.698157"
      ]
     },
     "metadata": {},
     "output_type": "display_data"
    }
   ],
   "source": [
    "# Дисперсия по месяцам по звонкам, сообщениям, трафику\n",
    "\n",
    "variance_smart=pd.DataFrame()\n",
    "for i in range(1,13):\n",
    "    variance_number=np.var(calls_group_smart.query('month== @i'))\n",
    "    #variance_smart.loc[i,'month']=i\n",
    "    variance_smart.loc[i,'duration']=(variance_number['duration_sum'])\n",
    "    variance_smart.loc[i,'messages']=(variance_number['messages_sum'])\n",
    "    variance_smart.loc[i,'internet']=(variance_number['internet_sum_gb_round'])\n",
    "   \n",
    "display(variance_smart)"
   ]
  },
  {
   "cell_type": "code",
   "execution_count": 49,
   "id": "ad205695",
   "metadata": {},
   "outputs": [
    {
     "data": {
      "text/plain": [
       "36158.52723518045"
      ]
     },
     "metadata": {},
     "output_type": "display_data"
    },
    {
     "data": {
      "text/plain": [
       "798.9719682819284"
      ]
     },
     "metadata": {},
     "output_type": "display_data"
    },
    {
     "data": {
      "text/plain": [
       "32.908978554322495"
      ]
     },
     "metadata": {},
     "output_type": "display_data"
    },
    {
     "data": {
      "text/plain": [
       "669539.8343127215"
      ]
     },
     "metadata": {},
     "output_type": "display_data"
    }
   ],
   "source": [
    "# Дисперсия по всему рассматриваему периоду для продолжительности, сообщений, трафику, прибыли\n",
    "variance_smart_duration=(np.var(calls_group_smart['duration_sum']))\n",
    "display(variance_smart_duration)\n",
    "variance_smart_messages=(np.var(calls_group_smart['messages_sum']))\n",
    "display(variance_smart_messages)\n",
    "variance_smart_internet=(np.var(calls_group_smart['internet_sum_gb_round']))\n",
    "display(variance_smart_internet)\n",
    "variance_smart_profit=(np.var(calls_group_smart['profit_tariff']))\n",
    "display(variance_smart_profit)"
   ]
  },
  {
   "cell_type": "code",
   "execution_count": 50,
   "id": "761ab26a",
   "metadata": {},
   "outputs": [],
   "source": [
    "standard_deviation_smart=np.sqrt(variance_smart)"
   ]
  },
  {
   "cell_type": "code",
   "execution_count": 51,
   "id": "4f569916",
   "metadata": {},
   "outputs": [
    {
     "data": {
      "text/html": [
       "<div>\n",
       "<style scoped>\n",
       "    .dataframe tbody tr th:only-of-type {\n",
       "        vertical-align: middle;\n",
       "    }\n",
       "\n",
       "    .dataframe tbody tr th {\n",
       "        vertical-align: top;\n",
       "    }\n",
       "\n",
       "    .dataframe thead th {\n",
       "        text-align: right;\n",
       "    }\n",
       "</style>\n",
       "<table border=\"1\" class=\"dataframe\">\n",
       "  <thead>\n",
       "    <tr style=\"text-align: right;\">\n",
       "      <th></th>\n",
       "      <th>duration</th>\n",
       "      <th>messages</th>\n",
       "      <th>internet</th>\n",
       "    </tr>\n",
       "  </thead>\n",
       "  <tbody>\n",
       "    <tr>\n",
       "      <th>1</th>\n",
       "      <td>151.946417</td>\n",
       "      <td>15.957773</td>\n",
       "      <td>6.184938</td>\n",
       "    </tr>\n",
       "    <tr>\n",
       "      <th>2</th>\n",
       "      <td>189.167888</td>\n",
       "      <td>21.562487</td>\n",
       "      <td>6.042384</td>\n",
       "    </tr>\n",
       "    <tr>\n",
       "      <th>3</th>\n",
       "      <td>190.643469</td>\n",
       "      <td>26.630085</td>\n",
       "      <td>5.668084</td>\n",
       "    </tr>\n",
       "    <tr>\n",
       "      <th>4</th>\n",
       "      <td>185.654753</td>\n",
       "      <td>24.428739</td>\n",
       "      <td>5.569568</td>\n",
       "    </tr>\n",
       "    <tr>\n",
       "      <th>5</th>\n",
       "      <td>185.938458</td>\n",
       "      <td>26.940799</td>\n",
       "      <td>5.841768</td>\n",
       "    </tr>\n",
       "    <tr>\n",
       "      <th>6</th>\n",
       "      <td>174.801207</td>\n",
       "      <td>28.413114</td>\n",
       "      <td>5.631797</td>\n",
       "    </tr>\n",
       "    <tr>\n",
       "      <th>7</th>\n",
       "      <td>179.136318</td>\n",
       "      <td>28.211846</td>\n",
       "      <td>5.766558</td>\n",
       "    </tr>\n",
       "    <tr>\n",
       "      <th>8</th>\n",
       "      <td>184.936121</td>\n",
       "      <td>28.937056</td>\n",
       "      <td>5.370204</td>\n",
       "    </tr>\n",
       "    <tr>\n",
       "      <th>9</th>\n",
       "      <td>182.774070</td>\n",
       "      <td>28.140782</td>\n",
       "      <td>5.077850</td>\n",
       "    </tr>\n",
       "    <tr>\n",
       "      <th>10</th>\n",
       "      <td>187.808291</td>\n",
       "      <td>28.577169</td>\n",
       "      <td>5.725832</td>\n",
       "    </tr>\n",
       "    <tr>\n",
       "      <th>11</th>\n",
       "      <td>177.497100</td>\n",
       "      <td>28.397715</td>\n",
       "      <td>5.205280</td>\n",
       "    </tr>\n",
       "    <tr>\n",
       "      <th>12</th>\n",
       "      <td>198.949295</td>\n",
       "      <td>30.594260</td>\n",
       "      <td>5.449602</td>\n",
       "    </tr>\n",
       "  </tbody>\n",
       "</table>\n",
       "</div>"
      ],
      "text/plain": [
       "      duration   messages  internet\n",
       "1   151.946417  15.957773  6.184938\n",
       "2   189.167888  21.562487  6.042384\n",
       "3   190.643469  26.630085  5.668084\n",
       "4   185.654753  24.428739  5.569568\n",
       "5   185.938458  26.940799  5.841768\n",
       "6   174.801207  28.413114  5.631797\n",
       "7   179.136318  28.211846  5.766558\n",
       "8   184.936121  28.937056  5.370204\n",
       "9   182.774070  28.140782  5.077850\n",
       "10  187.808291  28.577169  5.725832\n",
       "11  177.497100  28.397715  5.205280\n",
       "12  198.949295  30.594260  5.449602"
      ]
     },
     "metadata": {},
     "output_type": "display_data"
    }
   ],
   "source": [
    "display(standard_deviation_smart)"
   ]
  },
  {
   "cell_type": "code",
   "execution_count": 52,
   "id": "8a4a3dbd",
   "metadata": {},
   "outputs": [
    {
     "data": {
      "text/plain": [
       "190.15395666454182"
      ]
     },
     "metadata": {},
     "output_type": "display_data"
    },
    {
     "data": {
      "text/plain": [
       "28.266092200407336"
      ]
     },
     "metadata": {},
     "output_type": "display_data"
    },
    {
     "data": {
      "text/plain": [
       "5.73663477609674"
      ]
     },
     "metadata": {},
     "output_type": "display_data"
    },
    {
     "data": {
      "text/plain": [
       "818.2541379747013"
      ]
     },
     "metadata": {},
     "output_type": "display_data"
    }
   ],
   "source": [
    "# Стандартное отклонение по всему периоду для продолжительности звонков, сообщений, трафика, прибыли\n",
    "standard_deviation_smart_duration=np.sqrt(variance_smart_duration)\n",
    "display(standard_deviation_smart_duration)\n",
    "standard_deviation_smart_messages=np.sqrt(variance_smart_messages)\n",
    "display(standard_deviation_smart_messages)\n",
    "standard_deviation_smart_internet=np.sqrt(variance_smart_internet)\n",
    "display(standard_deviation_smart_internet)\n",
    "standard_deviation_smart_profit=np.sqrt(variance_smart_profit)\n",
    "display(standard_deviation_smart_profit)"
   ]
  },
  {
   "cell_type": "markdown",
   "id": "fb04376a",
   "metadata": {},
   "source": [
    "##### Вывод"
   ]
  },
  {
   "cell_type": "markdown",
   "id": "6b787226",
   "metadata": {},
   "source": [
    "1. В рассмотренном тарифе происходит увеличение количество звонков, сообщений и трафика к концу года\n",
    "2. Найдены среднее значения по месяцам для звонков, сообщений и трафика\n",
    "3. Найдены среднее по всему рассматриваемому периоду:\n",
    "\n",
    "    Для звонков - 386.892788\n",
    "    \n",
    "    Для сообщений - 31.364252\n",
    "    \n",
    "    Для трафика -  15.204689\n",
    "    \n",
    "    Для прибыли -  1180.198852\n",
    "    \n",
    "4. Найдены дисперсия и стандартное отклонение для  звонков, сообщений, трафика и прибыли по месяцам  \n",
    "5. Найдена дисперсия по всему рассматриваему периоду:\n",
    "   \n",
    "    Для звонков - 36158.52723518045\n",
    "\n",
    "    Для сообщений - 798.9719682819284\n",
    "\n",
    "    Для трафика - 32.908978554322495\n",
    "\n",
    "    Для прибыли - 669539.8343127215\n",
    "6. Найдено стандартное отклонение по всему рассматриваему периоду: \n",
    "   \n",
    "    Для звонков -  190.15395666454182\n",
    "\n",
    "    Для сообщений -28.266092200407336\n",
    "\n",
    "    Для трафика -5.73663477609674\n",
    "\n",
    "    Для прибыли -818.2541379747013\n",
    " \n",
    "4. Построены гистограммы плотности для звонков (скошенность вправо), сообщений(скошенность вправо), трафика (симметричная) и прибыли (скошенность вправо)"
   ]
  },
  {
   "cell_type": "markdown",
   "id": "b4445f1f",
   "metadata": {},
   "source": [
    "#### Работаем с тарифом ultra"
   ]
  },
  {
   "cell_type": "code",
   "execution_count": 53,
   "id": "30305d8d",
   "metadata": {},
   "outputs": [
    {
     "data": {
      "text/html": [
       "<div>\n",
       "<style scoped>\n",
       "    .dataframe tbody tr th:only-of-type {\n",
       "        vertical-align: middle;\n",
       "    }\n",
       "\n",
       "    .dataframe tbody tr th {\n",
       "        vertical-align: top;\n",
       "    }\n",
       "\n",
       "    .dataframe thead th {\n",
       "        text-align: right;\n",
       "    }\n",
       "</style>\n",
       "<table border=\"1\" class=\"dataframe\">\n",
       "  <thead>\n",
       "    <tr style=\"text-align: right;\">\n",
       "      <th></th>\n",
       "      <th>user_id</th>\n",
       "      <th>month</th>\n",
       "      <th>tariff</th>\n",
       "      <th>city</th>\n",
       "      <th>calls_sum</th>\n",
       "      <th>duration_sum</th>\n",
       "      <th>messages_sum</th>\n",
       "      <th>internet_sum</th>\n",
       "      <th>internet_sum_gb</th>\n",
       "      <th>internet_sum_gb_round</th>\n",
       "      <th>tariff_id</th>\n",
       "      <th>profit_calls</th>\n",
       "      <th>profit_messages</th>\n",
       "      <th>profit_internet</th>\n",
       "      <th>profit_tariff</th>\n",
       "    </tr>\n",
       "  </thead>\n",
       "  <tbody>\n",
       "    <tr>\n",
       "      <th>0</th>\n",
       "      <td>1000</td>\n",
       "      <td>05</td>\n",
       "      <td>ultra</td>\n",
       "      <td>Краснодар</td>\n",
       "      <td>22.0</td>\n",
       "      <td>159.0</td>\n",
       "      <td>22.0</td>\n",
       "      <td>2253.49</td>\n",
       "      <td>2.200674</td>\n",
       "      <td>3.0</td>\n",
       "      <td>0</td>\n",
       "      <td>0.0</td>\n",
       "      <td>0.0</td>\n",
       "      <td>0.0</td>\n",
       "      <td>1950.0</td>\n",
       "    </tr>\n",
       "    <tr>\n",
       "      <th>1</th>\n",
       "      <td>1000</td>\n",
       "      <td>06</td>\n",
       "      <td>ultra</td>\n",
       "      <td>Краснодар</td>\n",
       "      <td>43.0</td>\n",
       "      <td>172.0</td>\n",
       "      <td>60.0</td>\n",
       "      <td>23233.77</td>\n",
       "      <td>22.689229</td>\n",
       "      <td>23.0</td>\n",
       "      <td>0</td>\n",
       "      <td>0.0</td>\n",
       "      <td>0.0</td>\n",
       "      <td>0.0</td>\n",
       "      <td>1950.0</td>\n",
       "    </tr>\n",
       "    <tr>\n",
       "      <th>2</th>\n",
       "      <td>1000</td>\n",
       "      <td>07</td>\n",
       "      <td>ultra</td>\n",
       "      <td>Краснодар</td>\n",
       "      <td>47.0</td>\n",
       "      <td>340.0</td>\n",
       "      <td>75.0</td>\n",
       "      <td>14003.64</td>\n",
       "      <td>13.675430</td>\n",
       "      <td>14.0</td>\n",
       "      <td>0</td>\n",
       "      <td>0.0</td>\n",
       "      <td>0.0</td>\n",
       "      <td>0.0</td>\n",
       "      <td>1950.0</td>\n",
       "    </tr>\n",
       "    <tr>\n",
       "      <th>3</th>\n",
       "      <td>1000</td>\n",
       "      <td>08</td>\n",
       "      <td>ultra</td>\n",
       "      <td>Краснодар</td>\n",
       "      <td>52.0</td>\n",
       "      <td>408.0</td>\n",
       "      <td>81.0</td>\n",
       "      <td>14055.93</td>\n",
       "      <td>13.726494</td>\n",
       "      <td>14.0</td>\n",
       "      <td>0</td>\n",
       "      <td>0.0</td>\n",
       "      <td>0.0</td>\n",
       "      <td>0.0</td>\n",
       "      <td>1950.0</td>\n",
       "    </tr>\n",
       "    <tr>\n",
       "      <th>4</th>\n",
       "      <td>1000</td>\n",
       "      <td>09</td>\n",
       "      <td>ultra</td>\n",
       "      <td>Краснодар</td>\n",
       "      <td>58.0</td>\n",
       "      <td>466.0</td>\n",
       "      <td>57.0</td>\n",
       "      <td>14568.91</td>\n",
       "      <td>14.227451</td>\n",
       "      <td>15.0</td>\n",
       "      <td>0</td>\n",
       "      <td>0.0</td>\n",
       "      <td>0.0</td>\n",
       "      <td>0.0</td>\n",
       "      <td>1950.0</td>\n",
       "    </tr>\n",
       "    <tr>\n",
       "      <th>...</th>\n",
       "      <td>...</td>\n",
       "      <td>...</td>\n",
       "      <td>...</td>\n",
       "      <td>...</td>\n",
       "      <td>...</td>\n",
       "      <td>...</td>\n",
       "      <td>...</td>\n",
       "      <td>...</td>\n",
       "      <td>...</td>\n",
       "      <td>...</td>\n",
       "      <td>...</td>\n",
       "      <td>...</td>\n",
       "      <td>...</td>\n",
       "      <td>...</td>\n",
       "      <td>...</td>\n",
       "    </tr>\n",
       "    <tr>\n",
       "      <th>970</th>\n",
       "      <td>1495</td>\n",
       "      <td>08</td>\n",
       "      <td>ultra</td>\n",
       "      <td>Иркутск</td>\n",
       "      <td>17.0</td>\n",
       "      <td>92.0</td>\n",
       "      <td>13.0</td>\n",
       "      <td>2614.07</td>\n",
       "      <td>2.552803</td>\n",
       "      <td>3.0</td>\n",
       "      <td>0</td>\n",
       "      <td>0.0</td>\n",
       "      <td>0.0</td>\n",
       "      <td>0.0</td>\n",
       "      <td>1950.0</td>\n",
       "    </tr>\n",
       "    <tr>\n",
       "      <th>971</th>\n",
       "      <td>1495</td>\n",
       "      <td>09</td>\n",
       "      <td>ultra</td>\n",
       "      <td>Иркутск</td>\n",
       "      <td>112.0</td>\n",
       "      <td>813.0</td>\n",
       "      <td>82.0</td>\n",
       "      <td>33067.62</td>\n",
       "      <td>32.292598</td>\n",
       "      <td>33.0</td>\n",
       "      <td>0</td>\n",
       "      <td>0.0</td>\n",
       "      <td>0.0</td>\n",
       "      <td>450.0</td>\n",
       "      <td>2400.0</td>\n",
       "    </tr>\n",
       "    <tr>\n",
       "      <th>972</th>\n",
       "      <td>1495</td>\n",
       "      <td>10</td>\n",
       "      <td>ultra</td>\n",
       "      <td>Иркутск</td>\n",
       "      <td>152.0</td>\n",
       "      <td>1030.0</td>\n",
       "      <td>82.0</td>\n",
       "      <td>29363.00</td>\n",
       "      <td>28.674805</td>\n",
       "      <td>29.0</td>\n",
       "      <td>0</td>\n",
       "      <td>0.0</td>\n",
       "      <td>0.0</td>\n",
       "      <td>0.0</td>\n",
       "      <td>1950.0</td>\n",
       "    </tr>\n",
       "    <tr>\n",
       "      <th>973</th>\n",
       "      <td>1495</td>\n",
       "      <td>11</td>\n",
       "      <td>ultra</td>\n",
       "      <td>Иркутск</td>\n",
       "      <td>129.0</td>\n",
       "      <td>954.0</td>\n",
       "      <td>79.0</td>\n",
       "      <td>38939.11</td>\n",
       "      <td>38.026475</td>\n",
       "      <td>39.0</td>\n",
       "      <td>0</td>\n",
       "      <td>0.0</td>\n",
       "      <td>0.0</td>\n",
       "      <td>1350.0</td>\n",
       "      <td>3300.0</td>\n",
       "    </tr>\n",
       "    <tr>\n",
       "      <th>974</th>\n",
       "      <td>1495</td>\n",
       "      <td>12</td>\n",
       "      <td>ultra</td>\n",
       "      <td>Иркутск</td>\n",
       "      <td>155.0</td>\n",
       "      <td>1031.0</td>\n",
       "      <td>84.0</td>\n",
       "      <td>23426.76</td>\n",
       "      <td>22.877695</td>\n",
       "      <td>23.0</td>\n",
       "      <td>0</td>\n",
       "      <td>0.0</td>\n",
       "      <td>0.0</td>\n",
       "      <td>0.0</td>\n",
       "      <td>1950.0</td>\n",
       "    </tr>\n",
       "  </tbody>\n",
       "</table>\n",
       "<p>975 rows × 15 columns</p>\n",
       "</div>"
      ],
      "text/plain": [
       "     user_id month tariff       city  calls_sum  duration_sum  messages_sum  \\\n",
       "0       1000    05  ultra  Краснодар       22.0         159.0          22.0   \n",
       "1       1000    06  ultra  Краснодар       43.0         172.0          60.0   \n",
       "2       1000    07  ultra  Краснодар       47.0         340.0          75.0   \n",
       "3       1000    08  ultra  Краснодар       52.0         408.0          81.0   \n",
       "4       1000    09  ultra  Краснодар       58.0         466.0          57.0   \n",
       "..       ...   ...    ...        ...        ...           ...           ...   \n",
       "970     1495    08  ultra    Иркутск       17.0          92.0          13.0   \n",
       "971     1495    09  ultra    Иркутск      112.0         813.0          82.0   \n",
       "972     1495    10  ultra    Иркутск      152.0        1030.0          82.0   \n",
       "973     1495    11  ultra    Иркутск      129.0         954.0          79.0   \n",
       "974     1495    12  ultra    Иркутск      155.0        1031.0          84.0   \n",
       "\n",
       "     internet_sum  internet_sum_gb  internet_sum_gb_round  tariff_id  \\\n",
       "0         2253.49         2.200674                    3.0          0   \n",
       "1        23233.77        22.689229                   23.0          0   \n",
       "2        14003.64        13.675430                   14.0          0   \n",
       "3        14055.93        13.726494                   14.0          0   \n",
       "4        14568.91        14.227451                   15.0          0   \n",
       "..            ...              ...                    ...        ...   \n",
       "970       2614.07         2.552803                    3.0          0   \n",
       "971      33067.62        32.292598                   33.0          0   \n",
       "972      29363.00        28.674805                   29.0          0   \n",
       "973      38939.11        38.026475                   39.0          0   \n",
       "974      23426.76        22.877695                   23.0          0   \n",
       "\n",
       "     profit_calls  profit_messages  profit_internet  profit_tariff  \n",
       "0             0.0              0.0              0.0         1950.0  \n",
       "1             0.0              0.0              0.0         1950.0  \n",
       "2             0.0              0.0              0.0         1950.0  \n",
       "3             0.0              0.0              0.0         1950.0  \n",
       "4             0.0              0.0              0.0         1950.0  \n",
       "..            ...              ...              ...            ...  \n",
       "970           0.0              0.0              0.0         1950.0  \n",
       "971           0.0              0.0            450.0         2400.0  \n",
       "972           0.0              0.0              0.0         1950.0  \n",
       "973           0.0              0.0           1350.0         3300.0  \n",
       "974           0.0              0.0              0.0         1950.0  \n",
       "\n",
       "[975 rows x 15 columns]"
      ]
     },
     "metadata": {},
     "output_type": "display_data"
    },
    {
     "data": {
      "text/html": [
       "<div>\n",
       "<style scoped>\n",
       "    .dataframe tbody tr th:only-of-type {\n",
       "        vertical-align: middle;\n",
       "    }\n",
       "\n",
       "    .dataframe tbody tr th {\n",
       "        vertical-align: top;\n",
       "    }\n",
       "\n",
       "    .dataframe thead th {\n",
       "        text-align: right;\n",
       "    }\n",
       "</style>\n",
       "<table border=\"1\" class=\"dataframe\">\n",
       "  <thead>\n",
       "    <tr style=\"text-align: right;\">\n",
       "      <th></th>\n",
       "      <th>user_id</th>\n",
       "      <th>month</th>\n",
       "      <th>tariff</th>\n",
       "      <th>city</th>\n",
       "      <th>calls_sum</th>\n",
       "      <th>duration_sum</th>\n",
       "      <th>messages_sum</th>\n",
       "      <th>internet_sum</th>\n",
       "      <th>internet_sum_gb</th>\n",
       "      <th>internet_sum_gb_round</th>\n",
       "      <th>tariff_id</th>\n",
       "      <th>profit_calls</th>\n",
       "      <th>profit_messages</th>\n",
       "      <th>profit_internet</th>\n",
       "      <th>profit_tariff</th>\n",
       "    </tr>\n",
       "  </thead>\n",
       "  <tbody>\n",
       "    <tr>\n",
       "      <th>0</th>\n",
       "      <td>1000</td>\n",
       "      <td>5</td>\n",
       "      <td>ultra</td>\n",
       "      <td>Краснодар</td>\n",
       "      <td>22.0</td>\n",
       "      <td>159.0</td>\n",
       "      <td>22.0</td>\n",
       "      <td>2253.49</td>\n",
       "      <td>2.200674</td>\n",
       "      <td>3.0</td>\n",
       "      <td>0</td>\n",
       "      <td>0.0</td>\n",
       "      <td>0.0</td>\n",
       "      <td>0.0</td>\n",
       "      <td>1950.0</td>\n",
       "    </tr>\n",
       "    <tr>\n",
       "      <th>1</th>\n",
       "      <td>1000</td>\n",
       "      <td>6</td>\n",
       "      <td>ultra</td>\n",
       "      <td>Краснодар</td>\n",
       "      <td>43.0</td>\n",
       "      <td>172.0</td>\n",
       "      <td>60.0</td>\n",
       "      <td>23233.77</td>\n",
       "      <td>22.689229</td>\n",
       "      <td>23.0</td>\n",
       "      <td>0</td>\n",
       "      <td>0.0</td>\n",
       "      <td>0.0</td>\n",
       "      <td>0.0</td>\n",
       "      <td>1950.0</td>\n",
       "    </tr>\n",
       "    <tr>\n",
       "      <th>2</th>\n",
       "      <td>1000</td>\n",
       "      <td>7</td>\n",
       "      <td>ultra</td>\n",
       "      <td>Краснодар</td>\n",
       "      <td>47.0</td>\n",
       "      <td>340.0</td>\n",
       "      <td>75.0</td>\n",
       "      <td>14003.64</td>\n",
       "      <td>13.675430</td>\n",
       "      <td>14.0</td>\n",
       "      <td>0</td>\n",
       "      <td>0.0</td>\n",
       "      <td>0.0</td>\n",
       "      <td>0.0</td>\n",
       "      <td>1950.0</td>\n",
       "    </tr>\n",
       "    <tr>\n",
       "      <th>3</th>\n",
       "      <td>1000</td>\n",
       "      <td>8</td>\n",
       "      <td>ultra</td>\n",
       "      <td>Краснодар</td>\n",
       "      <td>52.0</td>\n",
       "      <td>408.0</td>\n",
       "      <td>81.0</td>\n",
       "      <td>14055.93</td>\n",
       "      <td>13.726494</td>\n",
       "      <td>14.0</td>\n",
       "      <td>0</td>\n",
       "      <td>0.0</td>\n",
       "      <td>0.0</td>\n",
       "      <td>0.0</td>\n",
       "      <td>1950.0</td>\n",
       "    </tr>\n",
       "    <tr>\n",
       "      <th>4</th>\n",
       "      <td>1000</td>\n",
       "      <td>9</td>\n",
       "      <td>ultra</td>\n",
       "      <td>Краснодар</td>\n",
       "      <td>58.0</td>\n",
       "      <td>466.0</td>\n",
       "      <td>57.0</td>\n",
       "      <td>14568.91</td>\n",
       "      <td>14.227451</td>\n",
       "      <td>15.0</td>\n",
       "      <td>0</td>\n",
       "      <td>0.0</td>\n",
       "      <td>0.0</td>\n",
       "      <td>0.0</td>\n",
       "      <td>1950.0</td>\n",
       "    </tr>\n",
       "    <tr>\n",
       "      <th>...</th>\n",
       "      <td>...</td>\n",
       "      <td>...</td>\n",
       "      <td>...</td>\n",
       "      <td>...</td>\n",
       "      <td>...</td>\n",
       "      <td>...</td>\n",
       "      <td>...</td>\n",
       "      <td>...</td>\n",
       "      <td>...</td>\n",
       "      <td>...</td>\n",
       "      <td>...</td>\n",
       "      <td>...</td>\n",
       "      <td>...</td>\n",
       "      <td>...</td>\n",
       "      <td>...</td>\n",
       "    </tr>\n",
       "    <tr>\n",
       "      <th>970</th>\n",
       "      <td>1495</td>\n",
       "      <td>8</td>\n",
       "      <td>ultra</td>\n",
       "      <td>Иркутск</td>\n",
       "      <td>17.0</td>\n",
       "      <td>92.0</td>\n",
       "      <td>13.0</td>\n",
       "      <td>2614.07</td>\n",
       "      <td>2.552803</td>\n",
       "      <td>3.0</td>\n",
       "      <td>0</td>\n",
       "      <td>0.0</td>\n",
       "      <td>0.0</td>\n",
       "      <td>0.0</td>\n",
       "      <td>1950.0</td>\n",
       "    </tr>\n",
       "    <tr>\n",
       "      <th>971</th>\n",
       "      <td>1495</td>\n",
       "      <td>9</td>\n",
       "      <td>ultra</td>\n",
       "      <td>Иркутск</td>\n",
       "      <td>112.0</td>\n",
       "      <td>813.0</td>\n",
       "      <td>82.0</td>\n",
       "      <td>33067.62</td>\n",
       "      <td>32.292598</td>\n",
       "      <td>33.0</td>\n",
       "      <td>0</td>\n",
       "      <td>0.0</td>\n",
       "      <td>0.0</td>\n",
       "      <td>450.0</td>\n",
       "      <td>2400.0</td>\n",
       "    </tr>\n",
       "    <tr>\n",
       "      <th>972</th>\n",
       "      <td>1495</td>\n",
       "      <td>10</td>\n",
       "      <td>ultra</td>\n",
       "      <td>Иркутск</td>\n",
       "      <td>152.0</td>\n",
       "      <td>1030.0</td>\n",
       "      <td>82.0</td>\n",
       "      <td>29363.00</td>\n",
       "      <td>28.674805</td>\n",
       "      <td>29.0</td>\n",
       "      <td>0</td>\n",
       "      <td>0.0</td>\n",
       "      <td>0.0</td>\n",
       "      <td>0.0</td>\n",
       "      <td>1950.0</td>\n",
       "    </tr>\n",
       "    <tr>\n",
       "      <th>973</th>\n",
       "      <td>1495</td>\n",
       "      <td>11</td>\n",
       "      <td>ultra</td>\n",
       "      <td>Иркутск</td>\n",
       "      <td>129.0</td>\n",
       "      <td>954.0</td>\n",
       "      <td>79.0</td>\n",
       "      <td>38939.11</td>\n",
       "      <td>38.026475</td>\n",
       "      <td>39.0</td>\n",
       "      <td>0</td>\n",
       "      <td>0.0</td>\n",
       "      <td>0.0</td>\n",
       "      <td>1350.0</td>\n",
       "      <td>3300.0</td>\n",
       "    </tr>\n",
       "    <tr>\n",
       "      <th>974</th>\n",
       "      <td>1495</td>\n",
       "      <td>12</td>\n",
       "      <td>ultra</td>\n",
       "      <td>Иркутск</td>\n",
       "      <td>155.0</td>\n",
       "      <td>1031.0</td>\n",
       "      <td>84.0</td>\n",
       "      <td>23426.76</td>\n",
       "      <td>22.877695</td>\n",
       "      <td>23.0</td>\n",
       "      <td>0</td>\n",
       "      <td>0.0</td>\n",
       "      <td>0.0</td>\n",
       "      <td>0.0</td>\n",
       "      <td>1950.0</td>\n",
       "    </tr>\n",
       "  </tbody>\n",
       "</table>\n",
       "<p>975 rows × 15 columns</p>\n",
       "</div>"
      ],
      "text/plain": [
       "     user_id  month tariff       city  calls_sum  duration_sum  messages_sum  \\\n",
       "0       1000      5  ultra  Краснодар       22.0         159.0          22.0   \n",
       "1       1000      6  ultra  Краснодар       43.0         172.0          60.0   \n",
       "2       1000      7  ultra  Краснодар       47.0         340.0          75.0   \n",
       "3       1000      8  ultra  Краснодар       52.0         408.0          81.0   \n",
       "4       1000      9  ultra  Краснодар       58.0         466.0          57.0   \n",
       "..       ...    ...    ...        ...        ...           ...           ...   \n",
       "970     1495      8  ultra    Иркутск       17.0          92.0          13.0   \n",
       "971     1495      9  ultra    Иркутск      112.0         813.0          82.0   \n",
       "972     1495     10  ultra    Иркутск      152.0        1030.0          82.0   \n",
       "973     1495     11  ultra    Иркутск      129.0         954.0          79.0   \n",
       "974     1495     12  ultra    Иркутск      155.0        1031.0          84.0   \n",
       "\n",
       "     internet_sum  internet_sum_gb  internet_sum_gb_round  tariff_id  \\\n",
       "0         2253.49         2.200674                    3.0          0   \n",
       "1        23233.77        22.689229                   23.0          0   \n",
       "2        14003.64        13.675430                   14.0          0   \n",
       "3        14055.93        13.726494                   14.0          0   \n",
       "4        14568.91        14.227451                   15.0          0   \n",
       "..            ...              ...                    ...        ...   \n",
       "970       2614.07         2.552803                    3.0          0   \n",
       "971      33067.62        32.292598                   33.0          0   \n",
       "972      29363.00        28.674805                   29.0          0   \n",
       "973      38939.11        38.026475                   39.0          0   \n",
       "974      23426.76        22.877695                   23.0          0   \n",
       "\n",
       "     profit_calls  profit_messages  profit_internet  profit_tariff  \n",
       "0             0.0              0.0              0.0         1950.0  \n",
       "1             0.0              0.0              0.0         1950.0  \n",
       "2             0.0              0.0              0.0         1950.0  \n",
       "3             0.0              0.0              0.0         1950.0  \n",
       "4             0.0              0.0              0.0         1950.0  \n",
       "..            ...              ...              ...            ...  \n",
       "970           0.0              0.0              0.0         1950.0  \n",
       "971           0.0              0.0            450.0         2400.0  \n",
       "972           0.0              0.0              0.0         1950.0  \n",
       "973           0.0              0.0           1350.0         3300.0  \n",
       "974           0.0              0.0              0.0         1950.0  \n",
       "\n",
       "[975 rows x 15 columns]"
      ]
     },
     "metadata": {},
     "output_type": "display_data"
    }
   ],
   "source": [
    "calls_group_ultra=users_table_work.query('tariff==\"ultra\"').reset_index(drop=True)\n",
    "display(calls_group_ultra)\n",
    "calls_group_ultra['month']=calls_group_ultra['month'].astype('int')\n",
    "display(calls_group_ultra)"
   ]
  },
  {
   "cell_type": "code",
   "execution_count": 54,
   "id": "2a6a3d68",
   "metadata": {},
   "outputs": [
    {
     "data": {
      "text/plain": [
       "975"
      ]
     },
     "metadata": {},
     "output_type": "display_data"
    }
   ],
   "source": [
    "display(len(calls_group_ultra))"
   ]
  },
  {
   "cell_type": "code",
   "execution_count": 55,
   "id": "197288d6",
   "metadata": {},
   "outputs": [
    {
     "data": {
      "image/png": "[encoded data removed]",
      "text/plain": [
       "<Figure size 432x288 with 1 Axes>"
      ]
     },
     "metadata": {
      "needs_background": "light"
     },
     "output_type": "display_data"
    },
    {
     "data": {
      "image/png": "[encoded data removed]",
      "text/plain": [
       "<Figure size 432x288 with 1 Axes>"
      ]
     },
     "metadata": {
      "needs_background": "light"
     },
     "output_type": "display_data"
    }
   ],
   "source": [
    "#зависимость количества звонков от месяца\n",
    "calls_group_ultra['duration_sum'].hist(density=True)\n",
    "plt.title('Гистограмма плотности звонков по месяцам')\n",
    "plt.xlabel('Сумма звонков')\n",
    "plt.ylabel('Плотность частоты')\n",
    "plt.show()\n",
    "calls_group_ultra.plot(x='month', y='duration_sum', kind='scatter',grid=True)\n",
    "plt.title('График количество звонков по месяцам')\n",
    "plt.show()"
   ]
  },
  {
   "cell_type": "code",
   "execution_count": 56,
   "id": "7e454c14",
   "metadata": {},
   "outputs": [
    {
     "data": {
      "image/png": "[encoded data removed]",
      "text/plain": [
       "<Figure size 432x288 with 1 Axes>"
      ]
     },
     "metadata": {
      "needs_background": "light"
     },
     "output_type": "display_data"
    },
    {
     "data": {
      "image/png": "[encoded data removed]",
      "text/plain": [
       "<Figure size 432x288 with 1 Axes>"
      ]
     },
     "metadata": {
      "needs_background": "light"
     },
     "output_type": "display_data"
    }
   ],
   "source": [
    "#зависимость количества сообщений от месяца\n",
    "calls_group_ultra['messages_sum'].hist(density=True)\n",
    "plt.title('Гистограмма плотности сообщений по месяцам')\n",
    "plt.xlabel('Сумма сообщений')\n",
    "plt.ylabel('Плотность частоты')\n",
    "plt.show()\n",
    "calls_group_ultra.plot(x='month', y='messages_sum', kind='scatter',grid=True)\n",
    "plt.title('График количество сообщений по месяцам')\n",
    "plt.show()\n",
    "#calls_group_ultra.plot(x='month', y='messages_sum', kind='scatter',grid=True)"
   ]
  },
  {
   "cell_type": "code",
   "execution_count": 57,
   "id": "73b3c330",
   "metadata": {},
   "outputs": [
    {
     "data": {
      "image/png": "[encoded data removed]",
      "text/plain": [
       "<Figure size 432x288 with 1 Axes>"
      ]
     },
     "metadata": {
      "needs_background": "light"
     },
     "output_type": "display_data"
    },
    {
     "data": {
      "image/png": "[encoded data removed]",
      "text/plain": [
       "<Figure size 432x288 with 1 Axes>"
      ]
     },
     "metadata": {
      "needs_background": "light"
     },
     "output_type": "display_data"
    }
   ],
   "source": [
    "#зависимость количества трафика от месяца\n",
    "calls_group_ultra['internet_sum_gb_round'].hist(density=True)\n",
    "plt.title('Гистограмма плотности трафика по месяцам')\n",
    "plt.xlabel('Сумма трафика')\n",
    "plt.ylabel('Плотность частоты')\n",
    "plt.show()\n",
    "calls_group_ultra.plot(x='month', y='internet_sum_gb_round', kind='scatter',grid=True)\n",
    "plt.title('График количество трафика по месяцам')\n",
    "plt.show()\n",
    "#calls_group_ultra.plot(x='month', y='internet_sum_gb_round', kind='scatter',grid=True)"
   ]
  },
  {
   "cell_type": "code",
   "execution_count": 58,
   "id": "24b24786",
   "metadata": {},
   "outputs": [
    {
     "data": {
      "image/png": "[encoded data removed]",
      "text/plain": [
       "<Figure size 432x288 with 1 Axes>"
      ]
     },
     "metadata": {
      "needs_background": "light"
     },
     "output_type": "display_data"
    },
    {
     "data": {
      "image/png": "[encoded data removed]",
      "text/plain": [
       "<Figure size 432x288 with 1 Axes>"
      ]
     },
     "metadata": {
      "needs_background": "light"
     },
     "output_type": "display_data"
    }
   ],
   "source": [
    "#зависимость количества прибыли от месяца\n",
    "calls_group_ultra['profit_tariff'].hist(density=True)\n",
    "plt.title('Гистограмма плотности прибыли по месяцам')\n",
    "plt.xlabel('Сумма прибыли')\n",
    "plt.ylabel('Плотность частоты')\n",
    "plt.show()\n",
    "calls_group_ultra.plot(x='month', y='profit_tariff', kind='scatter',grid=True)\n",
    "plt.title('График количество прибыли по месяцам')\n",
    "plt.show()\n",
    "#calls_group_ultra.plot(x='month', y='profit_tariff', kind='scatter',grid=True)"
   ]
  },
  {
   "cell_type": "code",
   "execution_count": 59,
   "id": "b8b8ecad",
   "metadata": {
    "scrolled": false
   },
   "outputs": [
    {
     "data": {
      "text/plain": [
       "count     975.000000\n",
       "mean     2071.384615\n",
       "std       377.915268\n",
       "min      1950.000000\n",
       "25%      1950.000000\n",
       "50%      1950.000000\n",
       "75%      1950.000000\n",
       "max      4800.000000\n",
       "Name: profit_tariff, dtype: float64"
      ]
     },
     "execution_count": 59,
     "metadata": {},
     "output_type": "execute_result"
    },
    {
     "data": {
      "image/png": "[encoded data removed]",
      "text/plain": [
       "<Figure size 432x288 with 1 Axes>"
      ]
     },
     "metadata": {
      "needs_background": "light"
     },
     "output_type": "display_data"
    }
   ],
   "source": [
    "calls_group_ultra.boxplot(column=['profit_tariff'])\n",
    "plt.ylim(1900, 2200)\n",
    "calls_group_ultra['profit_tariff'].describe()"
   ]
  },
  {
   "cell_type": "code",
   "execution_count": 60,
   "id": "b8042948",
   "metadata": {},
   "outputs": [
    {
     "data": {
      "text/html": [
       "<div>\n",
       "<style scoped>\n",
       "    .dataframe tbody tr th:only-of-type {\n",
       "        vertical-align: middle;\n",
       "    }\n",
       "\n",
       "    .dataframe tbody tr th {\n",
       "        vertical-align: top;\n",
       "    }\n",
       "\n",
       "    .dataframe thead th {\n",
       "        text-align: right;\n",
       "    }\n",
       "</style>\n",
       "<table border=\"1\" class=\"dataframe\">\n",
       "  <thead>\n",
       "    <tr style=\"text-align: right;\">\n",
       "      <th></th>\n",
       "      <th>duration_sum</th>\n",
       "    </tr>\n",
       "    <tr>\n",
       "      <th>month</th>\n",
       "      <th></th>\n",
       "    </tr>\n",
       "  </thead>\n",
       "  <tbody>\n",
       "    <tr>\n",
       "      <th>1</th>\n",
       "      <td>428.111111</td>\n",
       "    </tr>\n",
       "    <tr>\n",
       "      <th>2</th>\n",
       "      <td>315.409091</td>\n",
       "    </tr>\n",
       "    <tr>\n",
       "      <th>3</th>\n",
       "      <td>489.648649</td>\n",
       "    </tr>\n",
       "    <tr>\n",
       "      <th>4</th>\n",
       "      <td>458.018182</td>\n",
       "    </tr>\n",
       "    <tr>\n",
       "      <th>5</th>\n",
       "      <td>514.727273</td>\n",
       "    </tr>\n",
       "    <tr>\n",
       "      <th>6</th>\n",
       "      <td>482.710843</td>\n",
       "    </tr>\n",
       "    <tr>\n",
       "      <th>7</th>\n",
       "      <td>549.044444</td>\n",
       "    </tr>\n",
       "    <tr>\n",
       "      <th>8</th>\n",
       "      <td>513.207547</td>\n",
       "    </tr>\n",
       "    <tr>\n",
       "      <th>9</th>\n",
       "      <td>542.219298</td>\n",
       "    </tr>\n",
       "    <tr>\n",
       "      <th>10</th>\n",
       "      <td>560.073770</td>\n",
       "    </tr>\n",
       "    <tr>\n",
       "      <th>11</th>\n",
       "      <td>543.406015</td>\n",
       "    </tr>\n",
       "    <tr>\n",
       "      <th>12</th>\n",
       "      <td>595.217391</td>\n",
       "    </tr>\n",
       "  </tbody>\n",
       "</table>\n",
       "</div>"
      ],
      "text/plain": [
       "       duration_sum\n",
       "month              \n",
       "1        428.111111\n",
       "2        315.409091\n",
       "3        489.648649\n",
       "4        458.018182\n",
       "5        514.727273\n",
       "6        482.710843\n",
       "7        549.044444\n",
       "8        513.207547\n",
       "9        542.219298\n",
       "10       560.073770\n",
       "11       543.406015\n",
       "12       595.217391"
      ]
     },
     "metadata": {},
     "output_type": "display_data"
    },
    {
     "data": {
      "text/plain": [
       "duration_sum    499.316135\n",
       "dtype: float64"
      ]
     },
     "metadata": {},
     "output_type": "display_data"
    },
    {
     "data": {
      "image/png": "[encoded data removed]",
      "text/plain": [
       "<Figure size 432x288 with 1 Axes>"
      ]
     },
     "metadata": {
      "needs_background": "light"
     },
     "output_type": "display_data"
    }
   ],
   "source": [
    "# Среднее значение звонков по месяцам\n",
    "calls_ultra_mean=calls_group_ultra.pivot_table(index=['month'], values='duration_sum', aggfunc='mean')\n",
    "display(calls_ultra_mean)\n",
    "calls_ultra_mean.plot(y='duration_sum',kind='bar',grid=True)\n",
    "# Среднее значение звонков всех месяцев\n",
    "calls_ultra_mean_all=calls_ultra_mean.mean()\n",
    "display(calls_ultra_mean_all)"
   ]
  },
  {
   "cell_type": "code",
   "execution_count": 61,
   "id": "10d4e986",
   "metadata": {},
   "outputs": [
    {
     "data": {
      "text/html": [
       "<div>\n",
       "<style scoped>\n",
       "    .dataframe tbody tr th:only-of-type {\n",
       "        vertical-align: middle;\n",
       "    }\n",
       "\n",
       "    .dataframe tbody tr th {\n",
       "        vertical-align: top;\n",
       "    }\n",
       "\n",
       "    .dataframe thead th {\n",
       "        text-align: right;\n",
       "    }\n",
       "</style>\n",
       "<table border=\"1\" class=\"dataframe\">\n",
       "  <thead>\n",
       "    <tr style=\"text-align: right;\">\n",
       "      <th></th>\n",
       "      <th>messages_sum</th>\n",
       "    </tr>\n",
       "    <tr>\n",
       "      <th>month</th>\n",
       "      <th></th>\n",
       "    </tr>\n",
       "  </thead>\n",
       "  <tbody>\n",
       "    <tr>\n",
       "      <th>1</th>\n",
       "      <td>33.777778</td>\n",
       "    </tr>\n",
       "    <tr>\n",
       "      <th>2</th>\n",
       "      <td>23.727273</td>\n",
       "    </tr>\n",
       "    <tr>\n",
       "      <th>3</th>\n",
       "      <td>32.297297</td>\n",
       "    </tr>\n",
       "    <tr>\n",
       "      <th>4</th>\n",
       "      <td>31.400000</td>\n",
       "    </tr>\n",
       "    <tr>\n",
       "      <th>5</th>\n",
       "      <td>36.393939</td>\n",
       "    </tr>\n",
       "    <tr>\n",
       "      <th>6</th>\n",
       "      <td>38.626506</td>\n",
       "    </tr>\n",
       "    <tr>\n",
       "      <th>7</th>\n",
       "      <td>46.988889</td>\n",
       "    </tr>\n",
       "    <tr>\n",
       "      <th>8</th>\n",
       "      <td>46.122642</td>\n",
       "    </tr>\n",
       "    <tr>\n",
       "      <th>9</th>\n",
       "      <td>50.166667</td>\n",
       "    </tr>\n",
       "    <tr>\n",
       "      <th>10</th>\n",
       "      <td>56.262295</td>\n",
       "    </tr>\n",
       "    <tr>\n",
       "      <th>11</th>\n",
       "      <td>54.097744</td>\n",
       "    </tr>\n",
       "    <tr>\n",
       "      <th>12</th>\n",
       "      <td>58.710145</td>\n",
       "    </tr>\n",
       "  </tbody>\n",
       "</table>\n",
       "</div>"
      ],
      "text/plain": [
       "       messages_sum\n",
       "month              \n",
       "1         33.777778\n",
       "2         23.727273\n",
       "3         32.297297\n",
       "4         31.400000\n",
       "5         36.393939\n",
       "6         38.626506\n",
       "7         46.988889\n",
       "8         46.122642\n",
       "9         50.166667\n",
       "10        56.262295\n",
       "11        54.097744\n",
       "12        58.710145"
      ]
     },
     "metadata": {},
     "output_type": "display_data"
    },
    {
     "data": {
      "text/plain": [
       "messages_sum    42.380931\n",
       "dtype: float64"
      ]
     },
     "metadata": {},
     "output_type": "display_data"
    },
    {
     "data": {
      "image/png": "[encoded data removed]",
      "text/plain": [
       "<Figure size 432x288 with 1 Axes>"
      ]
     },
     "metadata": {
      "needs_background": "light"
     },
     "output_type": "display_data"
    }
   ],
   "source": [
    "# Среднее значение сообщений по месяцам\n",
    "messages_ultra_mean=calls_group_ultra.pivot_table(index=['month'], values='messages_sum', aggfunc='mean')\n",
    "display(messages_ultra_mean)\n",
    "messages_ultra_mean.plot(y='messages_sum',kind='bar',grid=True)\n",
    "# Среднее значение сообщений всех месяцев\n",
    "messages_ultra_mean_all=messages_ultra_mean.mean()\n",
    "display(messages_ultra_mean_all)"
   ]
  },
  {
   "cell_type": "code",
   "execution_count": 62,
   "id": "f6862afa",
   "metadata": {},
   "outputs": [
    {
     "data": {
      "text/html": [
       "<div>\n",
       "<style scoped>\n",
       "    .dataframe tbody tr th:only-of-type {\n",
       "        vertical-align: middle;\n",
       "    }\n",
       "\n",
       "    .dataframe tbody tr th {\n",
       "        vertical-align: top;\n",
       "    }\n",
       "\n",
       "    .dataframe thead th {\n",
       "        text-align: right;\n",
       "    }\n",
       "</style>\n",
       "<table border=\"1\" class=\"dataframe\">\n",
       "  <thead>\n",
       "    <tr style=\"text-align: right;\">\n",
       "      <th></th>\n",
       "      <th>internet_sum_gb_round</th>\n",
       "    </tr>\n",
       "    <tr>\n",
       "      <th>month</th>\n",
       "      <th></th>\n",
       "    </tr>\n",
       "  </thead>\n",
       "  <tbody>\n",
       "    <tr>\n",
       "      <th>1</th>\n",
       "      <td>13.222222</td>\n",
       "    </tr>\n",
       "    <tr>\n",
       "      <th>2</th>\n",
       "      <td>13.090909</td>\n",
       "    </tr>\n",
       "    <tr>\n",
       "      <th>3</th>\n",
       "      <td>17.648649</td>\n",
       "    </tr>\n",
       "    <tr>\n",
       "      <th>4</th>\n",
       "      <td>16.963636</td>\n",
       "    </tr>\n",
       "    <tr>\n",
       "      <th>5</th>\n",
       "      <td>19.666667</td>\n",
       "    </tr>\n",
       "    <tr>\n",
       "      <th>6</th>\n",
       "      <td>19.168675</td>\n",
       "    </tr>\n",
       "    <tr>\n",
       "      <th>7</th>\n",
       "      <td>20.733333</td>\n",
       "    </tr>\n",
       "    <tr>\n",
       "      <th>8</th>\n",
       "      <td>19.783019</td>\n",
       "    </tr>\n",
       "    <tr>\n",
       "      <th>9</th>\n",
       "      <td>19.412281</td>\n",
       "    </tr>\n",
       "    <tr>\n",
       "      <th>10</th>\n",
       "      <td>20.229508</td>\n",
       "    </tr>\n",
       "    <tr>\n",
       "      <th>11</th>\n",
       "      <td>19.954887</td>\n",
       "    </tr>\n",
       "    <tr>\n",
       "      <th>12</th>\n",
       "      <td>21.898551</td>\n",
       "    </tr>\n",
       "  </tbody>\n",
       "</table>\n",
       "</div>"
      ],
      "text/plain": [
       "       internet_sum_gb_round\n",
       "month                       \n",
       "1                  13.222222\n",
       "2                  13.090909\n",
       "3                  17.648649\n",
       "4                  16.963636\n",
       "5                  19.666667\n",
       "6                  19.168675\n",
       "7                  20.733333\n",
       "8                  19.783019\n",
       "9                  19.412281\n",
       "10                 20.229508\n",
       "11                 19.954887\n",
       "12                 21.898551"
      ]
     },
     "metadata": {},
     "output_type": "display_data"
    },
    {
     "data": {
      "text/plain": [
       "internet_sum_gb_round    18.481028\n",
       "dtype: float64"
      ]
     },
     "metadata": {},
     "output_type": "display_data"
    },
    {
     "data": {
      "image/png": "[encoded data removed]",
      "text/plain": [
       "<Figure size 432x288 with 1 Axes>"
      ]
     },
     "metadata": {
      "needs_background": "light"
     },
     "output_type": "display_data"
    }
   ],
   "source": [
    "# Среднее значение трафика по месяцам\n",
    "internet_ultra_mean=calls_group_ultra.pivot_table(index=['month'], values='internet_sum_gb_round', aggfunc='mean')\n",
    "display(internet_ultra_mean)\n",
    "internet_ultra_mean.plot(y='internet_sum_gb_round',kind='bar',grid=True)\n",
    "# Среднее значение трафика всех месяцев\n",
    "internet_ultra_mean_all=internet_ultra_mean.mean()\n",
    "display(internet_ultra_mean_all)"
   ]
  },
  {
   "cell_type": "code",
   "execution_count": 63,
   "id": "4f091cc8",
   "metadata": {},
   "outputs": [
    {
     "data": {
      "text/html": [
       "<div>\n",
       "<style scoped>\n",
       "    .dataframe tbody tr th:only-of-type {\n",
       "        vertical-align: middle;\n",
       "    }\n",
       "\n",
       "    .dataframe tbody tr th {\n",
       "        vertical-align: top;\n",
       "    }\n",
       "\n",
       "    .dataframe thead th {\n",
       "        text-align: right;\n",
       "    }\n",
       "</style>\n",
       "<table border=\"1\" class=\"dataframe\">\n",
       "  <thead>\n",
       "    <tr style=\"text-align: right;\">\n",
       "      <th></th>\n",
       "      <th>profit_tariff</th>\n",
       "    </tr>\n",
       "    <tr>\n",
       "      <th>month</th>\n",
       "      <th></th>\n",
       "    </tr>\n",
       "  </thead>\n",
       "  <tbody>\n",
       "    <tr>\n",
       "      <th>1</th>\n",
       "      <td>1950.000000</td>\n",
       "    </tr>\n",
       "    <tr>\n",
       "      <th>2</th>\n",
       "      <td>1977.272727</td>\n",
       "    </tr>\n",
       "    <tr>\n",
       "      <th>3</th>\n",
       "      <td>2014.864865</td>\n",
       "    </tr>\n",
       "    <tr>\n",
       "      <th>4</th>\n",
       "      <td>2001.818182</td>\n",
       "    </tr>\n",
       "    <tr>\n",
       "      <th>5</th>\n",
       "      <td>2061.363636</td>\n",
       "    </tr>\n",
       "    <tr>\n",
       "      <th>6</th>\n",
       "      <td>2040.361446</td>\n",
       "    </tr>\n",
       "    <tr>\n",
       "      <th>7</th>\n",
       "      <td>2120.000000</td>\n",
       "    </tr>\n",
       "    <tr>\n",
       "      <th>8</th>\n",
       "      <td>2084.433962</td>\n",
       "    </tr>\n",
       "    <tr>\n",
       "      <th>9</th>\n",
       "      <td>2025.000000</td>\n",
       "    </tr>\n",
       "    <tr>\n",
       "      <th>10</th>\n",
       "      <td>2066.803279</td>\n",
       "    </tr>\n",
       "    <tr>\n",
       "      <th>11</th>\n",
       "      <td>2093.233083</td>\n",
       "    </tr>\n",
       "    <tr>\n",
       "      <th>12</th>\n",
       "      <td>2140.217391</td>\n",
       "    </tr>\n",
       "  </tbody>\n",
       "</table>\n",
       "</div>"
      ],
      "text/plain": [
       "       profit_tariff\n",
       "month               \n",
       "1        1950.000000\n",
       "2        1977.272727\n",
       "3        2014.864865\n",
       "4        2001.818182\n",
       "5        2061.363636\n",
       "6        2040.361446\n",
       "7        2120.000000\n",
       "8        2084.433962\n",
       "9        2025.000000\n",
       "10       2066.803279\n",
       "11       2093.233083\n",
       "12       2140.217391"
      ]
     },
     "metadata": {},
     "output_type": "display_data"
    },
    {
     "data": {
      "text/plain": [
       "profit_tariff    2047.947381\n",
       "dtype: float64"
      ]
     },
     "metadata": {},
     "output_type": "display_data"
    },
    {
     "data": {
      "image/png": "[encoded data removed]",
      "text/plain": [
       "<Figure size 432x288 with 1 Axes>"
      ]
     },
     "metadata": {
      "needs_background": "light"
     },
     "output_type": "display_data"
    }
   ],
   "source": [
    "# Среднее значение прибыли по месяцам\n",
    "profit_ultra_mean=calls_group_ultra.pivot_table(index=['month'], values='profit_tariff', aggfunc='mean')\n",
    "display(profit_ultra_mean)\n",
    "profit_ultra_mean.plot(y='profit_tariff',kind='bar',grid=True)\n",
    "# Среднее значение прибыли всех месяцев\n",
    "profit_ultra_mean_all=profit_ultra_mean.mean()\n",
    "display(profit_ultra_mean_all)"
   ]
  },
  {
   "cell_type": "code",
   "execution_count": 64,
   "id": "eebe8c6e",
   "metadata": {},
   "outputs": [
    {
     "data": {
      "text/html": [
       "<div>\n",
       "<style scoped>\n",
       "    .dataframe tbody tr th:only-of-type {\n",
       "        vertical-align: middle;\n",
       "    }\n",
       "\n",
       "    .dataframe tbody tr th {\n",
       "        vertical-align: top;\n",
       "    }\n",
       "\n",
       "    .dataframe thead th {\n",
       "        text-align: right;\n",
       "    }\n",
       "</style>\n",
       "<table border=\"1\" class=\"dataframe\">\n",
       "  <thead>\n",
       "    <tr style=\"text-align: right;\">\n",
       "      <th></th>\n",
       "      <th>duration</th>\n",
       "      <th>messages</th>\n",
       "      <th>internet</th>\n",
       "    </tr>\n",
       "  </thead>\n",
       "  <tbody>\n",
       "    <tr>\n",
       "      <th>1</th>\n",
       "      <td>64683.876543</td>\n",
       "      <td>836.172840</td>\n",
       "      <td>39.506173</td>\n",
       "    </tr>\n",
       "    <tr>\n",
       "      <th>2</th>\n",
       "      <td>87278.059917</td>\n",
       "      <td>711.834711</td>\n",
       "      <td>99.809917</td>\n",
       "    </tr>\n",
       "    <tr>\n",
       "      <th>3</th>\n",
       "      <td>108374.498174</td>\n",
       "      <td>1685.560263</td>\n",
       "      <td>111.254931</td>\n",
       "    </tr>\n",
       "    <tr>\n",
       "      <th>4</th>\n",
       "      <td>70351.072397</td>\n",
       "      <td>1390.530909</td>\n",
       "      <td>87.816860</td>\n",
       "    </tr>\n",
       "    <tr>\n",
       "      <th>5</th>\n",
       "      <td>82573.713499</td>\n",
       "      <td>1676.481175</td>\n",
       "      <td>89.858586</td>\n",
       "    </tr>\n",
       "    <tr>\n",
       "      <th>6</th>\n",
       "      <td>90775.675425</td>\n",
       "      <td>1730.499056</td>\n",
       "      <td>78.019742</td>\n",
       "    </tr>\n",
       "    <tr>\n",
       "      <th>7</th>\n",
       "      <td>93359.175802</td>\n",
       "      <td>2146.433210</td>\n",
       "      <td>91.706667</td>\n",
       "    </tr>\n",
       "    <tr>\n",
       "      <th>8</th>\n",
       "      <td>97323.711641</td>\n",
       "      <td>2073.730242</td>\n",
       "      <td>101.490655</td>\n",
       "    </tr>\n",
       "    <tr>\n",
       "      <th>9</th>\n",
       "      <td>104830.679978</td>\n",
       "      <td>2058.261696</td>\n",
       "      <td>82.979147</td>\n",
       "    </tr>\n",
       "    <tr>\n",
       "      <th>10</th>\n",
       "      <td>105976.281443</td>\n",
       "      <td>2654.947595</td>\n",
       "      <td>87.930933</td>\n",
       "    </tr>\n",
       "    <tr>\n",
       "      <th>11</th>\n",
       "      <td>96020.346430</td>\n",
       "      <td>2440.900220</td>\n",
       "      <td>90.825033</td>\n",
       "    </tr>\n",
       "    <tr>\n",
       "      <th>12</th>\n",
       "      <td>116467.909263</td>\n",
       "      <td>2639.886999</td>\n",
       "      <td>99.786809</td>\n",
       "    </tr>\n",
       "  </tbody>\n",
       "</table>\n",
       "</div>"
      ],
      "text/plain": [
       "         duration     messages    internet\n",
       "1    64683.876543   836.172840   39.506173\n",
       "2    87278.059917   711.834711   99.809917\n",
       "3   108374.498174  1685.560263  111.254931\n",
       "4    70351.072397  1390.530909   87.816860\n",
       "5    82573.713499  1676.481175   89.858586\n",
       "6    90775.675425  1730.499056   78.019742\n",
       "7    93359.175802  2146.433210   91.706667\n",
       "8    97323.711641  2073.730242  101.490655\n",
       "9   104830.679978  2058.261696   82.979147\n",
       "10  105976.281443  2654.947595   87.930933\n",
       "11   96020.346430  2440.900220   90.825033\n",
       "12  116467.909263  2639.886999   99.786809"
      ]
     },
     "metadata": {},
     "output_type": "display_data"
    }
   ],
   "source": [
    "#display(np.var(calls_group_ultra.query('month== 1')))\n",
    "variance_ultra=pd.DataFrame()\n",
    "for i in range(1,13):\n",
    "    variance_number=np.var(calls_group_ultra.query('month== @i'))\n",
    "    #variance_ultra.loc[i,'month']=i\n",
    "    variance_ultra.loc[i,'duration']=(variance_number['duration_sum'])\n",
    "    variance_ultra.loc[i,'messages']=(variance_number['messages_sum'])\n",
    "    variance_ultra.loc[i,'internet']=(variance_number['internet_sum_gb_round'])\n",
    "   \n",
    "display(variance_ultra)"
   ]
  },
  {
   "cell_type": "code",
   "execution_count": 65,
   "id": "3163782b",
   "metadata": {},
   "outputs": [
    {
     "data": {
      "text/plain": [
       "100780.34762813938"
      ]
     },
     "metadata": {},
     "output_type": "display_data"
    },
    {
     "data": {
      "text/plain": [
       "2217.3722908612754"
      ]
     },
     "metadata": {},
     "output_type": "display_data"
    },
    {
     "data": {
      "text/plain": [
       "94.05017330703484"
      ]
     },
     "metadata": {},
     "output_type": "display_data"
    },
    {
     "data": {
      "text/plain": [
       "142673.4674556213"
      ]
     },
     "metadata": {},
     "output_type": "display_data"
    }
   ],
   "source": [
    "# Дисперсия по всему рассматриваему периоду для продолжительности, сообщений, трафику, прибыли\n",
    "variance_ultra_duration=(np.var(calls_group_ultra['duration_sum']))\n",
    "display(variance_ultra_duration)\n",
    "variance_ultra_messages=(np.var(calls_group_ultra['messages_sum']))\n",
    "display(variance_ultra_messages)\n",
    "variance_ultra_internet=(np.var(calls_group_ultra['internet_sum_gb_round']))\n",
    "display(variance_ultra_internet)\n",
    "variance_ultra_profit=(np.var(calls_group_ultra['profit_tariff']))\n",
    "display(variance_ultra_profit)"
   ]
  },
  {
   "cell_type": "code",
   "execution_count": 66,
   "id": "6b7344ca",
   "metadata": {},
   "outputs": [],
   "source": [
    "standard_deviation_ultra=np.sqrt(variance_ultra)"
   ]
  },
  {
   "cell_type": "code",
   "execution_count": 67,
   "id": "48e72e03",
   "metadata": {},
   "outputs": [
    {
     "data": {
      "text/html": [
       "<div>\n",
       "<style scoped>\n",
       "    .dataframe tbody tr th:only-of-type {\n",
       "        vertical-align: middle;\n",
       "    }\n",
       "\n",
       "    .dataframe tbody tr th {\n",
       "        vertical-align: top;\n",
       "    }\n",
       "\n",
       "    .dataframe thead th {\n",
       "        text-align: right;\n",
       "    }\n",
       "</style>\n",
       "<table border=\"1\" class=\"dataframe\">\n",
       "  <thead>\n",
       "    <tr style=\"text-align: right;\">\n",
       "      <th></th>\n",
       "      <th>duration</th>\n",
       "      <th>messages</th>\n",
       "      <th>internet</th>\n",
       "    </tr>\n",
       "  </thead>\n",
       "  <tbody>\n",
       "    <tr>\n",
       "      <th>1</th>\n",
       "      <td>254.330251</td>\n",
       "      <td>28.916653</td>\n",
       "      <td>6.285394</td>\n",
       "    </tr>\n",
       "    <tr>\n",
       "      <th>2</th>\n",
       "      <td>295.428604</td>\n",
       "      <td>26.680231</td>\n",
       "      <td>9.990491</td>\n",
       "    </tr>\n",
       "    <tr>\n",
       "      <th>3</th>\n",
       "      <td>329.202822</td>\n",
       "      <td>41.055575</td>\n",
       "      <td>10.547745</td>\n",
       "    </tr>\n",
       "    <tr>\n",
       "      <th>4</th>\n",
       "      <td>265.237766</td>\n",
       "      <td>37.289823</td>\n",
       "      <td>9.371065</td>\n",
       "    </tr>\n",
       "    <tr>\n",
       "      <th>5</th>\n",
       "      <td>287.356422</td>\n",
       "      <td>40.944855</td>\n",
       "      <td>9.479377</td>\n",
       "    </tr>\n",
       "    <tr>\n",
       "      <th>6</th>\n",
       "      <td>301.290019</td>\n",
       "      <td>41.599267</td>\n",
       "      <td>8.832878</td>\n",
       "    </tr>\n",
       "    <tr>\n",
       "      <th>7</th>\n",
       "      <td>305.547338</td>\n",
       "      <td>46.329615</td>\n",
       "      <td>9.576360</td>\n",
       "    </tr>\n",
       "    <tr>\n",
       "      <th>8</th>\n",
       "      <td>311.967485</td>\n",
       "      <td>45.538228</td>\n",
       "      <td>10.074257</td>\n",
       "    </tr>\n",
       "    <tr>\n",
       "      <th>9</th>\n",
       "      <td>323.775663</td>\n",
       "      <td>45.368069</td>\n",
       "      <td>9.109289</td>\n",
       "    </tr>\n",
       "    <tr>\n",
       "      <th>10</th>\n",
       "      <td>325.539984</td>\n",
       "      <td>51.526184</td>\n",
       "      <td>9.377149</td>\n",
       "    </tr>\n",
       "    <tr>\n",
       "      <th>11</th>\n",
       "      <td>309.871500</td>\n",
       "      <td>49.405468</td>\n",
       "      <td>9.530217</td>\n",
       "    </tr>\n",
       "    <tr>\n",
       "      <th>12</th>\n",
       "      <td>341.273950</td>\n",
       "      <td>51.379831</td>\n",
       "      <td>9.989335</td>\n",
       "    </tr>\n",
       "  </tbody>\n",
       "</table>\n",
       "</div>"
      ],
      "text/plain": [
       "      duration   messages   internet\n",
       "1   254.330251  28.916653   6.285394\n",
       "2   295.428604  26.680231   9.990491\n",
       "3   329.202822  41.055575  10.547745\n",
       "4   265.237766  37.289823   9.371065\n",
       "5   287.356422  40.944855   9.479377\n",
       "6   301.290019  41.599267   8.832878\n",
       "7   305.547338  46.329615   9.576360\n",
       "8   311.967485  45.538228  10.074257\n",
       "9   323.775663  45.368069   9.109289\n",
       "10  325.539984  51.526184   9.377149\n",
       "11  309.871500  49.405468   9.530217\n",
       "12  341.273950  51.379831   9.989335"
      ]
     },
     "metadata": {},
     "output_type": "display_data"
    }
   ],
   "source": [
    "display(standard_deviation_ultra)"
   ]
  },
  {
   "cell_type": "code",
   "execution_count": 68,
   "id": "3f8ead92",
   "metadata": {},
   "outputs": [
    {
     "data": {
      "text/plain": [
       "317.4592062425334"
      ]
     },
     "metadata": {},
     "output_type": "display_data"
    },
    {
     "data": {
      "text/plain": [
       "47.08898269087234"
      ]
     },
     "metadata": {},
     "output_type": "display_data"
    },
    {
     "data": {
      "text/plain": [
       "9.697946860394463"
      ]
     },
     "metadata": {},
     "output_type": "display_data"
    },
    {
     "data": {
      "text/plain": [
       "377.7214151403403"
      ]
     },
     "metadata": {},
     "output_type": "display_data"
    }
   ],
   "source": [
    "# Стандартное отклонение по всему периоду для продолжительности звонков, сообщений, трафика, прибыли\n",
    "standard_deviation_ultra_duration=np.sqrt(variance_ultra_duration)\n",
    "display(standard_deviation_ultra_duration)\n",
    "standard_deviation_ultra_messages=np.sqrt(variance_ultra_messages)\n",
    "display(standard_deviation_ultra_messages)\n",
    "standard_deviation_ultra_internet=np.sqrt(variance_ultra_internet)\n",
    "display(standard_deviation_ultra_internet)\n",
    "standard_deviation_ultra_profit=np.sqrt(variance_ultra_profit)\n",
    "display(standard_deviation_ultra_profit)"
   ]
  },
  {
   "cell_type": "markdown",
   "id": "618466e2",
   "metadata": {},
   "source": [
    "##### Вывод"
   ]
  },
  {
   "cell_type": "markdown",
   "id": "d119f861",
   "metadata": {},
   "source": [
    "1. В рассмотренном тарифе происходит увеличение количество звонков, сообщений и трафика к концу года\n",
    "2. Найдены среднее значения по месяцам для звонков, сообщений и трафика\n",
    "3. Найдены среднее по всему рассматриваемому периоду:\n",
    "\n",
    "    Для звонков - 499.316135\n",
    "    \n",
    "    Для сообщений - 42.380931\n",
    "    \n",
    "    Для трафика -  18.481028\n",
    "    \n",
    "    Для прибыли -  2047.947381\n",
    "    \n",
    "4. Найдены дисперсия и стандартное отклонение для  звонков, сообщений, трафика и прибыли по месяцам  \n",
    "5. Найдена дисперсия по всему рассматриваему периоду:\n",
    "   \n",
    "    Для звонков - 100780.34762813938\n",
    "\n",
    "    Для сообщений - 2217.3722908612754\n",
    "\n",
    "    Для трафика - 94.05017330703484\n",
    "\n",
    "    Для прибыли - 142673.4674556213\n",
    "    \n",
    "6. Найдено стандартное отклонение по всему рассматриваему периоду: \n",
    "   \n",
    "    Для звонков -  317.4592062425334\n",
    "\n",
    "    Для сообщений -47.08898269087234\n",
    "\n",
    "    Для трафика -9.697946860394463\n",
    "\n",
    "    Для прибыли -377.7214151403403\n",
    " \n",
    "4. Построены гистограммы плотности для звонков (скошенность вправо), сообщений(скошенность вправо), трафика (симметричная) и прибыли (скошенность вправо)"
   ]
  },
  {
   "cell_type": "markdown",
   "id": "ecb27244",
   "metadata": {},
   "source": [
    "### Вывод"
   ]
  },
  {
   "cell_type": "markdown",
   "id": "d8363b4d",
   "metadata": {},
   "source": [
    "Провели анализ поведения клиентов в зависимости от месяца пользования выявили следующее:\n",
    "\n",
    "**Для тарифа `smart`**\n",
    "1. Среднее время разговора лежит в диапазоне от 200 до 457 мин\n",
    "2. Среднее количество сообщений от 20 до 43 шт\n",
    "3. Средний объем трафика от 9 до 18 Гб\n",
    "4. Средняя прибыль по тарифу увеличивается от 730 до 1500 рублей, медианная прибыль 1026 руб\n",
    "5. Количество пользователей 2228 пользователей\n",
    "**Для тарифа `ultra`**\n",
    "1. Среднее время разговора лежит в диапазоне от 450 до 604 мин\n",
    "2. Среднее количество сообщений от 43 до 73 шт\n",
    "3. Средний объем трафика от 14 до 22 Гб\n",
    "4. Средняя прибыль по тарифу увеличивается от 1950 до 2100  рублей, медианная прибыль 1950 руб\n",
    "5. Количество пользователей 975  пользователя\n"
   ]
  },
  {
   "cell_type": "markdown",
   "id": "135157bc",
   "metadata": {},
   "source": [
    "## Проверка гипотез"
   ]
  },
  {
   "cell_type": "markdown",
   "id": "ad885cd8",
   "metadata": {},
   "source": [
    "1. Средняя выручка пользователей тарифов «Ультра» и «Смарт» различаются;\n",
    "2. Средняя выручка пользователей из Москвы отличается от выручки пользователей из других регионов."
   ]
  },
  {
   "cell_type": "markdown",
   "id": "dde45d9c",
   "metadata": {},
   "source": [
    "**Средняя выручка пользователей тарифов «Ультра» и «Смарт» различаются**\n",
    "\n",
    "Нулевая гипотеза - Проверим гипотезу о равенстве прибыли тарифов «Ультра» и «Смарт»\n"
   ]
  },
  {
   "cell_type": "code",
   "execution_count": 69,
   "id": "cc622183",
   "metadata": {
    "scrolled": false
   },
   "outputs": [
    {
     "data": {
      "text/plain": [
       "0       1150.0\n",
       "1        550.0\n",
       "2        550.0\n",
       "3       1150.0\n",
       "4       1550.0\n",
       "         ...  \n",
       "2223    1750.0\n",
       "2224     550.0\n",
       "2225    1150.0\n",
       "2226    1513.0\n",
       "2227     598.0\n",
       "Name: profit_tariff, Length: 2228, dtype: float64"
      ]
     },
     "metadata": {},
     "output_type": "display_data"
    }
   ],
   "source": [
    "# выборка по smart\n",
    "smart=calls_group_smart.loc[:,'profit_tariff']\n",
    "display(smart)"
   ]
  },
  {
   "cell_type": "code",
   "execution_count": 70,
   "id": "27e22330",
   "metadata": {
    "scrolled": false
   },
   "outputs": [
    {
     "data": {
      "text/plain": [
       "0      1950.0\n",
       "1      1950.0\n",
       "2      1950.0\n",
       "3      1950.0\n",
       "4      1950.0\n",
       "        ...  \n",
       "970    1950.0\n",
       "971    2400.0\n",
       "972    1950.0\n",
       "973    3300.0\n",
       "974    1950.0\n",
       "Name: profit_tariff, Length: 975, dtype: float64"
      ]
     },
     "metadata": {},
     "output_type": "display_data"
    }
   ],
   "source": [
    "# выборка по ultra\n",
    "ultra=calls_group_ultra.loc[:,'profit_tariff']\n",
    "display(ultra)"
   ]
  },
  {
   "cell_type": "code",
   "execution_count": 71,
   "id": "bfe46620",
   "metadata": {},
   "outputs": [
    {
     "name": "stdout",
     "output_type": "stream",
     "text": [
      "p-значение: 5.22403940028982e-249\n",
      "Отвергаем нулевую гипотезу\n"
     ]
    }
   ],
   "source": [
    "alpha = 0.01# критический уровень статистической значимости\n",
    "\n",
    "#проверьте гипотезу о равенстве средних двух независимых совокупностей\n",
    "results = st.ttest_ind(\n",
    "    smart, \n",
    "    ultra,\n",
    "    equal_var = False)# выборки большие но не равные поэтому поставили equal_var = False\n",
    "\n",
    "print('p-значение:',results.pvalue )\n",
    "\n",
    "if results.pvalue < alpha: # сравните получившееся p-значение с заданным уровнем статистической значимости:\n",
    "    print(\"Отвергаем нулевую гипотезу\")\n",
    "else:\n",
    "    print(\"Не получилось отвергнуть нулевую гипотезу\")"
   ]
  },
  {
   "cell_type": "markdown",
   "id": "a5617c11",
   "metadata": {},
   "source": [
    "Значит, можно сделать вывод, что средняя выручка пользователей тарифов «Ультра» и «Смарт» различаются."
   ]
  },
  {
   "cell_type": "markdown",
   "id": "999c5bea",
   "metadata": {},
   "source": [
    "**Средняя выручка пользователей из Москвы отличается от выручки пользователей из других регионов**\n",
    "\n",
    "Нулевая гипотеза - Проверим гипотезу о равенстве выручки пользователей из Москвы и из других регионов"
   ]
  },
  {
   "cell_type": "code",
   "execution_count": 72,
   "id": "bf95a478",
   "metadata": {},
   "outputs": [
    {
     "data": {
      "text/html": [
       "<div>\n",
       "<style scoped>\n",
       "    .dataframe tbody tr th:only-of-type {\n",
       "        vertical-align: middle;\n",
       "    }\n",
       "\n",
       "    .dataframe tbody tr th {\n",
       "        vertical-align: top;\n",
       "    }\n",
       "\n",
       "    .dataframe thead th {\n",
       "        text-align: right;\n",
       "    }\n",
       "</style>\n",
       "<table border=\"1\" class=\"dataframe\">\n",
       "  <thead>\n",
       "    <tr style=\"text-align: right;\">\n",
       "      <th></th>\n",
       "      <th>user_id</th>\n",
       "      <th>month</th>\n",
       "      <th>tariff</th>\n",
       "      <th>city</th>\n",
       "      <th>calls_sum</th>\n",
       "      <th>duration_sum</th>\n",
       "      <th>messages_sum</th>\n",
       "      <th>internet_sum</th>\n",
       "      <th>internet_sum_gb</th>\n",
       "      <th>internet_sum_gb_round</th>\n",
       "      <th>tariff_id</th>\n",
       "      <th>profit_calls</th>\n",
       "      <th>profit_messages</th>\n",
       "      <th>profit_internet</th>\n",
       "      <th>profit_tariff</th>\n",
       "    </tr>\n",
       "  </thead>\n",
       "  <tbody>\n",
       "    <tr>\n",
       "      <th>8</th>\n",
       "      <td>1001</td>\n",
       "      <td>11</td>\n",
       "      <td>smart</td>\n",
       "      <td>Москва</td>\n",
       "      <td>59.0</td>\n",
       "      <td>430.0</td>\n",
       "      <td>0.0</td>\n",
       "      <td>18429.34</td>\n",
       "      <td>17.997402</td>\n",
       "      <td>18.0</td>\n",
       "      <td>1</td>\n",
       "      <td>0.0</td>\n",
       "      <td>0.0</td>\n",
       "      <td>600.0</td>\n",
       "      <td>1150.0</td>\n",
       "    </tr>\n",
       "    <tr>\n",
       "      <th>9</th>\n",
       "      <td>1001</td>\n",
       "      <td>12</td>\n",
       "      <td>smart</td>\n",
       "      <td>Москва</td>\n",
       "      <td>63.0</td>\n",
       "      <td>414.0</td>\n",
       "      <td>0.0</td>\n",
       "      <td>14036.66</td>\n",
       "      <td>13.707676</td>\n",
       "      <td>14.0</td>\n",
       "      <td>1</td>\n",
       "      <td>0.0</td>\n",
       "      <td>0.0</td>\n",
       "      <td>0.0</td>\n",
       "      <td>550.0</td>\n",
       "    </tr>\n",
       "    <tr>\n",
       "      <th>17</th>\n",
       "      <td>1003</td>\n",
       "      <td>08</td>\n",
       "      <td>ultra</td>\n",
       "      <td>Москва</td>\n",
       "      <td>55.0</td>\n",
       "      <td>380.0</td>\n",
       "      <td>37.0</td>\n",
       "      <td>8565.21</td>\n",
       "      <td>8.364463</td>\n",
       "      <td>9.0</td>\n",
       "      <td>0</td>\n",
       "      <td>0.0</td>\n",
       "      <td>0.0</td>\n",
       "      <td>0.0</td>\n",
       "      <td>1950.0</td>\n",
       "    </tr>\n",
       "    <tr>\n",
       "      <th>18</th>\n",
       "      <td>1003</td>\n",
       "      <td>09</td>\n",
       "      <td>ultra</td>\n",
       "      <td>Москва</td>\n",
       "      <td>134.0</td>\n",
       "      <td>961.0</td>\n",
       "      <td>91.0</td>\n",
       "      <td>12468.87</td>\n",
       "      <td>12.176631</td>\n",
       "      <td>13.0</td>\n",
       "      <td>0</td>\n",
       "      <td>0.0</td>\n",
       "      <td>0.0</td>\n",
       "      <td>0.0</td>\n",
       "      <td>1950.0</td>\n",
       "    </tr>\n",
       "    <tr>\n",
       "      <th>19</th>\n",
       "      <td>1003</td>\n",
       "      <td>10</td>\n",
       "      <td>ultra</td>\n",
       "      <td>Москва</td>\n",
       "      <td>108.0</td>\n",
       "      <td>855.0</td>\n",
       "      <td>83.0</td>\n",
       "      <td>14768.14</td>\n",
       "      <td>14.422012</td>\n",
       "      <td>15.0</td>\n",
       "      <td>0</td>\n",
       "      <td>0.0</td>\n",
       "      <td>0.0</td>\n",
       "      <td>0.0</td>\n",
       "      <td>1950.0</td>\n",
       "    </tr>\n",
       "    <tr>\n",
       "      <th>...</th>\n",
       "      <td>...</td>\n",
       "      <td>...</td>\n",
       "      <td>...</td>\n",
       "      <td>...</td>\n",
       "      <td>...</td>\n",
       "      <td>...</td>\n",
       "      <td>...</td>\n",
       "      <td>...</td>\n",
       "      <td>...</td>\n",
       "      <td>...</td>\n",
       "      <td>...</td>\n",
       "      <td>...</td>\n",
       "      <td>...</td>\n",
       "      <td>...</td>\n",
       "      <td>...</td>\n",
       "    </tr>\n",
       "    <tr>\n",
       "      <th>3147</th>\n",
       "      <td>1490</td>\n",
       "      <td>08</td>\n",
       "      <td>smart</td>\n",
       "      <td>Москва</td>\n",
       "      <td>45.0</td>\n",
       "      <td>346.0</td>\n",
       "      <td>50.0</td>\n",
       "      <td>17275.37</td>\n",
       "      <td>16.870479</td>\n",
       "      <td>17.0</td>\n",
       "      <td>1</td>\n",
       "      <td>0.0</td>\n",
       "      <td>0.0</td>\n",
       "      <td>400.0</td>\n",
       "      <td>950.0</td>\n",
       "    </tr>\n",
       "    <tr>\n",
       "      <th>3148</th>\n",
       "      <td>1490</td>\n",
       "      <td>09</td>\n",
       "      <td>smart</td>\n",
       "      <td>Москва</td>\n",
       "      <td>44.0</td>\n",
       "      <td>322.0</td>\n",
       "      <td>48.0</td>\n",
       "      <td>14816.95</td>\n",
       "      <td>14.469678</td>\n",
       "      <td>15.0</td>\n",
       "      <td>1</td>\n",
       "      <td>0.0</td>\n",
       "      <td>0.0</td>\n",
       "      <td>0.0</td>\n",
       "      <td>550.0</td>\n",
       "    </tr>\n",
       "    <tr>\n",
       "      <th>3149</th>\n",
       "      <td>1490</td>\n",
       "      <td>10</td>\n",
       "      <td>smart</td>\n",
       "      <td>Москва</td>\n",
       "      <td>42.0</td>\n",
       "      <td>312.0</td>\n",
       "      <td>45.0</td>\n",
       "      <td>20664.97</td>\n",
       "      <td>20.180635</td>\n",
       "      <td>21.0</td>\n",
       "      <td>1</td>\n",
       "      <td>0.0</td>\n",
       "      <td>0.0</td>\n",
       "      <td>1200.0</td>\n",
       "      <td>1750.0</td>\n",
       "    </tr>\n",
       "    <tr>\n",
       "      <th>3150</th>\n",
       "      <td>1490</td>\n",
       "      <td>11</td>\n",
       "      <td>smart</td>\n",
       "      <td>Москва</td>\n",
       "      <td>38.0</td>\n",
       "      <td>282.0</td>\n",
       "      <td>47.0</td>\n",
       "      <td>18712.66</td>\n",
       "      <td>18.274082</td>\n",
       "      <td>19.0</td>\n",
       "      <td>1</td>\n",
       "      <td>0.0</td>\n",
       "      <td>0.0</td>\n",
       "      <td>800.0</td>\n",
       "      <td>1350.0</td>\n",
       "    </tr>\n",
       "    <tr>\n",
       "      <th>3151</th>\n",
       "      <td>1490</td>\n",
       "      <td>12</td>\n",
       "      <td>smart</td>\n",
       "      <td>Москва</td>\n",
       "      <td>42.0</td>\n",
       "      <td>290.0</td>\n",
       "      <td>46.0</td>\n",
       "      <td>15785.74</td>\n",
       "      <td>15.415762</td>\n",
       "      <td>16.0</td>\n",
       "      <td>1</td>\n",
       "      <td>0.0</td>\n",
       "      <td>0.0</td>\n",
       "      <td>200.0</td>\n",
       "      <td>750.0</td>\n",
       "    </tr>\n",
       "  </tbody>\n",
       "</table>\n",
       "<p>611 rows × 15 columns</p>\n",
       "</div>"
      ],
      "text/plain": [
       "      user_id month tariff    city  calls_sum  duration_sum  messages_sum  \\\n",
       "8        1001    11  smart  Москва       59.0         430.0           0.0   \n",
       "9        1001    12  smart  Москва       63.0         414.0           0.0   \n",
       "17       1003    08  ultra  Москва       55.0         380.0          37.0   \n",
       "18       1003    09  ultra  Москва      134.0         961.0          91.0   \n",
       "19       1003    10  ultra  Москва      108.0         855.0          83.0   \n",
       "...       ...   ...    ...     ...        ...           ...           ...   \n",
       "3147     1490    08  smart  Москва       45.0         346.0          50.0   \n",
       "3148     1490    09  smart  Москва       44.0         322.0          48.0   \n",
       "3149     1490    10  smart  Москва       42.0         312.0          45.0   \n",
       "3150     1490    11  smart  Москва       38.0         282.0          47.0   \n",
       "3151     1490    12  smart  Москва       42.0         290.0          46.0   \n",
       "\n",
       "      internet_sum  internet_sum_gb  internet_sum_gb_round  tariff_id  \\\n",
       "8         18429.34        17.997402                   18.0          1   \n",
       "9         14036.66        13.707676                   14.0          1   \n",
       "17         8565.21         8.364463                    9.0          0   \n",
       "18        12468.87        12.176631                   13.0          0   \n",
       "19        14768.14        14.422012                   15.0          0   \n",
       "...            ...              ...                    ...        ...   \n",
       "3147      17275.37        16.870479                   17.0          1   \n",
       "3148      14816.95        14.469678                   15.0          1   \n",
       "3149      20664.97        20.180635                   21.0          1   \n",
       "3150      18712.66        18.274082                   19.0          1   \n",
       "3151      15785.74        15.415762                   16.0          1   \n",
       "\n",
       "      profit_calls  profit_messages  profit_internet  profit_tariff  \n",
       "8              0.0              0.0            600.0         1150.0  \n",
       "9              0.0              0.0              0.0          550.0  \n",
       "17             0.0              0.0              0.0         1950.0  \n",
       "18             0.0              0.0              0.0         1950.0  \n",
       "19             0.0              0.0              0.0         1950.0  \n",
       "...            ...              ...              ...            ...  \n",
       "3147           0.0              0.0            400.0          950.0  \n",
       "3148           0.0              0.0              0.0          550.0  \n",
       "3149           0.0              0.0           1200.0         1750.0  \n",
       "3150           0.0              0.0            800.0         1350.0  \n",
       "3151           0.0              0.0            200.0          750.0  \n",
       "\n",
       "[611 rows x 15 columns]"
      ]
     },
     "metadata": {},
     "output_type": "display_data"
    }
   ],
   "source": [
    "# выборка по Москве\n",
    "display(users_table_work.loc[users_table_work['city']=='Москва'])\n"
   ]
  },
  {
   "cell_type": "code",
   "execution_count": 73,
   "id": "21cc91aa",
   "metadata": {},
   "outputs": [],
   "source": [
    "moscow=(users_table_work.loc[users_table_work['city']=='Москва','profit_tariff']).reset_index(drop=True)"
   ]
  },
  {
   "cell_type": "code",
   "execution_count": 74,
   "id": "6df24c29",
   "metadata": {
    "scrolled": false
   },
   "outputs": [
    {
     "data": {
      "text/plain": [
       "0      1150.0\n",
       "1       550.0\n",
       "2      1950.0\n",
       "3      1950.0\n",
       "4      1950.0\n",
       "        ...  \n",
       "606     950.0\n",
       "607     550.0\n",
       "608    1750.0\n",
       "609    1350.0\n",
       "610     750.0\n",
       "Name: profit_tariff, Length: 611, dtype: float64"
      ]
     },
     "metadata": {},
     "output_type": "display_data"
    }
   ],
   "source": [
    "display(moscow)"
   ]
  },
  {
   "cell_type": "code",
   "execution_count": 75,
   "id": "9e010ebe",
   "metadata": {},
   "outputs": [],
   "source": [
    "# выборка не по Москве\n",
    "not_moscow=(users_table_work.loc[users_table_work['city']!='Москва','profit_tariff']).reset_index(drop=True)"
   ]
  },
  {
   "cell_type": "code",
   "execution_count": 76,
   "id": "3d9981c4",
   "metadata": {
    "scrolled": false
   },
   "outputs": [
    {
     "data": {
      "text/plain": [
       "0       1950.0\n",
       "1       1950.0\n",
       "2       1950.0\n",
       "3       1950.0\n",
       "4       1950.0\n",
       "         ...  \n",
       "2587    1750.0\n",
       "2588     550.0\n",
       "2589    1150.0\n",
       "2590    1513.0\n",
       "2591     598.0\n",
       "Name: profit_tariff, Length: 2592, dtype: float64"
      ]
     },
     "metadata": {},
     "output_type": "display_data"
    }
   ],
   "source": [
    "display(not_moscow)"
   ]
  },
  {
   "cell_type": "code",
   "execution_count": 77,
   "id": "9a5964a3",
   "metadata": {},
   "outputs": [],
   "source": [
    "#учитывая, что должны быт выборки одинаковые случайным образом выберем из выборки not_moscow \n",
    "# такое же количестов значений как и в выборке moscow\n",
    "not_moscow_choice=(random.choices(not_moscow, k=len(moscow)))"
   ]
  },
  {
   "cell_type": "code",
   "execution_count": 78,
   "id": "2841c62a",
   "metadata": {},
   "outputs": [
    {
     "name": "stdout",
     "output_type": "stream",
     "text": [
      "p-значение:  0.8229352260951716\n",
      "Не получилось отвергнуть нулевую гипотезу\n"
     ]
    }
   ],
   "source": [
    "alpha = .01 # критический уровень статистической значимости\n",
    "\n",
    "results = st.ttest_rel(\n",
    "    moscow, \n",
    "    not_moscow_choice)# выборки большие но не равные \n",
    "\n",
    "print('p-значение: ', results.pvalue)\n",
    "\n",
    "if results.pvalue < alpha:\n",
    "    print(\"Отвергаем нулевую гипотезу\")\n",
    "else:\n",
    "    print(\"Не получилось отвергнуть нулевую гипотезу\") "
   ]
  },
  {
   "cell_type": "markdown",
   "id": "3fa299df",
   "metadata": {},
   "source": [
    "Значит, можно сделать вывод, что cредняя выручка пользователей из Москвы не отличается от выручки пользователей из других регионов"
   ]
  },
  {
   "cell_type": "markdown",
   "id": "3dbba173",
   "metadata": {},
   "source": [
    "### Вывод"
   ]
  },
  {
   "cell_type": "markdown",
   "id": "fd2d78dd",
   "metadata": {},
   "source": [
    "Проверили следующие гипотезы\n",
    "1. Средняя выручка пользователей тарифов «Ультра» и «Смарт» различаются;\n",
    "\n",
    "гипотеза подтвердилась\n",
    "\n",
    "2. Средняя выручка пользователей из Москвы отличается от выручки пользователей из других регионов.\n",
    "\n",
    "гипотеза не подтвердилась"
   ]
  },
  {
   "cell_type": "markdown",
   "id": "baff0000",
   "metadata": {},
   "source": [
    "## Общий вывод"
   ]
  },
  {
   "cell_type": "markdown",
   "id": "8735b5e4",
   "metadata": {},
   "source": [
    "**В рамках проведенного анализа тарифов \"Смарт\" и \"Ультра\" телеком-компании выявил следующее:**\n",
    "1. При изучении данных были найдены пропущенные значения в таблице `users` столбец `churn_date`. В качестве замены пропусков  использовали последний день года т.е. 2018-12-31 т.к рассматриваем диапазон времени в рамках 2018 года и такой даты прекращения пользования тарифом нет. \n",
    "2. Было отмечено, что тип некоторых столбцов не соответствует описанию, в частности столбцы связанные с датой звонка, сообщения, окончание пользования тарифом все это привели в соответствие с типами столбцов. \n",
    "3. Добавили столбец с месяцем для каждой таблицы, округлили время разговора каждого пользователя в большую сторону, а также расход трафика.\n",
    "4. Все собрали с помощь pivot_table  в одну таблицу\n",
    "5. Рассчитали сколько тратит каждый пользователь по тарифам и какой доход по тарифу у компании от каждого пользователя\n",
    "6. Рассмотрели каждый тариф по отдельности так для тарифа \"Смарт\":\n",
    "   1. Происходит увеличение количество звонков, сообщений и трафика к концу года   \n",
    "   2. Найдены среднее значения по месяцам для звонков, сообщений и трафика\n",
    "   3. Найдены среднее значения по всему рассматриваемому периоду:\n",
    "      1. Для звонков - 386.892788\n",
    "      2. Для сообщений - 31.364252\n",
    "      3. Для трафика -  15.204689\n",
    "      4. Для прибыли -  1180.198852    \n",
    "   4. Найдены дисперсия и стандартное отклонение для  звонков, сообщений, трафика и прибыли по месяцам  \n",
    "   5. Найдена дисперсия по всему рассматриваемому периоду:\n",
    "      1. Для звонков - 36158.52723518045\n",
    "      2. Для сообщений - 798.97196828192844\n",
    "      3. Для трафика - 32.908978554322495\n",
    "      4. Для прибыли - 669539.8343127215\n",
    "   6. Найдено стандартное отклонение по всему рассматриваемому периоду: \n",
    "      1. Для звонков -  190.15395666454182\n",
    "      2. Для сообщений -28.266092200407336\n",
    "      3. Для трафика -5.73663477609674\n",
    "      4. Для прибыли -818.2541379747013\n",
    "   7. Построены гистограммы плотности для звонков (скошенность вправо), сообщений(скошенность вправо), трафика (симметричная) и прибыли (скошенность вправо)\n",
    "   8. **Медианная прибыль 1026 руб** с пользователя, количество пользователей **2228** всего прибыль с тарифа **2285928 руб**\n",
    "7. Рассмотрели каждый тариф по отдельности так для тарифа \"Ультра\": \n",
    "   1. Происходит увеличение количество звонков, сообщений и трафика к концу года\n",
    "   2. Найдены среднее значения по месяцам для звонков, сообщений и трафика\n",
    "   3. Найдены среднее значения по всему рассматриваемому периоду:\n",
    "      1. Для звонков - 499.316135\n",
    "      2. Для сообщений - 42.380931\n",
    "      3. Для трафика -  18.481028\n",
    "      4. Для прибыли -  2047.947381\n",
    "   4. Найдены дисперсия и стандартное отклонение для  звонков, сообщений, трафика и прибыли по месяцам  \n",
    "   5. Найдена дисперсия по всему рассматриваемому периоду:\n",
    "       1. Для звонков - 100780.34762813938\n",
    "       2. Для сообщений - 2217.3722908612754\n",
    "       3. Для трафика - 94.05017330703484\n",
    "       4. Для прибыли - 142673.4674556213\n",
    "   6. Найдено стандартное отклонение по всему рассматриваемому периоду: \n",
    "       1. Для звонков -  317.4592062425334\n",
    "       2. Для сообщений -47.08898269087234\n",
    "       3. Для трафика -9.697946860394463\n",
    "       4. Для прибыли -377.7214151403403\n",
    "   7. Построены гистограммы плотности для звонков (скошенность вправо), сообщений(скошенность вправо), трафика (симметричная) и прибыли (скошенность вправо)\n",
    "   8. **Медианная прибыль 1950 руб** с пользователя, количество пользователей **975** всего прибыль с тарифа **1901250 руб**\n",
    "8. Проверили следующие гипотезы\n",
    "    1. Средняя выручка пользователей тарифов «Ультра» и «Смарт» различаются - \n",
    "        **гипотеза подтвердилась**, *т.е средняя выручка пользователей тарифов «Ультра» и «Смарт» различаются*\n",
    "    2. Средняя выручка пользователей из Москвы отличается от выручки пользователей из других регионов -\n",
    "        **гипотеза не подтвердилась**,*т.е cредняя выручка пользователей из Москвы не отличается от выручки пользователей из других регионов*\n",
    "9. Из приведенного анализа следует, что тариф \"Смарт\" для телеком-компании более выгодный, чем тариф \"Ультра\" при таком количестве пользователей"
   ]
  }
 ],
 "metadata": {
  "ExecuteTimeLog": [
   {
    "duration": 970,
    "start_time": "2022-01-14T17:13:12.797Z"
   },
   {
    "duration": 61,
    "start_time": "2022-01-14T17:13:13.769Z"
   },
   {
    "duration": 547,
    "start_time": "2022-01-14T17:13:13.289Z"
   },
   {
    "duration": 543,
    "start_time": "2022-01-14T17:13:13.295Z"
   },
   {
    "duration": 534,
    "start_time": "2022-01-14T17:13:13.305Z"
   },
   {
    "duration": 529,
    "start_time": "2022-01-14T17:13:13.311Z"
   },
   {
    "duration": 476,
    "start_time": "2022-01-14T17:13:13.365Z"
   },
   {
    "duration": 469,
    "start_time": "2022-01-14T17:13:13.374Z"
   },
   {
    "duration": 463,
    "start_time": "2022-01-14T17:13:13.381Z"
   },
   {
    "duration": 455,
    "start_time": "2022-01-14T17:13:13.390Z"
   },
   {
    "duration": 450,
    "start_time": "2022-01-14T17:13:13.396Z"
   },
   {
    "duration": 443,
    "start_time": "2022-01-14T17:13:13.405Z"
   },
   {
    "duration": 438,
    "start_time": "2022-01-14T17:13:13.411Z"
   },
   {
    "duration": 430,
    "start_time": "2022-01-14T17:13:13.420Z"
   },
   {
    "duration": 385,
    "start_time": "2022-01-14T17:13:13.467Z"
   },
   {
    "duration": 381,
    "start_time": "2022-01-14T17:13:13.472Z"
   },
   {
    "duration": 376,
    "start_time": "2022-01-14T17:13:13.478Z"
   },
   {
    "duration": 368,
    "start_time": "2022-01-14T17:13:13.487Z"
   },
   {
    "duration": 365,
    "start_time": "2022-01-14T17:13:13.492Z"
   },
   {
    "duration": 359,
    "start_time": "2022-01-14T17:13:13.499Z"
   },
   {
    "duration": 351,
    "start_time": "2022-01-14T17:13:13.508Z"
   },
   {
    "duration": 346,
    "start_time": "2022-01-14T17:13:13.514Z"
   },
   {
    "duration": 339,
    "start_time": "2022-01-14T17:13:13.523Z"
   },
   {
    "duration": 333,
    "start_time": "2022-01-14T17:13:13.530Z"
   },
   {
    "duration": 291,
    "start_time": "2022-01-14T17:13:13.573Z"
   },
   {
    "duration": 286,
    "start_time": "2022-01-14T17:13:13.579Z"
   },
   {
    "duration": 279,
    "start_time": "2022-01-14T17:13:13.588Z"
   },
   {
    "duration": 274,
    "start_time": "2022-01-14T17:13:13.594Z"
   },
   {
    "duration": 266,
    "start_time": "2022-01-14T17:13:13.603Z"
   },
   {
    "duration": 263,
    "start_time": "2022-01-14T17:13:13.608Z"
   },
   {
    "duration": 258,
    "start_time": "2022-01-14T17:13:13.614Z"
   },
   {
    "duration": 287,
    "start_time": "2022-01-14T17:13:13.624Z"
   },
   {
    "duration": 283,
    "start_time": "2022-01-14T17:13:13.630Z"
   },
   {
    "duration": 275,
    "start_time": "2022-01-14T17:13:13.639Z"
   },
   {
    "duration": 271,
    "start_time": "2022-01-14T17:13:13.644Z"
   },
   {
    "duration": 264,
    "start_time": "2022-01-14T17:13:13.653Z"
   },
   {
    "duration": 260,
    "start_time": "2022-01-14T17:13:13.658Z"
   },
   {
    "duration": 256,
    "start_time": "2022-01-14T17:13:13.663Z"
   },
   {
    "duration": 248,
    "start_time": "2022-01-14T17:13:13.673Z"
   },
   {
    "duration": 244,
    "start_time": "2022-01-14T17:13:13.678Z"
   },
   {
    "duration": 236,
    "start_time": "2022-01-14T17:13:13.687Z"
   },
   {
    "duration": 233,
    "start_time": "2022-01-14T17:13:13.692Z"
   },
   {
    "duration": 228,
    "start_time": "2022-01-14T17:13:13.698Z"
   },
   {
    "duration": 220,
    "start_time": "2022-01-14T17:13:13.707Z"
   },
   {
    "duration": 216,
    "start_time": "2022-01-14T17:13:13.713Z"
   },
   {
    "duration": 208,
    "start_time": "2022-01-14T17:13:13.722Z"
   },
   {
    "duration": 203,
    "start_time": "2022-01-14T17:13:13.728Z"
   },
   {
    "duration": 195,
    "start_time": "2022-01-14T17:13:13.737Z"
   },
   {
    "duration": 193,
    "start_time": "2022-01-14T17:13:13.741Z"
   },
   {
    "duration": 187,
    "start_time": "2022-01-14T17:13:13.748Z"
   },
   {
    "duration": 179,
    "start_time": "2022-01-14T17:13:13.757Z"
   },
   {
    "duration": 175,
    "start_time": "2022-01-14T17:13:13.762Z"
   },
   {
    "duration": 167,
    "start_time": "2022-01-14T17:13:13.771Z"
   },
   {
    "duration": 163,
    "start_time": "2022-01-14T17:13:13.776Z"
   },
   {
    "duration": 155,
    "start_time": "2022-01-14T17:13:13.786Z"
   },
   {
    "duration": 151,
    "start_time": "2022-01-14T17:13:13.791Z"
   },
   {
    "duration": 146,
    "start_time": "2022-01-14T17:13:13.797Z"
   },
   {
    "duration": 140,
    "start_time": "2022-01-14T17:13:13.805Z"
   },
   {
    "duration": 135,
    "start_time": "2022-01-14T17:13:13.811Z"
   },
   {
    "duration": 127,
    "start_time": "2022-01-14T17:13:13.820Z"
   },
   {
    "duration": 123,
    "start_time": "2022-01-14T17:13:13.825Z"
   },
   {
    "duration": 119,
    "start_time": "2022-01-14T17:13:13.831Z"
   },
   {
    "duration": 111,
    "start_time": "2022-01-14T17:13:13.840Z"
   },
   {
    "duration": 106,
    "start_time": "2022-01-14T17:13:13.846Z"
   },
   {
    "duration": 157,
    "start_time": "2022-01-14T17:13:13.855Z"
   },
   {
    "duration": 153,
    "start_time": "2022-01-14T17:13:13.861Z"
   },
   {
    "duration": 145,
    "start_time": "2022-01-14T17:13:13.870Z"
   },
   {
    "duration": 141,
    "start_time": "2022-01-14T17:13:13.875Z"
   },
   {
    "duration": 137,
    "start_time": "2022-01-14T17:13:13.880Z"
   },
   {
    "duration": 130,
    "start_time": "2022-01-14T17:13:13.889Z"
   },
   {
    "duration": 126,
    "start_time": "2022-01-14T17:13:13.894Z"
   },
   {
    "duration": 118,
    "start_time": "2022-01-14T17:13:13.903Z"
   },
   {
    "duration": 114,
    "start_time": "2022-01-14T17:13:13.908Z"
   },
   {
    "duration": 111,
    "start_time": "2022-01-14T17:13:13.913Z"
   },
   {
    "duration": 103,
    "start_time": "2022-01-14T17:13:13.922Z"
   },
   {
    "duration": 98,
    "start_time": "2022-01-14T17:13:13.928Z"
   },
   {
    "duration": 92,
    "start_time": "2022-01-14T17:13:13.936Z"
   },
   {
    "duration": 88,
    "start_time": "2022-01-14T17:13:13.941Z"
   },
   {
    "duration": 83,
    "start_time": "2022-01-14T17:13:13.947Z"
   },
   {
    "duration": 75,
    "start_time": "2022-01-14T17:13:13.956Z"
   },
   {
    "duration": 71,
    "start_time": "2022-01-14T17:13:13.961Z"
   },
   {
    "duration": 63,
    "start_time": "2022-01-14T17:13:13.971Z"
   },
   {
    "duration": 58,
    "start_time": "2022-01-14T17:13:13.977Z"
   },
   {
    "duration": 54,
    "start_time": "2022-01-14T17:13:13.982Z"
   },
   {
    "duration": 45,
    "start_time": "2022-01-14T17:13:13.992Z"
   },
   {
    "duration": 41,
    "start_time": "2022-01-14T17:13:13.998Z"
   },
   {
    "duration": 34,
    "start_time": "2022-01-14T17:13:14.006Z"
   },
   {
    "duration": 915,
    "start_time": "2022-01-14T17:14:00.958Z"
   },
   {
    "duration": 47,
    "start_time": "2022-01-14T17:14:01.875Z"
   },
   {
    "duration": 6,
    "start_time": "2022-01-14T17:14:01.927Z"
   },
   {
    "duration": 8,
    "start_time": "2022-01-14T17:14:01.935Z"
   },
   {
    "duration": 8,
    "start_time": "2022-01-14T17:14:01.944Z"
   },
   {
    "duration": 149,
    "start_time": "2022-01-14T17:14:01.953Z"
   },
   {
    "duration": 20,
    "start_time": "2022-01-14T17:14:02.105Z"
   },
   {
    "duration": 90,
    "start_time": "2022-01-14T17:14:02.127Z"
   },
   {
    "duration": 12,
    "start_time": "2022-01-14T17:14:02.219Z"
   },
   {
    "duration": 124,
    "start_time": "2022-01-14T17:14:02.232Z"
   },
   {
    "duration": 15,
    "start_time": "2022-01-14T17:14:02.357Z"
   },
   {
    "duration": 18,
    "start_time": "2022-01-14T17:14:02.373Z"
   },
   {
    "duration": 22,
    "start_time": "2022-01-14T17:14:02.392Z"
   },
   {
    "duration": 14,
    "start_time": "2022-01-14T17:14:02.415Z"
   },
   {
    "duration": 16,
    "start_time": "2022-01-14T17:14:02.430Z"
   },
   {
    "duration": 18,
    "start_time": "2022-01-14T17:14:02.447Z"
   },
   {
    "duration": 75,
    "start_time": "2022-01-14T17:14:02.466Z"
   },
   {
    "duration": 23,
    "start_time": "2022-01-14T17:14:02.543Z"
   },
   {
    "duration": 29,
    "start_time": "2022-01-14T17:14:02.567Z"
   },
   {
    "duration": 829,
    "start_time": "2022-01-14T17:14:02.597Z"
   },
   {
    "duration": 98,
    "start_time": "2022-01-14T17:14:03.427Z"
   },
   {
    "duration": 15,
    "start_time": "2022-01-14T17:14:03.529Z"
   },
   {
    "duration": 5,
    "start_time": "2022-01-14T17:14:03.546Z"
   },
   {
    "duration": 510,
    "start_time": "2022-01-14T17:14:03.553Z"
   },
   {
    "duration": 34,
    "start_time": "2022-01-14T17:14:04.064Z"
   },
   {
    "duration": 622,
    "start_time": "2022-01-14T17:14:04.099Z"
   },
   {
    "duration": 32,
    "start_time": "2022-01-14T17:14:04.723Z"
   },
   {
    "duration": 14,
    "start_time": "2022-01-14T17:14:04.756Z"
   },
   {
    "duration": 56,
    "start_time": "2022-01-14T17:14:04.771Z"
   },
   {
    "duration": 55,
    "start_time": "2022-01-14T17:14:04.828Z"
   },
   {
    "duration": 6,
    "start_time": "2022-01-14T17:14:04.884Z"
   },
   {
    "duration": 23,
    "start_time": "2022-01-14T17:14:04.892Z"
   },
   {
    "duration": 17,
    "start_time": "2022-01-14T17:14:04.916Z"
   },
   {
    "duration": 2112,
    "start_time": "2022-01-14T17:14:04.934Z"
   },
   {
    "duration": 2,
    "start_time": "2022-01-14T17:14:07.048Z"
   },
   {
    "duration": 40,
    "start_time": "2022-01-14T17:14:07.052Z"
   },
   {
    "duration": 19,
    "start_time": "2022-01-14T17:14:07.093Z"
   },
   {
    "duration": 303,
    "start_time": "2022-01-14T17:14:07.113Z"
   },
   {
    "duration": 310,
    "start_time": "2022-01-14T17:14:07.417Z"
   },
   {
    "duration": 297,
    "start_time": "2022-01-14T17:14:07.729Z"
   },
   {
    "duration": 301,
    "start_time": "2022-01-14T17:14:08.027Z"
   },
   {
    "duration": 131,
    "start_time": "2022-01-14T17:14:08.330Z"
   },
   {
    "duration": 186,
    "start_time": "2022-01-14T17:14:08.463Z"
   },
   {
    "duration": 198,
    "start_time": "2022-01-14T17:14:08.650Z"
   },
   {
    "duration": 251,
    "start_time": "2022-01-14T17:14:08.849Z"
   },
   {
    "duration": 220,
    "start_time": "2022-01-14T17:14:09.101Z"
   },
   {
    "duration": 104,
    "start_time": "2022-01-14T17:14:09.323Z"
   },
   {
    "duration": 3,
    "start_time": "2022-01-14T17:14:09.429Z"
   },
   {
    "duration": 213,
    "start_time": "2022-01-14T17:14:09.433Z"
   },
   {
    "duration": 173,
    "start_time": "2022-01-14T17:14:09.648Z"
   },
   {
    "duration": 175,
    "start_time": "2022-01-14T17:14:09.822Z"
   },
   {
    "duration": 3,
    "start_time": "2022-01-14T17:14:09.999Z"
   },
   {
    "duration": 7,
    "start_time": "2022-01-14T17:14:10.012Z"
   },
   {
    "duration": 187,
    "start_time": "2022-01-14T17:14:10.021Z"
   },
   {
    "duration": 177,
    "start_time": "2022-01-14T17:14:10.212Z"
   },
   {
    "duration": 168,
    "start_time": "2022-01-14T17:14:10.391Z"
   },
   {
    "duration": 66,
    "start_time": "2022-01-14T17:14:10.561Z"
   },
   {
    "duration": 4,
    "start_time": "2022-01-14T17:14:10.628Z"
   },
   {
    "duration": 310,
    "start_time": "2022-01-14T17:14:10.633Z"
   },
   {
    "duration": 275,
    "start_time": "2022-01-14T17:14:10.945Z"
   },
   {
    "duration": 297,
    "start_time": "2022-01-14T17:14:11.222Z"
   },
   {
    "duration": 385,
    "start_time": "2022-01-14T17:14:11.521Z"
   },
   {
    "duration": 159,
    "start_time": "2022-01-14T17:14:11.913Z"
   },
   {
    "duration": 211,
    "start_time": "2022-01-14T17:14:12.074Z"
   },
   {
    "duration": 201,
    "start_time": "2022-01-14T17:14:12.287Z"
   },
   {
    "duration": 207,
    "start_time": "2022-01-14T17:14:12.489Z"
   },
   {
    "duration": 213,
    "start_time": "2022-01-14T17:14:12.701Z"
   },
   {
    "duration": 71,
    "start_time": "2022-01-14T17:14:12.915Z"
   },
   {
    "duration": 2,
    "start_time": "2022-01-14T17:14:12.988Z"
   },
   {
    "duration": 223,
    "start_time": "2022-01-14T17:14:12.991Z"
   },
   {
    "duration": 166,
    "start_time": "2022-01-14T17:14:13.216Z"
   },
   {
    "duration": 196,
    "start_time": "2022-01-14T17:14:13.383Z"
   },
   {
    "duration": 3,
    "start_time": "2022-01-14T17:14:13.581Z"
   },
   {
    "duration": 17,
    "start_time": "2022-01-14T17:14:13.586Z"
   },
   {
    "duration": 192,
    "start_time": "2022-01-14T17:14:13.612Z"
   },
   {
    "duration": 177,
    "start_time": "2022-01-14T17:14:13.806Z"
   },
   {
    "duration": 163,
    "start_time": "2022-01-14T17:14:13.985Z"
   },
   {
    "duration": 7,
    "start_time": "2022-01-14T17:14:14.150Z"
   },
   {
    "duration": 23,
    "start_time": "2022-01-14T17:14:14.158Z"
   },
   {
    "duration": 4,
    "start_time": "2022-01-14T17:14:14.183Z"
   },
   {
    "duration": 29,
    "start_time": "2022-01-14T17:14:14.189Z"
   },
   {
    "duration": 3,
    "start_time": "2022-01-14T17:14:14.219Z"
   },
   {
    "duration": 12,
    "start_time": "2022-01-14T17:14:14.224Z"
   },
   {
    "duration": 5,
    "start_time": "2022-01-14T17:14:14.238Z"
   },
   {
    "duration": 9,
    "start_time": "2022-01-14T17:14:14.244Z"
   },
   {
    "duration": 7,
    "start_time": "2022-01-14T17:14:14.254Z"
   },
   {
    "duration": 6,
    "start_time": "2022-01-14T17:14:14.262Z"
   },
   {
    "duration": 1079,
    "start_time": "2022-01-14T17:16:26.991Z"
   },
   {
    "duration": 40,
    "start_time": "2022-01-14T17:16:28.071Z"
   },
   {
    "duration": 6,
    "start_time": "2022-01-14T17:16:28.112Z"
   },
   {
    "duration": 8,
    "start_time": "2022-01-14T17:16:28.119Z"
   },
   {
    "duration": 6,
    "start_time": "2022-01-14T17:16:28.129Z"
   },
   {
    "duration": 154,
    "start_time": "2022-01-14T17:16:28.137Z"
   },
   {
    "duration": 24,
    "start_time": "2022-01-14T17:16:28.292Z"
   },
   {
    "duration": 84,
    "start_time": "2022-01-14T17:16:28.318Z"
   },
   {
    "duration": 17,
    "start_time": "2022-01-14T17:16:28.404Z"
   },
   {
    "duration": 127,
    "start_time": "2022-01-14T17:16:28.422Z"
   },
   {
    "duration": 16,
    "start_time": "2022-01-14T17:16:28.551Z"
   },
   {
    "duration": 18,
    "start_time": "2022-01-14T17:16:28.569Z"
   },
   {
    "duration": 6,
    "start_time": "2022-01-14T17:16:28.588Z"
   },
   {
    "duration": 19,
    "start_time": "2022-01-14T17:16:28.595Z"
   },
   {
    "duration": 13,
    "start_time": "2022-01-14T17:16:28.616Z"
   },
   {
    "duration": 10,
    "start_time": "2022-01-14T17:16:28.630Z"
   },
   {
    "duration": 40,
    "start_time": "2022-01-14T17:16:28.641Z"
   },
   {
    "duration": 49,
    "start_time": "2022-01-14T17:16:28.682Z"
   },
   {
    "duration": 30,
    "start_time": "2022-01-14T17:16:28.733Z"
   },
   {
    "duration": 857,
    "start_time": "2022-01-14T17:16:28.765Z"
   },
   {
    "duration": 102,
    "start_time": "2022-01-14T17:16:29.624Z"
   },
   {
    "duration": 15,
    "start_time": "2022-01-14T17:16:29.727Z"
   },
   {
    "duration": 4,
    "start_time": "2022-01-14T17:16:29.746Z"
   },
   {
    "duration": 510,
    "start_time": "2022-01-14T17:16:29.753Z"
   },
   {
    "duration": 33,
    "start_time": "2022-01-14T17:16:30.264Z"
   },
   {
    "duration": 582,
    "start_time": "2022-01-14T17:16:30.312Z"
   },
   {
    "duration": 43,
    "start_time": "2022-01-14T17:16:30.896Z"
   },
   {
    "duration": 13,
    "start_time": "2022-01-14T17:16:30.941Z"
   },
   {
    "duration": 35,
    "start_time": "2022-01-14T17:16:30.956Z"
   },
   {
    "duration": 57,
    "start_time": "2022-01-14T17:16:31.013Z"
   },
   {
    "duration": 7,
    "start_time": "2022-01-14T17:16:31.072Z"
   },
   {
    "duration": 5,
    "start_time": "2022-01-14T17:16:31.080Z"
   },
   {
    "duration": 39,
    "start_time": "2022-01-14T17:16:31.087Z"
   },
   {
    "duration": 2075,
    "start_time": "2022-01-14T17:16:31.127Z"
   },
   {
    "duration": 9,
    "start_time": "2022-01-14T17:16:33.203Z"
   },
   {
    "duration": 40,
    "start_time": "2022-01-14T17:16:33.214Z"
   },
   {
    "duration": 3,
    "start_time": "2022-01-14T17:16:33.255Z"
   },
   {
    "duration": 290,
    "start_time": "2022-01-14T17:16:33.260Z"
   },
   {
    "duration": 285,
    "start_time": "2022-01-14T17:16:33.551Z"
   },
   {
    "duration": 282,
    "start_time": "2022-01-14T17:16:33.837Z"
   },
   {
    "duration": 281,
    "start_time": "2022-01-14T17:16:34.121Z"
   },
   {
    "duration": 136,
    "start_time": "2022-01-14T17:16:34.404Z"
   },
   {
    "duration": 191,
    "start_time": "2022-01-14T17:16:34.541Z"
   },
   {
    "duration": 210,
    "start_time": "2022-01-14T17:16:34.734Z"
   },
   {
    "duration": 242,
    "start_time": "2022-01-14T17:16:34.946Z"
   },
   {
    "duration": 196,
    "start_time": "2022-01-14T17:16:35.190Z"
   },
   {
    "duration": 79,
    "start_time": "2022-01-14T17:16:35.388Z"
   },
   {
    "duration": 2,
    "start_time": "2022-01-14T17:16:35.469Z"
   },
   {
    "duration": 191,
    "start_time": "2022-01-14T17:16:35.473Z"
   },
   {
    "duration": 170,
    "start_time": "2022-01-14T17:16:35.665Z"
   },
   {
    "duration": 171,
    "start_time": "2022-01-14T17:16:35.837Z"
   },
   {
    "duration": 2,
    "start_time": "2022-01-14T17:16:36.010Z"
   },
   {
    "duration": 10,
    "start_time": "2022-01-14T17:16:36.014Z"
   },
   {
    "duration": 200,
    "start_time": "2022-01-14T17:16:36.026Z"
   },
   {
    "duration": 197,
    "start_time": "2022-01-14T17:16:36.227Z"
   },
   {
    "duration": 187,
    "start_time": "2022-01-14T17:16:36.426Z"
   },
   {
    "duration": 44,
    "start_time": "2022-01-14T17:16:36.615Z"
   },
   {
    "duration": 4,
    "start_time": "2022-01-14T17:16:36.660Z"
   },
   {
    "duration": 354,
    "start_time": "2022-01-14T17:16:36.665Z"
   },
   {
    "duration": 307,
    "start_time": "2022-01-14T17:16:37.021Z"
   },
   {
    "duration": 298,
    "start_time": "2022-01-14T17:16:37.330Z"
   },
   {
    "duration": 388,
    "start_time": "2022-01-14T17:16:37.630Z"
   },
   {
    "duration": 157,
    "start_time": "2022-01-14T17:16:38.020Z"
   },
   {
    "duration": 209,
    "start_time": "2022-01-14T17:16:38.179Z"
   },
   {
    "duration": 215,
    "start_time": "2022-01-14T17:16:38.390Z"
   },
   {
    "duration": 192,
    "start_time": "2022-01-14T17:16:38.607Z"
   },
   {
    "duration": 213,
    "start_time": "2022-01-14T17:16:38.801Z"
   },
   {
    "duration": 73,
    "start_time": "2022-01-14T17:16:39.019Z"
   },
   {
    "duration": 18,
    "start_time": "2022-01-14T17:16:39.094Z"
   },
   {
    "duration": 192,
    "start_time": "2022-01-14T17:16:39.114Z"
   },
   {
    "duration": 174,
    "start_time": "2022-01-14T17:16:39.308Z"
   },
   {
    "duration": 183,
    "start_time": "2022-01-14T17:16:39.483Z"
   },
   {
    "duration": 2,
    "start_time": "2022-01-14T17:16:39.668Z"
   },
   {
    "duration": 17,
    "start_time": "2022-01-14T17:16:39.672Z"
   },
   {
    "duration": 173,
    "start_time": "2022-01-14T17:16:39.690Z"
   },
   {
    "duration": 173,
    "start_time": "2022-01-14T17:16:39.864Z"
   },
   {
    "duration": 164,
    "start_time": "2022-01-14T17:16:40.038Z"
   },
   {
    "duration": 4,
    "start_time": "2022-01-14T17:16:40.203Z"
   },
   {
    "duration": 5,
    "start_time": "2022-01-14T17:16:40.212Z"
   },
   {
    "duration": 11,
    "start_time": "2022-01-14T17:16:40.219Z"
   },
   {
    "duration": 27,
    "start_time": "2022-01-14T17:16:40.231Z"
   },
   {
    "duration": 6,
    "start_time": "2022-01-14T17:16:40.260Z"
   },
   {
    "duration": 8,
    "start_time": "2022-01-14T17:16:40.268Z"
   },
   {
    "duration": 4,
    "start_time": "2022-01-14T17:16:40.278Z"
   },
   {
    "duration": 7,
    "start_time": "2022-01-14T17:16:40.283Z"
   },
   {
    "duration": 20,
    "start_time": "2022-01-14T17:16:40.292Z"
   },
   {
    "duration": 6,
    "start_time": "2022-01-14T17:16:40.314Z"
   },
   {
    "duration": 432,
    "start_time": "2022-01-17T07:23:37.355Z"
   },
   {
    "duration": 1440,
    "start_time": "2022-01-17T07:24:00.974Z"
   },
   {
    "duration": 46,
    "start_time": "2022-01-17T07:24:02.417Z"
   },
   {
    "duration": 9,
    "start_time": "2022-01-17T07:24:02.466Z"
   },
   {
    "duration": 12,
    "start_time": "2022-01-17T07:24:02.477Z"
   },
   {
    "duration": 11,
    "start_time": "2022-01-17T07:24:02.491Z"
   },
   {
    "duration": 267,
    "start_time": "2022-01-17T07:24:02.504Z"
   },
   {
    "duration": 28,
    "start_time": "2022-01-17T07:24:02.773Z"
   },
   {
    "duration": 164,
    "start_time": "2022-01-17T07:24:02.804Z"
   },
   {
    "duration": 19,
    "start_time": "2022-01-17T07:24:02.971Z"
   },
   {
    "duration": 198,
    "start_time": "2022-01-17T07:24:02.993Z"
   },
   {
    "duration": 23,
    "start_time": "2022-01-17T07:24:03.194Z"
   },
   {
    "duration": 44,
    "start_time": "2022-01-17T07:24:03.220Z"
   },
   {
    "duration": 10,
    "start_time": "2022-01-17T07:24:03.267Z"
   },
   {
    "duration": 7,
    "start_time": "2022-01-17T07:24:03.279Z"
   },
   {
    "duration": 20,
    "start_time": "2022-01-17T07:24:03.289Z"
   },
   {
    "duration": 15,
    "start_time": "2022-01-17T07:24:03.359Z"
   },
   {
    "duration": 83,
    "start_time": "2022-01-17T07:24:03.376Z"
   },
   {
    "duration": 36,
    "start_time": "2022-01-17T07:24:03.462Z"
   },
   {
    "duration": 83,
    "start_time": "2022-01-17T07:24:03.501Z"
   },
   {
    "duration": 1356,
    "start_time": "2022-01-17T07:24:03.586Z"
   },
   {
    "duration": 167,
    "start_time": "2022-01-17T07:24:04.945Z"
   },
   {
    "duration": 25,
    "start_time": "2022-01-17T07:24:05.114Z"
   },
   {
    "duration": 21,
    "start_time": "2022-01-17T07:24:05.144Z"
   },
   {
    "duration": 913,
    "start_time": "2022-01-17T07:24:05.169Z"
   },
   {
    "duration": 80,
    "start_time": "2022-01-17T07:24:06.085Z"
   },
   {
    "duration": 1084,
    "start_time": "2022-01-17T07:24:06.168Z"
   },
   {
    "duration": 57,
    "start_time": "2022-01-17T07:24:07.260Z"
   },
   {
    "duration": 49,
    "start_time": "2022-01-17T07:24:07.320Z"
   },
   {
    "duration": 65,
    "start_time": "2022-01-17T07:24:07.371Z"
   },
   {
    "duration": 118,
    "start_time": "2022-01-17T07:24:07.459Z"
   },
   {
    "duration": 11,
    "start_time": "2022-01-17T07:24:07.579Z"
   },
   {
    "duration": 8,
    "start_time": "2022-01-17T07:24:07.592Z"
   },
   {
    "duration": 67,
    "start_time": "2022-01-17T07:24:07.602Z"
   },
   {
    "duration": 4598,
    "start_time": "2022-01-17T07:24:07.671Z"
   },
   {
    "duration": 4,
    "start_time": "2022-01-17T07:24:12.271Z"
   },
   {
    "duration": 100,
    "start_time": "2022-01-17T07:24:12.277Z"
   },
   {
    "duration": 5,
    "start_time": "2022-01-17T07:24:12.379Z"
   },
   {
    "duration": 445,
    "start_time": "2022-01-17T07:24:12.386Z"
   },
   {
    "duration": 453,
    "start_time": "2022-01-17T07:24:12.834Z"
   },
   {
    "duration": 402,
    "start_time": "2022-01-17T07:24:13.290Z"
   },
   {
    "duration": 417,
    "start_time": "2022-01-17T07:24:13.695Z"
   },
   {
    "duration": 270,
    "start_time": "2022-01-17T07:24:14.115Z"
   },
   {
    "duration": 352,
    "start_time": "2022-01-17T07:24:14.387Z"
   },
   {
    "duration": 407,
    "start_time": "2022-01-17T07:24:14.741Z"
   },
   {
    "duration": 416,
    "start_time": "2022-01-17T07:24:15.150Z"
   },
   {
    "duration": 353,
    "start_time": "2022-01-17T07:24:15.568Z"
   },
   {
    "duration": 153,
    "start_time": "2022-01-17T07:24:15.924Z"
   },
   {
    "duration": 3,
    "start_time": "2022-01-17T07:24:16.079Z"
   },
   {
    "duration": 352,
    "start_time": "2022-01-17T07:24:16.085Z"
   },
   {
    "duration": 319,
    "start_time": "2022-01-17T07:24:16.440Z"
   },
   {
    "duration": 327,
    "start_time": "2022-01-17T07:24:16.761Z"
   },
   {
    "duration": 4,
    "start_time": "2022-01-17T07:24:17.090Z"
   },
   {
    "duration": 13,
    "start_time": "2022-01-17T07:24:17.097Z"
   },
   {
    "duration": 329,
    "start_time": "2022-01-17T07:24:17.113Z"
   },
   {
    "duration": 316,
    "start_time": "2022-01-17T07:24:17.445Z"
   },
   {
    "duration": 449,
    "start_time": "2022-01-17T07:24:17.764Z"
   },
   {
    "duration": 128,
    "start_time": "2022-01-17T07:24:18.217Z"
   },
   {
    "duration": 7,
    "start_time": "2022-01-17T07:24:18.360Z"
   },
   {
    "duration": 534,
    "start_time": "2022-01-17T07:24:18.370Z"
   },
   {
    "duration": 446,
    "start_time": "2022-01-17T07:24:18.907Z"
   },
   {
    "duration": 405,
    "start_time": "2022-01-17T07:24:19.359Z"
   },
   {
    "duration": 513,
    "start_time": "2022-01-17T07:24:19.767Z"
   },
   {
    "duration": 229,
    "start_time": "2022-01-17T07:24:20.283Z"
   },
   {
    "duration": 352,
    "start_time": "2022-01-17T07:24:20.515Z"
   },
   {
    "duration": 482,
    "start_time": "2022-01-17T07:24:20.870Z"
   },
   {
    "duration": 341,
    "start_time": "2022-01-17T07:24:21.355Z"
   },
   {
    "duration": 355,
    "start_time": "2022-01-17T07:24:21.698Z"
   },
   {
    "duration": 156,
    "start_time": "2022-01-17T07:24:22.065Z"
   },
   {
    "duration": 3,
    "start_time": "2022-01-17T07:24:22.223Z"
   },
   {
    "duration": 346,
    "start_time": "2022-01-17T07:24:22.229Z"
   },
   {
    "duration": 322,
    "start_time": "2022-01-17T07:24:22.577Z"
   },
   {
    "duration": 320,
    "start_time": "2022-01-17T07:24:22.901Z"
   },
   {
    "duration": 4,
    "start_time": "2022-01-17T07:24:23.223Z"
   },
   {
    "duration": 30,
    "start_time": "2022-01-17T07:24:23.229Z"
   },
   {
    "duration": 311,
    "start_time": "2022-01-17T07:24:23.262Z"
   },
   {
    "duration": 317,
    "start_time": "2022-01-17T07:24:23.575Z"
   },
   {
    "duration": 299,
    "start_time": "2022-01-17T07:24:23.894Z"
   },
   {
    "duration": 6,
    "start_time": "2022-01-17T07:24:24.196Z"
   },
   {
    "duration": 9,
    "start_time": "2022-01-17T07:24:24.205Z"
   },
   {
    "duration": 42,
    "start_time": "2022-01-17T07:24:24.217Z"
   },
   {
    "duration": 46,
    "start_time": "2022-01-17T07:24:24.262Z"
   },
   {
    "duration": 8,
    "start_time": "2022-01-17T07:24:24.311Z"
   },
   {
    "duration": 43,
    "start_time": "2022-01-17T07:24:24.322Z"
   },
   {
    "duration": 14,
    "start_time": "2022-01-17T07:24:24.368Z"
   },
   {
    "duration": 17,
    "start_time": "2022-01-17T07:24:24.385Z"
   },
   {
    "duration": 15,
    "start_time": "2022-01-17T07:24:24.405Z"
   },
   {
    "duration": 21,
    "start_time": "2022-01-17T07:24:24.423Z"
   },
   {
    "duration": 1822,
    "start_time": "2022-01-17T10:18:29.350Z"
   },
   {
    "duration": 1288,
    "start_time": "2022-01-17T10:18:49.395Z"
   },
   {
    "duration": 1676,
    "start_time": "2022-01-17T10:19:25.120Z"
   },
   {
    "duration": 1311,
    "start_time": "2022-01-17T10:20:17.256Z"
   },
   {
    "duration": 1584,
    "start_time": "2022-01-17T10:20:51.393Z"
   },
   {
    "duration": 111,
    "start_time": "2022-01-17T10:21:08.808Z"
   },
   {
    "duration": 1674,
    "start_time": "2022-01-17T10:21:17.728Z"
   },
   {
    "duration": 1679,
    "start_time": "2022-01-17T10:21:30.632Z"
   },
   {
    "duration": 1658,
    "start_time": "2022-01-17T10:21:47.967Z"
   },
   {
    "duration": 118,
    "start_time": "2022-01-17T10:22:08.193Z"
   },
   {
    "duration": 1324,
    "start_time": "2022-01-17T10:22:20.750Z"
   },
   {
    "duration": 1339,
    "start_time": "2022-01-17T10:22:47.295Z"
   },
   {
    "duration": 242,
    "start_time": "2022-01-17T10:30:28.040Z"
   },
   {
    "duration": 370,
    "start_time": "2022-01-17T10:37:52.512Z"
   },
   {
    "duration": 363,
    "start_time": "2022-01-17T10:38:06.088Z"
   },
   {
    "duration": 112,
    "start_time": "2022-01-17T10:38:17.264Z"
   },
   {
    "duration": 92,
    "start_time": "2022-01-17T10:46:23.122Z"
   },
   {
    "duration": 13,
    "start_time": "2022-01-17T10:47:23.371Z"
   },
   {
    "duration": 110,
    "start_time": "2022-01-17T10:49:43.265Z"
   },
   {
    "duration": 106,
    "start_time": "2022-01-17T10:49:50.562Z"
   },
   {
    "duration": 12,
    "start_time": "2022-01-17T10:50:01.620Z"
   },
   {
    "duration": 7,
    "start_time": "2022-01-17T10:52:11.786Z"
   },
   {
    "duration": 10,
    "start_time": "2022-01-17T10:53:00.516Z"
   },
   {
    "duration": 34,
    "start_time": "2022-01-17T10:53:32.120Z"
   },
   {
    "duration": 36,
    "start_time": "2022-01-17T10:53:57.187Z"
   },
   {
    "duration": 12,
    "start_time": "2022-01-17T10:54:11.398Z"
   },
   {
    "duration": 12,
    "start_time": "2022-01-17T10:59:33.154Z"
   },
   {
    "duration": 17,
    "start_time": "2022-01-17T10:59:45.180Z"
   },
   {
    "duration": 21,
    "start_time": "2022-01-17T11:00:52.346Z"
   },
   {
    "duration": 8,
    "start_time": "2022-01-17T11:06:47.313Z"
   },
   {
    "duration": 30,
    "start_time": "2022-01-17T11:06:48.883Z"
   },
   {
    "duration": 5048,
    "start_time": "2022-01-17T11:06:51.937Z"
   },
   {
    "duration": 5,
    "start_time": "2022-01-17T11:10:59.365Z"
   },
   {
    "duration": 67,
    "start_time": "2022-01-17T11:11:10.775Z"
   },
   {
    "duration": 5,
    "start_time": "2022-01-17T11:11:15.163Z"
   },
   {
    "duration": 436,
    "start_time": "2022-01-17T11:11:20.170Z"
   },
   {
    "duration": 624,
    "start_time": "2022-01-17T11:11:58.618Z"
   },
   {
    "duration": 415,
    "start_time": "2022-01-17T11:12:20.971Z"
   },
   {
    "duration": 481,
    "start_time": "2022-01-17T11:12:29.464Z"
   },
   {
    "duration": 311,
    "start_time": "2022-01-17T11:12:35.319Z"
   },
   {
    "duration": 8,
    "start_time": "2022-01-17T11:12:45.220Z"
   },
   {
    "duration": 293,
    "start_time": "2022-01-17T11:12:50.049Z"
   },
   {
    "duration": 300,
    "start_time": "2022-01-17T11:18:42.995Z"
   },
   {
    "duration": 631,
    "start_time": "2022-01-17T11:19:32.896Z"
   },
   {
    "duration": 2219,
    "start_time": "2022-01-17T11:20:04.685Z"
   },
   {
    "duration": 315,
    "start_time": "2022-01-17T11:20:44.764Z"
   },
   {
    "duration": 298,
    "start_time": "2022-01-17T11:20:52.136Z"
   },
   {
    "duration": 348,
    "start_time": "2022-01-17T11:23:03.595Z"
   },
   {
    "duration": 975,
    "start_time": "2022-01-17T11:24:18.647Z"
   },
   {
    "duration": 722,
    "start_time": "2022-01-17T11:28:08.062Z"
   },
   {
    "duration": 901,
    "start_time": "2022-01-17T11:28:41.283Z"
   },
   {
    "duration": 874,
    "start_time": "2022-01-17T11:30:43.236Z"
   },
   {
    "duration": 328,
    "start_time": "2022-01-17T11:31:09.780Z"
   },
   {
    "duration": 466,
    "start_time": "2022-01-17T11:32:21.198Z"
   },
   {
    "duration": 762,
    "start_time": "2022-01-17T11:32:34.842Z"
   },
   {
    "duration": 460,
    "start_time": "2022-01-17T11:34:20.968Z"
   },
   {
    "duration": 332,
    "start_time": "2022-01-17T11:43:16.992Z"
   },
   {
    "duration": 313,
    "start_time": "2022-01-17T11:49:55.914Z"
   },
   {
    "duration": 781,
    "start_time": "2022-01-17T11:50:37.809Z"
   },
   {
    "duration": 957,
    "start_time": "2022-01-17T11:51:18.622Z"
   },
   {
    "duration": 791,
    "start_time": "2022-01-17T11:51:31.022Z"
   },
   {
    "duration": 996,
    "start_time": "2022-01-17T11:52:00.729Z"
   },
   {
    "duration": 1080,
    "start_time": "2022-01-17T11:52:30.827Z"
   },
   {
    "duration": 740,
    "start_time": "2022-01-17T11:52:47.498Z"
   },
   {
    "duration": 773,
    "start_time": "2022-01-17T11:53:02.528Z"
   },
   {
    "duration": 320,
    "start_time": "2022-01-17T16:00:27.306Z"
   },
   {
    "duration": 1339,
    "start_time": "2022-01-17T16:00:42.279Z"
   },
   {
    "duration": 41,
    "start_time": "2022-01-17T16:00:43.621Z"
   },
   {
    "duration": 10,
    "start_time": "2022-01-17T16:00:43.665Z"
   },
   {
    "duration": 12,
    "start_time": "2022-01-17T16:00:43.678Z"
   },
   {
    "duration": 11,
    "start_time": "2022-01-17T16:00:43.693Z"
   },
   {
    "duration": 220,
    "start_time": "2022-01-17T16:00:43.732Z"
   },
   {
    "duration": 27,
    "start_time": "2022-01-17T16:00:43.955Z"
   },
   {
    "duration": 144,
    "start_time": "2022-01-17T16:00:43.986Z"
   },
   {
    "duration": 19,
    "start_time": "2022-01-17T16:00:44.133Z"
   },
   {
    "duration": 200,
    "start_time": "2022-01-17T16:00:44.155Z"
   },
   {
    "duration": 25,
    "start_time": "2022-01-17T16:00:44.358Z"
   },
   {
    "duration": 29,
    "start_time": "2022-01-17T16:00:44.386Z"
   },
   {
    "duration": 9,
    "start_time": "2022-01-17T16:00:44.432Z"
   },
   {
    "duration": 9,
    "start_time": "2022-01-17T16:00:44.443Z"
   },
   {
    "duration": 20,
    "start_time": "2022-01-17T16:00:44.455Z"
   },
   {
    "duration": 15,
    "start_time": "2022-01-17T16:00:44.477Z"
   },
   {
    "duration": 57,
    "start_time": "2022-01-17T16:00:44.533Z"
   },
   {
    "duration": 55,
    "start_time": "2022-01-17T16:00:44.592Z"
   },
   {
    "duration": 53,
    "start_time": "2022-01-17T16:00:44.649Z"
   },
   {
    "duration": 1373,
    "start_time": "2022-01-17T16:00:44.705Z"
   },
   {
    "duration": 170,
    "start_time": "2022-01-17T16:00:46.081Z"
   },
   {
    "duration": 28,
    "start_time": "2022-01-17T16:00:46.254Z"
   },
   {
    "duration": 8,
    "start_time": "2022-01-17T16:00:46.290Z"
   },
   {
    "duration": 886,
    "start_time": "2022-01-17T16:00:46.333Z"
   },
   {
    "duration": 59,
    "start_time": "2022-01-17T16:00:47.233Z"
   },
   {
    "duration": 1021,
    "start_time": "2022-01-17T16:00:47.295Z"
   },
   {
    "duration": 73,
    "start_time": "2022-01-17T16:00:48.319Z"
   },
   {
    "duration": 48,
    "start_time": "2022-01-17T16:00:48.395Z"
   },
   {
    "duration": 91,
    "start_time": "2022-01-17T16:00:48.446Z"
   },
   {
    "duration": 115,
    "start_time": "2022-01-17T16:00:48.540Z"
   },
   {
    "duration": 15,
    "start_time": "2022-01-17T16:00:48.658Z"
   },
   {
    "duration": 11,
    "start_time": "2022-01-17T16:00:48.676Z"
   },
   {
    "duration": 63,
    "start_time": "2022-01-17T16:00:48.690Z"
   },
   {
    "duration": 10,
    "start_time": "2022-01-17T16:00:48.756Z"
   },
   {
    "duration": 75,
    "start_time": "2022-01-17T16:00:48.768Z"
   },
   {
    "duration": 5310,
    "start_time": "2022-01-17T16:00:48.846Z"
   },
   {
    "duration": 3,
    "start_time": "2022-01-17T16:00:54.158Z"
   },
   {
    "duration": 99,
    "start_time": "2022-01-17T16:00:54.164Z"
   },
   {
    "duration": 5,
    "start_time": "2022-01-17T16:00:54.265Z"
   },
   {
    "duration": 790,
    "start_time": "2022-01-17T16:00:54.272Z"
   },
   {
    "duration": 780,
    "start_time": "2022-01-17T16:00:55.065Z"
   },
   {
    "duration": 764,
    "start_time": "2022-01-17T16:00:55.848Z"
   },
   {
    "duration": 844,
    "start_time": "2022-01-17T16:00:56.615Z"
   },
   {
    "duration": 274,
    "start_time": "2022-01-17T16:00:57.463Z"
   },
   {
    "duration": 340,
    "start_time": "2022-01-17T16:00:57.739Z"
   },
   {
    "duration": 357,
    "start_time": "2022-01-17T16:00:58.081Z"
   },
   {
    "duration": 371,
    "start_time": "2022-01-17T16:00:58.442Z"
   },
   {
    "duration": 362,
    "start_time": "2022-01-17T16:00:58.815Z"
   },
   {
    "duration": 153,
    "start_time": "2022-01-17T16:00:59.179Z"
   },
   {
    "duration": 3,
    "start_time": "2022-01-17T16:00:59.334Z"
   },
   {
    "duration": 347,
    "start_time": "2022-01-17T16:00:59.339Z"
   },
   {
    "duration": 312,
    "start_time": "2022-01-17T16:00:59.688Z"
   },
   {
    "duration": 332,
    "start_time": "2022-01-17T16:01:00.003Z"
   },
   {
    "duration": 4,
    "start_time": "2022-01-17T16:01:00.338Z"
   },
   {
    "duration": 22,
    "start_time": "2022-01-17T16:01:00.345Z"
   },
   {
    "duration": 301,
    "start_time": "2022-01-17T16:01:00.370Z"
   },
   {
    "duration": 317,
    "start_time": "2022-01-17T16:01:00.674Z"
   },
   {
    "duration": 375,
    "start_time": "2022-01-17T16:01:00.994Z"
   },
   {
    "duration": 84,
    "start_time": "2022-01-17T16:01:01.372Z"
   },
   {
    "duration": 5,
    "start_time": "2022-01-17T16:01:01.460Z"
   },
   {
    "duration": 423,
    "start_time": "2022-01-17T16:01:01.468Z"
   },
   {
    "duration": 429,
    "start_time": "2022-01-17T16:01:01.893Z"
   },
   {
    "duration": 425,
    "start_time": "2022-01-17T16:01:02.332Z"
   },
   {
    "duration": 402,
    "start_time": "2022-01-17T16:01:02.759Z"
   },
   {
    "duration": 240,
    "start_time": "2022-01-17T16:01:03.164Z"
   },
   {
    "duration": 351,
    "start_time": "2022-01-17T16:01:03.406Z"
   },
   {
    "duration": 350,
    "start_time": "2022-01-17T16:01:03.759Z"
   },
   {
    "duration": 335,
    "start_time": "2022-01-17T16:01:04.117Z"
   },
   {
    "duration": 361,
    "start_time": "2022-01-17T16:01:04.455Z"
   },
   {
    "duration": 177,
    "start_time": "2022-01-17T16:01:04.818Z"
   },
   {
    "duration": 4,
    "start_time": "2022-01-17T16:01:04.997Z"
   },
   {
    "duration": 350,
    "start_time": "2022-01-17T16:01:05.003Z"
   },
   {
    "duration": 311,
    "start_time": "2022-01-17T16:01:05.355Z"
   },
   {
    "duration": 432,
    "start_time": "2022-01-17T16:01:05.669Z"
   },
   {
    "duration": 4,
    "start_time": "2022-01-17T16:01:06.103Z"
   },
   {
    "duration": 29,
    "start_time": "2022-01-17T16:01:06.109Z"
   },
   {
    "duration": 297,
    "start_time": "2022-01-17T16:01:06.141Z"
   },
   {
    "duration": 328,
    "start_time": "2022-01-17T16:01:06.440Z"
   },
   {
    "duration": 298,
    "start_time": "2022-01-17T16:01:06.771Z"
   },
   {
    "duration": 8,
    "start_time": "2022-01-17T16:01:07.071Z"
   },
   {
    "duration": 16,
    "start_time": "2022-01-17T16:01:07.081Z"
   },
   {
    "duration": 6,
    "start_time": "2022-01-17T16:01:07.100Z"
   },
   {
    "duration": 56,
    "start_time": "2022-01-17T16:01:07.109Z"
   },
   {
    "duration": 6,
    "start_time": "2022-01-17T16:01:07.167Z"
   },
   {
    "duration": 14,
    "start_time": "2022-01-17T16:01:07.175Z"
   },
   {
    "duration": 8,
    "start_time": "2022-01-17T16:01:07.192Z"
   },
   {
    "duration": 32,
    "start_time": "2022-01-17T16:01:07.202Z"
   },
   {
    "duration": 13,
    "start_time": "2022-01-17T16:01:07.236Z"
   },
   {
    "duration": 9,
    "start_time": "2022-01-17T16:01:07.251Z"
   },
   {
    "duration": 705,
    "start_time": "2022-01-17T16:01:59.543Z"
   },
   {
    "duration": 337,
    "start_time": "2022-01-17T16:02:06.133Z"
   },
   {
    "duration": 331,
    "start_time": "2022-01-17T16:07:56.774Z"
   },
   {
    "duration": 337,
    "start_time": "2022-01-17T16:08:51.558Z"
   },
   {
    "duration": 454,
    "start_time": "2022-01-17T16:09:27.758Z"
   },
   {
    "duration": 7188,
    "start_time": "2022-01-17T16:14:59.713Z"
   },
   {
    "duration": 7,
    "start_time": "2022-01-17T16:15:33.796Z"
   },
   {
    "duration": 7,
    "start_time": "2022-01-17T16:19:07.221Z"
   },
   {
    "duration": 6543,
    "start_time": "2022-01-17T16:19:37.829Z"
   },
   {
    "duration": 8,
    "start_time": "2022-01-17T16:19:53.621Z"
   },
   {
    "duration": 12,
    "start_time": "2022-01-17T16:22:09.420Z"
   },
   {
    "duration": 16,
    "start_time": "2022-01-17T16:25:02.180Z"
   },
   {
    "duration": 15,
    "start_time": "2022-01-17T16:27:02.404Z"
   },
   {
    "duration": 320,
    "start_time": "2022-01-17T16:28:45.930Z"
   },
   {
    "duration": 6,
    "start_time": "2022-01-17T16:30:14.322Z"
   },
   {
    "duration": 9,
    "start_time": "2022-01-17T16:34:29.329Z"
   },
   {
    "duration": 10,
    "start_time": "2022-01-17T16:35:18.147Z"
   },
   {
    "duration": 12,
    "start_time": "2022-01-17T16:36:20.899Z"
   },
   {
    "duration": 280,
    "start_time": "2022-01-17T16:41:00.328Z"
   },
   {
    "duration": 12,
    "start_time": "2022-01-17T16:41:07.685Z"
   },
   {
    "duration": 13,
    "start_time": "2022-01-17T16:41:19.200Z"
   },
   {
    "duration": 8,
    "start_time": "2022-01-17T16:42:04.936Z"
   },
   {
    "duration": 257,
    "start_time": "2022-01-17T16:42:13.678Z"
   },
   {
    "duration": 14,
    "start_time": "2022-01-17T16:42:21.740Z"
   },
   {
    "duration": 3,
    "start_time": "2022-01-17T16:57:33.579Z"
   },
   {
    "duration": 4,
    "start_time": "2022-01-17T16:57:37.195Z"
   },
   {
    "duration": 3,
    "start_time": "2022-01-17T16:57:39.355Z"
   },
   {
    "duration": 3,
    "start_time": "2022-01-17T16:58:08.668Z"
   },
   {
    "duration": 3,
    "start_time": "2022-01-17T16:58:10.730Z"
   },
   {
    "duration": 3,
    "start_time": "2022-01-17T16:58:12.322Z"
   },
   {
    "duration": 68,
    "start_time": "2022-01-17T17:01:01.181Z"
   },
   {
    "duration": 6,
    "start_time": "2022-01-17T17:01:05.667Z"
   },
   {
    "duration": 711,
    "start_time": "2022-01-17T17:02:16.258Z"
   },
   {
    "duration": 843,
    "start_time": "2022-01-17T17:03:14.019Z"
   },
   {
    "duration": 738,
    "start_time": "2022-01-17T17:03:47.820Z"
   },
   {
    "duration": 733,
    "start_time": "2022-01-17T17:04:34.634Z"
   },
   {
    "duration": 709,
    "start_time": "2022-01-17T17:05:29.579Z"
   },
   {
    "duration": 736,
    "start_time": "2022-01-17T17:06:48.282Z"
   },
   {
    "duration": 698,
    "start_time": "2022-01-17T17:07:46.939Z"
   },
   {
    "duration": 425,
    "start_time": "2022-01-17T17:09:17.107Z"
   },
   {
    "duration": 379,
    "start_time": "2022-01-17T17:10:22.427Z"
   },
   {
    "duration": 333,
    "start_time": "2022-01-17T17:11:11.451Z"
   },
   {
    "duration": 335,
    "start_time": "2022-01-17T17:11:46.060Z"
   },
   {
    "duration": 164,
    "start_time": "2022-01-17T17:14:20.323Z"
   },
   {
    "duration": 15,
    "start_time": "2022-01-17T17:15:09.418Z"
   },
   {
    "duration": 4,
    "start_time": "2022-01-17T17:16:23.059Z"
   },
   {
    "duration": 4,
    "start_time": "2022-01-17T17:16:24.897Z"
   },
   {
    "duration": 12,
    "start_time": "2022-01-17T17:16:26.905Z"
   },
   {
    "duration": 5,
    "start_time": "2022-01-17T17:17:48.769Z"
   },
   {
    "duration": 13,
    "start_time": "2022-01-17T17:17:50.043Z"
   },
   {
    "duration": 12,
    "start_time": "2022-01-17T17:19:40.569Z"
   },
   {
    "duration": 3,
    "start_time": "2022-01-17T17:22:03.985Z"
   },
   {
    "duration": 3,
    "start_time": "2022-01-17T17:22:05.586Z"
   },
   {
    "duration": 4,
    "start_time": "2022-01-17T17:22:07.151Z"
   },
   {
    "duration": 12,
    "start_time": "2022-01-17T18:05:48.550Z"
   },
   {
    "duration": 1386,
    "start_time": "2022-01-17T19:07:23.798Z"
   },
   {
    "duration": 41,
    "start_time": "2022-01-17T19:07:25.186Z"
   },
   {
    "duration": 9,
    "start_time": "2022-01-17T19:07:25.230Z"
   },
   {
    "duration": 16,
    "start_time": "2022-01-17T19:07:25.242Z"
   },
   {
    "duration": 16,
    "start_time": "2022-01-17T19:07:25.261Z"
   },
   {
    "duration": 349,
    "start_time": "2022-01-17T19:07:25.280Z"
   },
   {
    "duration": 28,
    "start_time": "2022-01-17T19:07:25.633Z"
   },
   {
    "duration": 137,
    "start_time": "2022-01-17T19:07:25.665Z"
   },
   {
    "duration": 18,
    "start_time": "2022-01-17T19:07:25.805Z"
   },
   {
    "duration": 185,
    "start_time": "2022-01-17T19:07:25.834Z"
   },
   {
    "duration": 25,
    "start_time": "2022-01-17T19:07:26.022Z"
   },
   {
    "duration": 23,
    "start_time": "2022-01-17T19:07:26.050Z"
   },
   {
    "duration": 11,
    "start_time": "2022-01-17T19:07:26.075Z"
   },
   {
    "duration": 7,
    "start_time": "2022-01-17T19:07:26.089Z"
   },
   {
    "duration": 48,
    "start_time": "2022-01-17T19:07:26.099Z"
   },
   {
    "duration": 15,
    "start_time": "2022-01-17T19:07:26.150Z"
   },
   {
    "duration": 136,
    "start_time": "2022-01-17T19:07:26.168Z"
   },
   {
    "duration": 69,
    "start_time": "2022-01-17T19:07:26.308Z"
   },
   {
    "duration": 98,
    "start_time": "2022-01-17T19:07:26.380Z"
   },
   {
    "duration": 1440,
    "start_time": "2022-01-17T19:07:26.480Z"
   },
   {
    "duration": 183,
    "start_time": "2022-01-17T19:07:27.932Z"
   },
   {
    "duration": 37,
    "start_time": "2022-01-17T19:07:28.117Z"
   },
   {
    "duration": 8,
    "start_time": "2022-01-17T19:07:28.162Z"
   },
   {
    "duration": 905,
    "start_time": "2022-01-17T19:07:28.176Z"
   },
   {
    "duration": 76,
    "start_time": "2022-01-17T19:07:29.084Z"
   },
   {
    "duration": 1033,
    "start_time": "2022-01-17T19:07:29.163Z"
   },
   {
    "duration": 77,
    "start_time": "2022-01-17T19:07:30.199Z"
   },
   {
    "duration": 31,
    "start_time": "2022-01-17T19:07:30.279Z"
   },
   {
    "duration": 81,
    "start_time": "2022-01-17T19:07:30.313Z"
   },
   {
    "duration": 116,
    "start_time": "2022-01-17T19:07:30.396Z"
   },
   {
    "duration": 26,
    "start_time": "2022-01-17T19:07:30.515Z"
   },
   {
    "duration": 11,
    "start_time": "2022-01-17T19:07:30.543Z"
   },
   {
    "duration": 26,
    "start_time": "2022-01-17T19:07:30.557Z"
   },
   {
    "duration": 9,
    "start_time": "2022-01-17T19:07:30.634Z"
   },
   {
    "duration": 39,
    "start_time": "2022-01-17T19:07:30.646Z"
   },
   {
    "duration": 5094,
    "start_time": "2022-01-17T19:07:30.688Z"
   },
   {
    "duration": 3,
    "start_time": "2022-01-17T19:07:35.785Z"
   },
   {
    "duration": 92,
    "start_time": "2022-01-17T19:07:35.791Z"
   },
   {
    "duration": 5,
    "start_time": "2022-01-17T19:07:35.885Z"
   },
   {
    "duration": 795,
    "start_time": "2022-01-17T19:07:35.892Z"
   },
   {
    "duration": 789,
    "start_time": "2022-01-17T19:07:36.689Z"
   },
   {
    "duration": 833,
    "start_time": "2022-01-17T19:07:37.481Z"
   },
   {
    "duration": 839,
    "start_time": "2022-01-17T19:07:38.317Z"
   },
   {
    "duration": 258,
    "start_time": "2022-01-17T19:07:39.158Z"
   },
   {
    "duration": 347,
    "start_time": "2022-01-17T19:07:39.419Z"
   },
   {
    "duration": 352,
    "start_time": "2022-01-17T19:07:39.769Z"
   },
   {
    "duration": 364,
    "start_time": "2022-01-17T19:07:40.123Z"
   },
   {
    "duration": 360,
    "start_time": "2022-01-17T19:07:40.490Z"
   },
   {
    "duration": 144,
    "start_time": "2022-01-17T19:07:40.852Z"
   },
   {
    "duration": 12,
    "start_time": "2022-01-17T19:07:40.998Z"
   },
   {
    "duration": 20,
    "start_time": "2022-01-17T19:07:41.013Z"
   },
   {
    "duration": 7,
    "start_time": "2022-01-17T19:07:41.035Z"
   },
   {
    "duration": 6,
    "start_time": "2022-01-17T19:07:41.045Z"
   },
   {
    "duration": 6,
    "start_time": "2022-01-17T19:07:41.053Z"
   },
   {
    "duration": 8,
    "start_time": "2022-01-17T19:07:41.061Z"
   },
   {
    "duration": 6,
    "start_time": "2022-01-17T19:07:41.072Z"
   },
   {
    "duration": 17,
    "start_time": "2022-01-17T19:07:41.080Z"
   },
   {
    "duration": 15,
    "start_time": "2022-01-17T19:07:41.133Z"
   },
   {
    "duration": 3,
    "start_time": "2022-01-17T19:07:41.151Z"
   },
   {
    "duration": 6,
    "start_time": "2022-01-17T19:07:41.157Z"
   },
   {
    "duration": 5,
    "start_time": "2022-01-17T19:07:41.166Z"
   },
   {
    "duration": 7,
    "start_time": "2022-01-17T19:07:41.173Z"
   },
   {
    "duration": 111,
    "start_time": "2022-01-17T19:07:41.231Z"
   },
   {
    "duration": 6,
    "start_time": "2022-01-17T19:07:41.345Z"
   },
   {
    "duration": 817,
    "start_time": "2022-01-17T19:07:41.353Z"
   },
   {
    "duration": 788,
    "start_time": "2022-01-17T19:07:42.172Z"
   },
   {
    "duration": 801,
    "start_time": "2022-01-17T19:07:42.962Z"
   },
   {
    "duration": 753,
    "start_time": "2022-01-17T19:07:43.772Z"
   },
   {
    "duration": 238,
    "start_time": "2022-01-17T19:07:44.528Z"
   },
   {
    "duration": 347,
    "start_time": "2022-01-17T19:07:44.769Z"
   },
   {
    "duration": 353,
    "start_time": "2022-01-17T19:07:45.118Z"
   },
   {
    "duration": 333,
    "start_time": "2022-01-17T19:07:45.474Z"
   },
   {
    "duration": 362,
    "start_time": "2022-01-17T19:07:45.809Z"
   },
   {
    "duration": 161,
    "start_time": "2022-01-17T19:07:46.173Z"
   },
   {
    "duration": 12,
    "start_time": "2022-01-17T19:07:46.336Z"
   },
   {
    "duration": 3,
    "start_time": "2022-01-17T19:07:46.351Z"
   },
   {
    "duration": 5,
    "start_time": "2022-01-17T19:07:46.356Z"
   },
   {
    "duration": 5,
    "start_time": "2022-01-17T19:07:46.363Z"
   },
   {
    "duration": 5,
    "start_time": "2022-01-17T19:07:46.371Z"
   },
   {
    "duration": 53,
    "start_time": "2022-01-17T19:07:46.379Z"
   },
   {
    "duration": 7,
    "start_time": "2022-01-17T19:07:46.434Z"
   },
   {
    "duration": 14,
    "start_time": "2022-01-17T19:07:46.443Z"
   },
   {
    "duration": 11,
    "start_time": "2022-01-17T19:07:46.459Z"
   },
   {
    "duration": 3,
    "start_time": "2022-01-17T19:07:46.473Z"
   },
   {
    "duration": 56,
    "start_time": "2022-01-17T19:07:46.478Z"
   },
   {
    "duration": 12,
    "start_time": "2022-01-17T19:07:46.537Z"
   },
   {
    "duration": 6,
    "start_time": "2022-01-17T19:07:46.551Z"
   },
   {
    "duration": 10,
    "start_time": "2022-01-17T19:07:46.560Z"
   },
   {
    "duration": 7,
    "start_time": "2022-01-17T19:07:46.573Z"
   },
   {
    "duration": 54,
    "start_time": "2022-01-17T19:07:46.583Z"
   },
   {
    "duration": 40,
    "start_time": "2022-01-17T19:07:46.639Z"
   },
   {
    "duration": 6,
    "start_time": "2022-01-17T19:07:46.681Z"
   },
   {
    "duration": 10,
    "start_time": "2022-01-17T19:07:46.689Z"
   },
   {
    "duration": 31,
    "start_time": "2022-01-17T19:07:46.702Z"
   },
   {
    "duration": 10,
    "start_time": "2022-01-17T19:07:46.737Z"
   },
   {
    "duration": 14,
    "start_time": "2022-01-17T19:07:46.749Z"
   },
   {
    "duration": 15,
    "start_time": "2022-01-17T19:07:46.766Z"
   },
   {
    "duration": 1239,
    "start_time": "2022-06-21T04:42:54.249Z"
   },
   {
    "duration": 94,
    "start_time": "2022-06-21T04:42:55.490Z"
   },
   {
    "duration": 12,
    "start_time": "2022-06-21T04:42:55.586Z"
   },
   {
    "duration": 31,
    "start_time": "2022-06-21T04:42:55.600Z"
   },
   {
    "duration": 29,
    "start_time": "2022-06-21T04:42:55.632Z"
   },
   {
    "duration": 259,
    "start_time": "2022-06-21T04:42:55.663Z"
   },
   {
    "duration": 25,
    "start_time": "2022-06-21T04:42:55.924Z"
   },
   {
    "duration": 311,
    "start_time": "2022-06-21T04:42:55.950Z"
   },
   {
    "duration": 17,
    "start_time": "2022-06-21T04:42:56.263Z"
   },
   {
    "duration": 339,
    "start_time": "2022-06-21T04:42:56.283Z"
   },
   {
    "duration": 28,
    "start_time": "2022-06-21T04:42:56.630Z"
   },
   {
    "duration": 83,
    "start_time": "2022-06-21T04:42:56.660Z"
   },
   {
    "duration": 13,
    "start_time": "2022-06-21T04:42:56.745Z"
   },
   {
    "duration": 23,
    "start_time": "2022-06-21T04:42:56.760Z"
   },
   {
    "duration": 29,
    "start_time": "2022-06-21T04:42:56.785Z"
   },
   {
    "duration": 28,
    "start_time": "2022-06-21T04:42:56.816Z"
   },
   {
    "duration": 72,
    "start_time": "2022-06-21T04:42:56.846Z"
   },
   {
    "duration": 28,
    "start_time": "2022-06-21T04:42:56.920Z"
   },
   {
    "duration": 42,
    "start_time": "2022-06-21T04:42:56.950Z"
   },
   {
    "duration": 783,
    "start_time": "2022-06-21T04:42:56.994Z"
   },
   {
    "duration": 129,
    "start_time": "2022-06-21T04:42:57.779Z"
   },
   {
    "duration": 22,
    "start_time": "2022-06-21T04:42:57.910Z"
   },
   {
    "duration": 9,
    "start_time": "2022-06-21T04:42:57.934Z"
   },
   {
    "duration": 463,
    "start_time": "2022-06-21T04:42:57.945Z"
   },
   {
    "duration": 57,
    "start_time": "2022-06-21T04:42:58.410Z"
   },
   {
    "duration": 553,
    "start_time": "2022-06-21T04:42:58.469Z"
   },
   {
    "duration": 44,
    "start_time": "2022-06-21T04:42:59.027Z"
   },
   {
    "duration": 16,
    "start_time": "2022-06-21T04:42:59.075Z"
   },
   {
    "duration": 54,
    "start_time": "2022-06-21T04:42:59.092Z"
   },
   {
    "duration": 81,
    "start_time": "2022-06-21T04:42:59.148Z"
   },
   {
    "duration": 12,
    "start_time": "2022-06-21T04:42:59.231Z"
   },
   {
    "duration": 8,
    "start_time": "2022-06-21T04:42:59.245Z"
   },
   {
    "duration": 18,
    "start_time": "2022-06-21T04:42:59.254Z"
   },
   {
    "duration": 6,
    "start_time": "2022-06-21T04:42:59.274Z"
   },
   {
    "duration": 60,
    "start_time": "2022-06-21T04:42:59.281Z"
   },
   {
    "duration": 1998,
    "start_time": "2022-06-21T04:42:59.343Z"
   },
   {
    "duration": 48,
    "start_time": "2022-06-21T04:43:01.342Z"
   },
   {
    "duration": 3,
    "start_time": "2022-06-21T04:43:01.392Z"
   },
   {
    "duration": 418,
    "start_time": "2022-06-21T04:43:01.397Z"
   },
   {
    "duration": 297,
    "start_time": "2022-06-21T04:43:01.817Z"
   },
   {
    "duration": 301,
    "start_time": "2022-06-21T04:43:02.115Z"
   },
   {
    "duration": 294,
    "start_time": "2022-06-21T04:43:02.418Z"
   },
   {
    "duration": 173,
    "start_time": "2022-06-21T04:43:02.713Z"
   },
   {
    "duration": 179,
    "start_time": "2022-06-21T04:43:02.888Z"
   },
   {
    "duration": 186,
    "start_time": "2022-06-21T04:43:03.068Z"
   },
   {
    "duration": 189,
    "start_time": "2022-06-21T04:43:03.256Z"
   },
   {
    "duration": 196,
    "start_time": "2022-06-21T04:43:03.447Z"
   },
   {
    "duration": 50,
    "start_time": "2022-06-21T04:43:03.646Z"
   },
   {
    "duration": 10,
    "start_time": "2022-06-21T04:43:03.697Z"
   },
   {
    "duration": 28,
    "start_time": "2022-06-21T04:43:03.708Z"
   },
   {
    "duration": 17,
    "start_time": "2022-06-21T04:43:03.738Z"
   },
   {
    "duration": 16,
    "start_time": "2022-06-21T04:43:03.757Z"
   },
   {
    "duration": 52,
    "start_time": "2022-06-21T04:43:03.775Z"
   },
   {
    "duration": 4,
    "start_time": "2022-06-21T04:43:03.829Z"
   },
   {
    "duration": 296,
    "start_time": "2022-06-21T04:43:03.835Z"
   },
   {
    "duration": 277,
    "start_time": "2022-06-21T04:43:04.132Z"
   },
   {
    "duration": 285,
    "start_time": "2022-06-21T04:43:04.410Z"
   },
   {
    "duration": 364,
    "start_time": "2022-06-21T04:43:04.697Z"
   },
   {
    "duration": 112,
    "start_time": "2022-06-21T04:43:05.063Z"
   },
   {
    "duration": 180,
    "start_time": "2022-06-21T04:43:05.176Z"
   },
   {
    "duration": 190,
    "start_time": "2022-06-21T04:43:05.358Z"
   },
   {
    "duration": 207,
    "start_time": "2022-06-21T04:43:05.550Z"
   },
   {
    "duration": 203,
    "start_time": "2022-06-21T04:43:05.759Z"
   },
   {
    "duration": 51,
    "start_time": "2022-06-21T04:43:05.964Z"
   },
   {
    "duration": 10,
    "start_time": "2022-06-21T04:43:06.026Z"
   },
   {
    "duration": 4,
    "start_time": "2022-06-21T04:43:06.038Z"
   },
   {
    "duration": 11,
    "start_time": "2022-06-21T04:43:06.043Z"
   },
   {
    "duration": 13,
    "start_time": "2022-06-21T04:43:06.056Z"
   },
   {
    "duration": 7,
    "start_time": "2022-06-21T04:43:06.071Z"
   },
   {
    "duration": 8,
    "start_time": "2022-06-21T04:43:06.080Z"
   },
   {
    "duration": 40,
    "start_time": "2022-06-21T04:43:06.090Z"
   },
   {
    "duration": 24,
    "start_time": "2022-06-21T04:43:06.132Z"
   },
   {
    "duration": 5,
    "start_time": "2022-06-21T04:43:06.158Z"
   },
   {
    "duration": 8,
    "start_time": "2022-06-21T04:43:06.164Z"
   },
   {
    "duration": 11,
    "start_time": "2022-06-21T04:43:06.174Z"
   },
   {
    "duration": 7,
    "start_time": "2022-06-21T04:43:06.186Z"
   },
   {
    "duration": 33,
    "start_time": "2022-06-21T04:43:06.194Z"
   },
   {
    "duration": 6,
    "start_time": "2022-06-21T04:43:06.229Z"
   }
  ],
  "kernelspec": {
   "display_name": "Python 3 (ipykernel)",
   "language": "python",
   "name": "python3"
  },
  "language_info": {
   "codemirror_mode": {
    "name": "ipython",
    "version": 3
   },
   "file_extension": ".py",
   "mimetype": "text/x-python",
   "name": "python",
   "nbconvert_exporter": "python",
   "pygments_lexer": "ipython3",
   "version": "3.9.5"
  },
  "toc": {
   "base_numbering": 1,
   "nav_menu": {
    "height": "263px",
    "width": "347px"
   },
   "number_sections": true,
   "sideBar": true,
   "skip_h1_title": true,
   "title_cell": "Table of Contents",
   "title_sidebar": "Contents",
   "toc_cell": false,
   "toc_position": {
    "height": "calc(100% - 180px)",
    "left": "10px",
    "top": "150px",
    "width": "366.4px"
   },
   "toc_section_display": true,
   "toc_window_display": true
  }
 },
 "nbformat": 4,
 "nbformat_minor": 5
}
