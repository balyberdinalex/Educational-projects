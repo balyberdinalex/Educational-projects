{
 "cells": [
  {
   "cell_type": "markdown",
   "metadata": {},
   "source": [
    "# Исследование надёжности заёмщиков\n",
    "\n",
    "Заказчик — кредитный отдел банка. Нужно разобраться, влияет ли семейное положение и количество детей клиента на факт погашения кредита в срок. Входные данные от банка — статистика о платёжеспособности клиентов.\n",
    "\n",
    "Результаты исследования будут учтены при построении модели **кредитного скоринга** — специальной системы, которая оценивает способность потенциального заёмщика вернуть кредит банку."
   ]
  },
  {
   "cell_type": "markdown",
   "metadata": {},
   "source": [
    "## Шаг 1. Откройте файл с данными и изучите общую информацию"
   ]
  },
  {
   "cell_type": "code",
   "execution_count": 1,
   "metadata": {
    "scrolled": true
   },
   "outputs": [],
   "source": [
    "import pandas as pd# импорт библиотеки pandas\n",
    "data=pd.read_csv('/datasets/data.csv')# чтение файла с данными и сохранение в data\n",
    "data.head(10)# получение первых 10 строк таблицы data\n",
    "from pymystem3 import Mystem# подключим библиотеку с функцией лемматизации на русском языке\n",
    "from collections import Counter# подсчёт числа упоминаний слов в тексте\n",
    "m = Mystem() "
   ]
  },
  {
   "cell_type": "code",
   "execution_count": 2,
   "metadata": {
    "scrolled": true
   },
   "outputs": [
    {
     "name": "stdout",
     "output_type": "stream",
     "text": [
      "<class 'pandas.core.frame.DataFrame'>\n",
      "RangeIndex: 21525 entries, 0 to 21524\n",
      "Data columns (total 12 columns):\n",
      " #   Column            Non-Null Count  Dtype  \n",
      "---  ------            --------------  -----  \n",
      " 0   children          21525 non-null  int64  \n",
      " 1   days_employed     19351 non-null  float64\n",
      " 2   dob_years         21525 non-null  int64  \n",
      " 3   education         21525 non-null  object \n",
      " 4   education_id      21525 non-null  int64  \n",
      " 5   family_status     21525 non-null  object \n",
      " 6   family_status_id  21525 non-null  int64  \n",
      " 7   gender            21525 non-null  object \n",
      " 8   income_type       21525 non-null  object \n",
      " 9   debt              21525 non-null  int64  \n",
      " 10  total_income      19351 non-null  float64\n",
      " 11  purpose           21525 non-null  object \n",
      "dtypes: float64(2), int64(5), object(5)\n",
      "memory usage: 2.0+ MB\n"
     ]
    }
   ],
   "source": [
    "data.info()# получение общей информации о данных в таблице data"
   ]
  },
  {
   "cell_type": "markdown",
   "metadata": {},
   "source": [
    "**Описание данных**\n",
    "\n",
    "В таблице двенадцать столбцов\n",
    "\n",
    "* `userID` — идентификатор пользователя;\n",
    "* `children` - количество детей в семье;\n",
    "* `days_employed` - общий трудовой стаж в днях;\n",
    "* `dob_years` — возраст клиента в годах;\n",
    "* `education` — уровень образования клиента;\n",
    "* `education_id` — идентификатор уровня образования;\n",
    "* `family_status` — семейное положение;\n",
    "* `family_status_id` — идентификатор семейного положения;\n",
    "* `gender` — пол клиента;\n",
    "* `income_type` — тип занятости;\n",
    "* `debt` — имел ли задолженность по возврату кредитов;\n",
    "* `total_income` — ежемесячный доход;\n",
    "* `purpose` — цель получения кредита;\n",
    "\n",
    "Количество значений в столбцах различается. Значит, в данных есть пропущенные значения."
   ]
  },
  {
   "cell_type": "markdown",
   "metadata": {},
   "source": [
    "**Вывод**"
   ]
  },
  {
   "cell_type": "markdown",
   "metadata": {},
   "source": [
    "В каждой строке таблицы — данные о клиенте. Большая часть колонок описывает самого клиента. Остальные данные рассказывают о цели получения кредита. \n",
    "\n",
    "Предварительно можно утверждать, что, данных достаточно для проверки гипотез. Но встречаются пропуски в данных.\n",
    "\n",
    "Чтобы двигаться дальше, нужно устранить проблемы в данных."
   ]
  },
  {
   "cell_type": "markdown",
   "metadata": {},
   "source": [
    "## Шаг 2. Предобработка данных"
   ]
  },
  {
   "cell_type": "markdown",
   "metadata": {},
   "source": [
    "### Обработка пропусков"
   ]
  },
  {
   "cell_type": "code",
   "execution_count": 3,
   "metadata": {
    "scrolled": true
   },
   "outputs": [
    {
     "data": {
      "text/plain": [
       "children               0\n",
       "days_employed       2174\n",
       "dob_years              0\n",
       "education              0\n",
       "education_id           0\n",
       "family_status          0\n",
       "family_status_id       0\n",
       "gender                 0\n",
       "income_type            0\n",
       "debt                   0\n",
       "total_income        2174\n",
       "purpose                0\n",
       "dtype: int64"
      ]
     },
     "metadata": {},
     "output_type": "display_data"
    }
   ],
   "source": [
    "display(data.isna().sum()) # подсчёт пропусков"
   ]
  },
  {
   "cell_type": "code",
   "execution_count": 4,
   "metadata": {},
   "outputs": [
    {
     "data": {
      "text/plain": [
       "children            0.000000\n",
       "days_employed       0.100999\n",
       "dob_years           0.000000\n",
       "education           0.000000\n",
       "education_id        0.000000\n",
       "family_status       0.000000\n",
       "family_status_id    0.000000\n",
       "gender              0.000000\n",
       "income_type         0.000000\n",
       "debt                0.000000\n",
       "total_income        0.100999\n",
       "purpose             0.000000\n",
       "dtype: float64"
      ]
     },
     "metadata": {},
     "output_type": "display_data"
    }
   ],
   "source": [
    "display(data.isna().mean()) # подсчёт пропусков"
   ]
  },
  {
   "cell_type": "code",
   "execution_count": 5,
   "metadata": {},
   "outputs": [
    {
     "data": {
      "text/html": [
       "<div>\n",
       "<style scoped>\n",
       "    .dataframe tbody tr th:only-of-type {\n",
       "        vertical-align: middle;\n",
       "    }\n",
       "\n",
       "    .dataframe tbody tr th {\n",
       "        vertical-align: top;\n",
       "    }\n",
       "\n",
       "    .dataframe thead th {\n",
       "        text-align: right;\n",
       "    }\n",
       "</style>\n",
       "<table border=\"1\" class=\"dataframe\">\n",
       "  <thead>\n",
       "    <tr style=\"text-align: right;\">\n",
       "      <th></th>\n",
       "      <th>children</th>\n",
       "      <th>days_employed</th>\n",
       "      <th>dob_years</th>\n",
       "      <th>education</th>\n",
       "      <th>education_id</th>\n",
       "      <th>family_status</th>\n",
       "      <th>family_status_id</th>\n",
       "      <th>gender</th>\n",
       "      <th>income_type</th>\n",
       "      <th>debt</th>\n",
       "      <th>total_income</th>\n",
       "      <th>purpose</th>\n",
       "    </tr>\n",
       "  </thead>\n",
       "  <tbody>\n",
       "    <tr>\n",
       "      <th>12</th>\n",
       "      <td>0</td>\n",
       "      <td>NaN</td>\n",
       "      <td>65</td>\n",
       "      <td>среднее</td>\n",
       "      <td>1</td>\n",
       "      <td>гражданский брак</td>\n",
       "      <td>1</td>\n",
       "      <td>M</td>\n",
       "      <td>пенсионер</td>\n",
       "      <td>0</td>\n",
       "      <td>NaN</td>\n",
       "      <td>сыграть свадьбу</td>\n",
       "    </tr>\n",
       "    <tr>\n",
       "      <th>26</th>\n",
       "      <td>0</td>\n",
       "      <td>NaN</td>\n",
       "      <td>41</td>\n",
       "      <td>среднее</td>\n",
       "      <td>1</td>\n",
       "      <td>женат / замужем</td>\n",
       "      <td>0</td>\n",
       "      <td>M</td>\n",
       "      <td>госслужащий</td>\n",
       "      <td>0</td>\n",
       "      <td>NaN</td>\n",
       "      <td>образование</td>\n",
       "    </tr>\n",
       "    <tr>\n",
       "      <th>29</th>\n",
       "      <td>0</td>\n",
       "      <td>NaN</td>\n",
       "      <td>63</td>\n",
       "      <td>среднее</td>\n",
       "      <td>1</td>\n",
       "      <td>Не женат / не замужем</td>\n",
       "      <td>4</td>\n",
       "      <td>F</td>\n",
       "      <td>пенсионер</td>\n",
       "      <td>0</td>\n",
       "      <td>NaN</td>\n",
       "      <td>строительство жилой недвижимости</td>\n",
       "    </tr>\n",
       "    <tr>\n",
       "      <th>41</th>\n",
       "      <td>0</td>\n",
       "      <td>NaN</td>\n",
       "      <td>50</td>\n",
       "      <td>среднее</td>\n",
       "      <td>1</td>\n",
       "      <td>женат / замужем</td>\n",
       "      <td>0</td>\n",
       "      <td>F</td>\n",
       "      <td>госслужащий</td>\n",
       "      <td>0</td>\n",
       "      <td>NaN</td>\n",
       "      <td>сделка с подержанным автомобилем</td>\n",
       "    </tr>\n",
       "    <tr>\n",
       "      <th>55</th>\n",
       "      <td>0</td>\n",
       "      <td>NaN</td>\n",
       "      <td>54</td>\n",
       "      <td>среднее</td>\n",
       "      <td>1</td>\n",
       "      <td>гражданский брак</td>\n",
       "      <td>1</td>\n",
       "      <td>F</td>\n",
       "      <td>пенсионер</td>\n",
       "      <td>1</td>\n",
       "      <td>NaN</td>\n",
       "      <td>сыграть свадьбу</td>\n",
       "    </tr>\n",
       "  </tbody>\n",
       "</table>\n",
       "</div>"
      ],
      "text/plain": [
       "    children  days_employed  dob_years education  education_id  \\\n",
       "12         0            NaN         65   среднее             1   \n",
       "26         0            NaN         41   среднее             1   \n",
       "29         0            NaN         63   среднее             1   \n",
       "41         0            NaN         50   среднее             1   \n",
       "55         0            NaN         54   среднее             1   \n",
       "\n",
       "            family_status  family_status_id gender  income_type  debt  \\\n",
       "12       гражданский брак                 1      M    пенсионер     0   \n",
       "26        женат / замужем                 0      M  госслужащий     0   \n",
       "29  Не женат / не замужем                 4      F    пенсионер     0   \n",
       "41        женат / замужем                 0      F  госслужащий     0   \n",
       "55       гражданский брак                 1      F    пенсионер     1   \n",
       "\n",
       "    total_income                           purpose  \n",
       "12           NaN                   сыграть свадьбу  \n",
       "26           NaN                       образование  \n",
       "29           NaN  строительство жилой недвижимости  \n",
       "41           NaN  сделка с подержанным автомобилем  \n",
       "55           NaN                   сыграть свадьбу  "
      ]
     },
     "metadata": {},
     "output_type": "display_data"
    },
    {
     "data": {
      "text/plain": [
       "2174"
      ]
     },
     "metadata": {},
     "output_type": "display_data"
    },
    {
     "data": {
      "text/html": [
       "<div>\n",
       "<style scoped>\n",
       "    .dataframe tbody tr th:only-of-type {\n",
       "        vertical-align: middle;\n",
       "    }\n",
       "\n",
       "    .dataframe tbody tr th {\n",
       "        vertical-align: top;\n",
       "    }\n",
       "\n",
       "    .dataframe thead th {\n",
       "        text-align: right;\n",
       "    }\n",
       "</style>\n",
       "<table border=\"1\" class=\"dataframe\">\n",
       "  <thead>\n",
       "    <tr style=\"text-align: right;\">\n",
       "      <th></th>\n",
       "      <th>children</th>\n",
       "      <th>days_employed</th>\n",
       "      <th>dob_years</th>\n",
       "      <th>education</th>\n",
       "      <th>education_id</th>\n",
       "      <th>family_status</th>\n",
       "      <th>family_status_id</th>\n",
       "      <th>gender</th>\n",
       "      <th>income_type</th>\n",
       "      <th>debt</th>\n",
       "      <th>total_income</th>\n",
       "      <th>purpose</th>\n",
       "    </tr>\n",
       "  </thead>\n",
       "  <tbody>\n",
       "    <tr>\n",
       "      <th>12</th>\n",
       "      <td>0</td>\n",
       "      <td>NaN</td>\n",
       "      <td>65</td>\n",
       "      <td>среднее</td>\n",
       "      <td>1</td>\n",
       "      <td>гражданский брак</td>\n",
       "      <td>1</td>\n",
       "      <td>M</td>\n",
       "      <td>пенсионер</td>\n",
       "      <td>0</td>\n",
       "      <td>NaN</td>\n",
       "      <td>сыграть свадьбу</td>\n",
       "    </tr>\n",
       "    <tr>\n",
       "      <th>26</th>\n",
       "      <td>0</td>\n",
       "      <td>NaN</td>\n",
       "      <td>41</td>\n",
       "      <td>среднее</td>\n",
       "      <td>1</td>\n",
       "      <td>женат / замужем</td>\n",
       "      <td>0</td>\n",
       "      <td>M</td>\n",
       "      <td>госслужащий</td>\n",
       "      <td>0</td>\n",
       "      <td>NaN</td>\n",
       "      <td>образование</td>\n",
       "    </tr>\n",
       "    <tr>\n",
       "      <th>29</th>\n",
       "      <td>0</td>\n",
       "      <td>NaN</td>\n",
       "      <td>63</td>\n",
       "      <td>среднее</td>\n",
       "      <td>1</td>\n",
       "      <td>Не женат / не замужем</td>\n",
       "      <td>4</td>\n",
       "      <td>F</td>\n",
       "      <td>пенсионер</td>\n",
       "      <td>0</td>\n",
       "      <td>NaN</td>\n",
       "      <td>строительство жилой недвижимости</td>\n",
       "    </tr>\n",
       "    <tr>\n",
       "      <th>41</th>\n",
       "      <td>0</td>\n",
       "      <td>NaN</td>\n",
       "      <td>50</td>\n",
       "      <td>среднее</td>\n",
       "      <td>1</td>\n",
       "      <td>женат / замужем</td>\n",
       "      <td>0</td>\n",
       "      <td>F</td>\n",
       "      <td>госслужащий</td>\n",
       "      <td>0</td>\n",
       "      <td>NaN</td>\n",
       "      <td>сделка с подержанным автомобилем</td>\n",
       "    </tr>\n",
       "    <tr>\n",
       "      <th>55</th>\n",
       "      <td>0</td>\n",
       "      <td>NaN</td>\n",
       "      <td>54</td>\n",
       "      <td>среднее</td>\n",
       "      <td>1</td>\n",
       "      <td>гражданский брак</td>\n",
       "      <td>1</td>\n",
       "      <td>F</td>\n",
       "      <td>пенсионер</td>\n",
       "      <td>1</td>\n",
       "      <td>NaN</td>\n",
       "      <td>сыграть свадьбу</td>\n",
       "    </tr>\n",
       "  </tbody>\n",
       "</table>\n",
       "</div>"
      ],
      "text/plain": [
       "    children  days_employed  dob_years education  education_id  \\\n",
       "12         0            NaN         65   среднее             1   \n",
       "26         0            NaN         41   среднее             1   \n",
       "29         0            NaN         63   среднее             1   \n",
       "41         0            NaN         50   среднее             1   \n",
       "55         0            NaN         54   среднее             1   \n",
       "\n",
       "            family_status  family_status_id gender  income_type  debt  \\\n",
       "12       гражданский брак                 1      M    пенсионер     0   \n",
       "26        женат / замужем                 0      M  госслужащий     0   \n",
       "29  Не женат / не замужем                 4      F    пенсионер     0   \n",
       "41        женат / замужем                 0      F  госслужащий     0   \n",
       "55       гражданский брак                 1      F    пенсионер     1   \n",
       "\n",
       "    total_income                           purpose  \n",
       "12           NaN                   сыграть свадьбу  \n",
       "26           NaN                       образование  \n",
       "29           NaN  строительство жилой недвижимости  \n",
       "41           NaN  сделка с подержанным автомобилем  \n",
       "55           NaN                   сыграть свадьбу  "
      ]
     },
     "metadata": {},
     "output_type": "display_data"
    },
    {
     "data": {
      "text/plain": [
       "2174"
      ]
     },
     "metadata": {},
     "output_type": "display_data"
    }
   ],
   "source": [
    "#Методом isna() найдём все строки с пропусками в столбце 'days_employed', 'total_income'и просмотрим первые пять.\n",
    "display(data[data['days_employed'].isna()].head())  \n",
    "display(len (data[data['days_employed'].isna()]))#сосчитаем строки без трудового стажа\n",
    "display(data[data['total_income'].isna()].head()) \n",
    "display(len (data[data['total_income'].isna()]))#сосчитаем строки без ежемесячного дохода\n"
   ]
  },
  {
   "cell_type": "code",
   "execution_count": 6,
   "metadata": {
    "scrolled": true
   },
   "outputs": [
    {
     "data": {
      "text/plain": [
       "array(['сотрудник', 'пенсионер', 'компаньон', 'госслужащий',\n",
       "       'безработный', 'предприниматель', 'студент', 'в декрете'],\n",
       "      dtype=object)"
      ]
     },
     "metadata": {},
     "output_type": "display_data"
    },
    {
     "data": {
      "text/plain": [
       "сотрудник          11119\n",
       "компаньон           5085\n",
       "пенсионер           3856\n",
       "госслужащий         1459\n",
       "безработный            2\n",
       "предприниматель        2\n",
       "студент                1\n",
       "в декрете              1\n",
       "Name: income_type, dtype: int64"
      ]
     },
     "metadata": {},
     "output_type": "display_data"
    }
   ],
   "source": [
    "display(data['income_type'].unique())# проверка типа занятости\n",
    "display(data['income_type'].value_counts())# подсчет количества по типу занятости"
   ]
  },
  {
   "cell_type": "code",
   "execution_count": 7,
   "metadata": {},
   "outputs": [
    {
     "data": {
      "text/html": [
       "<div>\n",
       "<style scoped>\n",
       "    .dataframe tbody tr th:only-of-type {\n",
       "        vertical-align: middle;\n",
       "    }\n",
       "\n",
       "    .dataframe tbody tr th {\n",
       "        vertical-align: top;\n",
       "    }\n",
       "\n",
       "    .dataframe thead th {\n",
       "        text-align: right;\n",
       "    }\n",
       "</style>\n",
       "<table border=\"1\" class=\"dataframe\">\n",
       "  <thead>\n",
       "    <tr style=\"text-align: right;\">\n",
       "      <th></th>\n",
       "      <th>children</th>\n",
       "      <th>days_employed</th>\n",
       "      <th>dob_years</th>\n",
       "      <th>education</th>\n",
       "      <th>education_id</th>\n",
       "      <th>family_status</th>\n",
       "      <th>family_status_id</th>\n",
       "      <th>gender</th>\n",
       "      <th>income_type</th>\n",
       "      <th>debt</th>\n",
       "      <th>total_income</th>\n",
       "      <th>purpose</th>\n",
       "    </tr>\n",
       "  </thead>\n",
       "  <tbody>\n",
       "    <tr>\n",
       "      <th>4</th>\n",
       "      <td>0</td>\n",
       "      <td>340266.072047</td>\n",
       "      <td>53</td>\n",
       "      <td>среднее</td>\n",
       "      <td>1</td>\n",
       "      <td>гражданский брак</td>\n",
       "      <td>1</td>\n",
       "      <td>F</td>\n",
       "      <td>пенсионер</td>\n",
       "      <td>0</td>\n",
       "      <td>158616.077870</td>\n",
       "      <td>сыграть свадьбу</td>\n",
       "    </tr>\n",
       "    <tr>\n",
       "      <th>12</th>\n",
       "      <td>0</td>\n",
       "      <td>NaN</td>\n",
       "      <td>65</td>\n",
       "      <td>среднее</td>\n",
       "      <td>1</td>\n",
       "      <td>гражданский брак</td>\n",
       "      <td>1</td>\n",
       "      <td>M</td>\n",
       "      <td>пенсионер</td>\n",
       "      <td>0</td>\n",
       "      <td>NaN</td>\n",
       "      <td>сыграть свадьбу</td>\n",
       "    </tr>\n",
       "    <tr>\n",
       "      <th>18</th>\n",
       "      <td>0</td>\n",
       "      <td>400281.136913</td>\n",
       "      <td>53</td>\n",
       "      <td>среднее</td>\n",
       "      <td>1</td>\n",
       "      <td>вдовец / вдова</td>\n",
       "      <td>2</td>\n",
       "      <td>F</td>\n",
       "      <td>пенсионер</td>\n",
       "      <td>0</td>\n",
       "      <td>56823.777243</td>\n",
       "      <td>на покупку подержанного автомобиля</td>\n",
       "    </tr>\n",
       "    <tr>\n",
       "      <th>24</th>\n",
       "      <td>1</td>\n",
       "      <td>338551.952911</td>\n",
       "      <td>57</td>\n",
       "      <td>среднее</td>\n",
       "      <td>1</td>\n",
       "      <td>Не женат / не замужем</td>\n",
       "      <td>4</td>\n",
       "      <td>F</td>\n",
       "      <td>пенсионер</td>\n",
       "      <td>0</td>\n",
       "      <td>290547.235997</td>\n",
       "      <td>операции с коммерческой недвижимостью</td>\n",
       "    </tr>\n",
       "    <tr>\n",
       "      <th>25</th>\n",
       "      <td>0</td>\n",
       "      <td>363548.489348</td>\n",
       "      <td>67</td>\n",
       "      <td>среднее</td>\n",
       "      <td>1</td>\n",
       "      <td>женат / замужем</td>\n",
       "      <td>0</td>\n",
       "      <td>M</td>\n",
       "      <td>пенсионер</td>\n",
       "      <td>0</td>\n",
       "      <td>55112.757732</td>\n",
       "      <td>покупка недвижимости</td>\n",
       "    </tr>\n",
       "    <tr>\n",
       "      <th>...</th>\n",
       "      <td>...</td>\n",
       "      <td>...</td>\n",
       "      <td>...</td>\n",
       "      <td>...</td>\n",
       "      <td>...</td>\n",
       "      <td>...</td>\n",
       "      <td>...</td>\n",
       "      <td>...</td>\n",
       "      <td>...</td>\n",
       "      <td>...</td>\n",
       "      <td>...</td>\n",
       "      <td>...</td>\n",
       "    </tr>\n",
       "    <tr>\n",
       "      <th>21505</th>\n",
       "      <td>0</td>\n",
       "      <td>338904.866406</td>\n",
       "      <td>53</td>\n",
       "      <td>среднее</td>\n",
       "      <td>1</td>\n",
       "      <td>гражданский брак</td>\n",
       "      <td>1</td>\n",
       "      <td>M</td>\n",
       "      <td>пенсионер</td>\n",
       "      <td>0</td>\n",
       "      <td>75439.993167</td>\n",
       "      <td>сыграть свадьбу</td>\n",
       "    </tr>\n",
       "    <tr>\n",
       "      <th>21508</th>\n",
       "      <td>0</td>\n",
       "      <td>386497.714078</td>\n",
       "      <td>62</td>\n",
       "      <td>среднее</td>\n",
       "      <td>1</td>\n",
       "      <td>женат / замужем</td>\n",
       "      <td>0</td>\n",
       "      <td>M</td>\n",
       "      <td>пенсионер</td>\n",
       "      <td>0</td>\n",
       "      <td>72638.590915</td>\n",
       "      <td>недвижимость</td>\n",
       "    </tr>\n",
       "    <tr>\n",
       "      <th>21509</th>\n",
       "      <td>0</td>\n",
       "      <td>362161.054124</td>\n",
       "      <td>59</td>\n",
       "      <td>высшее</td>\n",
       "      <td>0</td>\n",
       "      <td>женат / замужем</td>\n",
       "      <td>0</td>\n",
       "      <td>M</td>\n",
       "      <td>пенсионер</td>\n",
       "      <td>0</td>\n",
       "      <td>73029.059379</td>\n",
       "      <td>операции с недвижимостью</td>\n",
       "    </tr>\n",
       "    <tr>\n",
       "      <th>21518</th>\n",
       "      <td>0</td>\n",
       "      <td>373995.710838</td>\n",
       "      <td>59</td>\n",
       "      <td>СРЕДНЕЕ</td>\n",
       "      <td>1</td>\n",
       "      <td>женат / замужем</td>\n",
       "      <td>0</td>\n",
       "      <td>F</td>\n",
       "      <td>пенсионер</td>\n",
       "      <td>0</td>\n",
       "      <td>153864.650328</td>\n",
       "      <td>сделка с автомобилем</td>\n",
       "    </tr>\n",
       "    <tr>\n",
       "      <th>21521</th>\n",
       "      <td>0</td>\n",
       "      <td>343937.404131</td>\n",
       "      <td>67</td>\n",
       "      <td>среднее</td>\n",
       "      <td>1</td>\n",
       "      <td>женат / замужем</td>\n",
       "      <td>0</td>\n",
       "      <td>F</td>\n",
       "      <td>пенсионер</td>\n",
       "      <td>0</td>\n",
       "      <td>155999.806512</td>\n",
       "      <td>сделка с автомобилем</td>\n",
       "    </tr>\n",
       "  </tbody>\n",
       "</table>\n",
       "<p>3856 rows × 12 columns</p>\n",
       "</div>"
      ],
      "text/plain": [
       "       children  days_employed  dob_years education  education_id  \\\n",
       "4             0  340266.072047         53   среднее             1   \n",
       "12            0            NaN         65   среднее             1   \n",
       "18            0  400281.136913         53   среднее             1   \n",
       "24            1  338551.952911         57   среднее             1   \n",
       "25            0  363548.489348         67   среднее             1   \n",
       "...         ...            ...        ...       ...           ...   \n",
       "21505         0  338904.866406         53   среднее             1   \n",
       "21508         0  386497.714078         62   среднее             1   \n",
       "21509         0  362161.054124         59    высшее             0   \n",
       "21518         0  373995.710838         59   СРЕДНЕЕ             1   \n",
       "21521         0  343937.404131         67   среднее             1   \n",
       "\n",
       "               family_status  family_status_id gender income_type  debt  \\\n",
       "4           гражданский брак                 1      F   пенсионер     0   \n",
       "12          гражданский брак                 1      M   пенсионер     0   \n",
       "18            вдовец / вдова                 2      F   пенсионер     0   \n",
       "24     Не женат / не замужем                 4      F   пенсионер     0   \n",
       "25           женат / замужем                 0      M   пенсионер     0   \n",
       "...                      ...               ...    ...         ...   ...   \n",
       "21505       гражданский брак                 1      M   пенсионер     0   \n",
       "21508        женат / замужем                 0      M   пенсионер     0   \n",
       "21509        женат / замужем                 0      M   пенсионер     0   \n",
       "21518        женат / замужем                 0      F   пенсионер     0   \n",
       "21521        женат / замужем                 0      F   пенсионер     0   \n",
       "\n",
       "        total_income                                purpose  \n",
       "4      158616.077870                        сыграть свадьбу  \n",
       "12               NaN                        сыграть свадьбу  \n",
       "18      56823.777243     на покупку подержанного автомобиля  \n",
       "24     290547.235997  операции с коммерческой недвижимостью  \n",
       "25      55112.757732                   покупка недвижимости  \n",
       "...              ...                                    ...  \n",
       "21505   75439.993167                        сыграть свадьбу  \n",
       "21508   72638.590915                           недвижимость  \n",
       "21509   73029.059379               операции с недвижимостью  \n",
       "21518  153864.650328                   сделка с автомобилем  \n",
       "21521  155999.806512                   сделка с автомобилем  \n",
       "\n",
       "[3856 rows x 12 columns]"
      ]
     },
     "metadata": {},
     "output_type": "display_data"
    },
    {
     "data": {
      "text/plain": [
       "118514.48641164352"
      ]
     },
     "metadata": {},
     "output_type": "display_data"
    },
    {
     "data": {
      "text/plain": [
       "365213.3062657312"
      ]
     },
     "metadata": {},
     "output_type": "display_data"
    },
    {
     "data": {
      "text/html": [
       "<div>\n",
       "<style scoped>\n",
       "    .dataframe tbody tr th:only-of-type {\n",
       "        vertical-align: middle;\n",
       "    }\n",
       "\n",
       "    .dataframe tbody tr th {\n",
       "        vertical-align: top;\n",
       "    }\n",
       "\n",
       "    .dataframe thead th {\n",
       "        text-align: right;\n",
       "    }\n",
       "</style>\n",
       "<table border=\"1\" class=\"dataframe\">\n",
       "  <thead>\n",
       "    <tr style=\"text-align: right;\">\n",
       "      <th></th>\n",
       "      <th>children</th>\n",
       "      <th>days_employed</th>\n",
       "      <th>dob_years</th>\n",
       "      <th>education</th>\n",
       "      <th>education_id</th>\n",
       "      <th>family_status</th>\n",
       "      <th>family_status_id</th>\n",
       "      <th>gender</th>\n",
       "      <th>income_type</th>\n",
       "      <th>debt</th>\n",
       "      <th>total_income</th>\n",
       "      <th>purpose</th>\n",
       "    </tr>\n",
       "  </thead>\n",
       "  <tbody>\n",
       "    <tr>\n",
       "      <th>4</th>\n",
       "      <td>0</td>\n",
       "      <td>340266.072047</td>\n",
       "      <td>53</td>\n",
       "      <td>среднее</td>\n",
       "      <td>1</td>\n",
       "      <td>гражданский брак</td>\n",
       "      <td>1</td>\n",
       "      <td>F</td>\n",
       "      <td>пенсионер</td>\n",
       "      <td>0</td>\n",
       "      <td>158616.077870</td>\n",
       "      <td>сыграть свадьбу</td>\n",
       "    </tr>\n",
       "    <tr>\n",
       "      <th>12</th>\n",
       "      <td>0</td>\n",
       "      <td>365213.306266</td>\n",
       "      <td>65</td>\n",
       "      <td>среднее</td>\n",
       "      <td>1</td>\n",
       "      <td>гражданский брак</td>\n",
       "      <td>1</td>\n",
       "      <td>M</td>\n",
       "      <td>пенсионер</td>\n",
       "      <td>0</td>\n",
       "      <td>118514.486412</td>\n",
       "      <td>сыграть свадьбу</td>\n",
       "    </tr>\n",
       "    <tr>\n",
       "      <th>18</th>\n",
       "      <td>0</td>\n",
       "      <td>400281.136913</td>\n",
       "      <td>53</td>\n",
       "      <td>среднее</td>\n",
       "      <td>1</td>\n",
       "      <td>вдовец / вдова</td>\n",
       "      <td>2</td>\n",
       "      <td>F</td>\n",
       "      <td>пенсионер</td>\n",
       "      <td>0</td>\n",
       "      <td>56823.777243</td>\n",
       "      <td>на покупку подержанного автомобиля</td>\n",
       "    </tr>\n",
       "    <tr>\n",
       "      <th>24</th>\n",
       "      <td>1</td>\n",
       "      <td>338551.952911</td>\n",
       "      <td>57</td>\n",
       "      <td>среднее</td>\n",
       "      <td>1</td>\n",
       "      <td>Не женат / не замужем</td>\n",
       "      <td>4</td>\n",
       "      <td>F</td>\n",
       "      <td>пенсионер</td>\n",
       "      <td>0</td>\n",
       "      <td>290547.235997</td>\n",
       "      <td>операции с коммерческой недвижимостью</td>\n",
       "    </tr>\n",
       "    <tr>\n",
       "      <th>25</th>\n",
       "      <td>0</td>\n",
       "      <td>363548.489348</td>\n",
       "      <td>67</td>\n",
       "      <td>среднее</td>\n",
       "      <td>1</td>\n",
       "      <td>женат / замужем</td>\n",
       "      <td>0</td>\n",
       "      <td>M</td>\n",
       "      <td>пенсионер</td>\n",
       "      <td>0</td>\n",
       "      <td>55112.757732</td>\n",
       "      <td>покупка недвижимости</td>\n",
       "    </tr>\n",
       "    <tr>\n",
       "      <th>...</th>\n",
       "      <td>...</td>\n",
       "      <td>...</td>\n",
       "      <td>...</td>\n",
       "      <td>...</td>\n",
       "      <td>...</td>\n",
       "      <td>...</td>\n",
       "      <td>...</td>\n",
       "      <td>...</td>\n",
       "      <td>...</td>\n",
       "      <td>...</td>\n",
       "      <td>...</td>\n",
       "      <td>...</td>\n",
       "    </tr>\n",
       "    <tr>\n",
       "      <th>21505</th>\n",
       "      <td>0</td>\n",
       "      <td>338904.866406</td>\n",
       "      <td>53</td>\n",
       "      <td>среднее</td>\n",
       "      <td>1</td>\n",
       "      <td>гражданский брак</td>\n",
       "      <td>1</td>\n",
       "      <td>M</td>\n",
       "      <td>пенсионер</td>\n",
       "      <td>0</td>\n",
       "      <td>75439.993167</td>\n",
       "      <td>сыграть свадьбу</td>\n",
       "    </tr>\n",
       "    <tr>\n",
       "      <th>21508</th>\n",
       "      <td>0</td>\n",
       "      <td>386497.714078</td>\n",
       "      <td>62</td>\n",
       "      <td>среднее</td>\n",
       "      <td>1</td>\n",
       "      <td>женат / замужем</td>\n",
       "      <td>0</td>\n",
       "      <td>M</td>\n",
       "      <td>пенсионер</td>\n",
       "      <td>0</td>\n",
       "      <td>72638.590915</td>\n",
       "      <td>недвижимость</td>\n",
       "    </tr>\n",
       "    <tr>\n",
       "      <th>21509</th>\n",
       "      <td>0</td>\n",
       "      <td>362161.054124</td>\n",
       "      <td>59</td>\n",
       "      <td>высшее</td>\n",
       "      <td>0</td>\n",
       "      <td>женат / замужем</td>\n",
       "      <td>0</td>\n",
       "      <td>M</td>\n",
       "      <td>пенсионер</td>\n",
       "      <td>0</td>\n",
       "      <td>73029.059379</td>\n",
       "      <td>операции с недвижимостью</td>\n",
       "    </tr>\n",
       "    <tr>\n",
       "      <th>21518</th>\n",
       "      <td>0</td>\n",
       "      <td>373995.710838</td>\n",
       "      <td>59</td>\n",
       "      <td>СРЕДНЕЕ</td>\n",
       "      <td>1</td>\n",
       "      <td>женат / замужем</td>\n",
       "      <td>0</td>\n",
       "      <td>F</td>\n",
       "      <td>пенсионер</td>\n",
       "      <td>0</td>\n",
       "      <td>153864.650328</td>\n",
       "      <td>сделка с автомобилем</td>\n",
       "    </tr>\n",
       "    <tr>\n",
       "      <th>21521</th>\n",
       "      <td>0</td>\n",
       "      <td>343937.404131</td>\n",
       "      <td>67</td>\n",
       "      <td>среднее</td>\n",
       "      <td>1</td>\n",
       "      <td>женат / замужем</td>\n",
       "      <td>0</td>\n",
       "      <td>F</td>\n",
       "      <td>пенсионер</td>\n",
       "      <td>0</td>\n",
       "      <td>155999.806512</td>\n",
       "      <td>сделка с автомобилем</td>\n",
       "    </tr>\n",
       "  </tbody>\n",
       "</table>\n",
       "<p>3856 rows × 12 columns</p>\n",
       "</div>"
      ],
      "text/plain": [
       "       children  days_employed  dob_years education  education_id  \\\n",
       "4             0  340266.072047         53   среднее             1   \n",
       "12            0  365213.306266         65   среднее             1   \n",
       "18            0  400281.136913         53   среднее             1   \n",
       "24            1  338551.952911         57   среднее             1   \n",
       "25            0  363548.489348         67   среднее             1   \n",
       "...         ...            ...        ...       ...           ...   \n",
       "21505         0  338904.866406         53   среднее             1   \n",
       "21508         0  386497.714078         62   среднее             1   \n",
       "21509         0  362161.054124         59    высшее             0   \n",
       "21518         0  373995.710838         59   СРЕДНЕЕ             1   \n",
       "21521         0  343937.404131         67   среднее             1   \n",
       "\n",
       "               family_status  family_status_id gender income_type  debt  \\\n",
       "4           гражданский брак                 1      F   пенсионер     0   \n",
       "12          гражданский брак                 1      M   пенсионер     0   \n",
       "18            вдовец / вдова                 2      F   пенсионер     0   \n",
       "24     Не женат / не замужем                 4      F   пенсионер     0   \n",
       "25           женат / замужем                 0      M   пенсионер     0   \n",
       "...                      ...               ...    ...         ...   ...   \n",
       "21505       гражданский брак                 1      M   пенсионер     0   \n",
       "21508        женат / замужем                 0      M   пенсионер     0   \n",
       "21509        женат / замужем                 0      M   пенсионер     0   \n",
       "21518        женат / замужем                 0      F   пенсионер     0   \n",
       "21521        женат / замужем                 0      F   пенсионер     0   \n",
       "\n",
       "        total_income                                purpose  \n",
       "4      158616.077870                        сыграть свадьбу  \n",
       "12     118514.486412                        сыграть свадьбу  \n",
       "18      56823.777243     на покупку подержанного автомобиля  \n",
       "24     290547.235997  операции с коммерческой недвижимостью  \n",
       "25      55112.757732                   покупка недвижимости  \n",
       "...              ...                                    ...  \n",
       "21505   75439.993167                        сыграть свадьбу  \n",
       "21508   72638.590915                           недвижимость  \n",
       "21509   73029.059379               операции с недвижимостью  \n",
       "21518  153864.650328                   сделка с автомобилем  \n",
       "21521  155999.806512                   сделка с автомобилем  \n",
       "\n",
       "[3856 rows x 12 columns]"
      ]
     },
     "metadata": {},
     "output_type": "display_data"
    }
   ],
   "source": [
    "# разбиваем пропуски по типу занятости\n",
    "pensioner_income_type=data[data['income_type'] == 'пенсионер']\n",
    "display (pensioner_income_type)\n",
    "pensioner_total_income_median=data[data['income_type'] == 'пенсионер']['total_income'].median()\n",
    "pensioner_days_employed_median=data[data['income_type'] == 'пенсионер']['days_employed'].median()\n",
    "display(pensioner_total_income_median)\n",
    "display(pensioner_days_employed_median)\n",
    "# заменяем пропуски по типу занятости на медианные значения\n",
    "\n",
    "data['days_employed']=data[data['income_type'] == 'пенсионер']['days_employed'].fillna(value=pensioner_days_employed_median)\n",
    "data['total_income']=data[data['income_type'] == 'пенсионер']['total_income'].fillna(value=pensioner_total_income_median)\n",
    "display (data[data['income_type'] == 'пенсионер'])"
   ]
  },
  {
   "cell_type": "code",
   "execution_count": null,
   "metadata": {},
   "outputs": [],
   "source": []
  },
  {
   "cell_type": "code",
   "execution_count": 8,
   "metadata": {},
   "outputs": [
    {
     "data": {
      "text/html": [
       "<div>\n",
       "<style scoped>\n",
       "    .dataframe tbody tr th:only-of-type {\n",
       "        vertical-align: middle;\n",
       "    }\n",
       "\n",
       "    .dataframe tbody tr th {\n",
       "        vertical-align: top;\n",
       "    }\n",
       "\n",
       "    .dataframe thead th {\n",
       "        text-align: right;\n",
       "    }\n",
       "</style>\n",
       "<table border=\"1\" class=\"dataframe\">\n",
       "  <thead>\n",
       "    <tr style=\"text-align: right;\">\n",
       "      <th></th>\n",
       "      <th>children</th>\n",
       "      <th>days_employed</th>\n",
       "      <th>dob_years</th>\n",
       "      <th>education</th>\n",
       "      <th>education_id</th>\n",
       "      <th>family_status</th>\n",
       "      <th>family_status_id</th>\n",
       "      <th>gender</th>\n",
       "      <th>income_type</th>\n",
       "      <th>debt</th>\n",
       "      <th>total_income</th>\n",
       "      <th>purpose</th>\n",
       "    </tr>\n",
       "  </thead>\n",
       "  <tbody>\n",
       "    <tr>\n",
       "      <th>0</th>\n",
       "      <td>1</td>\n",
       "      <td>NaN</td>\n",
       "      <td>42</td>\n",
       "      <td>высшее</td>\n",
       "      <td>0</td>\n",
       "      <td>женат / замужем</td>\n",
       "      <td>0</td>\n",
       "      <td>F</td>\n",
       "      <td>сотрудник</td>\n",
       "      <td>0</td>\n",
       "      <td>NaN</td>\n",
       "      <td>покупка жилья</td>\n",
       "    </tr>\n",
       "    <tr>\n",
       "      <th>1</th>\n",
       "      <td>1</td>\n",
       "      <td>NaN</td>\n",
       "      <td>36</td>\n",
       "      <td>среднее</td>\n",
       "      <td>1</td>\n",
       "      <td>женат / замужем</td>\n",
       "      <td>0</td>\n",
       "      <td>F</td>\n",
       "      <td>сотрудник</td>\n",
       "      <td>0</td>\n",
       "      <td>NaN</td>\n",
       "      <td>приобретение автомобиля</td>\n",
       "    </tr>\n",
       "    <tr>\n",
       "      <th>2</th>\n",
       "      <td>0</td>\n",
       "      <td>NaN</td>\n",
       "      <td>33</td>\n",
       "      <td>Среднее</td>\n",
       "      <td>1</td>\n",
       "      <td>женат / замужем</td>\n",
       "      <td>0</td>\n",
       "      <td>M</td>\n",
       "      <td>сотрудник</td>\n",
       "      <td>0</td>\n",
       "      <td>NaN</td>\n",
       "      <td>покупка жилья</td>\n",
       "    </tr>\n",
       "    <tr>\n",
       "      <th>3</th>\n",
       "      <td>3</td>\n",
       "      <td>NaN</td>\n",
       "      <td>32</td>\n",
       "      <td>среднее</td>\n",
       "      <td>1</td>\n",
       "      <td>женат / замужем</td>\n",
       "      <td>0</td>\n",
       "      <td>M</td>\n",
       "      <td>сотрудник</td>\n",
       "      <td>0</td>\n",
       "      <td>NaN</td>\n",
       "      <td>дополнительное образование</td>\n",
       "    </tr>\n",
       "    <tr>\n",
       "      <th>7</th>\n",
       "      <td>0</td>\n",
       "      <td>NaN</td>\n",
       "      <td>50</td>\n",
       "      <td>СРЕДНЕЕ</td>\n",
       "      <td>1</td>\n",
       "      <td>женат / замужем</td>\n",
       "      <td>0</td>\n",
       "      <td>M</td>\n",
       "      <td>сотрудник</td>\n",
       "      <td>0</td>\n",
       "      <td>NaN</td>\n",
       "      <td>образование</td>\n",
       "    </tr>\n",
       "    <tr>\n",
       "      <th>...</th>\n",
       "      <td>...</td>\n",
       "      <td>...</td>\n",
       "      <td>...</td>\n",
       "      <td>...</td>\n",
       "      <td>...</td>\n",
       "      <td>...</td>\n",
       "      <td>...</td>\n",
       "      <td>...</td>\n",
       "      <td>...</td>\n",
       "      <td>...</td>\n",
       "      <td>...</td>\n",
       "      <td>...</td>\n",
       "    </tr>\n",
       "    <tr>\n",
       "      <th>21515</th>\n",
       "      <td>1</td>\n",
       "      <td>NaN</td>\n",
       "      <td>28</td>\n",
       "      <td>среднее</td>\n",
       "      <td>1</td>\n",
       "      <td>женат / замужем</td>\n",
       "      <td>0</td>\n",
       "      <td>F</td>\n",
       "      <td>сотрудник</td>\n",
       "      <td>1</td>\n",
       "      <td>NaN</td>\n",
       "      <td>заняться образованием</td>\n",
       "    </tr>\n",
       "    <tr>\n",
       "      <th>21519</th>\n",
       "      <td>1</td>\n",
       "      <td>NaN</td>\n",
       "      <td>37</td>\n",
       "      <td>ученая степень</td>\n",
       "      <td>4</td>\n",
       "      <td>в разводе</td>\n",
       "      <td>3</td>\n",
       "      <td>M</td>\n",
       "      <td>сотрудник</td>\n",
       "      <td>0</td>\n",
       "      <td>NaN</td>\n",
       "      <td>покупка коммерческой недвижимости</td>\n",
       "    </tr>\n",
       "    <tr>\n",
       "      <th>21522</th>\n",
       "      <td>1</td>\n",
       "      <td>NaN</td>\n",
       "      <td>38</td>\n",
       "      <td>среднее</td>\n",
       "      <td>1</td>\n",
       "      <td>гражданский брак</td>\n",
       "      <td>1</td>\n",
       "      <td>M</td>\n",
       "      <td>сотрудник</td>\n",
       "      <td>1</td>\n",
       "      <td>NaN</td>\n",
       "      <td>недвижимость</td>\n",
       "    </tr>\n",
       "    <tr>\n",
       "      <th>21523</th>\n",
       "      <td>3</td>\n",
       "      <td>NaN</td>\n",
       "      <td>38</td>\n",
       "      <td>среднее</td>\n",
       "      <td>1</td>\n",
       "      <td>женат / замужем</td>\n",
       "      <td>0</td>\n",
       "      <td>M</td>\n",
       "      <td>сотрудник</td>\n",
       "      <td>1</td>\n",
       "      <td>NaN</td>\n",
       "      <td>на покупку своего автомобиля</td>\n",
       "    </tr>\n",
       "    <tr>\n",
       "      <th>21524</th>\n",
       "      <td>2</td>\n",
       "      <td>NaN</td>\n",
       "      <td>40</td>\n",
       "      <td>среднее</td>\n",
       "      <td>1</td>\n",
       "      <td>женат / замужем</td>\n",
       "      <td>0</td>\n",
       "      <td>F</td>\n",
       "      <td>сотрудник</td>\n",
       "      <td>0</td>\n",
       "      <td>NaN</td>\n",
       "      <td>на покупку автомобиля</td>\n",
       "    </tr>\n",
       "  </tbody>\n",
       "</table>\n",
       "<p>11119 rows × 12 columns</p>\n",
       "</div>"
      ],
      "text/plain": [
       "       children  days_employed  dob_years       education  education_id  \\\n",
       "0             1            NaN         42          высшее             0   \n",
       "1             1            NaN         36         среднее             1   \n",
       "2             0            NaN         33         Среднее             1   \n",
       "3             3            NaN         32         среднее             1   \n",
       "7             0            NaN         50         СРЕДНЕЕ             1   \n",
       "...         ...            ...        ...             ...           ...   \n",
       "21515         1            NaN         28         среднее             1   \n",
       "21519         1            NaN         37  ученая степень             4   \n",
       "21522         1            NaN         38         среднее             1   \n",
       "21523         3            NaN         38         среднее             1   \n",
       "21524         2            NaN         40         среднее             1   \n",
       "\n",
       "          family_status  family_status_id gender income_type  debt  \\\n",
       "0       женат / замужем                 0      F   сотрудник     0   \n",
       "1       женат / замужем                 0      F   сотрудник     0   \n",
       "2       женат / замужем                 0      M   сотрудник     0   \n",
       "3       женат / замужем                 0      M   сотрудник     0   \n",
       "7       женат / замужем                 0      M   сотрудник     0   \n",
       "...                 ...               ...    ...         ...   ...   \n",
       "21515   женат / замужем                 0      F   сотрудник     1   \n",
       "21519         в разводе                 3      M   сотрудник     0   \n",
       "21522  гражданский брак                 1      M   сотрудник     1   \n",
       "21523   женат / замужем                 0      M   сотрудник     1   \n",
       "21524   женат / замужем                 0      F   сотрудник     0   \n",
       "\n",
       "       total_income                            purpose  \n",
       "0               NaN                      покупка жилья  \n",
       "1               NaN            приобретение автомобиля  \n",
       "2               NaN                      покупка жилья  \n",
       "3               NaN         дополнительное образование  \n",
       "7               NaN                        образование  \n",
       "...             ...                                ...  \n",
       "21515           NaN              заняться образованием  \n",
       "21519           NaN  покупка коммерческой недвижимости  \n",
       "21522           NaN                       недвижимость  \n",
       "21523           NaN       на покупку своего автомобиля  \n",
       "21524           NaN              на покупку автомобиля  \n",
       "\n",
       "[11119 rows x 12 columns]"
      ]
     },
     "metadata": {},
     "output_type": "display_data"
    },
    {
     "data": {
      "text/plain": [
       "children                0\n",
       "days_employed       11119\n",
       "dob_years               0\n",
       "education               0\n",
       "education_id            0\n",
       "family_status           0\n",
       "family_status_id        0\n",
       "gender                  0\n",
       "income_type             0\n",
       "debt                    0\n",
       "total_income        11119\n",
       "purpose                 0\n",
       "dtype: int64"
      ]
     },
     "metadata": {},
     "output_type": "display_data"
    },
    {
     "data": {
      "text/plain": [
       "nan"
      ]
     },
     "metadata": {},
     "output_type": "display_data"
    },
    {
     "data": {
      "text/plain": [
       "nan"
      ]
     },
     "metadata": {},
     "output_type": "display_data"
    }
   ],
   "source": [
    "# разбиваем пропуски по типу занятости\n",
    "employee_income_type=data[data['income_type'] == 'сотрудник']\n",
    "display (employee_income_type)\n",
    "display(data[data['income_type'] == 'сотрудник'].isna().sum())\n",
    "employee_total_income_mean=data[data['income_type'] == 'сотрудник']['total_income'].mean()\n",
    "employee_days_employed_mean=data[data['income_type'] == 'сотрудник']['days_employed'].mean()\n",
    "display(employee_total_income_mean)\n",
    "display(employee_days_employed_mean)\n"
   ]
  },
  {
   "cell_type": "code",
   "execution_count": 9,
   "metadata": {
    "scrolled": true
   },
   "outputs": [
    {
     "data": {
      "text/html": [
       "<div>\n",
       "<style scoped>\n",
       "    .dataframe tbody tr th:only-of-type {\n",
       "        vertical-align: middle;\n",
       "    }\n",
       "\n",
       "    .dataframe tbody tr th {\n",
       "        vertical-align: top;\n",
       "    }\n",
       "\n",
       "    .dataframe thead th {\n",
       "        text-align: right;\n",
       "    }\n",
       "</style>\n",
       "<table border=\"1\" class=\"dataframe\">\n",
       "  <thead>\n",
       "    <tr style=\"text-align: right;\">\n",
       "      <th></th>\n",
       "      <th>children</th>\n",
       "      <th>days_employed</th>\n",
       "      <th>dob_years</th>\n",
       "      <th>education</th>\n",
       "      <th>education_id</th>\n",
       "      <th>family_status</th>\n",
       "      <th>family_status_id</th>\n",
       "      <th>gender</th>\n",
       "      <th>income_type</th>\n",
       "      <th>debt</th>\n",
       "      <th>total_income</th>\n",
       "      <th>purpose</th>\n",
       "    </tr>\n",
       "  </thead>\n",
       "  <tbody>\n",
       "    <tr>\n",
       "      <th>5</th>\n",
       "      <td>0</td>\n",
       "      <td>NaN</td>\n",
       "      <td>27</td>\n",
       "      <td>высшее</td>\n",
       "      <td>0</td>\n",
       "      <td>гражданский брак</td>\n",
       "      <td>1</td>\n",
       "      <td>M</td>\n",
       "      <td>компаньон</td>\n",
       "      <td>0</td>\n",
       "      <td>NaN</td>\n",
       "      <td>покупка жилья</td>\n",
       "    </tr>\n",
       "    <tr>\n",
       "      <th>6</th>\n",
       "      <td>0</td>\n",
       "      <td>NaN</td>\n",
       "      <td>43</td>\n",
       "      <td>высшее</td>\n",
       "      <td>0</td>\n",
       "      <td>женат / замужем</td>\n",
       "      <td>0</td>\n",
       "      <td>F</td>\n",
       "      <td>компаньон</td>\n",
       "      <td>0</td>\n",
       "      <td>NaN</td>\n",
       "      <td>операции с жильем</td>\n",
       "    </tr>\n",
       "    <tr>\n",
       "      <th>10</th>\n",
       "      <td>2</td>\n",
       "      <td>NaN</td>\n",
       "      <td>36</td>\n",
       "      <td>высшее</td>\n",
       "      <td>0</td>\n",
       "      <td>женат / замужем</td>\n",
       "      <td>0</td>\n",
       "      <td>M</td>\n",
       "      <td>компаньон</td>\n",
       "      <td>0</td>\n",
       "      <td>NaN</td>\n",
       "      <td>покупка недвижимости</td>\n",
       "    </tr>\n",
       "    <tr>\n",
       "      <th>14</th>\n",
       "      <td>0</td>\n",
       "      <td>NaN</td>\n",
       "      <td>56</td>\n",
       "      <td>высшее</td>\n",
       "      <td>0</td>\n",
       "      <td>гражданский брак</td>\n",
       "      <td>1</td>\n",
       "      <td>F</td>\n",
       "      <td>компаньон</td>\n",
       "      <td>1</td>\n",
       "      <td>NaN</td>\n",
       "      <td>покупка жилой недвижимости</td>\n",
       "    </tr>\n",
       "    <tr>\n",
       "      <th>33</th>\n",
       "      <td>0</td>\n",
       "      <td>NaN</td>\n",
       "      <td>48</td>\n",
       "      <td>среднее</td>\n",
       "      <td>1</td>\n",
       "      <td>женат / замужем</td>\n",
       "      <td>0</td>\n",
       "      <td>F</td>\n",
       "      <td>компаньон</td>\n",
       "      <td>0</td>\n",
       "      <td>NaN</td>\n",
       "      <td>покупка жилья</td>\n",
       "    </tr>\n",
       "    <tr>\n",
       "      <th>...</th>\n",
       "      <td>...</td>\n",
       "      <td>...</td>\n",
       "      <td>...</td>\n",
       "      <td>...</td>\n",
       "      <td>...</td>\n",
       "      <td>...</td>\n",
       "      <td>...</td>\n",
       "      <td>...</td>\n",
       "      <td>...</td>\n",
       "      <td>...</td>\n",
       "      <td>...</td>\n",
       "      <td>...</td>\n",
       "    </tr>\n",
       "    <tr>\n",
       "      <th>21512</th>\n",
       "      <td>0</td>\n",
       "      <td>NaN</td>\n",
       "      <td>26</td>\n",
       "      <td>высшее</td>\n",
       "      <td>0</td>\n",
       "      <td>Не женат / не замужем</td>\n",
       "      <td>4</td>\n",
       "      <td>M</td>\n",
       "      <td>компаньон</td>\n",
       "      <td>0</td>\n",
       "      <td>NaN</td>\n",
       "      <td>получение дополнительного образования</td>\n",
       "    </tr>\n",
       "    <tr>\n",
       "      <th>21514</th>\n",
       "      <td>0</td>\n",
       "      <td>NaN</td>\n",
       "      <td>27</td>\n",
       "      <td>неоконченное высшее</td>\n",
       "      <td>2</td>\n",
       "      <td>Не женат / не замужем</td>\n",
       "      <td>4</td>\n",
       "      <td>M</td>\n",
       "      <td>компаньон</td>\n",
       "      <td>0</td>\n",
       "      <td>NaN</td>\n",
       "      <td>строительство недвижимости</td>\n",
       "    </tr>\n",
       "    <tr>\n",
       "      <th>21516</th>\n",
       "      <td>0</td>\n",
       "      <td>NaN</td>\n",
       "      <td>42</td>\n",
       "      <td>высшее</td>\n",
       "      <td>0</td>\n",
       "      <td>женат / замужем</td>\n",
       "      <td>0</td>\n",
       "      <td>F</td>\n",
       "      <td>компаньон</td>\n",
       "      <td>0</td>\n",
       "      <td>NaN</td>\n",
       "      <td>покупка своего жилья</td>\n",
       "    </tr>\n",
       "    <tr>\n",
       "      <th>21517</th>\n",
       "      <td>0</td>\n",
       "      <td>NaN</td>\n",
       "      <td>42</td>\n",
       "      <td>высшее</td>\n",
       "      <td>0</td>\n",
       "      <td>гражданский брак</td>\n",
       "      <td>1</td>\n",
       "      <td>F</td>\n",
       "      <td>компаньон</td>\n",
       "      <td>0</td>\n",
       "      <td>NaN</td>\n",
       "      <td>на покупку своего автомобиля</td>\n",
       "    </tr>\n",
       "    <tr>\n",
       "      <th>21520</th>\n",
       "      <td>1</td>\n",
       "      <td>NaN</td>\n",
       "      <td>43</td>\n",
       "      <td>среднее</td>\n",
       "      <td>1</td>\n",
       "      <td>гражданский брак</td>\n",
       "      <td>1</td>\n",
       "      <td>F</td>\n",
       "      <td>компаньон</td>\n",
       "      <td>0</td>\n",
       "      <td>NaN</td>\n",
       "      <td>операции с жильем</td>\n",
       "    </tr>\n",
       "  </tbody>\n",
       "</table>\n",
       "<p>5085 rows × 12 columns</p>\n",
       "</div>"
      ],
      "text/plain": [
       "       children  days_employed  dob_years            education  education_id  \\\n",
       "5             0            NaN         27               высшее             0   \n",
       "6             0            NaN         43               высшее             0   \n",
       "10            2            NaN         36               высшее             0   \n",
       "14            0            NaN         56               высшее             0   \n",
       "33            0            NaN         48              среднее             1   \n",
       "...         ...            ...        ...                  ...           ...   \n",
       "21512         0            NaN         26               высшее             0   \n",
       "21514         0            NaN         27  неоконченное высшее             2   \n",
       "21516         0            NaN         42               высшее             0   \n",
       "21517         0            NaN         42               высшее             0   \n",
       "21520         1            NaN         43              среднее             1   \n",
       "\n",
       "               family_status  family_status_id gender income_type  debt  \\\n",
       "5           гражданский брак                 1      M   компаньон     0   \n",
       "6            женат / замужем                 0      F   компаньон     0   \n",
       "10           женат / замужем                 0      M   компаньон     0   \n",
       "14          гражданский брак                 1      F   компаньон     1   \n",
       "33           женат / замужем                 0      F   компаньон     0   \n",
       "...                      ...               ...    ...         ...   ...   \n",
       "21512  Не женат / не замужем                 4      M   компаньон     0   \n",
       "21514  Не женат / не замужем                 4      M   компаньон     0   \n",
       "21516        женат / замужем                 0      F   компаньон     0   \n",
       "21517       гражданский брак                 1      F   компаньон     0   \n",
       "21520       гражданский брак                 1      F   компаньон     0   \n",
       "\n",
       "       total_income                                purpose  \n",
       "5               NaN                          покупка жилья  \n",
       "6               NaN                      операции с жильем  \n",
       "10              NaN                   покупка недвижимости  \n",
       "14              NaN             покупка жилой недвижимости  \n",
       "33              NaN                          покупка жилья  \n",
       "...             ...                                    ...  \n",
       "21512           NaN  получение дополнительного образования  \n",
       "21514           NaN             строительство недвижимости  \n",
       "21516           NaN                   покупка своего жилья  \n",
       "21517           NaN           на покупку своего автомобиля  \n",
       "21520           NaN                      операции с жильем  \n",
       "\n",
       "[5085 rows x 12 columns]"
      ]
     },
     "metadata": {},
     "output_type": "display_data"
    },
    {
     "data": {
      "text/plain": [
       "children               0\n",
       "days_employed       5085\n",
       "dob_years              0\n",
       "education              0\n",
       "education_id           0\n",
       "family_status          0\n",
       "family_status_id       0\n",
       "gender                 0\n",
       "income_type            0\n",
       "debt                   0\n",
       "total_income        5085\n",
       "purpose                0\n",
       "dtype: int64"
      ]
     },
     "metadata": {},
     "output_type": "display_data"
    },
    {
     "data": {
      "text/plain": [
       "nan"
      ]
     },
     "metadata": {},
     "output_type": "display_data"
    },
    {
     "data": {
      "text/plain": [
       "nan"
      ]
     },
     "metadata": {},
     "output_type": "display_data"
    }
   ],
   "source": [
    "# разбиваем пропуски по типу занятости\n",
    "companion_income_type=data[data['income_type'] == 'компаньон']\n",
    "display (companion_income_type)\n",
    "display(data[data['income_type'] == 'компаньон'].isna().sum())\n",
    "companion_total_income_mean=data[data['income_type'] == 'компаньон']['total_income'].mean()\n",
    "companion_days_employed_mean=data[data['income_type'] == 'компаньон']['days_employed'].mean()\n",
    "display(companion_total_income_mean)\n",
    "display(companion_days_employed_mean)\n"
   ]
  },
  {
   "cell_type": "code",
   "execution_count": 10,
   "metadata": {},
   "outputs": [
    {
     "data": {
      "text/html": [
       "<div>\n",
       "<style scoped>\n",
       "    .dataframe tbody tr th:only-of-type {\n",
       "        vertical-align: middle;\n",
       "    }\n",
       "\n",
       "    .dataframe tbody tr th {\n",
       "        vertical-align: top;\n",
       "    }\n",
       "\n",
       "    .dataframe thead th {\n",
       "        text-align: right;\n",
       "    }\n",
       "</style>\n",
       "<table border=\"1\" class=\"dataframe\">\n",
       "  <thead>\n",
       "    <tr style=\"text-align: right;\">\n",
       "      <th></th>\n",
       "      <th>children</th>\n",
       "      <th>days_employed</th>\n",
       "      <th>dob_years</th>\n",
       "      <th>education</th>\n",
       "      <th>education_id</th>\n",
       "      <th>family_status</th>\n",
       "      <th>family_status_id</th>\n",
       "      <th>gender</th>\n",
       "      <th>income_type</th>\n",
       "      <th>debt</th>\n",
       "      <th>total_income</th>\n",
       "      <th>purpose</th>\n",
       "    </tr>\n",
       "  </thead>\n",
       "  <tbody>\n",
       "    <tr>\n",
       "      <th>26</th>\n",
       "      <td>0</td>\n",
       "      <td>NaN</td>\n",
       "      <td>41</td>\n",
       "      <td>среднее</td>\n",
       "      <td>1</td>\n",
       "      <td>женат / замужем</td>\n",
       "      <td>0</td>\n",
       "      <td>M</td>\n",
       "      <td>госслужащий</td>\n",
       "      <td>0</td>\n",
       "      <td>NaN</td>\n",
       "      <td>образование</td>\n",
       "    </tr>\n",
       "    <tr>\n",
       "      <th>41</th>\n",
       "      <td>0</td>\n",
       "      <td>NaN</td>\n",
       "      <td>50</td>\n",
       "      <td>среднее</td>\n",
       "      <td>1</td>\n",
       "      <td>женат / замужем</td>\n",
       "      <td>0</td>\n",
       "      <td>F</td>\n",
       "      <td>госслужащий</td>\n",
       "      <td>0</td>\n",
       "      <td>NaN</td>\n",
       "      <td>сделка с подержанным автомобилем</td>\n",
       "    </tr>\n",
       "    <tr>\n",
       "      <th>47</th>\n",
       "      <td>1</td>\n",
       "      <td>NaN</td>\n",
       "      <td>33</td>\n",
       "      <td>высшее</td>\n",
       "      <td>0</td>\n",
       "      <td>гражданский брак</td>\n",
       "      <td>1</td>\n",
       "      <td>M</td>\n",
       "      <td>госслужащий</td>\n",
       "      <td>0</td>\n",
       "      <td>NaN</td>\n",
       "      <td>на проведение свадьбы</td>\n",
       "    </tr>\n",
       "    <tr>\n",
       "      <th>62</th>\n",
       "      <td>0</td>\n",
       "      <td>NaN</td>\n",
       "      <td>48</td>\n",
       "      <td>Высшее</td>\n",
       "      <td>0</td>\n",
       "      <td>Не женат / не замужем</td>\n",
       "      <td>4</td>\n",
       "      <td>M</td>\n",
       "      <td>госслужащий</td>\n",
       "      <td>0</td>\n",
       "      <td>NaN</td>\n",
       "      <td>получение высшего образования</td>\n",
       "    </tr>\n",
       "    <tr>\n",
       "      <th>70</th>\n",
       "      <td>1</td>\n",
       "      <td>NaN</td>\n",
       "      <td>28</td>\n",
       "      <td>ВЫСШЕЕ</td>\n",
       "      <td>0</td>\n",
       "      <td>женат / замужем</td>\n",
       "      <td>0</td>\n",
       "      <td>M</td>\n",
       "      <td>госслужащий</td>\n",
       "      <td>0</td>\n",
       "      <td>NaN</td>\n",
       "      <td>покупка коммерческой недвижимости</td>\n",
       "    </tr>\n",
       "    <tr>\n",
       "      <th>...</th>\n",
       "      <td>...</td>\n",
       "      <td>...</td>\n",
       "      <td>...</td>\n",
       "      <td>...</td>\n",
       "      <td>...</td>\n",
       "      <td>...</td>\n",
       "      <td>...</td>\n",
       "      <td>...</td>\n",
       "      <td>...</td>\n",
       "      <td>...</td>\n",
       "      <td>...</td>\n",
       "      <td>...</td>\n",
       "    </tr>\n",
       "    <tr>\n",
       "      <th>21288</th>\n",
       "      <td>0</td>\n",
       "      <td>NaN</td>\n",
       "      <td>34</td>\n",
       "      <td>Среднее</td>\n",
       "      <td>1</td>\n",
       "      <td>Не женат / не замужем</td>\n",
       "      <td>4</td>\n",
       "      <td>M</td>\n",
       "      <td>госслужащий</td>\n",
       "      <td>0</td>\n",
       "      <td>NaN</td>\n",
       "      <td>жилье</td>\n",
       "    </tr>\n",
       "    <tr>\n",
       "      <th>21349</th>\n",
       "      <td>0</td>\n",
       "      <td>NaN</td>\n",
       "      <td>52</td>\n",
       "      <td>среднее</td>\n",
       "      <td>1</td>\n",
       "      <td>вдовец / вдова</td>\n",
       "      <td>2</td>\n",
       "      <td>F</td>\n",
       "      <td>госслужащий</td>\n",
       "      <td>0</td>\n",
       "      <td>NaN</td>\n",
       "      <td>покупка жилья</td>\n",
       "    </tr>\n",
       "    <tr>\n",
       "      <th>21380</th>\n",
       "      <td>0</td>\n",
       "      <td>NaN</td>\n",
       "      <td>54</td>\n",
       "      <td>среднее</td>\n",
       "      <td>1</td>\n",
       "      <td>женат / замужем</td>\n",
       "      <td>0</td>\n",
       "      <td>F</td>\n",
       "      <td>госслужащий</td>\n",
       "      <td>0</td>\n",
       "      <td>NaN</td>\n",
       "      <td>получение высшего образования</td>\n",
       "    </tr>\n",
       "    <tr>\n",
       "      <th>21459</th>\n",
       "      <td>0</td>\n",
       "      <td>NaN</td>\n",
       "      <td>48</td>\n",
       "      <td>среднее</td>\n",
       "      <td>1</td>\n",
       "      <td>женат / замужем</td>\n",
       "      <td>0</td>\n",
       "      <td>F</td>\n",
       "      <td>госслужащий</td>\n",
       "      <td>0</td>\n",
       "      <td>NaN</td>\n",
       "      <td>на покупку своего автомобиля</td>\n",
       "    </tr>\n",
       "    <tr>\n",
       "      <th>21507</th>\n",
       "      <td>1</td>\n",
       "      <td>NaN</td>\n",
       "      <td>32</td>\n",
       "      <td>среднее</td>\n",
       "      <td>1</td>\n",
       "      <td>гражданский брак</td>\n",
       "      <td>1</td>\n",
       "      <td>F</td>\n",
       "      <td>госслужащий</td>\n",
       "      <td>0</td>\n",
       "      <td>NaN</td>\n",
       "      <td>сделка с подержанным автомобилем</td>\n",
       "    </tr>\n",
       "  </tbody>\n",
       "</table>\n",
       "<p>1459 rows × 12 columns</p>\n",
       "</div>"
      ],
      "text/plain": [
       "       children  days_employed  dob_years education  education_id  \\\n",
       "26            0            NaN         41   среднее             1   \n",
       "41            0            NaN         50   среднее             1   \n",
       "47            1            NaN         33    высшее             0   \n",
       "62            0            NaN         48    Высшее             0   \n",
       "70            1            NaN         28    ВЫСШЕЕ             0   \n",
       "...         ...            ...        ...       ...           ...   \n",
       "21288         0            NaN         34   Среднее             1   \n",
       "21349         0            NaN         52   среднее             1   \n",
       "21380         0            NaN         54   среднее             1   \n",
       "21459         0            NaN         48   среднее             1   \n",
       "21507         1            NaN         32   среднее             1   \n",
       "\n",
       "               family_status  family_status_id gender  income_type  debt  \\\n",
       "26           женат / замужем                 0      M  госслужащий     0   \n",
       "41           женат / замужем                 0      F  госслужащий     0   \n",
       "47          гражданский брак                 1      M  госслужащий     0   \n",
       "62     Не женат / не замужем                 4      M  госслужащий     0   \n",
       "70           женат / замужем                 0      M  госслужащий     0   \n",
       "...                      ...               ...    ...          ...   ...   \n",
       "21288  Не женат / не замужем                 4      M  госслужащий     0   \n",
       "21349         вдовец / вдова                 2      F  госслужащий     0   \n",
       "21380        женат / замужем                 0      F  госслужащий     0   \n",
       "21459        женат / замужем                 0      F  госслужащий     0   \n",
       "21507       гражданский брак                 1      F  госслужащий     0   \n",
       "\n",
       "       total_income                            purpose  \n",
       "26              NaN                        образование  \n",
       "41              NaN   сделка с подержанным автомобилем  \n",
       "47              NaN              на проведение свадьбы  \n",
       "62              NaN      получение высшего образования  \n",
       "70              NaN  покупка коммерческой недвижимости  \n",
       "...             ...                                ...  \n",
       "21288           NaN                              жилье  \n",
       "21349           NaN                      покупка жилья  \n",
       "21380           NaN      получение высшего образования  \n",
       "21459           NaN       на покупку своего автомобиля  \n",
       "21507           NaN   сделка с подержанным автомобилем  \n",
       "\n",
       "[1459 rows x 12 columns]"
      ]
     },
     "metadata": {},
     "output_type": "display_data"
    },
    {
     "data": {
      "text/plain": [
       "children               0\n",
       "days_employed       1459\n",
       "dob_years              0\n",
       "education              0\n",
       "education_id           0\n",
       "family_status          0\n",
       "family_status_id       0\n",
       "gender                 0\n",
       "income_type            0\n",
       "debt                   0\n",
       "total_income        1459\n",
       "purpose                0\n",
       "dtype: int64"
      ]
     },
     "metadata": {},
     "output_type": "display_data"
    },
    {
     "data": {
      "text/plain": [
       "nan"
      ]
     },
     "metadata": {},
     "output_type": "display_data"
    },
    {
     "data": {
      "text/plain": [
       "nan"
      ]
     },
     "metadata": {},
     "output_type": "display_data"
    }
   ],
   "source": [
    "# разбиваем пропуски по типу занятости\n",
    "civil_servant_income_type=data[data['income_type'] == 'госслужащий']\n",
    "display (civil_servant_income_type)\n",
    "display(data[data['income_type'] == 'госслужащий'].isna().sum())\n",
    "civil_servant_total_income_mean=data[data['income_type'] == 'госслужащий']['total_income'].mean()\n",
    "civil_servant_days_employed_mean=data[data['income_type'] == 'госслужащий']['days_employed'].mean()\n",
    "display(civil_servant_total_income_mean)\n",
    "display(civil_servant_days_employed_mean)\n"
   ]
  },
  {
   "cell_type": "code",
   "execution_count": 11,
   "metadata": {},
   "outputs": [
    {
     "data": {
      "text/html": [
       "<div>\n",
       "<style scoped>\n",
       "    .dataframe tbody tr th:only-of-type {\n",
       "        vertical-align: middle;\n",
       "    }\n",
       "\n",
       "    .dataframe tbody tr th {\n",
       "        vertical-align: top;\n",
       "    }\n",
       "\n",
       "    .dataframe thead th {\n",
       "        text-align: right;\n",
       "    }\n",
       "</style>\n",
       "<table border=\"1\" class=\"dataframe\">\n",
       "  <thead>\n",
       "    <tr style=\"text-align: right;\">\n",
       "      <th></th>\n",
       "      <th>children</th>\n",
       "      <th>days_employed</th>\n",
       "      <th>dob_years</th>\n",
       "      <th>education</th>\n",
       "      <th>education_id</th>\n",
       "      <th>family_status</th>\n",
       "      <th>family_status_id</th>\n",
       "      <th>gender</th>\n",
       "      <th>income_type</th>\n",
       "      <th>debt</th>\n",
       "      <th>total_income</th>\n",
       "      <th>purpose</th>\n",
       "    </tr>\n",
       "  </thead>\n",
       "  <tbody>\n",
       "    <tr>\n",
       "      <th>3133</th>\n",
       "      <td>1</td>\n",
       "      <td>NaN</td>\n",
       "      <td>31</td>\n",
       "      <td>среднее</td>\n",
       "      <td>1</td>\n",
       "      <td>женат / замужем</td>\n",
       "      <td>0</td>\n",
       "      <td>M</td>\n",
       "      <td>безработный</td>\n",
       "      <td>1</td>\n",
       "      <td>NaN</td>\n",
       "      <td>покупка жилья для сдачи</td>\n",
       "    </tr>\n",
       "    <tr>\n",
       "      <th>14798</th>\n",
       "      <td>0</td>\n",
       "      <td>NaN</td>\n",
       "      <td>45</td>\n",
       "      <td>Высшее</td>\n",
       "      <td>0</td>\n",
       "      <td>гражданский брак</td>\n",
       "      <td>1</td>\n",
       "      <td>F</td>\n",
       "      <td>безработный</td>\n",
       "      <td>0</td>\n",
       "      <td>NaN</td>\n",
       "      <td>ремонт жилью</td>\n",
       "    </tr>\n",
       "  </tbody>\n",
       "</table>\n",
       "</div>"
      ],
      "text/plain": [
       "       children  days_employed  dob_years education  education_id  \\\n",
       "3133          1            NaN         31   среднее             1   \n",
       "14798         0            NaN         45    Высшее             0   \n",
       "\n",
       "          family_status  family_status_id gender  income_type  debt  \\\n",
       "3133    женат / замужем                 0      M  безработный     1   \n",
       "14798  гражданский брак                 1      F  безработный     0   \n",
       "\n",
       "       total_income                  purpose  \n",
       "3133            NaN  покупка жилья для сдачи  \n",
       "14798           NaN             ремонт жилью  "
      ]
     },
     "metadata": {},
     "output_type": "display_data"
    }
   ],
   "source": [
    "# разбиваем пропуски по типу занятости\n",
    "civil_servant_income_type=data[data['income_type'] == 'безработный']\n",
    "display (civil_servant_income_type)"
   ]
  },
  {
   "cell_type": "code",
   "execution_count": 12,
   "metadata": {
    "scrolled": true
   },
   "outputs": [
    {
     "data": {
      "text/html": [
       "<div>\n",
       "<style scoped>\n",
       "    .dataframe tbody tr th:only-of-type {\n",
       "        vertical-align: middle;\n",
       "    }\n",
       "\n",
       "    .dataframe tbody tr th {\n",
       "        vertical-align: top;\n",
       "    }\n",
       "\n",
       "    .dataframe thead th {\n",
       "        text-align: right;\n",
       "    }\n",
       "</style>\n",
       "<table border=\"1\" class=\"dataframe\">\n",
       "  <thead>\n",
       "    <tr style=\"text-align: right;\">\n",
       "      <th></th>\n",
       "      <th>children</th>\n",
       "      <th>days_employed</th>\n",
       "      <th>dob_years</th>\n",
       "      <th>education</th>\n",
       "      <th>education_id</th>\n",
       "      <th>family_status</th>\n",
       "      <th>family_status_id</th>\n",
       "      <th>gender</th>\n",
       "      <th>income_type</th>\n",
       "      <th>debt</th>\n",
       "      <th>total_income</th>\n",
       "      <th>purpose</th>\n",
       "    </tr>\n",
       "  </thead>\n",
       "  <tbody>\n",
       "    <tr>\n",
       "      <th>5936</th>\n",
       "      <td>0</td>\n",
       "      <td>NaN</td>\n",
       "      <td>58</td>\n",
       "      <td>высшее</td>\n",
       "      <td>0</td>\n",
       "      <td>женат / замужем</td>\n",
       "      <td>0</td>\n",
       "      <td>M</td>\n",
       "      <td>предприниматель</td>\n",
       "      <td>0</td>\n",
       "      <td>NaN</td>\n",
       "      <td>покупка жилой недвижимости</td>\n",
       "    </tr>\n",
       "    <tr>\n",
       "      <th>18697</th>\n",
       "      <td>0</td>\n",
       "      <td>NaN</td>\n",
       "      <td>27</td>\n",
       "      <td>высшее</td>\n",
       "      <td>0</td>\n",
       "      <td>гражданский брак</td>\n",
       "      <td>1</td>\n",
       "      <td>F</td>\n",
       "      <td>предприниматель</td>\n",
       "      <td>0</td>\n",
       "      <td>NaN</td>\n",
       "      <td>на проведение свадьбы</td>\n",
       "    </tr>\n",
       "  </tbody>\n",
       "</table>\n",
       "</div>"
      ],
      "text/plain": [
       "       children  days_employed  dob_years education  education_id  \\\n",
       "5936          0            NaN         58    высшее             0   \n",
       "18697         0            NaN         27    высшее             0   \n",
       "\n",
       "          family_status  family_status_id gender      income_type  debt  \\\n",
       "5936    женат / замужем                 0      M  предприниматель     0   \n",
       "18697  гражданский брак                 1      F  предприниматель     0   \n",
       "\n",
       "       total_income                     purpose  \n",
       "5936            NaN  покупка жилой недвижимости  \n",
       "18697           NaN       на проведение свадьбы  "
      ]
     },
     "metadata": {},
     "output_type": "display_data"
    }
   ],
   "source": [
    "# разбиваем пропуски по типу занятости\n",
    "civil_servant_income_type=data[data['income_type'] == 'предприниматель']\n",
    "display (civil_servant_income_type)"
   ]
  },
  {
   "cell_type": "code",
   "execution_count": 13,
   "metadata": {},
   "outputs": [
    {
     "data": {
      "text/html": [
       "<div>\n",
       "<style scoped>\n",
       "    .dataframe tbody tr th:only-of-type {\n",
       "        vertical-align: middle;\n",
       "    }\n",
       "\n",
       "    .dataframe tbody tr th {\n",
       "        vertical-align: top;\n",
       "    }\n",
       "\n",
       "    .dataframe thead th {\n",
       "        text-align: right;\n",
       "    }\n",
       "</style>\n",
       "<table border=\"1\" class=\"dataframe\">\n",
       "  <thead>\n",
       "    <tr style=\"text-align: right;\">\n",
       "      <th></th>\n",
       "      <th>children</th>\n",
       "      <th>days_employed</th>\n",
       "      <th>dob_years</th>\n",
       "      <th>education</th>\n",
       "      <th>education_id</th>\n",
       "      <th>family_status</th>\n",
       "      <th>family_status_id</th>\n",
       "      <th>gender</th>\n",
       "      <th>income_type</th>\n",
       "      <th>debt</th>\n",
       "      <th>total_income</th>\n",
       "      <th>purpose</th>\n",
       "    </tr>\n",
       "  </thead>\n",
       "  <tbody>\n",
       "    <tr>\n",
       "      <th>20845</th>\n",
       "      <td>2</td>\n",
       "      <td>NaN</td>\n",
       "      <td>39</td>\n",
       "      <td>СРЕДНЕЕ</td>\n",
       "      <td>1</td>\n",
       "      <td>женат / замужем</td>\n",
       "      <td>0</td>\n",
       "      <td>F</td>\n",
       "      <td>в декрете</td>\n",
       "      <td>1</td>\n",
       "      <td>NaN</td>\n",
       "      <td>автомобиль</td>\n",
       "    </tr>\n",
       "  </tbody>\n",
       "</table>\n",
       "</div>"
      ],
      "text/plain": [
       "       children  days_employed  dob_years education  education_id  \\\n",
       "20845         2            NaN         39   СРЕДНЕЕ             1   \n",
       "\n",
       "         family_status  family_status_id gender income_type  debt  \\\n",
       "20845  женат / замужем                 0      F   в декрете     1   \n",
       "\n",
       "       total_income     purpose  \n",
       "20845           NaN  автомобиль  "
      ]
     },
     "metadata": {},
     "output_type": "display_data"
    }
   ],
   "source": [
    "# разбиваем пропуски по типу занятости\n",
    "civil_servant_income_type=data[data['income_type'] == 'в декрете']\n",
    "display (civil_servant_income_type)"
   ]
  },
  {
   "cell_type": "code",
   "execution_count": 14,
   "metadata": {},
   "outputs": [
    {
     "data": {
      "text/html": [
       "<div>\n",
       "<style scoped>\n",
       "    .dataframe tbody tr th:only-of-type {\n",
       "        vertical-align: middle;\n",
       "    }\n",
       "\n",
       "    .dataframe tbody tr th {\n",
       "        vertical-align: top;\n",
       "    }\n",
       "\n",
       "    .dataframe thead th {\n",
       "        text-align: right;\n",
       "    }\n",
       "</style>\n",
       "<table border=\"1\" class=\"dataframe\">\n",
       "  <thead>\n",
       "    <tr style=\"text-align: right;\">\n",
       "      <th></th>\n",
       "      <th>children</th>\n",
       "      <th>days_employed</th>\n",
       "      <th>dob_years</th>\n",
       "      <th>education</th>\n",
       "      <th>education_id</th>\n",
       "      <th>family_status</th>\n",
       "      <th>family_status_id</th>\n",
       "      <th>gender</th>\n",
       "      <th>income_type</th>\n",
       "      <th>debt</th>\n",
       "      <th>total_income</th>\n",
       "      <th>purpose</th>\n",
       "    </tr>\n",
       "  </thead>\n",
       "  <tbody>\n",
       "    <tr>\n",
       "      <th>9410</th>\n",
       "      <td>0</td>\n",
       "      <td>NaN</td>\n",
       "      <td>22</td>\n",
       "      <td>высшее</td>\n",
       "      <td>0</td>\n",
       "      <td>Не женат / не замужем</td>\n",
       "      <td>4</td>\n",
       "      <td>M</td>\n",
       "      <td>студент</td>\n",
       "      <td>0</td>\n",
       "      <td>NaN</td>\n",
       "      <td>строительство собственной недвижимости</td>\n",
       "    </tr>\n",
       "  </tbody>\n",
       "</table>\n",
       "</div>"
      ],
      "text/plain": [
       "      children  days_employed  dob_years education  education_id  \\\n",
       "9410         0            NaN         22    высшее             0   \n",
       "\n",
       "              family_status  family_status_id gender income_type  debt  \\\n",
       "9410  Не женат / не замужем                 4      M     студент     0   \n",
       "\n",
       "      total_income                                 purpose  \n",
       "9410           NaN  строительство собственной недвижимости  "
      ]
     },
     "metadata": {},
     "output_type": "display_data"
    }
   ],
   "source": [
    "# разбиваем пропуски по типу занятости\n",
    "civil_servant_income_type=data[data['income_type'] == 'студент']\n",
    "display (civil_servant_income_type)"
   ]
  },
  {
   "cell_type": "markdown",
   "metadata": {},
   "source": [
    "Все остальные пропуски забиваем нулями.\n",
    "В качестве пропусков в нашем датасете выступают **общий трудовой стаж** и **ежемесячный доход**\n",
    "заполним пропуски в **total_income** и **days_employed** нулями\n",
    "\n"
   ]
  },
  {
   "cell_type": "code",
   "execution_count": 15,
   "metadata": {
    "scrolled": true
   },
   "outputs": [
    {
     "data": {
      "text/html": [
       "<div>\n",
       "<style scoped>\n",
       "    .dataframe tbody tr th:only-of-type {\n",
       "        vertical-align: middle;\n",
       "    }\n",
       "\n",
       "    .dataframe tbody tr th {\n",
       "        vertical-align: top;\n",
       "    }\n",
       "\n",
       "    .dataframe thead th {\n",
       "        text-align: right;\n",
       "    }\n",
       "</style>\n",
       "<table border=\"1\" class=\"dataframe\">\n",
       "  <thead>\n",
       "    <tr style=\"text-align: right;\">\n",
       "      <th></th>\n",
       "      <th>children</th>\n",
       "      <th>days_employed</th>\n",
       "      <th>dob_years</th>\n",
       "      <th>education</th>\n",
       "      <th>education_id</th>\n",
       "      <th>family_status</th>\n",
       "      <th>family_status_id</th>\n",
       "      <th>gender</th>\n",
       "      <th>income_type</th>\n",
       "      <th>debt</th>\n",
       "      <th>total_income</th>\n",
       "      <th>purpose</th>\n",
       "    </tr>\n",
       "  </thead>\n",
       "  <tbody>\n",
       "    <tr>\n",
       "      <th>0</th>\n",
       "      <td>1</td>\n",
       "      <td>0.000000</td>\n",
       "      <td>42</td>\n",
       "      <td>высшее</td>\n",
       "      <td>0</td>\n",
       "      <td>женат / замужем</td>\n",
       "      <td>0</td>\n",
       "      <td>F</td>\n",
       "      <td>сотрудник</td>\n",
       "      <td>0</td>\n",
       "      <td>0.00000</td>\n",
       "      <td>покупка жилья</td>\n",
       "    </tr>\n",
       "    <tr>\n",
       "      <th>1</th>\n",
       "      <td>1</td>\n",
       "      <td>0.000000</td>\n",
       "      <td>36</td>\n",
       "      <td>среднее</td>\n",
       "      <td>1</td>\n",
       "      <td>женат / замужем</td>\n",
       "      <td>0</td>\n",
       "      <td>F</td>\n",
       "      <td>сотрудник</td>\n",
       "      <td>0</td>\n",
       "      <td>0.00000</td>\n",
       "      <td>приобретение автомобиля</td>\n",
       "    </tr>\n",
       "    <tr>\n",
       "      <th>2</th>\n",
       "      <td>0</td>\n",
       "      <td>0.000000</td>\n",
       "      <td>33</td>\n",
       "      <td>Среднее</td>\n",
       "      <td>1</td>\n",
       "      <td>женат / замужем</td>\n",
       "      <td>0</td>\n",
       "      <td>M</td>\n",
       "      <td>сотрудник</td>\n",
       "      <td>0</td>\n",
       "      <td>0.00000</td>\n",
       "      <td>покупка жилья</td>\n",
       "    </tr>\n",
       "    <tr>\n",
       "      <th>3</th>\n",
       "      <td>3</td>\n",
       "      <td>0.000000</td>\n",
       "      <td>32</td>\n",
       "      <td>среднее</td>\n",
       "      <td>1</td>\n",
       "      <td>женат / замужем</td>\n",
       "      <td>0</td>\n",
       "      <td>M</td>\n",
       "      <td>сотрудник</td>\n",
       "      <td>0</td>\n",
       "      <td>0.00000</td>\n",
       "      <td>дополнительное образование</td>\n",
       "    </tr>\n",
       "    <tr>\n",
       "      <th>4</th>\n",
       "      <td>0</td>\n",
       "      <td>340266.072047</td>\n",
       "      <td>53</td>\n",
       "      <td>среднее</td>\n",
       "      <td>1</td>\n",
       "      <td>гражданский брак</td>\n",
       "      <td>1</td>\n",
       "      <td>F</td>\n",
       "      <td>пенсионер</td>\n",
       "      <td>0</td>\n",
       "      <td>158616.07787</td>\n",
       "      <td>сыграть свадьбу</td>\n",
       "    </tr>\n",
       "  </tbody>\n",
       "</table>\n",
       "</div>"
      ],
      "text/plain": [
       "   children  days_employed  dob_years education  education_id  \\\n",
       "0         1       0.000000         42    высшее             0   \n",
       "1         1       0.000000         36   среднее             1   \n",
       "2         0       0.000000         33   Среднее             1   \n",
       "3         3       0.000000         32   среднее             1   \n",
       "4         0  340266.072047         53   среднее             1   \n",
       "\n",
       "      family_status  family_status_id gender income_type  debt  total_income  \\\n",
       "0   женат / замужем                 0      F   сотрудник     0       0.00000   \n",
       "1   женат / замужем                 0      F   сотрудник     0       0.00000   \n",
       "2   женат / замужем                 0      M   сотрудник     0       0.00000   \n",
       "3   женат / замужем                 0      M   сотрудник     0       0.00000   \n",
       "4  гражданский брак                 1      F   пенсионер     0  158616.07787   \n",
       "\n",
       "                      purpose  \n",
       "0               покупка жилья  \n",
       "1     приобретение автомобиля  \n",
       "2               покупка жилья  \n",
       "3  дополнительное образование  \n",
       "4             сыграть свадьбу  "
      ]
     },
     "metadata": {},
     "output_type": "display_data"
    }
   ],
   "source": [
    "data['total_income'] = data['total_income'].fillna(0)\n",
    "data['days_employed'] = data['days_employed'].fillna(0)\n",
    "display(data.head(5))\n"
   ]
  },
  {
   "cell_type": "code",
   "execution_count": 16,
   "metadata": {},
   "outputs": [
    {
     "data": {
      "text/plain": [
       "array(['женат / замужем', 'гражданский брак', 'вдовец / вдова',\n",
       "       'в разводе', 'Не женат / не замужем'], dtype=object)"
      ]
     },
     "metadata": {},
     "output_type": "display_data"
    },
    {
     "data": {
      "text/plain": [
       "array([0, 1, 2, 3, 4])"
      ]
     },
     "metadata": {},
     "output_type": "display_data"
    },
    {
     "data": {
      "text/plain": [
       "женат / замужем          12380\n",
       "гражданский брак          4177\n",
       "Не женат / не замужем     2813\n",
       "в разводе                 1195\n",
       "вдовец / вдова             960\n",
       "Name: family_status, dtype: int64"
      ]
     },
     "metadata": {},
     "output_type": "display_data"
    },
    {
     "data": {
      "text/plain": [
       "0    12380\n",
       "1     4177\n",
       "4     2813\n",
       "3     1195\n",
       "2      960\n",
       "Name: family_status_id, dtype: int64"
      ]
     },
     "metadata": {},
     "output_type": "display_data"
    }
   ],
   "source": [
    "display(data['family_status'].unique(),data['family_status_id'].unique())# проверка семейного положения\n",
    "display(data['family_status'].value_counts(),data['family_status_id'].value_counts())# подсчет количества по семейного положения"
   ]
  },
  {
   "cell_type": "code",
   "execution_count": 17,
   "metadata": {},
   "outputs": [
    {
     "data": {
      "text/plain": [
       "array([ 1,  0,  3,  2, -1,  4, 20,  5])"
      ]
     },
     "metadata": {},
     "output_type": "display_data"
    },
    {
     "data": {
      "text/plain": [
       " 0     14149\n",
       " 1      4818\n",
       " 2      2055\n",
       " 3       330\n",
       " 20       76\n",
       "-1        47\n",
       " 4        41\n",
       " 5         9\n",
       "Name: children, dtype: int64"
      ]
     },
     "metadata": {},
     "output_type": "display_data"
    }
   ],
   "source": [
    "display(data['children'].unique())# проверка количества детей\n",
    "display(data['children'].value_counts())# подсчет количества детей"
   ]
  },
  {
   "cell_type": "code",
   "execution_count": 18,
   "metadata": {},
   "outputs": [
    {
     "data": {
      "text/html": [
       "<div>\n",
       "<style scoped>\n",
       "    .dataframe tbody tr th:only-of-type {\n",
       "        vertical-align: middle;\n",
       "    }\n",
       "\n",
       "    .dataframe tbody tr th {\n",
       "        vertical-align: top;\n",
       "    }\n",
       "\n",
       "    .dataframe thead th {\n",
       "        text-align: right;\n",
       "    }\n",
       "</style>\n",
       "<table border=\"1\" class=\"dataframe\">\n",
       "  <thead>\n",
       "    <tr style=\"text-align: right;\">\n",
       "      <th></th>\n",
       "      <th>children</th>\n",
       "      <th>days_employed</th>\n",
       "      <th>dob_years</th>\n",
       "      <th>education</th>\n",
       "      <th>education_id</th>\n",
       "      <th>family_status</th>\n",
       "      <th>family_status_id</th>\n",
       "      <th>gender</th>\n",
       "      <th>income_type</th>\n",
       "      <th>debt</th>\n",
       "      <th>total_income</th>\n",
       "      <th>purpose</th>\n",
       "    </tr>\n",
       "  </thead>\n",
       "  <tbody>\n",
       "    <tr>\n",
       "      <th>606</th>\n",
       "      <td>20</td>\n",
       "      <td>0.0</td>\n",
       "      <td>21</td>\n",
       "      <td>среднее</td>\n",
       "      <td>1</td>\n",
       "      <td>женат / замужем</td>\n",
       "      <td>0</td>\n",
       "      <td>M</td>\n",
       "      <td>компаньон</td>\n",
       "      <td>0</td>\n",
       "      <td>0.0</td>\n",
       "      <td>покупка жилья</td>\n",
       "    </tr>\n",
       "    <tr>\n",
       "      <th>720</th>\n",
       "      <td>20</td>\n",
       "      <td>0.0</td>\n",
       "      <td>44</td>\n",
       "      <td>среднее</td>\n",
       "      <td>1</td>\n",
       "      <td>женат / замужем</td>\n",
       "      <td>0</td>\n",
       "      <td>F</td>\n",
       "      <td>компаньон</td>\n",
       "      <td>0</td>\n",
       "      <td>0.0</td>\n",
       "      <td>покупка недвижимости</td>\n",
       "    </tr>\n",
       "    <tr>\n",
       "      <th>1074</th>\n",
       "      <td>20</td>\n",
       "      <td>0.0</td>\n",
       "      <td>56</td>\n",
       "      <td>среднее</td>\n",
       "      <td>1</td>\n",
       "      <td>женат / замужем</td>\n",
       "      <td>0</td>\n",
       "      <td>F</td>\n",
       "      <td>сотрудник</td>\n",
       "      <td>1</td>\n",
       "      <td>0.0</td>\n",
       "      <td>получение образования</td>\n",
       "    </tr>\n",
       "    <tr>\n",
       "      <th>2510</th>\n",
       "      <td>20</td>\n",
       "      <td>0.0</td>\n",
       "      <td>59</td>\n",
       "      <td>высшее</td>\n",
       "      <td>0</td>\n",
       "      <td>вдовец / вдова</td>\n",
       "      <td>2</td>\n",
       "      <td>F</td>\n",
       "      <td>сотрудник</td>\n",
       "      <td>0</td>\n",
       "      <td>0.0</td>\n",
       "      <td>операции с коммерческой недвижимостью</td>\n",
       "    </tr>\n",
       "    <tr>\n",
       "      <th>2941</th>\n",
       "      <td>20</td>\n",
       "      <td>0.0</td>\n",
       "      <td>0</td>\n",
       "      <td>среднее</td>\n",
       "      <td>1</td>\n",
       "      <td>женат / замужем</td>\n",
       "      <td>0</td>\n",
       "      <td>F</td>\n",
       "      <td>сотрудник</td>\n",
       "      <td>0</td>\n",
       "      <td>0.0</td>\n",
       "      <td>на покупку автомобиля</td>\n",
       "    </tr>\n",
       "    <tr>\n",
       "      <th>...</th>\n",
       "      <td>...</td>\n",
       "      <td>...</td>\n",
       "      <td>...</td>\n",
       "      <td>...</td>\n",
       "      <td>...</td>\n",
       "      <td>...</td>\n",
       "      <td>...</td>\n",
       "      <td>...</td>\n",
       "      <td>...</td>\n",
       "      <td>...</td>\n",
       "      <td>...</td>\n",
       "      <td>...</td>\n",
       "    </tr>\n",
       "    <tr>\n",
       "      <th>21008</th>\n",
       "      <td>20</td>\n",
       "      <td>0.0</td>\n",
       "      <td>40</td>\n",
       "      <td>среднее</td>\n",
       "      <td>1</td>\n",
       "      <td>женат / замужем</td>\n",
       "      <td>0</td>\n",
       "      <td>F</td>\n",
       "      <td>сотрудник</td>\n",
       "      <td>1</td>\n",
       "      <td>0.0</td>\n",
       "      <td>свой автомобиль</td>\n",
       "    </tr>\n",
       "    <tr>\n",
       "      <th>21325</th>\n",
       "      <td>20</td>\n",
       "      <td>0.0</td>\n",
       "      <td>37</td>\n",
       "      <td>среднее</td>\n",
       "      <td>1</td>\n",
       "      <td>женат / замужем</td>\n",
       "      <td>0</td>\n",
       "      <td>F</td>\n",
       "      <td>компаньон</td>\n",
       "      <td>0</td>\n",
       "      <td>0.0</td>\n",
       "      <td>профильное образование</td>\n",
       "    </tr>\n",
       "    <tr>\n",
       "      <th>21390</th>\n",
       "      <td>20</td>\n",
       "      <td>0.0</td>\n",
       "      <td>53</td>\n",
       "      <td>среднее</td>\n",
       "      <td>1</td>\n",
       "      <td>женат / замужем</td>\n",
       "      <td>0</td>\n",
       "      <td>M</td>\n",
       "      <td>компаньон</td>\n",
       "      <td>0</td>\n",
       "      <td>0.0</td>\n",
       "      <td>покупка жилой недвижимости</td>\n",
       "    </tr>\n",
       "    <tr>\n",
       "      <th>21404</th>\n",
       "      <td>20</td>\n",
       "      <td>0.0</td>\n",
       "      <td>52</td>\n",
       "      <td>среднее</td>\n",
       "      <td>1</td>\n",
       "      <td>женат / замужем</td>\n",
       "      <td>0</td>\n",
       "      <td>M</td>\n",
       "      <td>компаньон</td>\n",
       "      <td>0</td>\n",
       "      <td>0.0</td>\n",
       "      <td>операции со своей недвижимостью</td>\n",
       "    </tr>\n",
       "    <tr>\n",
       "      <th>21491</th>\n",
       "      <td>20</td>\n",
       "      <td>0.0</td>\n",
       "      <td>27</td>\n",
       "      <td>среднее</td>\n",
       "      <td>1</td>\n",
       "      <td>женат / замужем</td>\n",
       "      <td>0</td>\n",
       "      <td>F</td>\n",
       "      <td>сотрудник</td>\n",
       "      <td>0</td>\n",
       "      <td>0.0</td>\n",
       "      <td>на покупку подержанного автомобиля</td>\n",
       "    </tr>\n",
       "  </tbody>\n",
       "</table>\n",
       "<p>76 rows × 12 columns</p>\n",
       "</div>"
      ],
      "text/plain": [
       "       children  days_employed  dob_years education  education_id  \\\n",
       "606          20            0.0         21   среднее             1   \n",
       "720          20            0.0         44   среднее             1   \n",
       "1074         20            0.0         56   среднее             1   \n",
       "2510         20            0.0         59    высшее             0   \n",
       "2941         20            0.0          0   среднее             1   \n",
       "...         ...            ...        ...       ...           ...   \n",
       "21008        20            0.0         40   среднее             1   \n",
       "21325        20            0.0         37   среднее             1   \n",
       "21390        20            0.0         53   среднее             1   \n",
       "21404        20            0.0         52   среднее             1   \n",
       "21491        20            0.0         27   среднее             1   \n",
       "\n",
       "         family_status  family_status_id gender income_type  debt  \\\n",
       "606    женат / замужем                 0      M   компаньон     0   \n",
       "720    женат / замужем                 0      F   компаньон     0   \n",
       "1074   женат / замужем                 0      F   сотрудник     1   \n",
       "2510    вдовец / вдова                 2      F   сотрудник     0   \n",
       "2941   женат / замужем                 0      F   сотрудник     0   \n",
       "...                ...               ...    ...         ...   ...   \n",
       "21008  женат / замужем                 0      F   сотрудник     1   \n",
       "21325  женат / замужем                 0      F   компаньон     0   \n",
       "21390  женат / замужем                 0      M   компаньон     0   \n",
       "21404  женат / замужем                 0      M   компаньон     0   \n",
       "21491  женат / замужем                 0      F   сотрудник     0   \n",
       "\n",
       "       total_income                                purpose  \n",
       "606             0.0                          покупка жилья  \n",
       "720             0.0                   покупка недвижимости  \n",
       "1074            0.0                  получение образования  \n",
       "2510            0.0  операции с коммерческой недвижимостью  \n",
       "2941            0.0                  на покупку автомобиля  \n",
       "...             ...                                    ...  \n",
       "21008           0.0                        свой автомобиль  \n",
       "21325           0.0                 профильное образование  \n",
       "21390           0.0             покупка жилой недвижимости  \n",
       "21404           0.0        операции со своей недвижимостью  \n",
       "21491           0.0     на покупку подержанного автомобиля  \n",
       "\n",
       "[76 rows x 12 columns]"
      ]
     },
     "metadata": {},
     "output_type": "display_data"
    }
   ],
   "source": [
    "display (data.loc[data['children']>=20])"
   ]
  },
  {
   "cell_type": "markdown",
   "metadata": {},
   "source": [
    "Проверка уникальных значений по типу занятости, семейному положению, детям выявили, что количестов детей может быть как -1 так и 20 шт. Вероятнее всего это опечатки т.к -1 ребенок это оригинально, а 20 шт может быть если это приемные. Заменим -1 на 1, а 20 на 2."
   ]
  },
  {
   "cell_type": "code",
   "execution_count": 19,
   "metadata": {},
   "outputs": [
    {
     "data": {
      "text/plain": [
       "0    14149\n",
       "1     4865\n",
       "2     2131\n",
       "3      330\n",
       "4       41\n",
       "5        9\n",
       "Name: children, dtype: int64"
      ]
     },
     "metadata": {},
     "output_type": "display_data"
    }
   ],
   "source": [
    "for i in range(len(data)):\n",
    "    if data.loc[i,'children']<0:\n",
    "        data.loc[i,'children']=1\n",
    "    if data.loc[i,'children']==20:\n",
    "        data.loc[i,'children']=2\n",
    "        \n",
    "display(data['children'].value_counts())"
   ]
  },
  {
   "cell_type": "markdown",
   "metadata": {},
   "source": [
    "Анализ столбца **days_employed** показал,что есть отрицательные значения - это является опечаткой и большие положительные значения. Анализируя большие положительные значения можно сказать, что скорее всего данные представлены не в рабочи днях, а в часах. Поэтому большие положительные значения переведем в дни, а отрицательные в положительные. "
   ]
  },
  {
   "cell_type": "code",
   "execution_count": 20,
   "metadata": {},
   "outputs": [],
   "source": [
    "for i in range(len(data)):\n",
    "    if data.loc[i,'days_employed']>0:\n",
    "        data.loc[i,'days_employed']=data.loc[i,'days_employed']/24\n",
    "    if data.loc[i,'days_employed']<0:\n",
    "        data.loc[i,'days_employed']=abs (data.loc[i,'days_employed'])\n",
    "\n"
   ]
  },
  {
   "cell_type": "code",
   "execution_count": 21,
   "metadata": {},
   "outputs": [
    {
     "name": "stdout",
     "output_type": "stream",
     "text": [
      "<class 'pandas.core.frame.DataFrame'>\n",
      "RangeIndex: 21525 entries, 0 to 21524\n",
      "Data columns (total 12 columns):\n",
      " #   Column            Non-Null Count  Dtype  \n",
      "---  ------            --------------  -----  \n",
      " 0   children          21525 non-null  int64  \n",
      " 1   days_employed     21525 non-null  float64\n",
      " 2   dob_years         21525 non-null  int64  \n",
      " 3   education         21525 non-null  object \n",
      " 4   education_id      21525 non-null  int64  \n",
      " 5   family_status     21525 non-null  object \n",
      " 6   family_status_id  21525 non-null  int64  \n",
      " 7   gender            21525 non-null  object \n",
      " 8   income_type       21525 non-null  object \n",
      " 9   debt              21525 non-null  int64  \n",
      " 10  total_income      21525 non-null  float64\n",
      " 11  purpose           21525 non-null  object \n",
      "dtypes: float64(2), int64(5), object(5)\n",
      "memory usage: 2.0+ MB\n"
     ]
    }
   ],
   "source": [
    "data.info()"
   ]
  },
  {
   "cell_type": "markdown",
   "metadata": {},
   "source": [
    "**Вывод**"
   ]
  },
  {
   "cell_type": "markdown",
   "metadata": {},
   "source": [
    "Проведенные замены позволили заменить все пропуски, отрицательные значения и выбросы из выборки. Это позволит проводить дальнейшие операции с данными"
   ]
  },
  {
   "cell_type": "markdown",
   "metadata": {},
   "source": [
    "### Замена типа данных"
   ]
  },
  {
   "cell_type": "code",
   "execution_count": 22,
   "metadata": {},
   "outputs": [
    {
     "data": {
      "text/html": [
       "<div>\n",
       "<style scoped>\n",
       "    .dataframe tbody tr th:only-of-type {\n",
       "        vertical-align: middle;\n",
       "    }\n",
       "\n",
       "    .dataframe tbody tr th {\n",
       "        vertical-align: top;\n",
       "    }\n",
       "\n",
       "    .dataframe thead th {\n",
       "        text-align: right;\n",
       "    }\n",
       "</style>\n",
       "<table border=\"1\" class=\"dataframe\">\n",
       "  <thead>\n",
       "    <tr style=\"text-align: right;\">\n",
       "      <th></th>\n",
       "      <th>children</th>\n",
       "      <th>days_employed</th>\n",
       "      <th>dob_years</th>\n",
       "      <th>education</th>\n",
       "      <th>education_id</th>\n",
       "      <th>family_status</th>\n",
       "      <th>family_status_id</th>\n",
       "      <th>gender</th>\n",
       "      <th>income_type</th>\n",
       "      <th>debt</th>\n",
       "      <th>total_income</th>\n",
       "      <th>purpose</th>\n",
       "    </tr>\n",
       "  </thead>\n",
       "  <tbody>\n",
       "    <tr>\n",
       "      <th>0</th>\n",
       "      <td>1</td>\n",
       "      <td>0</td>\n",
       "      <td>42</td>\n",
       "      <td>высшее</td>\n",
       "      <td>0</td>\n",
       "      <td>женат / замужем</td>\n",
       "      <td>0</td>\n",
       "      <td>F</td>\n",
       "      <td>сотрудник</td>\n",
       "      <td>0</td>\n",
       "      <td>0.00000</td>\n",
       "      <td>покупка жилья</td>\n",
       "    </tr>\n",
       "    <tr>\n",
       "      <th>1</th>\n",
       "      <td>1</td>\n",
       "      <td>0</td>\n",
       "      <td>36</td>\n",
       "      <td>среднее</td>\n",
       "      <td>1</td>\n",
       "      <td>женат / замужем</td>\n",
       "      <td>0</td>\n",
       "      <td>F</td>\n",
       "      <td>сотрудник</td>\n",
       "      <td>0</td>\n",
       "      <td>0.00000</td>\n",
       "      <td>приобретение автомобиля</td>\n",
       "    </tr>\n",
       "    <tr>\n",
       "      <th>2</th>\n",
       "      <td>0</td>\n",
       "      <td>0</td>\n",
       "      <td>33</td>\n",
       "      <td>Среднее</td>\n",
       "      <td>1</td>\n",
       "      <td>женат / замужем</td>\n",
       "      <td>0</td>\n",
       "      <td>M</td>\n",
       "      <td>сотрудник</td>\n",
       "      <td>0</td>\n",
       "      <td>0.00000</td>\n",
       "      <td>покупка жилья</td>\n",
       "    </tr>\n",
       "    <tr>\n",
       "      <th>3</th>\n",
       "      <td>3</td>\n",
       "      <td>0</td>\n",
       "      <td>32</td>\n",
       "      <td>среднее</td>\n",
       "      <td>1</td>\n",
       "      <td>женат / замужем</td>\n",
       "      <td>0</td>\n",
       "      <td>M</td>\n",
       "      <td>сотрудник</td>\n",
       "      <td>0</td>\n",
       "      <td>0.00000</td>\n",
       "      <td>дополнительное образование</td>\n",
       "    </tr>\n",
       "    <tr>\n",
       "      <th>4</th>\n",
       "      <td>0</td>\n",
       "      <td>14177</td>\n",
       "      <td>53</td>\n",
       "      <td>среднее</td>\n",
       "      <td>1</td>\n",
       "      <td>гражданский брак</td>\n",
       "      <td>1</td>\n",
       "      <td>F</td>\n",
       "      <td>пенсионер</td>\n",
       "      <td>0</td>\n",
       "      <td>158616.07787</td>\n",
       "      <td>сыграть свадьбу</td>\n",
       "    </tr>\n",
       "    <tr>\n",
       "      <th>5</th>\n",
       "      <td>0</td>\n",
       "      <td>0</td>\n",
       "      <td>27</td>\n",
       "      <td>высшее</td>\n",
       "      <td>0</td>\n",
       "      <td>гражданский брак</td>\n",
       "      <td>1</td>\n",
       "      <td>M</td>\n",
       "      <td>компаньон</td>\n",
       "      <td>0</td>\n",
       "      <td>0.00000</td>\n",
       "      <td>покупка жилья</td>\n",
       "    </tr>\n",
       "    <tr>\n",
       "      <th>6</th>\n",
       "      <td>0</td>\n",
       "      <td>0</td>\n",
       "      <td>43</td>\n",
       "      <td>высшее</td>\n",
       "      <td>0</td>\n",
       "      <td>женат / замужем</td>\n",
       "      <td>0</td>\n",
       "      <td>F</td>\n",
       "      <td>компаньон</td>\n",
       "      <td>0</td>\n",
       "      <td>0.00000</td>\n",
       "      <td>операции с жильем</td>\n",
       "    </tr>\n",
       "    <tr>\n",
       "      <th>7</th>\n",
       "      <td>0</td>\n",
       "      <td>0</td>\n",
       "      <td>50</td>\n",
       "      <td>СРЕДНЕЕ</td>\n",
       "      <td>1</td>\n",
       "      <td>женат / замужем</td>\n",
       "      <td>0</td>\n",
       "      <td>M</td>\n",
       "      <td>сотрудник</td>\n",
       "      <td>0</td>\n",
       "      <td>0.00000</td>\n",
       "      <td>образование</td>\n",
       "    </tr>\n",
       "    <tr>\n",
       "      <th>8</th>\n",
       "      <td>2</td>\n",
       "      <td>0</td>\n",
       "      <td>35</td>\n",
       "      <td>ВЫСШЕЕ</td>\n",
       "      <td>0</td>\n",
       "      <td>гражданский брак</td>\n",
       "      <td>1</td>\n",
       "      <td>F</td>\n",
       "      <td>сотрудник</td>\n",
       "      <td>0</td>\n",
       "      <td>0.00000</td>\n",
       "      <td>на проведение свадьбы</td>\n",
       "    </tr>\n",
       "    <tr>\n",
       "      <th>9</th>\n",
       "      <td>0</td>\n",
       "      <td>0</td>\n",
       "      <td>41</td>\n",
       "      <td>среднее</td>\n",
       "      <td>1</td>\n",
       "      <td>женат / замужем</td>\n",
       "      <td>0</td>\n",
       "      <td>M</td>\n",
       "      <td>сотрудник</td>\n",
       "      <td>0</td>\n",
       "      <td>0.00000</td>\n",
       "      <td>покупка жилья для семьи</td>\n",
       "    </tr>\n",
       "  </tbody>\n",
       "</table>\n",
       "</div>"
      ],
      "text/plain": [
       "   children  days_employed  dob_years education  education_id  \\\n",
       "0         1              0         42    высшее             0   \n",
       "1         1              0         36   среднее             1   \n",
       "2         0              0         33   Среднее             1   \n",
       "3         3              0         32   среднее             1   \n",
       "4         0          14177         53   среднее             1   \n",
       "5         0              0         27    высшее             0   \n",
       "6         0              0         43    высшее             0   \n",
       "7         0              0         50   СРЕДНЕЕ             1   \n",
       "8         2              0         35    ВЫСШЕЕ             0   \n",
       "9         0              0         41   среднее             1   \n",
       "\n",
       "      family_status  family_status_id gender income_type  debt  total_income  \\\n",
       "0   женат / замужем                 0      F   сотрудник     0       0.00000   \n",
       "1   женат / замужем                 0      F   сотрудник     0       0.00000   \n",
       "2   женат / замужем                 0      M   сотрудник     0       0.00000   \n",
       "3   женат / замужем                 0      M   сотрудник     0       0.00000   \n",
       "4  гражданский брак                 1      F   пенсионер     0  158616.07787   \n",
       "5  гражданский брак                 1      M   компаньон     0       0.00000   \n",
       "6   женат / замужем                 0      F   компаньон     0       0.00000   \n",
       "7   женат / замужем                 0      M   сотрудник     0       0.00000   \n",
       "8  гражданский брак                 1      F   сотрудник     0       0.00000   \n",
       "9   женат / замужем                 0      M   сотрудник     0       0.00000   \n",
       "\n",
       "                      purpose  \n",
       "0               покупка жилья  \n",
       "1     приобретение автомобиля  \n",
       "2               покупка жилья  \n",
       "3  дополнительное образование  \n",
       "4             сыграть свадьбу  \n",
       "5               покупка жилья  \n",
       "6           операции с жильем  \n",
       "7                 образование  \n",
       "8       на проведение свадьбы  \n",
       "9     покупка жилья для семьи  "
      ]
     },
     "metadata": {},
     "output_type": "display_data"
    }
   ],
   "source": [
    "data['days_employed'] = data['days_employed'].astype('int')# перевод из вещественных чисел в целые для рабочих дней\n",
    "display(data.head(10))# вывод первых 10 значений"
   ]
  },
  {
   "cell_type": "markdown",
   "metadata": {},
   "source": [
    "**Вывод**"
   ]
  },
  {
   "cell_type": "markdown",
   "metadata": {},
   "source": [
    "Заменили вещественный тип данных на целочисленный с помощью метода `astype('int')`"
   ]
  },
  {
   "cell_type": "markdown",
   "metadata": {},
   "source": [
    "### Обработка дубликатов"
   ]
  },
  {
   "cell_type": "code",
   "execution_count": 23,
   "metadata": {},
   "outputs": [
    {
     "data": {
      "text/html": [
       "<div>\n",
       "<style scoped>\n",
       "    .dataframe tbody tr th:only-of-type {\n",
       "        vertical-align: middle;\n",
       "    }\n",
       "\n",
       "    .dataframe tbody tr th {\n",
       "        vertical-align: top;\n",
       "    }\n",
       "\n",
       "    .dataframe thead th {\n",
       "        text-align: right;\n",
       "    }\n",
       "</style>\n",
       "<table border=\"1\" class=\"dataframe\">\n",
       "  <thead>\n",
       "    <tr style=\"text-align: right;\">\n",
       "      <th></th>\n",
       "      <th>children</th>\n",
       "      <th>days_employed</th>\n",
       "      <th>dob_years</th>\n",
       "      <th>education</th>\n",
       "      <th>education_id</th>\n",
       "      <th>family_status</th>\n",
       "      <th>family_status_id</th>\n",
       "      <th>gender</th>\n",
       "      <th>income_type</th>\n",
       "      <th>debt</th>\n",
       "      <th>total_income</th>\n",
       "      <th>purpose</th>\n",
       "    </tr>\n",
       "  </thead>\n",
       "  <tbody>\n",
       "    <tr>\n",
       "      <th>0</th>\n",
       "      <td>1</td>\n",
       "      <td>0</td>\n",
       "      <td>42</td>\n",
       "      <td>высшее</td>\n",
       "      <td>0</td>\n",
       "      <td>женат / замужем</td>\n",
       "      <td>0</td>\n",
       "      <td>F</td>\n",
       "      <td>сотрудник</td>\n",
       "      <td>0</td>\n",
       "      <td>0.00000</td>\n",
       "      <td>покупка жилья</td>\n",
       "    </tr>\n",
       "    <tr>\n",
       "      <th>1</th>\n",
       "      <td>1</td>\n",
       "      <td>0</td>\n",
       "      <td>36</td>\n",
       "      <td>среднее</td>\n",
       "      <td>1</td>\n",
       "      <td>женат / замужем</td>\n",
       "      <td>0</td>\n",
       "      <td>F</td>\n",
       "      <td>сотрудник</td>\n",
       "      <td>0</td>\n",
       "      <td>0.00000</td>\n",
       "      <td>приобретение автомобиля</td>\n",
       "    </tr>\n",
       "    <tr>\n",
       "      <th>2</th>\n",
       "      <td>0</td>\n",
       "      <td>0</td>\n",
       "      <td>33</td>\n",
       "      <td>среднее</td>\n",
       "      <td>1</td>\n",
       "      <td>женат / замужем</td>\n",
       "      <td>0</td>\n",
       "      <td>M</td>\n",
       "      <td>сотрудник</td>\n",
       "      <td>0</td>\n",
       "      <td>0.00000</td>\n",
       "      <td>покупка жилья</td>\n",
       "    </tr>\n",
       "    <tr>\n",
       "      <th>3</th>\n",
       "      <td>3</td>\n",
       "      <td>0</td>\n",
       "      <td>32</td>\n",
       "      <td>среднее</td>\n",
       "      <td>1</td>\n",
       "      <td>женат / замужем</td>\n",
       "      <td>0</td>\n",
       "      <td>M</td>\n",
       "      <td>сотрудник</td>\n",
       "      <td>0</td>\n",
       "      <td>0.00000</td>\n",
       "      <td>дополнительное образование</td>\n",
       "    </tr>\n",
       "    <tr>\n",
       "      <th>4</th>\n",
       "      <td>0</td>\n",
       "      <td>14177</td>\n",
       "      <td>53</td>\n",
       "      <td>среднее</td>\n",
       "      <td>1</td>\n",
       "      <td>гражданский брак</td>\n",
       "      <td>1</td>\n",
       "      <td>F</td>\n",
       "      <td>пенсионер</td>\n",
       "      <td>0</td>\n",
       "      <td>158616.07787</td>\n",
       "      <td>сыграть свадьбу</td>\n",
       "    </tr>\n",
       "  </tbody>\n",
       "</table>\n",
       "</div>"
      ],
      "text/plain": [
       "   children  days_employed  dob_years education  education_id  \\\n",
       "0         1              0         42    высшее             0   \n",
       "1         1              0         36   среднее             1   \n",
       "2         0              0         33   среднее             1   \n",
       "3         3              0         32   среднее             1   \n",
       "4         0          14177         53   среднее             1   \n",
       "\n",
       "      family_status  family_status_id gender income_type  debt  total_income  \\\n",
       "0   женат / замужем                 0      F   сотрудник     0       0.00000   \n",
       "1   женат / замужем                 0      F   сотрудник     0       0.00000   \n",
       "2   женат / замужем                 0      M   сотрудник     0       0.00000   \n",
       "3   женат / замужем                 0      M   сотрудник     0       0.00000   \n",
       "4  гражданский брак                 1      F   пенсионер     0  158616.07787   \n",
       "\n",
       "                      purpose  \n",
       "0               покупка жилья  \n",
       "1     приобретение автомобиля  \n",
       "2               покупка жилья  \n",
       "3  дополнительное образование  \n",
       "4             сыграть свадьбу  "
      ]
     },
     "metadata": {},
     "output_type": "display_data"
    }
   ],
   "source": [
    "data['education'] = data['education'].str.lower()\n",
    "display(data.head())"
   ]
  },
  {
   "cell_type": "code",
   "execution_count": 24,
   "metadata": {},
   "outputs": [
    {
     "data": {
      "text/plain": [
       "2629"
      ]
     },
     "metadata": {},
     "output_type": "display_data"
    }
   ],
   "source": [
    "display (data.duplicated().sum())#сумма дубликатов\n"
   ]
  },
  {
   "cell_type": "code",
   "execution_count": 25,
   "metadata": {},
   "outputs": [
    {
     "data": {
      "text/html": [
       "<div>\n",
       "<style scoped>\n",
       "    .dataframe tbody tr th:only-of-type {\n",
       "        vertical-align: middle;\n",
       "    }\n",
       "\n",
       "    .dataframe tbody tr th {\n",
       "        vertical-align: top;\n",
       "    }\n",
       "\n",
       "    .dataframe thead th {\n",
       "        text-align: right;\n",
       "    }\n",
       "</style>\n",
       "<table border=\"1\" class=\"dataframe\">\n",
       "  <thead>\n",
       "    <tr style=\"text-align: right;\">\n",
       "      <th></th>\n",
       "      <th>children</th>\n",
       "      <th>days_employed</th>\n",
       "      <th>dob_years</th>\n",
       "      <th>education</th>\n",
       "      <th>education_id</th>\n",
       "      <th>family_status</th>\n",
       "      <th>family_status_id</th>\n",
       "      <th>gender</th>\n",
       "      <th>income_type</th>\n",
       "      <th>debt</th>\n",
       "      <th>total_income</th>\n",
       "      <th>purpose</th>\n",
       "    </tr>\n",
       "  </thead>\n",
       "  <tbody>\n",
       "    <tr>\n",
       "      <th>427</th>\n",
       "      <td>0</td>\n",
       "      <td>0</td>\n",
       "      <td>49</td>\n",
       "      <td>среднее</td>\n",
       "      <td>1</td>\n",
       "      <td>женат / замужем</td>\n",
       "      <td>0</td>\n",
       "      <td>F</td>\n",
       "      <td>сотрудник</td>\n",
       "      <td>0</td>\n",
       "      <td>0.0</td>\n",
       "      <td>строительство недвижимости</td>\n",
       "    </tr>\n",
       "    <tr>\n",
       "      <th>473</th>\n",
       "      <td>0</td>\n",
       "      <td>0</td>\n",
       "      <td>45</td>\n",
       "      <td>среднее</td>\n",
       "      <td>1</td>\n",
       "      <td>женат / замужем</td>\n",
       "      <td>0</td>\n",
       "      <td>F</td>\n",
       "      <td>сотрудник</td>\n",
       "      <td>0</td>\n",
       "      <td>0.0</td>\n",
       "      <td>на покупку подержанного автомобиля</td>\n",
       "    </tr>\n",
       "    <tr>\n",
       "      <th>858</th>\n",
       "      <td>0</td>\n",
       "      <td>0</td>\n",
       "      <td>41</td>\n",
       "      <td>среднее</td>\n",
       "      <td>1</td>\n",
       "      <td>женат / замужем</td>\n",
       "      <td>0</td>\n",
       "      <td>F</td>\n",
       "      <td>госслужащий</td>\n",
       "      <td>0</td>\n",
       "      <td>0.0</td>\n",
       "      <td>покупка своего жилья</td>\n",
       "    </tr>\n",
       "    <tr>\n",
       "      <th>860</th>\n",
       "      <td>0</td>\n",
       "      <td>0</td>\n",
       "      <td>27</td>\n",
       "      <td>среднее</td>\n",
       "      <td>1</td>\n",
       "      <td>Не женат / не замужем</td>\n",
       "      <td>4</td>\n",
       "      <td>F</td>\n",
       "      <td>сотрудник</td>\n",
       "      <td>0</td>\n",
       "      <td>0.0</td>\n",
       "      <td>на покупку автомобиля</td>\n",
       "    </tr>\n",
       "    <tr>\n",
       "      <th>904</th>\n",
       "      <td>1</td>\n",
       "      <td>0</td>\n",
       "      <td>47</td>\n",
       "      <td>среднее</td>\n",
       "      <td>1</td>\n",
       "      <td>гражданский брак</td>\n",
       "      <td>1</td>\n",
       "      <td>M</td>\n",
       "      <td>сотрудник</td>\n",
       "      <td>0</td>\n",
       "      <td>0.0</td>\n",
       "      <td>свадьба</td>\n",
       "    </tr>\n",
       "    <tr>\n",
       "      <th>1016</th>\n",
       "      <td>0</td>\n",
       "      <td>0</td>\n",
       "      <td>52</td>\n",
       "      <td>высшее</td>\n",
       "      <td>0</td>\n",
       "      <td>женат / замужем</td>\n",
       "      <td>0</td>\n",
       "      <td>M</td>\n",
       "      <td>компаньон</td>\n",
       "      <td>0</td>\n",
       "      <td>0.0</td>\n",
       "      <td>покупка недвижимости</td>\n",
       "    </tr>\n",
       "    <tr>\n",
       "      <th>1122</th>\n",
       "      <td>0</td>\n",
       "      <td>0</td>\n",
       "      <td>48</td>\n",
       "      <td>среднее</td>\n",
       "      <td>1</td>\n",
       "      <td>Не женат / не замужем</td>\n",
       "      <td>4</td>\n",
       "      <td>F</td>\n",
       "      <td>сотрудник</td>\n",
       "      <td>0</td>\n",
       "      <td>0.0</td>\n",
       "      <td>покупка коммерческой недвижимости</td>\n",
       "    </tr>\n",
       "    <tr>\n",
       "      <th>1216</th>\n",
       "      <td>0</td>\n",
       "      <td>0</td>\n",
       "      <td>49</td>\n",
       "      <td>среднее</td>\n",
       "      <td>1</td>\n",
       "      <td>женат / замужем</td>\n",
       "      <td>0</td>\n",
       "      <td>F</td>\n",
       "      <td>сотрудник</td>\n",
       "      <td>0</td>\n",
       "      <td>0.0</td>\n",
       "      <td>строительство собственной недвижимости</td>\n",
       "    </tr>\n",
       "    <tr>\n",
       "      <th>1226</th>\n",
       "      <td>0</td>\n",
       "      <td>0</td>\n",
       "      <td>42</td>\n",
       "      <td>среднее</td>\n",
       "      <td>1</td>\n",
       "      <td>женат / замужем</td>\n",
       "      <td>0</td>\n",
       "      <td>M</td>\n",
       "      <td>сотрудник</td>\n",
       "      <td>0</td>\n",
       "      <td>0.0</td>\n",
       "      <td>сделка с автомобилем</td>\n",
       "    </tr>\n",
       "    <tr>\n",
       "      <th>1247</th>\n",
       "      <td>0</td>\n",
       "      <td>0</td>\n",
       "      <td>54</td>\n",
       "      <td>среднее</td>\n",
       "      <td>1</td>\n",
       "      <td>гражданский брак</td>\n",
       "      <td>1</td>\n",
       "      <td>M</td>\n",
       "      <td>сотрудник</td>\n",
       "      <td>0</td>\n",
       "      <td>0.0</td>\n",
       "      <td>свадьба</td>\n",
       "    </tr>\n",
       "  </tbody>\n",
       "</table>\n",
       "</div>"
      ],
      "text/plain": [
       "      children  days_employed  dob_years education  education_id  \\\n",
       "427          0              0         49   среднее             1   \n",
       "473          0              0         45   среднее             1   \n",
       "858          0              0         41   среднее             1   \n",
       "860          0              0         27   среднее             1   \n",
       "904          1              0         47   среднее             1   \n",
       "1016         0              0         52    высшее             0   \n",
       "1122         0              0         48   среднее             1   \n",
       "1216         0              0         49   среднее             1   \n",
       "1226         0              0         42   среднее             1   \n",
       "1247         0              0         54   среднее             1   \n",
       "\n",
       "              family_status  family_status_id gender  income_type  debt  \\\n",
       "427         женат / замужем                 0      F    сотрудник     0   \n",
       "473         женат / замужем                 0      F    сотрудник     0   \n",
       "858         женат / замужем                 0      F  госслужащий     0   \n",
       "860   Не женат / не замужем                 4      F    сотрудник     0   \n",
       "904        гражданский брак                 1      M    сотрудник     0   \n",
       "1016        женат / замужем                 0      M    компаньон     0   \n",
       "1122  Не женат / не замужем                 4      F    сотрудник     0   \n",
       "1216        женат / замужем                 0      F    сотрудник     0   \n",
       "1226        женат / замужем                 0      M    сотрудник     0   \n",
       "1247       гражданский брак                 1      M    сотрудник     0   \n",
       "\n",
       "      total_income                                 purpose  \n",
       "427            0.0              строительство недвижимости  \n",
       "473            0.0      на покупку подержанного автомобиля  \n",
       "858            0.0                    покупка своего жилья  \n",
       "860            0.0                   на покупку автомобиля  \n",
       "904            0.0                                 свадьба  \n",
       "1016           0.0                    покупка недвижимости  \n",
       "1122           0.0       покупка коммерческой недвижимости  \n",
       "1216           0.0  строительство собственной недвижимости  \n",
       "1226           0.0                    сделка с автомобилем  \n",
       "1247           0.0                                 свадьба  "
      ]
     },
     "metadata": {},
     "output_type": "display_data"
    },
    {
     "data": {
      "text/plain": [
       "0"
      ]
     },
     "metadata": {},
     "output_type": "display_data"
    }
   ],
   "source": [
    "duplicated_data = data[data.duplicated()].head(10) #результат — датафрейм с дубликатами\n",
    "display(duplicated_data) \n",
    "data=data.drop_duplicates()\n",
    "data = data.dropna().reset_index(drop=True) \n",
    "display (data.duplicated().sum())#сумма дубликатов"
   ]
  },
  {
   "cell_type": "markdown",
   "metadata": {},
   "source": [
    "**Вывод**"
   ]
  },
  {
   "cell_type": "markdown",
   "metadata": {},
   "source": [
    "проверка дубликатов показала, что количество дубликатов составляет 2629 шт. У этих заемщиков нет данных по ежемесяному доход, нет задолжности, нет рабочих дней. В принципе для кредитного отдела они не интересны и их можно удалить"
   ]
  },
  {
   "cell_type": "markdown",
   "metadata": {},
   "source": [
    "### Лемматизация"
   ]
  },
  {
   "cell_type": "code",
   "execution_count": 26,
   "metadata": {},
   "outputs": [
    {
     "data": {
      "text/plain": [
       "0                       покупка жилья\n",
       "1             приобретение автомобиля\n",
       "2                       покупка жилья\n",
       "3          дополнительное образование\n",
       "4                     сыграть свадьбу\n",
       "                     ...             \n",
       "18891               операции с жильем\n",
       "18892            сделка с автомобилем\n",
       "18893                    недвижимость\n",
       "18894    на покупку своего автомобиля\n",
       "18895           на покупку автомобиля\n",
       "Name: purpose, Length: 18896, dtype: object"
      ]
     },
     "metadata": {},
     "output_type": "display_data"
    },
    {
     "data": {
      "text/plain": [
       "Counter({'покупка': 5192,\n",
       "         ' ': 48676,\n",
       "         'жилье': 3907,\n",
       "         'приобретение': 428,\n",
       "         'автомобиль': 3912,\n",
       "         'дополнительный': 857,\n",
       "         'образование': 3692,\n",
       "         'сыграть': 589,\n",
       "         'свадьба': 1762,\n",
       "         'операция': 2331,\n",
       "         'с': 2633,\n",
       "         'на': 1896,\n",
       "         'проведение': 586,\n",
       "         'для': 1135,\n",
       "         'семья': 564,\n",
       "         'недвижимость': 5623,\n",
       "         'коммерческий': 1182,\n",
       "         'жилой': 1076,\n",
       "         'строительство': 1643,\n",
       "         'собственный': 565,\n",
       "         'подержать': 785,\n",
       "         'свой': 1975,\n",
       "         'со': 565,\n",
       "         'заниматься': 834,\n",
       "         'сделка': 867,\n",
       "         'получение': 1221,\n",
       "         'высокий': 1252,\n",
       "         'подержанный': 100,\n",
       "         'профильный': 390,\n",
       "         'сдача': 571,\n",
       "         'ремонт': 544,\n",
       "         ' \\n': 1})"
      ]
     },
     "metadata": {},
     "output_type": "display_data"
    }
   ],
   "source": [
    "#Определяем частотность слов\n",
    "purpose_text=data['purpose']# столбец по цели\n",
    "display(purpose_text)\n",
    "purpose_text_sum=(purpose_text+' ').sum()# объеденяем все в одно целое и добавляем пробелы\n",
    "\n",
    "lemmas_n=m.lemmatize(purpose_text_sum)# лемматизируем\n",
    "\n",
    "display(Counter(lemmas_n))# считаем частоту слов\n",
    "# может можно как-то по другому"
   ]
  },
  {
   "cell_type": "code",
   "execution_count": 27,
   "metadata": {},
   "outputs": [
    {
     "data": {
      "text/html": [
       "<div>\n",
       "<style scoped>\n",
       "    .dataframe tbody tr th:only-of-type {\n",
       "        vertical-align: middle;\n",
       "    }\n",
       "\n",
       "    .dataframe tbody tr th {\n",
       "        vertical-align: top;\n",
       "    }\n",
       "\n",
       "    .dataframe thead th {\n",
       "        text-align: right;\n",
       "    }\n",
       "</style>\n",
       "<table border=\"1\" class=\"dataframe\">\n",
       "  <thead>\n",
       "    <tr style=\"text-align: right;\">\n",
       "      <th></th>\n",
       "      <th>children</th>\n",
       "      <th>days_employed</th>\n",
       "      <th>dob_years</th>\n",
       "      <th>education</th>\n",
       "      <th>education_id</th>\n",
       "      <th>family_status</th>\n",
       "      <th>family_status_id</th>\n",
       "      <th>gender</th>\n",
       "      <th>income_type</th>\n",
       "      <th>debt</th>\n",
       "      <th>total_income</th>\n",
       "      <th>purpose</th>\n",
       "      <th>purpose_id</th>\n",
       "      <th>purpose_lemmas</th>\n",
       "    </tr>\n",
       "  </thead>\n",
       "  <tbody>\n",
       "    <tr>\n",
       "      <th>0</th>\n",
       "      <td>1</td>\n",
       "      <td>0</td>\n",
       "      <td>42</td>\n",
       "      <td>высшее</td>\n",
       "      <td>0</td>\n",
       "      <td>женат / замужем</td>\n",
       "      <td>0</td>\n",
       "      <td>F</td>\n",
       "      <td>сотрудник</td>\n",
       "      <td>0</td>\n",
       "      <td>0.00000</td>\n",
       "      <td>покупка жилья</td>\n",
       "      <td>1</td>\n",
       "      <td>жилье</td>\n",
       "    </tr>\n",
       "    <tr>\n",
       "      <th>1</th>\n",
       "      <td>1</td>\n",
       "      <td>0</td>\n",
       "      <td>36</td>\n",
       "      <td>среднее</td>\n",
       "      <td>1</td>\n",
       "      <td>женат / замужем</td>\n",
       "      <td>0</td>\n",
       "      <td>F</td>\n",
       "      <td>сотрудник</td>\n",
       "      <td>0</td>\n",
       "      <td>0.00000</td>\n",
       "      <td>приобретение автомобиля</td>\n",
       "      <td>3</td>\n",
       "      <td>автомобиль</td>\n",
       "    </tr>\n",
       "    <tr>\n",
       "      <th>2</th>\n",
       "      <td>0</td>\n",
       "      <td>0</td>\n",
       "      <td>33</td>\n",
       "      <td>среднее</td>\n",
       "      <td>1</td>\n",
       "      <td>женат / замужем</td>\n",
       "      <td>0</td>\n",
       "      <td>M</td>\n",
       "      <td>сотрудник</td>\n",
       "      <td>0</td>\n",
       "      <td>0.00000</td>\n",
       "      <td>покупка жилья</td>\n",
       "      <td>1</td>\n",
       "      <td>жилье</td>\n",
       "    </tr>\n",
       "    <tr>\n",
       "      <th>3</th>\n",
       "      <td>3</td>\n",
       "      <td>0</td>\n",
       "      <td>32</td>\n",
       "      <td>среднее</td>\n",
       "      <td>1</td>\n",
       "      <td>женат / замужем</td>\n",
       "      <td>0</td>\n",
       "      <td>M</td>\n",
       "      <td>сотрудник</td>\n",
       "      <td>0</td>\n",
       "      <td>0.00000</td>\n",
       "      <td>дополнительное образование</td>\n",
       "      <td>2</td>\n",
       "      <td>образование</td>\n",
       "    </tr>\n",
       "    <tr>\n",
       "      <th>4</th>\n",
       "      <td>0</td>\n",
       "      <td>14177</td>\n",
       "      <td>53</td>\n",
       "      <td>среднее</td>\n",
       "      <td>1</td>\n",
       "      <td>гражданский брак</td>\n",
       "      <td>1</td>\n",
       "      <td>F</td>\n",
       "      <td>пенсионер</td>\n",
       "      <td>0</td>\n",
       "      <td>158616.07787</td>\n",
       "      <td>сыграть свадьбу</td>\n",
       "      <td>4</td>\n",
       "      <td>свадьба</td>\n",
       "    </tr>\n",
       "    <tr>\n",
       "      <th>5</th>\n",
       "      <td>0</td>\n",
       "      <td>0</td>\n",
       "      <td>27</td>\n",
       "      <td>высшее</td>\n",
       "      <td>0</td>\n",
       "      <td>гражданский брак</td>\n",
       "      <td>1</td>\n",
       "      <td>M</td>\n",
       "      <td>компаньон</td>\n",
       "      <td>0</td>\n",
       "      <td>0.00000</td>\n",
       "      <td>покупка жилья</td>\n",
       "      <td>1</td>\n",
       "      <td>жилье</td>\n",
       "    </tr>\n",
       "    <tr>\n",
       "      <th>6</th>\n",
       "      <td>0</td>\n",
       "      <td>0</td>\n",
       "      <td>43</td>\n",
       "      <td>высшее</td>\n",
       "      <td>0</td>\n",
       "      <td>женат / замужем</td>\n",
       "      <td>0</td>\n",
       "      <td>F</td>\n",
       "      <td>компаньон</td>\n",
       "      <td>0</td>\n",
       "      <td>0.00000</td>\n",
       "      <td>операции с жильем</td>\n",
       "      <td>1</td>\n",
       "      <td>жилье</td>\n",
       "    </tr>\n",
       "    <tr>\n",
       "      <th>7</th>\n",
       "      <td>0</td>\n",
       "      <td>0</td>\n",
       "      <td>50</td>\n",
       "      <td>среднее</td>\n",
       "      <td>1</td>\n",
       "      <td>женат / замужем</td>\n",
       "      <td>0</td>\n",
       "      <td>M</td>\n",
       "      <td>сотрудник</td>\n",
       "      <td>0</td>\n",
       "      <td>0.00000</td>\n",
       "      <td>образование</td>\n",
       "      <td>2</td>\n",
       "      <td>образование</td>\n",
       "    </tr>\n",
       "    <tr>\n",
       "      <th>8</th>\n",
       "      <td>2</td>\n",
       "      <td>0</td>\n",
       "      <td>35</td>\n",
       "      <td>высшее</td>\n",
       "      <td>0</td>\n",
       "      <td>гражданский брак</td>\n",
       "      <td>1</td>\n",
       "      <td>F</td>\n",
       "      <td>сотрудник</td>\n",
       "      <td>0</td>\n",
       "      <td>0.00000</td>\n",
       "      <td>на проведение свадьбы</td>\n",
       "      <td>4</td>\n",
       "      <td>свадьба</td>\n",
       "    </tr>\n",
       "    <tr>\n",
       "      <th>9</th>\n",
       "      <td>0</td>\n",
       "      <td>0</td>\n",
       "      <td>41</td>\n",
       "      <td>среднее</td>\n",
       "      <td>1</td>\n",
       "      <td>женат / замужем</td>\n",
       "      <td>0</td>\n",
       "      <td>M</td>\n",
       "      <td>сотрудник</td>\n",
       "      <td>0</td>\n",
       "      <td>0.00000</td>\n",
       "      <td>покупка жилья для семьи</td>\n",
       "      <td>1</td>\n",
       "      <td>жилье</td>\n",
       "    </tr>\n",
       "  </tbody>\n",
       "</table>\n",
       "</div>"
      ],
      "text/plain": [
       "   children  days_employed  dob_years education  education_id  \\\n",
       "0         1              0         42    высшее             0   \n",
       "1         1              0         36   среднее             1   \n",
       "2         0              0         33   среднее             1   \n",
       "3         3              0         32   среднее             1   \n",
       "4         0          14177         53   среднее             1   \n",
       "5         0              0         27    высшее             0   \n",
       "6         0              0         43    высшее             0   \n",
       "7         0              0         50   среднее             1   \n",
       "8         2              0         35    высшее             0   \n",
       "9         0              0         41   среднее             1   \n",
       "\n",
       "      family_status  family_status_id gender income_type  debt  total_income  \\\n",
       "0   женат / замужем                 0      F   сотрудник     0       0.00000   \n",
       "1   женат / замужем                 0      F   сотрудник     0       0.00000   \n",
       "2   женат / замужем                 0      M   сотрудник     0       0.00000   \n",
       "3   женат / замужем                 0      M   сотрудник     0       0.00000   \n",
       "4  гражданский брак                 1      F   пенсионер     0  158616.07787   \n",
       "5  гражданский брак                 1      M   компаньон     0       0.00000   \n",
       "6   женат / замужем                 0      F   компаньон     0       0.00000   \n",
       "7   женат / замужем                 0      M   сотрудник     0       0.00000   \n",
       "8  гражданский брак                 1      F   сотрудник     0       0.00000   \n",
       "9   женат / замужем                 0      M   сотрудник     0       0.00000   \n",
       "\n",
       "                      purpose  purpose_id purpose_lemmas  \n",
       "0               покупка жилья           1          жилье  \n",
       "1     приобретение автомобиля           3     автомобиль  \n",
       "2               покупка жилья           1          жилье  \n",
       "3  дополнительное образование           2    образование  \n",
       "4             сыграть свадьбу           4        свадьба  \n",
       "5               покупка жилья           1          жилье  \n",
       "6           операции с жильем           1          жилье  \n",
       "7                 образование           2    образование  \n",
       "8       на проведение свадьбы           4        свадьба  \n",
       "9     покупка жилья для семьи           1          жилье  "
      ]
     },
     "metadata": {},
     "output_type": "display_data"
    },
    {
     "data": {
      "text/plain": [
       "1    9530\n",
       "3    3912\n",
       "2    3692\n",
       "4    1762\n",
       "Name: purpose_id, dtype: int64"
      ]
     },
     "metadata": {},
     "output_type": "display_data"
    },
    {
     "data": {
      "text/plain": [
       "'Всего заявок на кредит:'"
      ]
     },
     "metadata": {},
     "output_type": "display_data"
    },
    {
     "data": {
      "text/plain": [
       "18896"
      ]
     },
     "metadata": {},
     "output_type": "display_data"
    }
   ],
   "source": [
    "data_lemmas=[]# список для лемматизированных данных\n",
    "purpose_id=[]# список purpose_id для наглядности\n",
    "purpose_lemmas=[]# расшифровка лемматизированных данных\n",
    "for i in range(len(data['purpose'])):\n",
    "    lemmas=m.lemmatize(data['purpose'][i])\n",
    "    data_lemmas.append(lemmas)\n",
    "    if ('жилье' in lemmas) or ('недвижимость' in lemmas):\n",
    "        purpose_id.append(1)\n",
    "        purpose_lemmas.append('жилье')\n",
    "    elif 'образование' in lemmas:\n",
    "        purpose_id.append(2)\n",
    "        purpose_lemmas.append('образование')\n",
    "    elif 'автомобиль' in lemmas:\n",
    "        purpose_id.append(3)\n",
    "        purpose_lemmas.append('автомобиль')\n",
    "    elif 'свадьба' in lemmas:\n",
    "        purpose_id.append(4)\n",
    "        purpose_lemmas.append('свадьба')\n",
    "    else:\n",
    "        purpose_id.append(5)\n",
    "        \n",
    "\n",
    "        \n",
    "data['purpose_id']=purpose_id\n",
    "data['purpose_lemmas']=purpose_lemmas\n",
    "display(data.head(10))\n",
    "\n",
    "\n",
    "display(data['purpose_id'].value_counts())# подсчет количества purpose_id \n",
    "display('Всего заявок на кредит:',data['purpose_id'].value_counts().sum())"
   ]
  },
  {
   "cell_type": "markdown",
   "metadata": {},
   "source": [
    "**Вывод**"
   ]
  },
  {
   "cell_type": "markdown",
   "metadata": {},
   "source": [
    "Лемматизировали цели кредита, определили что всего 4 цели (жилье, образование, автомобиль, свадьба). При лемматизации дополнительно были выявлены слова (операция - относится к недвижимости; строительство, ремонт тоже отностися к недвижимости) поэтому всего 4 цели кредита"
   ]
  },
  {
   "cell_type": "markdown",
   "metadata": {},
   "source": [
    "### Категоризация данных"
   ]
  },
  {
   "cell_type": "code",
   "execution_count": 28,
   "metadata": {},
   "outputs": [
    {
     "data": {
      "text/html": [
       "<div>\n",
       "<style scoped>\n",
       "    .dataframe tbody tr th:only-of-type {\n",
       "        vertical-align: middle;\n",
       "    }\n",
       "\n",
       "    .dataframe tbody tr th {\n",
       "        vertical-align: top;\n",
       "    }\n",
       "\n",
       "    .dataframe thead th {\n",
       "        text-align: right;\n",
       "    }\n",
       "</style>\n",
       "<table border=\"1\" class=\"dataframe\">\n",
       "  <thead>\n",
       "    <tr style=\"text-align: right;\">\n",
       "      <th></th>\n",
       "      <th></th>\n",
       "      <th>debt</th>\n",
       "      <th>percentage_%</th>\n",
       "    </tr>\n",
       "    <tr>\n",
       "      <th>children</th>\n",
       "      <th>debt</th>\n",
       "      <th></th>\n",
       "      <th></th>\n",
       "    </tr>\n",
       "  </thead>\n",
       "  <tbody>\n",
       "    <tr>\n",
       "      <th rowspan=\"2\" valign=\"top\">0</th>\n",
       "      <th>0</th>\n",
       "      <td>11229</td>\n",
       "      <td>91.530812</td>\n",
       "    </tr>\n",
       "    <tr>\n",
       "      <th>1</th>\n",
       "      <td>1039</td>\n",
       "      <td>8.469188</td>\n",
       "    </tr>\n",
       "    <tr>\n",
       "      <th rowspan=\"2\" valign=\"top\">1</th>\n",
       "      <th>0</th>\n",
       "      <td>3907</td>\n",
       "      <td>90.002304</td>\n",
       "    </tr>\n",
       "    <tr>\n",
       "      <th>1</th>\n",
       "      <td>434</td>\n",
       "      <td>9.997696</td>\n",
       "    </tr>\n",
       "    <tr>\n",
       "      <th rowspan=\"2\" valign=\"top\">2</th>\n",
       "      <th>0</th>\n",
       "      <td>1716</td>\n",
       "      <td>89.655172</td>\n",
       "    </tr>\n",
       "    <tr>\n",
       "      <th>1</th>\n",
       "      <td>198</td>\n",
       "      <td>10.344828</td>\n",
       "    </tr>\n",
       "    <tr>\n",
       "      <th rowspan=\"2\" valign=\"top\">3</th>\n",
       "      <th>0</th>\n",
       "      <td>297</td>\n",
       "      <td>91.666667</td>\n",
       "    </tr>\n",
       "    <tr>\n",
       "      <th>1</th>\n",
       "      <td>27</td>\n",
       "      <td>8.333333</td>\n",
       "    </tr>\n",
       "    <tr>\n",
       "      <th rowspan=\"2\" valign=\"top\">4</th>\n",
       "      <th>0</th>\n",
       "      <td>36</td>\n",
       "      <td>90.000000</td>\n",
       "    </tr>\n",
       "    <tr>\n",
       "      <th>1</th>\n",
       "      <td>4</td>\n",
       "      <td>10.000000</td>\n",
       "    </tr>\n",
       "    <tr>\n",
       "      <th>5</th>\n",
       "      <th>0</th>\n",
       "      <td>9</td>\n",
       "      <td>100.000000</td>\n",
       "    </tr>\n",
       "  </tbody>\n",
       "</table>\n",
       "</div>"
      ],
      "text/plain": [
       "                debt  percentage_%\n",
       "children debt                     \n",
       "0        0     11229     91.530812\n",
       "         1      1039      8.469188\n",
       "1        0      3907     90.002304\n",
       "         1       434      9.997696\n",
       "2        0      1716     89.655172\n",
       "         1       198     10.344828\n",
       "3        0       297     91.666667\n",
       "         1        27      8.333333\n",
       "4        0        36     90.000000\n",
       "         1         4     10.000000\n",
       "5        0         9    100.000000"
      ]
     },
     "metadata": {},
     "output_type": "display_data"
    }
   ],
   "source": [
    "# сгруппируем таблицу по признаку задолженности и от количества детей\n",
    "data_children_grouped = data.groupby(['children', 'debt']).agg({'debt':'count'})\n",
    "\n",
    "# рассчитаем % по типу наличия задолженности от общего количества кредитов\n",
    "data_children_grouped['percentage_%']=(data_children_grouped['debt']/(data_children_grouped.groupby('children')['debt'].transform('sum')))*100\n",
    "display(data_children_grouped)"
   ]
  },
  {
   "cell_type": "code",
   "execution_count": 29,
   "metadata": {},
   "outputs": [
    {
     "data": {
      "text/html": [
       "<div>\n",
       "<style scoped>\n",
       "    .dataframe tbody tr th:only-of-type {\n",
       "        vertical-align: middle;\n",
       "    }\n",
       "\n",
       "    .dataframe tbody tr th {\n",
       "        vertical-align: top;\n",
       "    }\n",
       "\n",
       "    .dataframe thead th {\n",
       "        text-align: right;\n",
       "    }\n",
       "</style>\n",
       "<table border=\"1\" class=\"dataframe\">\n",
       "  <thead>\n",
       "    <tr style=\"text-align: right;\">\n",
       "      <th></th>\n",
       "      <th></th>\n",
       "      <th>debt</th>\n",
       "      <th>percentage_%</th>\n",
       "    </tr>\n",
       "    <tr>\n",
       "      <th>family_status_id</th>\n",
       "      <th>debt</th>\n",
       "      <th></th>\n",
       "      <th></th>\n",
       "    </tr>\n",
       "  </thead>\n",
       "  <tbody>\n",
       "    <tr>\n",
       "      <th rowspan=\"2\" valign=\"top\">0</th>\n",
       "      <th>0</th>\n",
       "      <td>9659</td>\n",
       "      <td>91.398562</td>\n",
       "    </tr>\n",
       "    <tr>\n",
       "      <th>1</th>\n",
       "      <td>909</td>\n",
       "      <td>8.601438</td>\n",
       "    </tr>\n",
       "    <tr>\n",
       "      <th rowspan=\"2\" valign=\"top\">1</th>\n",
       "      <th>0</th>\n",
       "      <td>3167</td>\n",
       "      <td>89.337094</td>\n",
       "    </tr>\n",
       "    <tr>\n",
       "      <th>1</th>\n",
       "      <td>378</td>\n",
       "      <td>10.662906</td>\n",
       "    </tr>\n",
       "    <tr>\n",
       "      <th rowspan=\"2\" valign=\"top\">2</th>\n",
       "      <th>0</th>\n",
       "      <td>884</td>\n",
       "      <td>93.347413</td>\n",
       "    </tr>\n",
       "    <tr>\n",
       "      <th>1</th>\n",
       "      <td>63</td>\n",
       "      <td>6.652587</td>\n",
       "    </tr>\n",
       "    <tr>\n",
       "      <th rowspan=\"2\" valign=\"top\">3</th>\n",
       "      <th>0</th>\n",
       "      <td>1084</td>\n",
       "      <td>92.728828</td>\n",
       "    </tr>\n",
       "    <tr>\n",
       "      <th>1</th>\n",
       "      <td>85</td>\n",
       "      <td>7.271172</td>\n",
       "    </tr>\n",
       "    <tr>\n",
       "      <th rowspan=\"2\" valign=\"top\">4</th>\n",
       "      <th>0</th>\n",
       "      <td>2400</td>\n",
       "      <td>89.988751</td>\n",
       "    </tr>\n",
       "    <tr>\n",
       "      <th>1</th>\n",
       "      <td>267</td>\n",
       "      <td>10.011249</td>\n",
       "    </tr>\n",
       "  </tbody>\n",
       "</table>\n",
       "</div>"
      ],
      "text/plain": [
       "                       debt  percentage_%\n",
       "family_status_id debt                    \n",
       "0                0     9659     91.398562\n",
       "                 1      909      8.601438\n",
       "1                0     3167     89.337094\n",
       "                 1      378     10.662906\n",
       "2                0      884     93.347413\n",
       "                 1       63      6.652587\n",
       "3                0     1084     92.728828\n",
       "                 1       85      7.271172\n",
       "4                0     2400     89.988751\n",
       "                 1      267     10.011249"
      ]
     },
     "metadata": {},
     "output_type": "display_data"
    }
   ],
   "source": [
    "# сгруппируем таблицу по признаку задолженности от семейного положения\n",
    "data_family_status_grouped = data.groupby(['family_status_id', 'debt']).agg({'debt':'count'})\n",
    "data_family_status_grouped['percentage_%']=(data_family_status_grouped['debt']/(data_family_status_grouped.groupby('family_status_id')['debt'].transform('sum')))*100\n",
    "display(data_family_status_grouped)"
   ]
  },
  {
   "cell_type": "code",
   "execution_count": 30,
   "metadata": {},
   "outputs": [
    {
     "data": {
      "text/html": [
       "<div>\n",
       "<style scoped>\n",
       "    .dataframe tbody tr th:only-of-type {\n",
       "        vertical-align: middle;\n",
       "    }\n",
       "\n",
       "    .dataframe tbody tr th {\n",
       "        vertical-align: top;\n",
       "    }\n",
       "\n",
       "    .dataframe thead th {\n",
       "        text-align: right;\n",
       "    }\n",
       "</style>\n",
       "<table border=\"1\" class=\"dataframe\">\n",
       "  <thead>\n",
       "    <tr style=\"text-align: right;\">\n",
       "      <th></th>\n",
       "      <th></th>\n",
       "      <th>debt</th>\n",
       "      <th>percentage_%</th>\n",
       "    </tr>\n",
       "    <tr>\n",
       "      <th>total_income</th>\n",
       "      <th>debt</th>\n",
       "      <th></th>\n",
       "      <th></th>\n",
       "    </tr>\n",
       "  </thead>\n",
       "  <tbody>\n",
       "    <tr>\n",
       "      <th rowspan=\"2\" valign=\"top\">0.000000</th>\n",
       "      <th>0</th>\n",
       "      <td>13581</td>\n",
       "      <td>90.137386</td>\n",
       "    </tr>\n",
       "    <tr>\n",
       "      <th>1</th>\n",
       "      <td>1486</td>\n",
       "      <td>9.862614</td>\n",
       "    </tr>\n",
       "    <tr>\n",
       "      <th>20667.263793</th>\n",
       "      <th>1</th>\n",
       "      <td>1</td>\n",
       "      <td>100.000000</td>\n",
       "    </tr>\n",
       "    <tr>\n",
       "      <th>21205.280566</th>\n",
       "      <th>0</th>\n",
       "      <td>1</td>\n",
       "      <td>100.000000</td>\n",
       "    </tr>\n",
       "    <tr>\n",
       "      <th>21695.101789</th>\n",
       "      <th>0</th>\n",
       "      <td>1</td>\n",
       "      <td>100.000000</td>\n",
       "    </tr>\n",
       "    <tr>\n",
       "      <th>...</th>\n",
       "      <th>...</th>\n",
       "      <td>...</td>\n",
       "      <td>...</td>\n",
       "    </tr>\n",
       "    <tr>\n",
       "      <th>644077.836518</th>\n",
       "      <th>0</th>\n",
       "      <td>1</td>\n",
       "      <td>100.000000</td>\n",
       "    </tr>\n",
       "    <tr>\n",
       "      <th>681300.590458</th>\n",
       "      <th>0</th>\n",
       "      <td>1</td>\n",
       "      <td>100.000000</td>\n",
       "    </tr>\n",
       "    <tr>\n",
       "      <th>694150.890876</th>\n",
       "      <th>0</th>\n",
       "      <td>1</td>\n",
       "      <td>100.000000</td>\n",
       "    </tr>\n",
       "    <tr>\n",
       "      <th>708927.197617</th>\n",
       "      <th>0</th>\n",
       "      <td>1</td>\n",
       "      <td>100.000000</td>\n",
       "    </tr>\n",
       "    <tr>\n",
       "      <th>735103.270167</th>\n",
       "      <th>0</th>\n",
       "      <td>1</td>\n",
       "      <td>100.000000</td>\n",
       "    </tr>\n",
       "  </tbody>\n",
       "</table>\n",
       "<p>3446 rows × 2 columns</p>\n",
       "</div>"
      ],
      "text/plain": [
       "                     debt  percentage_%\n",
       "total_income  debt                     \n",
       "0.000000      0     13581     90.137386\n",
       "              1      1486      9.862614\n",
       "20667.263793  1         1    100.000000\n",
       "21205.280566  0         1    100.000000\n",
       "21695.101789  0         1    100.000000\n",
       "...                   ...           ...\n",
       "644077.836518 0         1    100.000000\n",
       "681300.590458 0         1    100.000000\n",
       "694150.890876 0         1    100.000000\n",
       "708927.197617 0         1    100.000000\n",
       "735103.270167 0         1    100.000000\n",
       "\n",
       "[3446 rows x 2 columns]"
      ]
     },
     "metadata": {},
     "output_type": "display_data"
    }
   ],
   "source": [
    "# сгруппируем таблицу по признаку задолженности от уровня дохода\n",
    "data_total_income_grouped = data.groupby(['total_income', 'debt']).agg({'debt':'count'})\n",
    "data_total_income_grouped['percentage_%']=(data_total_income_grouped['debt']/(data_total_income_grouped.groupby('total_income')['debt'].transform('sum')))*100\n",
    "display(data_total_income_grouped)"
   ]
  },
  {
   "cell_type": "code",
   "execution_count": 31,
   "metadata": {},
   "outputs": [
    {
     "data": {
      "text/html": [
       "<div>\n",
       "<style scoped>\n",
       "    .dataframe tbody tr th:only-of-type {\n",
       "        vertical-align: middle;\n",
       "    }\n",
       "\n",
       "    .dataframe tbody tr th {\n",
       "        vertical-align: top;\n",
       "    }\n",
       "\n",
       "    .dataframe thead th {\n",
       "        text-align: right;\n",
       "    }\n",
       "</style>\n",
       "<table border=\"1\" class=\"dataframe\">\n",
       "  <thead>\n",
       "    <tr style=\"text-align: right;\">\n",
       "      <th></th>\n",
       "      <th></th>\n",
       "      <th>debt</th>\n",
       "      <th>percentage_%</th>\n",
       "    </tr>\n",
       "    <tr>\n",
       "      <th>income_type</th>\n",
       "      <th>debt</th>\n",
       "      <th></th>\n",
       "      <th></th>\n",
       "    </tr>\n",
       "  </thead>\n",
       "  <tbody>\n",
       "    <tr>\n",
       "      <th rowspan=\"2\" valign=\"top\">безработный</th>\n",
       "      <th>0</th>\n",
       "      <td>1</td>\n",
       "      <td>50.000000</td>\n",
       "    </tr>\n",
       "    <tr>\n",
       "      <th>1</th>\n",
       "      <td>1</td>\n",
       "      <td>50.000000</td>\n",
       "    </tr>\n",
       "    <tr>\n",
       "      <th>в декрете</th>\n",
       "      <th>1</th>\n",
       "      <td>1</td>\n",
       "      <td>100.000000</td>\n",
       "    </tr>\n",
       "    <tr>\n",
       "      <th rowspan=\"2\" valign=\"top\">госслужащий</th>\n",
       "      <th>0</th>\n",
       "      <td>1317</td>\n",
       "      <td>93.870278</td>\n",
       "    </tr>\n",
       "    <tr>\n",
       "      <th>1</th>\n",
       "      <td>86</td>\n",
       "      <td>6.129722</td>\n",
       "    </tr>\n",
       "    <tr>\n",
       "      <th rowspan=\"2\" valign=\"top\">компаньон</th>\n",
       "      <th>0</th>\n",
       "      <td>4250</td>\n",
       "      <td>91.931646</td>\n",
       "    </tr>\n",
       "    <tr>\n",
       "      <th>1</th>\n",
       "      <td>373</td>\n",
       "      <td>8.068354</td>\n",
       "    </tr>\n",
       "    <tr>\n",
       "      <th rowspan=\"2\" valign=\"top\">пенсионер</th>\n",
       "      <th>0</th>\n",
       "      <td>3613</td>\n",
       "      <td>94.358840</td>\n",
       "    </tr>\n",
       "    <tr>\n",
       "      <th>1</th>\n",
       "      <td>216</td>\n",
       "      <td>5.641160</td>\n",
       "    </tr>\n",
       "    <tr>\n",
       "      <th>предприниматель</th>\n",
       "      <th>0</th>\n",
       "      <td>2</td>\n",
       "      <td>100.000000</td>\n",
       "    </tr>\n",
       "    <tr>\n",
       "      <th rowspan=\"2\" valign=\"top\">сотрудник</th>\n",
       "      <th>0</th>\n",
       "      <td>8010</td>\n",
       "      <td>88.655230</td>\n",
       "    </tr>\n",
       "    <tr>\n",
       "      <th>1</th>\n",
       "      <td>1025</td>\n",
       "      <td>11.344770</td>\n",
       "    </tr>\n",
       "    <tr>\n",
       "      <th>студент</th>\n",
       "      <th>0</th>\n",
       "      <td>1</td>\n",
       "      <td>100.000000</td>\n",
       "    </tr>\n",
       "  </tbody>\n",
       "</table>\n",
       "</div>"
      ],
      "text/plain": [
       "                      debt  percentage_%\n",
       "income_type     debt                    \n",
       "безработный     0        1     50.000000\n",
       "                1        1     50.000000\n",
       "в декрете       1        1    100.000000\n",
       "госслужащий     0     1317     93.870278\n",
       "                1       86      6.129722\n",
       "компаньон       0     4250     91.931646\n",
       "                1      373      8.068354\n",
       "пенсионер       0     3613     94.358840\n",
       "                1      216      5.641160\n",
       "предприниматель 0        2    100.000000\n",
       "сотрудник       0     8010     88.655230\n",
       "                1     1025     11.344770\n",
       "студент         0        1    100.000000"
      ]
     },
     "metadata": {},
     "output_type": "display_data"
    }
   ],
   "source": [
    "# сгруппируем таблицу по признаку задолженности от типа занятости\n",
    "data_income_type_grouped = data.groupby(['income_type', 'debt']).agg({'debt':'count'})\n",
    "data_income_type_grouped['percentage_%']=(data_income_type_grouped['debt']/(data_income_type_grouped.groupby('income_type')['debt'].transform('sum')))*100\n",
    "display(data_income_type_grouped)"
   ]
  },
  {
   "cell_type": "code",
   "execution_count": 32,
   "metadata": {},
   "outputs": [
    {
     "data": {
      "text/html": [
       "<div>\n",
       "<style scoped>\n",
       "    .dataframe tbody tr th:only-of-type {\n",
       "        vertical-align: middle;\n",
       "    }\n",
       "\n",
       "    .dataframe tbody tr th {\n",
       "        vertical-align: top;\n",
       "    }\n",
       "\n",
       "    .dataframe thead th {\n",
       "        text-align: right;\n",
       "    }\n",
       "</style>\n",
       "<table border=\"1\" class=\"dataframe\">\n",
       "  <thead>\n",
       "    <tr style=\"text-align: right;\">\n",
       "      <th></th>\n",
       "      <th></th>\n",
       "      <th></th>\n",
       "      <th>debt</th>\n",
       "      <th>percentage_%</th>\n",
       "    </tr>\n",
       "    <tr>\n",
       "      <th>purpose_id</th>\n",
       "      <th>purpose_lemmas</th>\n",
       "      <th>debt</th>\n",
       "      <th></th>\n",
       "      <th></th>\n",
       "    </tr>\n",
       "  </thead>\n",
       "  <tbody>\n",
       "    <tr>\n",
       "      <th rowspan=\"2\" valign=\"top\">1</th>\n",
       "      <th rowspan=\"2\" valign=\"top\">жилье</th>\n",
       "      <th>0</th>\n",
       "      <td>8768</td>\n",
       "      <td>92.004197</td>\n",
       "    </tr>\n",
       "    <tr>\n",
       "      <th>1</th>\n",
       "      <td>762</td>\n",
       "      <td>7.995803</td>\n",
       "    </tr>\n",
       "    <tr>\n",
       "      <th rowspan=\"2\" valign=\"top\">2</th>\n",
       "      <th rowspan=\"2\" valign=\"top\">образование</th>\n",
       "      <th>0</th>\n",
       "      <td>3326</td>\n",
       "      <td>90.086674</td>\n",
       "    </tr>\n",
       "    <tr>\n",
       "      <th>1</th>\n",
       "      <td>366</td>\n",
       "      <td>9.913326</td>\n",
       "    </tr>\n",
       "    <tr>\n",
       "      <th rowspan=\"2\" valign=\"top\">3</th>\n",
       "      <th rowspan=\"2\" valign=\"top\">автомобиль</th>\n",
       "      <th>0</th>\n",
       "      <td>3515</td>\n",
       "      <td>89.851738</td>\n",
       "    </tr>\n",
       "    <tr>\n",
       "      <th>1</th>\n",
       "      <td>397</td>\n",
       "      <td>10.148262</td>\n",
       "    </tr>\n",
       "    <tr>\n",
       "      <th rowspan=\"2\" valign=\"top\">4</th>\n",
       "      <th rowspan=\"2\" valign=\"top\">свадьба</th>\n",
       "      <th>0</th>\n",
       "      <td>1585</td>\n",
       "      <td>89.954597</td>\n",
       "    </tr>\n",
       "    <tr>\n",
       "      <th>1</th>\n",
       "      <td>177</td>\n",
       "      <td>10.045403</td>\n",
       "    </tr>\n",
       "  </tbody>\n",
       "</table>\n",
       "</div>"
      ],
      "text/plain": [
       "                                debt  percentage_%\n",
       "purpose_id purpose_lemmas debt                    \n",
       "1          жилье          0     8768     92.004197\n",
       "                          1      762      7.995803\n",
       "2          образование    0     3326     90.086674\n",
       "                          1      366      9.913326\n",
       "3          автомобиль     0     3515     89.851738\n",
       "                          1      397     10.148262\n",
       "4          свадьба        0     1585     89.954597\n",
       "                          1      177     10.045403"
      ]
     },
     "metadata": {},
     "output_type": "display_data"
    }
   ],
   "source": [
    "# сгруппируем таблицу по признаку задолженности от типа цели\n",
    "data_purpose_id_grouped = data.groupby(['purpose_id','purpose_lemmas', 'debt']).agg({'debt':'count'})\n",
    "data_purpose_id_grouped['percentage_%']=(data_purpose_id_grouped['debt']/(data_purpose_id_grouped.groupby('purpose_id')['debt'].transform('sum')))*100\n",
    "display(data_purpose_id_grouped)"
   ]
  },
  {
   "cell_type": "markdown",
   "metadata": {},
   "source": [
    "**Вывод**"
   ]
  },
  {
   "cell_type": "markdown",
   "metadata": {},
   "source": [
    "Провели категоризацию данных. Получили соотношение отданных кредитов от просроченных"
   ]
  },
  {
   "cell_type": "markdown",
   "metadata": {},
   "source": [
    "## Шаг 3. Ответьте на вопросы"
   ]
  },
  {
   "cell_type": "markdown",
   "metadata": {},
   "source": [
    "- Есть ли зависимость между наличием детей и возвратом кредита в срок?"
   ]
  },
  {
   "cell_type": "markdown",
   "metadata": {},
   "source": [
    "**Вывод**"
   ]
  },
  {
   "cell_type": "markdown",
   "metadata": {},
   "source": [
    "В принципе зависимость между наличием детей и возвратом кредита в срок есть но не знаительная, все клиенты стараются вернуть кредит, что характерно для 90% клиентов."
   ]
  },
  {
   "cell_type": "markdown",
   "metadata": {},
   "source": [
    "- Есть ли зависимость между семейным положением и возвратом кредита в срок?"
   ]
  },
  {
   "cell_type": "markdown",
   "metadata": {},
   "source": [
    "**Вывод**"
   ]
  },
  {
   "cell_type": "markdown",
   "metadata": {},
   "source": [
    "Данные для оценки зависимости между уровнем дохода и возвратом кредита в срок не показательны, так как могут вернуть как с малым количеством денег, так и не вернуть с большим количеством денег"
   ]
  },
  {
   "cell_type": "markdown",
   "metadata": {},
   "source": [
    "- Есть ли зависимость между уровнем дохода и возвратом кредита в срок?"
   ]
  },
  {
   "cell_type": "markdown",
   "metadata": {},
   "source": [
    "**Вывод**"
   ]
  },
  {
   "cell_type": "markdown",
   "metadata": {},
   "source": [
    "Данные для оценки зависимости между уровнем дохода и возвратом кредита в срок не показательны, так как могут вернуть как с малым количеством денег, так и не вернуть с большим количеством денег"
   ]
  },
  {
   "cell_type": "markdown",
   "metadata": {},
   "source": [
    "- Как разные цели кредита влияют на его возврат в срок?"
   ]
  },
  {
   "cell_type": "markdown",
   "metadata": {},
   "source": [
    "**Вывод**"
   ]
  },
  {
   "cell_type": "markdown",
   "metadata": {},
   "source": [
    "Цели кредита в принципе не влияют на возврат все в рамках 90%"
   ]
  },
  {
   "cell_type": "markdown",
   "metadata": {},
   "source": [
    "## Шаг 4. Общий вывод"
   ]
  },
  {
   "cell_type": "markdown",
   "metadata": {},
   "source": [
    "Провели анализ платежеспособности клиентов, по данным получены следующие показатели:\n",
    "Возвращают кредиты (предприниматель - 100%; пенсионер - 94,4%; госслужащий - 94%; компаньон - 92%; сотрудник -88%).\n",
    "Не возвращают кредиты **студенты**, **безработные**, **в декрете**\n",
    "\n",
    "Проверили четыре гипотезы и установили:\n",
    "\n",
    "1. Есть ли зависимость между наличием детей и возвратом кредита в срок? \n",
    "\n",
    "Первая гипотеза подтвердилась лишь частично.\n",
    "\n",
    "2. Есть ли зависимость между семейным положением и возвратом кредита в срок?\n",
    "\n",
    "Вторая гипотеза подтвердилась лишь отчасти. \n",
    "\n",
    "3. Есть ли зависимость между уровнем дохода и возвратом кредита в срок?\n",
    "\n",
    "Третья гипотеза не подтвердилась на основной массе пользователей они незаметны.\n",
    "\n",
    "4. Как разные цели кредита влияют на его возврат в срок?\n",
    "\n",
    "Четвертая гипотеза подтвердилась лишь отчасти. "
   ]
  }
 ],
 "metadata": {
  "ExecuteTimeLog": [
   {
    "duration": 672,
    "start_time": "2021-12-11T15:40:57.248Z"
   },
   {
    "duration": 60,
    "start_time": "2021-12-11T15:42:56.804Z"
   },
   {
    "duration": 57,
    "start_time": "2021-12-11T15:44:40.752Z"
   },
   {
    "duration": 63,
    "start_time": "2021-12-11T15:47:15.556Z"
   },
   {
    "duration": 12,
    "start_time": "2021-12-11T15:47:51.195Z"
   },
   {
    "duration": 66,
    "start_time": "2021-12-11T16:10:07.436Z"
   },
   {
    "duration": 340,
    "start_time": "2021-12-11T16:18:21.445Z"
   },
   {
    "duration": 57,
    "start_time": "2021-12-11T16:18:31.330Z"
   },
   {
    "duration": 13,
    "start_time": "2021-12-11T16:19:33.345Z"
   },
   {
    "duration": 242,
    "start_time": "2021-12-11T16:24:57.208Z"
   },
   {
    "duration": 12,
    "start_time": "2021-12-11T16:25:09.223Z"
   },
   {
    "duration": 9,
    "start_time": "2021-12-11T16:25:18.208Z"
   },
   {
    "duration": 13,
    "start_time": "2021-12-11T16:25:22.655Z"
   },
   {
    "duration": 12,
    "start_time": "2021-12-11T16:27:45.688Z"
   },
   {
    "duration": 3,
    "start_time": "2021-12-11T16:29:14.424Z"
   },
   {
    "duration": 5,
    "start_time": "2021-12-11T16:29:34.575Z"
   },
   {
    "duration": 6,
    "start_time": "2021-12-11T16:30:03.215Z"
   },
   {
    "duration": 6,
    "start_time": "2021-12-11T16:34:56.214Z"
   },
   {
    "duration": 10,
    "start_time": "2021-12-11T16:40:23.709Z"
   },
   {
    "duration": 14,
    "start_time": "2021-12-11T16:42:18.676Z"
   },
   {
    "duration": 16,
    "start_time": "2021-12-11T16:42:56.133Z"
   },
   {
    "duration": 17,
    "start_time": "2021-12-11T16:43:59.412Z"
   },
   {
    "duration": 15,
    "start_time": "2021-12-11T16:44:24.500Z"
   },
   {
    "duration": 24,
    "start_time": "2021-12-11T16:45:57.044Z"
   },
   {
    "duration": 25,
    "start_time": "2021-12-11T16:47:59.981Z"
   },
   {
    "duration": 340,
    "start_time": "2021-12-11T16:48:50.317Z"
   },
   {
    "duration": 37,
    "start_time": "2021-12-11T16:49:01.351Z"
   },
   {
    "duration": 41,
    "start_time": "2021-12-11T17:12:23.163Z"
   },
   {
    "duration": 35,
    "start_time": "2021-12-11T17:13:47.592Z"
   },
   {
    "duration": 33,
    "start_time": "2021-12-11T17:14:00.871Z"
   },
   {
    "duration": 238,
    "start_time": "2021-12-11T17:15:01.976Z"
   },
   {
    "duration": 35,
    "start_time": "2021-12-11T17:15:21.125Z"
   },
   {
    "duration": 52,
    "start_time": "2021-12-11T17:19:59.199Z"
   },
   {
    "duration": 6,
    "start_time": "2021-12-11T18:00:49.485Z"
   },
   {
    "duration": 6,
    "start_time": "2021-12-11T18:02:15.597Z"
   },
   {
    "duration": 15,
    "start_time": "2021-12-11T18:11:07.731Z"
   },
   {
    "duration": 16,
    "start_time": "2021-12-11T18:13:06.740Z"
   },
   {
    "duration": 15,
    "start_time": "2021-12-11T18:17:52.962Z"
   },
   {
    "duration": 22,
    "start_time": "2021-12-11T18:17:58.660Z"
   },
   {
    "duration": 10,
    "start_time": "2021-12-11T18:18:05.393Z"
   },
   {
    "duration": 11,
    "start_time": "2021-12-11T18:18:11.849Z"
   },
   {
    "duration": 13,
    "start_time": "2021-12-11T18:27:27.183Z"
   },
   {
    "duration": 2603,
    "start_time": "2021-12-11T18:28:39.583Z"
   },
   {
    "duration": 315,
    "start_time": "2021-12-11T18:34:59.999Z"
   },
   {
    "duration": 2693,
    "start_time": "2021-12-11T18:35:21.887Z"
   },
   {
    "duration": 6475,
    "start_time": "2021-12-11T18:36:37.487Z"
   },
   {
    "duration": 245,
    "start_time": "2021-12-11T18:38:56.878Z"
   },
   {
    "duration": 303,
    "start_time": "2021-12-11T18:42:01.877Z"
   },
   {
    "duration": 29,
    "start_time": "2021-12-11T18:42:13.406Z"
   },
   {
    "duration": 30,
    "start_time": "2021-12-11T18:43:20.389Z"
   },
   {
    "duration": 60,
    "start_time": "2021-12-11T18:50:30.693Z"
   },
   {
    "duration": 31,
    "start_time": "2021-12-11T18:50:58.045Z"
   },
   {
    "duration": 670,
    "start_time": "2021-12-11T18:53:33.138Z"
   },
   {
    "duration": 10,
    "start_time": "2021-12-11T18:53:33.810Z"
   },
   {
    "duration": 9,
    "start_time": "2021-12-11T18:53:33.822Z"
   },
   {
    "duration": 49,
    "start_time": "2021-12-11T18:53:33.832Z"
   },
   {
    "duration": 16,
    "start_time": "2021-12-11T18:53:33.883Z"
   },
   {
    "duration": 23,
    "start_time": "2021-12-11T18:53:33.900Z"
   },
   {
    "duration": 38,
    "start_time": "2021-12-11T18:58:42.791Z"
   },
   {
    "duration": 7,
    "start_time": "2021-12-11T18:59:03.981Z"
   },
   {
    "duration": 7,
    "start_time": "2021-12-11T18:59:35.228Z"
   },
   {
    "duration": 9,
    "start_time": "2021-12-11T18:59:58.413Z"
   },
   {
    "duration": 88,
    "start_time": "2021-12-11T19:11:51.114Z"
   },
   {
    "duration": 80,
    "start_time": "2021-12-11T19:12:05.384Z"
   },
   {
    "duration": 76,
    "start_time": "2021-12-11T19:12:20.152Z"
   },
   {
    "duration": 87,
    "start_time": "2021-12-11T19:12:40.808Z"
   },
   {
    "duration": 126,
    "start_time": "2021-12-11T19:13:03.919Z"
   },
   {
    "duration": 82,
    "start_time": "2021-12-11T19:14:12.571Z"
   },
   {
    "duration": 595,
    "start_time": "2021-12-11T19:14:19.512Z"
   },
   {
    "duration": 10,
    "start_time": "2021-12-11T19:14:20.109Z"
   },
   {
    "duration": 48,
    "start_time": "2021-12-11T19:14:20.121Z"
   },
   {
    "duration": 62,
    "start_time": "2021-12-11T19:14:20.170Z"
   },
   {
    "duration": 16,
    "start_time": "2021-12-11T19:14:20.234Z"
   },
   {
    "duration": 78,
    "start_time": "2021-12-11T19:14:20.252Z"
   },
   {
    "duration": 293,
    "start_time": "2021-12-11T19:14:30.228Z"
   },
   {
    "duration": 22,
    "start_time": "2021-12-11T19:15:09.595Z"
   },
   {
    "duration": 80,
    "start_time": "2021-12-11T19:15:37.357Z"
   },
   {
    "duration": 35,
    "start_time": "2021-12-11T19:16:03.804Z"
   },
   {
    "duration": 264,
    "start_time": "2021-12-11T19:16:26.789Z"
   },
   {
    "duration": 22,
    "start_time": "2021-12-11T19:16:40.388Z"
   },
   {
    "duration": 4338,
    "start_time": "2021-12-11T19:19:45.612Z"
   },
   {
    "duration": 4384,
    "start_time": "2021-12-11T19:20:37.955Z"
   },
   {
    "duration": 21,
    "start_time": "2021-12-11T19:20:58.563Z"
   },
   {
    "duration": 3271,
    "start_time": "2021-12-11T19:21:44.107Z"
   },
   {
    "duration": 21,
    "start_time": "2021-12-11T19:22:52.674Z"
   },
   {
    "duration": 22,
    "start_time": "2021-12-11T19:23:02.147Z"
   },
   {
    "duration": 5207,
    "start_time": "2021-12-11T19:23:29.899Z"
   },
   {
    "duration": 13,
    "start_time": "2021-12-11T19:23:54.563Z"
   },
   {
    "duration": 20,
    "start_time": "2021-12-11T19:24:04.816Z"
   },
   {
    "duration": 644,
    "start_time": "2021-12-11T19:25:09.659Z"
   },
   {
    "duration": 11,
    "start_time": "2021-12-11T19:25:10.307Z"
   },
   {
    "duration": 9,
    "start_time": "2021-12-11T19:25:10.320Z"
   },
   {
    "duration": 48,
    "start_time": "2021-12-11T19:25:10.331Z"
   },
   {
    "duration": 14,
    "start_time": "2021-12-11T19:25:10.381Z"
   },
   {
    "duration": 20,
    "start_time": "2021-12-11T19:25:10.397Z"
   },
   {
    "duration": 6,
    "start_time": "2021-12-11T19:25:52.927Z"
   },
   {
    "duration": 6,
    "start_time": "2021-12-11T19:26:00.318Z"
   },
   {
    "duration": 284,
    "start_time": "2021-12-11T19:29:34.405Z"
   },
   {
    "duration": 78,
    "start_time": "2021-12-11T19:31:44.172Z"
   },
   {
    "duration": 231,
    "start_time": "2021-12-11T19:31:55.005Z"
   },
   {
    "duration": 7,
    "start_time": "2021-12-11T19:32:45.892Z"
   },
   {
    "duration": 5,
    "start_time": "2021-12-11T19:32:57.293Z"
   },
   {
    "duration": 4,
    "start_time": "2021-12-11T19:33:20.061Z"
   },
   {
    "duration": 234,
    "start_time": "2021-12-11T19:33:32.844Z"
   },
   {
    "duration": 466,
    "start_time": "2021-12-11T19:33:42.356Z"
   },
   {
    "duration": 310,
    "start_time": "2021-12-11T19:34:21.877Z"
   },
   {
    "duration": 76,
    "start_time": "2021-12-11T19:34:38.133Z"
   },
   {
    "duration": 74,
    "start_time": "2021-12-11T19:34:44.260Z"
   },
   {
    "duration": 4,
    "start_time": "2021-12-11T19:34:50.285Z"
   },
   {
    "duration": 75,
    "start_time": "2021-12-11T19:35:30.173Z"
   },
   {
    "duration": 2534,
    "start_time": "2021-12-11T19:35:37.180Z"
   },
   {
    "duration": 241,
    "start_time": "2021-12-11T19:36:42.893Z"
   },
   {
    "duration": 233,
    "start_time": "2021-12-11T19:37:04.940Z"
   },
   {
    "duration": 22,
    "start_time": "2021-12-11T19:40:36.076Z"
   },
   {
    "duration": 84,
    "start_time": "2021-12-11T19:41:08.947Z"
   },
   {
    "duration": 74,
    "start_time": "2021-12-11T19:41:17.715Z"
   },
   {
    "duration": 256,
    "start_time": "2021-12-11T19:41:33.139Z"
   },
   {
    "duration": 450,
    "start_time": "2021-12-11T19:41:39.323Z"
   },
   {
    "duration": 100,
    "start_time": "2021-12-11T19:46:53.885Z"
   },
   {
    "duration": 233,
    "start_time": "2021-12-11T19:47:03.186Z"
   },
   {
    "duration": 292,
    "start_time": "2021-12-11T19:47:18.394Z"
   },
   {
    "duration": 4646,
    "start_time": "2021-12-11T19:51:24.319Z"
   },
   {
    "duration": 2767,
    "start_time": "2021-12-11T19:53:10.144Z"
   },
   {
    "duration": 221,
    "start_time": "2021-12-11T19:53:32.809Z"
   },
   {
    "duration": 227,
    "start_time": "2021-12-11T19:53:46.815Z"
   },
   {
    "duration": 2716,
    "start_time": "2021-12-11T19:54:00.679Z"
   },
   {
    "duration": 4778,
    "start_time": "2021-12-11T19:55:55.097Z"
   },
   {
    "duration": 4667,
    "start_time": "2021-12-11T19:56:23.527Z"
   },
   {
    "duration": 2695,
    "start_time": "2021-12-11T19:56:55.216Z"
   },
   {
    "duration": 665,
    "start_time": "2021-12-11T20:01:13.772Z"
   },
   {
    "duration": 11,
    "start_time": "2021-12-11T20:01:14.439Z"
   },
   {
    "duration": 12,
    "start_time": "2021-12-11T20:01:14.452Z"
   },
   {
    "duration": 33,
    "start_time": "2021-12-11T20:01:14.466Z"
   },
   {
    "duration": 16,
    "start_time": "2021-12-11T20:01:14.501Z"
   },
   {
    "duration": 7,
    "start_time": "2021-12-11T20:01:14.519Z"
   },
   {
    "duration": 6,
    "start_time": "2021-12-11T20:01:44.337Z"
   },
   {
    "duration": 6,
    "start_time": "2021-12-11T20:01:51.041Z"
   },
   {
    "duration": 6,
    "start_time": "2021-12-11T20:02:56.425Z"
   },
   {
    "duration": 6,
    "start_time": "2021-12-11T20:05:06.760Z"
   },
   {
    "duration": 2507,
    "start_time": "2021-12-11T20:05:48.088Z"
   },
   {
    "duration": 1406,
    "start_time": "2021-12-11T20:08:06.665Z"
   },
   {
    "duration": 1363,
    "start_time": "2021-12-11T20:08:21.072Z"
   },
   {
    "duration": 668,
    "start_time": "2021-12-11T20:08:56.935Z"
   },
   {
    "duration": 11,
    "start_time": "2021-12-11T20:08:57.605Z"
   },
   {
    "duration": 26,
    "start_time": "2021-12-11T20:08:57.617Z"
   },
   {
    "duration": 45,
    "start_time": "2021-12-11T20:08:57.644Z"
   },
   {
    "duration": 16,
    "start_time": "2021-12-11T20:08:57.690Z"
   },
   {
    "duration": 1385,
    "start_time": "2021-12-11T20:08:57.707Z"
   },
   {
    "duration": 459,
    "start_time": "2021-12-12T05:29:42.983Z"
   },
   {
    "duration": 877,
    "start_time": "2021-12-12T05:29:49.768Z"
   },
   {
    "duration": 14,
    "start_time": "2021-12-12T05:29:50.648Z"
   },
   {
    "duration": 12,
    "start_time": "2021-12-12T05:29:50.665Z"
   },
   {
    "duration": 12,
    "start_time": "2021-12-12T05:29:50.680Z"
   },
   {
    "duration": 83,
    "start_time": "2021-12-12T05:29:50.694Z"
   },
   {
    "duration": 26,
    "start_time": "2021-12-12T05:29:50.780Z"
   },
   {
    "duration": 2380,
    "start_time": "2021-12-12T05:29:50.809Z"
   },
   {
    "duration": 11,
    "start_time": "2021-12-12T05:32:47.495Z"
   },
   {
    "duration": 14,
    "start_time": "2021-12-12T05:33:31.791Z"
   },
   {
    "duration": 11,
    "start_time": "2021-12-12T05:34:06.399Z"
   },
   {
    "duration": 7153,
    "start_time": "2021-12-12T05:35:11.623Z"
   },
   {
    "duration": 12,
    "start_time": "2021-12-12T05:36:21.991Z"
   },
   {
    "duration": 18,
    "start_time": "2021-12-12T05:36:47.032Z"
   },
   {
    "duration": 1436,
    "start_time": "2021-12-12T05:39:22.801Z"
   },
   {
    "duration": 7,
    "start_time": "2021-12-12T05:39:52.030Z"
   },
   {
    "duration": 235,
    "start_time": "2021-12-12T05:40:37.830Z"
   },
   {
    "duration": 11,
    "start_time": "2021-12-12T05:40:52.517Z"
   },
   {
    "duration": 126,
    "start_time": "2021-12-12T05:44:40.205Z"
   },
   {
    "duration": 138,
    "start_time": "2021-12-12T05:44:45.797Z"
   },
   {
    "duration": 130,
    "start_time": "2021-12-12T05:44:54.973Z"
   },
   {
    "duration": 135,
    "start_time": "2021-12-12T05:45:11.294Z"
   },
   {
    "duration": 177,
    "start_time": "2021-12-12T05:46:04.373Z"
   },
   {
    "duration": 35,
    "start_time": "2021-12-12T05:46:11.877Z"
   },
   {
    "duration": 821,
    "start_time": "2021-12-12T06:08:17.100Z"
   },
   {
    "duration": 15,
    "start_time": "2021-12-12T06:08:17.923Z"
   },
   {
    "duration": 25,
    "start_time": "2021-12-12T06:08:17.944Z"
   },
   {
    "duration": 41,
    "start_time": "2021-12-12T06:08:17.971Z"
   },
   {
    "duration": 61,
    "start_time": "2021-12-12T06:08:18.015Z"
   },
   {
    "duration": 15,
    "start_time": "2021-12-12T06:08:18.079Z"
   },
   {
    "duration": 61,
    "start_time": "2021-12-12T06:08:18.098Z"
   },
   {
    "duration": 11,
    "start_time": "2021-12-12T06:08:18.161Z"
   },
   {
    "duration": 34,
    "start_time": "2021-12-12T06:08:18.175Z"
   },
   {
    "duration": 2304,
    "start_time": "2021-12-12T06:08:18.212Z"
   },
   {
    "duration": 21,
    "start_time": "2021-12-12T06:09:34.641Z"
   },
   {
    "duration": 118,
    "start_time": "2021-12-12T06:18:31.873Z"
   },
   {
    "duration": 471,
    "start_time": "2021-12-12T06:18:59.944Z"
   },
   {
    "duration": 446,
    "start_time": "2021-12-12T06:19:42.366Z"
   },
   {
    "duration": 193,
    "start_time": "2021-12-12T06:20:17.054Z"
   },
   {
    "duration": 10432,
    "start_time": "2021-12-12T06:20:27.150Z"
   },
   {
    "duration": 433,
    "start_time": "2021-12-12T06:22:29.430Z"
   },
   {
    "duration": 1446,
    "start_time": "2021-12-12T06:22:54.264Z"
   },
   {
    "duration": 13633,
    "start_time": "2021-12-12T06:23:02.189Z"
   },
   {
    "duration": 135,
    "start_time": "2021-12-12T06:23:53.581Z"
   },
   {
    "duration": 12224,
    "start_time": "2021-12-12T06:24:03.373Z"
   },
   {
    "duration": 499,
    "start_time": "2021-12-12T06:24:34.445Z"
   },
   {
    "duration": 27,
    "start_time": "2021-12-12T06:24:46.037Z"
   },
   {
    "duration": 152,
    "start_time": "2021-12-12T06:25:46.565Z"
   },
   {
    "duration": 559,
    "start_time": "2021-12-12T06:26:12.940Z"
   },
   {
    "duration": 12873,
    "start_time": "2021-12-12T06:26:29.773Z"
   },
   {
    "duration": 16,
    "start_time": "2021-12-12T06:26:56.654Z"
   },
   {
    "duration": 7,
    "start_time": "2021-12-12T06:27:34.517Z"
   },
   {
    "duration": 12,
    "start_time": "2021-12-12T06:27:56.060Z"
   },
   {
    "duration": 34,
    "start_time": "2021-12-12T06:28:49.676Z"
   },
   {
    "duration": 304,
    "start_time": "2021-12-12T06:33:26.668Z"
   },
   {
    "duration": 580,
    "start_time": "2021-12-12T06:34:15.700Z"
   },
   {
    "duration": 12217,
    "start_time": "2021-12-12T07:37:50.546Z"
   },
   {
    "duration": 14,
    "start_time": "2021-12-12T07:41:11.382Z"
   },
   {
    "duration": 21,
    "start_time": "2021-12-12T07:43:33.534Z"
   },
   {
    "duration": 1010,
    "start_time": "2021-12-12T07:44:20.032Z"
   },
   {
    "duration": 24,
    "start_time": "2021-12-12T07:44:21.045Z"
   },
   {
    "duration": 12,
    "start_time": "2021-12-12T07:44:21.072Z"
   },
   {
    "duration": 83,
    "start_time": "2021-12-12T07:44:21.087Z"
   },
   {
    "duration": 19,
    "start_time": "2021-12-12T07:44:21.172Z"
   },
   {
    "duration": 14,
    "start_time": "2021-12-12T07:44:21.194Z"
   },
   {
    "duration": 65,
    "start_time": "2021-12-12T07:44:21.211Z"
   },
   {
    "duration": 10,
    "start_time": "2021-12-12T07:44:21.279Z"
   },
   {
    "duration": 68,
    "start_time": "2021-12-12T07:44:21.293Z"
   },
   {
    "duration": 651,
    "start_time": "2021-12-12T07:44:21.364Z"
   },
   {
    "duration": 11983,
    "start_time": "2021-12-12T07:44:22.017Z"
   },
   {
    "duration": 14,
    "start_time": "2021-12-12T07:44:34.002Z"
   },
   {
    "duration": 45,
    "start_time": "2021-12-12T07:44:34.019Z"
   },
   {
    "duration": 24,
    "start_time": "2021-12-12T07:50:37.047Z"
   },
   {
    "duration": 47,
    "start_time": "2021-12-12T07:51:49.750Z"
   },
   {
    "duration": 39,
    "start_time": "2021-12-12T07:52:11.624Z"
   },
   {
    "duration": 38,
    "start_time": "2021-12-12T07:52:40.895Z"
   },
   {
    "duration": 54,
    "start_time": "2021-12-12T07:55:26.168Z"
   },
   {
    "duration": 459,
    "start_time": "2021-12-12T08:08:47.922Z"
   },
   {
    "duration": 535,
    "start_time": "2021-12-12T08:08:57.067Z"
   },
   {
    "duration": 907,
    "start_time": "2021-12-12T08:09:16.132Z"
   },
   {
    "duration": 15,
    "start_time": "2021-12-12T08:09:17.042Z"
   },
   {
    "duration": 19,
    "start_time": "2021-12-12T08:09:17.060Z"
   },
   {
    "duration": 44,
    "start_time": "2021-12-12T08:09:17.082Z"
   },
   {
    "duration": 48,
    "start_time": "2021-12-12T08:09:17.128Z"
   },
   {
    "duration": 12,
    "start_time": "2021-12-12T08:09:17.179Z"
   },
   {
    "duration": 18,
    "start_time": "2021-12-12T08:09:17.193Z"
   },
   {
    "duration": 51,
    "start_time": "2021-12-12T08:09:17.214Z"
   },
   {
    "duration": 33,
    "start_time": "2021-12-12T08:09:17.268Z"
   },
   {
    "duration": 679,
    "start_time": "2021-12-12T08:09:17.303Z"
   },
   {
    "duration": 12069,
    "start_time": "2021-12-12T08:09:17.985Z"
   },
   {
    "duration": 15,
    "start_time": "2021-12-12T08:09:30.059Z"
   },
   {
    "duration": 23,
    "start_time": "2021-12-12T08:09:30.076Z"
   },
   {
    "duration": 23,
    "start_time": "2021-12-12T08:09:30.101Z"
   },
   {
    "duration": 78,
    "start_time": "2021-12-12T08:09:30.127Z"
   },
   {
    "duration": 498,
    "start_time": "2021-12-12T08:09:30.207Z"
   },
   {
    "duration": 407,
    "start_time": "2021-12-12T08:10:21.141Z"
   },
   {
    "duration": 395,
    "start_time": "2021-12-12T08:11:53.044Z"
   },
   {
    "duration": 887,
    "start_time": "2021-12-12T08:12:07.909Z"
   },
   {
    "duration": 510,
    "start_time": "2021-12-12T08:12:59.908Z"
   },
   {
    "duration": 8,
    "start_time": "2021-12-12T08:14:10.404Z"
   },
   {
    "duration": 129,
    "start_time": "2021-12-12T08:19:19.315Z"
   },
   {
    "duration": 6473,
    "start_time": "2021-12-12T08:19:44.475Z"
   },
   {
    "duration": 6,
    "start_time": "2021-12-12T08:19:55.979Z"
   },
   {
    "duration": 8,
    "start_time": "2021-12-12T08:20:03.067Z"
   },
   {
    "duration": 8,
    "start_time": "2021-12-12T08:20:43.043Z"
   },
   {
    "duration": 395,
    "start_time": "2021-12-12T08:21:55.675Z"
   },
   {
    "duration": 390,
    "start_time": "2021-12-12T08:22:07.362Z"
   },
   {
    "duration": 428,
    "start_time": "2021-12-12T08:22:22.270Z"
   },
   {
    "duration": 3961,
    "start_time": "2021-12-12T08:26:35.898Z"
   },
   {
    "duration": 566,
    "start_time": "2021-12-12T08:34:14.865Z"
   },
   {
    "duration": 1130,
    "start_time": "2021-12-12T08:35:42.102Z"
   },
   {
    "duration": 1136,
    "start_time": "2021-12-12T08:36:23.565Z"
   },
   {
    "duration": 1646,
    "start_time": "2021-12-12T08:36:45.261Z"
   },
   {
    "duration": 5248,
    "start_time": "2021-12-12T08:37:01.637Z"
   },
   {
    "duration": 5234,
    "start_time": "2021-12-12T08:37:34.029Z"
   },
   {
    "duration": 473,
    "start_time": "2021-12-12T08:40:03.541Z"
   },
   {
    "duration": 446,
    "start_time": "2021-12-12T08:40:58.548Z"
   },
   {
    "duration": 480,
    "start_time": "2021-12-12T08:42:43.018Z"
   },
   {
    "duration": 4995,
    "start_time": "2021-12-12T08:44:46.867Z"
   },
   {
    "duration": 1071,
    "start_time": "2021-12-12T08:45:55.764Z"
   },
   {
    "duration": 5038,
    "start_time": "2021-12-12T08:46:09.354Z"
   },
   {
    "duration": 5164,
    "start_time": "2021-12-12T08:46:38.754Z"
   },
   {
    "duration": 5248,
    "start_time": "2021-12-12T08:47:29.923Z"
   },
   {
    "duration": 5449,
    "start_time": "2021-12-12T09:08:47.857Z"
   },
   {
    "duration": 592,
    "start_time": "2021-12-12T09:13:06.821Z"
   },
   {
    "duration": 5199,
    "start_time": "2021-12-12T09:13:37.012Z"
   },
   {
    "duration": 6164,
    "start_time": "2021-12-12T09:14:06.324Z"
   },
   {
    "duration": 5618,
    "start_time": "2021-12-12T09:23:27.812Z"
   },
   {
    "duration": 134,
    "start_time": "2021-12-12T09:28:35.682Z"
   },
   {
    "duration": 5420,
    "start_time": "2021-12-12T09:28:41.610Z"
   },
   {
    "duration": 846,
    "start_time": "2021-12-12T09:29:08.125Z"
   },
   {
    "duration": 15,
    "start_time": "2021-12-12T09:29:08.974Z"
   },
   {
    "duration": 20,
    "start_time": "2021-12-12T09:29:08.993Z"
   },
   {
    "duration": 64,
    "start_time": "2021-12-12T09:29:09.016Z"
   },
   {
    "duration": 19,
    "start_time": "2021-12-12T09:29:09.082Z"
   },
   {
    "duration": 12,
    "start_time": "2021-12-12T09:29:09.103Z"
   },
   {
    "duration": 59,
    "start_time": "2021-12-12T09:29:09.117Z"
   },
   {
    "duration": 9,
    "start_time": "2021-12-12T09:29:09.179Z"
   },
   {
    "duration": 69,
    "start_time": "2021-12-12T09:29:09.192Z"
   },
   {
    "duration": 634,
    "start_time": "2021-12-12T09:29:09.264Z"
   },
   {
    "duration": 12150,
    "start_time": "2021-12-12T09:29:09.900Z"
   },
   {
    "duration": 13,
    "start_time": "2021-12-12T09:29:22.059Z"
   },
   {
    "duration": 19,
    "start_time": "2021-12-12T09:29:22.074Z"
   },
   {
    "duration": 22,
    "start_time": "2021-12-12T09:29:22.096Z"
   },
   {
    "duration": 83,
    "start_time": "2021-12-12T09:29:22.120Z"
   },
   {
    "duration": 6293,
    "start_time": "2021-12-12T09:29:22.205Z"
   },
   {
    "duration": 206,
    "start_time": "2021-12-12T09:39:40.479Z"
   },
   {
    "duration": 6,
    "start_time": "2021-12-12T09:39:50.823Z"
   },
   {
    "duration": 5058,
    "start_time": "2021-12-12T09:39:55.988Z"
   },
   {
    "duration": 5167,
    "start_time": "2021-12-12T09:42:34.727Z"
   },
   {
    "duration": 5688,
    "start_time": "2021-12-12T09:42:43.106Z"
   },
   {
    "duration": 199,
    "start_time": "2021-12-12T09:47:51.176Z"
   },
   {
    "duration": 5131,
    "start_time": "2021-12-12T09:47:57.135Z"
   },
   {
    "duration": 5551,
    "start_time": "2021-12-12T09:48:46.072Z"
   },
   {
    "duration": 5854,
    "start_time": "2021-12-12T09:49:34.313Z"
   },
   {
    "duration": 5744,
    "start_time": "2021-12-12T09:50:13.560Z"
   },
   {
    "duration": 29,
    "start_time": "2021-12-12T09:58:19.692Z"
   },
   {
    "duration": 26,
    "start_time": "2021-12-12T10:00:59.356Z"
   },
   {
    "duration": 25,
    "start_time": "2021-12-12T10:01:26.508Z"
   },
   {
    "duration": 14,
    "start_time": "2021-12-12T10:07:59.286Z"
   },
   {
    "duration": 19,
    "start_time": "2021-12-12T10:09:21.867Z"
   },
   {
    "duration": 33,
    "start_time": "2021-12-12T10:13:05.698Z"
   },
   {
    "duration": 30,
    "start_time": "2021-12-12T10:13:25.746Z"
   },
   {
    "duration": 37,
    "start_time": "2021-12-12T10:14:44.754Z"
   },
   {
    "duration": 26,
    "start_time": "2021-12-12T10:15:31.395Z"
   },
   {
    "duration": 23,
    "start_time": "2021-12-12T10:15:41.385Z"
   },
   {
    "duration": 23,
    "start_time": "2021-12-12T10:16:57.417Z"
   },
   {
    "duration": 27,
    "start_time": "2021-12-12T10:19:06.177Z"
   },
   {
    "duration": 25,
    "start_time": "2021-12-12T10:19:35.065Z"
   },
   {
    "duration": 538,
    "start_time": "2021-12-12T10:21:47.296Z"
   },
   {
    "duration": 42,
    "start_time": "2021-12-12T10:22:03.353Z"
   },
   {
    "duration": 20,
    "start_time": "2021-12-12T10:25:43.832Z"
   },
   {
    "duration": 70,
    "start_time": "2021-12-12T10:26:19.408Z"
   },
   {
    "duration": 36,
    "start_time": "2021-12-12T10:26:34.968Z"
   },
   {
    "duration": 156,
    "start_time": "2021-12-12T10:32:58.652Z"
   },
   {
    "duration": 40,
    "start_time": "2021-12-12T10:37:17.814Z"
   },
   {
    "duration": 28,
    "start_time": "2021-12-12T10:37:48.472Z"
   },
   {
    "duration": 20,
    "start_time": "2021-12-12T10:45:47.996Z"
   },
   {
    "duration": 5452,
    "start_time": "2021-12-12T10:57:24.556Z"
   },
   {
    "duration": 26,
    "start_time": "2021-12-12T10:58:03.160Z"
   },
   {
    "duration": 88,
    "start_time": "2021-12-12T11:10:06.185Z"
   },
   {
    "duration": 85,
    "start_time": "2021-12-12T11:10:29.177Z"
   },
   {
    "duration": 64,
    "start_time": "2021-12-12T11:10:39.545Z"
   },
   {
    "duration": 12121,
    "start_time": "2021-12-12T11:11:28.934Z"
   },
   {
    "duration": 43,
    "start_time": "2021-12-12T11:12:14.199Z"
   },
   {
    "duration": 42,
    "start_time": "2021-12-12T11:12:52.127Z"
   },
   {
    "duration": 42,
    "start_time": "2021-12-12T11:13:42.294Z"
   },
   {
    "duration": 80,
    "start_time": "2021-12-12T11:16:43.781Z"
   },
   {
    "duration": 932,
    "start_time": "2021-12-12T11:17:00.716Z"
   },
   {
    "duration": 16,
    "start_time": "2021-12-12T11:17:01.652Z"
   },
   {
    "duration": 23,
    "start_time": "2021-12-12T11:17:01.671Z"
   },
   {
    "duration": 82,
    "start_time": "2021-12-12T11:17:01.698Z"
   },
   {
    "duration": 20,
    "start_time": "2021-12-12T11:17:01.783Z"
   },
   {
    "duration": 21,
    "start_time": "2021-12-12T11:17:01.806Z"
   },
   {
    "duration": 52,
    "start_time": "2021-12-12T11:17:01.830Z"
   },
   {
    "duration": 10,
    "start_time": "2021-12-12T11:17:01.886Z"
   },
   {
    "duration": 76,
    "start_time": "2021-12-12T11:17:01.900Z"
   },
   {
    "duration": 679,
    "start_time": "2021-12-12T11:17:01.980Z"
   },
   {
    "duration": 14691,
    "start_time": "2021-12-12T11:17:02.661Z"
   },
   {
    "duration": 16,
    "start_time": "2021-12-12T11:17:17.354Z"
   },
   {
    "duration": 20,
    "start_time": "2021-12-12T11:17:17.373Z"
   },
   {
    "duration": 63,
    "start_time": "2021-12-12T11:17:17.396Z"
   },
   {
    "duration": 108,
    "start_time": "2021-12-12T11:17:17.462Z"
   },
   {
    "duration": 10032,
    "start_time": "2021-12-12T11:17:17.573Z"
   },
   {
    "duration": 1494,
    "start_time": "2021-12-12T11:17:26.114Z"
   },
   {
    "duration": 1489,
    "start_time": "2021-12-12T11:17:26.120Z"
   },
   {
    "duration": 1482,
    "start_time": "2021-12-12T11:17:26.129Z"
   },
   {
    "duration": 1478,
    "start_time": "2021-12-12T11:17:26.134Z"
   },
   {
    "duration": 1471,
    "start_time": "2021-12-12T11:17:26.143Z"
   },
   {
    "duration": 1467,
    "start_time": "2021-12-12T11:17:26.148Z"
   },
   {
    "duration": 926,
    "start_time": "2021-12-12T11:18:16.346Z"
   },
   {
    "duration": 15,
    "start_time": "2021-12-12T11:18:17.275Z"
   },
   {
    "duration": 31,
    "start_time": "2021-12-12T11:18:17.293Z"
   },
   {
    "duration": 75,
    "start_time": "2021-12-12T11:18:17.327Z"
   },
   {
    "duration": 25,
    "start_time": "2021-12-12T11:18:17.404Z"
   },
   {
    "duration": 18,
    "start_time": "2021-12-12T11:18:17.460Z"
   },
   {
    "duration": 21,
    "start_time": "2021-12-12T11:18:17.481Z"
   },
   {
    "duration": 9,
    "start_time": "2021-12-12T11:18:17.506Z"
   },
   {
    "duration": 45,
    "start_time": "2021-12-12T11:18:17.560Z"
   },
   {
    "duration": 662,
    "start_time": "2021-12-12T11:18:17.608Z"
   },
   {
    "duration": 12432,
    "start_time": "2021-12-12T11:18:18.273Z"
   },
   {
    "duration": 14,
    "start_time": "2021-12-12T11:18:30.708Z"
   },
   {
    "duration": 42,
    "start_time": "2021-12-12T11:18:30.725Z"
   },
   {
    "duration": 32,
    "start_time": "2021-12-12T11:18:30.770Z"
   },
   {
    "duration": 123,
    "start_time": "2021-12-12T11:18:30.805Z"
   },
   {
    "duration": 12321,
    "start_time": "2021-12-12T11:18:30.931Z"
   },
   {
    "duration": 1499,
    "start_time": "2021-12-12T11:18:41.757Z"
   },
   {
    "duration": 1496,
    "start_time": "2021-12-12T11:18:41.762Z"
   },
   {
    "duration": 1492,
    "start_time": "2021-12-12T11:18:41.768Z"
   },
   {
    "duration": 1484,
    "start_time": "2021-12-12T11:18:41.778Z"
   },
   {
    "duration": 1482,
    "start_time": "2021-12-12T11:18:41.782Z"
   },
   {
    "duration": 1479,
    "start_time": "2021-12-12T11:18:41.787Z"
   },
   {
    "duration": 9862,
    "start_time": "2021-12-12T11:19:28.368Z"
   },
   {
    "duration": 1147,
    "start_time": "2021-12-12T11:27:26.691Z"
   },
   {
    "duration": 16,
    "start_time": "2021-12-12T11:27:27.841Z"
   },
   {
    "duration": 31,
    "start_time": "2021-12-12T11:27:27.859Z"
   },
   {
    "duration": 70,
    "start_time": "2021-12-12T11:27:27.892Z"
   },
   {
    "duration": 29,
    "start_time": "2021-12-12T11:27:27.965Z"
   },
   {
    "duration": 14,
    "start_time": "2021-12-12T11:27:27.996Z"
   },
   {
    "duration": 63,
    "start_time": "2021-12-12T11:27:28.013Z"
   },
   {
    "duration": 13,
    "start_time": "2021-12-12T11:27:28.080Z"
   },
   {
    "duration": 85,
    "start_time": "2021-12-12T11:27:28.097Z"
   },
   {
    "duration": 820,
    "start_time": "2021-12-12T11:27:28.185Z"
   },
   {
    "duration": 15781,
    "start_time": "2021-12-12T11:27:29.008Z"
   },
   {
    "duration": 14,
    "start_time": "2021-12-12T11:27:44.792Z"
   },
   {
    "duration": 20,
    "start_time": "2021-12-12T11:27:44.809Z"
   },
   {
    "duration": 58,
    "start_time": "2021-12-12T11:27:44.832Z"
   },
   {
    "duration": 111,
    "start_time": "2021-12-12T11:27:44.893Z"
   },
   {
    "duration": 8750,
    "start_time": "2021-12-12T11:27:45.007Z"
   },
   {
    "duration": 1826,
    "start_time": "2021-12-12T11:27:51.935Z"
   },
   {
    "duration": 1825,
    "start_time": "2021-12-12T11:27:51.938Z"
   },
   {
    "duration": 1824,
    "start_time": "2021-12-12T11:27:51.941Z"
   },
   {
    "duration": 1825,
    "start_time": "2021-12-12T11:27:51.943Z"
   },
   {
    "duration": 1825,
    "start_time": "2021-12-12T11:27:51.946Z"
   },
   {
    "duration": 1824,
    "start_time": "2021-12-12T11:27:51.949Z"
   },
   {
    "duration": 21026,
    "start_time": "2021-12-12T11:29:18.455Z"
   },
   {
    "duration": 215,
    "start_time": "2021-12-12T11:30:48.686Z"
   },
   {
    "duration": 19834,
    "start_time": "2021-12-12T11:30:58.061Z"
   },
   {
    "duration": 20592,
    "start_time": "2021-12-12T11:32:12.016Z"
   },
   {
    "duration": 133,
    "start_time": "2021-12-12T11:33:35.222Z"
   },
   {
    "duration": 232,
    "start_time": "2021-12-12T11:34:05.425Z"
   },
   {
    "duration": 1774,
    "start_time": "2021-12-12T11:34:11.541Z"
   },
   {
    "duration": 11995,
    "start_time": "2021-12-12T11:34:47.414Z"
   },
   {
    "duration": 16261,
    "start_time": "2021-12-12T11:35:34.297Z"
   },
   {
    "duration": 23409,
    "start_time": "2021-12-12T11:36:41.286Z"
   },
   {
    "duration": 30279,
    "start_time": "2021-12-12T11:37:29.567Z"
   },
   {
    "duration": 52,
    "start_time": "2021-12-12T11:38:24.493Z"
   },
   {
    "duration": 18228,
    "start_time": "2021-12-12T11:38:41.325Z"
   },
   {
    "duration": 1198,
    "start_time": "2021-12-12T11:42:47.231Z"
   },
   {
    "duration": 30,
    "start_time": "2021-12-12T11:42:48.433Z"
   },
   {
    "duration": 21,
    "start_time": "2021-12-12T11:42:48.466Z"
   },
   {
    "duration": 78,
    "start_time": "2021-12-12T11:42:48.490Z"
   },
   {
    "duration": 31,
    "start_time": "2021-12-12T11:42:48.571Z"
   },
   {
    "duration": 19,
    "start_time": "2021-12-12T11:42:48.605Z"
   },
   {
    "duration": 19,
    "start_time": "2021-12-12T11:42:48.659Z"
   },
   {
    "duration": 10,
    "start_time": "2021-12-12T11:42:48.681Z"
   },
   {
    "duration": 85,
    "start_time": "2021-12-12T11:42:48.694Z"
   },
   {
    "duration": 669,
    "start_time": "2021-12-12T11:42:48.782Z"
   },
   {
    "duration": 14543,
    "start_time": "2021-12-12T11:42:49.454Z"
   },
   {
    "duration": 18,
    "start_time": "2021-12-12T11:43:04.000Z"
   },
   {
    "duration": 49,
    "start_time": "2021-12-12T11:43:04.021Z"
   },
   {
    "duration": 24,
    "start_time": "2021-12-12T11:43:04.072Z"
   },
   {
    "duration": 83,
    "start_time": "2021-12-12T11:43:04.099Z"
   },
   {
    "duration": 502,
    "start_time": "2021-12-12T11:43:04.184Z"
   },
   {
    "duration": 1855,
    "start_time": "2021-12-12T11:43:02.833Z"
   },
   {
    "duration": 1854,
    "start_time": "2021-12-12T11:43:02.836Z"
   },
   {
    "duration": 1849,
    "start_time": "2021-12-12T11:43:02.842Z"
   },
   {
    "duration": 1847,
    "start_time": "2021-12-12T11:43:02.846Z"
   },
   {
    "duration": 1844,
    "start_time": "2021-12-12T11:43:02.850Z"
   },
   {
    "duration": 1843,
    "start_time": "2021-12-12T11:43:02.853Z"
   },
   {
    "duration": 949,
    "start_time": "2021-12-12T11:47:06.720Z"
   },
   {
    "duration": 16,
    "start_time": "2021-12-12T11:47:07.672Z"
   },
   {
    "duration": 22,
    "start_time": "2021-12-12T11:47:07.691Z"
   },
   {
    "duration": 72,
    "start_time": "2021-12-12T11:47:07.716Z"
   },
   {
    "duration": 18,
    "start_time": "2021-12-12T11:47:07.791Z"
   },
   {
    "duration": 12,
    "start_time": "2021-12-12T11:47:07.811Z"
   },
   {
    "duration": 51,
    "start_time": "2021-12-12T11:47:07.825Z"
   },
   {
    "duration": 11,
    "start_time": "2021-12-12T11:47:07.879Z"
   },
   {
    "duration": 77,
    "start_time": "2021-12-12T11:47:07.893Z"
   },
   {
    "duration": 645,
    "start_time": "2021-12-12T11:47:07.973Z"
   },
   {
    "duration": 12819,
    "start_time": "2021-12-12T11:47:08.622Z"
   },
   {
    "duration": 22,
    "start_time": "2021-12-12T11:47:21.444Z"
   },
   {
    "duration": 22,
    "start_time": "2021-12-12T11:47:21.469Z"
   },
   {
    "duration": 25,
    "start_time": "2021-12-12T11:47:21.494Z"
   },
   {
    "duration": 139,
    "start_time": "2021-12-12T11:47:21.522Z"
   },
   {
    "duration": 492,
    "start_time": "2021-12-12T11:47:21.665Z"
   },
   {
    "duration": 1864,
    "start_time": "2021-12-12T11:47:20.296Z"
   },
   {
    "duration": 1861,
    "start_time": "2021-12-12T11:47:20.300Z"
   },
   {
    "duration": 1858,
    "start_time": "2021-12-12T11:47:20.305Z"
   },
   {
    "duration": 1857,
    "start_time": "2021-12-12T11:47:20.308Z"
   },
   {
    "duration": 1855,
    "start_time": "2021-12-12T11:47:20.311Z"
   },
   {
    "duration": 1854,
    "start_time": "2021-12-12T11:47:20.314Z"
   },
   {
    "duration": 6,
    "start_time": "2021-12-12T11:49:47.497Z"
   },
   {
    "duration": 137,
    "start_time": "2021-12-12T11:50:45.217Z"
   },
   {
    "duration": 6350,
    "start_time": "2021-12-12T11:51:08.217Z"
   },
   {
    "duration": 5568,
    "start_time": "2021-12-12T11:52:31.108Z"
   },
   {
    "duration": 6502,
    "start_time": "2021-12-12T11:53:00.275Z"
   },
   {
    "duration": 845,
    "start_time": "2021-12-12T11:53:32.201Z"
   },
   {
    "duration": 16,
    "start_time": "2021-12-12T11:53:33.049Z"
   },
   {
    "duration": 19,
    "start_time": "2021-12-12T11:53:33.069Z"
   },
   {
    "duration": 78,
    "start_time": "2021-12-12T11:53:33.091Z"
   },
   {
    "duration": 20,
    "start_time": "2021-12-12T11:53:33.173Z"
   },
   {
    "duration": 15,
    "start_time": "2021-12-12T11:53:33.195Z"
   },
   {
    "duration": 63,
    "start_time": "2021-12-12T11:53:33.213Z"
   },
   {
    "duration": 13,
    "start_time": "2021-12-12T11:53:33.282Z"
   },
   {
    "duration": 74,
    "start_time": "2021-12-12T11:53:33.299Z"
   },
   {
    "duration": 663,
    "start_time": "2021-12-12T11:53:33.376Z"
   },
   {
    "duration": 12471,
    "start_time": "2021-12-12T11:53:34.042Z"
   },
   {
    "duration": 15,
    "start_time": "2021-12-12T11:53:46.515Z"
   },
   {
    "duration": 29,
    "start_time": "2021-12-12T11:53:46.533Z"
   },
   {
    "duration": 26,
    "start_time": "2021-12-12T11:53:46.565Z"
   },
   {
    "duration": 89,
    "start_time": "2021-12-12T11:53:46.593Z"
   },
   {
    "duration": 7136,
    "start_time": "2021-12-12T11:53:46.684Z"
   },
   {
    "duration": 55,
    "start_time": "2021-12-12T11:53:53.822Z"
   },
   {
    "duration": 159,
    "start_time": "2021-12-12T11:53:53.879Z"
   },
   {
    "duration": 1876,
    "start_time": "2021-12-12T11:53:52.165Z"
   },
   {
    "duration": 1874,
    "start_time": "2021-12-12T11:53:52.169Z"
   },
   {
    "duration": 1873,
    "start_time": "2021-12-12T11:53:52.172Z"
   },
   {
    "duration": 1867,
    "start_time": "2021-12-12T11:53:52.181Z"
   },
   {
    "duration": 441,
    "start_time": "2021-12-12T11:55:00.931Z"
   },
   {
    "duration": 26,
    "start_time": "2021-12-12T11:55:38.258Z"
   },
   {
    "duration": 41,
    "start_time": "2021-12-12T11:55:42.186Z"
   },
   {
    "duration": 23,
    "start_time": "2021-12-12T11:55:44.810Z"
   },
   {
    "duration": 24,
    "start_time": "2021-12-12T11:55:48.010Z"
   },
   {
    "duration": 1048,
    "start_time": "2021-12-12T11:56:35.963Z"
   },
   {
    "duration": 15,
    "start_time": "2021-12-12T11:56:37.014Z"
   },
   {
    "duration": 37,
    "start_time": "2021-12-12T11:56:37.035Z"
   },
   {
    "duration": 45,
    "start_time": "2021-12-12T11:56:37.075Z"
   },
   {
    "duration": 66,
    "start_time": "2021-12-12T11:56:37.122Z"
   },
   {
    "duration": 16,
    "start_time": "2021-12-12T11:56:37.190Z"
   },
   {
    "duration": 63,
    "start_time": "2021-12-12T11:56:37.211Z"
   },
   {
    "duration": 10,
    "start_time": "2021-12-12T11:56:37.278Z"
   },
   {
    "duration": 69,
    "start_time": "2021-12-12T11:56:37.290Z"
   },
   {
    "duration": 722,
    "start_time": "2021-12-12T11:56:37.363Z"
   },
   {
    "duration": 13552,
    "start_time": "2021-12-12T11:56:38.088Z"
   },
   {
    "duration": 29,
    "start_time": "2021-12-12T11:56:51.643Z"
   },
   {
    "duration": 23,
    "start_time": "2021-12-12T11:56:51.676Z"
   },
   {
    "duration": 60,
    "start_time": "2021-12-12T11:56:51.702Z"
   },
   {
    "duration": 111,
    "start_time": "2021-12-12T11:56:51.766Z"
   },
   {
    "duration": 6802,
    "start_time": "2021-12-12T11:56:51.880Z"
   },
   {
    "duration": 36,
    "start_time": "2021-12-12T11:56:58.685Z"
   },
   {
    "duration": 54,
    "start_time": "2021-12-12T11:56:58.725Z"
   },
   {
    "duration": 41,
    "start_time": "2021-12-12T11:56:58.781Z"
   },
   {
    "duration": 57,
    "start_time": "2021-12-12T11:56:58.825Z"
   },
   {
    "duration": 24,
    "start_time": "2021-12-12T11:56:58.884Z"
   },
   {
    "duration": 969,
    "start_time": "2021-12-12T12:08:38.551Z"
   },
   {
    "duration": 15,
    "start_time": "2021-12-12T12:08:39.523Z"
   },
   {
    "duration": 38,
    "start_time": "2021-12-12T12:08:39.542Z"
   },
   {
    "duration": 44,
    "start_time": "2021-12-12T12:08:39.583Z"
   },
   {
    "duration": 55,
    "start_time": "2021-12-12T12:08:39.629Z"
   },
   {
    "duration": 17,
    "start_time": "2021-12-12T12:08:39.687Z"
   },
   {
    "duration": 62,
    "start_time": "2021-12-12T12:08:39.707Z"
   },
   {
    "duration": 12,
    "start_time": "2021-12-12T12:08:39.775Z"
   },
   {
    "duration": 33,
    "start_time": "2021-12-12T12:08:39.789Z"
   },
   {
    "duration": 764,
    "start_time": "2021-12-12T12:08:39.825Z"
   },
   {
    "duration": 13671,
    "start_time": "2021-12-12T12:08:40.592Z"
   },
   {
    "duration": 21,
    "start_time": "2021-12-12T12:08:54.266Z"
   },
   {
    "duration": 21,
    "start_time": "2021-12-12T12:08:54.290Z"
   },
   {
    "duration": 66,
    "start_time": "2021-12-12T12:08:54.313Z"
   },
   {
    "duration": 111,
    "start_time": "2021-12-12T12:08:54.382Z"
   },
   {
    "duration": 7750,
    "start_time": "2021-12-12T12:08:54.495Z"
   },
   {
    "duration": 62,
    "start_time": "2021-12-12T12:09:02.248Z"
   },
   {
    "duration": 28,
    "start_time": "2021-12-12T12:09:02.313Z"
   },
   {
    "duration": 61,
    "start_time": "2021-12-12T12:09:02.361Z"
   },
   {
    "duration": 52,
    "start_time": "2021-12-12T12:09:02.425Z"
   },
   {
    "duration": 24,
    "start_time": "2021-12-12T12:09:02.480Z"
   },
   {
    "duration": 679,
    "start_time": "2021-12-13T06:23:51.313Z"
   },
   {
    "duration": 12,
    "start_time": "2021-12-13T06:23:51.994Z"
   },
   {
    "duration": 15,
    "start_time": "2021-12-13T06:23:52.008Z"
   },
   {
    "duration": 36,
    "start_time": "2021-12-13T06:23:52.025Z"
   },
   {
    "duration": 11,
    "start_time": "2021-12-13T06:23:52.063Z"
   },
   {
    "duration": 9,
    "start_time": "2021-12-13T06:23:52.076Z"
   },
   {
    "duration": 13,
    "start_time": "2021-12-13T06:23:52.086Z"
   },
   {
    "duration": 44,
    "start_time": "2021-12-13T06:23:52.101Z"
   },
   {
    "duration": 20,
    "start_time": "2021-12-13T06:23:52.148Z"
   },
   {
    "duration": 489,
    "start_time": "2021-12-13T06:23:52.170Z"
   },
   {
    "duration": 7274,
    "start_time": "2021-12-13T06:23:52.661Z"
   },
   {
    "duration": 15,
    "start_time": "2021-12-13T06:23:59.936Z"
   },
   {
    "duration": 12,
    "start_time": "2021-12-13T06:23:59.953Z"
   },
   {
    "duration": 17,
    "start_time": "2021-12-13T06:23:59.966Z"
   },
   {
    "duration": 88,
    "start_time": "2021-12-13T06:23:59.984Z"
   },
   {
    "duration": 4207,
    "start_time": "2021-12-13T06:24:00.074Z"
   },
   {
    "duration": 23,
    "start_time": "2021-12-13T06:24:04.283Z"
   },
   {
    "duration": 13,
    "start_time": "2021-12-13T06:24:04.307Z"
   },
   {
    "duration": 46,
    "start_time": "2021-12-13T06:24:04.321Z"
   },
   {
    "duration": 13,
    "start_time": "2021-12-13T06:24:04.369Z"
   },
   {
    "duration": 14,
    "start_time": "2021-12-13T06:24:04.384Z"
   },
   {
    "duration": 365,
    "start_time": "2021-12-13T10:15:19.620Z"
   },
   {
    "duration": 797,
    "start_time": "2021-12-13T10:15:28.215Z"
   },
   {
    "duration": 16,
    "start_time": "2021-12-13T10:15:29.015Z"
   },
   {
    "duration": 54,
    "start_time": "2021-12-13T10:15:29.034Z"
   },
   {
    "duration": 12,
    "start_time": "2021-12-13T10:15:29.092Z"
   },
   {
    "duration": 68,
    "start_time": "2021-12-13T10:15:29.107Z"
   },
   {
    "duration": 21,
    "start_time": "2021-12-13T10:15:29.177Z"
   },
   {
    "duration": 13,
    "start_time": "2021-12-13T10:15:29.201Z"
   },
   {
    "duration": 60,
    "start_time": "2021-12-13T10:15:29.217Z"
   },
   {
    "duration": 11,
    "start_time": "2021-12-13T10:15:29.280Z"
   },
   {
    "duration": 42,
    "start_time": "2021-12-13T10:15:29.294Z"
   },
   {
    "duration": 703,
    "start_time": "2021-12-13T10:15:29.339Z"
   },
   {
    "duration": 12870,
    "start_time": "2021-12-13T10:15:30.044Z"
   },
   {
    "duration": 15,
    "start_time": "2021-12-13T10:15:42.917Z"
   },
   {
    "duration": 47,
    "start_time": "2021-12-13T10:15:42.935Z"
   },
   {
    "duration": 30,
    "start_time": "2021-12-13T10:15:42.984Z"
   },
   {
    "duration": 107,
    "start_time": "2021-12-13T10:15:43.017Z"
   },
   {
    "duration": 6076,
    "start_time": "2021-12-13T10:15:43.127Z"
   },
   {
    "duration": 68,
    "start_time": "2021-12-13T10:15:49.206Z"
   },
   {
    "duration": 21,
    "start_time": "2021-12-13T10:15:49.276Z"
   },
   {
    "duration": 56,
    "start_time": "2021-12-13T10:15:49.300Z"
   },
   {
    "duration": 25,
    "start_time": "2021-12-13T10:15:49.358Z"
   },
   {
    "duration": 23,
    "start_time": "2021-12-13T10:15:49.386Z"
   },
   {
    "duration": 37,
    "start_time": "2021-12-13T10:22:53.398Z"
   },
   {
    "duration": 814,
    "start_time": "2021-12-13T10:23:09.518Z"
   },
   {
    "duration": 19,
    "start_time": "2021-12-13T10:23:10.335Z"
   },
   {
    "duration": 39,
    "start_time": "2021-12-13T10:23:10.358Z"
   },
   {
    "duration": 13,
    "start_time": "2021-12-13T10:23:10.400Z"
   },
   {
    "duration": 114,
    "start_time": "2021-12-13T10:23:10.416Z"
   },
   {
    "duration": 3,
    "start_time": "2021-12-13T10:23:10.532Z"
   },
   {
    "duration": 44,
    "start_time": "2021-12-13T10:23:10.539Z"
   },
   {
    "duration": 22,
    "start_time": "2021-12-13T10:23:10.589Z"
   },
   {
    "duration": 55,
    "start_time": "2021-12-13T10:23:10.615Z"
   },
   {
    "duration": 42,
    "start_time": "2021-12-13T10:23:10.673Z"
   },
   {
    "duration": 696,
    "start_time": "2021-12-13T10:23:10.717Z"
   },
   {
    "duration": 13434,
    "start_time": "2021-12-13T10:23:11.416Z"
   },
   {
    "duration": 29,
    "start_time": "2021-12-13T10:23:24.853Z"
   },
   {
    "duration": 405,
    "start_time": "2021-12-13T10:23:24.885Z"
   },
   {
    "duration": 1480,
    "start_time": "2021-12-13T10:23:23.813Z"
   },
   {
    "duration": 1478,
    "start_time": "2021-12-13T10:23:23.817Z"
   },
   {
    "duration": 1477,
    "start_time": "2021-12-13T10:23:23.821Z"
   },
   {
    "duration": 1471,
    "start_time": "2021-12-13T10:23:23.829Z"
   },
   {
    "duration": 1469,
    "start_time": "2021-12-13T10:23:23.833Z"
   },
   {
    "duration": 1466,
    "start_time": "2021-12-13T10:23:23.838Z"
   },
   {
    "duration": 1460,
    "start_time": "2021-12-13T10:23:23.846Z"
   },
   {
    "duration": 1458,
    "start_time": "2021-12-13T10:23:23.850Z"
   },
   {
    "duration": 73,
    "start_time": "2021-12-13T10:23:59.723Z"
   },
   {
    "duration": 71,
    "start_time": "2021-12-13T10:30:12.184Z"
   },
   {
    "duration": 837,
    "start_time": "2021-12-13T10:30:24.504Z"
   },
   {
    "duration": 16,
    "start_time": "2021-12-13T10:30:25.344Z"
   },
   {
    "duration": 25,
    "start_time": "2021-12-13T10:30:25.363Z"
   },
   {
    "duration": 18,
    "start_time": "2021-12-13T10:30:25.391Z"
   },
   {
    "duration": 99,
    "start_time": "2021-12-13T10:30:25.412Z"
   },
   {
    "duration": 3,
    "start_time": "2021-12-13T10:30:25.513Z"
   },
   {
    "duration": 29,
    "start_time": "2021-12-13T10:30:25.518Z"
   },
   {
    "duration": 27,
    "start_time": "2021-12-13T10:30:25.570Z"
   },
   {
    "duration": 12,
    "start_time": "2021-12-13T10:30:25.600Z"
   },
   {
    "duration": 74,
    "start_time": "2021-12-13T10:30:25.615Z"
   },
   {
    "duration": 713,
    "start_time": "2021-12-13T10:30:25.692Z"
   },
   {
    "duration": 14359,
    "start_time": "2021-12-13T10:30:26.409Z"
   },
   {
    "duration": 16,
    "start_time": "2021-12-13T10:30:40.772Z"
   },
   {
    "duration": 417,
    "start_time": "2021-12-13T10:30:40.792Z"
   },
   {
    "duration": 1545,
    "start_time": "2021-12-13T10:30:39.667Z"
   },
   {
    "duration": 1542,
    "start_time": "2021-12-13T10:30:39.672Z"
   },
   {
    "duration": 1539,
    "start_time": "2021-12-13T10:30:39.678Z"
   },
   {
    "duration": 1537,
    "start_time": "2021-12-13T10:30:39.683Z"
   },
   {
    "duration": 1535,
    "start_time": "2021-12-13T10:30:39.687Z"
   },
   {
    "duration": 1530,
    "start_time": "2021-12-13T10:30:39.694Z"
   },
   {
    "duration": 1529,
    "start_time": "2021-12-13T10:30:39.698Z"
   },
   {
    "duration": 1527,
    "start_time": "2021-12-13T10:30:39.702Z"
   },
   {
    "duration": 68,
    "start_time": "2021-12-13T10:30:49.906Z"
   },
   {
    "duration": 894,
    "start_time": "2021-12-13T10:58:30.184Z"
   },
   {
    "duration": 334,
    "start_time": "2021-12-13T10:58:41.518Z"
   },
   {
    "duration": 85,
    "start_time": "2021-12-13T10:58:55.295Z"
   },
   {
    "duration": 78,
    "start_time": "2021-12-13T11:03:35.704Z"
   },
   {
    "duration": 147,
    "start_time": "2021-12-13T11:04:30.960Z"
   },
   {
    "duration": 106,
    "start_time": "2021-12-13T11:04:47.079Z"
   },
   {
    "duration": 101,
    "start_time": "2021-12-13T11:05:48.439Z"
   },
   {
    "duration": 132,
    "start_time": "2021-12-13T11:06:35.469Z"
   },
   {
    "duration": 63,
    "start_time": "2021-12-13T11:09:13.397Z"
   },
   {
    "duration": 89,
    "start_time": "2021-12-13T11:09:17.236Z"
   },
   {
    "duration": 62,
    "start_time": "2021-12-13T11:13:05.563Z"
   },
   {
    "duration": 78,
    "start_time": "2021-12-13T11:13:56.124Z"
   },
   {
    "duration": 81,
    "start_time": "2021-12-13T11:15:49.140Z"
   },
   {
    "duration": 100,
    "start_time": "2021-12-13T11:17:46.269Z"
   },
   {
    "duration": 78,
    "start_time": "2021-12-13T11:18:16.045Z"
   },
   {
    "duration": 106,
    "start_time": "2021-12-13T11:18:35.538Z"
   },
   {
    "duration": 115,
    "start_time": "2021-12-13T11:18:53.312Z"
   },
   {
    "duration": 90,
    "start_time": "2021-12-13T11:19:52.333Z"
   },
   {
    "duration": 50,
    "start_time": "2021-12-13T11:20:30.869Z"
   },
   {
    "duration": 24,
    "start_time": "2021-12-13T11:26:16.815Z"
   },
   {
    "duration": 524,
    "start_time": "2021-12-13T11:28:01.129Z"
   },
   {
    "duration": 25,
    "start_time": "2021-12-13T11:28:09.386Z"
   },
   {
    "duration": 884,
    "start_time": "2021-12-13T11:28:17.261Z"
   },
   {
    "duration": 16,
    "start_time": "2021-12-13T11:28:18.147Z"
   },
   {
    "duration": 35,
    "start_time": "2021-12-13T11:28:18.166Z"
   },
   {
    "duration": 25,
    "start_time": "2021-12-13T11:28:18.203Z"
   },
   {
    "duration": 67,
    "start_time": "2021-12-13T11:28:18.230Z"
   },
   {
    "duration": 89,
    "start_time": "2021-12-13T11:28:18.300Z"
   },
   {
    "duration": 4,
    "start_time": "2021-12-13T11:28:18.393Z"
   },
   {
    "duration": 50,
    "start_time": "2021-12-13T11:28:18.403Z"
   },
   {
    "duration": 34,
    "start_time": "2021-12-13T11:28:18.456Z"
   },
   {
    "duration": 11,
    "start_time": "2021-12-13T11:28:18.493Z"
   },
   {
    "duration": 62,
    "start_time": "2021-12-13T11:28:18.507Z"
   },
   {
    "duration": 698,
    "start_time": "2021-12-13T11:28:18.571Z"
   },
   {
    "duration": 2848,
    "start_time": "2021-12-13T11:28:19.271Z"
   },
   {
    "duration": 16,
    "start_time": "2021-12-13T11:28:22.121Z"
   },
   {
    "duration": 532,
    "start_time": "2021-12-13T11:28:22.140Z"
   },
   {
    "duration": 1559,
    "start_time": "2021-12-13T11:28:21.115Z"
   },
   {
    "duration": 1556,
    "start_time": "2021-12-13T11:28:21.120Z"
   },
   {
    "duration": 1552,
    "start_time": "2021-12-13T11:28:21.125Z"
   },
   {
    "duration": 1551,
    "start_time": "2021-12-13T11:28:21.131Z"
   },
   {
    "duration": 1544,
    "start_time": "2021-12-13T11:28:21.140Z"
   },
   {
    "duration": 1540,
    "start_time": "2021-12-13T11:28:21.145Z"
   },
   {
    "duration": 1538,
    "start_time": "2021-12-13T11:28:21.149Z"
   },
   {
    "duration": 1536,
    "start_time": "2021-12-13T11:28:21.153Z"
   },
   {
    "duration": 92,
    "start_time": "2021-12-13T11:29:00.206Z"
   },
   {
    "duration": 126,
    "start_time": "2021-12-13T11:29:17.943Z"
   },
   {
    "duration": 87,
    "start_time": "2021-12-13T11:35:06.247Z"
   },
   {
    "duration": 927,
    "start_time": "2021-12-13T11:35:25.140Z"
   },
   {
    "duration": 24,
    "start_time": "2021-12-13T11:35:26.070Z"
   },
   {
    "duration": 27,
    "start_time": "2021-12-13T11:35:26.098Z"
   },
   {
    "duration": 51,
    "start_time": "2021-12-13T11:35:26.129Z"
   },
   {
    "duration": 87,
    "start_time": "2021-12-13T11:35:26.183Z"
   },
   {
    "duration": 107,
    "start_time": "2021-12-13T11:35:26.273Z"
   },
   {
    "duration": 3,
    "start_time": "2021-12-13T11:35:26.382Z"
   },
   {
    "duration": 18,
    "start_time": "2021-12-13T11:35:26.391Z"
   },
   {
    "duration": 69,
    "start_time": "2021-12-13T11:35:26.413Z"
   },
   {
    "duration": 11,
    "start_time": "2021-12-13T11:35:26.484Z"
   },
   {
    "duration": 72,
    "start_time": "2021-12-13T11:35:26.497Z"
   },
   {
    "duration": 712,
    "start_time": "2021-12-13T11:35:26.572Z"
   },
   {
    "duration": 4425,
    "start_time": "2021-12-13T11:35:27.287Z"
   },
   {
    "duration": 16,
    "start_time": "2021-12-13T11:35:31.715Z"
   },
   {
    "duration": 411,
    "start_time": "2021-12-13T11:35:31.733Z"
   },
   {
    "duration": 1549,
    "start_time": "2021-12-13T11:35:30.597Z"
   },
   {
    "duration": 1545,
    "start_time": "2021-12-13T11:35:30.603Z"
   },
   {
    "duration": 1537,
    "start_time": "2021-12-13T11:35:30.612Z"
   },
   {
    "duration": 1533,
    "start_time": "2021-12-13T11:35:30.618Z"
   },
   {
    "duration": 1526,
    "start_time": "2021-12-13T11:35:30.626Z"
   },
   {
    "duration": 1522,
    "start_time": "2021-12-13T11:35:30.632Z"
   },
   {
    "duration": 1518,
    "start_time": "2021-12-13T11:35:30.637Z"
   },
   {
    "duration": 1511,
    "start_time": "2021-12-13T11:35:30.646Z"
   },
   {
    "duration": 95,
    "start_time": "2021-12-13T11:36:35.015Z"
   },
   {
    "duration": 36,
    "start_time": "2021-12-13T11:41:01.289Z"
   },
   {
    "duration": 45,
    "start_time": "2021-12-13T11:41:51.333Z"
   },
   {
    "duration": 50,
    "start_time": "2021-12-13T11:43:04.805Z"
   },
   {
    "duration": 49,
    "start_time": "2021-12-13T11:44:15.063Z"
   },
   {
    "duration": 62,
    "start_time": "2021-12-13T11:45:23.080Z"
   },
   {
    "duration": 130,
    "start_time": "2021-12-13T11:47:43.720Z"
   },
   {
    "duration": 97,
    "start_time": "2021-12-13T11:48:20.825Z"
   },
   {
    "duration": 96,
    "start_time": "2021-12-13T11:50:02.311Z"
   },
   {
    "duration": 62,
    "start_time": "2021-12-13T11:50:54.022Z"
   },
   {
    "duration": 59,
    "start_time": "2021-12-13T11:53:54.225Z"
   },
   {
    "duration": 64,
    "start_time": "2021-12-13T11:54:51.625Z"
   },
   {
    "duration": 56,
    "start_time": "2021-12-13T11:59:39.659Z"
   },
   {
    "duration": 20,
    "start_time": "2021-12-13T12:01:01.533Z"
   },
   {
    "duration": 20,
    "start_time": "2021-12-13T12:02:03.487Z"
   },
   {
    "duration": 19,
    "start_time": "2021-12-13T12:03:04.736Z"
   },
   {
    "duration": 18,
    "start_time": "2021-12-13T12:03:56.481Z"
   },
   {
    "duration": 140,
    "start_time": "2021-12-13T13:05:51.953Z"
   },
   {
    "duration": 938,
    "start_time": "2021-12-13T13:07:14.932Z"
   },
   {
    "duration": 27,
    "start_time": "2021-12-13T13:07:15.874Z"
   },
   {
    "duration": 22,
    "start_time": "2021-12-13T13:07:15.904Z"
   },
   {
    "duration": 40,
    "start_time": "2021-12-13T13:07:15.929Z"
   },
   {
    "duration": 65,
    "start_time": "2021-12-13T13:07:15.972Z"
   },
   {
    "duration": 42,
    "start_time": "2021-12-13T13:07:16.041Z"
   },
   {
    "duration": 144,
    "start_time": "2021-12-13T13:07:16.086Z"
   },
   {
    "duration": 97,
    "start_time": "2021-12-13T13:07:16.234Z"
   },
   {
    "duration": 79,
    "start_time": "2021-12-13T13:07:16.334Z"
   },
   {
    "duration": 86,
    "start_time": "2021-12-13T13:07:16.417Z"
   },
   {
    "duration": 21,
    "start_time": "2021-12-13T13:07:16.506Z"
   },
   {
    "duration": 62,
    "start_time": "2021-12-13T13:07:16.530Z"
   },
   {
    "duration": 29,
    "start_time": "2021-12-13T13:07:16.595Z"
   },
   {
    "duration": 52,
    "start_time": "2021-12-13T13:07:16.627Z"
   },
   {
    "duration": 5,
    "start_time": "2021-12-13T13:07:16.683Z"
   },
   {
    "duration": 23,
    "start_time": "2021-12-13T13:07:16.691Z"
   },
   {
    "duration": 50,
    "start_time": "2021-12-13T13:07:16.717Z"
   },
   {
    "duration": 43,
    "start_time": "2021-12-13T13:07:16.770Z"
   },
   {
    "duration": 789,
    "start_time": "2021-12-13T13:07:16.817Z"
   },
   {
    "duration": 3208,
    "start_time": "2021-12-13T13:07:17.608Z"
   },
   {
    "duration": 17,
    "start_time": "2021-12-13T13:07:20.819Z"
   },
   {
    "duration": 405,
    "start_time": "2021-12-13T13:07:20.839Z"
   },
   {
    "duration": 1577,
    "start_time": "2021-12-13T13:07:19.671Z"
   },
   {
    "duration": 1574,
    "start_time": "2021-12-13T13:07:19.676Z"
   },
   {
    "duration": 1567,
    "start_time": "2021-12-13T13:07:19.685Z"
   },
   {
    "duration": 1564,
    "start_time": "2021-12-13T13:07:19.690Z"
   },
   {
    "duration": 1561,
    "start_time": "2021-12-13T13:07:19.695Z"
   },
   {
    "duration": 1554,
    "start_time": "2021-12-13T13:07:19.704Z"
   },
   {
    "duration": 1550,
    "start_time": "2021-12-13T13:07:19.710Z"
   },
   {
    "duration": 1544,
    "start_time": "2021-12-13T13:07:19.718Z"
   },
   {
    "duration": 21,
    "start_time": "2021-12-13T13:09:09.933Z"
   },
   {
    "duration": 908,
    "start_time": "2021-12-13T13:12:12.006Z"
   },
   {
    "duration": 15,
    "start_time": "2021-12-13T13:12:12.916Z"
   },
   {
    "duration": 60,
    "start_time": "2021-12-13T13:12:12.934Z"
   },
   {
    "duration": 14,
    "start_time": "2021-12-13T13:12:12.997Z"
   },
   {
    "duration": 69,
    "start_time": "2021-12-13T13:12:13.014Z"
   },
   {
    "duration": 19,
    "start_time": "2021-12-13T13:12:13.086Z"
   },
   {
    "duration": 123,
    "start_time": "2021-12-13T13:12:13.108Z"
   },
   {
    "duration": 81,
    "start_time": "2021-12-13T13:12:13.235Z"
   },
   {
    "duration": 89,
    "start_time": "2021-12-13T13:12:13.319Z"
   },
   {
    "duration": 83,
    "start_time": "2021-12-13T13:12:13.411Z"
   },
   {
    "duration": 20,
    "start_time": "2021-12-13T13:12:13.497Z"
   },
   {
    "duration": 78,
    "start_time": "2021-12-13T13:12:13.520Z"
   },
   {
    "duration": 43,
    "start_time": "2021-12-13T13:12:13.600Z"
   },
   {
    "duration": 37,
    "start_time": "2021-12-13T13:12:13.645Z"
   },
   {
    "duration": 48,
    "start_time": "2021-12-13T13:12:13.685Z"
   },
   {
    "duration": 17,
    "start_time": "2021-12-13T13:12:13.736Z"
   },
   {
    "duration": 31,
    "start_time": "2021-12-13T13:12:13.756Z"
   },
   {
    "duration": 54,
    "start_time": "2021-12-13T13:12:13.790Z"
   },
   {
    "duration": 766,
    "start_time": "2021-12-13T13:12:13.846Z"
   },
   {
    "duration": 3517,
    "start_time": "2021-12-13T13:12:14.615Z"
   },
   {
    "duration": 41,
    "start_time": "2021-12-13T13:12:18.134Z"
   },
   {
    "duration": 29,
    "start_time": "2021-12-13T13:12:18.179Z"
   },
   {
    "duration": 24,
    "start_time": "2021-12-13T13:12:18.212Z"
   },
   {
    "duration": 140,
    "start_time": "2021-12-13T13:12:18.240Z"
   },
   {
    "duration": 6004,
    "start_time": "2021-12-13T13:12:18.383Z"
   },
   {
    "duration": 34,
    "start_time": "2021-12-13T13:12:24.391Z"
   },
   {
    "duration": 57,
    "start_time": "2021-12-13T13:12:24.427Z"
   },
   {
    "duration": 35,
    "start_time": "2021-12-13T13:12:24.487Z"
   },
   {
    "duration": 64,
    "start_time": "2021-12-13T13:12:24.526Z"
   },
   {
    "duration": 26,
    "start_time": "2021-12-13T13:12:24.593Z"
   },
   {
    "duration": 801,
    "start_time": "2021-12-13T16:37:01.404Z"
   },
   {
    "duration": 15,
    "start_time": "2021-12-13T16:37:02.208Z"
   },
   {
    "duration": 36,
    "start_time": "2021-12-13T16:37:02.226Z"
   },
   {
    "duration": 12,
    "start_time": "2021-12-13T16:37:02.265Z"
   },
   {
    "duration": 40,
    "start_time": "2021-12-13T16:37:02.280Z"
   },
   {
    "duration": 44,
    "start_time": "2021-12-13T16:37:02.323Z"
   },
   {
    "duration": 122,
    "start_time": "2021-12-13T16:37:02.370Z"
   },
   {
    "duration": 78,
    "start_time": "2021-12-13T16:37:02.495Z"
   },
   {
    "duration": 84,
    "start_time": "2021-12-13T16:37:02.576Z"
   },
   {
    "duration": 53,
    "start_time": "2021-12-13T16:37:02.663Z"
   },
   {
    "duration": 43,
    "start_time": "2021-12-13T16:37:02.718Z"
   },
   {
    "duration": 22,
    "start_time": "2021-12-13T16:37:02.764Z"
   },
   {
    "duration": 17,
    "start_time": "2021-12-13T16:37:02.789Z"
   },
   {
    "duration": 17,
    "start_time": "2021-12-13T16:37:02.808Z"
   },
   {
    "duration": 21,
    "start_time": "2021-12-13T16:37:02.860Z"
   },
   {
    "duration": 20,
    "start_time": "2021-12-13T16:37:02.884Z"
   },
   {
    "duration": 10,
    "start_time": "2021-12-13T16:37:02.906Z"
   },
   {
    "duration": 35,
    "start_time": "2021-12-13T16:37:02.960Z"
   },
   {
    "duration": 640,
    "start_time": "2021-12-13T16:37:02.997Z"
   },
   {
    "duration": 2974,
    "start_time": "2021-12-13T16:37:03.640Z"
   },
   {
    "duration": 16,
    "start_time": "2021-12-13T16:37:06.617Z"
   },
   {
    "duration": 41,
    "start_time": "2021-12-13T16:37:06.636Z"
   },
   {
    "duration": 24,
    "start_time": "2021-12-13T16:37:06.683Z"
   },
   {
    "duration": 111,
    "start_time": "2021-12-13T16:37:06.710Z"
   },
   {
    "duration": 5518,
    "start_time": "2021-12-13T16:37:06.824Z"
   },
   {
    "duration": 31,
    "start_time": "2021-12-13T16:37:12.359Z"
   },
   {
    "duration": 19,
    "start_time": "2021-12-13T16:37:12.392Z"
   },
   {
    "duration": 48,
    "start_time": "2021-12-13T16:37:12.413Z"
   },
   {
    "duration": 22,
    "start_time": "2021-12-13T16:37:12.463Z"
   },
   {
    "duration": 21,
    "start_time": "2021-12-13T16:37:12.487Z"
   },
   {
    "duration": 853,
    "start_time": "2021-12-13T16:38:03.964Z"
   },
   {
    "duration": 15,
    "start_time": "2021-12-13T16:38:04.820Z"
   },
   {
    "duration": 27,
    "start_time": "2021-12-13T16:38:04.837Z"
   },
   {
    "duration": 11,
    "start_time": "2021-12-13T16:38:04.867Z"
   },
   {
    "duration": 81,
    "start_time": "2021-12-13T16:38:04.880Z"
   },
   {
    "duration": 13,
    "start_time": "2021-12-13T16:38:04.963Z"
   },
   {
    "duration": 119,
    "start_time": "2021-12-13T16:38:04.978Z"
   },
   {
    "duration": 90,
    "start_time": "2021-12-13T16:38:05.102Z"
   },
   {
    "duration": 84,
    "start_time": "2021-12-13T16:38:05.195Z"
   },
   {
    "duration": 53,
    "start_time": "2021-12-13T16:38:05.281Z"
   },
   {
    "duration": 18,
    "start_time": "2021-12-13T16:38:05.359Z"
   },
   {
    "duration": 22,
    "start_time": "2021-12-13T16:38:05.379Z"
   },
   {
    "duration": 18,
    "start_time": "2021-12-13T16:38:05.403Z"
   },
   {
    "duration": 51,
    "start_time": "2021-12-13T16:38:05.423Z"
   },
   {
    "duration": 21,
    "start_time": "2021-12-13T16:38:05.476Z"
   },
   {
    "duration": 17,
    "start_time": "2021-12-13T16:38:05.499Z"
   },
   {
    "duration": 43,
    "start_time": "2021-12-13T16:38:05.518Z"
   },
   {
    "duration": 35,
    "start_time": "2021-12-13T16:38:05.563Z"
   },
   {
    "duration": 685,
    "start_time": "2021-12-13T16:38:05.600Z"
   },
   {
    "duration": 2843,
    "start_time": "2021-12-13T16:38:06.288Z"
   },
   {
    "duration": 29,
    "start_time": "2021-12-13T16:38:09.134Z"
   },
   {
    "duration": 25,
    "start_time": "2021-12-13T16:38:09.165Z"
   },
   {
    "duration": 24,
    "start_time": "2021-12-13T16:38:09.195Z"
   },
   {
    "duration": 67,
    "start_time": "2021-12-13T16:38:09.221Z"
   },
   {
    "duration": 5905,
    "start_time": "2021-12-13T16:38:09.290Z"
   },
   {
    "duration": 34,
    "start_time": "2021-12-13T16:38:15.197Z"
   },
   {
    "duration": 41,
    "start_time": "2021-12-13T16:38:15.234Z"
   },
   {
    "duration": 30,
    "start_time": "2021-12-13T16:38:15.277Z"
   },
   {
    "duration": 50,
    "start_time": "2021-12-13T16:38:15.309Z"
   },
   {
    "duration": 23,
    "start_time": "2021-12-13T16:38:15.362Z"
   },
   {
    "duration": 46,
    "start_time": "2021-12-13T16:38:23.672Z"
   },
   {
    "duration": 2911,
    "start_time": "2021-12-13T16:39:59.184Z"
   },
   {
    "duration": 127,
    "start_time": "2021-12-13T16:40:22.240Z"
   },
   {
    "duration": 3621,
    "start_time": "2021-12-13T16:40:55.256Z"
   },
   {
    "duration": 4954,
    "start_time": "2021-12-13T16:41:21.344Z"
   },
   {
    "duration": 2845,
    "start_time": "2021-12-13T16:42:00.768Z"
   },
   {
    "duration": 2906,
    "start_time": "2021-12-13T16:42:51.016Z"
   },
   {
    "duration": 3046,
    "start_time": "2021-12-13T16:43:14.047Z"
   },
   {
    "duration": 4686,
    "start_time": "2021-12-13T16:43:28.631Z"
   },
   {
    "duration": 2879,
    "start_time": "2021-12-13T16:43:57.688Z"
   },
   {
    "duration": 16,
    "start_time": "2021-12-13T16:47:59.998Z"
   },
   {
    "duration": 52,
    "start_time": "2021-12-13T16:48:16.606Z"
   },
   {
    "duration": 31,
    "start_time": "2021-12-13T16:50:19.862Z"
   },
   {
    "duration": 49,
    "start_time": "2021-12-13T16:51:36.438Z"
   },
   {
    "duration": 541,
    "start_time": "2021-12-13T16:52:01.487Z"
   },
   {
    "duration": 51,
    "start_time": "2021-12-13T16:52:36.302Z"
   },
   {
    "duration": 29,
    "start_time": "2021-12-13T16:52:46.566Z"
   },
   {
    "duration": 855,
    "start_time": "2021-12-13T16:53:13.193Z"
   },
   {
    "duration": 22,
    "start_time": "2021-12-13T16:53:14.051Z"
   },
   {
    "duration": 21,
    "start_time": "2021-12-13T16:53:14.076Z"
   },
   {
    "duration": 12,
    "start_time": "2021-12-13T16:53:14.099Z"
   },
   {
    "duration": 79,
    "start_time": "2021-12-13T16:53:14.113Z"
   },
   {
    "duration": 13,
    "start_time": "2021-12-13T16:53:14.194Z"
   },
   {
    "duration": 152,
    "start_time": "2021-12-13T16:53:14.209Z"
   },
   {
    "duration": 62,
    "start_time": "2021-12-13T16:53:14.367Z"
   },
   {
    "duration": 83,
    "start_time": "2021-12-13T16:53:14.432Z"
   },
   {
    "duration": 73,
    "start_time": "2021-12-13T16:53:14.517Z"
   },
   {
    "duration": 18,
    "start_time": "2021-12-13T16:53:14.592Z"
   },
   {
    "duration": 54,
    "start_time": "2021-12-13T16:53:14.613Z"
   },
   {
    "duration": 21,
    "start_time": "2021-12-13T16:53:14.670Z"
   },
   {
    "duration": 20,
    "start_time": "2021-12-13T16:53:14.694Z"
   },
   {
    "duration": 61,
    "start_time": "2021-12-13T16:53:14.717Z"
   },
   {
    "duration": 19,
    "start_time": "2021-12-13T16:53:14.781Z"
   },
   {
    "duration": 10,
    "start_time": "2021-12-13T16:53:14.802Z"
   },
   {
    "duration": 76,
    "start_time": "2021-12-13T16:53:14.814Z"
   },
   {
    "duration": 659,
    "start_time": "2021-12-13T16:53:14.893Z"
   },
   {
    "duration": 2948,
    "start_time": "2021-12-13T16:53:15.559Z"
   },
   {
    "duration": 16,
    "start_time": "2021-12-13T16:53:18.509Z"
   },
   {
    "duration": 37,
    "start_time": "2021-12-13T16:53:18.527Z"
   },
   {
    "duration": 42,
    "start_time": "2021-12-13T16:53:18.569Z"
   },
   {
    "duration": 54,
    "start_time": "2021-12-13T16:53:18.614Z"
   },
   {
    "duration": 40,
    "start_time": "2021-12-13T16:53:18.670Z"
   },
   {
    "duration": 6323,
    "start_time": "2021-12-13T16:53:18.712Z"
   },
   {
    "duration": 52,
    "start_time": "2021-12-13T16:53:25.038Z"
   },
   {
    "duration": 20,
    "start_time": "2021-12-13T16:53:25.093Z"
   },
   {
    "duration": 54,
    "start_time": "2021-12-13T16:53:25.115Z"
   },
   {
    "duration": 24,
    "start_time": "2021-12-13T16:53:25.171Z"
   },
   {
    "duration": 27,
    "start_time": "2021-12-13T16:53:25.198Z"
   },
   {
    "duration": 34,
    "start_time": "2021-12-13T16:53:39.114Z"
   },
   {
    "duration": 44,
    "start_time": "2021-12-13T16:53:56.650Z"
   },
   {
    "duration": 90,
    "start_time": "2021-12-13T16:55:16.209Z"
   },
   {
    "duration": 7,
    "start_time": "2021-12-13T17:04:53.255Z"
   },
   {
    "duration": 4662,
    "start_time": "2021-12-13T17:05:10.602Z"
   },
   {
    "duration": 21,
    "start_time": "2021-12-13T17:05:22.008Z"
   },
   {
    "duration": 21,
    "start_time": "2021-12-13T17:05:28.752Z"
   },
   {
    "duration": 29,
    "start_time": "2021-12-13T17:05:33.968Z"
   },
   {
    "duration": 22,
    "start_time": "2021-12-13T17:05:37.072Z"
   },
   {
    "duration": 22,
    "start_time": "2021-12-13T17:05:40.600Z"
   },
   {
    "duration": 6,
    "start_time": "2021-12-13T17:06:57.439Z"
   },
   {
    "duration": 7,
    "start_time": "2021-12-13T17:07:05.342Z"
   },
   {
    "duration": 718,
    "start_time": "2021-12-13T17:13:57.934Z"
   },
   {
    "duration": 10,
    "start_time": "2021-12-13T17:14:26.959Z"
   },
   {
    "duration": 1114,
    "start_time": "2021-12-13T17:16:28.454Z"
   },
   {
    "duration": 3540,
    "start_time": "2021-12-13T17:18:38.086Z"
   },
   {
    "duration": 3517,
    "start_time": "2021-12-13T17:19:12.822Z"
   },
   {
    "duration": 3757,
    "start_time": "2021-12-13T17:20:00.311Z"
   },
   {
    "duration": 5290,
    "start_time": "2021-12-13T17:20:35.607Z"
   },
   {
    "duration": 4406,
    "start_time": "2021-12-13T17:20:55.535Z"
   },
   {
    "duration": 3703,
    "start_time": "2021-12-13T17:21:55.535Z"
   },
   {
    "duration": 3450,
    "start_time": "2021-12-13T17:22:21.047Z"
   },
   {
    "duration": 3675,
    "start_time": "2021-12-13T17:23:15.686Z"
   },
   {
    "duration": 3078,
    "start_time": "2021-12-13T17:24:15.951Z"
   },
   {
    "duration": 858,
    "start_time": "2021-12-13T17:30:37.246Z"
   },
   {
    "duration": 15,
    "start_time": "2021-12-13T17:30:38.107Z"
   },
   {
    "duration": 20,
    "start_time": "2021-12-13T17:30:38.125Z"
   },
   {
    "duration": 13,
    "start_time": "2021-12-13T17:30:38.159Z"
   },
   {
    "duration": 41,
    "start_time": "2021-12-13T17:30:38.174Z"
   },
   {
    "duration": 47,
    "start_time": "2021-12-13T17:30:38.219Z"
   },
   {
    "duration": 114,
    "start_time": "2021-12-13T17:30:38.269Z"
   },
   {
    "duration": 79,
    "start_time": "2021-12-13T17:30:38.385Z"
   },
   {
    "duration": 64,
    "start_time": "2021-12-13T17:30:38.466Z"
   },
   {
    "duration": 79,
    "start_time": "2021-12-13T17:30:38.532Z"
   },
   {
    "duration": 18,
    "start_time": "2021-12-13T17:30:38.614Z"
   },
   {
    "duration": 18,
    "start_time": "2021-12-13T17:30:38.660Z"
   },
   {
    "duration": 20,
    "start_time": "2021-12-13T17:30:38.680Z"
   },
   {
    "duration": 19,
    "start_time": "2021-12-13T17:30:38.702Z"
   },
   {
    "duration": 54,
    "start_time": "2021-12-13T17:30:38.723Z"
   },
   {
    "duration": 19,
    "start_time": "2021-12-13T17:30:38.780Z"
   },
   {
    "duration": 9,
    "start_time": "2021-12-13T17:30:38.801Z"
   },
   {
    "duration": 37,
    "start_time": "2021-12-13T17:30:38.859Z"
   },
   {
    "duration": 670,
    "start_time": "2021-12-13T17:30:38.898Z"
   },
   {
    "duration": 2943,
    "start_time": "2021-12-13T17:30:39.570Z"
   },
   {
    "duration": 15,
    "start_time": "2021-12-13T17:30:42.515Z"
   },
   {
    "duration": 38,
    "start_time": "2021-12-13T17:30:42.532Z"
   },
   {
    "duration": 29,
    "start_time": "2021-12-13T17:30:42.573Z"
   },
   {
    "duration": 59,
    "start_time": "2021-12-13T17:30:42.605Z"
   },
   {
    "duration": 99,
    "start_time": "2021-12-13T17:30:42.666Z"
   },
   {
    "duration": 3672,
    "start_time": "2021-12-13T17:30:42.768Z"
   },
   {
    "duration": 4728,
    "start_time": "2021-12-13T17:30:46.443Z"
   },
   {
    "duration": 26,
    "start_time": "2021-12-13T17:30:51.174Z"
   },
   {
    "duration": 58,
    "start_time": "2021-12-13T17:30:51.203Z"
   },
   {
    "duration": 28,
    "start_time": "2021-12-13T17:30:51.265Z"
   },
   {
    "duration": 21,
    "start_time": "2021-12-13T17:30:51.296Z"
   },
   {
    "duration": 54,
    "start_time": "2021-12-13T17:30:51.320Z"
   },
   {
    "duration": 701,
    "start_time": "2022-06-21T05:00:30.596Z"
   },
   {
    "duration": 16,
    "start_time": "2022-06-21T05:00:31.298Z"
   },
   {
    "duration": 31,
    "start_time": "2022-06-21T05:00:31.319Z"
   },
   {
    "duration": 12,
    "start_time": "2022-06-21T05:00:31.352Z"
   },
   {
    "duration": 58,
    "start_time": "2022-06-21T05:00:31.366Z"
   },
   {
    "duration": 22,
    "start_time": "2022-06-21T05:00:31.426Z"
   },
   {
    "duration": 95,
    "start_time": "2022-06-21T05:00:31.450Z"
   },
   {
    "duration": 46,
    "start_time": "2022-06-21T05:00:31.547Z"
   },
   {
    "duration": 56,
    "start_time": "2022-06-21T05:00:31.596Z"
   },
   {
    "duration": 31,
    "start_time": "2022-06-21T05:00:31.654Z"
   },
   {
    "duration": 15,
    "start_time": "2022-06-21T05:00:31.686Z"
   },
   {
    "duration": 12,
    "start_time": "2022-06-21T05:00:31.727Z"
   },
   {
    "duration": 40,
    "start_time": "2022-06-21T05:00:31.741Z"
   },
   {
    "duration": 30,
    "start_time": "2022-06-21T05:00:31.782Z"
   },
   {
    "duration": 32,
    "start_time": "2022-06-21T05:00:31.814Z"
   },
   {
    "duration": 27,
    "start_time": "2022-06-21T05:00:31.848Z"
   },
   {
    "duration": 22,
    "start_time": "2022-06-21T05:00:31.877Z"
   },
   {
    "duration": 46,
    "start_time": "2022-06-21T05:00:31.901Z"
   },
   {
    "duration": 309,
    "start_time": "2022-06-21T05:00:31.949Z"
   },
   {
    "duration": 1245,
    "start_time": "2022-06-21T05:00:32.260Z"
   },
   {
    "duration": 24,
    "start_time": "2022-06-21T05:00:33.507Z"
   },
   {
    "duration": 23,
    "start_time": "2022-06-21T05:00:33.532Z"
   },
   {
    "duration": 17,
    "start_time": "2022-06-21T05:00:33.557Z"
   },
   {
    "duration": 24,
    "start_time": "2022-06-21T05:00:33.576Z"
   },
   {
    "duration": 69,
    "start_time": "2022-06-21T05:00:33.601Z"
   },
   {
    "duration": 2542,
    "start_time": "2022-06-21T05:00:33.672Z"
   },
   {
    "duration": 2650,
    "start_time": "2022-06-21T05:00:36.218Z"
   },
   {
    "duration": 13,
    "start_time": "2022-06-21T05:00:38.869Z"
   },
   {
    "duration": 77,
    "start_time": "2022-06-21T05:00:38.884Z"
   },
   {
    "duration": 34,
    "start_time": "2022-06-21T05:00:38.963Z"
   },
   {
    "duration": 14,
    "start_time": "2022-06-21T05:00:38.999Z"
   },
   {
    "duration": 22,
    "start_time": "2022-06-21T05:00:39.014Z"
   },
   {
    "duration": 432,
    "start_time": "2022-06-21T05:05:32.171Z"
   },
   {
    "duration": 17,
    "start_time": "2022-06-21T05:05:32.605Z"
   },
   {
    "duration": 20,
    "start_time": "2022-06-21T05:05:32.624Z"
   },
   {
    "duration": 14,
    "start_time": "2022-06-21T05:05:32.645Z"
   },
   {
    "duration": 36,
    "start_time": "2022-06-21T05:05:32.660Z"
   },
   {
    "duration": 12,
    "start_time": "2022-06-21T05:05:32.698Z"
   },
   {
    "duration": 69,
    "start_time": "2022-06-21T05:05:32.712Z"
   },
   {
    "duration": 59,
    "start_time": "2022-06-21T05:05:32.783Z"
   },
   {
    "duration": 34,
    "start_time": "2022-06-21T05:05:32.844Z"
   },
   {
    "duration": 62,
    "start_time": "2022-06-21T05:05:32.880Z"
   },
   {
    "duration": 12,
    "start_time": "2022-06-21T05:05:32.943Z"
   },
   {
    "duration": 14,
    "start_time": "2022-06-21T05:05:32.956Z"
   },
   {
    "duration": 12,
    "start_time": "2022-06-21T05:05:32.971Z"
   },
   {
    "duration": 14,
    "start_time": "2022-06-21T05:05:32.985Z"
   },
   {
    "duration": 37,
    "start_time": "2022-06-21T05:05:33.000Z"
   },
   {
    "duration": 13,
    "start_time": "2022-06-21T05:05:33.038Z"
   },
   {
    "duration": 6,
    "start_time": "2022-06-21T05:05:33.052Z"
   },
   {
    "duration": 19,
    "start_time": "2022-06-21T05:05:33.059Z"
   },
   {
    "duration": 326,
    "start_time": "2022-06-21T05:05:33.079Z"
   },
   {
    "duration": 1241,
    "start_time": "2022-06-21T05:05:33.407Z"
   },
   {
    "duration": 14,
    "start_time": "2022-06-21T05:05:34.650Z"
   },
   {
    "duration": 12,
    "start_time": "2022-06-21T05:05:34.665Z"
   },
   {
    "duration": 19,
    "start_time": "2022-06-21T05:05:34.679Z"
   },
   {
    "duration": 42,
    "start_time": "2022-06-21T05:05:34.700Z"
   },
   {
    "duration": 57,
    "start_time": "2022-06-21T05:05:34.744Z"
   },
   {
    "duration": 2557,
    "start_time": "2022-06-21T05:05:34.803Z"
   },
   {
    "duration": 2748,
    "start_time": "2022-06-21T05:05:37.361Z"
   },
   {
    "duration": 14,
    "start_time": "2022-06-21T05:05:40.127Z"
   },
   {
    "duration": 13,
    "start_time": "2022-06-21T05:05:40.143Z"
   },
   {
    "duration": 22,
    "start_time": "2022-06-21T05:05:40.158Z"
   },
   {
    "duration": 15,
    "start_time": "2022-06-21T05:05:40.181Z"
   },
   {
    "duration": 42,
    "start_time": "2022-06-21T05:05:40.198Z"
   }
  ],
  "kernelspec": {
   "display_name": "Python 3 (ipykernel)",
   "language": "python",
   "name": "python3"
  },
  "language_info": {
   "codemirror_mode": {
    "name": "ipython",
    "version": 3
   },
   "file_extension": ".py",
   "mimetype": "text/x-python",
   "name": "python",
   "nbconvert_exporter": "python",
   "pygments_lexer": "ipython3",
   "version": "3.9.5"
  },
  "toc": {
   "base_numbering": 1,
   "nav_menu": {
    "height": "211px",
    "width": "217px"
   },
   "number_sections": true,
   "sideBar": true,
   "skip_h1_title": true,
   "title_cell": "Table of Contents",
   "title_sidebar": "Contents",
   "toc_cell": false,
   "toc_position": {},
   "toc_section_display": true,
   "toc_window_display": true
  }
 },
 "nbformat": 4,
 "nbformat_minor": 2
}
